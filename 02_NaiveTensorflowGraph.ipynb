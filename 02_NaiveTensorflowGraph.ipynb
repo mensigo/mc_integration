{
 "cells": [
  {
   "cell_type": "code",
   "execution_count": 1,
   "id": "defensive-question",
   "metadata": {
    "ExecuteTime": {
     "end_time": "2022-06-19T19:03:25.429035Z",
     "start_time": "2022-06-19T19:03:22.651462Z"
    }
   },
   "outputs": [],
   "source": [
    "import os\n",
    "import time\n",
    "import math\n",
    "from datetime import datetime\n",
    "\n",
    "import numpy as np\n",
    "import pandas as pd\n",
    "import scipy as sp\n",
    "from tqdm import tqdm\n",
    "from functools import partial\n",
    "\n",
    "import tensorflow as tf\n",
    "import tensorflow_probability as tfp\n",
    "\n",
    "import matplotlib.pyplot as plt\n",
    "%matplotlib inline"
   ]
  },
  {
   "cell_type": "code",
   "execution_count": 2,
   "id": "compressed-jacket",
   "metadata": {
    "ExecuteTime": {
     "end_time": "2022-06-19T19:03:25.434022Z",
     "start_time": "2022-06-19T19:03:25.430033Z"
    }
   },
   "outputs": [],
   "source": [
    "os.environ[\"CUDA_VISIBLE_DEVICES\"] = \"-1\""
   ]
  },
  {
   "cell_type": "code",
   "execution_count": 3,
   "id": "synthetic-beatles",
   "metadata": {
    "ExecuteTime": {
     "end_time": "2022-06-19T19:03:25.476908Z",
     "start_time": "2022-06-19T19:03:25.435021Z"
    }
   },
   "outputs": [
    {
     "name": "stdout",
     "output_type": "stream",
     "text": [
      "WARNING:tensorflow:From C:\\TMP\\ipykernel_9664\\337460670.py:1: is_gpu_available (from tensorflow.python.framework.test_util) is deprecated and will be removed in a future version.\n",
      "Instructions for updating:\n",
      "Use `tf.config.list_physical_devices('GPU')` instead.\n"
     ]
    },
    {
     "data": {
      "text/plain": [
       "False"
      ]
     },
     "execution_count": 3,
     "metadata": {},
     "output_type": "execute_result"
    }
   ],
   "source": [
    "tf.test.is_gpu_available()"
   ]
  },
  {
   "cell_type": "code",
   "execution_count": 4,
   "id": "reflected-rogers",
   "metadata": {
    "ExecuteTime": {
     "end_time": "2022-06-19T19:03:25.483889Z",
     "start_time": "2022-06-19T19:03:25.478902Z"
    }
   },
   "outputs": [],
   "source": [
    "def variance_weighted_result(means, stddevs):\n",
    "    \"\"\" Computes weighted mean and stddev of given means and\n",
    "        stddevs arrays, using Inverse-variance weighting\n",
    "    \"\"\"\n",
    "    assert np.size(means) == np.size(stddevs)\n",
    "    assert means.shape == stddevs.shape\n",
    "    variance = 1./np.sum(1./stddevs**2, axis=-1)\n",
    "    mean = np.sum(means/(stddevs**2), axis=-1)\n",
    "    mean *= variance\n",
    "    return mean, np.sqrt(variance)"
   ]
  },
  {
   "cell_type": "code",
   "execution_count": 5,
   "id": "latter-rolling",
   "metadata": {
    "ExecuteTime": {
     "end_time": "2022-06-19T19:03:33.338888Z",
     "start_time": "2022-06-19T19:03:33.330909Z"
    }
   },
   "outputs": [],
   "source": [
    "def compute_stats(values):\n",
    "    mean = sum(values) / len(values)\n",
    "    var_unb = sum((v - mean) ** 2 for v in values) / (len(values) - 1)\n",
    "    return mean, math.sqrt(var_unb)\n",
    "\n",
    "\n",
    "def compute_stats_np(values):\n",
    "    mean = np.mean(values)\n",
    "    var_unb = np.sum((values - mean) ** 2) / (len(values) - 1)\n",
    "    return mean, math.sqrt(var_unb)\n",
    "\n",
    "\n",
    "@tf.function(input_signature=[tf.TensorSpec(shape=None, dtype=tf.float64)], jit_compile=True)\n",
    "def compute_stats_tf(values):\n",
    "    print('compute_stats_tf :: tracing..')\n",
    "    mean = tf.reduce_mean(values, axis=-1)\n",
    "    sum_2 = tf.reduce_sum((values - mean) ** 2, axis=-1)\n",
    "    return mean, sum_2"
   ]
  },
  {
   "cell_type": "code",
   "execution_count": 7,
   "id": "indonesian-companion",
   "metadata": {
    "ExecuteTime": {
     "end_time": "2022-06-19T19:03:44.368399Z",
     "start_time": "2022-06-19T19:03:44.363412Z"
    }
   },
   "outputs": [
    {
     "data": {
      "text/plain": [
       "(<tf.Tensor: shape=(), dtype=float64, numpy=0.5008677268703706>,\n",
       " <tf.Tensor: shape=(), dtype=float64, numpy=842.9940952691483>)"
      ]
     },
     "execution_count": 7,
     "metadata": {},
     "output_type": "execute_result"
    }
   ],
   "source": [
    "compute_stats_tf(tf.random.uniform(shape=(10000,), dtype=tf.float64))"
   ]
  },
  {
   "cell_type": "code",
   "execution_count": 8,
   "id": "timely-synthesis",
   "metadata": {
    "ExecuteTime": {
     "end_time": "2022-06-19T19:03:47.173898Z",
     "start_time": "2022-06-19T19:03:47.170906Z"
    }
   },
   "outputs": [],
   "source": [
    "NRUNS = 10"
   ]
  },
  {
   "cell_type": "markdown",
   "id": "banned-cycling",
   "metadata": {},
   "source": [
    "### F1 - simple gauss"
   ]
  },
  {
   "cell_type": "code",
   "execution_count": 9,
   "id": "bottom-gateway",
   "metadata": {
    "ExecuteTime": {
     "end_time": "2022-06-19T19:03:51.813493Z",
     "start_time": "2022-06-19T19:03:51.564160Z"
    }
   },
   "outputs": [
    {
     "data": {
      "text/plain": [
       "{'f1_d2': 1.0, 'f1_d4': 1.0, 'f1_d6': 1.0, 'f1_d8': 1.0}"
      ]
     },
     "execution_count": 9,
     "metadata": {},
     "output_type": "execute_result"
    }
   ],
   "source": [
    "import scipy.stats as spt\n",
    "\n",
    "target = 1\n",
    "target_precision = 1e-3\n",
    "\n",
    "norm_dist = spt.norm(loc=0.5, scale=0.01)\n",
    "\n",
    "prefix = 'f1'\n",
    "\n",
    "target_dict = {\n",
    "    'f1_d2': (norm_dist.cdf(1) - norm_dist.cdf(0)) ** 2,\n",
    "    'f1_d4': (norm_dist.cdf(1) - norm_dist.cdf(0)) ** 4,\n",
    "    'f1_d6': (norm_dist.cdf(1) - norm_dist.cdf(0)) ** 6,\n",
    "    'f1_d8': (norm_dist.cdf(1) - norm_dist.cdf(0)) ** 8,\n",
    "}\n",
    "target_dict"
   ]
  },
  {
   "cell_type": "code",
   "execution_count": 10,
   "id": "waiting-hearts",
   "metadata": {
    "ExecuteTime": {
     "end_time": "2022-06-19T19:04:05.751229Z",
     "start_time": "2022-06-19T19:04:05.739261Z"
    }
   },
   "outputs": [],
   "source": [
    "sigma = 0.01\n",
    "alpha = sigma * math.sqrt(2)\n",
    "\n",
    "alpha_tf = tf.constant(alpha, dtype=tf.float64)\n",
    "pi_tf = tf.constant(math.pi, dtype=tf.float64)\n",
    "\n",
    "@tf.function(input_signature=[tf.TensorSpec(shape=(None,2), dtype=tf.float64)], jit_compile=True)\n",
    "def f1_tf_d2(x):\n",
    "    print('f1_tf_d2 :: tracing..')\n",
    "    pre = 1.0 / (alpha * tf.sqrt(pi_tf)) ** 2\n",
    "    exponent = -1 * tf.reduce_sum((x - .5) ** 2, axis=-1) / alpha ** 2\n",
    "    return pre * tf.exp(exponent)\n",
    "\n",
    "@tf.function(input_signature=[tf.TensorSpec(shape=(None,4), dtype=tf.float64)], jit_compile=True)\n",
    "def f1_tf_d4(x):\n",
    "    print('f1_tf_d4 :: tracing..')\n",
    "    pre = 1.0 / (alpha * tf.sqrt(pi_tf)) ** 4\n",
    "    exponent = -1 * tf.reduce_sum((x - .5) ** 2, axis=-1) / alpha ** 2\n",
    "    return pre * tf.exp(exponent)\n",
    "\n",
    "@tf.function(input_signature=[tf.TensorSpec(shape=(None,6), dtype=tf.float64)], jit_compile=True)\n",
    "def f1_tf_d6(x):\n",
    "    print('f1_tf_d6 :: tracing..')\n",
    "    pre = 1.0 / (alpha * tf.sqrt(pi_tf)) ** 6\n",
    "    exponent = -1 * tf.reduce_sum((x - .5) ** 2, axis=-1) / alpha ** 2\n",
    "    return pre * tf.exp(exponent)\n",
    "\n",
    "@tf.function(input_signature=[tf.TensorSpec(shape=(None,8), dtype=tf.float64)], jit_compile=True)\n",
    "def f1_tf_d8(x):\n",
    "    print('f1_tf_d8 :: tracing..')\n",
    "    pre = 1.0 / (alpha * tf.sqrt(pi_tf)) ** 8\n",
    "    exponent = -1 * tf.reduce_sum((x - .5) ** 2, axis=-1) / alpha ** 2\n",
    "    return pre * tf.exp(exponent)\n",
    "\n",
    "\n",
    "def f1_np(x, ndims):\n",
    "    pre = 1.0 / (alpha * math.sqrt(math.pi)) ** ndims\n",
    "    exponent = -1 * np.sum((x - .5) ** 2, axis=-1) / alpha ** 2\n",
    "    return pre * np.exp(exponent)\n",
    "\n",
    "def f1(x, ndims):\n",
    "    pre = 1.0 / (alpha * math.sqrt(math.pi)) ** ndims\n",
    "    exponent = -1 * sum((t - .5) ** 2 for t in x) / alpha ** 2\n",
    "    return pre * math.exp(exponent)"
   ]
  },
  {
   "cell_type": "code",
   "execution_count": 13,
   "id": "compressed-politics",
   "metadata": {
    "ExecuteTime": {
     "end_time": "2022-06-19T19:04:58.427392Z",
     "start_time": "2022-06-19T19:04:56.219296Z"
    }
   },
   "outputs": [
    {
     "name": "stdout",
     "output_type": "stream",
     "text": [
      "f1_tf_d2 :: tracing..\n",
      "f1_tf_d4 :: tracing..\n",
      "f1_tf_d6 :: tracing..\n"
     ]
    },
    {
     "data": {
      "text/plain": [
       "<tf.Tensor: shape=(10000000,), dtype=float64, numpy=array([0., 0., 0., ..., 0., 0., 0.])>"
      ]
     },
     "execution_count": 13,
     "metadata": {},
     "output_type": "execute_result"
    }
   ],
   "source": [
    "f1_tf_d2(tf.random.uniform((10000000,2), dtype=tf.float64))\n",
    "f1_tf_d4(tf.random.uniform((10000000,4), dtype=tf.float64))\n",
    "f1_tf_d6(tf.random.uniform((10000000,6), dtype=tf.float64))\n",
    "f1_tf_d8(tf.random.uniform((10000000,8), dtype=tf.float64))"
   ]
  },
  {
   "cell_type": "code",
   "execution_count": 14,
   "id": "victorian-running",
   "metadata": {
    "ExecuteTime": {
     "end_time": "2022-06-19T19:05:01.184022Z",
     "start_time": "2022-06-19T19:05:01.179035Z"
    }
   },
   "outputs": [
    {
     "data": {
      "text/plain": [
       "{2: <tensorflow.python.eager.def_function.Function at 0x116ad59cc08>,\n",
       " 4: <tensorflow.python.eager.def_function.Function at 0x116ad59ca08>,\n",
       " 6: <tensorflow.python.eager.def_function.Function at 0x116ad59cbc8>,\n",
       " 8: <tensorflow.python.eager.def_function.Function at 0x116ad59cec8>}"
      ]
     },
     "execution_count": 14,
     "metadata": {},
     "output_type": "execute_result"
    }
   ],
   "source": [
    "dim2func_dict = {\n",
    "    2: f1_tf_d2,\n",
    "    4: f1_tf_d4,\n",
    "    6: f1_tf_d6,\n",
    "    8: f1_tf_d8,\n",
    "}\n",
    "dim2func_dict"
   ]
  },
  {
   "cell_type": "markdown",
   "id": "sunrise-continuity",
   "metadata": {},
   "source": [
    "#### Uniform"
   ]
  },
  {
   "cell_type": "code",
   "execution_count": 17,
   "id": "proof-pleasure",
   "metadata": {
    "ExecuteTime": {
     "end_time": "2022-06-19T19:05:58.755097Z",
     "start_time": "2022-06-19T19:05:56.440287Z"
    },
    "scrolled": true
   },
   "outputs": [],
   "source": [
    "# TRACING RUN\n",
    "\n",
    "np.random.seed(123)\n",
    "tf.random.set_seed(123)\n",
    "\n",
    "result_means = []\n",
    "result_sdevs = []\n",
    "result_gen_times = []\n",
    "result_eval_times = []\n",
    "result_run_nums = []\n",
    "\n",
    "ndims_lst = [2, 4, 6, 8]\n",
    "neval_lst = list(map(int, [1e4, 1e5, 1e6, 1e7]))\n",
    "run_lst = list(range(1, 2))\n",
    "\n",
    "for run in run_lst:\n",
    "    \n",
    "    # print(f'run={run}')\n",
    "    for ndims in ndims_lst:\n",
    "        \n",
    "        integrand_tf = dim2func_dict[ndims]\n",
    "        for neval in neval_lst:\n",
    "\n",
    "            # print(f'ndims={ndims}  neval={neval}')\n",
    "\n",
    "            time_a = time.time()\n",
    "            data = tf.random.uniform(shape=(neval, ndims), minval=0, maxval=1, dtype=tf.float64)\n",
    "            gen_time = time.time() - time_a\n",
    "            \n",
    "            time_a = time.time()\n",
    "            values = integrand_tf(data)\n",
    "            mean, sum_2 = compute_stats_tf(values)\n",
    "            error = sum_2 / ((len(data) - 1)  *math.sqrt(neval))\n",
    "            eval_time = time.time() - time_a\n",
    "                        \n",
    "            result_means.append(mean)\n",
    "            result_sdevs.append(error)\n",
    "            result_gen_times.append(gen_time)\n",
    "            result_eval_times.append(eval_time)\n",
    "            result_run_nums.append(run)\n",
    "            \n",
    "            # print(current_result_mean, current_result_stddev)"
   ]
  },
  {
   "cell_type": "code",
   "execution_count": 18,
   "id": "positive-composer",
   "metadata": {
    "ExecuteTime": {
     "end_time": "2022-06-19T19:06:50.782994Z",
     "start_time": "2022-06-19T19:06:27.730628Z"
    },
    "scrolled": true
   },
   "outputs": [
    {
     "name": "stdout",
     "output_type": "stream",
     "text": [
      "run=1\n",
      "ndims=2  neval=10000\n",
      "ndims=2  neval=100000\n",
      "ndims=2  neval=1000000\n",
      "ndims=2  neval=10000000\n",
      "ndims=4  neval=10000\n",
      "ndims=4  neval=100000\n",
      "ndims=4  neval=1000000\n",
      "ndims=4  neval=10000000\n",
      "ndims=6  neval=10000\n",
      "ndims=6  neval=100000\n",
      "ndims=6  neval=1000000\n",
      "ndims=6  neval=10000000\n",
      "ndims=8  neval=10000\n",
      "ndims=8  neval=100000\n",
      "ndims=8  neval=1000000\n",
      "ndims=8  neval=10000000\n",
      "run=2\n",
      "ndims=2  neval=10000\n",
      "ndims=2  neval=100000\n",
      "ndims=2  neval=1000000\n",
      "ndims=2  neval=10000000\n",
      "ndims=4  neval=10000\n",
      "ndims=4  neval=100000\n",
      "ndims=4  neval=1000000\n",
      "ndims=4  neval=10000000\n",
      "ndims=6  neval=10000\n",
      "ndims=6  neval=100000\n",
      "ndims=6  neval=1000000\n",
      "ndims=6  neval=10000000\n",
      "ndims=8  neval=10000\n",
      "ndims=8  neval=100000\n",
      "ndims=8  neval=1000000\n",
      "ndims=8  neval=10000000\n",
      "run=3\n",
      "ndims=2  neval=10000\n",
      "ndims=2  neval=100000\n",
      "ndims=2  neval=1000000\n",
      "ndims=2  neval=10000000\n",
      "ndims=4  neval=10000\n",
      "ndims=4  neval=100000\n",
      "ndims=4  neval=1000000\n",
      "ndims=4  neval=10000000\n",
      "ndims=6  neval=10000\n",
      "ndims=6  neval=100000\n",
      "ndims=6  neval=1000000\n",
      "ndims=6  neval=10000000\n",
      "ndims=8  neval=10000\n",
      "ndims=8  neval=100000\n",
      "ndims=8  neval=1000000\n",
      "ndims=8  neval=10000000\n",
      "run=4\n",
      "ndims=2  neval=10000\n",
      "ndims=2  neval=100000\n",
      "ndims=2  neval=1000000\n",
      "ndims=2  neval=10000000\n",
      "ndims=4  neval=10000\n",
      "ndims=4  neval=100000\n",
      "ndims=4  neval=1000000\n",
      "ndims=4  neval=10000000\n",
      "ndims=6  neval=10000\n",
      "ndims=6  neval=100000\n",
      "ndims=6  neval=1000000\n",
      "ndims=6  neval=10000000\n",
      "ndims=8  neval=10000\n",
      "ndims=8  neval=100000\n",
      "ndims=8  neval=1000000\n",
      "ndims=8  neval=10000000\n",
      "run=5\n",
      "ndims=2  neval=10000\n",
      "ndims=2  neval=100000\n",
      "ndims=2  neval=1000000\n",
      "ndims=2  neval=10000000\n",
      "ndims=4  neval=10000\n",
      "ndims=4  neval=100000\n",
      "ndims=4  neval=1000000\n",
      "ndims=4  neval=10000000\n",
      "ndims=6  neval=10000\n",
      "ndims=6  neval=100000\n",
      "ndims=6  neval=1000000\n",
      "ndims=6  neval=10000000\n",
      "ndims=8  neval=10000\n",
      "ndims=8  neval=100000\n",
      "ndims=8  neval=1000000\n",
      "ndims=8  neval=10000000\n",
      "run=6\n",
      "ndims=2  neval=10000\n",
      "ndims=2  neval=100000\n",
      "ndims=2  neval=1000000\n",
      "ndims=2  neval=10000000\n",
      "ndims=4  neval=10000\n",
      "ndims=4  neval=100000\n",
      "ndims=4  neval=1000000\n",
      "ndims=4  neval=10000000\n",
      "ndims=6  neval=10000\n",
      "ndims=6  neval=100000\n",
      "ndims=6  neval=1000000\n",
      "ndims=6  neval=10000000\n",
      "ndims=8  neval=10000\n",
      "ndims=8  neval=100000\n",
      "ndims=8  neval=1000000\n",
      "ndims=8  neval=10000000\n",
      "run=7\n",
      "ndims=2  neval=10000\n",
      "ndims=2  neval=100000\n",
      "ndims=2  neval=1000000\n",
      "ndims=2  neval=10000000\n",
      "ndims=4  neval=10000\n",
      "ndims=4  neval=100000\n",
      "ndims=4  neval=1000000\n",
      "ndims=4  neval=10000000\n",
      "ndims=6  neval=10000\n",
      "ndims=6  neval=100000\n",
      "ndims=6  neval=1000000\n",
      "ndims=6  neval=10000000\n",
      "ndims=8  neval=10000\n",
      "ndims=8  neval=100000\n",
      "ndims=8  neval=1000000\n",
      "ndims=8  neval=10000000\n",
      "run=8\n",
      "ndims=2  neval=10000\n",
      "ndims=2  neval=100000\n",
      "ndims=2  neval=1000000\n",
      "ndims=2  neval=10000000\n",
      "ndims=4  neval=10000\n",
      "ndims=4  neval=100000\n",
      "ndims=4  neval=1000000\n",
      "ndims=4  neval=10000000\n",
      "ndims=6  neval=10000\n",
      "ndims=6  neval=100000\n",
      "ndims=6  neval=1000000\n",
      "ndims=6  neval=10000000\n",
      "ndims=8  neval=10000\n",
      "ndims=8  neval=100000\n",
      "ndims=8  neval=1000000\n",
      "ndims=8  neval=10000000\n",
      "run=9\n",
      "ndims=2  neval=10000\n",
      "ndims=2  neval=100000\n",
      "ndims=2  neval=1000000\n",
      "ndims=2  neval=10000000\n",
      "ndims=4  neval=10000\n",
      "ndims=4  neval=100000\n",
      "ndims=4  neval=1000000\n",
      "ndims=4  neval=10000000\n",
      "ndims=6  neval=10000\n",
      "ndims=6  neval=100000\n",
      "ndims=6  neval=1000000\n",
      "ndims=6  neval=10000000\n",
      "ndims=8  neval=10000\n",
      "ndims=8  neval=100000\n",
      "ndims=8  neval=1000000\n",
      "ndims=8  neval=10000000\n",
      "run=10\n",
      "ndims=2  neval=10000\n",
      "ndims=2  neval=100000\n",
      "ndims=2  neval=1000000\n",
      "ndims=2  neval=10000000\n",
      "ndims=4  neval=10000\n",
      "ndims=4  neval=100000\n",
      "ndims=4  neval=1000000\n",
      "ndims=4  neval=10000000\n",
      "ndims=6  neval=10000\n",
      "ndims=6  neval=100000\n",
      "ndims=6  neval=1000000\n",
      "ndims=6  neval=10000000\n",
      "ndims=8  neval=10000\n",
      "ndims=8  neval=100000\n",
      "ndims=8  neval=1000000\n",
      "ndims=8  neval=10000000\n",
      "Wall time: 23 s\n"
     ]
    }
   ],
   "source": [
    "%%time\n",
    "np.random.seed(123)\n",
    "tf.random.set_seed(123)\n",
    "\n",
    "result_means = []\n",
    "result_sdevs = []\n",
    "result_gen_times = []\n",
    "result_eval_times = []\n",
    "result_run_nums = []\n",
    "\n",
    "ndims_lst = [2, 4, 6, 8]\n",
    "neval_lst = list(map(int, [1e4, 1e5, 1e6, 1e7]))\n",
    "run_lst = list(range(1, NRUNS+1))\n",
    "\n",
    "for run in run_lst:\n",
    "    \n",
    "    print(f'run={run}')\n",
    "    for ndims in ndims_lst:\n",
    "        \n",
    "        integrand_tf = dim2func_dict[ndims]\n",
    "        for neval in neval_lst:\n",
    "\n",
    "            print(f'ndims={ndims}  neval={neval}')\n",
    "\n",
    "            time_a = time.time()\n",
    "            data = tf.random.uniform(shape=(neval, ndims), minval=0, maxval=1, dtype=tf.float64)\n",
    "            gen_time = time.time() - time_a\n",
    "            \n",
    "            time_a = time.time()\n",
    "            values = integrand_tf(data)\n",
    "            mean, sum_2 = compute_stats_tf(values)\n",
    "            error = sum_2 / ((len(data) - 1) * math.sqrt(neval))\n",
    "            eval_time = time.time() - time_a\n",
    "                        \n",
    "            result_means.append(mean.numpy())\n",
    "            result_sdevs.append(error.numpy())\n",
    "            result_gen_times.append(gen_time)\n",
    "            result_eval_times.append(eval_time)\n",
    "            result_run_nums.append(run)\n",
    "            \n",
    "            # print(current_result_mean, current_result_stddev)"
   ]
  },
  {
   "cell_type": "code",
   "execution_count": 19,
   "id": "lesbian-tunnel",
   "metadata": {
    "ExecuteTime": {
     "end_time": "2022-06-19T19:07:06.763269Z",
     "start_time": "2022-06-19T19:07:06.755290Z"
    }
   },
   "outputs": [],
   "source": [
    "temp_df = pd.DataFrame({\n",
    "    'ndims': sorted(ndims_lst * len(neval_lst)) * len(run_lst),\n",
    "    'neval': sorted(neval_lst) * len(ndims_lst) * len(run_lst),\n",
    "    'result_mean': result_means,\n",
    "    'result_sdev': result_sdevs,\n",
    "    'result_gen_time': result_gen_times,\n",
    "    'result_eval_time': result_eval_times,\n",
    "    'run_num': result_run_nums,\n",
    "})\n",
    "temp_df['eval_time_perc'] = (temp_df.result_eval_time / (temp_df.result_gen_time + temp_df.result_eval_time)).round(2)\n",
    "temp_df['total_time'] = temp_df.result_gen_time + temp_df.result_eval_time"
   ]
  },
  {
   "cell_type": "code",
   "execution_count": 20,
   "id": "temporal-condition",
   "metadata": {
    "ExecuteTime": {
     "end_time": "2022-06-19T19:07:07.578090Z",
     "start_time": "2022-06-19T19:07:07.563131Z"
    },
    "scrolled": true
   },
   "outputs": [
    {
     "data": {
      "text/html": [
       "<div>\n",
       "<style scoped>\n",
       "    .dataframe tbody tr th:only-of-type {\n",
       "        vertical-align: middle;\n",
       "    }\n",
       "\n",
       "    .dataframe tbody tr th {\n",
       "        vertical-align: top;\n",
       "    }\n",
       "\n",
       "    .dataframe thead th {\n",
       "        text-align: right;\n",
       "    }\n",
       "</style>\n",
       "<table border=\"1\" class=\"dataframe\">\n",
       "  <thead>\n",
       "    <tr style=\"text-align: right;\">\n",
       "      <th></th>\n",
       "      <th>ndims</th>\n",
       "      <th>neval</th>\n",
       "      <th>result_mean</th>\n",
       "      <th>result_sdev</th>\n",
       "      <th>result_gen_time</th>\n",
       "      <th>result_eval_time</th>\n",
       "      <th>run_num</th>\n",
       "      <th>eval_time_perc</th>\n",
       "      <th>total_time</th>\n",
       "    </tr>\n",
       "  </thead>\n",
       "  <tbody>\n",
       "    <tr>\n",
       "      <th>0</th>\n",
       "      <td>2</td>\n",
       "      <td>10000</td>\n",
       "      <td>9.641165e-01</td>\n",
       "      <td>6.643114e+00</td>\n",
       "      <td>0.053856</td>\n",
       "      <td>0.007978</td>\n",
       "      <td>1</td>\n",
       "      <td>0.13</td>\n",
       "      <td>0.061835</td>\n",
       "    </tr>\n",
       "    <tr>\n",
       "      <th>1</th>\n",
       "      <td>2</td>\n",
       "      <td>100000</td>\n",
       "      <td>1.042906e+00</td>\n",
       "      <td>2.706347e+00</td>\n",
       "      <td>0.001995</td>\n",
       "      <td>0.001995</td>\n",
       "      <td>1</td>\n",
       "      <td>0.50</td>\n",
       "      <td>0.003989</td>\n",
       "    </tr>\n",
       "    <tr>\n",
       "      <th>2</th>\n",
       "      <td>2</td>\n",
       "      <td>1000000</td>\n",
       "      <td>1.060182e+00</td>\n",
       "      <td>8.512099e-01</td>\n",
       "      <td>0.012965</td>\n",
       "      <td>0.012965</td>\n",
       "      <td>1</td>\n",
       "      <td>0.50</td>\n",
       "      <td>0.025931</td>\n",
       "    </tr>\n",
       "    <tr>\n",
       "      <th>3</th>\n",
       "      <td>2</td>\n",
       "      <td>10000000</td>\n",
       "      <td>9.957187e-01</td>\n",
       "      <td>2.502770e-01</td>\n",
       "      <td>0.138629</td>\n",
       "      <td>0.123670</td>\n",
       "      <td>1</td>\n",
       "      <td>0.47</td>\n",
       "      <td>0.262299</td>\n",
       "    </tr>\n",
       "    <tr>\n",
       "      <th>4</th>\n",
       "      <td>4</td>\n",
       "      <td>10000</td>\n",
       "      <td>1.249101e-15</td>\n",
       "      <td>1.195452e-28</td>\n",
       "      <td>0.011968</td>\n",
       "      <td>0.006981</td>\n",
       "      <td>1</td>\n",
       "      <td>0.37</td>\n",
       "      <td>0.018949</td>\n",
       "    </tr>\n",
       "    <tr>\n",
       "      <th>...</th>\n",
       "      <td>...</td>\n",
       "      <td>...</td>\n",
       "      <td>...</td>\n",
       "      <td>...</td>\n",
       "      <td>...</td>\n",
       "      <td>...</td>\n",
       "      <td>...</td>\n",
       "      <td>...</td>\n",
       "      <td>...</td>\n",
       "    </tr>\n",
       "    <tr>\n",
       "      <th>155</th>\n",
       "      <td>6</td>\n",
       "      <td>10000000</td>\n",
       "      <td>9.140837e-03</td>\n",
       "      <td>1.960092e-01</td>\n",
       "      <td>0.418880</td>\n",
       "      <td>0.148603</td>\n",
       "      <td>10</td>\n",
       "      <td>0.26</td>\n",
       "      <td>0.567483</td>\n",
       "    </tr>\n",
       "    <tr>\n",
       "      <th>156</th>\n",
       "      <td>8</td>\n",
       "      <td>10000</td>\n",
       "      <td>1.016652e-28</td>\n",
       "      <td>1.033581e-54</td>\n",
       "      <td>0.032912</td>\n",
       "      <td>0.007979</td>\n",
       "      <td>10</td>\n",
       "      <td>0.20</td>\n",
       "      <td>0.040891</td>\n",
       "    </tr>\n",
       "    <tr>\n",
       "      <th>157</th>\n",
       "      <td>8</td>\n",
       "      <td>100000</td>\n",
       "      <td>1.533388e-52</td>\n",
       "      <td>7.435397e-102</td>\n",
       "      <td>0.005984</td>\n",
       "      <td>0.001995</td>\n",
       "      <td>10</td>\n",
       "      <td>0.25</td>\n",
       "      <td>0.007979</td>\n",
       "    </tr>\n",
       "    <tr>\n",
       "      <th>158</th>\n",
       "      <td>8</td>\n",
       "      <td>1000000</td>\n",
       "      <td>2.203992e-37</td>\n",
       "      <td>4.857579e-71</td>\n",
       "      <td>0.054853</td>\n",
       "      <td>0.016955</td>\n",
       "      <td>10</td>\n",
       "      <td>0.24</td>\n",
       "      <td>0.071808</td>\n",
       "    </tr>\n",
       "    <tr>\n",
       "      <th>159</th>\n",
       "      <td>8</td>\n",
       "      <td>10000000</td>\n",
       "      <td>3.514007e-18</td>\n",
       "      <td>3.904859e-32</td>\n",
       "      <td>0.575461</td>\n",
       "      <td>0.149600</td>\n",
       "      <td>10</td>\n",
       "      <td>0.21</td>\n",
       "      <td>0.725061</td>\n",
       "    </tr>\n",
       "  </tbody>\n",
       "</table>\n",
       "<p>160 rows × 9 columns</p>\n",
       "</div>"
      ],
      "text/plain": [
       "     ndims     neval   result_mean    result_sdev  result_gen_time  \\\n",
       "0        2     10000  9.641165e-01   6.643114e+00         0.053856   \n",
       "1        2    100000  1.042906e+00   2.706347e+00         0.001995   \n",
       "2        2   1000000  1.060182e+00   8.512099e-01         0.012965   \n",
       "3        2  10000000  9.957187e-01   2.502770e-01         0.138629   \n",
       "4        4     10000  1.249101e-15   1.195452e-28         0.011968   \n",
       "..     ...       ...           ...            ...              ...   \n",
       "155      6  10000000  9.140837e-03   1.960092e-01         0.418880   \n",
       "156      8     10000  1.016652e-28   1.033581e-54         0.032912   \n",
       "157      8    100000  1.533388e-52  7.435397e-102         0.005984   \n",
       "158      8   1000000  2.203992e-37   4.857579e-71         0.054853   \n",
       "159      8  10000000  3.514007e-18   3.904859e-32         0.575461   \n",
       "\n",
       "     result_eval_time  run_num  eval_time_perc  total_time  \n",
       "0            0.007978        1            0.13    0.061835  \n",
       "1            0.001995        1            0.50    0.003989  \n",
       "2            0.012965        1            0.50    0.025931  \n",
       "3            0.123670        1            0.47    0.262299  \n",
       "4            0.006981        1            0.37    0.018949  \n",
       "..                ...      ...             ...         ...  \n",
       "155          0.148603       10            0.26    0.567483  \n",
       "156          0.007979       10            0.20    0.040891  \n",
       "157          0.001995       10            0.25    0.007979  \n",
       "158          0.016955       10            0.24    0.071808  \n",
       "159          0.149600       10            0.21    0.725061  \n",
       "\n",
       "[160 rows x 9 columns]"
      ]
     },
     "execution_count": 20,
     "metadata": {},
     "output_type": "execute_result"
    }
   ],
   "source": [
    "temp_df"
   ]
  },
  {
   "cell_type": "code",
   "execution_count": 21,
   "id": "copyrighted-questionnaire",
   "metadata": {
    "ExecuteTime": {
     "end_time": "2022-06-19T19:07:12.771206Z",
     "start_time": "2022-06-19T19:07:12.764225Z"
    },
    "scrolled": true
   },
   "outputs": [],
   "source": [
    "os.makedirs('result/02_NaiveTensorflowGraph', exist_ok=True)\n",
    "temp_df.to_csv('result/02_NaiveTensorflowGraph/f1_uniform_new.csv', index=False)"
   ]
  },
  {
   "cell_type": "code",
   "execution_count": 22,
   "id": "waiting-effort",
   "metadata": {
    "ExecuteTime": {
     "end_time": "2022-06-19T19:07:14.766871Z",
     "start_time": "2022-06-19T19:07:14.762881Z"
    }
   },
   "outputs": [],
   "source": [
    "# pd.read_csv('result/02_NaivePython/f1_uniform_new.csv')"
   ]
  },
  {
   "cell_type": "code",
   "execution_count": 23,
   "id": "close-finnish",
   "metadata": {
    "ExecuteTime": {
     "end_time": "2022-06-19T19:07:19.991901Z",
     "start_time": "2022-06-19T19:07:19.986914Z"
    }
   },
   "outputs": [],
   "source": [
    "g_temp_df = temp_df.groupby(['ndims', 'neval'], as_index=False)\n",
    "g_temp_df = g_temp_df[['result_mean',\n",
    "                       'result_sdev',\n",
    "                       'result_gen_time',\n",
    "                       'result_eval_time',\n",
    "                       'total_time',\n",
    "                       'eval_time_perc']]"
   ]
  },
  {
   "cell_type": "code",
   "execution_count": 24,
   "id": "sized-grammar",
   "metadata": {
    "ExecuteTime": {
     "end_time": "2022-06-19T19:07:20.825671Z",
     "start_time": "2022-06-19T19:07:20.810711Z"
    }
   },
   "outputs": [
    {
     "data": {
      "text/html": [
       "<div>\n",
       "<style scoped>\n",
       "    .dataframe tbody tr th:only-of-type {\n",
       "        vertical-align: middle;\n",
       "    }\n",
       "\n",
       "    .dataframe tbody tr th {\n",
       "        vertical-align: top;\n",
       "    }\n",
       "\n",
       "    .dataframe thead th {\n",
       "        text-align: right;\n",
       "    }\n",
       "</style>\n",
       "<table border=\"1\" class=\"dataframe\">\n",
       "  <thead>\n",
       "    <tr style=\"text-align: right;\">\n",
       "      <th></th>\n",
       "      <th>ndims</th>\n",
       "      <th>neval</th>\n",
       "      <th>result_mean</th>\n",
       "      <th>result_sdev</th>\n",
       "      <th>result_gen_time</th>\n",
       "      <th>result_eval_time</th>\n",
       "      <th>total_time</th>\n",
       "      <th>eval_time_perc</th>\n",
       "    </tr>\n",
       "  </thead>\n",
       "  <tbody>\n",
       "    <tr>\n",
       "      <th>0</th>\n",
       "      <td>2</td>\n",
       "      <td>10000</td>\n",
       "      <td>9.958646e-01</td>\n",
       "      <td>7.414862e+00</td>\n",
       "      <td>0.049368</td>\n",
       "      <td>0.007480</td>\n",
       "      <td>0.056848</td>\n",
       "      <td>0.133</td>\n",
       "    </tr>\n",
       "    <tr>\n",
       "      <th>1</th>\n",
       "      <td>2</td>\n",
       "      <td>100000</td>\n",
       "      <td>1.000333e+00</td>\n",
       "      <td>2.455651e+00</td>\n",
       "      <td>0.001696</td>\n",
       "      <td>0.001596</td>\n",
       "      <td>0.003291</td>\n",
       "      <td>0.483</td>\n",
       "    </tr>\n",
       "    <tr>\n",
       "      <th>2</th>\n",
       "      <td>2</td>\n",
       "      <td>1000000</td>\n",
       "      <td>1.003325e+00</td>\n",
       "      <td>8.013503e-01</td>\n",
       "      <td>0.014262</td>\n",
       "      <td>0.012766</td>\n",
       "      <td>0.027028</td>\n",
       "      <td>0.473</td>\n",
       "    </tr>\n",
       "    <tr>\n",
       "      <th>3</th>\n",
       "      <td>2</td>\n",
       "      <td>10000000</td>\n",
       "      <td>9.993910e-01</td>\n",
       "      <td>2.514577e-01</td>\n",
       "      <td>0.137034</td>\n",
       "      <td>0.117685</td>\n",
       "      <td>0.254719</td>\n",
       "      <td>0.461</td>\n",
       "    </tr>\n",
       "    <tr>\n",
       "      <th>4</th>\n",
       "      <td>4</td>\n",
       "      <td>10000</td>\n",
       "      <td>6.701057e-03</td>\n",
       "      <td>4.263449e-02</td>\n",
       "      <td>0.010472</td>\n",
       "      <td>0.007480</td>\n",
       "      <td>0.017952</td>\n",
       "      <td>0.417</td>\n",
       "    </tr>\n",
       "    <tr>\n",
       "      <th>5</th>\n",
       "      <td>4</td>\n",
       "      <td>100000</td>\n",
       "      <td>1.170619e+00</td>\n",
       "      <td>2.030606e+03</td>\n",
       "      <td>0.002992</td>\n",
       "      <td>0.001596</td>\n",
       "      <td>0.004588</td>\n",
       "      <td>0.340</td>\n",
       "    </tr>\n",
       "    <tr>\n",
       "      <th>6</th>\n",
       "      <td>4</td>\n",
       "      <td>1000000</td>\n",
       "      <td>1.025283e+00</td>\n",
       "      <td>5.907659e+02</td>\n",
       "      <td>0.029720</td>\n",
       "      <td>0.015858</td>\n",
       "      <td>0.045578</td>\n",
       "      <td>0.349</td>\n",
       "    </tr>\n",
       "    <tr>\n",
       "      <th>7</th>\n",
       "      <td>4</td>\n",
       "      <td>10000000</td>\n",
       "      <td>1.013788e+00</td>\n",
       "      <td>2.009115e+02</td>\n",
       "      <td>0.271873</td>\n",
       "      <td>0.140923</td>\n",
       "      <td>0.412796</td>\n",
       "      <td>0.340</td>\n",
       "    </tr>\n",
       "    <tr>\n",
       "      <th>8</th>\n",
       "      <td>6</td>\n",
       "      <td>10000</td>\n",
       "      <td>1.033881e-19</td>\n",
       "      <td>8.073152e-36</td>\n",
       "      <td>0.025632</td>\n",
       "      <td>0.007480</td>\n",
       "      <td>0.033112</td>\n",
       "      <td>0.230</td>\n",
       "    </tr>\n",
       "    <tr>\n",
       "      <th>9</th>\n",
       "      <td>6</td>\n",
       "      <td>100000</td>\n",
       "      <td>4.920513e-05</td>\n",
       "      <td>6.292486e-06</td>\n",
       "      <td>0.004189</td>\n",
       "      <td>0.001895</td>\n",
       "      <td>0.006084</td>\n",
       "      <td>0.310</td>\n",
       "    </tr>\n",
       "    <tr>\n",
       "      <th>10</th>\n",
       "      <td>6</td>\n",
       "      <td>1000000</td>\n",
       "      <td>1.614249e-02</td>\n",
       "      <td>2.003406e+00</td>\n",
       "      <td>0.041788</td>\n",
       "      <td>0.015758</td>\n",
       "      <td>0.057546</td>\n",
       "      <td>0.276</td>\n",
       "    </tr>\n",
       "    <tr>\n",
       "      <th>11</th>\n",
       "      <td>6</td>\n",
       "      <td>10000000</td>\n",
       "      <td>5.138880e-01</td>\n",
       "      <td>5.369397e+03</td>\n",
       "      <td>0.408408</td>\n",
       "      <td>0.148403</td>\n",
       "      <td>0.556811</td>\n",
       "      <td>0.268</td>\n",
       "    </tr>\n",
       "    <tr>\n",
       "      <th>12</th>\n",
       "      <td>8</td>\n",
       "      <td>10000</td>\n",
       "      <td>1.016652e-29</td>\n",
       "      <td>1.033581e-55</td>\n",
       "      <td>0.035904</td>\n",
       "      <td>0.007779</td>\n",
       "      <td>0.043683</td>\n",
       "      <td>0.178</td>\n",
       "    </tr>\n",
       "    <tr>\n",
       "      <th>13</th>\n",
       "      <td>8</td>\n",
       "      <td>100000</td>\n",
       "      <td>1.148174e-36</td>\n",
       "      <td>4.168841e-69</td>\n",
       "      <td>0.005585</td>\n",
       "      <td>0.001995</td>\n",
       "      <td>0.007580</td>\n",
       "      <td>0.267</td>\n",
       "    </tr>\n",
       "    <tr>\n",
       "      <th>14</th>\n",
       "      <td>8</td>\n",
       "      <td>1000000</td>\n",
       "      <td>1.157994e-25</td>\n",
       "      <td>1.340907e-46</td>\n",
       "      <td>0.057147</td>\n",
       "      <td>0.016257</td>\n",
       "      <td>0.073404</td>\n",
       "      <td>0.223</td>\n",
       "    </tr>\n",
       "    <tr>\n",
       "      <th>15</th>\n",
       "      <td>8</td>\n",
       "      <td>10000000</td>\n",
       "      <td>1.492313e-09</td>\n",
       "      <td>7.041821e-14</td>\n",
       "      <td>0.552922</td>\n",
       "      <td>0.149999</td>\n",
       "      <td>0.702921</td>\n",
       "      <td>0.214</td>\n",
       "    </tr>\n",
       "  </tbody>\n",
       "</table>\n",
       "</div>"
      ],
      "text/plain": [
       "    ndims     neval   result_mean   result_sdev  result_gen_time  \\\n",
       "0       2     10000  9.958646e-01  7.414862e+00         0.049368   \n",
       "1       2    100000  1.000333e+00  2.455651e+00         0.001696   \n",
       "2       2   1000000  1.003325e+00  8.013503e-01         0.014262   \n",
       "3       2  10000000  9.993910e-01  2.514577e-01         0.137034   \n",
       "4       4     10000  6.701057e-03  4.263449e-02         0.010472   \n",
       "5       4    100000  1.170619e+00  2.030606e+03         0.002992   \n",
       "6       4   1000000  1.025283e+00  5.907659e+02         0.029720   \n",
       "7       4  10000000  1.013788e+00  2.009115e+02         0.271873   \n",
       "8       6     10000  1.033881e-19  8.073152e-36         0.025632   \n",
       "9       6    100000  4.920513e-05  6.292486e-06         0.004189   \n",
       "10      6   1000000  1.614249e-02  2.003406e+00         0.041788   \n",
       "11      6  10000000  5.138880e-01  5.369397e+03         0.408408   \n",
       "12      8     10000  1.016652e-29  1.033581e-55         0.035904   \n",
       "13      8    100000  1.148174e-36  4.168841e-69         0.005585   \n",
       "14      8   1000000  1.157994e-25  1.340907e-46         0.057147   \n",
       "15      8  10000000  1.492313e-09  7.041821e-14         0.552922   \n",
       "\n",
       "    result_eval_time  total_time  eval_time_perc  \n",
       "0           0.007480    0.056848           0.133  \n",
       "1           0.001596    0.003291           0.483  \n",
       "2           0.012766    0.027028           0.473  \n",
       "3           0.117685    0.254719           0.461  \n",
       "4           0.007480    0.017952           0.417  \n",
       "5           0.001596    0.004588           0.340  \n",
       "6           0.015858    0.045578           0.349  \n",
       "7           0.140923    0.412796           0.340  \n",
       "8           0.007480    0.033112           0.230  \n",
       "9           0.001895    0.006084           0.310  \n",
       "10          0.015758    0.057546           0.276  \n",
       "11          0.148403    0.556811           0.268  \n",
       "12          0.007779    0.043683           0.178  \n",
       "13          0.001995    0.007580           0.267  \n",
       "14          0.016257    0.073404           0.223  \n",
       "15          0.149999    0.702921           0.214  "
      ]
     },
     "execution_count": 24,
     "metadata": {},
     "output_type": "execute_result"
    }
   ],
   "source": [
    "g_temp_df = g_temp_df.agg(np.mean)\n",
    "g_temp_df"
   ]
  },
  {
   "cell_type": "code",
   "execution_count": 25,
   "id": "artistic-humor",
   "metadata": {
    "ExecuteTime": {
     "end_time": "2022-06-19T19:07:23.288088Z",
     "start_time": "2022-06-19T19:07:22.947000Z"
    }
   },
   "outputs": [
    {
     "data": {
      "image/png": "[encoded data removed]",
      "text/plain": [
       "<Figure size 720x720 with 4 Axes>"
      ]
     },
     "metadata": {
      "needs_background": "light"
     },
     "output_type": "display_data"
    }
   ],
   "source": [
    "# result_mean vs samples for each dim\n",
    "\n",
    "fig = plt.figure(figsize=(10,10))\n",
    "\n",
    "for i, ndims in enumerate(ndims_lst):\n",
    "    plot_data = temp_df[temp_df.ndims == ndims].groupby('neval')['result_mean'].apply(lambda x: x.tolist())\n",
    "    ax = fig.add_subplot(2,2,i+1)\n",
    "    ax.axhline(y=target_dict[f'{prefix}_d{ndims}'], linestyle=':')\n",
    "    ax.set_title(f'D = {ndims}')\n",
    "    if i > 1:\n",
    "        ax.set_xlabel('N')\n",
    "    if i % 2 == 0:\n",
    "        ax.set_ylabel('Mean')\n",
    "    ax.boxplot(plot_data, labels=['1e4', '1e5', '1e6', '1e7'], showfliers=False)"
   ]
  },
  {
   "cell_type": "code",
   "execution_count": 26,
   "id": "collect-relaxation",
   "metadata": {
    "ExecuteTime": {
     "end_time": "2022-06-19T19:07:26.654088Z",
     "start_time": "2022-06-19T19:07:26.651096Z"
    }
   },
   "outputs": [],
   "source": [
    "# fig.savefig('result/02_NaivePython/f1_uniform_mean_new.png')"
   ]
  },
  {
   "cell_type": "code",
   "execution_count": 27,
   "id": "orange-canvas",
   "metadata": {
    "ExecuteTime": {
     "end_time": "2022-06-19T19:07:27.957603Z",
     "start_time": "2022-06-19T19:07:27.634467Z"
    }
   },
   "outputs": [
    {
     "data": {
      "image/png": "[encoded data removed]",
      "text/plain": [
       "<Figure size 720x720 with 4 Axes>"
      ]
     },
     "metadata": {
      "needs_background": "light"
     },
     "output_type": "display_data"
    }
   ],
   "source": [
    "# sdev vs samples for each dim\n",
    "\n",
    "fig = plt.figure(figsize=(10,10))\n",
    "\n",
    "for i, ndims in enumerate(ndims_lst):\n",
    "    plot_data = temp_df[temp_df.ndims == ndims].groupby('neval')['result_sdev'].apply(lambda x: x.tolist())\n",
    "    ax = fig.add_subplot(2,2,i+1)\n",
    "    ax.axhline(y=0, linestyle=':')\n",
    "    ax.set_title(f'D = {ndims}')\n",
    "    if i > 1:\n",
    "        ax.set_xlabel('N')\n",
    "    if i % 2 == 0:\n",
    "        ax.set_ylabel('Std. Error')\n",
    "    ax.boxplot(plot_data, labels=['1e4', '1e5', '1e6', '1e7'], showfliers=False)"
   ]
  },
  {
   "cell_type": "code",
   "execution_count": 28,
   "id": "judicial-legislation",
   "metadata": {
    "ExecuteTime": {
     "end_time": "2022-06-19T19:07:31.150068Z",
     "start_time": "2022-06-19T19:07:31.147076Z"
    }
   },
   "outputs": [],
   "source": [
    "# fig.savefig('result/02_NaivePython/f1_uniform_error_new.png')"
   ]
  },
  {
   "cell_type": "code",
   "execution_count": 29,
   "id": "brilliant-heritage",
   "metadata": {
    "ExecuteTime": {
     "end_time": "2022-06-19T19:07:32.505443Z",
     "start_time": "2022-06-19T19:07:32.171337Z"
    }
   },
   "outputs": [
    {
     "data": {
      "image/png": "[encoded data removed]",
      "text/plain": [
       "<Figure size 1440x288 with 4 Axes>"
      ]
     },
     "metadata": {
      "needs_background": "light"
     },
     "output_type": "display_data"
    }
   ],
   "source": [
    "# eval_time_perc vs samples for each dim\n",
    "\n",
    "fig = plt.figure(figsize=(20,4))\n",
    "\n",
    "for i, ndims in enumerate(ndims_lst):\n",
    "    plot_data = temp_df[temp_df.ndims == ndims].groupby('neval')['eval_time_perc'].apply(lambda x: x.tolist())\n",
    "    ax = fig.add_subplot(1,len(ndims_lst),i+1)\n",
    "    ax.set_title(f'D = {ndims}')\n",
    "    ax.set_xlabel('N')\n",
    "    if i == 0:\n",
    "        ax.set_ylabel('Eval. time (perc.)')\n",
    "    ax.boxplot(plot_data, labels=['1e4', '1e5', '1e6', '1e7'], showfliers=None)"
   ]
  },
  {
   "cell_type": "code",
   "execution_count": 30,
   "id": "associate-jordan",
   "metadata": {
    "ExecuteTime": {
     "end_time": "2022-06-19T19:07:35.031689Z",
     "start_time": "2022-06-19T19:07:34.618794Z"
    }
   },
   "outputs": [
    {
     "data": {
      "image/png": "[encoded data removed]",
      "text/plain": [
       "<Figure size 1440x288 with 4 Axes>"
      ]
     },
     "metadata": {
      "needs_background": "light"
     },
     "output_type": "display_data"
    }
   ],
   "source": [
    "# result_gen_time vs samples for each dim\n",
    "\n",
    "fig = plt.figure(figsize=(20,4))\n",
    "\n",
    "for i, ndims in enumerate(ndims_lst):\n",
    "    plot_data = temp_df[temp_df.ndims == ndims].groupby('neval')['result_gen_time'].apply(lambda x: x.tolist())\n",
    "    ax = fig.add_subplot(1,len(ndims_lst),i+1)\n",
    "    ax.set_title(f'D = {ndims}')\n",
    "    ax.set_xlabel('N')\n",
    "    if i == 0:\n",
    "        ax.set_ylabel('Gen. time')\n",
    "    ax.boxplot(plot_data, labels=['1e4', '1e5', '1e6', '1e7'], showfliers=None)"
   ]
  },
  {
   "cell_type": "code",
   "execution_count": 31,
   "id": "static-default",
   "metadata": {
    "ExecuteTime": {
     "end_time": "2022-06-19T19:07:38.590175Z",
     "start_time": "2022-06-19T19:07:38.259061Z"
    }
   },
   "outputs": [
    {
     "data": {
      "image/png": "[encoded data removed]",
      "text/plain": [
       "<Figure size 1440x288 with 4 Axes>"
      ]
     },
     "metadata": {
      "needs_background": "light"
     },
     "output_type": "display_data"
    }
   ],
   "source": [
    "# result_eval_time vs samples for each dim\n",
    "\n",
    "fig = plt.figure(figsize=(20,4))\n",
    "\n",
    "for i, ndims in enumerate(ndims_lst):\n",
    "    plot_data = temp_df[temp_df.ndims == ndims].groupby('neval')['result_eval_time'].apply(lambda x: x.tolist())\n",
    "    ax = fig.add_subplot(1,len(ndims_lst),i+1)\n",
    "    ax.set_title(f'D = {ndims}')\n",
    "    ax.set_xlabel('N')\n",
    "    if i == 0:\n",
    "        ax.set_ylabel('Eval. time')\n",
    "    ax.boxplot(plot_data, labels=['1e4', '1e5', '1e6', '1e7'], showfliers=None)"
   ]
  },
  {
   "cell_type": "code",
   "execution_count": 32,
   "id": "antique-reservoir",
   "metadata": {
    "ExecuteTime": {
     "end_time": "2022-06-19T19:07:42.023078Z",
     "start_time": "2022-06-19T19:07:41.698864Z"
    }
   },
   "outputs": [
    {
     "data": {
      "image/png": "[encoded data removed]",
      "text/plain": [
       "<Figure size 1440x288 with 4 Axes>"
      ]
     },
     "metadata": {
      "needs_background": "light"
     },
     "output_type": "display_data"
    }
   ],
   "source": [
    "# total_time vs samples for each dim\n",
    "\n",
    "fig = plt.figure(figsize=(20,4))\n",
    "\n",
    "for i, ndims in enumerate(ndims_lst):\n",
    "    plot_data = temp_df[temp_df.ndims == ndims].copy()\n",
    "    plot_data['total_time'] = plot_data.result_eval_time + plot_data.result_gen_time\n",
    "    plot_data = plot_data.groupby('neval')['total_time'].apply(lambda x: x.tolist())\n",
    "    ax = fig.add_subplot(1,len(ndims_lst),i+1)\n",
    "    ax.set_title(f'D = {ndims}')\n",
    "    ax.set_xlabel('N')\n",
    "    if i == 0:\n",
    "        ax.set_ylabel('Total time')\n",
    "    ax.boxplot(plot_data, labels=['1e4', '1e5', '1e6', '1e7'], showfliers=None)"
   ]
  },
  {
   "cell_type": "code",
   "execution_count": 33,
   "id": "instructional-damage",
   "metadata": {
    "ExecuteTime": {
     "end_time": "2022-06-19T19:07:46.134006Z",
     "start_time": "2022-06-19T19:07:46.027291Z"
    }
   },
   "outputs": [
    {
     "data": {
      "image/png": "[encoded data removed]",
      "text/plain": [
       "<Figure size 288x288 with 1 Axes>"
      ]
     },
     "metadata": {
      "needs_background": "light"
     },
     "output_type": "display_data"
    }
   ],
   "source": [
    "# total_time (D8) vs samples\n",
    "\n",
    "fig = plt.figure(figsize=(4,4))\n",
    "ax = fig.add_axes([0,0,1,1])\n",
    "\n",
    "plot_data = temp_df[temp_df.ndims == 8].copy()\n",
    "plot_data['total_time'] = plot_data.result_eval_time + plot_data.result_gen_time\n",
    "plot_data = plot_data.groupby('neval')['total_time'].apply(lambda x: x.tolist())\n",
    "ax.set_title(f'D = {ndims}')\n",
    "ax.set_xlabel('N')\n",
    "ax.set_ylabel('Time (s)')\n",
    "# ax.boxplot(plot_data, labels=['1e4', '1e5', '1e6', '1e7'], showfliers=None);\n",
    "locs = ax.get_xticks()\n",
    "ax.set_xticks(ax.get_xticks(), labels=['', '1e4', '1e5', '1e6', '1e7', ''])\n",
    "ax.plot(ax.get_xticks()[1:-1], plot_data.apply(np.mean), linestyle='-', alpha=.9, label='total time')\n",
    "\n",
    "plot_data = temp_df[temp_df.ndims == 8].copy()\n",
    "plot_data['total_time'] = plot_data.result_eval_time + plot_data.result_gen_time\n",
    "plot_data = plot_data.groupby('neval')['result_gen_time'].apply(lambda x: x.tolist())\n",
    "ax.plot(ax.get_xticks()[1:-1], plot_data.apply(np.mean), linestyle='dashed', alpha=.9, label='gen time')\n",
    "\n",
    "plot_data = temp_df[temp_df.ndims == 8].copy()\n",
    "plot_data['total_time'] = plot_data.result_eval_time + plot_data.result_gen_time\n",
    "plot_data = plot_data.groupby('neval')['result_eval_time'].apply(lambda x: x.tolist())\n",
    "ax.plot(ax.get_xticks()[1:-1], plot_data.apply(np.mean), linestyle='dashdot', alpha=.9, label='eval time')\n",
    "\n",
    "ax.legend()\n",
    "ax.grid(axis='y')"
   ]
  },
  {
   "cell_type": "code",
   "execution_count": 34,
   "id": "engaged-pharmacology",
   "metadata": {
    "ExecuteTime": {
     "end_time": "2022-06-19T19:07:53.038546Z",
     "start_time": "2022-06-19T19:07:53.035554Z"
    }
   },
   "outputs": [],
   "source": [
    "# fig.savefig('result/02_NaiveTensorflowGraph/f1_uniform_time_new.png', bbox_inches='tight')"
   ]
  },
  {
   "cell_type": "markdown",
   "id": "international-exploration",
   "metadata": {},
   "source": [
    "#### Time"
   ]
  },
  {
   "cell_type": "code",
   "execution_count": 35,
   "id": "coastal-prince",
   "metadata": {
    "ExecuteTime": {
     "end_time": "2022-06-19T19:07:54.238339Z",
     "start_time": "2022-06-19T19:07:54.226370Z"
    }
   },
   "outputs": [],
   "source": [
    "time_df = temp_df[temp_df.neval == int(1e7)].groupby('ndims').agg([np.mean, np.std])"
   ]
  },
  {
   "cell_type": "code",
   "execution_count": 36,
   "id": "based-inspector",
   "metadata": {
    "ExecuteTime": {
     "end_time": "2022-06-19T19:07:54.716061Z",
     "start_time": "2022-06-19T19:07:54.699106Z"
    }
   },
   "outputs": [
    {
     "data": {
      "text/html": [
       "<div>\n",
       "<style scoped>\n",
       "    .dataframe tbody tr th:only-of-type {\n",
       "        vertical-align: middle;\n",
       "    }\n",
       "\n",
       "    .dataframe tbody tr th {\n",
       "        vertical-align: top;\n",
       "    }\n",
       "\n",
       "    .dataframe thead tr th {\n",
       "        text-align: left;\n",
       "    }\n",
       "\n",
       "    .dataframe thead tr:last-of-type th {\n",
       "        text-align: right;\n",
       "    }\n",
       "</style>\n",
       "<table border=\"1\" class=\"dataframe\">\n",
       "  <thead>\n",
       "    <tr>\n",
       "      <th></th>\n",
       "      <th colspan=\"2\" halign=\"left\">neval</th>\n",
       "      <th colspan=\"2\" halign=\"left\">result_mean</th>\n",
       "      <th colspan=\"2\" halign=\"left\">result_sdev</th>\n",
       "      <th colspan=\"2\" halign=\"left\">result_gen_time</th>\n",
       "      <th colspan=\"2\" halign=\"left\">result_eval_time</th>\n",
       "      <th colspan=\"2\" halign=\"left\">run_num</th>\n",
       "      <th colspan=\"2\" halign=\"left\">eval_time_perc</th>\n",
       "      <th colspan=\"2\" halign=\"left\">total_time</th>\n",
       "    </tr>\n",
       "    <tr>\n",
       "      <th></th>\n",
       "      <th>mean</th>\n",
       "      <th>std</th>\n",
       "      <th>mean</th>\n",
       "      <th>std</th>\n",
       "      <th>mean</th>\n",
       "      <th>std</th>\n",
       "      <th>mean</th>\n",
       "      <th>std</th>\n",
       "      <th>mean</th>\n",
       "      <th>std</th>\n",
       "      <th>mean</th>\n",
       "      <th>std</th>\n",
       "      <th>mean</th>\n",
       "      <th>std</th>\n",
       "      <th>mean</th>\n",
       "      <th>std</th>\n",
       "    </tr>\n",
       "    <tr>\n",
       "      <th>ndims</th>\n",
       "      <th></th>\n",
       "      <th></th>\n",
       "      <th></th>\n",
       "      <th></th>\n",
       "      <th></th>\n",
       "      <th></th>\n",
       "      <th></th>\n",
       "      <th></th>\n",
       "      <th></th>\n",
       "      <th></th>\n",
       "      <th></th>\n",
       "      <th></th>\n",
       "      <th></th>\n",
       "      <th></th>\n",
       "      <th></th>\n",
       "      <th></th>\n",
       "    </tr>\n",
       "  </thead>\n",
       "  <tbody>\n",
       "    <tr>\n",
       "      <th>2</th>\n",
       "      <td>10000000.0</td>\n",
       "      <td>0.0</td>\n",
       "      <td>9.993910e-01</td>\n",
       "      <td>1.106713e-02</td>\n",
       "      <td>2.514577e-01</td>\n",
       "      <td>3.880451e-03</td>\n",
       "      <td>0.137034</td>\n",
       "      <td>0.001426</td>\n",
       "      <td>0.117685</td>\n",
       "      <td>0.002155</td>\n",
       "      <td>5.5</td>\n",
       "      <td>3.02765</td>\n",
       "      <td>0.461</td>\n",
       "      <td>0.003162</td>\n",
       "      <td>0.254719</td>\n",
       "      <td>0.003090</td>\n",
       "    </tr>\n",
       "    <tr>\n",
       "      <th>4</th>\n",
       "      <td>10000000.0</td>\n",
       "      <td>0.0</td>\n",
       "      <td>1.013788e+00</td>\n",
       "      <td>3.060478e-01</td>\n",
       "      <td>2.009115e+02</td>\n",
       "      <td>1.016086e+02</td>\n",
       "      <td>0.271873</td>\n",
       "      <td>0.001708</td>\n",
       "      <td>0.140923</td>\n",
       "      <td>0.000673</td>\n",
       "      <td>5.5</td>\n",
       "      <td>3.02765</td>\n",
       "      <td>0.340</td>\n",
       "      <td>0.000000</td>\n",
       "      <td>0.412796</td>\n",
       "      <td>0.001591</td>\n",
       "    </tr>\n",
       "    <tr>\n",
       "      <th>6</th>\n",
       "      <td>10000000.0</td>\n",
       "      <td>0.0</td>\n",
       "      <td>5.138880e-01</td>\n",
       "      <td>1.264563e+00</td>\n",
       "      <td>5.369397e+03</td>\n",
       "      <td>1.642369e+04</td>\n",
       "      <td>0.408408</td>\n",
       "      <td>0.006817</td>\n",
       "      <td>0.148403</td>\n",
       "      <td>0.000787</td>\n",
       "      <td>5.5</td>\n",
       "      <td>3.02765</td>\n",
       "      <td>0.268</td>\n",
       "      <td>0.004216</td>\n",
       "      <td>0.556811</td>\n",
       "      <td>0.007315</td>\n",
       "    </tr>\n",
       "    <tr>\n",
       "      <th>8</th>\n",
       "      <td>10000000.0</td>\n",
       "      <td>0.0</td>\n",
       "      <td>1.492313e-09</td>\n",
       "      <td>4.718897e-09</td>\n",
       "      <td>7.041821e-14</td>\n",
       "      <td>2.226819e-13</td>\n",
       "      <td>0.552922</td>\n",
       "      <td>0.016716</td>\n",
       "      <td>0.149999</td>\n",
       "      <td>0.000515</td>\n",
       "      <td>5.5</td>\n",
       "      <td>3.02765</td>\n",
       "      <td>0.214</td>\n",
       "      <td>0.006992</td>\n",
       "      <td>0.702921</td>\n",
       "      <td>0.016885</td>\n",
       "    </tr>\n",
       "  </tbody>\n",
       "</table>\n",
       "</div>"
      ],
      "text/plain": [
       "            neval        result_mean                 result_sdev  \\\n",
       "             mean  std          mean           std          mean   \n",
       "ndims                                                              \n",
       "2      10000000.0  0.0  9.993910e-01  1.106713e-02  2.514577e-01   \n",
       "4      10000000.0  0.0  1.013788e+00  3.060478e-01  2.009115e+02   \n",
       "6      10000000.0  0.0  5.138880e-01  1.264563e+00  5.369397e+03   \n",
       "8      10000000.0  0.0  1.492313e-09  4.718897e-09  7.041821e-14   \n",
       "\n",
       "                    result_gen_time           result_eval_time            \\\n",
       "                std            mean       std             mean       std   \n",
       "ndims                                                                      \n",
       "2      3.880451e-03        0.137034  0.001426         0.117685  0.002155   \n",
       "4      1.016086e+02        0.271873  0.001708         0.140923  0.000673   \n",
       "6      1.642369e+04        0.408408  0.006817         0.148403  0.000787   \n",
       "8      2.226819e-13        0.552922  0.016716         0.149999  0.000515   \n",
       "\n",
       "      run_num          eval_time_perc           total_time            \n",
       "         mean      std           mean       std       mean       std  \n",
       "ndims                                                                 \n",
       "2         5.5  3.02765          0.461  0.003162   0.254719  0.003090  \n",
       "4         5.5  3.02765          0.340  0.000000   0.412796  0.001591  \n",
       "6         5.5  3.02765          0.268  0.004216   0.556811  0.007315  \n",
       "8         5.5  3.02765          0.214  0.006992   0.702921  0.016885  "
      ]
     },
     "execution_count": 36,
     "metadata": {},
     "output_type": "execute_result"
    }
   ],
   "source": [
    "time_df"
   ]
  },
  {
   "cell_type": "code",
   "execution_count": 38,
   "id": "radical-jacob",
   "metadata": {
    "ExecuteTime": {
     "end_time": "2022-06-19T19:15:38.438780Z",
     "start_time": "2022-06-19T19:15:38.427809Z"
    }
   },
   "outputs": [
    {
     "data": {
      "text/html": [
       "<div>\n",
       "<style scoped>\n",
       "    .dataframe tbody tr th:only-of-type {\n",
       "        vertical-align: middle;\n",
       "    }\n",
       "\n",
       "    .dataframe tbody tr th {\n",
       "        vertical-align: top;\n",
       "    }\n",
       "\n",
       "    .dataframe thead tr th {\n",
       "        text-align: left;\n",
       "    }\n",
       "\n",
       "    .dataframe thead tr:last-of-type th {\n",
       "        text-align: right;\n",
       "    }\n",
       "</style>\n",
       "<table border=\"1\" class=\"dataframe\">\n",
       "  <thead>\n",
       "    <tr>\n",
       "      <th></th>\n",
       "      <th colspan=\"2\" halign=\"left\">result_gen_time</th>\n",
       "      <th colspan=\"2\" halign=\"left\">result_eval_time</th>\n",
       "      <th colspan=\"2\" halign=\"left\">total_time</th>\n",
       "    </tr>\n",
       "    <tr>\n",
       "      <th></th>\n",
       "      <th>mean</th>\n",
       "      <th>std</th>\n",
       "      <th>mean</th>\n",
       "      <th>std</th>\n",
       "      <th>mean</th>\n",
       "      <th>std</th>\n",
       "    </tr>\n",
       "    <tr>\n",
       "      <th>ndims</th>\n",
       "      <th></th>\n",
       "      <th></th>\n",
       "      <th></th>\n",
       "      <th></th>\n",
       "      <th></th>\n",
       "      <th></th>\n",
       "    </tr>\n",
       "  </thead>\n",
       "  <tbody>\n",
       "    <tr>\n",
       "      <th>2</th>\n",
       "      <td>0.137034</td>\n",
       "      <td>0.001426</td>\n",
       "      <td>0.117685</td>\n",
       "      <td>0.002155</td>\n",
       "      <td>0.254719</td>\n",
       "      <td>0.003090</td>\n",
       "    </tr>\n",
       "    <tr>\n",
       "      <th>4</th>\n",
       "      <td>0.271873</td>\n",
       "      <td>0.001708</td>\n",
       "      <td>0.140923</td>\n",
       "      <td>0.000673</td>\n",
       "      <td>0.412796</td>\n",
       "      <td>0.001591</td>\n",
       "    </tr>\n",
       "    <tr>\n",
       "      <th>6</th>\n",
       "      <td>0.408408</td>\n",
       "      <td>0.006817</td>\n",
       "      <td>0.148403</td>\n",
       "      <td>0.000787</td>\n",
       "      <td>0.556811</td>\n",
       "      <td>0.007315</td>\n",
       "    </tr>\n",
       "    <tr>\n",
       "      <th>8</th>\n",
       "      <td>0.552922</td>\n",
       "      <td>0.016716</td>\n",
       "      <td>0.149999</td>\n",
       "      <td>0.000515</td>\n",
       "      <td>0.702921</td>\n",
       "      <td>0.016885</td>\n",
       "    </tr>\n",
       "  </tbody>\n",
       "</table>\n",
       "</div>"
      ],
      "text/plain": [
       "      result_gen_time           result_eval_time           total_time  \\\n",
       "                 mean       std             mean       std       mean   \n",
       "ndims                                                                   \n",
       "2            0.137034  0.001426         0.117685  0.002155   0.254719   \n",
       "4            0.271873  0.001708         0.140923  0.000673   0.412796   \n",
       "6            0.408408  0.006817         0.148403  0.000787   0.556811   \n",
       "8            0.552922  0.016716         0.149999  0.000515   0.702921   \n",
       "\n",
       "                 \n",
       "            std  \n",
       "ndims            \n",
       "2      0.003090  \n",
       "4      0.001591  \n",
       "6      0.007315  \n",
       "8      0.016885  "
      ]
     },
     "execution_count": 38,
     "metadata": {},
     "output_type": "execute_result"
    }
   ],
   "source": [
    "time_df[['result_gen_time', 'result_eval_time', 'total_time']]"
   ]
  },
  {
   "cell_type": "code",
   "execution_count": 131,
   "id": "alpha-siemens",
   "metadata": {
    "ExecuteTime": {
     "end_time": "2022-06-09T09:25:00.534230Z",
     "start_time": "2022-06-09T09:25:00.525254Z"
    }
   },
   "outputs": [
    {
     "data": {
      "text/html": [
       "<div>\n",
       "<style scoped>\n",
       "    .dataframe tbody tr th:only-of-type {\n",
       "        vertical-align: middle;\n",
       "    }\n",
       "\n",
       "    .dataframe tbody tr th {\n",
       "        vertical-align: top;\n",
       "    }\n",
       "\n",
       "    .dataframe thead tr th {\n",
       "        text-align: left;\n",
       "    }\n",
       "\n",
       "    .dataframe thead tr:last-of-type th {\n",
       "        text-align: right;\n",
       "    }\n",
       "</style>\n",
       "<table border=\"1\" class=\"dataframe\">\n",
       "  <thead>\n",
       "    <tr>\n",
       "      <th></th>\n",
       "      <th colspan=\"2\" halign=\"left\">result_gen_time</th>\n",
       "      <th colspan=\"2\" halign=\"left\">result_eval_time</th>\n",
       "    </tr>\n",
       "    <tr>\n",
       "      <th></th>\n",
       "      <th>mean</th>\n",
       "      <th>std</th>\n",
       "      <th>mean</th>\n",
       "      <th>std</th>\n",
       "    </tr>\n",
       "    <tr>\n",
       "      <th>ndims</th>\n",
       "      <th></th>\n",
       "      <th></th>\n",
       "      <th></th>\n",
       "      <th></th>\n",
       "    </tr>\n",
       "  </thead>\n",
       "  <tbody>\n",
       "    <tr>\n",
       "      <th>2</th>\n",
       "      <td>0.157479</td>\n",
       "      <td>0.010746</td>\n",
       "      <td>0.052858</td>\n",
       "      <td>0.001629</td>\n",
       "    </tr>\n",
       "    <tr>\n",
       "      <th>4</th>\n",
       "      <td>0.272072</td>\n",
       "      <td>0.000916</td>\n",
       "      <td>0.054953</td>\n",
       "      <td>0.000566</td>\n",
       "    </tr>\n",
       "    <tr>\n",
       "      <th>6</th>\n",
       "      <td>0.406213</td>\n",
       "      <td>0.000821</td>\n",
       "      <td>0.060837</td>\n",
       "      <td>0.000940</td>\n",
       "    </tr>\n",
       "    <tr>\n",
       "      <th>8</th>\n",
       "      <td>0.543047</td>\n",
       "      <td>0.004754</td>\n",
       "      <td>0.064029</td>\n",
       "      <td>0.000631</td>\n",
       "    </tr>\n",
       "  </tbody>\n",
       "</table>\n",
       "</div>"
      ],
      "text/plain": [
       "      result_gen_time           result_eval_time          \n",
       "                 mean       std             mean       std\n",
       "ndims                                                     \n",
       "2            0.157479  0.010746         0.052858  0.001629\n",
       "4            0.272072  0.000916         0.054953  0.000566\n",
       "6            0.406213  0.000821         0.060837  0.000940\n",
       "8            0.543047  0.004754         0.064029  0.000631"
      ]
     },
     "execution_count": 131,
     "metadata": {},
     "output_type": "execute_result"
    }
   ],
   "source": [
    "# old sigma\n",
    "\n",
    "# time_df[['result_gen_time', 'result_eval_time']]"
   ]
  },
  {
   "cell_type": "code",
   "execution_count": 145,
   "id": "bigger-daniel",
   "metadata": {
    "ExecuteTime": {
     "end_time": "2022-06-09T09:29:29.752993Z",
     "start_time": "2022-06-09T09:29:29.748008Z"
    }
   },
   "outputs": [
    {
     "name": "stdout",
     "output_type": "stream",
     "text": [
      "0.157 ± 0.011\t& 0.053 ± 0.002\n",
      "0.272 ± 0.001\t& 0.055 ± 0.001\n",
      "0.406 ± 0.001\t& 0.061 ± 0.001\n",
      "0.543 ± 0.005\t& 0.064 ± 0.001\n",
      "\n"
     ]
    }
   ],
   "source": [
    "# old sigma\n",
    "\n",
    "# def temp_foo(x4):\n",
    "#     return x4[0] + ' ± ' + x4[1] + '\\t& ' + x4[2] + ' ± ' + x4[3] + '\\n'\n",
    "\n",
    "# print(''.join([temp_foo(x.round(3).astype(str))\n",
    "#        for x in time_df[['result_gen_time', 'result_eval_time']].values]))"
   ]
  },
  {
   "cell_type": "code",
   "execution_count": 167,
   "id": "scheduled-passport",
   "metadata": {
    "ExecuteTime": {
     "end_time": "2022-06-09T10:15:22.000966Z",
     "start_time": "2022-06-09T10:15:21.984011Z"
    }
   },
   "outputs": [
    {
     "name": "stderr",
     "output_type": "stream",
     "text": [
      "E:\\_MAGISTER_ACE\\Наука\\mc_integration\\mcenv\\lib\\site-packages\\ipykernel_launcher.py:2: SettingWithCopyWarning: \n",
      "A value is trying to be set on a copy of a slice from a DataFrame.\n",
      "Try using .loc[row_indexer,col_indexer] = value instead\n",
      "\n",
      "See the caveats in the documentation: https://pandas.pydata.org/pandas-docs/stable/user_guide/indexing.html#returning-a-view-versus-a-copy\n",
      "  \n",
      "E:\\_MAGISTER_ACE\\Наука\\mc_integration\\mcenv\\lib\\site-packages\\ipykernel_launcher.py:3: SettingWithCopyWarning: \n",
      "A value is trying to be set on a copy of a slice from a DataFrame.\n",
      "Try using .loc[row_indexer,col_indexer] = value instead\n",
      "\n",
      "See the caveats in the documentation: https://pandas.pydata.org/pandas-docs/stable/user_guide/indexing.html#returning-a-view-versus-a-copy\n",
      "  This is separate from the ipykernel package so we can avoid doing imports until\n"
     ]
    },
    {
     "data": {
      "text/html": [
       "<div>\n",
       "<style scoped>\n",
       "    .dataframe tbody tr th:only-of-type {\n",
       "        vertical-align: middle;\n",
       "    }\n",
       "\n",
       "    .dataframe tbody tr th {\n",
       "        vertical-align: top;\n",
       "    }\n",
       "\n",
       "    .dataframe thead tr th {\n",
       "        text-align: left;\n",
       "    }\n",
       "\n",
       "    .dataframe thead tr:last-of-type th {\n",
       "        text-align: right;\n",
       "    }\n",
       "</style>\n",
       "<table border=\"1\" class=\"dataframe\">\n",
       "  <thead>\n",
       "    <tr>\n",
       "      <th></th>\n",
       "      <th colspan=\"2\" halign=\"left\">result_gen_time</th>\n",
       "      <th colspan=\"2\" halign=\"left\">result_eval_time</th>\n",
       "      <th>total_mean</th>\n",
       "      <th>total_std</th>\n",
       "    </tr>\n",
       "    <tr>\n",
       "      <th></th>\n",
       "      <th>mean</th>\n",
       "      <th>std</th>\n",
       "      <th>mean</th>\n",
       "      <th>std</th>\n",
       "      <th></th>\n",
       "      <th></th>\n",
       "    </tr>\n",
       "    <tr>\n",
       "      <th>ndims</th>\n",
       "      <th></th>\n",
       "      <th></th>\n",
       "      <th></th>\n",
       "      <th></th>\n",
       "      <th></th>\n",
       "      <th></th>\n",
       "    </tr>\n",
       "  </thead>\n",
       "  <tbody>\n",
       "    <tr>\n",
       "      <th>2</th>\n",
       "      <td>0.157479</td>\n",
       "      <td>0.010746</td>\n",
       "      <td>0.052858</td>\n",
       "      <td>0.001629</td>\n",
       "      <td>0.210337</td>\n",
       "      <td>0.010869</td>\n",
       "    </tr>\n",
       "    <tr>\n",
       "      <th>4</th>\n",
       "      <td>0.272072</td>\n",
       "      <td>0.000916</td>\n",
       "      <td>0.054953</td>\n",
       "      <td>0.000566</td>\n",
       "      <td>0.327025</td>\n",
       "      <td>0.001077</td>\n",
       "    </tr>\n",
       "    <tr>\n",
       "      <th>6</th>\n",
       "      <td>0.406213</td>\n",
       "      <td>0.000821</td>\n",
       "      <td>0.060837</td>\n",
       "      <td>0.000940</td>\n",
       "      <td>0.467050</td>\n",
       "      <td>0.001248</td>\n",
       "    </tr>\n",
       "    <tr>\n",
       "      <th>8</th>\n",
       "      <td>0.543047</td>\n",
       "      <td>0.004754</td>\n",
       "      <td>0.064029</td>\n",
       "      <td>0.000631</td>\n",
       "      <td>0.607076</td>\n",
       "      <td>0.004796</td>\n",
       "    </tr>\n",
       "  </tbody>\n",
       "</table>\n",
       "</div>"
      ],
      "text/plain": [
       "      result_gen_time           result_eval_time           total_mean  \\\n",
       "                 mean       std             mean       std              \n",
       "ndims                                                                   \n",
       "2            0.157479  0.010746         0.052858  0.001629   0.210337   \n",
       "4            0.272072  0.000916         0.054953  0.000566   0.327025   \n",
       "6            0.406213  0.000821         0.060837  0.000940   0.467050   \n",
       "8            0.543047  0.004754         0.064029  0.000631   0.607076   \n",
       "\n",
       "      total_std  \n",
       "                 \n",
       "ndims            \n",
       "2      0.010869  \n",
       "4      0.001077  \n",
       "6      0.001248  \n",
       "8      0.004796  "
      ]
     },
     "execution_count": 167,
     "metadata": {},
     "output_type": "execute_result"
    }
   ],
   "source": [
    "t = time_df[['result_gen_time', 'result_eval_time']]\n",
    "t['total_mean'] = time_df['result_gen_time']['mean'] + time_df['result_eval_time']['mean']\n",
    "t['total_std'] = (time_df['result_gen_time']['std']**2 + time_df['result_eval_time']['std']**2)**.5\n",
    "\n",
    "t"
   ]
  },
  {
   "cell_type": "code",
   "execution_count": 168,
   "id": "aware-permit",
   "metadata": {
    "ExecuteTime": {
     "end_time": "2022-06-09T10:15:24.253939Z",
     "start_time": "2022-06-09T10:15:24.247955Z"
    }
   },
   "outputs": [
    {
     "name": "stdout",
     "output_type": "stream",
     "text": [
      "0.21 ± 0.011\n",
      "0.327 ± 0.001\n",
      "0.467 ± 0.001\n",
      "0.607 ± 0.005\n",
      "\n"
     ]
    }
   ],
   "source": [
    "def temp_print(xx):\n",
    "    temp_foo = lambda x4: x4[0] + ' ± ' + x4[1] + '\\n'\n",
    "    print(''.join([temp_foo(x.round(3).astype(str))\n",
    "           for x in xx.values]))\n",
    "    \n",
    "temp_print(t[['total_mean', 'total_std']])"
   ]
  },
  {
   "cell_type": "code",
   "execution_count": 75,
   "id": "native-brass",
   "metadata": {
    "ExecuteTime": {
     "end_time": "2022-06-09T08:32:10.674485Z",
     "start_time": "2022-06-09T08:32:10.665509Z"
    }
   },
   "outputs": [
    {
     "data": {
      "text/html": [
       "<div>\n",
       "<style scoped>\n",
       "    .dataframe tbody tr th:only-of-type {\n",
       "        vertical-align: middle;\n",
       "    }\n",
       "\n",
       "    .dataframe tbody tr th {\n",
       "        vertical-align: top;\n",
       "    }\n",
       "\n",
       "    .dataframe thead tr th {\n",
       "        text-align: left;\n",
       "    }\n",
       "\n",
       "    .dataframe thead tr:last-of-type th {\n",
       "        text-align: right;\n",
       "    }\n",
       "</style>\n",
       "<table border=\"1\" class=\"dataframe\">\n",
       "  <thead>\n",
       "    <tr>\n",
       "      <th></th>\n",
       "      <th colspan=\"2\" halign=\"left\">result_gen_time</th>\n",
       "      <th colspan=\"2\" halign=\"left\">result_eval_time</th>\n",
       "    </tr>\n",
       "    <tr>\n",
       "      <th></th>\n",
       "      <th>mean</th>\n",
       "      <th>std</th>\n",
       "      <th>mean</th>\n",
       "      <th>std</th>\n",
       "    </tr>\n",
       "    <tr>\n",
       "      <th>ndims</th>\n",
       "      <th></th>\n",
       "      <th></th>\n",
       "      <th></th>\n",
       "      <th></th>\n",
       "    </tr>\n",
       "  </thead>\n",
       "  <tbody>\n",
       "    <tr>\n",
       "      <th>2</th>\n",
       "      <td>0.141920</td>\n",
       "      <td>0.010566</td>\n",
       "      <td>0.306081</td>\n",
       "      <td>0.006488</td>\n",
       "    </tr>\n",
       "    <tr>\n",
       "      <th>4</th>\n",
       "      <td>0.273069</td>\n",
       "      <td>0.006477</td>\n",
       "      <td>0.448800</td>\n",
       "      <td>0.010617</td>\n",
       "    </tr>\n",
       "    <tr>\n",
       "      <th>6</th>\n",
       "      <td>0.405315</td>\n",
       "      <td>0.002497</td>\n",
       "      <td>0.598299</td>\n",
       "      <td>0.005512</td>\n",
       "    </tr>\n",
       "    <tr>\n",
       "      <th>8</th>\n",
       "      <td>0.538459</td>\n",
       "      <td>0.001194</td>\n",
       "      <td>0.741417</td>\n",
       "      <td>0.005176</td>\n",
       "    </tr>\n",
       "  </tbody>\n",
       "</table>\n",
       "</div>"
      ],
      "text/plain": [
       "      result_gen_time           result_eval_time          \n",
       "                 mean       std             mean       std\n",
       "ndims                                                     \n",
       "2            0.141920  0.010566         0.306081  0.006488\n",
       "4            0.273069  0.006477         0.448800  0.010617\n",
       "6            0.405315  0.002497         0.598299  0.005512\n",
       "8            0.538459  0.001194         0.741417  0.005176"
      ]
     },
     "execution_count": 75,
     "metadata": {},
     "output_type": "execute_result"
    }
   ],
   "source": [
    "# results from tf-eager\n",
    "\n",
    "time_df[['result_gen_time', 'result_eval_time']]"
   ]
  },
  {
   "cell_type": "code",
   "execution_count": 38,
   "id": "official-commonwealth",
   "metadata": {
    "ExecuteTime": {
     "end_time": "2022-06-09T07:02:08.077172Z",
     "start_time": "2022-06-09T07:02:08.062212Z"
    }
   },
   "outputs": [
    {
     "data": {
      "text/html": [
       "<div>\n",
       "<style scoped>\n",
       "    .dataframe tbody tr th:only-of-type {\n",
       "        vertical-align: middle;\n",
       "    }\n",
       "\n",
       "    .dataframe tbody tr th {\n",
       "        vertical-align: top;\n",
       "    }\n",
       "\n",
       "    .dataframe thead tr th {\n",
       "        text-align: left;\n",
       "    }\n",
       "\n",
       "    .dataframe thead tr:last-of-type th {\n",
       "        text-align: right;\n",
       "    }\n",
       "</style>\n",
       "<table border=\"1\" class=\"dataframe\">\n",
       "  <thead>\n",
       "    <tr>\n",
       "      <th></th>\n",
       "      <th colspan=\"2\" halign=\"left\">neval</th>\n",
       "      <th colspan=\"2\" halign=\"left\">result_mean</th>\n",
       "      <th colspan=\"2\" halign=\"left\">result_sdev</th>\n",
       "      <th colspan=\"2\" halign=\"left\">result_gen_time</th>\n",
       "      <th colspan=\"2\" halign=\"left\">result_eval_time</th>\n",
       "      <th colspan=\"2\" halign=\"left\">run_num</th>\n",
       "      <th colspan=\"2\" halign=\"left\">eval_time_perc</th>\n",
       "    </tr>\n",
       "    <tr>\n",
       "      <th></th>\n",
       "      <th>mean</th>\n",
       "      <th>std</th>\n",
       "      <th>mean</th>\n",
       "      <th>std</th>\n",
       "      <th>mean</th>\n",
       "      <th>std</th>\n",
       "      <th>mean</th>\n",
       "      <th>std</th>\n",
       "      <th>mean</th>\n",
       "      <th>std</th>\n",
       "      <th>mean</th>\n",
       "      <th>std</th>\n",
       "      <th>mean</th>\n",
       "      <th>std</th>\n",
       "    </tr>\n",
       "    <tr>\n",
       "      <th>ndims</th>\n",
       "      <th></th>\n",
       "      <th></th>\n",
       "      <th></th>\n",
       "      <th></th>\n",
       "      <th></th>\n",
       "      <th></th>\n",
       "      <th></th>\n",
       "      <th></th>\n",
       "      <th></th>\n",
       "      <th></th>\n",
       "      <th></th>\n",
       "      <th></th>\n",
       "      <th></th>\n",
       "      <th></th>\n",
       "    </tr>\n",
       "  </thead>\n",
       "  <tbody>\n",
       "    <tr>\n",
       "      <th>2</th>\n",
       "      <td>10000000.0</td>\n",
       "      <td>0.0</td>\n",
       "      <td>0.999689</td>\n",
       "      <td>0.001274</td>\n",
       "      <td>0.001755</td>\n",
       "      <td>0.000001</td>\n",
       "      <td>0.131648</td>\n",
       "      <td>0.000997</td>\n",
       "      <td>0.408574</td>\n",
       "      <td>0.001152</td>\n",
       "      <td>2.0</td>\n",
       "      <td>1.0</td>\n",
       "      <td>0.760000</td>\n",
       "      <td>0.000000</td>\n",
       "    </tr>\n",
       "    <tr>\n",
       "      <th>4</th>\n",
       "      <td>10000000.0</td>\n",
       "      <td>0.0</td>\n",
       "      <td>1.002901</td>\n",
       "      <td>0.002062</td>\n",
       "      <td>0.010090</td>\n",
       "      <td>0.000050</td>\n",
       "      <td>0.263966</td>\n",
       "      <td>0.000567</td>\n",
       "      <td>0.519272</td>\n",
       "      <td>0.004704</td>\n",
       "      <td>2.0</td>\n",
       "      <td>1.0</td>\n",
       "      <td>0.663333</td>\n",
       "      <td>0.005774</td>\n",
       "    </tr>\n",
       "    <tr>\n",
       "      <th>6</th>\n",
       "      <td>10000000.0</td>\n",
       "      <td>0.0</td>\n",
       "      <td>1.032724</td>\n",
       "      <td>0.094742</td>\n",
       "      <td>0.061146</td>\n",
       "      <td>0.006931</td>\n",
       "      <td>0.396606</td>\n",
       "      <td>0.001152</td>\n",
       "      <td>0.629982</td>\n",
       "      <td>0.004498</td>\n",
       "      <td>2.0</td>\n",
       "      <td>1.0</td>\n",
       "      <td>0.613333</td>\n",
       "      <td>0.005774</td>\n",
       "    </tr>\n",
       "    <tr>\n",
       "      <th>8</th>\n",
       "      <td>10000000.0</td>\n",
       "      <td>0.0</td>\n",
       "      <td>1.037306</td>\n",
       "      <td>0.239534</td>\n",
       "      <td>0.291311</td>\n",
       "      <td>0.127133</td>\n",
       "      <td>0.529251</td>\n",
       "      <td>0.000576</td>\n",
       "      <td>0.725725</td>\n",
       "      <td>0.002303</td>\n",
       "      <td>2.0</td>\n",
       "      <td>1.0</td>\n",
       "      <td>0.580000</td>\n",
       "      <td>0.000000</td>\n",
       "    </tr>\n",
       "  </tbody>\n",
       "</table>\n",
       "</div>"
      ],
      "text/plain": [
       "            neval      result_mean           result_sdev            \\\n",
       "             mean  std        mean       std        mean       std   \n",
       "ndims                                                                \n",
       "2      10000000.0  0.0    0.999689  0.001274    0.001755  0.000001   \n",
       "4      10000000.0  0.0    1.002901  0.002062    0.010090  0.000050   \n",
       "6      10000000.0  0.0    1.032724  0.094742    0.061146  0.006931   \n",
       "8      10000000.0  0.0    1.037306  0.239534    0.291311  0.127133   \n",
       "\n",
       "      result_gen_time           result_eval_time           run_num       \\\n",
       "                 mean       std             mean       std    mean  std   \n",
       "ndims                                                                     \n",
       "2            0.131648  0.000997         0.408574  0.001152     2.0  1.0   \n",
       "4            0.263966  0.000567         0.519272  0.004704     2.0  1.0   \n",
       "6            0.396606  0.001152         0.629982  0.004498     2.0  1.0   \n",
       "8            0.529251  0.000576         0.725725  0.002303     2.0  1.0   \n",
       "\n",
       "      eval_time_perc            \n",
       "                mean       std  \n",
       "ndims                           \n",
       "2           0.760000  0.000000  \n",
       "4           0.663333  0.005774  \n",
       "6           0.613333  0.005774  \n",
       "8           0.580000  0.000000  "
      ]
     },
     "execution_count": 38,
     "metadata": {},
     "output_type": "execute_result"
    }
   ],
   "source": [
    "# results from numpy\n",
    "\n",
    "time_df"
   ]
  },
  {
   "cell_type": "code",
   "execution_count": 188,
   "id": "scheduled-massachusetts",
   "metadata": {
    "ExecuteTime": {
     "end_time": "2022-06-07T09:20:58.858706Z",
     "start_time": "2022-06-07T09:20:58.843747Z"
    }
   },
   "outputs": [
    {
     "data": {
      "text/html": [
       "<div>\n",
       "<style scoped>\n",
       "    .dataframe tbody tr th:only-of-type {\n",
       "        vertical-align: middle;\n",
       "    }\n",
       "\n",
       "    .dataframe tbody tr th {\n",
       "        vertical-align: top;\n",
       "    }\n",
       "\n",
       "    .dataframe thead tr th {\n",
       "        text-align: left;\n",
       "    }\n",
       "\n",
       "    .dataframe thead tr:last-of-type th {\n",
       "        text-align: right;\n",
       "    }\n",
       "</style>\n",
       "<table border=\"1\" class=\"dataframe\">\n",
       "  <thead>\n",
       "    <tr>\n",
       "      <th></th>\n",
       "      <th colspan=\"2\" halign=\"left\">neval</th>\n",
       "      <th colspan=\"2\" halign=\"left\">result_mean</th>\n",
       "      <th colspan=\"2\" halign=\"left\">result_sdev</th>\n",
       "      <th colspan=\"2\" halign=\"left\">result_gen_time</th>\n",
       "      <th colspan=\"2\" halign=\"left\">result_eval_time</th>\n",
       "      <th colspan=\"2\" halign=\"left\">run_num</th>\n",
       "      <th colspan=\"2\" halign=\"left\">eval_time_perc</th>\n",
       "    </tr>\n",
       "    <tr>\n",
       "      <th></th>\n",
       "      <th>mean</th>\n",
       "      <th>std</th>\n",
       "      <th>mean</th>\n",
       "      <th>std</th>\n",
       "      <th>mean</th>\n",
       "      <th>std</th>\n",
       "      <th>mean</th>\n",
       "      <th>std</th>\n",
       "      <th>mean</th>\n",
       "      <th>std</th>\n",
       "      <th>mean</th>\n",
       "      <th>std</th>\n",
       "      <th>mean</th>\n",
       "      <th>std</th>\n",
       "    </tr>\n",
       "    <tr>\n",
       "      <th>ndims</th>\n",
       "      <th></th>\n",
       "      <th></th>\n",
       "      <th></th>\n",
       "      <th></th>\n",
       "      <th></th>\n",
       "      <th></th>\n",
       "      <th></th>\n",
       "      <th></th>\n",
       "      <th></th>\n",
       "      <th></th>\n",
       "      <th></th>\n",
       "      <th></th>\n",
       "      <th></th>\n",
       "      <th></th>\n",
       "    </tr>\n",
       "  </thead>\n",
       "  <tbody>\n",
       "    <tr>\n",
       "      <th>2</th>\n",
       "      <td>10000000.0</td>\n",
       "      <td>0.0</td>\n",
       "      <td>1.001198</td>\n",
       "      <td>0.001652</td>\n",
       "      <td>0.001757</td>\n",
       "      <td>0.000002</td>\n",
       "      <td>8.856975</td>\n",
       "      <td>0.294607</td>\n",
       "      <td>28.168985</td>\n",
       "      <td>0.115902</td>\n",
       "      <td>2.0</td>\n",
       "      <td>1.0</td>\n",
       "      <td>0.756667</td>\n",
       "      <td>0.005774</td>\n",
       "    </tr>\n",
       "    <tr>\n",
       "      <th>4</th>\n",
       "      <td>10000000.0</td>\n",
       "      <td>0.0</td>\n",
       "      <td>0.991086</td>\n",
       "      <td>0.005009</td>\n",
       "      <td>0.009955</td>\n",
       "      <td>0.000051</td>\n",
       "      <td>11.174443</td>\n",
       "      <td>0.163424</td>\n",
       "      <td>31.525340</td>\n",
       "      <td>0.047521</td>\n",
       "      <td>2.0</td>\n",
       "      <td>1.0</td>\n",
       "      <td>0.740000</td>\n",
       "      <td>0.000000</td>\n",
       "    </tr>\n",
       "    <tr>\n",
       "      <th>6</th>\n",
       "      <td>10000000.0</td>\n",
       "      <td>0.0</td>\n",
       "      <td>0.964469</td>\n",
       "      <td>0.010881</td>\n",
       "      <td>0.054550</td>\n",
       "      <td>0.000439</td>\n",
       "      <td>14.951008</td>\n",
       "      <td>0.395227</td>\n",
       "      <td>34.955499</td>\n",
       "      <td>0.124870</td>\n",
       "      <td>2.0</td>\n",
       "      <td>1.0</td>\n",
       "      <td>0.696667</td>\n",
       "      <td>0.005774</td>\n",
       "    </tr>\n",
       "    <tr>\n",
       "      <th>8</th>\n",
       "      <td>10000000.0</td>\n",
       "      <td>0.0</td>\n",
       "      <td>0.994901</td>\n",
       "      <td>0.164678</td>\n",
       "      <td>0.348377</td>\n",
       "      <td>0.041304</td>\n",
       "      <td>17.394804</td>\n",
       "      <td>0.524048</td>\n",
       "      <td>38.047893</td>\n",
       "      <td>0.084381</td>\n",
       "      <td>2.0</td>\n",
       "      <td>1.0</td>\n",
       "      <td>0.686667</td>\n",
       "      <td>0.005774</td>\n",
       "    </tr>\n",
       "  </tbody>\n",
       "</table>\n",
       "</div>"
      ],
      "text/plain": [
       "            neval      result_mean           result_sdev            \\\n",
       "             mean  std        mean       std        mean       std   \n",
       "ndims                                                                \n",
       "2      10000000.0  0.0    1.001198  0.001652    0.001757  0.000002   \n",
       "4      10000000.0  0.0    0.991086  0.005009    0.009955  0.000051   \n",
       "6      10000000.0  0.0    0.964469  0.010881    0.054550  0.000439   \n",
       "8      10000000.0  0.0    0.994901  0.164678    0.348377  0.041304   \n",
       "\n",
       "      result_gen_time           result_eval_time           run_num       \\\n",
       "                 mean       std             mean       std    mean  std   \n",
       "ndims                                                                     \n",
       "2            8.856975  0.294607        28.168985  0.115902     2.0  1.0   \n",
       "4           11.174443  0.163424        31.525340  0.047521     2.0  1.0   \n",
       "6           14.951008  0.395227        34.955499  0.124870     2.0  1.0   \n",
       "8           17.394804  0.524048        38.047893  0.084381     2.0  1.0   \n",
       "\n",
       "      eval_time_perc            \n",
       "                mean       std  \n",
       "ndims                           \n",
       "2           0.756667  0.005774  \n",
       "4           0.740000  0.000000  \n",
       "6           0.696667  0.005774  \n",
       "8           0.686667  0.005774  "
      ]
     },
     "execution_count": 188,
     "metadata": {},
     "output_type": "execute_result"
    }
   ],
   "source": [
    "# results from pure python\n",
    "\n",
    "time_df\n",
    "\n",
    "# result_sdev reaches {0.001757, 0.009955, 0.054550, 0.348377} on N = 1e7 samples"
   ]
  },
  {
   "cell_type": "code",
   "execution_count": null,
   "id": "bizarre-hunter",
   "metadata": {},
   "outputs": [],
   "source": []
  }
 ],
 "metadata": {
  "kernelspec": {
   "display_name": "mcenv",
   "language": "python",
   "name": "mcenv"
  },
  "language_info": {
   "codemirror_mode": {
    "name": "ipython",
    "version": 3
   },
   "file_extension": ".py",
   "mimetype": "text/x-python",
   "name": "python",
   "nbconvert_exporter": "python",
   "pygments_lexer": "ipython3",
   "version": "3.7.9"
  },
  "toc": {
   "base_numbering": 1,
   "nav_menu": {},
   "number_sections": true,
   "sideBar": true,
   "skip_h1_title": false,
   "title_cell": "Table of Contents",
   "title_sidebar": "Contents",
   "toc_cell": false,
   "toc_position": {
    "height": "calc(100% - 180px)",
    "left": "10px",
    "top": "150px",
    "width": "374.389px"
   },
   "toc_section_display": true,
   "toc_window_display": true
  }
 },
 "nbformat": 4,
 "nbformat_minor": 5
}
