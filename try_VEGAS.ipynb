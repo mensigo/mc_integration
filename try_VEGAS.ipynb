{
 "cells": [
  {
   "cell_type": "code",
   "execution_count": 1,
   "id": "solid-specialist",
   "metadata": {
    "ExecuteTime": {
     "end_time": "2022-05-28T22:31:32.686572Z",
     "start_time": "2022-05-28T22:31:26.409777Z"
    }
   },
   "outputs": [],
   "source": [
    "import os\n",
    "import time\n",
    "from datetime import datetime\n",
    "\n",
    "import numpy as np\n",
    "import pandas as pd\n",
    "import scipy as sp\n",
    "from tqdm import tqdm\n",
    "\n",
    "# import tensorflow as tf\n",
    "# import tensorflow_probability as tfp\n",
    "\n",
    "import vegas\n",
    "\n",
    "import matplotlib.pyplot as plt\n",
    "%matplotlib inline"
   ]
  },
  {
   "cell_type": "code",
   "execution_count": 2,
   "id": "israeli-pressure",
   "metadata": {
    "ExecuteTime": {
     "end_time": "2022-05-28T22:31:32.691559Z",
     "start_time": "2022-05-28T22:31:32.688567Z"
    }
   },
   "outputs": [],
   "source": [
    "# os.environ[\"CUDA_VISIBLE_DEVICES\"] = \"-1\""
   ]
  },
  {
   "cell_type": "code",
   "execution_count": 3,
   "id": "under-warning",
   "metadata": {
    "ExecuteTime": {
     "end_time": "2022-05-28T22:31:32.696545Z",
     "start_time": "2022-05-28T22:31:32.692556Z"
    }
   },
   "outputs": [],
   "source": [
    "# tf.test.is_gpu_available()"
   ]
  },
  {
   "cell_type": "code",
   "execution_count": 4,
   "id": "encouraging-right",
   "metadata": {
    "ExecuteTime": {
     "end_time": "2022-05-28T22:31:32.702529Z",
     "start_time": "2022-05-28T22:31:32.698541Z"
    }
   },
   "outputs": [],
   "source": [
    "# tf.compat.v1.enable_eager_execution()\n",
    "# print(tf.config.threading.get_inter_op_parallelism_threads())\n",
    "# print(tf.config.threading.get_intra_op_parallelism_threads())\n",
    "\n",
    "\n",
    "# tf.compat.v1.disable_eager_execution()\n",
    "# tf.config.threading.set_inter_op_parallelism_threads(64)\n",
    "# tf.config.threading.set_intra_op_parallelism_threads(64)"
   ]
  },
  {
   "cell_type": "code",
   "execution_count": 5,
   "id": "wrapped-division",
   "metadata": {
    "ExecuteTime": {
     "end_time": "2022-05-28T22:31:32.707516Z",
     "start_time": "2022-05-28T22:31:32.703527Z"
    }
   },
   "outputs": [],
   "source": [
    "# print(tf.config.threading.get_inter_op_parallelism_threads())\n",
    "# print(tf.config.threading.get_intra_op_parallelism_threads())"
   ]
  },
  {
   "cell_type": "code",
   "execution_count": 6,
   "id": "extreme-scientist",
   "metadata": {
    "ExecuteTime": {
     "end_time": "2022-05-28T22:31:32.712504Z",
     "start_time": "2022-05-28T22:31:32.708514Z"
    }
   },
   "outputs": [],
   "source": [
    "# def start_profiling():\n",
    "#     stamp = datetime.now().strftime(\"%Y%m%d-%H%M%S\")\n",
    "#     logdir = 'logs/func/%s' % stamp\n",
    "\n",
    "#     # Start tracing.                                                                                                                                                                              \n",
    "#     options = tf.profiler.experimental.ProfilerOptions(\n",
    "#         host_tracer_level=3, python_tracer_level=1, device_tracer_level=1, delay_ms=None\n",
    "#     )\n",
    "\n",
    "#     tf.profiler.experimental.start(logdir, options = options)\n",
    "#     return logdir\n",
    "    \n",
    "    \n",
    "# def end_profiling():\n",
    "#     tf.profiler.experimental.stop()"
   ]
  },
  {
   "cell_type": "code",
   "execution_count": 7,
   "id": "senior-guide",
   "metadata": {
    "ExecuteTime": {
     "end_time": "2022-05-28T22:31:32.718487Z",
     "start_time": "2022-05-28T22:31:32.713501Z"
    }
   },
   "outputs": [],
   "source": [
    "def f1(x):\n",
    "    \"\"\"\n",
    "        https://stackoverflow.com/questions/52774351/how-to-run-parallel-map-fn-when-eager-execution-enabled\n",
    "    \"\"\"\n",
    "    return tf.sin(tf.reduce_sum(x, axis=-1))"
   ]
  },
  {
   "cell_type": "code",
   "execution_count": 8,
   "id": "latter-citizen",
   "metadata": {
    "ExecuteTime": {
     "end_time": "2022-05-28T22:31:32.724471Z",
     "start_time": "2022-05-28T22:31:32.719485Z"
    }
   },
   "outputs": [],
   "source": [
    "ndim = 9\n",
    "sigma = 0.01\n",
    "alpha = sigma * np.sqrt(2)\n",
    "\n",
    "def f2(x):\n",
    "    pre = tf.cast(1.0 / (alpha * tf.sqrt(np.pi)) ** ndim, dtype=tf.float64)\n",
    "    exponent = -1 * tf.reduce_sum(x ** 2, axis=-1) / alpha ** 2\n",
    "    return pre * tf.exp(exponent)"
   ]
  },
  {
   "cell_type": "code",
   "execution_count": 9,
   "id": "cognitive-remove",
   "metadata": {
    "ExecuteTime": {
     "end_time": "2022-05-22T22:28:55.849318Z",
     "start_time": "2022-05-22T22:28:55.846326Z"
    }
   },
   "outputs": [],
   "source": [
    "# c1 = tf.random.uniform(shape=(10,6), minval=0, maxval=10, dtype=tf.float64)\n",
    "# c2 = tf.random.uniform(shape=(2,9), minval=0, maxval=.04, dtype=tf.float64)"
   ]
  },
  {
   "cell_type": "code",
   "execution_count": 10,
   "id": "exotic-salad",
   "metadata": {
    "ExecuteTime": {
     "end_time": "2022-05-22T22:28:55.855302Z",
     "start_time": "2022-05-22T22:28:55.852310Z"
    }
   },
   "outputs": [],
   "source": [
    "# x = tf.compat.v1.placeholder(tf.float64, shape=[None])\n",
    "\n",
    "# with tf.compat.v1.Session() as sess:\n",
    "\n",
    "#     #writer = tf.summary.create_file_writer(logdir)\n",
    "\n",
    "#     #tf.profiler.experimental.start(logdir, options = options)                                                                                                                                \n",
    "#     #tf.summary.trace_on(graph=True, profiler=True)\n",
    "\n",
    "#     print(\n",
    "#         sess.run(\n",
    "#             f1(c1),\n",
    "# #             feed_dict={\n",
    "# #                 x: np.ones(4, dtype=np.int)\n",
    "# #             }\n",
    "#         )\n",
    "#     )\n",
    "\n",
    "# #f1(c1)"
   ]
  },
  {
   "cell_type": "code",
   "execution_count": 9,
   "id": "structured-footwear",
   "metadata": {
    "ExecuteTime": {
     "end_time": "2022-05-28T22:31:37.915672Z",
     "start_time": "2022-05-28T22:31:37.910685Z"
    }
   },
   "outputs": [],
   "source": [
    "def variance_weighted_result(means, stddevs):\n",
    "    \"\"\" Computes weighted mean and stddev of given means and\n",
    "        stddevs arrays, using Inverse-variance weighting\n",
    "    \"\"\"\n",
    "    assert np.size(means) == np.size(stddevs)\n",
    "    assert means.shape == stddevs.shape\n",
    "    variance = 1./np.sum(1./stddevs**2, axis=-1)\n",
    "    mean = np.sum(means/(stddevs**2), axis=-1)\n",
    "    mean *= variance\n",
    "    return mean, np.sqrt(variance)"
   ]
  },
  {
   "cell_type": "code",
   "execution_count": 55,
   "id": "preliminary-engineering",
   "metadata": {
    "ExecuteTime": {
     "end_time": "2022-05-28T23:11:52.527025Z",
     "start_time": "2022-05-28T23:11:51.140732Z"
    }
   },
   "outputs": [
    {
     "name": "stdout",
     "output_type": "stream",
     "text": [
      "itn   integral        wgt average     chi2/dof        Q\n",
      "-------------------------------------------------------\n",
      "  1   0.9994(12)      0.9994(12)          0.00     1.00\n",
      "  2   0.9994(10)      0.99936(79)         0.00     1.00\n",
      "  3   0.99917(89)     0.99927(59)         0.01     0.99\n",
      "  4   0.99953(77)     0.99937(47)         0.03     0.99\n",
      "  5   1.00197(67)     1.00023(38)         2.57     0.04\n",
      "  6   0.99971(59)     1.00007(32)         2.16     0.06\n",
      "  7   1.00025(53)     1.00012(28)         1.81     0.09\n",
      "  8   1.00066(49)     1.00025(24)         1.69     0.11\n",
      "  9   1.00030(46)     1.00026(21)         1.48     0.16\n",
      " 10   0.99970(43)     1.00015(19)         1.46     0.15\n",
      "\n",
      "result = 1.00015(19)    Q = 0.15\n"
     ]
    }
   ],
   "source": [
    "# try gauss_8d\n",
    "\n",
    "ndims = 8\n",
    "\n",
    "sigma = 0.05\n",
    "alpha = sigma * np.sqrt(2)\n",
    "pi = np.pi\n",
    "\n",
    "@vegas.batchintegrand\n",
    "def f1_np(x):\n",
    "    pre = 1.0 / (alpha * np.sqrt(pi)) ** ndims\n",
    "    exponent = -1 * np.sum((x - .5) ** 2, axis=-1) / alpha ** 2\n",
    "    return pre * np.exp(exponent)\n",
    "\n",
    "\n",
    "integ = vegas.Integrator([[0, 1]] * ndims, mpi=False)\n",
    "\n",
    "current_result = integ(f1_np, nitn=10, neval=2e5)\n",
    "current_result = integ(f1_np, nitn=10, neval=2e5)\n",
    "\n",
    "print(current_result.summary())\n",
    "print('result = %s    Q = %.2f' % (current_result, current_result.Q))"
   ]
  },
  {
   "cell_type": "code",
   "execution_count": 62,
   "id": "armed-garden",
   "metadata": {
    "ExecuteTime": {
     "end_time": "2022-05-28T23:12:38.247748Z",
     "start_time": "2022-05-28T23:12:38.004399Z"
    }
   },
   "outputs": [
    {
     "data": {
      "image/png": "[encoded data removed]",
      "text/plain": [
       "<Figure size 432x288 with 1 Axes>"
      ]
     },
     "metadata": {
      "needs_background": "light"
     },
     "output_type": "display_data"
    },
    {
     "data": {
      "image/png": "[encoded data removed]",
      "text/plain": [
       "<Figure size 432x288 with 1 Axes>"
      ]
     },
     "metadata": {
      "needs_background": "light"
     },
     "output_type": "display_data"
    }
   ],
   "source": [
    "integ.map.show_grid(20, axes=[[0,1]])\n",
    "integ.map.show_grid(20, axes=[[2,3]])"
   ]
  },
  {
   "cell_type": "code",
   "execution_count": 63,
   "id": "considered-roberts",
   "metadata": {
    "ExecuteTime": {
     "end_time": "2022-05-28T23:12:54.723685Z",
     "start_time": "2022-05-28T23:12:52.948433Z"
    }
   },
   "outputs": [
    {
     "name": "stdout",
     "output_type": "stream",
     "text": [
      "itn   integral        wgt average     chi2/dof        Q\n",
      "-------------------------------------------------------\n",
      "  1   0.971(11)       0.971(11)           0.00     1.00\n",
      "  2   0.9798(97)      0.9760(73)          0.35     0.55\n",
      "  3   0.9819(69)      0.9791(50)          0.34     0.71\n",
      "  4   0.9657(71)      0.9746(41)          1.02     0.38\n",
      "  5   0.9698(71)      0.9734(36)          0.85     0.49\n",
      "  6   0.9719(76)      0.9731(32)          0.69     0.63\n",
      "  7   1.081(76)       0.9733(32)          0.91     0.49\n",
      "  8   1.020(30)       0.9739(32)          1.12     0.35\n",
      "  9   0.9892(76)      0.9762(30)          1.41     0.19\n",
      " 10   0.9878(77)      0.9776(28)          1.47     0.15\n",
      "\n",
      "result = 0.9776(28)    Q = 0.15\n"
     ]
    }
   ],
   "source": [
    "# try triple_gauss_8d\n",
    "\n",
    "ndims = 8\n",
    "\n",
    "sigma = 0.05\n",
    "alpha = sigma * np.sqrt(2)\n",
    "pi = np.pi\n",
    "\n",
    "norm_m1, norm_m2, norm_m3 = 0.33, 0.47, 0.67\n",
    "\n",
    "@vegas.batchintegrand\n",
    "def f2_np(x):\n",
    "    pre = 1. / (alpha * np.sqrt(pi)) ** ndims\n",
    "    exponent1 = -1. * np.sum(((x - norm_m1) ** 2), axis=-1) / alpha ** 2\n",
    "    exponent2 = -1. * np.sum(((x - norm_m2) ** 2), axis=-1) / alpha ** 2\n",
    "    exponent3 = -1. * np.sum(((x - norm_m3) ** 2), axis=-1) / alpha ** 2\n",
    "    return pre / 3 * (np.exp(exponent1) + np.exp(exponent2) + np.exp(exponent3))\n",
    "\n",
    "\n",
    "integ = vegas.Integrator([[0, 1]] * ndims, mpi=False)\n",
    "\n",
    "current_result = integ(f2_np, nitn=10, neval=2e5)\n",
    "current_result = integ(f2_np, nitn=10, neval=2e5)\n",
    "\n",
    "print(current_result.summary())\n",
    "print('result = %s    Q = %.2f' % (current_result, current_result.Q))"
   ]
  },
  {
   "cell_type": "code",
   "execution_count": 65,
   "id": "bound-trader",
   "metadata": {
    "ExecuteTime": {
     "end_time": "2022-05-28T23:12:59.695388Z",
     "start_time": "2022-05-28T23:12:59.388210Z"
    }
   },
   "outputs": [
    {
     "data": {
      "image/png": "[encoded data removed]",
      "text/plain": [
       "<Figure size 432x288 with 1 Axes>"
      ]
     },
     "metadata": {
      "needs_background": "light"
     },
     "output_type": "display_data"
    },
    {
     "data": {
      "image/png": "[encoded data removed]",
      "text/plain": [
       "<Figure size 432x288 with 1 Axes>"
      ]
     },
     "metadata": {
      "needs_background": "light"
     },
     "output_type": "display_data"
    }
   ],
   "source": [
    "integ.map.show_grid(40, axes=[[0,1]])\n",
    "integ.map.show_grid(40, axes=[[2,3]])"
   ]
  },
  {
   "cell_type": "code",
   "execution_count": 77,
   "id": "mobile-crystal",
   "metadata": {
    "ExecuteTime": {
     "end_time": "2022-05-28T23:31:22.889440Z",
     "start_time": "2022-05-28T23:31:22.883456Z"
    }
   },
   "outputs": [],
   "source": [
    "vegas.Integrator?"
   ]
  },
  {
   "cell_type": "code",
   "execution_count": 101,
   "id": "aboriginal-norway",
   "metadata": {
    "ExecuteTime": {
     "end_time": "2022-05-29T00:33:52.829927Z",
     "start_time": "2022-05-29T00:32:24.154083Z"
    },
    "scrolled": true
   },
   "outputs": [
    {
     "name": "stdout",
     "output_type": "stream",
     "text": [
      "itn   integral        wgt average     chi2/dof        Q\n",
      "-------------------------------------------------------\n",
      "  1   12.26(22)       12.26(22)           0.00     1.00\n",
      "  2   12.54(22)       12.40(16)           0.82     0.37\n",
      "  3   12.21(22)       12.34(13)           0.65     0.52\n",
      "  4   12.82(22)       12.46(11)           1.63     0.18\n",
      "  5   12.71(22)       12.510(99)          1.49     0.20\n",
      "  6   12.30(22)       12.475(90)          1.35     0.24\n",
      "  7   12.38(22)       12.461(83)          1.15     0.33\n",
      "  8   12.70(22)       12.491(78)          1.14     0.34\n",
      "  9   12.20(22)       12.459(74)          1.19     0.30\n",
      " 10   12.26(22)       12.439(70)          1.14     0.33\n",
      "\n",
      "result = 12.439(70)    Q = 0.33\n"
     ]
    }
   ],
   "source": [
    "# try sin_8d\n",
    "\n",
    "ndims = 4\n",
    "\n",
    "\n",
    "\n",
    "class TestClass():\n",
    "    \n",
    "    def __init__(self):\n",
    "        self.ncalls_counter = 0\n",
    "\n",
    "    @vegas.batchintegrand\n",
    "    def f3_np(self, x):\n",
    "        self.ncalls_counter += 1\n",
    "        return np.sin(np.sum(x, axis=-1))\n",
    "\n",
    "\n",
    "integ = vegas.Integrator([[0, 10]] * ndims, mpi=False,\n",
    "                         nhcube_batch=1000*20000,\n",
    "                         max_nhcube=1e9,\n",
    "                         max_neval_hcube=1e6*10000,\n",
    "                         max_mem=2e9\n",
    "                        )\n",
    "\n",
    "\n",
    "bb = TestClass()\n",
    "\n",
    "integ(bb.f3_np, nitn=10, neval=2e7)\n",
    "current_result = integ(bb.f3_np, nitn=10, neval=2e7)\n",
    "\n",
    "print(current_result.summary())\n",
    "print('result = %s    Q = %.2f' % (current_result, current_result.Q))"
   ]
  },
  {
   "cell_type": "code",
   "execution_count": 87,
   "id": "interim-cooperative",
   "metadata": {
    "ExecuteTime": {
     "end_time": "2022-05-28T23:40:10.649043Z",
     "start_time": "2022-05-28T23:40:10.645105Z"
    }
   },
   "outputs": [
    {
     "name": "stdout",
     "output_type": "stream",
     "text": [
      "62\n"
     ]
    }
   ],
   "source": [
    "print(bb.ncalls_counter)"
   ]
  },
  {
   "cell_type": "code",
   "execution_count": null,
   "id": "professional-sewing",
   "metadata": {},
   "outputs": [],
   "source": [
    "# try sin_8d\n",
    "\n",
    "ndims = 4\n",
    "\n",
    "\n",
    "\n",
    "class TestClass():\n",
    "    \n",
    "    def __init__(self):\n",
    "        self.ncalls_counter = 0\n",
    "\n",
    "    @vegas.batchintegrand\n",
    "    def f3_np(self, x):\n",
    "        self.ncalls_counter += 1\n",
    "        return np.sin(np.sum(x, axis=-1))\n",
    "\n",
    "\n",
    "integ = vegas.Integrator([[0, 10]] * ndims, mpi=False, nhcube_batch=5_000_000)\n",
    "\n",
    "\n",
    "bb = TestClass()\n",
    "\n",
    "integ(bb.f3_np, nitn=10, neval=2e8)\n",
    "current_result = integ(bb.f3_np, nitn=10, neval=2e8)\n",
    "\n",
    "print(current_result.summary())\n",
    "print('result = %s    Q = %.2f' % (current_result, current_result.Q))"
   ]
  },
  {
   "cell_type": "code",
   "execution_count": null,
   "id": "wrong-windows",
   "metadata": {},
   "outputs": [],
   "source": []
  },
  {
   "cell_type": "code",
   "execution_count": null,
   "id": "fancy-kentucky",
   "metadata": {},
   "outputs": [],
   "source": []
  },
  {
   "cell_type": "code",
   "execution_count": null,
   "id": "pharmaceutical-cowboy",
   "metadata": {},
   "outputs": [],
   "source": []
  },
  {
   "cell_type": "code",
   "execution_count": null,
   "id": "korean-register",
   "metadata": {},
   "outputs": [],
   "source": []
  },
  {
   "cell_type": "code",
   "execution_count": null,
   "id": "noble-prague",
   "metadata": {},
   "outputs": [],
   "source": []
  },
  {
   "cell_type": "code",
   "execution_count": null,
   "id": "neural-whale",
   "metadata": {},
   "outputs": [],
   "source": []
  },
  {
   "cell_type": "code",
   "execution_count": null,
   "id": "partial-racing",
   "metadata": {},
   "outputs": [],
   "source": []
  },
  {
   "cell_type": "markdown",
   "id": "indoor-camping",
   "metadata": {},
   "source": [
    "### F1"
   ]
  },
  {
   "cell_type": "code",
   "execution_count": 12,
   "id": "fallen-faculty",
   "metadata": {
    "ExecuteTime": {
     "end_time": "2022-05-22T22:28:56.279218Z",
     "start_time": "2022-05-22T22:28:56.272186Z"
    }
   },
   "outputs": [
    {
     "data": {
      "text/plain": [
       "(-49.165073816419444, 0.001)"
      ]
     },
     "execution_count": 12,
     "metadata": {},
     "output_type": "execute_result"
    }
   ],
   "source": [
    "target = 128 * (np.cos(5) + np.cos(15) + np.cos(25)) * np.sin(5) **7\n",
    "\n",
    "precision = 1e-3\n",
    "target_precision = min(abs(precision * target), precision)\n",
    "\n",
    "target, target_precision"
   ]
  },
  {
   "cell_type": "markdown",
   "id": "helpful-arthur",
   "metadata": {},
   "source": [
    "#### Simple"
   ]
  },
  {
   "cell_type": "code",
   "execution_count": 24,
   "id": "documented-testimony",
   "metadata": {
    "ExecuteTime": {
     "end_time": "2022-05-22T22:30:37.482407Z",
     "start_time": "2022-05-22T22:30:37.479415Z"
    }
   },
   "outputs": [],
   "source": [
    "def f1(x):\n",
    "    return np.sin(np.sum(x, axis=-1))"
   ]
  },
  {
   "cell_type": "code",
   "execution_count": 25,
   "id": "congressional-conducting",
   "metadata": {
    "ExecuteTime": {
     "end_time": "2022-05-22T22:30:37.868375Z",
     "start_time": "2022-05-22T22:30:37.864386Z"
    }
   },
   "outputs": [],
   "source": [
    "ndims = 6"
   ]
  },
  {
   "cell_type": "code",
   "execution_count": 26,
   "id": "defensive-private",
   "metadata": {
    "ExecuteTime": {
     "end_time": "2022-05-22T22:41:32.439116Z",
     "start_time": "2022-05-22T22:30:38.464779Z"
    },
    "scrolled": true
   },
   "outputs": [
    {
     "name": "stdout",
     "output_type": "stream",
     "text": [
      "run=1 neval=10000\n",
      "- 89413.0\n",
      "\n",
      "run=1 neval=100000\n",
      "- 943687.0\n",
      "\n",
      "run=1 neval=1000000\n",
      "- 9279982.0\n",
      "\n",
      "run=2 neval=10000\n",
      "- 89385.0\n",
      "\n",
      "run=2 neval=100000\n",
      "- 943929.0\n",
      "\n",
      "run=2 neval=1000000\n",
      "- 9279609.0\n",
      "\n",
      "run=3 neval=10000\n",
      "- 89399.0\n",
      "\n",
      "run=3 neval=100000\n",
      "- 943943.0\n",
      "\n",
      "run=3 neval=1000000\n",
      "- 9280271.0\n",
      "\n",
      "run=4 neval=10000\n",
      "- 89372.0\n",
      "\n",
      "run=4 neval=100000\n",
      "- 943801.0\n",
      "\n",
      "run=4 neval=1000000\n",
      "- 9279638.0\n",
      "\n",
      "run=5 neval=10000\n",
      "- 89374.0\n",
      "\n",
      "run=5 neval=100000\n",
      "- 943947.0\n",
      "\n",
      "run=5 neval=1000000\n",
      "- 9279573.0\n",
      "\n",
      "run=6 neval=10000\n",
      "- 89394.0\n",
      "\n",
      "run=6 neval=100000\n",
      "- 943989.0\n",
      "\n",
      "run=6 neval=1000000\n",
      "- 9280308.0\n",
      "\n",
      "run=7 neval=10000\n",
      "- 89364.0\n",
      "\n",
      "run=7 neval=100000\n",
      "- 943743.0\n",
      "\n",
      "run=7 neval=1000000\n",
      "- 9279950.0\n",
      "\n",
      "run=8 neval=10000\n",
      "- 89360.0\n",
      "\n",
      "run=8 neval=100000\n",
      "- 944077.0\n",
      "\n",
      "run=8 neval=1000000\n",
      "- 9280053.0\n",
      "\n",
      "run=9 neval=10000\n",
      "- 89313.0\n",
      "\n",
      "run=9 neval=100000\n",
      "- 943895.0\n",
      "\n",
      "run=9 neval=1000000\n",
      "- 9279925.0\n",
      "\n",
      "run=10 neval=10000\n",
      "- 89394.0\n",
      "\n",
      "run=10 neval=100000\n",
      "- 943895.0\n",
      "\n",
      "run=10 neval=1000000\n",
      "- 9279785.0\n",
      "\n"
     ]
    }
   ],
   "source": [
    "np.random.seed(123)\n",
    "\n",
    "results = []\n",
    "results_means = []\n",
    "results_stddevs = []\n",
    "results_nevals_used = []\n",
    "result_times = []\n",
    "result_runs = []\n",
    "\n",
    "neval_lst = list(map(int, [1e4, 1e5, 1e6]))\n",
    "run_lst = list(range(1,11))\n",
    "\n",
    "\n",
    "for run in run_lst:\n",
    "    for neval in neval_lst:\n",
    "        \n",
    "        print(f'run={run} neval={neval}')\n",
    "                \n",
    "        time_a = time.time()\n",
    "        integ = vegas.Integrator([[0, 10]] * ndims, mpi=False)\n",
    "        current_result = integ(f1, nitn=10, neval=neval)\n",
    "        time_b = time.time() - time_a\n",
    "        result_times.append(time_b)\n",
    "        result_runs.append(run)\n",
    "        \n",
    "        results_nevals_used.append(current_result.sum_neval)\n",
    "        print(f'- {current_result.sum_neval}\\n')\n",
    "\n",
    "        #current_result_mean = tf.reduce_mean(current_result).numpy()\n",
    "        #current_result_stddev = tf.math.reduce_std(current_result).numpy()\n",
    "\n",
    "        results_means.append(current_result.mean)\n",
    "        results_stddevs.append(current_result.sdev)\n",
    "        results.append(current_result)"
   ]
  },
  {
   "cell_type": "code",
   "execution_count": 27,
   "id": "certain-cross",
   "metadata": {
    "ExecuteTime": {
     "end_time": "2022-05-22T22:41:32.446098Z",
     "start_time": "2022-05-22T22:41:32.440113Z"
    }
   },
   "outputs": [],
   "source": [
    "temp_df = pd.DataFrame({'neval': neval_lst * len(run_lst),\n",
    "                        'result_means': results_means,\n",
    "                        'results_stddevs': results_stddevs,\n",
    "                        'results_nevals_used': results_nevals_used,\n",
    "                        'result_times': result_times,\n",
    "                        'run': result_runs\n",
    "                       })\n",
    "temp_df['s_per_sample'] = temp_df.result_times / temp_df.results_nevals_used"
   ]
  },
  {
   "cell_type": "code",
   "execution_count": 28,
   "id": "broken-pound",
   "metadata": {
    "ExecuteTime": {
     "end_time": "2022-05-22T22:41:32.461058Z",
     "start_time": "2022-05-22T22:41:32.447096Z"
    }
   },
   "outputs": [
    {
     "data": {
      "text/html": [
       "<div>\n",
       "<style scoped>\n",
       "    .dataframe tbody tr th:only-of-type {\n",
       "        vertical-align: middle;\n",
       "    }\n",
       "\n",
       "    .dataframe tbody tr th {\n",
       "        vertical-align: top;\n",
       "    }\n",
       "\n",
       "    .dataframe thead th {\n",
       "        text-align: right;\n",
       "    }\n",
       "</style>\n",
       "<table border=\"1\" class=\"dataframe\">\n",
       "  <thead>\n",
       "    <tr style=\"text-align: right;\">\n",
       "      <th></th>\n",
       "      <th>neval</th>\n",
       "      <th>result_means</th>\n",
       "      <th>results_stddevs</th>\n",
       "      <th>results_nevals_used</th>\n",
       "      <th>result_times</th>\n",
       "      <th>run</th>\n",
       "      <th>s_per_sample</th>\n",
       "    </tr>\n",
       "  </thead>\n",
       "  <tbody>\n",
       "    <tr>\n",
       "      <th>0</th>\n",
       "      <td>10000</td>\n",
       "      <td>-667.343862</td>\n",
       "      <td>2379.915093</td>\n",
       "      <td>89413.0</td>\n",
       "      <td>0.580447</td>\n",
       "      <td>1</td>\n",
       "      <td>0.000006</td>\n",
       "    </tr>\n",
       "    <tr>\n",
       "      <th>1</th>\n",
       "      <td>100000</td>\n",
       "      <td>676.329742</td>\n",
       "      <td>697.777805</td>\n",
       "      <td>943687.0</td>\n",
       "      <td>6.008923</td>\n",
       "      <td>1</td>\n",
       "      <td>0.000006</td>\n",
       "    </tr>\n",
       "    <tr>\n",
       "      <th>2</th>\n",
       "      <td>1000000</td>\n",
       "      <td>-58.677959</td>\n",
       "      <td>188.600756</td>\n",
       "      <td>9279982.0</td>\n",
       "      <td>58.912385</td>\n",
       "      <td>1</td>\n",
       "      <td>0.000006</td>\n",
       "    </tr>\n",
       "    <tr>\n",
       "      <th>3</th>\n",
       "      <td>10000</td>\n",
       "      <td>2217.599709</td>\n",
       "      <td>2376.269501</td>\n",
       "      <td>89385.0</td>\n",
       "      <td>0.577456</td>\n",
       "      <td>2</td>\n",
       "      <td>0.000006</td>\n",
       "    </tr>\n",
       "    <tr>\n",
       "      <th>4</th>\n",
       "      <td>100000</td>\n",
       "      <td>-1365.761603</td>\n",
       "      <td>697.433384</td>\n",
       "      <td>943929.0</td>\n",
       "      <td>6.011915</td>\n",
       "      <td>2</td>\n",
       "      <td>0.000006</td>\n",
       "    </tr>\n",
       "    <tr>\n",
       "      <th>5</th>\n",
       "      <td>1000000</td>\n",
       "      <td>161.171006</td>\n",
       "      <td>188.707142</td>\n",
       "      <td>9279609.0</td>\n",
       "      <td>58.575287</td>\n",
       "      <td>2</td>\n",
       "      <td>0.000006</td>\n",
       "    </tr>\n",
       "    <tr>\n",
       "      <th>6</th>\n",
       "      <td>10000</td>\n",
       "      <td>-1999.056595</td>\n",
       "      <td>2380.704784</td>\n",
       "      <td>89399.0</td>\n",
       "      <td>0.574463</td>\n",
       "      <td>3</td>\n",
       "      <td>0.000006</td>\n",
       "    </tr>\n",
       "    <tr>\n",
       "      <th>7</th>\n",
       "      <td>100000</td>\n",
       "      <td>226.485428</td>\n",
       "      <td>697.182933</td>\n",
       "      <td>943943.0</td>\n",
       "      <td>5.978007</td>\n",
       "      <td>3</td>\n",
       "      <td>0.000006</td>\n",
       "    </tr>\n",
       "    <tr>\n",
       "      <th>8</th>\n",
       "      <td>1000000</td>\n",
       "      <td>-159.439159</td>\n",
       "      <td>188.626218</td>\n",
       "      <td>9280271.0</td>\n",
       "      <td>59.351337</td>\n",
       "      <td>3</td>\n",
       "      <td>0.000006</td>\n",
       "    </tr>\n",
       "    <tr>\n",
       "      <th>9</th>\n",
       "      <td>10000</td>\n",
       "      <td>936.703662</td>\n",
       "      <td>2376.560995</td>\n",
       "      <td>89372.0</td>\n",
       "      <td>0.590440</td>\n",
       "      <td>4</td>\n",
       "      <td>0.000007</td>\n",
       "    </tr>\n",
       "    <tr>\n",
       "      <th>10</th>\n",
       "      <td>100000</td>\n",
       "      <td>1280.404205</td>\n",
       "      <td>697.129048</td>\n",
       "      <td>943801.0</td>\n",
       "      <td>6.133676</td>\n",
       "      <td>4</td>\n",
       "      <td>0.000006</td>\n",
       "    </tr>\n",
       "    <tr>\n",
       "      <th>11</th>\n",
       "      <td>1000000</td>\n",
       "      <td>-241.076202</td>\n",
       "      <td>188.684249</td>\n",
       "      <td>9279638.0</td>\n",
       "      <td>59.313837</td>\n",
       "      <td>4</td>\n",
       "      <td>0.000006</td>\n",
       "    </tr>\n",
       "    <tr>\n",
       "      <th>12</th>\n",
       "      <td>10000</td>\n",
       "      <td>-1189.557147</td>\n",
       "      <td>2375.120578</td>\n",
       "      <td>89374.0</td>\n",
       "      <td>0.580447</td>\n",
       "      <td>5</td>\n",
       "      <td>0.000006</td>\n",
       "    </tr>\n",
       "    <tr>\n",
       "      <th>13</th>\n",
       "      <td>100000</td>\n",
       "      <td>1926.067248</td>\n",
       "      <td>697.049050</td>\n",
       "      <td>943947.0</td>\n",
       "      <td>6.195070</td>\n",
       "      <td>5</td>\n",
       "      <td>0.000007</td>\n",
       "    </tr>\n",
       "    <tr>\n",
       "      <th>14</th>\n",
       "      <td>1000000</td>\n",
       "      <td>-242.356732</td>\n",
       "      <td>188.680273</td>\n",
       "      <td>9279573.0</td>\n",
       "      <td>59.008266</td>\n",
       "      <td>5</td>\n",
       "      <td>0.000006</td>\n",
       "    </tr>\n",
       "    <tr>\n",
       "      <th>15</th>\n",
       "      <td>10000</td>\n",
       "      <td>2054.315435</td>\n",
       "      <td>2373.301976</td>\n",
       "      <td>89394.0</td>\n",
       "      <td>0.574966</td>\n",
       "      <td>6</td>\n",
       "      <td>0.000006</td>\n",
       "    </tr>\n",
       "    <tr>\n",
       "      <th>16</th>\n",
       "      <td>100000</td>\n",
       "      <td>-392.937910</td>\n",
       "      <td>697.731004</td>\n",
       "      <td>943989.0</td>\n",
       "      <td>6.020468</td>\n",
       "      <td>6</td>\n",
       "      <td>0.000006</td>\n",
       "    </tr>\n",
       "    <tr>\n",
       "      <th>17</th>\n",
       "      <td>1000000</td>\n",
       "      <td>55.449135</td>\n",
       "      <td>188.727347</td>\n",
       "      <td>9280308.0</td>\n",
       "      <td>58.604541</td>\n",
       "      <td>6</td>\n",
       "      <td>0.000006</td>\n",
       "    </tr>\n",
       "    <tr>\n",
       "      <th>18</th>\n",
       "      <td>10000</td>\n",
       "      <td>1784.908275</td>\n",
       "      <td>2373.587093</td>\n",
       "      <td>89364.0</td>\n",
       "      <td>0.575974</td>\n",
       "      <td>7</td>\n",
       "      <td>0.000006</td>\n",
       "    </tr>\n",
       "    <tr>\n",
       "      <th>19</th>\n",
       "      <td>100000</td>\n",
       "      <td>301.175208</td>\n",
       "      <td>697.885174</td>\n",
       "      <td>943743.0</td>\n",
       "      <td>5.978072</td>\n",
       "      <td>7</td>\n",
       "      <td>0.000006</td>\n",
       "    </tr>\n",
       "    <tr>\n",
       "      <th>20</th>\n",
       "      <td>1000000</td>\n",
       "      <td>233.460737</td>\n",
       "      <td>188.678327</td>\n",
       "      <td>9279950.0</td>\n",
       "      <td>58.636497</td>\n",
       "      <td>7</td>\n",
       "      <td>0.000006</td>\n",
       "    </tr>\n",
       "    <tr>\n",
       "      <th>21</th>\n",
       "      <td>10000</td>\n",
       "      <td>-1482.774151</td>\n",
       "      <td>2380.569255</td>\n",
       "      <td>89360.0</td>\n",
       "      <td>0.565506</td>\n",
       "      <td>8</td>\n",
       "      <td>0.000006</td>\n",
       "    </tr>\n",
       "    <tr>\n",
       "      <th>22</th>\n",
       "      <td>100000</td>\n",
       "      <td>224.360965</td>\n",
       "      <td>696.301705</td>\n",
       "      <td>944077.0</td>\n",
       "      <td>5.990551</td>\n",
       "      <td>8</td>\n",
       "      <td>0.000006</td>\n",
       "    </tr>\n",
       "    <tr>\n",
       "      <th>23</th>\n",
       "      <td>1000000</td>\n",
       "      <td>-367.151323</td>\n",
       "      <td>188.731222</td>\n",
       "      <td>9280053.0</td>\n",
       "      <td>58.390987</td>\n",
       "      <td>8</td>\n",
       "      <td>0.000006</td>\n",
       "    </tr>\n",
       "    <tr>\n",
       "      <th>24</th>\n",
       "      <td>10000</td>\n",
       "      <td>1251.323769</td>\n",
       "      <td>2379.377700</td>\n",
       "      <td>89313.0</td>\n",
       "      <td>0.572488</td>\n",
       "      <td>9</td>\n",
       "      <td>0.000006</td>\n",
       "    </tr>\n",
       "    <tr>\n",
       "      <th>25</th>\n",
       "      <td>100000</td>\n",
       "      <td>-905.656186</td>\n",
       "      <td>696.676074</td>\n",
       "      <td>943895.0</td>\n",
       "      <td>5.934672</td>\n",
       "      <td>9</td>\n",
       "      <td>0.000006</td>\n",
       "    </tr>\n",
       "    <tr>\n",
       "      <th>26</th>\n",
       "      <td>1000000</td>\n",
       "      <td>-35.957087</td>\n",
       "      <td>188.650454</td>\n",
       "      <td>9279925.0</td>\n",
       "      <td>58.445958</td>\n",
       "      <td>9</td>\n",
       "      <td>0.000006</td>\n",
       "    </tr>\n",
       "    <tr>\n",
       "      <th>27</th>\n",
       "      <td>10000</td>\n",
       "      <td>-1416.775066</td>\n",
       "      <td>2381.821834</td>\n",
       "      <td>89394.0</td>\n",
       "      <td>0.578452</td>\n",
       "      <td>10</td>\n",
       "      <td>0.000006</td>\n",
       "    </tr>\n",
       "    <tr>\n",
       "      <th>28</th>\n",
       "      <td>100000</td>\n",
       "      <td>-1002.301908</td>\n",
       "      <td>696.473496</td>\n",
       "      <td>943895.0</td>\n",
       "      <td>5.998536</td>\n",
       "      <td>10</td>\n",
       "      <td>0.000006</td>\n",
       "    </tr>\n",
       "    <tr>\n",
       "      <th>29</th>\n",
       "      <td>1000000</td>\n",
       "      <td>43.313856</td>\n",
       "      <td>188.669936</td>\n",
       "      <td>9279785.0</td>\n",
       "      <td>58.706735</td>\n",
       "      <td>10</td>\n",
       "      <td>0.000006</td>\n",
       "    </tr>\n",
       "  </tbody>\n",
       "</table>\n",
       "</div>"
      ],
      "text/plain": [
       "      neval  result_means  results_stddevs  results_nevals_used  result_times  \\\n",
       "0     10000   -667.343862      2379.915093              89413.0      0.580447   \n",
       "1    100000    676.329742       697.777805             943687.0      6.008923   \n",
       "2   1000000    -58.677959       188.600756            9279982.0     58.912385   \n",
       "3     10000   2217.599709      2376.269501              89385.0      0.577456   \n",
       "4    100000  -1365.761603       697.433384             943929.0      6.011915   \n",
       "5   1000000    161.171006       188.707142            9279609.0     58.575287   \n",
       "6     10000  -1999.056595      2380.704784              89399.0      0.574463   \n",
       "7    100000    226.485428       697.182933             943943.0      5.978007   \n",
       "8   1000000   -159.439159       188.626218            9280271.0     59.351337   \n",
       "9     10000    936.703662      2376.560995              89372.0      0.590440   \n",
       "10   100000   1280.404205       697.129048             943801.0      6.133676   \n",
       "11  1000000   -241.076202       188.684249            9279638.0     59.313837   \n",
       "12    10000  -1189.557147      2375.120578              89374.0      0.580447   \n",
       "13   100000   1926.067248       697.049050             943947.0      6.195070   \n",
       "14  1000000   -242.356732       188.680273            9279573.0     59.008266   \n",
       "15    10000   2054.315435      2373.301976              89394.0      0.574966   \n",
       "16   100000   -392.937910       697.731004             943989.0      6.020468   \n",
       "17  1000000     55.449135       188.727347            9280308.0     58.604541   \n",
       "18    10000   1784.908275      2373.587093              89364.0      0.575974   \n",
       "19   100000    301.175208       697.885174             943743.0      5.978072   \n",
       "20  1000000    233.460737       188.678327            9279950.0     58.636497   \n",
       "21    10000  -1482.774151      2380.569255              89360.0      0.565506   \n",
       "22   100000    224.360965       696.301705             944077.0      5.990551   \n",
       "23  1000000   -367.151323       188.731222            9280053.0     58.390987   \n",
       "24    10000   1251.323769      2379.377700              89313.0      0.572488   \n",
       "25   100000   -905.656186       696.676074             943895.0      5.934672   \n",
       "26  1000000    -35.957087       188.650454            9279925.0     58.445958   \n",
       "27    10000  -1416.775066      2381.821834              89394.0      0.578452   \n",
       "28   100000  -1002.301908       696.473496             943895.0      5.998536   \n",
       "29  1000000     43.313856       188.669936            9279785.0     58.706735   \n",
       "\n",
       "    run  s_per_sample  \n",
       "0     1      0.000006  \n",
       "1     1      0.000006  \n",
       "2     1      0.000006  \n",
       "3     2      0.000006  \n",
       "4     2      0.000006  \n",
       "5     2      0.000006  \n",
       "6     3      0.000006  \n",
       "7     3      0.000006  \n",
       "8     3      0.000006  \n",
       "9     4      0.000007  \n",
       "10    4      0.000006  \n",
       "11    4      0.000006  \n",
       "12    5      0.000006  \n",
       "13    5      0.000007  \n",
       "14    5      0.000006  \n",
       "15    6      0.000006  \n",
       "16    6      0.000006  \n",
       "17    6      0.000006  \n",
       "18    7      0.000006  \n",
       "19    7      0.000006  \n",
       "20    7      0.000006  \n",
       "21    8      0.000006  \n",
       "22    8      0.000006  \n",
       "23    8      0.000006  \n",
       "24    9      0.000006  \n",
       "25    9      0.000006  \n",
       "26    9      0.000006  \n",
       "27   10      0.000006  \n",
       "28   10      0.000006  \n",
       "29   10      0.000006  "
      ]
     },
     "execution_count": 28,
     "metadata": {},
     "output_type": "execute_result"
    }
   ],
   "source": [
    "temp_df"
   ]
  },
  {
   "cell_type": "code",
   "execution_count": 29,
   "id": "incorporated-amplifier",
   "metadata": {
    "ExecuteTime": {
     "end_time": "2022-05-22T22:41:32.468039Z",
     "start_time": "2022-05-22T22:41:32.463052Z"
    }
   },
   "outputs": [],
   "source": [
    "g = temp_df.groupby('neval')['result_means'].apply(lambda x: x.tolist())"
   ]
  },
  {
   "cell_type": "code",
   "execution_count": 30,
   "id": "clear-relief",
   "metadata": {
    "ExecuteTime": {
     "end_time": "2022-05-22T22:41:32.552812Z",
     "start_time": "2022-05-22T22:41:32.469037Z"
    }
   },
   "outputs": [
    {
     "data": {
      "image/png": "[encoded data removed]",
      "text/plain": [
       "<Figure size 432x288 with 1 Axes>"
      ]
     },
     "metadata": {
      "needs_background": "light"
     },
     "output_type": "display_data"
    }
   ],
   "source": [
    "# plt.yscale('log')\n",
    "plt.axhline(y=target, linestyle=':')\n",
    "plt.title('VEGAS Simple')\n",
    "plt.xlabel('neval')\n",
    "plt.ylabel('result')\n",
    "plt.boxplot(g.values, labels=[f'{x:.0E}' for x in neval_lst]);"
   ]
  },
  {
   "cell_type": "code",
   "execution_count": 31,
   "id": "constitutional-jackson",
   "metadata": {
    "ExecuteTime": {
     "end_time": "2022-05-22T22:41:32.561788Z",
     "start_time": "2022-05-22T22:41:32.553809Z"
    }
   },
   "outputs": [
    {
     "data": {
      "text/html": [
       "<div>\n",
       "<style scoped>\n",
       "    .dataframe tbody tr th:only-of-type {\n",
       "        vertical-align: middle;\n",
       "    }\n",
       "\n",
       "    .dataframe tbody tr th {\n",
       "        vertical-align: top;\n",
       "    }\n",
       "\n",
       "    .dataframe thead th {\n",
       "        text-align: right;\n",
       "    }\n",
       "</style>\n",
       "<table border=\"1\" class=\"dataframe\">\n",
       "  <thead>\n",
       "    <tr style=\"text-align: right;\">\n",
       "      <th></th>\n",
       "      <th>mean</th>\n",
       "      <th>std</th>\n",
       "    </tr>\n",
       "    <tr>\n",
       "      <th>neval</th>\n",
       "      <th></th>\n",
       "      <th></th>\n",
       "    </tr>\n",
       "  </thead>\n",
       "  <tbody>\n",
       "    <tr>\n",
       "      <th>10000</th>\n",
       "      <td>148.934403</td>\n",
       "      <td>1653.540322</td>\n",
       "    </tr>\n",
       "    <tr>\n",
       "      <th>100000</th>\n",
       "      <td>96.816519</td>\n",
       "      <td>1040.818306</td>\n",
       "    </tr>\n",
       "    <tr>\n",
       "      <th>1000000</th>\n",
       "      <td>-61.126373</td>\n",
       "      <td>191.449978</td>\n",
       "    </tr>\n",
       "  </tbody>\n",
       "</table>\n",
       "</div>"
      ],
      "text/plain": [
       "               mean          std\n",
       "neval                           \n",
       "10000    148.934403  1653.540322\n",
       "100000    96.816519  1040.818306\n",
       "1000000  -61.126373   191.449978"
      ]
     },
     "execution_count": 31,
     "metadata": {},
     "output_type": "execute_result"
    }
   ],
   "source": [
    "temp_df.groupby('neval')['result_means'].agg([np.mean, np.std])"
   ]
  },
  {
   "cell_type": "code",
   "execution_count": 32,
   "id": "large-university",
   "metadata": {
    "ExecuteTime": {
     "end_time": "2022-05-22T22:41:32.568770Z",
     "start_time": "2022-05-22T22:41:32.562786Z"
    }
   },
   "outputs": [
    {
     "data": {
      "text/plain": [
       "-11.961298940414494"
      ]
     },
     "execution_count": 32,
     "metadata": {},
     "output_type": "execute_result"
    }
   ],
   "source": [
    "temp_df.groupby('neval')['result_means'].agg(np.mean).iloc[-1] - target"
   ]
  },
  {
   "cell_type": "code",
   "execution_count": 33,
   "id": "inner-cartridge",
   "metadata": {
    "ExecuteTime": {
     "end_time": "2022-05-22T22:41:32.576749Z",
     "start_time": "2022-05-22T22:41:32.569767Z"
    }
   },
   "outputs": [
    {
     "data": {
      "text/plain": [
       "neval\n",
       "10000       0.577064\n",
       "100000      6.024989\n",
       "1000000    58.794583\n",
       "Name: result_times, dtype: float64"
      ]
     },
     "execution_count": 33,
     "metadata": {},
     "output_type": "execute_result"
    }
   ],
   "source": [
    "g = temp_df.groupby('neval')['result_times'].apply(lambda x: x.tolist())\n",
    "g.apply(np.mean)"
   ]
  },
  {
   "cell_type": "code",
   "execution_count": 34,
   "id": "boolean-history",
   "metadata": {
    "ExecuteTime": {
     "end_time": "2022-05-22T22:41:32.802648Z",
     "start_time": "2022-05-22T22:41:32.577746Z"
    }
   },
   "outputs": [
    {
     "data": {
      "image/png": "[encoded data removed]",
      "text/plain": [
       "<Figure size 432x288 with 1 Axes>"
      ]
     },
     "metadata": {
      "needs_background": "light"
     },
     "output_type": "display_data"
    }
   ],
   "source": [
    "plt.title('VEGAS Simple')\n",
    "plt.xlabel('neval')\n",
    "plt.ylabel('time (s)')\n",
    "plt.scatter(g.index, g.apply(np.mean))\n",
    "plt.plot(g.index, g.apply(np.mean), linestyle='--')\n",
    "plt.xscale('log')"
   ]
  },
  {
   "cell_type": "markdown",
   "id": "adolescent-merchant",
   "metadata": {},
   "source": [
    "#### Precompute"
   ]
  },
  {
   "cell_type": "code",
   "execution_count": 35,
   "id": "affiliated-affect",
   "metadata": {
    "ExecuteTime": {
     "end_time": "2022-05-22T22:41:32.809630Z",
     "start_time": "2022-05-22T22:41:32.805641Z"
    }
   },
   "outputs": [],
   "source": [
    "def f1(x):\n",
    "    return np.sin(np.sum(x, axis=-1))"
   ]
  },
  {
   "cell_type": "code",
   "execution_count": 36,
   "id": "fuzzy-screen",
   "metadata": {
    "ExecuteTime": {
     "end_time": "2022-05-22T22:41:32.814617Z",
     "start_time": "2022-05-22T22:41:32.810627Z"
    }
   },
   "outputs": [],
   "source": [
    "ndims = 6"
   ]
  },
  {
   "cell_type": "code",
   "execution_count": 37,
   "id": "optical-writer",
   "metadata": {
    "ExecuteTime": {
     "end_time": "2022-05-22T23:03:22.198214Z",
     "start_time": "2022-05-22T22:41:32.816612Z"
    },
    "scrolled": true
   },
   "outputs": [
    {
     "name": "stdout",
     "output_type": "stream",
     "text": [
      "run=1 neval=10000\n",
      "- 89630.0\n",
      "\n",
      "run=1 neval=100000\n",
      "- 937550.0\n",
      "\n",
      "run=1 neval=1000000\n",
      "- 9267130.0\n",
      "\n",
      "run=2 neval=10000\n",
      "- 89540.0\n",
      "\n",
      "run=2 neval=100000\n",
      "- 937750.0\n",
      "\n",
      "run=2 neval=1000000\n",
      "- 9265000.0\n",
      "\n",
      "run=3 neval=10000\n",
      "- 89510.0\n",
      "\n",
      "run=3 neval=100000\n",
      "- 937390.0\n",
      "\n",
      "run=3 neval=1000000\n",
      "- 9265420.0\n",
      "\n",
      "run=4 neval=10000\n",
      "- 89800.0\n",
      "\n",
      "run=4 neval=100000\n",
      "- 937590.0\n",
      "\n",
      "run=4 neval=1000000\n",
      "- 9265640.0\n",
      "\n",
      "run=5 neval=10000\n",
      "- 89620.0\n",
      "\n",
      "run=5 neval=100000\n",
      "- 937800.0\n",
      "\n",
      "run=5 neval=1000000\n",
      "- 9265350.0\n",
      "\n",
      "run=6 neval=10000\n",
      "- 89540.0\n",
      "\n",
      "run=6 neval=100000\n",
      "- 938120.0\n",
      "\n",
      "run=6 neval=1000000\n",
      "- 9264580.0\n",
      "\n",
      "run=7 neval=10000\n",
      "- 89500.0\n",
      "\n",
      "run=7 neval=100000\n",
      "- 936820.0\n",
      "\n",
      "run=7 neval=1000000\n",
      "- 9266990.0\n",
      "\n",
      "run=8 neval=10000\n",
      "- 89780.0\n",
      "\n",
      "run=8 neval=100000\n",
      "- 937870.0\n",
      "\n",
      "run=8 neval=1000000\n",
      "- 9264250.0\n",
      "\n",
      "run=9 neval=10000\n",
      "- 89730.0\n",
      "\n",
      "run=9 neval=100000\n",
      "- 937470.0\n",
      "\n",
      "run=9 neval=1000000\n",
      "- 9265990.0\n",
      "\n",
      "run=10 neval=10000\n",
      "- 89550.0\n",
      "\n",
      "run=10 neval=100000\n",
      "- 937360.0\n",
      "\n",
      "run=10 neval=1000000\n",
      "- 9265970.0\n",
      "\n"
     ]
    }
   ],
   "source": [
    "np.random.seed(123)\n",
    "\n",
    "results = []\n",
    "results_means = []\n",
    "results_stddevs = []\n",
    "results_nevals_used = []\n",
    "result_times = []\n",
    "result_runs = []\n",
    "\n",
    "neval_lst = list(map(int, [1e4, 1e5, 1e6]))\n",
    "run_lst = list(range(1,11))\n",
    "\n",
    "\n",
    "for run in run_lst:\n",
    "    for neval in neval_lst:\n",
    "        \n",
    "        print(f'run={run} neval={neval}')\n",
    "                \n",
    "        time_a = time.time()\n",
    "        integ = vegas.Integrator([[0, 10]] * ndims, mpi=False)\n",
    "        \n",
    "        # precompute on 100% of nitn*neval\n",
    "        integ(f1, nitn=10, neval=neval)\n",
    "        \n",
    "        current_result = integ(f1, nitn=10, neval=neval, adapt=False)\n",
    "        time_b = time.time() - time_a\n",
    "        result_times.append(time_b)\n",
    "        result_runs.append(run)\n",
    "        \n",
    "        results_nevals_used.append(current_result.sum_neval)\n",
    "        print(f'- {current_result.sum_neval}\\n')\n",
    "\n",
    "        #current_result_mean = tf.reduce_mean(current_result).numpy()\n",
    "        #current_result_stddev = tf.math.reduce_std(current_result).numpy()\n",
    "\n",
    "        results_means.append(current_result.mean)\n",
    "        results_stddevs.append(current_result.sdev)\n",
    "        results.append(current_result)"
   ]
  },
  {
   "cell_type": "code",
   "execution_count": 38,
   "id": "vocational-discussion",
   "metadata": {
    "ExecuteTime": {
     "end_time": "2022-05-22T23:03:22.205195Z",
     "start_time": "2022-05-22T23:03:22.199211Z"
    }
   },
   "outputs": [],
   "source": [
    "temp_df = pd.DataFrame({'neval': neval_lst * len(run_lst),\n",
    "                        'result_means': results_means,\n",
    "                        'results_stddevs': results_stddevs,\n",
    "                        'results_nevals_used': results_nevals_used,\n",
    "                        'result_times': result_times,\n",
    "                        'run': result_runs\n",
    "                       })\n",
    "temp_df['s_per_sample'] = temp_df.result_times / temp_df.results_nevals_used"
   ]
  },
  {
   "cell_type": "code",
   "execution_count": 39,
   "id": "complete-retreat",
   "metadata": {
    "ExecuteTime": {
     "end_time": "2022-05-22T23:03:22.220155Z",
     "start_time": "2022-05-22T23:03:22.206193Z"
    }
   },
   "outputs": [
    {
     "data": {
      "text/html": [
       "<div>\n",
       "<style scoped>\n",
       "    .dataframe tbody tr th:only-of-type {\n",
       "        vertical-align: middle;\n",
       "    }\n",
       "\n",
       "    .dataframe tbody tr th {\n",
       "        vertical-align: top;\n",
       "    }\n",
       "\n",
       "    .dataframe thead th {\n",
       "        text-align: right;\n",
       "    }\n",
       "</style>\n",
       "<table border=\"1\" class=\"dataframe\">\n",
       "  <thead>\n",
       "    <tr style=\"text-align: right;\">\n",
       "      <th></th>\n",
       "      <th>neval</th>\n",
       "      <th>result_means</th>\n",
       "      <th>results_stddevs</th>\n",
       "      <th>results_nevals_used</th>\n",
       "      <th>result_times</th>\n",
       "      <th>run</th>\n",
       "      <th>s_per_sample</th>\n",
       "    </tr>\n",
       "  </thead>\n",
       "  <tbody>\n",
       "    <tr>\n",
       "      <th>0</th>\n",
       "      <td>10000</td>\n",
       "      <td>527.078154</td>\n",
       "      <td>2374.104281</td>\n",
       "      <td>89630.0</td>\n",
       "      <td>1.153427</td>\n",
       "      <td>1</td>\n",
       "      <td>0.000013</td>\n",
       "    </tr>\n",
       "    <tr>\n",
       "      <th>1</th>\n",
       "      <td>100000</td>\n",
       "      <td>1254.855042</td>\n",
       "      <td>701.100685</td>\n",
       "      <td>937550.0</td>\n",
       "      <td>11.930215</td>\n",
       "      <td>1</td>\n",
       "      <td>0.000013</td>\n",
       "    </tr>\n",
       "    <tr>\n",
       "      <th>2</th>\n",
       "      <td>1000000</td>\n",
       "      <td>-312.905799</td>\n",
       "      <td>189.157869</td>\n",
       "      <td>9267130.0</td>\n",
       "      <td>117.164514</td>\n",
       "      <td>1</td>\n",
       "      <td>0.000013</td>\n",
       "    </tr>\n",
       "    <tr>\n",
       "      <th>3</th>\n",
       "      <td>10000</td>\n",
       "      <td>-1082.312439</td>\n",
       "      <td>2376.191728</td>\n",
       "      <td>89540.0</td>\n",
       "      <td>1.131981</td>\n",
       "      <td>2</td>\n",
       "      <td>0.000013</td>\n",
       "    </tr>\n",
       "    <tr>\n",
       "      <th>4</th>\n",
       "      <td>100000</td>\n",
       "      <td>649.984730</td>\n",
       "      <td>701.603483</td>\n",
       "      <td>937750.0</td>\n",
       "      <td>11.954666</td>\n",
       "      <td>2</td>\n",
       "      <td>0.000013</td>\n",
       "    </tr>\n",
       "    <tr>\n",
       "      <th>5</th>\n",
       "      <td>1000000</td>\n",
       "      <td>-55.038064</td>\n",
       "      <td>189.221194</td>\n",
       "      <td>9265000.0</td>\n",
       "      <td>117.905084</td>\n",
       "      <td>2</td>\n",
       "      <td>0.000013</td>\n",
       "    </tr>\n",
       "    <tr>\n",
       "      <th>6</th>\n",
       "      <td>10000</td>\n",
       "      <td>-5359.943085</td>\n",
       "      <td>2379.877399</td>\n",
       "      <td>89510.0</td>\n",
       "      <td>1.145944</td>\n",
       "      <td>3</td>\n",
       "      <td>0.000013</td>\n",
       "    </tr>\n",
       "    <tr>\n",
       "      <th>7</th>\n",
       "      <td>100000</td>\n",
       "      <td>-647.913671</td>\n",
       "      <td>701.665226</td>\n",
       "      <td>937390.0</td>\n",
       "      <td>11.934287</td>\n",
       "      <td>3</td>\n",
       "      <td>0.000013</td>\n",
       "    </tr>\n",
       "    <tr>\n",
       "      <th>8</th>\n",
       "      <td>1000000</td>\n",
       "      <td>184.804677</td>\n",
       "      <td>189.144250</td>\n",
       "      <td>9265420.0</td>\n",
       "      <td>117.690540</td>\n",
       "      <td>3</td>\n",
       "      <td>0.000013</td>\n",
       "    </tr>\n",
       "    <tr>\n",
       "      <th>9</th>\n",
       "      <td>10000</td>\n",
       "      <td>1858.112759</td>\n",
       "      <td>2377.797522</td>\n",
       "      <td>89800.0</td>\n",
       "      <td>1.139466</td>\n",
       "      <td>4</td>\n",
       "      <td>0.000013</td>\n",
       "    </tr>\n",
       "    <tr>\n",
       "      <th>10</th>\n",
       "      <td>100000</td>\n",
       "      <td>138.113886</td>\n",
       "      <td>701.276957</td>\n",
       "      <td>937590.0</td>\n",
       "      <td>11.958665</td>\n",
       "      <td>4</td>\n",
       "      <td>0.000013</td>\n",
       "    </tr>\n",
       "    <tr>\n",
       "      <th>11</th>\n",
       "      <td>1000000</td>\n",
       "      <td>-35.667606</td>\n",
       "      <td>189.226438</td>\n",
       "      <td>9265640.0</td>\n",
       "      <td>117.236808</td>\n",
       "      <td>4</td>\n",
       "      <td>0.000013</td>\n",
       "    </tr>\n",
       "    <tr>\n",
       "      <th>12</th>\n",
       "      <td>10000</td>\n",
       "      <td>1419.276127</td>\n",
       "      <td>2382.947603</td>\n",
       "      <td>89620.0</td>\n",
       "      <td>1.142457</td>\n",
       "      <td>5</td>\n",
       "      <td>0.000013</td>\n",
       "    </tr>\n",
       "    <tr>\n",
       "      <th>13</th>\n",
       "      <td>100000</td>\n",
       "      <td>-313.405602</td>\n",
       "      <td>701.563819</td>\n",
       "      <td>937800.0</td>\n",
       "      <td>11.935786</td>\n",
       "      <td>5</td>\n",
       "      <td>0.000013</td>\n",
       "    </tr>\n",
       "    <tr>\n",
       "      <th>14</th>\n",
       "      <td>1000000</td>\n",
       "      <td>-470.384062</td>\n",
       "      <td>189.109234</td>\n",
       "      <td>9265350.0</td>\n",
       "      <td>116.898313</td>\n",
       "      <td>5</td>\n",
       "      <td>0.000013</td>\n",
       "    </tr>\n",
       "    <tr>\n",
       "      <th>15</th>\n",
       "      <td>10000</td>\n",
       "      <td>-1499.188071</td>\n",
       "      <td>2382.663721</td>\n",
       "      <td>89540.0</td>\n",
       "      <td>1.132978</td>\n",
       "      <td>6</td>\n",
       "      <td>0.000013</td>\n",
       "    </tr>\n",
       "    <tr>\n",
       "      <th>16</th>\n",
       "      <td>100000</td>\n",
       "      <td>602.409908</td>\n",
       "      <td>700.569777</td>\n",
       "      <td>938120.0</td>\n",
       "      <td>11.838983</td>\n",
       "      <td>6</td>\n",
       "      <td>0.000013</td>\n",
       "    </tr>\n",
       "    <tr>\n",
       "      <th>17</th>\n",
       "      <td>1000000</td>\n",
       "      <td>175.349983</td>\n",
       "      <td>189.161994</td>\n",
       "      <td>9264580.0</td>\n",
       "      <td>117.494251</td>\n",
       "      <td>6</td>\n",
       "      <td>0.000013</td>\n",
       "    </tr>\n",
       "    <tr>\n",
       "      <th>18</th>\n",
       "      <td>10000</td>\n",
       "      <td>-2139.862088</td>\n",
       "      <td>2376.885944</td>\n",
       "      <td>89500.0</td>\n",
       "      <td>1.190356</td>\n",
       "      <td>7</td>\n",
       "      <td>0.000013</td>\n",
       "    </tr>\n",
       "    <tr>\n",
       "      <th>19</th>\n",
       "      <td>100000</td>\n",
       "      <td>-49.222198</td>\n",
       "      <td>700.147288</td>\n",
       "      <td>936820.0</td>\n",
       "      <td>12.279318</td>\n",
       "      <td>7</td>\n",
       "      <td>0.000013</td>\n",
       "    </tr>\n",
       "    <tr>\n",
       "      <th>20</th>\n",
       "      <td>1000000</td>\n",
       "      <td>-211.026175</td>\n",
       "      <td>189.054824</td>\n",
       "      <td>9266990.0</td>\n",
       "      <td>119.742614</td>\n",
       "      <td>7</td>\n",
       "      <td>0.000013</td>\n",
       "    </tr>\n",
       "    <tr>\n",
       "      <th>21</th>\n",
       "      <td>10000</td>\n",
       "      <td>-1063.613859</td>\n",
       "      <td>2378.997284</td>\n",
       "      <td>89780.0</td>\n",
       "      <td>1.136968</td>\n",
       "      <td>8</td>\n",
       "      <td>0.000013</td>\n",
       "    </tr>\n",
       "    <tr>\n",
       "      <th>22</th>\n",
       "      <td>100000</td>\n",
       "      <td>-100.717839</td>\n",
       "      <td>699.707319</td>\n",
       "      <td>937870.0</td>\n",
       "      <td>12.137673</td>\n",
       "      <td>8</td>\n",
       "      <td>0.000013</td>\n",
       "    </tr>\n",
       "    <tr>\n",
       "      <th>23</th>\n",
       "      <td>1000000</td>\n",
       "      <td>-168.901397</td>\n",
       "      <td>189.130306</td>\n",
       "      <td>9264250.0</td>\n",
       "      <td>119.109427</td>\n",
       "      <td>8</td>\n",
       "      <td>0.000013</td>\n",
       "    </tr>\n",
       "    <tr>\n",
       "      <th>24</th>\n",
       "      <td>10000</td>\n",
       "      <td>1409.878360</td>\n",
       "      <td>2375.911249</td>\n",
       "      <td>89730.0</td>\n",
       "      <td>1.139951</td>\n",
       "      <td>9</td>\n",
       "      <td>0.000013</td>\n",
       "    </tr>\n",
       "    <tr>\n",
       "      <th>25</th>\n",
       "      <td>100000</td>\n",
       "      <td>840.876867</td>\n",
       "      <td>700.423101</td>\n",
       "      <td>937470.0</td>\n",
       "      <td>11.883207</td>\n",
       "      <td>9</td>\n",
       "      <td>0.000013</td>\n",
       "    </tr>\n",
       "    <tr>\n",
       "      <th>26</th>\n",
       "      <td>1000000</td>\n",
       "      <td>278.630526</td>\n",
       "      <td>189.176747</td>\n",
       "      <td>9265990.0</td>\n",
       "      <td>117.163539</td>\n",
       "      <td>9</td>\n",
       "      <td>0.000013</td>\n",
       "    </tr>\n",
       "    <tr>\n",
       "      <th>27</th>\n",
       "      <td>10000</td>\n",
       "      <td>-3475.782838</td>\n",
       "      <td>2376.112931</td>\n",
       "      <td>89550.0</td>\n",
       "      <td>1.137955</td>\n",
       "      <td>10</td>\n",
       "      <td>0.000013</td>\n",
       "    </tr>\n",
       "    <tr>\n",
       "      <th>28</th>\n",
       "      <td>100000</td>\n",
       "      <td>-1161.179274</td>\n",
       "      <td>700.055534</td>\n",
       "      <td>937360.0</td>\n",
       "      <td>11.874232</td>\n",
       "      <td>10</td>\n",
       "      <td>0.000013</td>\n",
       "    </tr>\n",
       "    <tr>\n",
       "      <th>29</th>\n",
       "      <td>1000000</td>\n",
       "      <td>-129.066259</td>\n",
       "      <td>189.234008</td>\n",
       "      <td>9265970.0</td>\n",
       "      <td>117.787027</td>\n",
       "      <td>10</td>\n",
       "      <td>0.000013</td>\n",
       "    </tr>\n",
       "  </tbody>\n",
       "</table>\n",
       "</div>"
      ],
      "text/plain": [
       "      neval  result_means  results_stddevs  results_nevals_used  result_times  \\\n",
       "0     10000    527.078154      2374.104281              89630.0      1.153427   \n",
       "1    100000   1254.855042       701.100685             937550.0     11.930215   \n",
       "2   1000000   -312.905799       189.157869            9267130.0    117.164514   \n",
       "3     10000  -1082.312439      2376.191728              89540.0      1.131981   \n",
       "4    100000    649.984730       701.603483             937750.0     11.954666   \n",
       "5   1000000    -55.038064       189.221194            9265000.0    117.905084   \n",
       "6     10000  -5359.943085      2379.877399              89510.0      1.145944   \n",
       "7    100000   -647.913671       701.665226             937390.0     11.934287   \n",
       "8   1000000    184.804677       189.144250            9265420.0    117.690540   \n",
       "9     10000   1858.112759      2377.797522              89800.0      1.139466   \n",
       "10   100000    138.113886       701.276957             937590.0     11.958665   \n",
       "11  1000000    -35.667606       189.226438            9265640.0    117.236808   \n",
       "12    10000   1419.276127      2382.947603              89620.0      1.142457   \n",
       "13   100000   -313.405602       701.563819             937800.0     11.935786   \n",
       "14  1000000   -470.384062       189.109234            9265350.0    116.898313   \n",
       "15    10000  -1499.188071      2382.663721              89540.0      1.132978   \n",
       "16   100000    602.409908       700.569777             938120.0     11.838983   \n",
       "17  1000000    175.349983       189.161994            9264580.0    117.494251   \n",
       "18    10000  -2139.862088      2376.885944              89500.0      1.190356   \n",
       "19   100000    -49.222198       700.147288             936820.0     12.279318   \n",
       "20  1000000   -211.026175       189.054824            9266990.0    119.742614   \n",
       "21    10000  -1063.613859      2378.997284              89780.0      1.136968   \n",
       "22   100000   -100.717839       699.707319             937870.0     12.137673   \n",
       "23  1000000   -168.901397       189.130306            9264250.0    119.109427   \n",
       "24    10000   1409.878360      2375.911249              89730.0      1.139951   \n",
       "25   100000    840.876867       700.423101             937470.0     11.883207   \n",
       "26  1000000    278.630526       189.176747            9265990.0    117.163539   \n",
       "27    10000  -3475.782838      2376.112931              89550.0      1.137955   \n",
       "28   100000  -1161.179274       700.055534             937360.0     11.874232   \n",
       "29  1000000   -129.066259       189.234008            9265970.0    117.787027   \n",
       "\n",
       "    run  s_per_sample  \n",
       "0     1      0.000013  \n",
       "1     1      0.000013  \n",
       "2     1      0.000013  \n",
       "3     2      0.000013  \n",
       "4     2      0.000013  \n",
       "5     2      0.000013  \n",
       "6     3      0.000013  \n",
       "7     3      0.000013  \n",
       "8     3      0.000013  \n",
       "9     4      0.000013  \n",
       "10    4      0.000013  \n",
       "11    4      0.000013  \n",
       "12    5      0.000013  \n",
       "13    5      0.000013  \n",
       "14    5      0.000013  \n",
       "15    6      0.000013  \n",
       "16    6      0.000013  \n",
       "17    6      0.000013  \n",
       "18    7      0.000013  \n",
       "19    7      0.000013  \n",
       "20    7      0.000013  \n",
       "21    8      0.000013  \n",
       "22    8      0.000013  \n",
       "23    8      0.000013  \n",
       "24    9      0.000013  \n",
       "25    9      0.000013  \n",
       "26    9      0.000013  \n",
       "27   10      0.000013  \n",
       "28   10      0.000013  \n",
       "29   10      0.000013  "
      ]
     },
     "execution_count": 39,
     "metadata": {},
     "output_type": "execute_result"
    }
   ],
   "source": [
    "temp_df"
   ]
  },
  {
   "cell_type": "code",
   "execution_count": 40,
   "id": "raising-romantic",
   "metadata": {
    "ExecuteTime": {
     "end_time": "2022-05-22T23:03:22.226139Z",
     "start_time": "2022-05-22T23:03:22.221153Z"
    }
   },
   "outputs": [],
   "source": [
    "g = temp_df.groupby('neval')['result_means'].apply(lambda x: x.tolist())"
   ]
  },
  {
   "cell_type": "code",
   "execution_count": 41,
   "id": "numerous-nightlife",
   "metadata": {
    "ExecuteTime": {
     "end_time": "2022-05-22T23:03:22.320886Z",
     "start_time": "2022-05-22T23:03:22.227137Z"
    }
   },
   "outputs": [
    {
     "data": {
      "image/png": "[encoded data removed]",
      "text/plain": [
       "<Figure size 432x288 with 1 Axes>"
      ]
     },
     "metadata": {
      "needs_background": "light"
     },
     "output_type": "display_data"
    }
   ],
   "source": [
    "# plt.yscale('log')\n",
    "plt.axhline(y=target, linestyle=':')\n",
    "plt.title('VEGAS Precompute')\n",
    "plt.xlabel('neval')\n",
    "plt.ylabel('result')\n",
    "plt.boxplot(g.values, labels=[f'{x:.0E}' for x in neval_lst]);"
   ]
  },
  {
   "cell_type": "code",
   "execution_count": 42,
   "id": "painful-button",
   "metadata": {
    "ExecuteTime": {
     "end_time": "2022-05-22T23:03:22.329862Z",
     "start_time": "2022-05-22T23:03:22.321883Z"
    }
   },
   "outputs": [
    {
     "data": {
      "text/html": [
       "<div>\n",
       "<style scoped>\n",
       "    .dataframe tbody tr th:only-of-type {\n",
       "        vertical-align: middle;\n",
       "    }\n",
       "\n",
       "    .dataframe tbody tr th {\n",
       "        vertical-align: top;\n",
       "    }\n",
       "\n",
       "    .dataframe thead th {\n",
       "        text-align: right;\n",
       "    }\n",
       "</style>\n",
       "<table border=\"1\" class=\"dataframe\">\n",
       "  <thead>\n",
       "    <tr style=\"text-align: right;\">\n",
       "      <th></th>\n",
       "      <th>mean</th>\n",
       "      <th>std</th>\n",
       "    </tr>\n",
       "    <tr>\n",
       "      <th>neval</th>\n",
       "      <th></th>\n",
       "      <th></th>\n",
       "    </tr>\n",
       "  </thead>\n",
       "  <tbody>\n",
       "    <tr>\n",
       "      <th>10000</th>\n",
       "      <td>-940.635698</td>\n",
       "      <td>2329.135425</td>\n",
       "    </tr>\n",
       "    <tr>\n",
       "      <th>100000</th>\n",
       "      <td>121.380185</td>\n",
       "      <td>731.647782</td>\n",
       "    </tr>\n",
       "    <tr>\n",
       "      <th>1000000</th>\n",
       "      <td>-74.420418</td>\n",
       "      <td>235.782802</td>\n",
       "    </tr>\n",
       "  </tbody>\n",
       "</table>\n",
       "</div>"
      ],
      "text/plain": [
       "               mean          std\n",
       "neval                           \n",
       "10000   -940.635698  2329.135425\n",
       "100000   121.380185   731.647782\n",
       "1000000  -74.420418   235.782802"
      ]
     },
     "execution_count": 42,
     "metadata": {},
     "output_type": "execute_result"
    }
   ],
   "source": [
    "temp_df.groupby('neval')['result_means'].agg([np.mean, np.std])"
   ]
  },
  {
   "cell_type": "code",
   "execution_count": 43,
   "id": "direct-rates",
   "metadata": {
    "ExecuteTime": {
     "end_time": "2022-05-22T23:03:22.336843Z",
     "start_time": "2022-05-22T23:03:22.330859Z"
    }
   },
   "outputs": [
    {
     "data": {
      "text/plain": [
       "-25.255343849977713"
      ]
     },
     "execution_count": 43,
     "metadata": {},
     "output_type": "execute_result"
    }
   ],
   "source": [
    "temp_df.groupby('neval')['result_means'].agg(np.mean).iloc[-1] - target"
   ]
  },
  {
   "cell_type": "code",
   "execution_count": 44,
   "id": "crazy-audience",
   "metadata": {
    "ExecuteTime": {
     "end_time": "2022-05-22T23:03:22.344822Z",
     "start_time": "2022-05-22T23:03:22.337841Z"
    }
   },
   "outputs": [
    {
     "data": {
      "text/plain": [
       "neval\n",
       "10000        1.145148\n",
       "100000      11.972703\n",
       "1000000    117.819212\n",
       "Name: result_times, dtype: float64"
      ]
     },
     "execution_count": 44,
     "metadata": {},
     "output_type": "execute_result"
    }
   ],
   "source": [
    "g = temp_df.groupby('neval')['result_times'].apply(lambda x: x.tolist())\n",
    "g.apply(np.mean)"
   ]
  },
  {
   "cell_type": "code",
   "execution_count": 45,
   "id": "developing-yellow",
   "metadata": {
    "ExecuteTime": {
     "end_time": "2022-05-22T23:03:22.579195Z",
     "start_time": "2022-05-22T23:03:22.345819Z"
    }
   },
   "outputs": [
    {
     "data": {
      "image/png": "[encoded data removed]",
      "text/plain": [
       "<Figure size 432x288 with 1 Axes>"
      ]
     },
     "metadata": {
      "needs_background": "light"
     },
     "output_type": "display_data"
    }
   ],
   "source": [
    "plt.title('VEGAS Precompute')\n",
    "plt.xlabel('samples')\n",
    "plt.ylabel('time (s)')\n",
    "plt.scatter(g.index, g.apply(np.mean))\n",
    "plt.plot(g.index, g.apply(np.mean), linestyle='--')\n",
    "plt.xscale('log')"
   ]
  },
  {
   "cell_type": "markdown",
   "id": "peaceful-smoke",
   "metadata": {},
   "source": [
    "#### Batch"
   ]
  },
  {
   "cell_type": "code",
   "execution_count": 46,
   "id": "reliable-angel",
   "metadata": {
    "ExecuteTime": {
     "end_time": "2022-05-22T23:03:22.603131Z",
     "start_time": "2022-05-22T23:03:22.580192Z"
    }
   },
   "outputs": [],
   "source": [
    "@vegas.batchintegrand\n",
    "def f1(x):\n",
    "    return np.sin(np.sum(x, axis=-1))"
   ]
  },
  {
   "cell_type": "code",
   "execution_count": 47,
   "id": "fewer-dance",
   "metadata": {
    "ExecuteTime": {
     "end_time": "2022-05-22T23:03:22.607120Z",
     "start_time": "2022-05-22T23:03:22.604128Z"
    }
   },
   "outputs": [],
   "source": [
    "ndims = 6"
   ]
  },
  {
   "cell_type": "code",
   "execution_count": 48,
   "id": "documented-postcard",
   "metadata": {
    "ExecuteTime": {
     "end_time": "2022-05-22T23:08:39.758610Z",
     "start_time": "2022-05-22T23:03:22.609115Z"
    },
    "scrolled": true
   },
   "outputs": [
    {
     "name": "stdout",
     "output_type": "stream",
     "text": [
      "run=1 neval=100000 nhcube_batch_list=10000\n",
      "- 943866.0\n",
      "\n",
      "run=1 neval=1000000 nhcube_batch_list=10000\n",
      "- 9280029.0\n",
      "\n",
      "run=1 neval=10000000 nhcube_batch_list=10000\n",
      "- 93519003.0\n",
      "\n",
      "run=2 neval=100000 nhcube_batch_list=10000\n",
      "- 943775.0\n",
      "\n",
      "run=2 neval=1000000 nhcube_batch_list=10000\n",
      "- 9279451.0\n",
      "\n",
      "run=2 neval=10000000 nhcube_batch_list=10000\n",
      "- 93514491.0\n",
      "\n",
      "run=3 neval=100000 nhcube_batch_list=10000\n",
      "- 943843.0\n",
      "\n",
      "run=3 neval=1000000 nhcube_batch_list=10000\n",
      "- 9279122.0\n",
      "\n",
      "run=3 neval=10000000 nhcube_batch_list=10000\n",
      "- 93516311.0\n",
      "\n",
      "run=4 neval=100000 nhcube_batch_list=10000\n",
      "- 943760.0\n",
      "\n",
      "run=4 neval=1000000 nhcube_batch_list=10000\n",
      "- 9279888.0\n",
      "\n",
      "run=4 neval=10000000 nhcube_batch_list=10000\n",
      "- 93515222.0\n",
      "\n",
      "run=5 neval=100000 nhcube_batch_list=10000\n",
      "- 943986.0\n",
      "\n",
      "run=5 neval=1000000 nhcube_batch_list=10000\n",
      "- 9280522.0\n",
      "\n",
      "run=5 neval=10000000 nhcube_batch_list=10000\n",
      "- 93516001.0\n",
      "\n",
      "run=6 neval=100000 nhcube_batch_list=10000\n",
      "- 943687.0\n",
      "\n",
      "run=6 neval=1000000 nhcube_batch_list=10000\n",
      "- 9279678.0\n",
      "\n",
      "run=6 neval=10000000 nhcube_batch_list=10000\n",
      "- 93514792.0\n",
      "\n",
      "run=7 neval=100000 nhcube_batch_list=10000\n",
      "- 943870.0\n",
      "\n",
      "run=7 neval=1000000 nhcube_batch_list=10000\n",
      "- 9280155.0\n",
      "\n",
      "run=7 neval=10000000 nhcube_batch_list=10000\n",
      "- 93516082.0\n",
      "\n",
      "run=8 neval=100000 nhcube_batch_list=10000\n",
      "- 943873.0\n",
      "\n",
      "run=8 neval=1000000 nhcube_batch_list=10000\n",
      "- 9279611.0\n",
      "\n",
      "run=8 neval=10000000 nhcube_batch_list=10000\n",
      "- 93515578.0\n",
      "\n",
      "run=9 neval=100000 nhcube_batch_list=10000\n",
      "- 943912.0\n",
      "\n",
      "run=9 neval=1000000 nhcube_batch_list=10000\n",
      "- 9279557.0\n",
      "\n",
      "run=9 neval=10000000 nhcube_batch_list=10000\n",
      "- 93515698.0\n",
      "\n",
      "run=10 neval=100000 nhcube_batch_list=10000\n",
      "- 943942.0\n",
      "\n",
      "run=10 neval=1000000 nhcube_batch_list=10000\n",
      "- 9279603.0\n",
      "\n",
      "run=10 neval=10000000 nhcube_batch_list=10000\n",
      "- 93514397.0\n",
      "\n"
     ]
    }
   ],
   "source": [
    "np.random.seed(123)\n",
    "\n",
    "results = []\n",
    "results_means = []\n",
    "results_stddevs = []\n",
    "results_nevals_used = []\n",
    "result_times = []\n",
    "\n",
    "result_runs = []\n",
    "result_neval = []\n",
    "result_nhcube_batch = []\n",
    "\n",
    "nhcube_batch_list = list(map(int, [1e4]))\n",
    "neval_lst = list(map(int, [1e5, 1e6, 1e7]))\n",
    "run_lst = list(range(1,11))\n",
    "\n",
    "\n",
    "for run in run_lst:\n",
    "    for neval in neval_lst:\n",
    "        for nhcube_batch in nhcube_batch_list:\n",
    "        \n",
    "            print(f'run={run} neval={neval} nhcube_batch_list={nhcube_batch}')\n",
    "\n",
    "            time_a = time.time()\n",
    "            integ = vegas.Integrator([[0, 10]] * ndims, mpi=False, nhcube_batch=nhcube_batch)\n",
    "\n",
    "            # precompute on 100% of nitn*neval\n",
    "            integ(f1, nitn=10, neval=neval)\n",
    "\n",
    "            current_result = integ(f1, nitn=10, neval=neval)\n",
    "            time_b = time.time() - time_a\n",
    "            result_times.append(time_b)\n",
    "            \n",
    "            result_runs.append(run)\n",
    "            result_neval.append(neval)\n",
    "            result_nhcube_batch.append(nhcube_batch)\n",
    "\n",
    "            results_nevals_used.append(current_result.sum_neval)\n",
    "            print(f'- {current_result.sum_neval}\\n')\n",
    "\n",
    "            #current_result_mean = tf.reduce_mean(current_result).numpy()\n",
    "            #current_result_stddev = tf.math.reduce_std(current_result).numpy()\n",
    "\n",
    "            results_means.append(current_result.mean)\n",
    "            results_stddevs.append(current_result.sdev)\n",
    "            results.append(current_result)"
   ]
  },
  {
   "cell_type": "code",
   "execution_count": 49,
   "id": "silver-visitor",
   "metadata": {
    "ExecuteTime": {
     "end_time": "2022-05-22T23:08:39.765591Z",
     "start_time": "2022-05-22T23:08:39.759607Z"
    }
   },
   "outputs": [],
   "source": [
    "temp_df = pd.DataFrame({'neval': result_neval,\n",
    "                        'result_means': results_means,\n",
    "                        'results_stddevs': results_stddevs,\n",
    "                        'results_nevals_used': results_nevals_used,\n",
    "                        'result_times': result_times,\n",
    "                        'run': result_runs,\n",
    "                        'nhcube_batch': result_nhcube_batch\n",
    "                       })\n",
    "temp_df['s_per_sample'] = temp_df.result_times / temp_df.results_nevals_used"
   ]
  },
  {
   "cell_type": "code",
   "execution_count": 50,
   "id": "confidential-russell",
   "metadata": {
    "ExecuteTime": {
     "end_time": "2022-05-22T23:08:39.771613Z",
     "start_time": "2022-05-22T23:08:39.766588Z"
    }
   },
   "outputs": [],
   "source": [
    "g = temp_df.groupby('neval')['result_means'].apply(lambda x: x.tolist())"
   ]
  },
  {
   "cell_type": "code",
   "execution_count": 51,
   "id": "enormous-flour",
   "metadata": {
    "ExecuteTime": {
     "end_time": "2022-05-22T23:08:39.865324Z",
     "start_time": "2022-05-22T23:08:39.772573Z"
    }
   },
   "outputs": [
    {
     "data": {
      "image/png": "[encoded data removed]",
      "text/plain": [
       "<Figure size 432x288 with 1 Axes>"
      ]
     },
     "metadata": {
      "needs_background": "light"
     },
     "output_type": "display_data"
    }
   ],
   "source": [
    "# plt.yscale('log')\n",
    "plt.axhline(y=target, linestyle=':')\n",
    "plt.title('VEGAS Batch')\n",
    "plt.xlabel('neval')\n",
    "plt.ylabel('result')\n",
    "plt.boxplot(g.values, labels=[f'{x:.0E}' for x in neval_lst]);"
   ]
  },
  {
   "cell_type": "code",
   "execution_count": 52,
   "id": "guilty-bachelor",
   "metadata": {
    "ExecuteTime": {
     "end_time": "2022-05-22T23:08:39.893249Z",
     "start_time": "2022-05-22T23:08:39.866322Z"
    }
   },
   "outputs": [
    {
     "data": {
      "text/html": [
       "<div>\n",
       "<style scoped>\n",
       "    .dataframe tbody tr th:only-of-type {\n",
       "        vertical-align: middle;\n",
       "    }\n",
       "\n",
       "    .dataframe tbody tr th {\n",
       "        vertical-align: top;\n",
       "    }\n",
       "\n",
       "    .dataframe thead th {\n",
       "        text-align: right;\n",
       "    }\n",
       "</style>\n",
       "<table border=\"1\" class=\"dataframe\">\n",
       "  <thead>\n",
       "    <tr style=\"text-align: right;\">\n",
       "      <th></th>\n",
       "      <th></th>\n",
       "      <th>mean</th>\n",
       "      <th>std</th>\n",
       "    </tr>\n",
       "    <tr>\n",
       "      <th>neval</th>\n",
       "      <th>nhcube_batch</th>\n",
       "      <th></th>\n",
       "      <th></th>\n",
       "    </tr>\n",
       "  </thead>\n",
       "  <tbody>\n",
       "    <tr>\n",
       "      <th>100000</th>\n",
       "      <th>10000</th>\n",
       "      <td>-18.262191</td>\n",
       "      <td>656.545054</td>\n",
       "    </tr>\n",
       "    <tr>\n",
       "      <th>1000000</th>\n",
       "      <th>10000</th>\n",
       "      <td>-133.936960</td>\n",
       "      <td>248.010680</td>\n",
       "    </tr>\n",
       "    <tr>\n",
       "      <th>10000000</th>\n",
       "      <th>10000</th>\n",
       "      <td>-31.359089</td>\n",
       "      <td>42.940403</td>\n",
       "    </tr>\n",
       "  </tbody>\n",
       "</table>\n",
       "</div>"
      ],
      "text/plain": [
       "                             mean         std\n",
       "neval    nhcube_batch                        \n",
       "100000   10000         -18.262191  656.545054\n",
       "1000000  10000        -133.936960  248.010680\n",
       "10000000 10000         -31.359089   42.940403"
      ]
     },
     "execution_count": 52,
     "metadata": {},
     "output_type": "execute_result"
    }
   ],
   "source": [
    "temp_df.groupby(['neval', 'nhcube_batch'])['result_means'].agg([np.mean, np.std])"
   ]
  },
  {
   "cell_type": "code",
   "execution_count": 53,
   "id": "conservative-tradition",
   "metadata": {
    "ExecuteTime": {
     "end_time": "2022-05-22T23:08:39.902226Z",
     "start_time": "2022-05-22T23:08:39.897239Z"
    }
   },
   "outputs": [
    {
     "data": {
      "text/plain": [
       "17.805985054526232"
      ]
     },
     "execution_count": 53,
     "metadata": {},
     "output_type": "execute_result"
    }
   ],
   "source": [
    "temp_df.groupby('neval')['result_means'].agg(np.mean).iloc[-1] - target"
   ]
  },
  {
   "cell_type": "code",
   "execution_count": 54,
   "id": "former-custody",
   "metadata": {
    "ExecuteTime": {
     "end_time": "2022-05-22T23:08:39.910204Z",
     "start_time": "2022-05-22T23:08:39.903224Z"
    }
   },
   "outputs": [
    {
     "data": {
      "text/plain": [
       "neval\n",
       "100000       0.299898\n",
       "1000000      2.849975\n",
       "10000000    28.564079\n",
       "Name: result_times, dtype: float64"
      ]
     },
     "execution_count": 54,
     "metadata": {},
     "output_type": "execute_result"
    }
   ],
   "source": [
    "g = temp_df.groupby('neval')['result_times'].apply(lambda x: x.tolist())\n",
    "g.apply(np.mean)"
   ]
  },
  {
   "cell_type": "code",
   "execution_count": 55,
   "id": "smooth-porter",
   "metadata": {
    "ExecuteTime": {
     "end_time": "2022-05-22T23:08:40.187462Z",
     "start_time": "2022-05-22T23:08:39.911201Z"
    }
   },
   "outputs": [
    {
     "data": {
      "image/png": "[encoded data removed]",
      "text/plain": [
       "<Figure size 432x288 with 1 Axes>"
      ]
     },
     "metadata": {
      "needs_background": "light"
     },
     "output_type": "display_data"
    }
   ],
   "source": [
    "plt.title('VEGAS Batch')\n",
    "plt.xlabel('neval')\n",
    "plt.ylabel('time (s)')\n",
    "plt.scatter(g.index, g.apply(np.mean))\n",
    "plt.plot(g.index, g.apply(np.mean), linestyle='--')\n",
    "plt.xscale('log')"
   ]
  },
  {
   "cell_type": "markdown",
   "id": "behind-place",
   "metadata": {},
   "source": [
    "#### BatchParallel"
   ]
  },
  {
   "cell_type": "code",
   "execution_count": 94,
   "id": "signed-clark",
   "metadata": {
    "ExecuteTime": {
     "end_time": "2022-05-22T20:45:50.550498Z",
     "start_time": "2022-05-22T20:45:50.544514Z"
    }
   },
   "outputs": [],
   "source": [
    "import multiprocessing\n",
    "import numpy as np\n",
    "import vegas\n",
    "\n",
    "\n",
    "class parallelintegrand(vegas.BatchIntegrand):\n",
    "    \"\"\" Convert (batch) integrand into multiprocessor integrand.\n",
    "\n",
    "    Integrand should return a numpy array.\n",
    "    \"\"\"\n",
    "    def __init__(self, fcn, nproc=4):\n",
    "        \" Save integrand; create pool of nproc processes. \"\n",
    "        self.fcn = fcn\n",
    "        self.nproc = nproc\n",
    "        self.pool = multiprocessing.Pool(processes=nproc)\n",
    "    def __del__(self):\n",
    "        \" Standard cleanup. \"\n",
    "        self.pool.close()\n",
    "        self.pool.join()\n",
    "    def __call__(self, x):\n",
    "        \" Divide x into self.nproc chunks, feeding one to each process. \"\n",
    "        nx = x.shape[0] // self.nproc + 1\n",
    "        # launch evaluation of self.fcn for each chunk, in parallel\n",
    "        results = self.pool.map(\n",
    "            self.fcn,\n",
    "            [x[i*nx : (i+1)*nx] for i in range(self.nproc)],\n",
    "            1,\n",
    "            )\n",
    "        # convert list of results into a single numpy array\n",
    "        return np.concatenate(results)"
   ]
  },
  {
   "cell_type": "code",
   "execution_count": 95,
   "id": "presidential-wireless",
   "metadata": {
    "ExecuteTime": {
     "end_time": "2022-05-22T20:45:50.948434Z",
     "start_time": "2022-05-22T20:45:50.944445Z"
    }
   },
   "outputs": [],
   "source": [
    "def f1(x):\n",
    "    return np.sin(np.sum(x, axis=-1))"
   ]
  },
  {
   "cell_type": "code",
   "execution_count": 96,
   "id": "collect-dealer",
   "metadata": {
    "ExecuteTime": {
     "end_time": "2022-05-22T20:45:51.448099Z",
     "start_time": "2022-05-22T20:45:51.432141Z"
    }
   },
   "outputs": [],
   "source": [
    "f1_batch_parallel = parallelintegrand(f1, 4)"
   ]
  },
  {
   "cell_type": "code",
   "execution_count": 97,
   "id": "champion-adapter",
   "metadata": {
    "ExecuteTime": {
     "end_time": "2022-05-22T20:45:51.763256Z",
     "start_time": "2022-05-22T20:45:51.760264Z"
    }
   },
   "outputs": [],
   "source": [
    "ndims = 6"
   ]
  },
  {
   "cell_type": "code",
   "execution_count": 98,
   "id": "unlike-charlotte",
   "metadata": {
    "ExecuteTime": {
     "end_time": "2022-05-22T20:45:53.100681Z",
     "start_time": "2022-05-22T20:45:53.096692Z"
    }
   },
   "outputs": [],
   "source": [
    "# np.random.seed(123)\n",
    "\n",
    "# results = []\n",
    "# results_means = []\n",
    "# results_stddevs = []\n",
    "# results_nevals_used = []\n",
    "# result_times = []\n",
    "# result_runs = []\n",
    "\n",
    "# neval_lst = list(map(int, [1e4, 1e5]))\n",
    "# run_lst = list(range(1,3))\n",
    "\n",
    "\n",
    "# for run in run_lst:\n",
    "#     for neval in neval_lst:\n",
    "        \n",
    "#         print(f'run={run} neval={neval}')\n",
    "        \n",
    "#         time_a = time.time()\n",
    "#         integ = vegas.Integrator([[0, 10]] * ndims, mpi=False, nhcube_batch=1e3)\n",
    "        \n",
    "#         # precompute on 10% of nitn*neval\n",
    "#         # integ(f1, nitn=10, neval=1e5)\n",
    "        \n",
    "#         current_result = integ(f1_batch_parallel, nitn=10, neval=neval)\n",
    "#         time_b = time.time() - time_a\n",
    "#         result_times.append(time_b)\n",
    "#         result_runs.append(run)\n",
    "        \n",
    "#         results_nevals_used.append(current_result.sum_neval)\n",
    "#         print(f'- {current_result.sum_neval - acc_neval}\\n')\n",
    "\n",
    "#         #current_result_mean = tf.reduce_mean(current_result).numpy()\n",
    "#         #current_result_stddev = tf.math.reduce_std(current_result).numpy()\n",
    "\n",
    "#         results_means.append(current_result.mean)\n",
    "#         results_stddevs.append(current_result.sdev)\n",
    "#         results.append(current_result)"
   ]
  },
  {
   "cell_type": "markdown",
   "id": "guilty-stadium",
   "metadata": {},
   "source": [
    "### F2"
   ]
  },
  {
   "cell_type": "code",
   "execution_count": 80,
   "id": "chemical-panel",
   "metadata": {
    "ExecuteTime": {
     "end_time": "2022-05-22T23:38:33.847185Z",
     "start_time": "2022-05-22T23:38:33.842198Z"
    }
   },
   "outputs": [
    {
     "data": {
      "text/plain": [
       "(1, 0.001)"
      ]
     },
     "execution_count": 80,
     "metadata": {},
     "output_type": "execute_result"
    }
   ],
   "source": [
    "target = 1\n",
    "\n",
    "precision = 1e-3\n",
    "target_precision = min(abs(precision * target), precision)\n",
    "\n",
    "target, target_precision"
   ]
  },
  {
   "cell_type": "markdown",
   "id": "toxic-gateway",
   "metadata": {},
   "source": [
    "#### Simple"
   ]
  },
  {
   "cell_type": "code",
   "execution_count": 56,
   "id": "coupled-naples",
   "metadata": {
    "ExecuteTime": {
     "end_time": "2022-05-22T23:13:48.343541Z",
     "start_time": "2022-05-22T23:13:48.339552Z"
    }
   },
   "outputs": [],
   "source": [
    "ndim = 9\n",
    "sigma = 0.01\n",
    "alpha = sigma * np.sqrt(2)\n",
    "\n",
    "def f2(x):\n",
    "    pre = 1.0 / (alpha * np.sqrt(np.pi)) ** ndim\n",
    "    exponent = -1 * np.sum(x ** 2, axis=-1) / alpha ** 2\n",
    "    return pre * np.exp(exponent)"
   ]
  },
  {
   "cell_type": "code",
   "execution_count": 57,
   "id": "lasting-porter",
   "metadata": {
    "ExecuteTime": {
     "end_time": "2022-05-22T23:13:50.359148Z",
     "start_time": "2022-05-22T23:13:50.356157Z"
    }
   },
   "outputs": [],
   "source": [
    "ndims = 9"
   ]
  },
  {
   "cell_type": "code",
   "execution_count": 60,
   "id": "scientific-package",
   "metadata": {
    "ExecuteTime": {
     "end_time": "2022-05-22T23:29:17.038880Z",
     "start_time": "2022-05-22T23:25:19.899727Z"
    }
   },
   "outputs": [
    {
     "name": "stdout",
     "output_type": "stream",
     "text": [
      "run=1 neval=100000\n",
      "- 244944.0\n",
      "\n",
      "run=1 neval=1000000\n",
      "- 2875392.0\n",
      "\n",
      "run=2 neval=100000\n",
      "- 244944.0\n",
      "\n",
      "run=2 neval=1000000\n",
      "- 9624032.0\n",
      "\n",
      "run=3 neval=100000\n",
      "- 244944.0\n",
      "\n",
      "run=3 neval=1000000\n",
      "- 2875392.0\n",
      "\n",
      "run=4 neval=100000\n",
      "- 244944.0\n",
      "\n",
      "run=4 neval=1000000\n",
      "- 2875392.0\n",
      "\n",
      "run=5 neval=100000\n",
      "- 244944.0\n",
      "\n",
      "run=5 neval=1000000\n",
      "- 2875392.0\n",
      "\n"
     ]
    }
   ],
   "source": [
    "np.random.seed(123)\n",
    "\n",
    "results = []\n",
    "results_means = []\n",
    "results_stddevs = []\n",
    "results_nevals_used = []\n",
    "result_times = []\n",
    "result_runs = []\n",
    "\n",
    "neval_lst = list(map(int, [1e5, 1e6]))\n",
    "run_lst = list(range(1,6))\n",
    "\n",
    "\n",
    "for run in run_lst:\n",
    "    for neval in neval_lst:\n",
    "        \n",
    "        print(f'run={run} neval={neval}')\n",
    "                \n",
    "        time_a = time.time()\n",
    "        integ = vegas.Integrator([[-1, 1]] * ndims, mpi=False)\n",
    "        current_result = integ(f2, nitn=10, neval=neval)\n",
    "        time_b = time.time() - time_a\n",
    "        result_times.append(time_b)\n",
    "        result_runs.append(run)\n",
    "        \n",
    "        results_nevals_used.append(current_result.sum_neval)\n",
    "        print(f'- {current_result.sum_neval}\\n')\n",
    "\n",
    "        #current_result_mean = tf.reduce_mean(current_result).numpy()\n",
    "        #current_result_stddev = tf.math.reduce_std(current_result).numpy()\n",
    "\n",
    "        results_means.append(current_result.mean)\n",
    "        results_stddevs.append(current_result.sdev)\n",
    "        results.append(current_result)"
   ]
  },
  {
   "cell_type": "code",
   "execution_count": 61,
   "id": "raised-tract",
   "metadata": {
    "ExecuteTime": {
     "end_time": "2022-05-22T23:29:17.045862Z",
     "start_time": "2022-05-22T23:29:17.039877Z"
    }
   },
   "outputs": [],
   "source": [
    "temp_df = pd.DataFrame({'neval': neval_lst * len(run_lst),\n",
    "                        'result_means': results_means,\n",
    "                        'results_stddevs': results_stddevs,\n",
    "                        'results_nevals_used': results_nevals_used,\n",
    "                        'result_times': result_times,\n",
    "                        'run': result_runs\n",
    "                       })\n",
    "temp_df['s_per_sample'] = temp_df.result_times / temp_df.results_nevals_used"
   ]
  },
  {
   "cell_type": "code",
   "execution_count": 62,
   "id": "czech-occasions",
   "metadata": {
    "ExecuteTime": {
     "end_time": "2022-05-22T23:29:17.059824Z",
     "start_time": "2022-05-22T23:29:17.046859Z"
    }
   },
   "outputs": [
    {
     "data": {
      "text/html": [
       "<div>\n",
       "<style scoped>\n",
       "    .dataframe tbody tr th:only-of-type {\n",
       "        vertical-align: middle;\n",
       "    }\n",
       "\n",
       "    .dataframe tbody tr th {\n",
       "        vertical-align: top;\n",
       "    }\n",
       "\n",
       "    .dataframe thead th {\n",
       "        text-align: right;\n",
       "    }\n",
       "</style>\n",
       "<table border=\"1\" class=\"dataframe\">\n",
       "  <thead>\n",
       "    <tr style=\"text-align: right;\">\n",
       "      <th></th>\n",
       "      <th>neval</th>\n",
       "      <th>result_means</th>\n",
       "      <th>results_stddevs</th>\n",
       "      <th>results_nevals_used</th>\n",
       "      <th>result_times</th>\n",
       "      <th>run</th>\n",
       "      <th>s_per_sample</th>\n",
       "    </tr>\n",
       "  </thead>\n",
       "  <tbody>\n",
       "    <tr>\n",
       "      <th>0</th>\n",
       "      <td>100000</td>\n",
       "      <td>0.000000e+00</td>\n",
       "      <td>1.000000e-129</td>\n",
       "      <td>244944.0</td>\n",
       "      <td>2.610017</td>\n",
       "      <td>1</td>\n",
       "      <td>0.000011</td>\n",
       "    </tr>\n",
       "    <tr>\n",
       "      <th>1</th>\n",
       "      <td>1000000</td>\n",
       "      <td>1.151546e-174</td>\n",
       "      <td>1.000000e-129</td>\n",
       "      <td>2875392.0</td>\n",
       "      <td>30.335839</td>\n",
       "      <td>1</td>\n",
       "      <td>0.000011</td>\n",
       "    </tr>\n",
       "    <tr>\n",
       "      <th>2</th>\n",
       "      <td>100000</td>\n",
       "      <td>0.000000e+00</td>\n",
       "      <td>1.000000e-129</td>\n",
       "      <td>244944.0</td>\n",
       "      <td>2.602038</td>\n",
       "      <td>2</td>\n",
       "      <td>0.000011</td>\n",
       "    </tr>\n",
       "    <tr>\n",
       "      <th>3</th>\n",
       "      <td>1000000</td>\n",
       "      <td>7.891003e-140</td>\n",
       "      <td>3.162278e-129</td>\n",
       "      <td>9624032.0</td>\n",
       "      <td>100.149287</td>\n",
       "      <td>2</td>\n",
       "      <td>0.000010</td>\n",
       "    </tr>\n",
       "    <tr>\n",
       "      <th>4</th>\n",
       "      <td>100000</td>\n",
       "      <td>0.000000e+00</td>\n",
       "      <td>1.000000e-129</td>\n",
       "      <td>244944.0</td>\n",
       "      <td>2.653444</td>\n",
       "      <td>3</td>\n",
       "      <td>0.000011</td>\n",
       "    </tr>\n",
       "    <tr>\n",
       "      <th>5</th>\n",
       "      <td>1000000</td>\n",
       "      <td>4.791707e-180</td>\n",
       "      <td>1.000000e-129</td>\n",
       "      <td>2875392.0</td>\n",
       "      <td>31.179042</td>\n",
       "      <td>3</td>\n",
       "      <td>0.000011</td>\n",
       "    </tr>\n",
       "    <tr>\n",
       "      <th>6</th>\n",
       "      <td>100000</td>\n",
       "      <td>4.513385e-219</td>\n",
       "      <td>1.000000e-129</td>\n",
       "      <td>244944.0</td>\n",
       "      <td>2.652933</td>\n",
       "      <td>4</td>\n",
       "      <td>0.000011</td>\n",
       "    </tr>\n",
       "    <tr>\n",
       "      <th>7</th>\n",
       "      <td>1000000</td>\n",
       "      <td>1.200649e-291</td>\n",
       "      <td>1.000000e-129</td>\n",
       "      <td>2875392.0</td>\n",
       "      <td>31.128104</td>\n",
       "      <td>4</td>\n",
       "      <td>0.000011</td>\n",
       "    </tr>\n",
       "    <tr>\n",
       "      <th>8</th>\n",
       "      <td>100000</td>\n",
       "      <td>0.000000e+00</td>\n",
       "      <td>1.000000e-129</td>\n",
       "      <td>244944.0</td>\n",
       "      <td>2.670899</td>\n",
       "      <td>5</td>\n",
       "      <td>0.000011</td>\n",
       "    </tr>\n",
       "    <tr>\n",
       "      <th>9</th>\n",
       "      <td>1000000</td>\n",
       "      <td>8.069308e-299</td>\n",
       "      <td>1.000000e-129</td>\n",
       "      <td>2875392.0</td>\n",
       "      <td>31.150569</td>\n",
       "      <td>5</td>\n",
       "      <td>0.000011</td>\n",
       "    </tr>\n",
       "  </tbody>\n",
       "</table>\n",
       "</div>"
      ],
      "text/plain": [
       "     neval   result_means  results_stddevs  results_nevals_used  result_times  \\\n",
       "0   100000   0.000000e+00    1.000000e-129             244944.0      2.610017   \n",
       "1  1000000  1.151546e-174    1.000000e-129            2875392.0     30.335839   \n",
       "2   100000   0.000000e+00    1.000000e-129             244944.0      2.602038   \n",
       "3  1000000  7.891003e-140    3.162278e-129            9624032.0    100.149287   \n",
       "4   100000   0.000000e+00    1.000000e-129             244944.0      2.653444   \n",
       "5  1000000  4.791707e-180    1.000000e-129            2875392.0     31.179042   \n",
       "6   100000  4.513385e-219    1.000000e-129             244944.0      2.652933   \n",
       "7  1000000  1.200649e-291    1.000000e-129            2875392.0     31.128104   \n",
       "8   100000   0.000000e+00    1.000000e-129             244944.0      2.670899   \n",
       "9  1000000  8.069308e-299    1.000000e-129            2875392.0     31.150569   \n",
       "\n",
       "   run  s_per_sample  \n",
       "0    1      0.000011  \n",
       "1    1      0.000011  \n",
       "2    2      0.000011  \n",
       "3    2      0.000010  \n",
       "4    3      0.000011  \n",
       "5    3      0.000011  \n",
       "6    4      0.000011  \n",
       "7    4      0.000011  \n",
       "8    5      0.000011  \n",
       "9    5      0.000011  "
      ]
     },
     "execution_count": 62,
     "metadata": {},
     "output_type": "execute_result"
    }
   ],
   "source": [
    "temp_df"
   ]
  },
  {
   "cell_type": "code",
   "execution_count": 63,
   "id": "international-mailman",
   "metadata": {
    "ExecuteTime": {
     "end_time": "2022-05-22T23:29:17.066806Z",
     "start_time": "2022-05-22T23:29:17.061819Z"
    }
   },
   "outputs": [],
   "source": [
    "g = temp_df.groupby('neval')['result_means'].apply(lambda x: x.tolist())"
   ]
  },
  {
   "cell_type": "code",
   "execution_count": 64,
   "id": "legendary-soundtrack",
   "metadata": {
    "ExecuteTime": {
     "end_time": "2022-05-22T23:29:17.147589Z",
     "start_time": "2022-05-22T23:29:17.067803Z"
    }
   },
   "outputs": [
    {
     "data": {
      "image/png": "[encoded data removed]",
      "text/plain": [
       "<Figure size 432x288 with 1 Axes>"
      ]
     },
     "metadata": {
      "needs_background": "light"
     },
     "output_type": "display_data"
    }
   ],
   "source": [
    "# plt.yscale('log')\n",
    "plt.axhline(y=target, linestyle=':')\n",
    "plt.title('VEGAS Simple')\n",
    "plt.xlabel('neval')\n",
    "plt.ylabel('result')\n",
    "plt.boxplot(g.values, labels=[f'{x:.0E}' for x in neval_lst]);"
   ]
  },
  {
   "cell_type": "code",
   "execution_count": 65,
   "id": "light-glance",
   "metadata": {
    "ExecuteTime": {
     "end_time": "2022-05-22T23:29:17.157563Z",
     "start_time": "2022-05-22T23:29:17.148587Z"
    }
   },
   "outputs": [
    {
     "data": {
      "text/html": [
       "<div>\n",
       "<style scoped>\n",
       "    .dataframe tbody tr th:only-of-type {\n",
       "        vertical-align: middle;\n",
       "    }\n",
       "\n",
       "    .dataframe tbody tr th {\n",
       "        vertical-align: top;\n",
       "    }\n",
       "\n",
       "    .dataframe thead th {\n",
       "        text-align: right;\n",
       "    }\n",
       "</style>\n",
       "<table border=\"1\" class=\"dataframe\">\n",
       "  <thead>\n",
       "    <tr style=\"text-align: right;\">\n",
       "      <th></th>\n",
       "      <th>mean</th>\n",
       "      <th>std</th>\n",
       "    </tr>\n",
       "    <tr>\n",
       "      <th>neval</th>\n",
       "      <th></th>\n",
       "      <th></th>\n",
       "    </tr>\n",
       "  </thead>\n",
       "  <tbody>\n",
       "    <tr>\n",
       "      <th>100000</th>\n",
       "      <td>9.026770e-220</td>\n",
       "      <td>0.000000e+00</td>\n",
       "    </tr>\n",
       "    <tr>\n",
       "      <th>1000000</th>\n",
       "      <td>1.578201e-140</td>\n",
       "      <td>3.528964e-140</td>\n",
       "    </tr>\n",
       "  </tbody>\n",
       "</table>\n",
       "</div>"
      ],
      "text/plain": [
       "                  mean            std\n",
       "neval                                \n",
       "100000   9.026770e-220   0.000000e+00\n",
       "1000000  1.578201e-140  3.528964e-140"
      ]
     },
     "execution_count": 65,
     "metadata": {},
     "output_type": "execute_result"
    }
   ],
   "source": [
    "temp_df.groupby('neval')['result_means'].agg([np.mean, np.std])"
   ]
  },
  {
   "cell_type": "code",
   "execution_count": 79,
   "id": "opposite-attendance",
   "metadata": {
    "ExecuteTime": {
     "end_time": "2022-05-22T23:34:10.107796Z",
     "start_time": "2022-05-22T23:34:10.102809Z"
    }
   },
   "outputs": [
    {
     "data": {
      "text/plain": [
       "49.165073816419444"
      ]
     },
     "execution_count": 79,
     "metadata": {},
     "output_type": "execute_result"
    }
   ],
   "source": [
    "temp_df.groupby('neval')['result_means'].agg(np.mean).iloc[-1] - target"
   ]
  },
  {
   "cell_type": "code",
   "execution_count": 67,
   "id": "entire-chemistry",
   "metadata": {
    "ExecuteTime": {
     "end_time": "2022-05-22T23:29:17.172523Z",
     "start_time": "2022-05-22T23:29:17.165541Z"
    }
   },
   "outputs": [
    {
     "data": {
      "text/plain": [
       "neval\n",
       "100000      2.637866\n",
       "1000000    44.788568\n",
       "Name: result_times, dtype: float64"
      ]
     },
     "execution_count": 67,
     "metadata": {},
     "output_type": "execute_result"
    }
   ],
   "source": [
    "g = temp_df.groupby('neval')['result_times'].apply(lambda x: x.tolist())\n",
    "g.apply(np.mean)"
   ]
  },
  {
   "cell_type": "code",
   "execution_count": 68,
   "id": "subtle-chair",
   "metadata": {
    "ExecuteTime": {
     "end_time": "2022-05-22T23:29:17.359023Z",
     "start_time": "2022-05-22T23:29:17.173520Z"
    }
   },
   "outputs": [
    {
     "data": {
      "image/png": "[encoded data removed]",
      "text/plain": [
       "<Figure size 432x288 with 1 Axes>"
      ]
     },
     "metadata": {
      "needs_background": "light"
     },
     "output_type": "display_data"
    }
   ],
   "source": [
    "plt.title('VEGAS Simple')\n",
    "plt.xlabel('neval')\n",
    "plt.ylabel('time (s)')\n",
    "plt.scatter(g.index, g.apply(np.mean))\n",
    "plt.plot(g.index, g.apply(np.mean), linestyle='--')\n",
    "plt.xscale('log')"
   ]
  },
  {
   "cell_type": "markdown",
   "id": "welcome-perry",
   "metadata": {},
   "source": [
    "#### Precompute"
   ]
  },
  {
   "cell_type": "code",
   "execution_count": 69,
   "id": "expressed-bowling",
   "metadata": {
    "ExecuteTime": {
     "end_time": "2022-05-22T23:29:17.366005Z",
     "start_time": "2022-05-22T23:29:17.362016Z"
    }
   },
   "outputs": [],
   "source": [
    "ndims = 9\n",
    "sigma = 0.01\n",
    "alpha = sigma * np.sqrt(2)\n",
    "\n",
    "def f2(x):\n",
    "    pre = 1.0 / (alpha * np.sqrt(np.pi)) ** ndims\n",
    "    exponent = -1 * np.sum(x ** 2, axis=-1) / alpha ** 2\n",
    "    return pre * np.exp(exponent)"
   ]
  },
  {
   "cell_type": "code",
   "execution_count": 70,
   "id": "afraid-therapy",
   "metadata": {
    "ExecuteTime": {
     "end_time": "2022-05-22T23:34:09.784660Z",
     "start_time": "2022-05-22T23:29:17.368000Z"
    }
   },
   "outputs": [
    {
     "name": "stdout",
     "output_type": "stream",
     "text": [
      "run=1 neval=100000\n",
      "- 174960.0\n",
      "\n",
      "run=1 neval=1000000\n",
      "- 2211840.0\n",
      "\n",
      "run=2 neval=100000\n",
      "- 174960.0\n",
      "\n",
      "run=2 neval=1000000\n",
      "- 2211840.0\n",
      "\n",
      "run=3 neval=100000\n",
      "- 174960.0\n",
      "\n",
      "run=3 neval=1000000\n",
      "- 2211840.0\n",
      "\n",
      "run=4 neval=100000\n",
      "- 174960.0\n",
      "\n",
      "run=4 neval=1000000\n",
      "- 2211840.0\n",
      "\n",
      "run=5 neval=100000\n",
      "- 174960.0\n",
      "\n",
      "run=5 neval=1000000\n",
      "- 2211840.0\n",
      "\n"
     ]
    }
   ],
   "source": [
    "np.random.seed(123)\n",
    "\n",
    "results = []\n",
    "results_means = []\n",
    "results_stddevs = []\n",
    "results_nevals_used = []\n",
    "result_times = []\n",
    "result_runs = []\n",
    "\n",
    "neval_lst = list(map(int, [1e5, 1e6]))\n",
    "run_lst = list(range(1,6))\n",
    "\n",
    "\n",
    "for run in run_lst:\n",
    "    for neval in neval_lst:\n",
    "        \n",
    "        print(f'run={run} neval={neval}')\n",
    "                \n",
    "        time_a = time.time()\n",
    "        integ = vegas.Integrator([[-1, 1]] * ndims, mpi=False)\n",
    "        \n",
    "        # precompute on 100% of nitn*neval\n",
    "        integ(f2, nitn=10, neval=neval)\n",
    "        \n",
    "        current_result = integ(f2, nitn=10, neval=neval, adapt=False)\n",
    "        time_b = time.time() - time_a\n",
    "        result_times.append(time_b)\n",
    "        result_runs.append(run)\n",
    "        \n",
    "        results_nevals_used.append(current_result.sum_neval)\n",
    "        print(f'- {current_result.sum_neval}\\n')\n",
    "\n",
    "        #current_result_mean = tf.reduce_mean(current_result).numpy()\n",
    "        #current_result_stddev = tf.math.reduce_std(current_result).numpy()\n",
    "\n",
    "        results_means.append(current_result.mean)\n",
    "        results_stddevs.append(current_result.sdev)\n",
    "        results.append(current_result)"
   ]
  },
  {
   "cell_type": "code",
   "execution_count": 81,
   "id": "fatty-property",
   "metadata": {
    "ExecuteTime": {
     "end_time": "2022-05-22T23:39:05.495513Z",
     "start_time": "2022-05-22T23:39:05.490526Z"
    }
   },
   "outputs": [],
   "source": [
    "temp_df = pd.DataFrame({'neval': neval_lst * len(run_lst),\n",
    "                        'result_means': results_means,\n",
    "                        'results_stddevs': results_stddevs,\n",
    "                        'results_nevals_used': results_nevals_used,\n",
    "                        'result_times': result_times,\n",
    "                        'run': result_runs\n",
    "                       })\n",
    "temp_df['s_per_sample'] = temp_df.result_times / temp_df.results_nevals_used"
   ]
  },
  {
   "cell_type": "code",
   "execution_count": 82,
   "id": "elder-minutes",
   "metadata": {
    "ExecuteTime": {
     "end_time": "2022-05-22T23:39:05.730883Z",
     "start_time": "2022-05-22T23:39:05.719912Z"
    }
   },
   "outputs": [
    {
     "data": {
      "text/html": [
       "<div>\n",
       "<style scoped>\n",
       "    .dataframe tbody tr th:only-of-type {\n",
       "        vertical-align: middle;\n",
       "    }\n",
       "\n",
       "    .dataframe tbody tr th {\n",
       "        vertical-align: top;\n",
       "    }\n",
       "\n",
       "    .dataframe thead th {\n",
       "        text-align: right;\n",
       "    }\n",
       "</style>\n",
       "<table border=\"1\" class=\"dataframe\">\n",
       "  <thead>\n",
       "    <tr style=\"text-align: right;\">\n",
       "      <th></th>\n",
       "      <th>neval</th>\n",
       "      <th>result_means</th>\n",
       "      <th>results_stddevs</th>\n",
       "      <th>results_nevals_used</th>\n",
       "      <th>result_times</th>\n",
       "      <th>run</th>\n",
       "      <th>s_per_sample</th>\n",
       "    </tr>\n",
       "  </thead>\n",
       "  <tbody>\n",
       "    <tr>\n",
       "      <th>0</th>\n",
       "      <td>100000</td>\n",
       "      <td>0.000000e+00</td>\n",
       "      <td>1.000000e-129</td>\n",
       "      <td>174960.0</td>\n",
       "      <td>4.567351</td>\n",
       "      <td>1</td>\n",
       "      <td>0.000026</td>\n",
       "    </tr>\n",
       "    <tr>\n",
       "      <th>1</th>\n",
       "      <td>1000000</td>\n",
       "      <td>2.491238e-246</td>\n",
       "      <td>1.000000e-129</td>\n",
       "      <td>2211840.0</td>\n",
       "      <td>54.905530</td>\n",
       "      <td>1</td>\n",
       "      <td>0.000025</td>\n",
       "    </tr>\n",
       "    <tr>\n",
       "      <th>2</th>\n",
       "      <td>100000</td>\n",
       "      <td>0.000000e+00</td>\n",
       "      <td>1.000000e-129</td>\n",
       "      <td>174960.0</td>\n",
       "      <td>4.523897</td>\n",
       "      <td>2</td>\n",
       "      <td>0.000026</td>\n",
       "    </tr>\n",
       "    <tr>\n",
       "      <th>3</th>\n",
       "      <td>1000000</td>\n",
       "      <td>7.517211e-289</td>\n",
       "      <td>1.000000e-129</td>\n",
       "      <td>2211840.0</td>\n",
       "      <td>53.831977</td>\n",
       "      <td>2</td>\n",
       "      <td>0.000024</td>\n",
       "    </tr>\n",
       "    <tr>\n",
       "      <th>4</th>\n",
       "      <td>100000</td>\n",
       "      <td>0.000000e+00</td>\n",
       "      <td>1.000000e-129</td>\n",
       "      <td>174960.0</td>\n",
       "      <td>4.455081</td>\n",
       "      <td>3</td>\n",
       "      <td>0.000025</td>\n",
       "    </tr>\n",
       "    <tr>\n",
       "      <th>5</th>\n",
       "      <td>1000000</td>\n",
       "      <td>1.211620e-271</td>\n",
       "      <td>1.000000e-129</td>\n",
       "      <td>2211840.0</td>\n",
       "      <td>53.694345</td>\n",
       "      <td>3</td>\n",
       "      <td>0.000024</td>\n",
       "    </tr>\n",
       "    <tr>\n",
       "      <th>6</th>\n",
       "      <td>100000</td>\n",
       "      <td>0.000000e+00</td>\n",
       "      <td>1.000000e-129</td>\n",
       "      <td>174960.0</td>\n",
       "      <td>4.468046</td>\n",
       "      <td>4</td>\n",
       "      <td>0.000026</td>\n",
       "    </tr>\n",
       "    <tr>\n",
       "      <th>7</th>\n",
       "      <td>1000000</td>\n",
       "      <td>5.269302e-203</td>\n",
       "      <td>1.000000e-129</td>\n",
       "      <td>2211840.0</td>\n",
       "      <td>53.761167</td>\n",
       "      <td>4</td>\n",
       "      <td>0.000024</td>\n",
       "    </tr>\n",
       "    <tr>\n",
       "      <th>8</th>\n",
       "      <td>100000</td>\n",
       "      <td>3.704032e-169</td>\n",
       "      <td>1.000000e-129</td>\n",
       "      <td>174960.0</td>\n",
       "      <td>4.416185</td>\n",
       "      <td>5</td>\n",
       "      <td>0.000025</td>\n",
       "    </tr>\n",
       "    <tr>\n",
       "      <th>9</th>\n",
       "      <td>1000000</td>\n",
       "      <td>3.380918e-272</td>\n",
       "      <td>1.000000e-129</td>\n",
       "      <td>2211840.0</td>\n",
       "      <td>53.784105</td>\n",
       "      <td>5</td>\n",
       "      <td>0.000024</td>\n",
       "    </tr>\n",
       "  </tbody>\n",
       "</table>\n",
       "</div>"
      ],
      "text/plain": [
       "     neval   result_means  results_stddevs  results_nevals_used  result_times  \\\n",
       "0   100000   0.000000e+00    1.000000e-129             174960.0      4.567351   \n",
       "1  1000000  2.491238e-246    1.000000e-129            2211840.0     54.905530   \n",
       "2   100000   0.000000e+00    1.000000e-129             174960.0      4.523897   \n",
       "3  1000000  7.517211e-289    1.000000e-129            2211840.0     53.831977   \n",
       "4   100000   0.000000e+00    1.000000e-129             174960.0      4.455081   \n",
       "5  1000000  1.211620e-271    1.000000e-129            2211840.0     53.694345   \n",
       "6   100000   0.000000e+00    1.000000e-129             174960.0      4.468046   \n",
       "7  1000000  5.269302e-203    1.000000e-129            2211840.0     53.761167   \n",
       "8   100000  3.704032e-169    1.000000e-129             174960.0      4.416185   \n",
       "9  1000000  3.380918e-272    1.000000e-129            2211840.0     53.784105   \n",
       "\n",
       "   run  s_per_sample  \n",
       "0    1      0.000026  \n",
       "1    1      0.000025  \n",
       "2    2      0.000026  \n",
       "3    2      0.000024  \n",
       "4    3      0.000025  \n",
       "5    3      0.000024  \n",
       "6    4      0.000026  \n",
       "7    4      0.000024  \n",
       "8    5      0.000025  \n",
       "9    5      0.000024  "
      ]
     },
     "execution_count": 82,
     "metadata": {},
     "output_type": "execute_result"
    }
   ],
   "source": [
    "temp_df"
   ]
  },
  {
   "cell_type": "code",
   "execution_count": 83,
   "id": "ordinary-logic",
   "metadata": {
    "ExecuteTime": {
     "end_time": "2022-05-22T23:39:06.694305Z",
     "start_time": "2022-05-22T23:39:06.689319Z"
    }
   },
   "outputs": [],
   "source": [
    "g = temp_df.groupby('neval')['result_means'].apply(lambda x: x.tolist())"
   ]
  },
  {
   "cell_type": "code",
   "execution_count": 84,
   "id": "tough-continuity",
   "metadata": {
    "ExecuteTime": {
     "end_time": "2022-05-22T23:39:07.066310Z",
     "start_time": "2022-05-22T23:39:06.985526Z"
    }
   },
   "outputs": [
    {
     "data": {
      "image/png": "[encoded data removed]",
      "text/plain": [
       "<Figure size 432x288 with 1 Axes>"
      ]
     },
     "metadata": {
      "needs_background": "light"
     },
     "output_type": "display_data"
    }
   ],
   "source": [
    "# plt.yscale('log')\n",
    "plt.axhline(y=target, linestyle=':')\n",
    "plt.title('VEGAS Precompute')\n",
    "plt.xlabel('neval')\n",
    "plt.ylabel('result')\n",
    "plt.boxplot(g.values, labels=[f'{x:.0E}' for x in neval_lst]);"
   ]
  },
  {
   "cell_type": "code",
   "execution_count": 85,
   "id": "spectacular-lewis",
   "metadata": {
    "ExecuteTime": {
     "end_time": "2022-05-22T23:39:08.569289Z",
     "start_time": "2022-05-22T23:39:08.561310Z"
    }
   },
   "outputs": [
    {
     "data": {
      "text/html": [
       "<div>\n",
       "<style scoped>\n",
       "    .dataframe tbody tr th:only-of-type {\n",
       "        vertical-align: middle;\n",
       "    }\n",
       "\n",
       "    .dataframe tbody tr th {\n",
       "        vertical-align: top;\n",
       "    }\n",
       "\n",
       "    .dataframe thead th {\n",
       "        text-align: right;\n",
       "    }\n",
       "</style>\n",
       "<table border=\"1\" class=\"dataframe\">\n",
       "  <thead>\n",
       "    <tr style=\"text-align: right;\">\n",
       "      <th></th>\n",
       "      <th>mean</th>\n",
       "      <th>std</th>\n",
       "    </tr>\n",
       "    <tr>\n",
       "      <th>neval</th>\n",
       "      <th></th>\n",
       "      <th></th>\n",
       "    </tr>\n",
       "  </thead>\n",
       "  <tbody>\n",
       "    <tr>\n",
       "      <th>100000</th>\n",
       "      <td>7.408064e-170</td>\n",
       "      <td>0.0</td>\n",
       "    </tr>\n",
       "    <tr>\n",
       "      <th>1000000</th>\n",
       "      <td>1.053860e-203</td>\n",
       "      <td>0.0</td>\n",
       "    </tr>\n",
       "  </tbody>\n",
       "</table>\n",
       "</div>"
      ],
      "text/plain": [
       "                  mean  std\n",
       "neval                      \n",
       "100000   7.408064e-170  0.0\n",
       "1000000  1.053860e-203  0.0"
      ]
     },
     "execution_count": 85,
     "metadata": {},
     "output_type": "execute_result"
    }
   ],
   "source": [
    "temp_df.groupby('neval')['result_means'].agg([np.mean, np.std])"
   ]
  },
  {
   "cell_type": "code",
   "execution_count": 86,
   "id": "hundred-bride",
   "metadata": {
    "ExecuteTime": {
     "end_time": "2022-05-22T23:39:10.342546Z",
     "start_time": "2022-05-22T23:39:10.337559Z"
    }
   },
   "outputs": [
    {
     "data": {
      "text/plain": [
       "-1.0"
      ]
     },
     "execution_count": 86,
     "metadata": {},
     "output_type": "execute_result"
    }
   ],
   "source": [
    "temp_df.groupby('neval')['result_means'].agg(np.mean).iloc[-1] - target"
   ]
  },
  {
   "cell_type": "code",
   "execution_count": 87,
   "id": "ruled-charleston",
   "metadata": {
    "ExecuteTime": {
     "end_time": "2022-05-22T23:39:13.160007Z",
     "start_time": "2022-05-22T23:39:13.153026Z"
    }
   },
   "outputs": [
    {
     "data": {
      "text/plain": [
       "neval\n",
       "100000      4.486112\n",
       "1000000    53.995425\n",
       "Name: result_times, dtype: float64"
      ]
     },
     "execution_count": 87,
     "metadata": {},
     "output_type": "execute_result"
    }
   ],
   "source": [
    "g = temp_df.groupby('neval')['result_times'].apply(lambda x: x.tolist())\n",
    "g.apply(np.mean)"
   ]
  },
  {
   "cell_type": "code",
   "execution_count": 88,
   "id": "conceptual-river",
   "metadata": {
    "ExecuteTime": {
     "end_time": "2022-05-22T23:39:17.305915Z",
     "start_time": "2022-05-22T23:39:17.122407Z"
    }
   },
   "outputs": [
    {
     "data": {
      "image/png": "[encoded data removed]",
      "text/plain": [
       "<Figure size 432x288 with 1 Axes>"
      ]
     },
     "metadata": {
      "needs_background": "light"
     },
     "output_type": "display_data"
    }
   ],
   "source": [
    "plt.title('VEGAS Precompute')\n",
    "plt.xlabel('samples')\n",
    "plt.ylabel('time (s)')\n",
    "plt.scatter(g.index, g.apply(np.mean))\n",
    "plt.plot(g.index, g.apply(np.mean), linestyle='--')\n",
    "plt.xscale('log')"
   ]
  },
  {
   "cell_type": "markdown",
   "id": "prostate-installation",
   "metadata": {},
   "source": [
    "#### Batch"
   ]
  },
  {
   "cell_type": "code",
   "execution_count": 89,
   "id": "radical-aaron",
   "metadata": {
    "ExecuteTime": {
     "end_time": "2022-05-22T23:40:12.150184Z",
     "start_time": "2022-05-22T23:40:12.146195Z"
    }
   },
   "outputs": [],
   "source": [
    "ndims = 9\n",
    "sigma = 0.01\n",
    "alpha = sigma * np.sqrt(2)\n",
    "\n",
    "@vegas.batchintegrand\n",
    "def f2(x):\n",
    "    pre = 1.0 / (alpha * np.sqrt(np.pi)) ** ndims\n",
    "    exponent = -1 * np.sum(x ** 2, axis=-1) / alpha ** 2\n",
    "    return pre * np.exp(exponent)"
   ]
  },
  {
   "cell_type": "code",
   "execution_count": 90,
   "id": "varied-reunion",
   "metadata": {
    "ExecuteTime": {
     "end_time": "2022-05-22T23:45:54.372105Z",
     "start_time": "2022-05-22T23:40:24.249813Z"
    },
    "scrolled": true
   },
   "outputs": [
    {
     "name": "stdout",
     "output_type": "stream",
     "text": [
      "run=1 neval=100000 nhcube_batch_list=10000\n",
      "- 174960.0\n",
      "\n",
      "run=1 neval=1000000 nhcube_batch_list=10000\n",
      "- 2211840.0\n",
      "\n",
      "run=1 neval=10000000 nhcube_batch_list=10000\n",
      "- 95370200.0\n",
      "\n",
      "run=2 neval=100000 nhcube_batch_list=10000\n",
      "- 174960.0\n",
      "\n",
      "run=2 neval=1000000 nhcube_batch_list=10000\n",
      "- 2211840.0\n",
      "\n",
      "run=2 neval=10000000 nhcube_batch_list=10000\n",
      "- 95135580.0\n",
      "\n",
      "run=3 neval=100000 nhcube_batch_list=10000\n",
      "- 174960.0\n",
      "\n",
      "run=3 neval=1000000 nhcube_batch_list=10000\n",
      "- 9368160.0\n",
      "\n",
      "run=3 neval=10000000 nhcube_batch_list=10000\n",
      "- 99147700.0\n",
      "\n",
      "run=4 neval=100000 nhcube_batch_list=10000\n",
      "- 174960.0\n",
      "\n",
      "run=4 neval=1000000 nhcube_batch_list=10000\n",
      "- 2211840.0\n",
      "\n",
      "run=4 neval=10000000 nhcube_batch_list=10000\n",
      "- 98954150.0\n",
      "\n",
      "run=5 neval=100000 nhcube_batch_list=10000\n",
      "- 174960.0\n",
      "\n",
      "run=5 neval=1000000 nhcube_batch_list=10000\n",
      "- 2211840.0\n",
      "\n",
      "run=5 neval=10000000 nhcube_batch_list=10000\n",
      "- 94589740.0\n",
      "\n"
     ]
    }
   ],
   "source": [
    "np.random.seed(123)\n",
    "\n",
    "results = []\n",
    "results_means = []\n",
    "results_stddevs = []\n",
    "results_nevals_used = []\n",
    "result_times = []\n",
    "\n",
    "result_runs = []\n",
    "result_neval = []\n",
    "result_nhcube_batch = []\n",
    "\n",
    "nhcube_batch_list = list(map(int, [1e4]))\n",
    "neval_lst = list(map(int, [1e5, 1e6, 1e7]))\n",
    "run_lst = list(range(1,6))\n",
    "\n",
    "\n",
    "for run in run_lst:\n",
    "    for neval in neval_lst:\n",
    "        for nhcube_batch in nhcube_batch_list:\n",
    "        \n",
    "            print(f'run={run} neval={neval} nhcube_batch_list={nhcube_batch}')\n",
    "\n",
    "            time_a = time.time()\n",
    "            integ = vegas.Integrator([[-1, 1]] * ndims, mpi=False, nhcube_batch=nhcube_batch)\n",
    "\n",
    "            # precompute on 100% of nitn*neval\n",
    "            integ(f2, nitn=10, neval=neval)\n",
    "\n",
    "            current_result = integ(f2, nitn=10, neval=neval, adapt=False)\n",
    "            time_b = time.time() - time_a\n",
    "            result_times.append(time_b)\n",
    "            \n",
    "            result_runs.append(run)\n",
    "            result_neval.append(neval)\n",
    "            result_nhcube_batch.append(nhcube_batch)\n",
    "\n",
    "            results_nevals_used.append(current_result.sum_neval)\n",
    "            print(f'- {current_result.sum_neval}\\n')\n",
    "\n",
    "            #current_result_mean = tf.reduce_mean(current_result).numpy()\n",
    "            #current_result_stddev = tf.math.reduce_std(current_result).numpy()\n",
    "\n",
    "            results_means.append(current_result.mean)\n",
    "            results_stddevs.append(current_result.sdev)\n",
    "            results.append(current_result)"
   ]
  },
  {
   "cell_type": "code",
   "execution_count": 91,
   "id": "dried-cigarette",
   "metadata": {
    "ExecuteTime": {
     "end_time": "2022-05-22T23:45:54.380084Z",
     "start_time": "2022-05-22T23:45:54.373102Z"
    }
   },
   "outputs": [],
   "source": [
    "temp_df = pd.DataFrame({'neval': result_neval,\n",
    "                        'result_means': results_means,\n",
    "                        'results_stddevs': results_stddevs,\n",
    "                        'results_nevals_used': results_nevals_used,\n",
    "                        'result_times': result_times,\n",
    "                        'run': result_runs,\n",
    "                        'nhcube_batch': result_nhcube_batch\n",
    "                       })\n",
    "temp_df['s_per_sample'] = temp_df.result_times / temp_df.results_nevals_used"
   ]
  },
  {
   "cell_type": "code",
   "execution_count": 92,
   "id": "intensive-macedonia",
   "metadata": {
    "ExecuteTime": {
     "end_time": "2022-05-22T23:45:54.393049Z",
     "start_time": "2022-05-22T23:45:54.381081Z"
    }
   },
   "outputs": [
    {
     "data": {
      "text/html": [
       "<div>\n",
       "<style scoped>\n",
       "    .dataframe tbody tr th:only-of-type {\n",
       "        vertical-align: middle;\n",
       "    }\n",
       "\n",
       "    .dataframe tbody tr th {\n",
       "        vertical-align: top;\n",
       "    }\n",
       "\n",
       "    .dataframe thead th {\n",
       "        text-align: right;\n",
       "    }\n",
       "</style>\n",
       "<table border=\"1\" class=\"dataframe\">\n",
       "  <thead>\n",
       "    <tr style=\"text-align: right;\">\n",
       "      <th></th>\n",
       "      <th>neval</th>\n",
       "      <th>result_means</th>\n",
       "      <th>results_stddevs</th>\n",
       "      <th>results_nevals_used</th>\n",
       "      <th>result_times</th>\n",
       "      <th>run</th>\n",
       "      <th>nhcube_batch</th>\n",
       "      <th>s_per_sample</th>\n",
       "    </tr>\n",
       "  </thead>\n",
       "  <tbody>\n",
       "    <tr>\n",
       "      <th>0</th>\n",
       "      <td>100000</td>\n",
       "      <td>0.000000e+00</td>\n",
       "      <td>1.000000e-129</td>\n",
       "      <td>174960.0</td>\n",
       "      <td>0.206447</td>\n",
       "      <td>1</td>\n",
       "      <td>10000</td>\n",
       "      <td>1.179968e-06</td>\n",
       "    </tr>\n",
       "    <tr>\n",
       "      <th>1</th>\n",
       "      <td>1000000</td>\n",
       "      <td>2.491238e-246</td>\n",
       "      <td>1.000000e-129</td>\n",
       "      <td>2211840.0</td>\n",
       "      <td>2.349713</td>\n",
       "      <td>1</td>\n",
       "      <td>10000</td>\n",
       "      <td>1.062334e-06</td>\n",
       "    </tr>\n",
       "    <tr>\n",
       "      <th>2</th>\n",
       "      <td>10000000</td>\n",
       "      <td>9.997671e-01</td>\n",
       "      <td>1.640091e-04</td>\n",
       "      <td>95370200.0</td>\n",
       "      <td>66.113120</td>\n",
       "      <td>1</td>\n",
       "      <td>10000</td>\n",
       "      <td>6.932262e-07</td>\n",
       "    </tr>\n",
       "    <tr>\n",
       "      <th>3</th>\n",
       "      <td>100000</td>\n",
       "      <td>0.000000e+00</td>\n",
       "      <td>1.000000e-129</td>\n",
       "      <td>174960.0</td>\n",
       "      <td>0.206448</td>\n",
       "      <td>2</td>\n",
       "      <td>10000</td>\n",
       "      <td>1.179972e-06</td>\n",
       "    </tr>\n",
       "    <tr>\n",
       "      <th>4</th>\n",
       "      <td>1000000</td>\n",
       "      <td>9.433929e-273</td>\n",
       "      <td>1.000000e-129</td>\n",
       "      <td>2211840.0</td>\n",
       "      <td>2.390604</td>\n",
       "      <td>2</td>\n",
       "      <td>10000</td>\n",
       "      <td>1.080821e-06</td>\n",
       "    </tr>\n",
       "    <tr>\n",
       "      <th>5</th>\n",
       "      <td>10000000</td>\n",
       "      <td>1.000195e+00</td>\n",
       "      <td>1.275598e-04</td>\n",
       "      <td>95135580.0</td>\n",
       "      <td>65.897696</td>\n",
       "      <td>2</td>\n",
       "      <td>10000</td>\n",
       "      <td>6.926714e-07</td>\n",
       "    </tr>\n",
       "    <tr>\n",
       "      <th>6</th>\n",
       "      <td>100000</td>\n",
       "      <td>0.000000e+00</td>\n",
       "      <td>1.000000e-129</td>\n",
       "      <td>174960.0</td>\n",
       "      <td>0.206448</td>\n",
       "      <td>3</td>\n",
       "      <td>10000</td>\n",
       "      <td>1.179972e-06</td>\n",
       "    </tr>\n",
       "    <tr>\n",
       "      <th>7</th>\n",
       "      <td>1000000</td>\n",
       "      <td>1.001819e+00</td>\n",
       "      <td>1.208216e-03</td>\n",
       "      <td>9368160.0</td>\n",
       "      <td>7.602659</td>\n",
       "      <td>3</td>\n",
       "      <td>10000</td>\n",
       "      <td>8.115424e-07</td>\n",
       "    </tr>\n",
       "    <tr>\n",
       "      <th>8</th>\n",
       "      <td>10000000</td>\n",
       "      <td>1.003193e+00</td>\n",
       "      <td>2.653132e-03</td>\n",
       "      <td>99147700.0</td>\n",
       "      <td>57.916555</td>\n",
       "      <td>3</td>\n",
       "      <td>10000</td>\n",
       "      <td>5.841442e-07</td>\n",
       "    </tr>\n",
       "    <tr>\n",
       "      <th>9</th>\n",
       "      <td>100000</td>\n",
       "      <td>0.000000e+00</td>\n",
       "      <td>1.000000e-129</td>\n",
       "      <td>174960.0</td>\n",
       "      <td>0.217418</td>\n",
       "      <td>4</td>\n",
       "      <td>10000</td>\n",
       "      <td>1.242675e-06</td>\n",
       "    </tr>\n",
       "    <tr>\n",
       "      <th>10</th>\n",
       "      <td>1000000</td>\n",
       "      <td>4.136706e-212</td>\n",
       "      <td>1.000000e-129</td>\n",
       "      <td>2211840.0</td>\n",
       "      <td>2.342732</td>\n",
       "      <td>4</td>\n",
       "      <td>10000</td>\n",
       "      <td>1.059178e-06</td>\n",
       "    </tr>\n",
       "    <tr>\n",
       "      <th>11</th>\n",
       "      <td>10000000</td>\n",
       "      <td>9.983987e-01</td>\n",
       "      <td>9.666618e-04</td>\n",
       "      <td>98954150.0</td>\n",
       "      <td>58.411725</td>\n",
       "      <td>4</td>\n",
       "      <td>10000</td>\n",
       "      <td>5.902908e-07</td>\n",
       "    </tr>\n",
       "    <tr>\n",
       "      <th>12</th>\n",
       "      <td>100000</td>\n",
       "      <td>0.000000e+00</td>\n",
       "      <td>1.000000e-129</td>\n",
       "      <td>174960.0</td>\n",
       "      <td>0.213429</td>\n",
       "      <td>5</td>\n",
       "      <td>10000</td>\n",
       "      <td>1.219873e-06</td>\n",
       "    </tr>\n",
       "    <tr>\n",
       "      <th>13</th>\n",
       "      <td>1000000</td>\n",
       "      <td>1.169083e-102</td>\n",
       "      <td>1.169083e-102</td>\n",
       "      <td>2211840.0</td>\n",
       "      <td>2.336748</td>\n",
       "      <td>5</td>\n",
       "      <td>10000</td>\n",
       "      <td>1.056472e-06</td>\n",
       "    </tr>\n",
       "    <tr>\n",
       "      <th>14</th>\n",
       "      <td>10000000</td>\n",
       "      <td>1.000077e+00</td>\n",
       "      <td>1.828250e-04</td>\n",
       "      <td>94589740.0</td>\n",
       "      <td>63.701572</td>\n",
       "      <td>5</td>\n",
       "      <td>10000</td>\n",
       "      <td>6.734512e-07</td>\n",
       "    </tr>\n",
       "  </tbody>\n",
       "</table>\n",
       "</div>"
      ],
      "text/plain": [
       "       neval   result_means  results_stddevs  results_nevals_used  \\\n",
       "0     100000   0.000000e+00    1.000000e-129             174960.0   \n",
       "1    1000000  2.491238e-246    1.000000e-129            2211840.0   \n",
       "2   10000000   9.997671e-01     1.640091e-04           95370200.0   \n",
       "3     100000   0.000000e+00    1.000000e-129             174960.0   \n",
       "4    1000000  9.433929e-273    1.000000e-129            2211840.0   \n",
       "5   10000000   1.000195e+00     1.275598e-04           95135580.0   \n",
       "6     100000   0.000000e+00    1.000000e-129             174960.0   \n",
       "7    1000000   1.001819e+00     1.208216e-03            9368160.0   \n",
       "8   10000000   1.003193e+00     2.653132e-03           99147700.0   \n",
       "9     100000   0.000000e+00    1.000000e-129             174960.0   \n",
       "10   1000000  4.136706e-212    1.000000e-129            2211840.0   \n",
       "11  10000000   9.983987e-01     9.666618e-04           98954150.0   \n",
       "12    100000   0.000000e+00    1.000000e-129             174960.0   \n",
       "13   1000000  1.169083e-102    1.169083e-102            2211840.0   \n",
       "14  10000000   1.000077e+00     1.828250e-04           94589740.0   \n",
       "\n",
       "    result_times  run  nhcube_batch  s_per_sample  \n",
       "0       0.206447    1         10000  1.179968e-06  \n",
       "1       2.349713    1         10000  1.062334e-06  \n",
       "2      66.113120    1         10000  6.932262e-07  \n",
       "3       0.206448    2         10000  1.179972e-06  \n",
       "4       2.390604    2         10000  1.080821e-06  \n",
       "5      65.897696    2         10000  6.926714e-07  \n",
       "6       0.206448    3         10000  1.179972e-06  \n",
       "7       7.602659    3         10000  8.115424e-07  \n",
       "8      57.916555    3         10000  5.841442e-07  \n",
       "9       0.217418    4         10000  1.242675e-06  \n",
       "10      2.342732    4         10000  1.059178e-06  \n",
       "11     58.411725    4         10000  5.902908e-07  \n",
       "12      0.213429    5         10000  1.219873e-06  \n",
       "13      2.336748    5         10000  1.056472e-06  \n",
       "14     63.701572    5         10000  6.734512e-07  "
      ]
     },
     "execution_count": 92,
     "metadata": {},
     "output_type": "execute_result"
    }
   ],
   "source": [
    "temp_df"
   ]
  },
  {
   "cell_type": "code",
   "execution_count": 93,
   "id": "instant-platinum",
   "metadata": {
    "ExecuteTime": {
     "end_time": "2022-05-22T23:45:54.399033Z",
     "start_time": "2022-05-22T23:45:54.395044Z"
    }
   },
   "outputs": [],
   "source": [
    "g = temp_df.groupby('neval')['result_means'].apply(lambda x: x.tolist())"
   ]
  },
  {
   "cell_type": "code",
   "execution_count": 94,
   "id": "demanding-healing",
   "metadata": {
    "ExecuteTime": {
     "end_time": "2022-05-22T23:45:54.485801Z",
     "start_time": "2022-05-22T23:45:54.400031Z"
    }
   },
   "outputs": [
    {
     "data": {
      "image/png": "[encoded data removed]",
      "text/plain": [
       "<Figure size 432x288 with 1 Axes>"
      ]
     },
     "metadata": {
      "needs_background": "light"
     },
     "output_type": "display_data"
    }
   ],
   "source": [
    "# plt.yscale('log')\n",
    "plt.axhline(y=target, linestyle=':')\n",
    "plt.title('VEGAS Batch')\n",
    "plt.xlabel('neval')\n",
    "plt.ylabel('result')\n",
    "plt.boxplot(g.values, labels=[f'{x:.0E}' for x in neval_lst]);"
   ]
  },
  {
   "cell_type": "code",
   "execution_count": 99,
   "id": "rubber-passing",
   "metadata": {
    "ExecuteTime": {
     "end_time": "2022-05-22T23:51:53.336740Z",
     "start_time": "2022-05-22T23:51:53.327763Z"
    }
   },
   "outputs": [
    {
     "data": {
      "text/html": [
       "<div>\n",
       "<style scoped>\n",
       "    .dataframe tbody tr th:only-of-type {\n",
       "        vertical-align: middle;\n",
       "    }\n",
       "\n",
       "    .dataframe tbody tr th {\n",
       "        vertical-align: top;\n",
       "    }\n",
       "\n",
       "    .dataframe thead th {\n",
       "        text-align: right;\n",
       "    }\n",
       "</style>\n",
       "<table border=\"1\" class=\"dataframe\">\n",
       "  <thead>\n",
       "    <tr style=\"text-align: right;\">\n",
       "      <th></th>\n",
       "      <th></th>\n",
       "      <th>mean</th>\n",
       "      <th>std</th>\n",
       "    </tr>\n",
       "    <tr>\n",
       "      <th>neval</th>\n",
       "      <th>nhcube_batch</th>\n",
       "      <th></th>\n",
       "      <th></th>\n",
       "    </tr>\n",
       "  </thead>\n",
       "  <tbody>\n",
       "    <tr>\n",
       "      <th>100000</th>\n",
       "      <th>10000</th>\n",
       "      <td>0.000000</td>\n",
       "      <td>0.000000</td>\n",
       "    </tr>\n",
       "    <tr>\n",
       "      <th>1000000</th>\n",
       "      <th>10000</th>\n",
       "      <td>0.200364</td>\n",
       "      <td>0.448027</td>\n",
       "    </tr>\n",
       "    <tr>\n",
       "      <th>10000000</th>\n",
       "      <th>10000</th>\n",
       "      <td>1.000326</td>\n",
       "      <td>0.001755</td>\n",
       "    </tr>\n",
       "  </tbody>\n",
       "</table>\n",
       "</div>"
      ],
      "text/plain": [
       "                           mean       std\n",
       "neval    nhcube_batch                    \n",
       "100000   10000         0.000000  0.000000\n",
       "1000000  10000         0.200364  0.448027\n",
       "10000000 10000         1.000326  0.001755"
      ]
     },
     "execution_count": 99,
     "metadata": {},
     "output_type": "execute_result"
    }
   ],
   "source": [
    "temp_df.groupby(['neval', 'nhcube_batch'])['result_means'].agg([np.mean, np.std])"
   ]
  },
  {
   "cell_type": "code",
   "execution_count": 100,
   "id": "primary-leeds",
   "metadata": {
    "ExecuteTime": {
     "end_time": "2022-05-22T23:51:53.638931Z",
     "start_time": "2022-05-22T23:51:53.633945Z"
    }
   },
   "outputs": [
    {
     "data": {
      "text/plain": [
       "0.00032610290997348024"
      ]
     },
     "execution_count": 100,
     "metadata": {},
     "output_type": "execute_result"
    }
   ],
   "source": [
    "temp_df.groupby('neval')['result_means'].agg(np.mean).iloc[-1] - target"
   ]
  },
  {
   "cell_type": "code",
   "execution_count": 101,
   "id": "shaped-emphasis",
   "metadata": {
    "ExecuteTime": {
     "end_time": "2022-05-22T23:51:53.959075Z",
     "start_time": "2022-05-22T23:51:53.953091Z"
    }
   },
   "outputs": [
    {
     "data": {
      "text/plain": [
       "neval\n",
       "100000       0.210038\n",
       "1000000      3.404491\n",
       "10000000    62.408134\n",
       "Name: result_times, dtype: float64"
      ]
     },
     "execution_count": 101,
     "metadata": {},
     "output_type": "execute_result"
    }
   ],
   "source": [
    "g = temp_df.groupby('neval')['result_times'].apply(lambda x: x.tolist())\n",
    "g.apply(np.mean)"
   ]
  },
  {
   "cell_type": "code",
   "execution_count": 102,
   "id": "pacific-discharge",
   "metadata": {
    "ExecuteTime": {
     "end_time": "2022-05-22T23:51:55.775215Z",
     "start_time": "2022-05-22T23:51:55.552811Z"
    }
   },
   "outputs": [
    {
     "data": {
      "image/png": "[encoded data removed]",
      "text/plain": [
       "<Figure size 432x288 with 1 Axes>"
      ]
     },
     "metadata": {
      "needs_background": "light"
     },
     "output_type": "display_data"
    }
   ],
   "source": [
    "plt.title('VEGAS Batch')\n",
    "plt.xlabel('neval')\n",
    "plt.ylabel('time (s)')\n",
    "plt.scatter(g.index, g.apply(np.mean))\n",
    "plt.plot(g.index, g.apply(np.mean), linestyle='--')\n",
    "plt.xscale('log')"
   ]
  },
  {
   "cell_type": "markdown",
   "id": "executed-bridge",
   "metadata": {},
   "source": [
    "#### BatchParallel"
   ]
  },
  {
   "cell_type": "code",
   "execution_count": 94,
   "id": "correct-adult",
   "metadata": {
    "ExecuteTime": {
     "end_time": "2022-05-22T20:45:50.550498Z",
     "start_time": "2022-05-22T20:45:50.544514Z"
    }
   },
   "outputs": [],
   "source": [
    "import multiprocessing\n",
    "import numpy as np\n",
    "import vegas\n",
    "\n",
    "\n",
    "class parallelintegrand(vegas.BatchIntegrand):\n",
    "    \"\"\" Convert (batch) integrand into multiprocessor integrand.\n",
    "\n",
    "    Integrand should return a numpy array.\n",
    "    \"\"\"\n",
    "    def __init__(self, fcn, nproc=4):\n",
    "        \" Save integrand; create pool of nproc processes. \"\n",
    "        self.fcn = fcn\n",
    "        self.nproc = nproc\n",
    "        self.pool = multiprocessing.Pool(processes=nproc)\n",
    "    def __del__(self):\n",
    "        \" Standard cleanup. \"\n",
    "        self.pool.close()\n",
    "        self.pool.join()\n",
    "    def __call__(self, x):\n",
    "        \" Divide x into self.nproc chunks, feeding one to each process. \"\n",
    "        nx = x.shape[0] // self.nproc + 1\n",
    "        # launch evaluation of self.fcn for each chunk, in parallel\n",
    "        results = self.pool.map(\n",
    "            self.fcn,\n",
    "            [x[i*nx : (i+1)*nx] for i in range(self.nproc)],\n",
    "            1,\n",
    "            )\n",
    "        # convert list of results into a single numpy array\n",
    "        return np.concatenate(results)"
   ]
  },
  {
   "cell_type": "code",
   "execution_count": 95,
   "id": "controversial-tobago",
   "metadata": {
    "ExecuteTime": {
     "end_time": "2022-05-22T20:45:50.948434Z",
     "start_time": "2022-05-22T20:45:50.944445Z"
    }
   },
   "outputs": [],
   "source": [
    "def f1(x):\n",
    "    return np.sin(np.sum(x, axis=-1))"
   ]
  },
  {
   "cell_type": "code",
   "execution_count": 96,
   "id": "passing-sweden",
   "metadata": {
    "ExecuteTime": {
     "end_time": "2022-05-22T20:45:51.448099Z",
     "start_time": "2022-05-22T20:45:51.432141Z"
    }
   },
   "outputs": [],
   "source": [
    "f1_batch_parallel = parallelintegrand(f1, 4)"
   ]
  },
  {
   "cell_type": "code",
   "execution_count": 97,
   "id": "parallel-lemon",
   "metadata": {
    "ExecuteTime": {
     "end_time": "2022-05-22T20:45:51.763256Z",
     "start_time": "2022-05-22T20:45:51.760264Z"
    }
   },
   "outputs": [],
   "source": [
    "ndims = 6"
   ]
  },
  {
   "cell_type": "code",
   "execution_count": 98,
   "id": "manual-ozone",
   "metadata": {
    "ExecuteTime": {
     "end_time": "2022-05-22T20:45:53.100681Z",
     "start_time": "2022-05-22T20:45:53.096692Z"
    }
   },
   "outputs": [],
   "source": [
    "# np.random.seed(123)\n",
    "\n",
    "# results = []\n",
    "# results_means = []\n",
    "# results_stddevs = []\n",
    "# results_nevals_used = []\n",
    "# result_times = []\n",
    "# result_runs = []\n",
    "\n",
    "# neval_lst = list(map(int, [1e4, 1e5]))\n",
    "# run_lst = list(range(1,3))\n",
    "\n",
    "\n",
    "# for run in run_lst:\n",
    "#     for neval in neval_lst:\n",
    "        \n",
    "#         print(f'run={run} neval={neval}')\n",
    "        \n",
    "#         time_a = time.time()\n",
    "#         integ = vegas.Integrator([[0, 10]] * ndims, mpi=False, nhcube_batch=1e3)\n",
    "        \n",
    "#         # precompute on 10% of nitn*neval\n",
    "#         # integ(f1, nitn=10, neval=1e5)\n",
    "        \n",
    "#         current_result = integ(f1_batch_parallel, nitn=10, neval=neval)\n",
    "#         time_b = time.time() - time_a\n",
    "#         result_times.append(time_b)\n",
    "#         result_runs.append(run)\n",
    "        \n",
    "#         results_nevals_used.append(current_result.sum_neval)\n",
    "#         print(f'- {current_result.sum_neval - acc_neval}\\n')\n",
    "\n",
    "#         #current_result_mean = tf.reduce_mean(current_result).numpy()\n",
    "#         #current_result_stddev = tf.math.reduce_std(current_result).numpy()\n",
    "\n",
    "#         results_means.append(current_result.mean)\n",
    "#         results_stddevs.append(current_result.sdev)\n",
    "#         results.append(current_result)"
   ]
  },
  {
   "cell_type": "code",
   "execution_count": null,
   "id": "infrared-proof",
   "metadata": {},
   "outputs": [],
   "source": []
  },
  {
   "cell_type": "code",
   "execution_count": null,
   "id": "professional-street",
   "metadata": {},
   "outputs": [],
   "source": []
  }
 ],
 "metadata": {
  "kernelspec": {
   "display_name": "mcenv",
   "language": "python",
   "name": "mcenv"
  },
  "language_info": {
   "codemirror_mode": {
    "name": "ipython",
    "version": 3
   },
   "file_extension": ".py",
   "mimetype": "text/x-python",
   "name": "python",
   "nbconvert_exporter": "python",
   "pygments_lexer": "ipython3",
   "version": "3.7.9"
  },
  "toc": {
   "base_numbering": 1,
   "nav_menu": {},
   "number_sections": true,
   "sideBar": true,
   "skip_h1_title": false,
   "title_cell": "Table of Contents",
   "title_sidebar": "Contents",
   "toc_cell": false,
   "toc_position": {
    "height": "calc(100% - 180px)",
    "left": "10px",
    "top": "150px",
    "width": "374.391px"
   },
   "toc_section_display": true,
   "toc_window_display": true
  }
 },
 "nbformat": 4,
 "nbformat_minor": 5
}
