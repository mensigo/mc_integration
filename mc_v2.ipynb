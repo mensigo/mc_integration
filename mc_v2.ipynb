{
 "cells": [
  {
   "cell_type": "code",
   "execution_count": 1,
   "id": "threatened-injury",
   "metadata": {},
   "outputs": [],
   "source": [
    "import numpy as np\n",
    "import matplotlib.pyplot as plt\n",
    "import tensorflow as tf\n",
    "import tensorflow_probability as tfp\n",
    "from scipy.special import erf\n",
    "import vegas, gvar\n",
    "\n",
    "from absl import app, flags\n",
    "\n",
    "from iflow.integration import integrator\n",
    "from iflow.integration import couplings\n",
    "\n",
    "from functools import partial"
   ]
  },
  {
   "cell_type": "code",
   "execution_count": 2,
   "id": "complimentary-drunk",
   "metadata": {},
   "outputs": [],
   "source": [
    "import math"
   ]
  },
  {
   "cell_type": "code",
   "execution_count": 3,
   "id": "experienced-immune",
   "metadata": {},
   "outputs": [],
   "source": [
    "import time\n",
    "from collections import namedtuple\n",
    "import vegasflow as vflow"
   ]
  },
  {
   "cell_type": "code",
   "execution_count": 4,
   "id": "patent-leather",
   "metadata": {},
   "outputs": [],
   "source": [
    "from iflow import *"
   ]
  },
  {
   "cell_type": "code",
   "execution_count": 5,
   "id": "automated-seven",
   "metadata": {},
   "outputs": [],
   "source": [
    "from my_iflow_test_short import *"
   ]
  },
  {
   "cell_type": "code",
   "execution_count": 6,
   "id": "allied-recovery",
   "metadata": {},
   "outputs": [],
   "source": [
    "ndims = 4\n",
    "alpha = 0.2\n",
    "calls = 0\n",
    "\n",
    "\n"
   ]
  },
  {
   "cell_type": "code",
   "execution_count": 7,
   "id": "willing-converter",
   "metadata": {},
   "outputs": [
    {
     "data": {
      "text/plain": [
       "<tf.Tensor: shape=(2, 2), dtype=float32, numpy=\n",
       "array([[2., 1.],\n",
       "       [4., 3.]], dtype=float32)>"
      ]
     },
     "execution_count": 7,
     "metadata": {},
     "output_type": "execute_result"
    }
   ],
   "source": [
    "vec = tf.constant([[1.0, 2.0], [3.0, 4.0]])\n",
    "idx = [1, 0]\n",
    "\n",
    "tf.gather(vec, idx, axis=1)"
   ]
  },
  {
   "cell_type": "code",
   "execution_count": 8,
   "id": "hollywood-point",
   "metadata": {},
   "outputs": [
    {
     "data": {
      "text/plain": [
       "<tf.Tensor: shape=(2,), dtype=complex64, numpy=array([2.25+4.75j, 3.25+5.75j], dtype=complex64)>"
      ]
     },
     "execution_count": 8,
     "metadata": {},
     "output_type": "execute_result"
    }
   ],
   "source": [
    "real = tf.constant([2.25, 3.25])\n",
    "imag = tf.constant([4.75, 5.75])\n",
    "tf.complex(real, imag)"
   ]
  },
  {
   "cell_type": "code",
   "execution_count": 9,
   "id": "dressed-engagement",
   "metadata": {},
   "outputs": [
    {
     "data": {
      "text/plain": [
       "<tf.Tensor: shape=(2,), dtype=float32, numpy=array([2.25, 3.25], dtype=float32)>"
      ]
     },
     "execution_count": 9,
     "metadata": {},
     "output_type": "execute_result"
    }
   ],
   "source": [
    "tf.math.real(tf.complex(real, imag))"
   ]
  },
  {
   "cell_type": "code",
   "execution_count": 10,
   "id": "stretch-reader",
   "metadata": {},
   "outputs": [
    {
     "data": {
      "text/plain": [
       "<tf.Tensor: shape=(2,), dtype=float32, numpy=array([ 7.389056, 54.59815 ], dtype=float32)>"
      ]
     },
     "execution_count": 10,
     "metadata": {},
     "output_type": "execute_result"
    }
   ],
   "source": [
    "tf.exp(tf.constant([[1.0, 2.0], [3.0, 4.0]]))[:, 1]"
   ]
  },
  {
   "cell_type": "code",
   "execution_count": 11,
   "id": "conventional-saying",
   "metadata": {},
   "outputs": [
    {
     "data": {
      "text/plain": [
       "<tf.Tensor: shape=(6, 1), dtype=complex128, numpy=\n",
       "array([[0.99934845+0.02825586j],\n",
       "       [0.99809248+0.05489203j],\n",
       "       [0.9844104 +0.17482087j],\n",
       "       [0.98484052+0.17004036j],\n",
       "       [0.99955227+0.02422407j],\n",
       "       [0.9950855 +0.09776343j]])>"
      ]
     },
     "execution_count": 11,
     "metadata": {},
     "output_type": "execute_result"
    }
   ],
   "source": [
    "def E(r, t, b, params):\n",
    "    \"\"\"\"\"\"\n",
    "    a = tf.constant(params['a'], dtype=tf.float64)\n",
    "    d = tf.constant(params['d'], dtype=tf.float64)\n",
    "    \n",
    "    x = tf.reshape(r[:, 0], shape=(-1,1))\n",
    "    y = tf.reshape(r[:, 1], shape=(-1,1))\n",
    "    z = tf.reshape(r[:, 2], shape=(-1,1))\n",
    "    \n",
    "    #print(f'E - {x.shape} {y.shape} {z.shape} {t.shape}')\n",
    "    \n",
    "    real = - (a * b) ** 2 / 2 * (z - t) ** 2 - (d * b) ** 2 * (x ** 2 + y ** 2)\n",
    "    imag = b * (z - t)\n",
    "    \n",
    "    to_exp = tf.complex(real, imag)\n",
    "    \n",
    "    #print(f'E - {real.shape} {imag.shape}')\n",
    "    \n",
    "    return tf.reshape(tf.exp(to_exp), shape=(r.shape[0],1))\n",
    "\n",
    "\n",
    "# test\n",
    "params = {'a': 0.1, 'd': 0.1}\n",
    "r = tf.random.uniform([6, 3], dtype=tf.float64)\n",
    "t = tf.constant(0, dtype=tf.float64)\n",
    "b = tf.constant(0.2, dtype=tf.float64)\n",
    "\n",
    "E(r, t, b, params)"
   ]
  },
  {
   "cell_type": "code",
   "execution_count": 12,
   "id": "ahead-saint",
   "metadata": {},
   "outputs": [
    {
     "data": {
      "text/plain": [
       "<tf.Tensor: shape=(6, 1), dtype=complex128, numpy=\n",
       "array([[0.69173947-0.72214715j],\n",
       "       [0.72776093-0.6858309j ],\n",
       "       [0.99973127-0.02318152j],\n",
       "       [0.98140897-0.19192818j],\n",
       "       [0.93511111-0.35435464j],\n",
       "       [0.60437188-0.79670235j]])>"
      ]
     },
     "execution_count": 12,
     "metadata": {},
     "output_type": "execute_result"
    }
   ],
   "source": [
    "def C(r, t, n):\n",
    "    \"\"\"\"\"\"\n",
    "    real = tf.constant(0, dtype=tf.float64)\n",
    "    imag = t - tf.tensordot(r, n, axes=1)\n",
    "    \n",
    "    #print(f'C - {t.shape} {tf.tensordot(r, n, axes=1).shape}')\n",
    "    #print(f'C - {real.shape} {imag.shape}')\n",
    "    \n",
    "    to_exp = tf.complex(real, imag)\n",
    "        \n",
    "    return tf.reshape(tf.exp(to_exp), shape=(r.shape[0],1))\n",
    "\n",
    "\n",
    "# test\n",
    "r = tf.random.uniform([6, 3], dtype=tf.float64, seed=0)\n",
    "t = tf.constant(0, dtype=tf.float64)\n",
    "n = tf.constant([1, 0, 0], shape=(3,1), dtype=tf.float64)\n",
    "\n",
    "C(r, t, n)"
   ]
  },
  {
   "cell_type": "code",
   "execution_count": 13,
   "id": "strategic-summer",
   "metadata": {},
   "outputs": [
    {
     "data": {
      "text/plain": [
       "<tf.Tensor: shape=(6, 1), dtype=complex128, numpy=\n",
       "array([[0.95204365+0.30092343j],\n",
       "       [0.99476474-0.10085064j],\n",
       "       [0.97671029+0.20878377j],\n",
       "       [0.94433552-0.32438485j],\n",
       "       [0.98086575+0.1884891j ],\n",
       "       [0.85108772-0.52257082j]])>"
      ]
     },
     "execution_count": 13,
     "metadata": {},
     "output_type": "execute_result"
    }
   ],
   "source": [
    "def J(r, t, b, n, params):\n",
    "    \"\"\"\"\"\"\n",
    "    b_1 = tf.constant(params['b_1'], dtype=tf.float64)\n",
    "    b_2 = tf.constant(params['b_2'], dtype=tf.float64)\n",
    "    b_3 = tf.constant(params['b_3'], dtype=tf.float64)\n",
    "    \n",
    "    rz = tf.gather(r, [0, 1, 2], axis=1)\n",
    "    ry = tf.gather(r, [2, 0, 1], axis=1)\n",
    "    rx = tf.gather(r, [1, 2, 0], axis=1)\n",
    "    \n",
    "    #print('J -', rz.shape, t.shape, n.shape)\n",
    "    \n",
    "    j = C(rz, t, n)\n",
    "    #print(f'J - C - {j.shape}')\n",
    "    \n",
    "    j *= E(rz, t, b_1, params)\n",
    "    #print(f'J - CE - {j.shape}')\n",
    "    \n",
    "    j *= E(ry, t, b_2, params)\n",
    "    #print(f'J - CEE - {j.shape}')\n",
    "    \n",
    "    j *= E(rx, t, b_3, params)\n",
    "    #print(f'J - CEEE - {j.shape}')\n",
    "    \n",
    "    return j\n",
    "\n",
    "\n",
    "# test\n",
    "params = {'a': 0.1, 'd': 0.1, 'b_1': 0.2, 'b_2': 0.2, 'b_3': 0.2}\n",
    "r = tf.random.uniform([6, 3], dtype=tf.float64, seed=0)\n",
    "t = tf.constant(0, dtype=tf.float64)\n",
    "b = tf.constant(0.2, dtype=tf.float64)\n",
    "n = tf.constant([1, 0, 0], shape=(3,1), dtype=tf.float64)\n",
    "\n",
    "J(r, t, b, n, params)"
   ]
  },
  {
   "cell_type": "code",
   "execution_count": 14,
   "id": "compliant-steps",
   "metadata": {},
   "outputs": [
    {
     "data": {
      "text/plain": [
       "<tf.Tensor: shape=(6,), dtype=float64, numpy=\n",
       "array([0.96545682, 0.99879322, 0.99854965, 0.99998804, 0.81157791,\n",
       "       0.9506555 ])>"
      ]
     },
     "execution_count": 14,
     "metadata": {},
     "output_type": "execute_result"
    }
   ],
   "source": [
    "# def gauss(x, **kwargs):\n",
    "#     \"\"\"\"\"\"\n",
    "#     pre = tf.cast(1.0/(testfun_params['alpha'] * tf.sqrt(np.pi))**testfun_params['ndims'],\n",
    "#                   dtype=tf.float64)\n",
    "#     exponent = -1.0*tf.reduce_sum(((x-0.5)**2)/testfun_params['alpha']**2, axis=-1)\n",
    "#     testfun_params['calls'] += 1\n",
    "#     return pre * tf.exp(exponent)\n",
    "\n",
    "\n",
    "@tf.function\n",
    "def j_integrand(x: '(r,t)', b, n, params, **kwargs):\n",
    "    \"\"\"j(r, t, b, n) + params={b_1, b_2, b_3, a, d}\"\"\"\n",
    "    r = x[:, :3]\n",
    "    t = tf.reshape(x[:, -1], shape=(-1,1))\n",
    "    \n",
    "    #print('j_integrand() -' , r.shape, t.shape)\n",
    "        \n",
    "    res = tf.math.real(J(r, t, b, n, params))\n",
    "    res = tf.reshape(res, shape=(-1,))\n",
    "    res = tf.clip_by_value(res, clip_value_min=-5000, clip_value_max=5000)\n",
    "    \n",
    "    return res\n",
    "\n",
    "\n",
    "\n",
    "# test\n",
    "params = {'a': 0.1, 'd': 0.1, 'b_1': 0.2, 'b_2': 0.2, 'b_3': 0.2}\n",
    "r = tf.random.uniform([6, 3], dtype=tf.float64, seed=0)\n",
    "t = tf.constant(0, shape=(r.shape[0], 1), dtype=tf.float64)\n",
    "b = tf.constant(0.2, dtype=tf.float64)\n",
    "n = tf.constant([1, 0, 0], shape=(3,1), dtype=tf.float64)\n",
    "\n",
    "x = tf.concat([r, t], axis=1)\n",
    "j_integrand(x, b, n, params)"
   ]
  },
  {
   "cell_type": "code",
   "execution_count": 15,
   "id": "presidential-rating",
   "metadata": {},
   "outputs": [
    {
     "data": {
      "text/plain": [
       "<tf.Tensor: shape=(1,), dtype=float64, numpy=array([0.34469569])>"
      ]
     },
     "execution_count": 15,
     "metadata": {},
     "output_type": "execute_result"
    }
   ],
   "source": [
    "@tf.function\n",
    "def analytic_solution(b, n, params, **kwargs):\n",
    "    \"\"\"params={a, d}\"\"\"\n",
    "       \n",
    "    a = tf.constant(params['a'], dtype=tf.float64)\n",
    "    d = tf.constant(params['d'], dtype=tf.float64)\n",
    "    pi = tf.constant(math.pi, dtype=tf.float64)\n",
    "    \n",
    "    a2 = a ** 2\n",
    "    b2 = b ** 2\n",
    "    d2 = d ** 2\n",
    "    \n",
    "    a4 = a2 ** 2\n",
    "    b4 = b2 ** 2\n",
    "    d4 = d2 ** 2\n",
    "    \n",
    "    eps = tf.constant(1e-8, dtype=tf.float64)\n",
    "    \n",
    "    c = 2 * pi ** 2 / (3 ** .5 * a  * b4 * d * (a2 + 4 * d2))\n",
    "    \n",
    "    nx = n[0]\n",
    "    ny = n[1]\n",
    "    nz = n[2]\n",
    "    \n",
    "    exp_numer = 16 * (1 - 3 * b) ** 2 * d4\n",
    "    exp_numer += 4 * a2 * d2 * (9 * b2 - 6 * b - 2 * (nx + nx + nz) + 5)\n",
    "    exp_numer += a4 * (nx + ny + nz - 1) ** 2\n",
    "    \n",
    "    exp_denom = 24 * a2 * b2 * d2 * (a2 + 4 * d2) + eps\n",
    "    \n",
    "    exp = tf.exp(- exp_numer / exp_denom)\n",
    "    \n",
    "    return c * exp\n",
    "\n",
    "\n",
    "# test\n",
    "params = {'a': 0.1, 'd': 0.1}\n",
    "b = tf.constant(0.25, dtype=tf.float64)\n",
    "n = tf.constant([1, 0, 0], shape=(3,1), dtype=tf.float64)\n",
    "\n",
    "analytic_solution(b, n, params)"
   ]
  },
  {
   "cell_type": "markdown",
   "id": "retired-launch",
   "metadata": {},
   "source": [
    "### i-flow integrate"
   ]
  },
  {
   "cell_type": "code",
   "execution_count": 16,
   "id": "excess-declaration",
   "metadata": {},
   "outputs": [],
   "source": [
    "# test\n",
    "params = {'a': 0.1, 'd': 0.1, 'b_1': 0.25, 'b_2': 0.25, 'b_3': 0.25}\n",
    "r = tf.random.uniform([6, 3], dtype=tf.float64, seed=0)\n",
    "t = tf.constant(0, shape=(r.shape[0], 1), dtype=tf.float64)\n",
    "b = tf.constant(0.25, dtype=tf.float64)\n",
    "n = tf.constant([1, 0, 0], shape=(3,1), dtype=tf.float64)\n",
    "\n",
    "x = tf.concat([r, t], axis=1)\n",
    "\n",
    "# j_integrand(x, b, n, params)"
   ]
  },
  {
   "cell_type": "code",
   "execution_count": 17,
   "id": "hired-quarter",
   "metadata": {},
   "outputs": [
    {
     "name": "stdout",
     "output_type": "stream",
     "text": [
      "0.3446956853430457\n"
     ]
    },
    {
     "data": {
      "text/plain": [
       "<tf.Tensor: shape=(10,), dtype=float64, numpy=\n",
       "array([ 0.03697499,  0.18620336,  0.79719112, -0.11024124, -0.35732661,\n",
       "        0.73413262,  0.72792371,  0.60429412,  0.96456737,  0.78905608])>"
      ]
     },
     "execution_count": 17,
     "metadata": {},
     "output_type": "execute_result"
    }
   ],
   "source": [
    "ndims = 2\n",
    "calls = 0\n",
    "\n",
    "function = 'Custom'\n",
    "\n",
    "testfun_params = {\n",
    "    'ndims': ndims,\n",
    "    'calls': 0,\n",
    "}\n",
    "testfun_params.update(params)\n",
    "\n",
    "target = analytic_solution(b, n, params).numpy()[0]\n",
    "print(target)\n",
    "\n",
    "integrand = partial(j_integrand, b=b, n=n, params=testfun_params)\n",
    "integrand(tf.random.uniform(shape=(10,ndims), minval=-10, maxval=10, dtype=tf.float64))"
   ]
  },
  {
   "cell_type": "code",
   "execution_count": 81,
   "id": "overall-heritage",
   "metadata": {},
   "outputs": [],
   "source": [
    "@tf.function\n",
    "def integrand(x):\n",
    "    return j_integrand(x, b=b, n=n, params=testfun_params)"
   ]
  },
  {
   "cell_type": "markdown",
   "id": "verbal-wonder",
   "metadata": {},
   "source": [
    "### Crude MC"
   ]
  },
  {
   "cell_type": "code",
   "execution_count": 162,
   "id": "divine-guinea",
   "metadata": {},
   "outputs": [
    {
     "name": "stdout",
     "output_type": "stream",
     "text": [
      "Crude MC of Custom function in 2 dimensions based on 10000000 points: -1.712e-02 +/- 2.003e-04\n",
      "Wall time: 165 ms\n"
     ]
    },
    {
     "data": {
      "text/plain": [
       "3.446956853430457e-05"
      ]
     },
     "execution_count": 162,
     "metadata": {},
     "output_type": "execute_result"
    }
   ],
   "source": [
    "%%time\n",
    "\n",
    "npts = 10000000\n",
    "# pts = np.array(np.random.uniform(low=0, high=3, size=(npts, ndims)), dtype=np.float64)\n",
    "pts = tf.random.uniform(\n",
    "    shape=(npts, ndims),\n",
    "    minval=-10,\n",
    "    maxval=10,\n",
    "    dtype=tf.float64,\n",
    "#     seed=77,\n",
    ")\n",
    "value = integrand(pts)\n",
    "\n",
    "format_string = ('Crude MC of {} function in {:d} dimensions based on '\n",
    "                 '{:d} points: {:.3e} +/- {:.3e}')\n",
    "print(format_string.format(function, ndims, npts,\n",
    "                           tf.math.reduce_mean(value).numpy(),\n",
    "                           tf.math.reduce_std(value).numpy() / np.sqrt(npts)))\n",
    "\n",
    "\n",
    "epochs = 1000\n",
    "ptspepoch = 5000\n",
    "target_precision = 1e-4 * target\n",
    "\n",
    "target_precision"
   ]
  },
  {
   "cell_type": "code",
   "execution_count": 19,
   "id": "married-carol",
   "metadata": {},
   "outputs": [],
   "source": [
    "from tqdm.notebook import tqdm"
   ]
  },
  {
   "cell_type": "code",
   "execution_count": 20,
   "id": "warming-maker",
   "metadata": {},
   "outputs": [
    {
     "data": {
      "application/vnd.jupyter.widget-view+json": {
       "model_id": "f3759dc3129d456795b1add9d0098ec1",
       "version_major": 2,
       "version_minor": 0
      },
      "text/plain": [
       "  0%|          | 0/100 [00:00<?, ?it/s]"
      ]
     },
     "metadata": {},
     "output_type": "display_data"
    },
    {
     "name": "stdout",
     "output_type": "stream",
     "text": [
      "-0.9772872267121147 0.9999999977819996\n"
     ]
    }
   ],
   "source": [
    "# temp_min = []\n",
    "# temp_max = []\n",
    "\n",
    "# for i in tqdm(range(100)):\n",
    "    \n",
    "#     npts = 1000000\n",
    "#     pts = tf.random.uniform(\n",
    "#         shape=(npts, ndims),\n",
    "#         minval=-10,\n",
    "#         maxval=10,\n",
    "#         dtype=tf.float64,\n",
    "#     )\n",
    "    \n",
    "#     value = integrand(pts)\n",
    "\n",
    "#     temp_min.append(tf.math.reduce_min(value).numpy())\n",
    "#     temp_max.append(tf.math.reduce_max(value).numpy())\n",
    "    \n",
    "    \n",
    "# print(np.min(temp_min), np.max(temp_max))"
   ]
  },
  {
   "cell_type": "markdown",
   "id": "backed-middle",
   "metadata": {},
   "source": [
    "### tensorflow"
   ]
  },
  {
   "cell_type": "code",
   "execution_count": 62,
   "id": "relevant-trick",
   "metadata": {},
   "outputs": [],
   "source": [
    "import vegasflow as vflow"
   ]
  },
  {
   "cell_type": "code",
   "execution_count": 113,
   "id": "tracked-insured",
   "metadata": {},
   "outputs": [],
   "source": [
    "n_dim = ndims\n",
    "n_events = int(1e6)\n",
    "events_limit = int(1e7)"
   ]
  },
  {
   "cell_type": "code",
   "execution_count": 126,
   "id": "offensive-processing",
   "metadata": {},
   "outputs": [
    {
     "data": {
      "text/plain": [
       "21"
      ]
     },
     "execution_count": 126,
     "metadata": {},
     "output_type": "execute_result"
    }
   ],
   "source": [
    "vegas_integ = None\n",
    "\n",
    "import gc\n",
    "gc.collect()"
   ]
  },
  {
   "cell_type": "code",
   "execution_count": 127,
   "id": "presidential-apparel",
   "metadata": {},
   "outputs": [],
   "source": [
    "vegas_integ = vflow.VegasFlow(n_dim=ndims, n_events=n_events, events_limit=events_limit, verbose=False, signature=True)\n",
    "vegas_integ.compile(integrand)"
   ]
  },
  {
   "cell_type": "code",
   "execution_count": 166,
   "id": "governing-jerusalem",
   "metadata": {},
   "outputs": [
    {
     "name": "stdout",
     "output_type": "stream",
     "text": [
      "[VegasFlow] Epoch:   0 Integral = 9.580520e-01 +/- 3.142207e-05 Total uncertainty = 3.142207e-05 (>) 3.446957e-05\n"
     ]
    }
   ],
   "source": [
    "from collections import namedtuple\n",
    "result_tuple = namedtuple('result_tuple', ['mean', 'sdev'])\n",
    "\n",
    "vegas_calls = []\n",
    "vegas_results = []\n",
    "vegas_means = []\n",
    "vegas_stddevs = []\n",
    "\n",
    "epoch = 0\n",
    "current_vegas_precision = 1e99\n",
    "while current_vegas_precision > target_precision:\n",
    "    #current_result = vegas_integ(integrand_np, nitn=1, neval=ptspepoch)\n",
    "    current_result = vegas_integ.run_integration(n_iter=1)\n",
    "    current_result = result_tuple(*current_result)\n",
    "\n",
    "    vegas_means.append(current_result.mean)\n",
    "    vegas_stddevs.append(current_result.sdev)\n",
    "    vegas_results.append(current_result)\n",
    "\n",
    "    _, current_vegas_precision = variance_weighted_result(np.array(vegas_means),\n",
    "                                                          np.array(vegas_stddevs))\n",
    "    if True or epoch % 1 == 0:\n",
    "        print('[VegasFlow] Epoch: {:3d} Integral = '\n",
    "              '{:8e} +/- {:8e} Total uncertainty = {:8e} (>) {:8e}'.format(epoch, current_result.mean,\n",
    "                                                                 current_result.sdev,\n",
    "                                                                 current_vegas_precision, target_precision))\n",
    "    epoch += 1\n",
    "#     if np.sum(vegas_calls) > 50000000:\n",
    "#         break"
   ]
  },
  {
   "cell_type": "code",
   "execution_count": null,
   "id": "cubic-escape",
   "metadata": {},
   "outputs": [],
   "source": []
  },
  {
   "cell_type": "markdown",
   "id": "infinite-border",
   "metadata": {},
   "source": [
    "### i-flow"
   ]
  },
  {
   "cell_type": "code",
   "execution_count": 52,
   "id": "expected-condition",
   "metadata": {},
   "outputs": [],
   "source": [
    "def build_iflow(func, ndims, low, high):\n",
    "    \"\"\" Build the iflow integrator\n",
    "\n",
    "    Args:\n",
    "        func: integrand\n",
    "        ndims (int): dimensionality of the integrand\n",
    "\n",
    "    Returns: Integrator: iflow Integrator object\n",
    "\n",
    "    \"\"\"\n",
    "    masks = binary_masks(ndims)\n",
    "    bijector = []\n",
    "    for mask in masks:\n",
    "        bijector.append(couplings.PiecewiseRationalQuadratic(mask, build,\n",
    "                                                             num_bins=16,\n",
    "                                                             blob=None,\n",
    "                                                             options=None))\n",
    "    bijector = tfb.Chain(list(reversed(bijector)))\n",
    "    # low = np.zeros(ndims, dtype=np.float64)\n",
    "    # high = np.ones(ndims, dtype=np.float64)\n",
    "    low = np.repeat(low, ndims).astype(np.float64)\n",
    "    high = np.repeat(high, ndims).astype(np.float64)\n",
    "    dist = tfd.Uniform(low=low, high=high, allow_nan_stats=False)\n",
    "    dist = tfd.Independent(distribution=dist,\n",
    "                           reinterpreted_batch_ndims=1)\n",
    "    dist = tfd.TransformedDistribution(\n",
    "        distribution=dist,\n",
    "        bijector=bijector)\n",
    "\n",
    "    optimizer = tf.keras.optimizers.Adam(1e-3, clipnorm=10.0)\n",
    "    integrate = integrator.Integrator(\n",
    "        func, dist, optimizer,\n",
    "#         loss_func='exponential',\n",
    "        loss_func='kl'\n",
    "    )\n",
    "\n",
    "    return integrate"
   ]
  },
  {
   "cell_type": "code",
   "execution_count": 53,
   "id": "crucial-reminder",
   "metadata": {},
   "outputs": [
    {
     "data": {
      "text/plain": [
       "3088"
      ]
     },
     "execution_count": 53,
     "metadata": {},
     "output_type": "execute_result"
    }
   ],
   "source": [
    "integrate = None\n",
    "\n",
    "import gc\n",
    "gc.collect()"
   ]
  },
  {
   "cell_type": "code",
   "execution_count": 59,
   "id": "actual-error",
   "metadata": {},
   "outputs": [
    {
     "data": {
      "text/plain": [
       "<tf.Tensor: shape=(10, 2), dtype=float64, numpy=\n",
       "array([[nan, nan],\n",
       "       [nan, nan],\n",
       "       [nan, nan],\n",
       "       [nan, nan],\n",
       "       [nan, nan],\n",
       "       [nan, nan],\n",
       "       [nan, nan],\n",
       "       [nan, nan],\n",
       "       [nan, nan],\n",
       "       [nan, nan]])>"
      ]
     },
     "execution_count": 59,
     "metadata": {},
     "output_type": "execute_result"
    }
   ],
   "source": [
    "integrate.dist.sample(10)"
   ]
  },
  {
   "cell_type": "code",
   "execution_count": 60,
   "id": "attached-internet",
   "metadata": {},
   "outputs": [
    {
     "data": {
      "text/plain": [
       "<tf.Tensor: shape=(5,), dtype=float64, numpy=array([nan, nan, nan, nan, nan])>"
      ]
     },
     "execution_count": 60,
     "metadata": {},
     "output_type": "execute_result"
    }
   ],
   "source": [
    "integrate.dist.log_prob(tf.constant([1, 10, 100, 1000,10000], shape=(5,1), dtype=tf.float64))"
   ]
  },
  {
   "cell_type": "code",
   "execution_count": 58,
   "id": "bacterial-manitoba",
   "metadata": {
    "scrolled": false
   },
   "outputs": [
    {
     "name": "stdout",
     "output_type": "stream",
     "text": [
      "Model: \"model_4\"\n",
      "_________________________________________________________________\n",
      "Layer (type)                 Output Shape              Param #   \n",
      "=================================================================\n",
      "input_5 (InputLayer)         [(None, 1)]               0         \n",
      "_________________________________________________________________\n",
      "dense_20 (Dense)             (None, 32)                64        \n",
      "_________________________________________________________________\n",
      "dense_21 (Dense)             (None, 32)                1056      \n",
      "_________________________________________________________________\n",
      "dense_22 (Dense)             (None, 32)                1056      \n",
      "_________________________________________________________________\n",
      "dense_23 (Dense)             (None, 32)                1056      \n",
      "_________________________________________________________________\n",
      "dense_24 (Dense)             (None, 49)                1617      \n",
      "=================================================================\n",
      "Total params: 4,849\n",
      "Trainable params: 4,849\n",
      "Non-trainable params: 0\n",
      "_________________________________________________________________\n",
      "Model: \"model_5\"\n",
      "_________________________________________________________________\n",
      "Layer (type)                 Output Shape              Param #   \n",
      "=================================================================\n",
      "input_6 (InputLayer)         [(None, 1)]               0         \n",
      "_________________________________________________________________\n",
      "dense_25 (Dense)             (None, 32)                64        \n",
      "_________________________________________________________________\n",
      "dense_26 (Dense)             (None, 32)                1056      \n",
      "_________________________________________________________________\n",
      "dense_27 (Dense)             (None, 32)                1056      \n",
      "_________________________________________________________________\n",
      "dense_28 (Dense)             (None, 32)                1056      \n",
      "_________________________________________________________________\n",
      "dense_29 (Dense)             (None, 49)                1617      \n",
      "=================================================================\n",
      "Total params: 4,849\n",
      "Trainable params: 4,849\n",
      "Non-trainable params: 0\n",
      "_________________________________________________________________\n",
      "(5000,) (5000,) (5000,) (5000,)\n",
      "(5000,) (5000,) (5000,) (5000,)\n",
      "[i-flow] Epoch:   0 Loss = 1.500346e-01 Integral = 2.279492e+02 +/- 1.593823e+00 Total uncertainty = 1.593823e+00\n",
      "[i-flow] Epoch:  10 Loss = 4.391207e-02 Integral = 4.153710e+02 +/- 1.547932e+00 Total uncertainty = 4.506351e-01\n",
      "[i-flow] Epoch:  20 Loss = 3.619762e-02 Integral = 4.301061e+02 +/- 1.449398e+00 Total uncertainty = 3.293120e-01\n",
      "[i-flow] Epoch:  30 Loss = 3.316640e-02 Integral = 4.162852e+02 +/- 1.323542e+00 Total uncertainty = 2.629725e-01\n",
      "[i-flow] Epoch:  40 Loss = 3.680942e-02 Integral = 4.135024e+02 +/- 1.358531e+00 Total uncertainty = 2.230612e-01\n",
      "[i-flow] Epoch:  50 Loss = 3.075878e-02 Integral = 4.233893e+02 +/- 1.285360e+00 Total uncertainty = 1.957059e-01\n",
      "[i-flow] Epoch:  60 Loss = 2.664897e-02 Integral = 4.326464e+02 +/- 1.247844e+00 Total uncertainty = 1.766287e-01\n",
      "[i-flow] Epoch:  70 Loss = 2.869874e-02 Integral = 4.177656e+02 +/- 1.232961e+00 Total uncertainty = 1.614824e-01\n",
      "[i-flow] Epoch:  80 Loss = 2.891684e-02 Integral = 3.979716e+02 +/- 1.169937e+00 Total uncertainty = 1.484646e-01\n",
      "[i-flow] Epoch:  90 Loss = 3.019042e-02 Integral = 3.694924e+02 +/- 1.123354e+00 Total uncertainty = 1.374590e-01\n",
      "[i-flow] Epoch: 100 Loss = 3.715214e-02 Integral = 3.423086e+02 +/- 1.201560e+00 Total uncertainty = 1.288887e-01\n",
      "[i-flow] Epoch: 110 Loss = 5.031228e-02 Integral = 2.882697e+02 +/- 1.197304e+00 Total uncertainty = 1.220065e-01\n",
      "[i-flow] Epoch: 120 Loss = 1.938626e-01 Integral = 1.619843e+02 +/- 1.497618e+00 Total uncertainty = 1.173200e-01\n",
      "[i-flow] Epoch: 130 Loss = 5.166808e-01 Integral = 1.008728e+02 +/- 1.793828e+00 Total uncertainty = 1.145657e-01\n"
     ]
    },
    {
     "data": {
      "text/plain": [
       "(array([227.94922429, 293.52419463, 323.6086744 , 340.88155428,\n",
       "        355.34634511, 365.56474549, 379.05833568, 391.24936516,\n",
       "        400.4316425 , 408.68945363, 415.37104064, 419.46359427,\n",
       "        424.62570154, 428.8699742 , 433.52858888, 431.83626689,\n",
       "        432.49801398, 432.90871294, 431.60367043, 431.83233002,\n",
       "        430.10614435, 427.514256  , 428.27871427, 425.30943237,\n",
       "        421.33936647, 421.79610257, 420.86016979, 418.60551218,\n",
       "        412.9091493 , 414.09676846, 416.28523109, 415.31682255,\n",
       "        415.2571771 , 413.64167795, 414.17536158, 414.69216016,\n",
       "        417.86686135, 415.73639721, 413.84012401, 416.51380824,\n",
       "        413.50237523, 418.07776833, 421.12293568, 426.91544221,\n",
       "        426.47494265, 427.49260096, 428.17111741, 426.02925347,\n",
       "        426.932745  , 428.46800975, 423.38925047, 417.37030649,\n",
       "        421.49406786, 424.2193515 , 425.05699183, 427.69747139,\n",
       "        430.20688089, 430.32658683, 431.02348535, 431.35399174,\n",
       "        432.64637468, 430.77046717, 426.67907912, 424.82852539,\n",
       "        424.06781752, 420.61722585, 417.60337564, 417.20091336,\n",
       "        418.23674582, 420.38893907, 417.76558656, 418.38232981,\n",
       "        418.84508832, 416.80895936, 412.93917464, 413.44002897,\n",
       "        411.9556883 , 407.38938665, 405.13534919, 403.34888492,\n",
       "        397.97156206, 398.20217798, 390.66912823, 386.8770599 ,\n",
       "        381.42339989, 379.33875714, 373.99931304, 370.73138187,\n",
       "        368.51391404, 367.52614752, 369.49240555, 367.65159457,\n",
       "        367.43944574, 368.2043506 , 364.68197764, 361.43885382,\n",
       "        362.35039742, 357.57783818, 355.44630504, 348.03519414,\n",
       "        342.30863616, 335.91155963, 334.56968718, 329.14405337,\n",
       "        320.44308782, 310.08297204, 300.3899607 , 301.16917327,\n",
       "        297.65894115, 292.94221552, 288.26973839, 276.56643299,\n",
       "        269.13810979, 255.93677047, 240.34955852, 225.51406804,\n",
       "        213.45798142, 194.99326865, 179.56388763, 169.94617657,\n",
       "        161.98430456, 158.09216668, 143.64163486, 135.3598809 ,\n",
       "        120.34891915, 114.35206523, 114.03909115, 113.35952673,\n",
       "        110.77847906, 107.93465219, 100.87283372,  94.14568263,\n",
       "         89.84621749,  82.91697321,          nan]),\n",
       " array([1.59382327, 1.49890376, 1.43481957, 1.43299547, 1.45106299,\n",
       "        1.45578876, 1.49879914, 1.50634464, 1.50201697, 1.5436792 ,\n",
       "        1.54793163, 1.57054236, 1.55152437, 1.56913933, 1.53638159,\n",
       "        1.53489902, 1.56460236, 1.53688777, 1.47942829, 1.4793704 ,\n",
       "        1.44939772, 1.44835022, 1.39973082, 1.39684287, 1.4046352 ,\n",
       "        1.36209421, 1.33954285, 1.35908113, 1.41848665, 1.37721215,\n",
       "        1.32354167, 1.35010862, 1.35242127, 1.37040618, 1.31989094,\n",
       "        1.35012417, 1.29768111, 1.3135975 , 1.31681464, 1.29610999,\n",
       "        1.35853089, 1.3234941 , 1.31425992, 1.25926966, 1.29569485,\n",
       "        1.32113309, 1.27822363, 1.31143998, 1.28000036, 1.23749935,\n",
       "        1.28535975, 1.31790705, 1.2695943 , 1.29494251, 1.28395532,\n",
       "        1.28351521, 1.32288421, 1.3327653 , 1.29295389, 1.3320043 ,\n",
       "        1.24784409, 1.27365222, 1.3142679 , 1.29596337, 1.23070049,\n",
       "        1.26220915, 1.24862049, 1.27019049, 1.27265145, 1.21283081,\n",
       "        1.23296089, 1.21782089, 1.18704616, 1.18271638, 1.26545443,\n",
       "        1.19872671, 1.18601082, 1.21891706, 1.18952404, 1.13277241,\n",
       "        1.16993737, 1.09938394, 1.17468654, 1.13328711, 1.13596459,\n",
       "        1.14616864, 1.18647022, 1.1700324 , 1.19050391, 1.15473188,\n",
       "        1.12335445, 1.15160744, 1.1933154 , 1.14618088, 1.18221703,\n",
       "        1.17551431, 1.15179732, 1.21145358, 1.15757509, 1.16126645,\n",
       "        1.20155953, 1.19813866, 1.14663245, 1.16866311, 1.18038022,\n",
       "        1.22890925, 1.27647552, 1.22047724, 1.18316283, 1.18141263,\n",
       "        1.19730398, 1.19446428, 1.2246208 , 1.2454072 , 1.29995929,\n",
       "        1.34240685, 1.39662277, 1.47267681, 1.49152438, 1.49725383,\n",
       "        1.49761786, 1.50514042, 1.53969124, 1.67150016, 1.56394168,\n",
       "        1.70114566, 1.7710326 , 1.70009746, 1.8288456 , 1.87229935,\n",
       "        1.79382765, 1.83494856, 2.09959899, 1.94575389,        nan]))"
      ]
     },
     "execution_count": 58,
     "metadata": {},
     "output_type": "execute_result"
    }
   ],
   "source": [
    "def train_iflow_target(integrate, ptspepoch, target):\n",
    "    \"\"\" Run the iflow integrator\n",
    "\n",
    "    Args:\n",
    "        integrate (Integrator): iflow Integrator class object\n",
    "        ptspepoch (int): number of points per epoch in training\n",
    "        target (float): target precision of final integral\n",
    "\n",
    "    Returns:\n",
    "        numpy.ndarray(float): integral estimations and its uncertainty of each epoch\n",
    "\n",
    "    \"\"\"\n",
    "    means = []\n",
    "    stddevs = []\n",
    "    current_precision = 1e99\n",
    "    epoch = 0\n",
    "    while current_precision > target:\n",
    "        loss, integral, error = integrate.train_one_step(ptspepoch, integral=True)\n",
    "        means.append(integral)\n",
    "        stddevs.append(error)\n",
    "        \n",
    "        _, current_precision = variance_weighted_result(np.array(means), np.array(stddevs))\n",
    "\n",
    "        ###\n",
    "        loss = loss.numpy()\n",
    "        integral = integral.numpy()\n",
    "        error = error.numpy()\n",
    "        ###\n",
    "        \n",
    "#         print(epoch, loss, integral, error, current_precision)\n",
    "\n",
    "        if epoch % 10 == 0:\n",
    "            print('[i-flow] Epoch: {:3d} Loss = {:8e} Integral = '\n",
    "                  '{:8e} +/- {:8e} Total uncertainty = {:8e}'\n",
    "                  .format(epoch, loss, integral, error, current_precision))\n",
    "        epoch += 1\n",
    "    return np.array(means), np.array(stddevs)\n",
    "\n",
    "\n",
    "# test\n",
    "integrate = build_iflow(integrand, ndims, low=-10, high=10)\n",
    "train_iflow_target(integrate, ptspepoch, target_precision)"
   ]
  },
  {
   "cell_type": "code",
   "execution_count": 24,
   "id": "canadian-manor",
   "metadata": {},
   "outputs": [],
   "source": [
    "# integrate.train_one_step(ptspepoch, integral=True)"
   ]
  },
  {
   "cell_type": "code",
   "execution_count": 25,
   "id": "earlier-companion",
   "metadata": {},
   "outputs": [
    {
     "name": "stdout",
     "output_type": "stream",
     "text": [
      "\n",
      "\n",
      "[i-flow] BUILD\n",
      "\n",
      "Model: \"model_2\"\n",
      "_________________________________________________________________\n",
      "Layer (type)                 Output Shape              Param #   \n",
      "=================================================================\n",
      "input_3 (InputLayer)         [(None, 1)]               0         \n",
      "_________________________________________________________________\n",
      "dense_10 (Dense)             (None, 32)                64        \n",
      "_________________________________________________________________\n",
      "dense_11 (Dense)             (None, 32)                1056      \n",
      "_________________________________________________________________\n",
      "dense_12 (Dense)             (None, 32)                1056      \n",
      "_________________________________________________________________\n",
      "dense_13 (Dense)             (None, 32)                1056      \n",
      "_________________________________________________________________\n",
      "dense_14 (Dense)             (None, 49)                1617      \n",
      "=================================================================\n",
      "Total params: 4,849\n",
      "Trainable params: 4,849\n",
      "Non-trainable params: 0\n",
      "_________________________________________________________________\n",
      "Model: \"model_3\"\n",
      "_________________________________________________________________\n",
      "Layer (type)                 Output Shape              Param #   \n",
      "=================================================================\n",
      "input_4 (InputLayer)         [(None, 1)]               0         \n",
      "_________________________________________________________________\n",
      "dense_15 (Dense)             (None, 32)                64        \n",
      "_________________________________________________________________\n",
      "dense_16 (Dense)             (None, 32)                1056      \n",
      "_________________________________________________________________\n",
      "dense_17 (Dense)             (None, 32)                1056      \n",
      "_________________________________________________________________\n",
      "dense_18 (Dense)             (None, 32)                1056      \n",
      "_________________________________________________________________\n",
      "dense_19 (Dense)             (None, 49)                1617      \n",
      "=================================================================\n",
      "Total params: 4,849\n",
      "Trainable params: 4,849\n",
      "Non-trainable params: 0\n",
      "_________________________________________________________________\n",
      "[i-flow] BUILD time: 0.1187 s\n",
      "\n"
     ]
    }
   ],
   "source": [
    "params_dict = {}\n",
    "params_dict['i_flow'] = {}\n",
    "\n",
    "\n",
    "print('\\n')\n",
    "\n",
    "print('[i-flow] BUILD\\n')\n",
    "start = time.time()\n",
    "integrate = build_iflow(integrand, ndims, low=-10, high=10)\n",
    "end = time.time()\n",
    "print(f\"[i-flow] BUILD time: {(end-start):.4f} s\\n\")\n",
    "\n",
    "params_dict['i_flow']['build_time'] = end - start"
   ]
  },
  {
   "cell_type": "code",
   "execution_count": 26,
   "id": "expanded-guinea",
   "metadata": {},
   "outputs": [
    {
     "name": "stdout",
     "output_type": "stream",
     "text": [
      "[i-flow] START\n",
      "\n",
      "(5000,) (5000,) (5000,) (5000,)\n",
      "(5000,) (5000,) (5000,) (5000,)\n",
      "[i-flow] Epoch:   0 Loss = 1.482576e-01 Integral = 2.274504e+02 +/- 1.579470e+00 Total uncertainty = 1.579470e+00\n",
      "[i-flow] Epoch:  10 Loss = 4.904286e-02 Integral = 4.207071e+02 +/- 1.669551e+00 Total uncertainty = 4.868081e-01\n",
      "[i-flow] Epoch:  20 Loss = 4.021437e-02 Integral = 4.194795e+02 +/- 1.486702e+00 Total uncertainty = 3.480318e-01\n",
      "[i-flow] Epoch:  30 Loss = 3.520691e-02 Integral = 3.926697e+02 +/- 1.270078e+00 Total uncertainty = 2.676398e-01\n",
      "[i-flow] Epoch:  40 Loss = 3.523485e-02 Integral = 3.913282e+02 +/- 1.277046e+00 Total uncertainty = 2.223108e-01\n",
      "[i-flow] Epoch:  50 Loss = 3.369508e-02 Integral = 3.922016e+02 +/- 1.255163e+00 Total uncertainty = 1.948304e-01\n",
      "[i-flow] Epoch:  60 Loss = 2.781082e-02 Integral = 3.904077e+02 +/- 1.140870e+00 Total uncertainty = 1.743145e-01\n",
      "[i-flow] Epoch:  70 Loss = 3.051479e-02 Integral = 3.835051e+02 +/- 1.172740e+00 Total uncertainty = 1.582839e-01\n",
      "[i-flow] Epoch:  80 Loss = 3.385407e-02 Integral = 3.747270e+02 +/- 1.201142e+00 Total uncertainty = 1.466003e-01\n",
      "[i-flow] Epoch:  90 Loss = 3.520323e-02 Integral = 3.110352e+02 +/- 1.058339e+00 Total uncertainty = 1.355839e-01\n",
      "[i-flow] Epoch: 100 Loss = 1.217673e-01 Integral = 2.723057e+02 +/- 1.896610e+00 Total uncertainty = 1.278266e-01\n",
      "[i-flow] Epoch: 110 Loss = 2.110637e-01 Integral = 1.455598e+02 +/- 1.460950e+00 Total uncertainty = 1.229440e-01\n",
      "[i-flow] Epoch: 120 Loss = 7.346201e-01 Integral = 7.995243e+01 +/- 1.812290e+00 Total uncertainty = 1.196347e-01\n",
      "[i-flow] Epoch: 130 Loss = 1.382466e+00 Integral = 4.580592e+01 +/- 1.704788e+00 Total uncertainty = 1.169664e-01\n",
      "[i-flow] Epoch: 140 Loss = 2.045606e+00 Integral = 2.694563e+01 +/- 1.430031e+00 Total uncertainty = 1.133198e-01\n",
      "[i-flow] Epoch: 150 Loss = 2.268289e+00 Integral = 1.658074e+01 +/- 9.301075e-01 Total uncertainty = 1.065082e-01\n",
      "[i-flow] Epoch: 160 Loss = 2.630341e+00 Integral = 7.906568e+00 +/- 5.221988e-01 Total uncertainty = 9.505820e-02\n",
      "[i-flow] Epoch: 170 Loss = 2.917784e+00 Integral = 4.404916e+00 +/- 4.056578e-01 Total uncertainty = 7.526398e-02\n",
      "[i-flow] END time: 5 s\n",
      "\n",
      "[i-flow] Results for 2 dimensions:\n",
      "\n",
      "[i-flow] Weighted iflow result is nan +/- nan.\n",
      "\n",
      "[i-flow] Relative Uncertainty iflow result is nan\n",
      "\n",
      "[i-flow] i-flow needed 179 epochs and 895000 function calls\n",
      "\n"
     ]
    }
   ],
   "source": [
    "print('[i-flow] START\\n')\n",
    "start = time.time()\n",
    "mean_t, err_t = train_iflow_target(integrate, ptspepoch, target_precision)\n",
    "end = time.time()\n",
    "print(f\"[i-flow] END time: {int(end-start)} s\\n\")\n",
    "\n",
    "params_dict['i_flow']['run_time'] = end - start\n",
    "\n",
    "num_epochs = len(mean_t)\n",
    "x_values = np.arange(ptspepoch, (num_epochs+1) * ptspepoch, ptspepoch)\n",
    "iflow_mean_wgt, iflow_err_wgt = variance_weighted_result(mean_t, err_t)\n",
    "\n",
    "print(\"[i-flow] Results for {:d} dimensions:\\n\".format(ndims))\n",
    "print(\"[i-flow] Weighted iflow result is {:.5e} +/- {:.5e}.\\n\".format(\n",
    "    iflow_mean_wgt, iflow_err_wgt))\n",
    "print(\"[i-flow] Relative Uncertainty iflow result is {:.3f}\\n\".format(\n",
    "    rel_unc(iflow_mean_wgt, iflow_err_wgt, target, 0.)))\n",
    "print(\"[i-flow] i-flow needed {:d} epochs and {:d} function calls\\n\".format(\n",
    "    num_epochs,\n",
    "    num_epochs*ptspepoch\n",
    "))\n",
    "\n",
    "params_dict['i_flow']['w_mean'] = float(iflow_mean_wgt)\n",
    "params_dict['i_flow']['w_err'] = float(iflow_err_wgt)\n",
    "params_dict['i_flow']['rel_unc'] = float(rel_unc(iflow_mean_wgt, iflow_err_wgt, target, 0.))\n",
    "params_dict['i_flow']['res_epochs'] = num_epochs\n",
    "params_dict['i_flow']['res_calls'] = num_epochs * ptspepoch"
   ]
  },
  {
   "cell_type": "code",
   "execution_count": 27,
   "id": "generic-zealand",
   "metadata": {},
   "outputs": [
    {
     "data": {
      "text/plain": [
       "{'i_flow': {'build_time': 0.11868119239807129,\n",
       "  'run_time': 5.336259126663208,\n",
       "  'w_mean': nan,\n",
       "  'w_err': nan,\n",
       "  'rel_unc': nan,\n",
       "  'res_epochs': 179,\n",
       "  'res_calls': 895000}}"
      ]
     },
     "execution_count": 27,
     "metadata": {},
     "output_type": "execute_result"
    }
   ],
   "source": [
    "params_dict"
   ]
  },
  {
   "cell_type": "code",
   "execution_count": 28,
   "id": "italian-personality",
   "metadata": {},
   "outputs": [],
   "source": [
    "data = integrate.sample(500).numpy()"
   ]
  },
  {
   "cell_type": "code",
   "execution_count": 29,
   "id": "fantastic-weekly",
   "metadata": {},
   "outputs": [
    {
     "name": "stderr",
     "output_type": "stream",
     "text": [
      "E:\\_MAGISTER_ACE\\Наука\\test-env\\lib\\site-packages\\matplotlib\\axes\\_axes.py:6731: RuntimeWarning: All-NaN slice encountered\n",
      "  xmin = min(xmin, np.nanmin(xi))\n",
      "E:\\_MAGISTER_ACE\\Наука\\test-env\\lib\\site-packages\\matplotlib\\axes\\_axes.py:6732: RuntimeWarning: All-NaN slice encountered\n",
      "  xmax = max(xmax, np.nanmax(xi))\n"
     ]
    },
    {
     "ename": "ValueError",
     "evalue": "autodetected range of [nan, nan] is not finite",
     "output_type": "error",
     "traceback": [
      "\u001b[1;31m---------------------------------------------------------------------------\u001b[0m",
      "\u001b[1;31mValueError\u001b[0m                                Traceback (most recent call last)",
      "\u001b[1;32mC:\\TMP/ipykernel_2900/2177220901.py\u001b[0m in \u001b[0;36m<module>\u001b[1;34m\u001b[0m\n\u001b[1;32m----> 1\u001b[1;33m \u001b[0mplt\u001b[0m\u001b[1;33m.\u001b[0m\u001b[0mhist\u001b[0m\u001b[1;33m(\u001b[0m\u001b[0mdata\u001b[0m\u001b[1;33m)\u001b[0m\u001b[1;33m;\u001b[0m\u001b[1;33m\u001b[0m\u001b[1;33m\u001b[0m\u001b[0m\n\u001b[0m",
      "\u001b[1;32mE:\\_MAGISTER_ACE\\Наука\\test-env\\lib\\site-packages\\matplotlib\\pyplot.py\u001b[0m in \u001b[0;36mhist\u001b[1;34m(x, bins, range, density, weights, cumulative, bottom, histtype, align, orientation, rwidth, log, color, label, stacked, data, **kwargs)\u001b[0m\n\u001b[0;32m   2856\u001b[0m         \u001b[0malign\u001b[0m\u001b[1;33m=\u001b[0m\u001b[0malign\u001b[0m\u001b[1;33m,\u001b[0m \u001b[0morientation\u001b[0m\u001b[1;33m=\u001b[0m\u001b[0morientation\u001b[0m\u001b[1;33m,\u001b[0m \u001b[0mrwidth\u001b[0m\u001b[1;33m=\u001b[0m\u001b[0mrwidth\u001b[0m\u001b[1;33m,\u001b[0m \u001b[0mlog\u001b[0m\u001b[1;33m=\u001b[0m\u001b[0mlog\u001b[0m\u001b[1;33m,\u001b[0m\u001b[1;33m\u001b[0m\u001b[1;33m\u001b[0m\u001b[0m\n\u001b[0;32m   2857\u001b[0m         \u001b[0mcolor\u001b[0m\u001b[1;33m=\u001b[0m\u001b[0mcolor\u001b[0m\u001b[1;33m,\u001b[0m \u001b[0mlabel\u001b[0m\u001b[1;33m=\u001b[0m\u001b[0mlabel\u001b[0m\u001b[1;33m,\u001b[0m \u001b[0mstacked\u001b[0m\u001b[1;33m=\u001b[0m\u001b[0mstacked\u001b[0m\u001b[1;33m,\u001b[0m\u001b[1;33m\u001b[0m\u001b[1;33m\u001b[0m\u001b[0m\n\u001b[1;32m-> 2858\u001b[1;33m         **({\"data\": data} if data is not None else {}), **kwargs)\n\u001b[0m\u001b[0;32m   2859\u001b[0m \u001b[1;33m\u001b[0m\u001b[0m\n\u001b[0;32m   2860\u001b[0m \u001b[1;33m\u001b[0m\u001b[0m\n",
      "\u001b[1;32mE:\\_MAGISTER_ACE\\Наука\\test-env\\lib\\site-packages\\matplotlib\\__init__.py\u001b[0m in \u001b[0;36minner\u001b[1;34m(ax, data, *args, **kwargs)\u001b[0m\n\u001b[0;32m   1359\u001b[0m     \u001b[1;32mdef\u001b[0m \u001b[0minner\u001b[0m\u001b[1;33m(\u001b[0m\u001b[0max\u001b[0m\u001b[1;33m,\u001b[0m \u001b[1;33m*\u001b[0m\u001b[0margs\u001b[0m\u001b[1;33m,\u001b[0m \u001b[0mdata\u001b[0m\u001b[1;33m=\u001b[0m\u001b[1;32mNone\u001b[0m\u001b[1;33m,\u001b[0m \u001b[1;33m**\u001b[0m\u001b[0mkwargs\u001b[0m\u001b[1;33m)\u001b[0m\u001b[1;33m:\u001b[0m\u001b[1;33m\u001b[0m\u001b[1;33m\u001b[0m\u001b[0m\n\u001b[0;32m   1360\u001b[0m         \u001b[1;32mif\u001b[0m \u001b[0mdata\u001b[0m \u001b[1;32mis\u001b[0m \u001b[1;32mNone\u001b[0m\u001b[1;33m:\u001b[0m\u001b[1;33m\u001b[0m\u001b[1;33m\u001b[0m\u001b[0m\n\u001b[1;32m-> 1361\u001b[1;33m             \u001b[1;32mreturn\u001b[0m \u001b[0mfunc\u001b[0m\u001b[1;33m(\u001b[0m\u001b[0max\u001b[0m\u001b[1;33m,\u001b[0m \u001b[1;33m*\u001b[0m\u001b[0mmap\u001b[0m\u001b[1;33m(\u001b[0m\u001b[0msanitize_sequence\u001b[0m\u001b[1;33m,\u001b[0m \u001b[0margs\u001b[0m\u001b[1;33m)\u001b[0m\u001b[1;33m,\u001b[0m \u001b[1;33m**\u001b[0m\u001b[0mkwargs\u001b[0m\u001b[1;33m)\u001b[0m\u001b[1;33m\u001b[0m\u001b[1;33m\u001b[0m\u001b[0m\n\u001b[0m\u001b[0;32m   1362\u001b[0m \u001b[1;33m\u001b[0m\u001b[0m\n\u001b[0;32m   1363\u001b[0m         \u001b[0mbound\u001b[0m \u001b[1;33m=\u001b[0m \u001b[0mnew_sig\u001b[0m\u001b[1;33m.\u001b[0m\u001b[0mbind\u001b[0m\u001b[1;33m(\u001b[0m\u001b[0max\u001b[0m\u001b[1;33m,\u001b[0m \u001b[1;33m*\u001b[0m\u001b[0margs\u001b[0m\u001b[1;33m,\u001b[0m \u001b[1;33m**\u001b[0m\u001b[0mkwargs\u001b[0m\u001b[1;33m)\u001b[0m\u001b[1;33m\u001b[0m\u001b[1;33m\u001b[0m\u001b[0m\n",
      "\u001b[1;32mE:\\_MAGISTER_ACE\\Наука\\test-env\\lib\\site-packages\\matplotlib\\axes\\_axes.py\u001b[0m in \u001b[0;36mhist\u001b[1;34m(self, x, bins, range, density, weights, cumulative, bottom, histtype, align, orientation, rwidth, log, color, label, stacked, **kwargs)\u001b[0m\n\u001b[0;32m   6743\u001b[0m                 \u001b[0m_w\u001b[0m \u001b[1;33m=\u001b[0m \u001b[1;32mNone\u001b[0m\u001b[1;33m\u001b[0m\u001b[1;33m\u001b[0m\u001b[0m\n\u001b[0;32m   6744\u001b[0m             bins = np.histogram_bin_edges(\n\u001b[1;32m-> 6745\u001b[1;33m                 np.concatenate(x), bins, bin_range, _w)\n\u001b[0m\u001b[0;32m   6746\u001b[0m         \u001b[1;32melse\u001b[0m\u001b[1;33m:\u001b[0m\u001b[1;33m\u001b[0m\u001b[1;33m\u001b[0m\u001b[0m\n\u001b[0;32m   6747\u001b[0m             \u001b[0mhist_kwargs\u001b[0m\u001b[1;33m[\u001b[0m\u001b[1;34m'range'\u001b[0m\u001b[1;33m]\u001b[0m \u001b[1;33m=\u001b[0m \u001b[0mbin_range\u001b[0m\u001b[1;33m\u001b[0m\u001b[1;33m\u001b[0m\u001b[0m\n",
      "\u001b[1;32m<__array_function__ internals>\u001b[0m in \u001b[0;36mhistogram_bin_edges\u001b[1;34m(*args, **kwargs)\u001b[0m\n",
      "\u001b[1;32mE:\\_MAGISTER_ACE\\Наука\\test-env\\lib\\site-packages\\numpy\\lib\\histograms.py\u001b[0m in \u001b[0;36mhistogram_bin_edges\u001b[1;34m(a, bins, range, weights)\u001b[0m\n\u001b[0;32m    669\u001b[0m     \"\"\"\n\u001b[0;32m    670\u001b[0m     \u001b[0ma\u001b[0m\u001b[1;33m,\u001b[0m \u001b[0mweights\u001b[0m \u001b[1;33m=\u001b[0m \u001b[0m_ravel_and_check_weights\u001b[0m\u001b[1;33m(\u001b[0m\u001b[0ma\u001b[0m\u001b[1;33m,\u001b[0m \u001b[0mweights\u001b[0m\u001b[1;33m)\u001b[0m\u001b[1;33m\u001b[0m\u001b[1;33m\u001b[0m\u001b[0m\n\u001b[1;32m--> 671\u001b[1;33m     \u001b[0mbin_edges\u001b[0m\u001b[1;33m,\u001b[0m \u001b[0m_\u001b[0m \u001b[1;33m=\u001b[0m \u001b[0m_get_bin_edges\u001b[0m\u001b[1;33m(\u001b[0m\u001b[0ma\u001b[0m\u001b[1;33m,\u001b[0m \u001b[0mbins\u001b[0m\u001b[1;33m,\u001b[0m \u001b[0mrange\u001b[0m\u001b[1;33m,\u001b[0m \u001b[0mweights\u001b[0m\u001b[1;33m)\u001b[0m\u001b[1;33m\u001b[0m\u001b[1;33m\u001b[0m\u001b[0m\n\u001b[0m\u001b[0;32m    672\u001b[0m     \u001b[1;32mreturn\u001b[0m \u001b[0mbin_edges\u001b[0m\u001b[1;33m\u001b[0m\u001b[1;33m\u001b[0m\u001b[0m\n\u001b[0;32m    673\u001b[0m \u001b[1;33m\u001b[0m\u001b[0m\n",
      "\u001b[1;32mE:\\_MAGISTER_ACE\\Наука\\test-env\\lib\\site-packages\\numpy\\lib\\histograms.py\u001b[0m in \u001b[0;36m_get_bin_edges\u001b[1;34m(a, bins, range, weights)\u001b[0m\n\u001b[0;32m    427\u001b[0m             \u001b[1;32mraise\u001b[0m \u001b[0mValueError\u001b[0m\u001b[1;33m(\u001b[0m\u001b[1;34m'`bins` must be positive, when an integer'\u001b[0m\u001b[1;33m)\u001b[0m\u001b[1;33m\u001b[0m\u001b[1;33m\u001b[0m\u001b[0m\n\u001b[0;32m    428\u001b[0m \u001b[1;33m\u001b[0m\u001b[0m\n\u001b[1;32m--> 429\u001b[1;33m         \u001b[0mfirst_edge\u001b[0m\u001b[1;33m,\u001b[0m \u001b[0mlast_edge\u001b[0m \u001b[1;33m=\u001b[0m \u001b[0m_get_outer_edges\u001b[0m\u001b[1;33m(\u001b[0m\u001b[0ma\u001b[0m\u001b[1;33m,\u001b[0m \u001b[0mrange\u001b[0m\u001b[1;33m)\u001b[0m\u001b[1;33m\u001b[0m\u001b[1;33m\u001b[0m\u001b[0m\n\u001b[0m\u001b[0;32m    430\u001b[0m \u001b[1;33m\u001b[0m\u001b[0m\n\u001b[0;32m    431\u001b[0m     \u001b[1;32melif\u001b[0m \u001b[0mnp\u001b[0m\u001b[1;33m.\u001b[0m\u001b[0mndim\u001b[0m\u001b[1;33m(\u001b[0m\u001b[0mbins\u001b[0m\u001b[1;33m)\u001b[0m \u001b[1;33m==\u001b[0m \u001b[1;36m1\u001b[0m\u001b[1;33m:\u001b[0m\u001b[1;33m\u001b[0m\u001b[1;33m\u001b[0m\u001b[0m\n",
      "\u001b[1;32mE:\\_MAGISTER_ACE\\Наука\\test-env\\lib\\site-packages\\numpy\\lib\\histograms.py\u001b[0m in \u001b[0;36m_get_outer_edges\u001b[1;34m(a, range)\u001b[0m\n\u001b[0;32m    325\u001b[0m         \u001b[1;32mif\u001b[0m \u001b[1;32mnot\u001b[0m \u001b[1;33m(\u001b[0m\u001b[0mnp\u001b[0m\u001b[1;33m.\u001b[0m\u001b[0misfinite\u001b[0m\u001b[1;33m(\u001b[0m\u001b[0mfirst_edge\u001b[0m\u001b[1;33m)\u001b[0m \u001b[1;32mand\u001b[0m \u001b[0mnp\u001b[0m\u001b[1;33m.\u001b[0m\u001b[0misfinite\u001b[0m\u001b[1;33m(\u001b[0m\u001b[0mlast_edge\u001b[0m\u001b[1;33m)\u001b[0m\u001b[1;33m)\u001b[0m\u001b[1;33m:\u001b[0m\u001b[1;33m\u001b[0m\u001b[1;33m\u001b[0m\u001b[0m\n\u001b[0;32m    326\u001b[0m             raise ValueError(\n\u001b[1;32m--> 327\u001b[1;33m                 \"autodetected range of [{}, {}] is not finite\".format(first_edge, last_edge))\n\u001b[0m\u001b[0;32m    328\u001b[0m \u001b[1;33m\u001b[0m\u001b[0m\n\u001b[0;32m    329\u001b[0m     \u001b[1;31m# expand empty range to avoid divide by zero\u001b[0m\u001b[1;33m\u001b[0m\u001b[1;33m\u001b[0m\u001b[1;33m\u001b[0m\u001b[0m\n",
      "\u001b[1;31mValueError\u001b[0m: autodetected range of [nan, nan] is not finite"
     ]
    },
    {
     "data": {
      "image/png": "[encoded data removed]",
      "text/plain": [
       "<Figure size 432x288 with 1 Axes>"
      ]
     },
     "metadata": {
      "needs_background": "light"
     },
     "output_type": "display_data"
    }
   ],
   "source": [
    "plt.hist(data);"
   ]
  },
  {
   "cell_type": "code",
   "execution_count": null,
   "id": "independent-genetics",
   "metadata": {},
   "outputs": [],
   "source": []
  },
  {
   "cell_type": "code",
   "execution_count": null,
   "id": "ultimate-pantyhose",
   "metadata": {},
   "outputs": [],
   "source": []
  },
  {
   "cell_type": "code",
   "execution_count": null,
   "id": "established-beauty",
   "metadata": {},
   "outputs": [],
   "source": []
  }
 ],
 "metadata": {
  "kernelspec": {
   "display_name": "test-env",
   "language": "python",
   "name": "test-env"
  },
  "language_info": {
   "codemirror_mode": {
    "name": "ipython",
    "version": 3
   },
   "file_extension": ".py",
   "mimetype": "text/x-python",
   "name": "python",
   "nbconvert_exporter": "python",
   "pygments_lexer": "ipython3",
   "version": "3.7.9"
  }
 },
 "nbformat": 4,
 "nbformat_minor": 5
}
