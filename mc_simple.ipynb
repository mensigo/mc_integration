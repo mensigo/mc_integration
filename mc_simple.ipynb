{
 "cells": [
  {
   "cell_type": "code",
   "execution_count": 1,
   "id": "northern-guest",
   "metadata": {},
   "outputs": [],
   "source": [
    "import math\n",
    "import time\n",
    "from functools import partial\n",
    "from collections import namedtuple\n",
    "\n",
    "import numpy as np\n",
    "from tqdm.notebook import tqdm\n",
    "import vegasflow as vflow\n",
    "import vegas, gvar\n",
    "from scipy.special import erf\n",
    "import tensorflow as tf\n",
    "import tensorflow_probability as tfp\n",
    "\n",
    "from iflow.integration import integrator\n",
    "from iflow.integration import couplings\n",
    "\n",
    "import matplotlib.pyplot as plt\n",
    "%matplotlib inline"
   ]
  },
  {
   "cell_type": "code",
   "execution_count": 81,
   "id": "fabulous-mitchell",
   "metadata": {},
   "outputs": [],
   "source": [
    "tfd = tfp.distributions  # pylint: disable=invalid-name\n",
    "tfb = tfp.bijectors  # pylint: disable=invalid-name\n",
    "tf.keras.backend.set_floatx('float64')"
   ]
  },
  {
   "cell_type": "markdown",
   "id": "floppy-presentation",
   "metadata": {},
   "source": [
    "### Определяем подынтегральную функцию"
   ]
  },
  {
   "cell_type": "code",
   "execution_count": 98,
   "id": "daily-alfred",
   "metadata": {},
   "outputs": [
    {
     "data": {
      "text/plain": [
       "<tf.Tensor: shape=(6,), dtype=float64, numpy=\n",
       "array([0.88205873, 0.85854243, 0.98424415, 0.41518549, 0.44363271,\n",
       "       0.64494123])>"
      ]
     },
     "execution_count": 98,
     "metadata": {},
     "output_type": "execute_result"
    }
   ],
   "source": [
    "@tf.function\n",
    "#     input_signature = [tf.TensorSpec(shape=[None,2], dtype=tf.float64),\n",
    "#                                tf.TensorSpec(shape=[], dtype=tf.float64),\n",
    "#                                tf.TensorSpec(shape=[2,1], dtype=tf.float64)])\n",
    "def j_integrand(r, w, n):\n",
    "    \"\"\"\"\"\"\n",
    "    # n = params['n']\n",
    "    \n",
    "    x = tf.reshape(r[:, 0], shape=(-1,1))\n",
    "    y = tf.reshape(r[:, 1], shape=(-1,1))\n",
    "        \n",
    "    real = -x ** 2 - y ** 2\n",
    "    imag = w * tf.tensordot(r, n, axes=1)   \n",
    "    \n",
    "    res = tf.exp(tf.complex(real, imag))\n",
    "    res = tf.math.real(res)\n",
    "#     res = tf.reshape(res, shape=(r.shape[0],1))\n",
    "    res = tf.reshape(res, shape=(-1,))\n",
    "    \n",
    "    return res\n",
    "\n",
    "\n",
    "# test\n",
    "r = tf.random.uniform([6, 2], dtype=tf.float64)\n",
    "w = tf.constant(0.1, dtype=tf.float64)\n",
    "n = tf.constant([1, 0], shape=(2,1), dtype=tf.float64)\n",
    "# params = { 'n': tf.constant([1, 0], shape=(2,1), dtype=tf.float64) }\n",
    "\n",
    "j_integrand(r, w, n)"
   ]
  },
  {
   "cell_type": "code",
   "execution_count": 99,
   "id": "piano-reflection",
   "metadata": {},
   "outputs": [],
   "source": [
    "j_integrand.input_signature"
   ]
  },
  {
   "cell_type": "markdown",
   "id": "expressed-identification",
   "metadata": {},
   "source": [
    "### Определяем аналитическое решение"
   ]
  },
  {
   "cell_type": "code",
   "execution_count": 112,
   "id": "specialized-radio",
   "metadata": {},
   "outputs": [
    {
     "data": {
      "text/plain": [
       "3.133748481256741"
      ]
     },
     "execution_count": 112,
     "metadata": {},
     "output_type": "execute_result"
    }
   ],
   "source": [
    "@tf.function\n",
    "def analytic_solution(w, params):\n",
    "    \"\"\"\"\"\"\n",
    "    pi = tf.constant(math.pi, dtype=tf.float64)\n",
    "    \n",
    "    return pi * tf.exp(-w ** 2 / 4)\n",
    "    \n",
    "    \n",
    "# test\n",
    "w = tf.constant(0.1, dtype=tf.float64)\n",
    "params = { 'n': tf.constant([1, 0], shape=(2,1), dtype=tf.float64) }\n",
    "\n",
    "analytic_solution(w, params).numpy()"
   ]
  },
  {
   "cell_type": "code",
   "execution_count": 181,
   "id": "verified-timeline",
   "metadata": {},
   "outputs": [
    {
     "data": {
      "text/plain": [
       "<tf.Tensor: shape=(), dtype=float64, numpy=3.133748481256741>"
      ]
     },
     "execution_count": 181,
     "metadata": {},
     "output_type": "execute_result"
    }
   ],
   "source": [
    "tf.constant(math.pi, dtype=tf.float64) * tf.exp(-w ** 2 / 4)"
   ]
  },
  {
   "cell_type": "code",
   "execution_count": 184,
   "id": "universal-kuwait",
   "metadata": {},
   "outputs": [
    {
     "data": {
      "text/plain": [
       "3.133748481256741"
      ]
     },
     "execution_count": 184,
     "metadata": {},
     "output_type": "execute_result"
    }
   ],
   "source": [
    "math.pi * math.exp(-0.1 ** 2 / 4)"
   ]
  },
  {
   "cell_type": "markdown",
   "id": "serious-hamburg",
   "metadata": {},
   "source": [
    "### Plot"
   ]
  },
  {
   "cell_type": "code",
   "execution_count": 185,
   "id": "dried-hormone",
   "metadata": {},
   "outputs": [],
   "source": [
    "def np_integrand(r):\n",
    "    \"\"\"\"\"\"    \n",
    "    x = r[0]\n",
    "    y = r[1]\n",
    "        \n",
    "    real = -x ** 2 - y ** 2\n",
    "    imag = w * np.dot(r, n)   \n",
    "    \n",
    "    res = np.exp(np.complex(real, imag))\n",
    "    res = np.real(res)\n",
    "    \n",
    "    return res"
   ]
  },
  {
   "cell_type": "code",
   "execution_count": 186,
   "id": "russian-tumor",
   "metadata": {},
   "outputs": [],
   "source": [
    "data = np.random.uniform(low=-10, high=10, size=(100,2))"
   ]
  },
  {
   "cell_type": "code",
   "execution_count": 187,
   "id": "skilled-leisure",
   "metadata": {},
   "outputs": [],
   "source": [
    "yy = np.asarray([np_integrand(x) for x in data])"
   ]
  },
  {
   "cell_type": "code",
   "execution_count": 188,
   "id": "suffering-mailing",
   "metadata": {},
   "outputs": [
    {
     "data": {
      "text/plain": [
       "<matplotlib.collections.PathCollection at 0x2878daab388>"
      ]
     },
     "execution_count": 188,
     "metadata": {},
     "output_type": "execute_result"
    },
    {
     "data": {
      "image/png": "[encoded data removed]",
      "text/plain": [
       "<Figure size 432x288 with 1 Axes>"
      ]
     },
     "metadata": {
      "needs_background": "light"
     },
     "output_type": "display_data"
    }
   ],
   "source": [
    "plt.scatter(data[:, 0], data[:, 1])"
   ]
  },
  {
   "cell_type": "code",
   "execution_count": 189,
   "id": "unlikely-class",
   "metadata": {},
   "outputs": [],
   "source": [
    "import seaborn as sns"
   ]
  },
  {
   "cell_type": "code",
   "execution_count": 190,
   "id": "stopped-tragedy",
   "metadata": {},
   "outputs": [
    {
     "data": {
      "text/plain": [
       "<AxesSubplot:>"
      ]
     },
     "execution_count": 190,
     "metadata": {},
     "output_type": "execute_result"
    },
    {
     "data": {
      "image/png": "[encoded data removed]",
      "text/plain": [
       "<Figure size 432x288 with 1 Axes>"
      ]
     },
     "metadata": {
      "needs_background": "light"
     },
     "output_type": "display_data"
    }
   ],
   "source": [
    "sns.scatterplot(x=data[:, 0], y=data[:, 1], hue=yy)"
   ]
  },
  {
   "cell_type": "markdown",
   "id": "ceramic-kingdom",
   "metadata": {},
   "source": [
    "### nquad"
   ]
  },
  {
   "cell_type": "code",
   "execution_count": 200,
   "id": "handled-columbus",
   "metadata": {},
   "outputs": [],
   "source": [
    "from scipy.integrate import nquad"
   ]
  },
  {
   "cell_type": "code",
   "execution_count": 208,
   "id": "correct-destruction",
   "metadata": {},
   "outputs": [
    {
     "name": "stderr",
     "output_type": "stream",
     "text": [
      "E:\\_MAGISTER_ACE\\Наука\\mc_integration\\mcenv\\lib\\site-packages\\scipy\\integrate\\quadpack.py:453: ComplexWarning: Casting complex values to real discards the imaginary part\n",
      "  return _quadpack._qagse(func,a,b,args,full_output,epsabs,epsrel,limit)\n"
     ]
    },
    {
     "data": {
      "text/plain": [
       "(2.228156338772748, 2.473750469769995e-14, {'neval': 441})"
      ]
     },
     "execution_count": 208,
     "metadata": {},
     "output_type": "execute_result"
    }
   ],
   "source": [
    "w = 0.1\n",
    "n = np.array([1, 0])\n",
    "\n",
    "\n",
    "def nquad_np_integrand(x, y):\n",
    "    \"\"\"\"\"\"\n",
    "    real = -x ** 2 - y ** 2\n",
    "    imag = w * np.dot(np.array([x,y]), n)   \n",
    "    \n",
    "    res = np.exp(np.complex(real, imag))\n",
    "    #res = np.real(res)\n",
    "    \n",
    "    #res = np.exp(real) * np.cos(imag)\n",
    "    \n",
    "    return res\n",
    "\n",
    "\n",
    "nquad(nquad_np_integrand,\n",
    "      [[-1,1], [-1,1]],\n",
    "      full_output=True)"
   ]
  },
  {
   "cell_type": "code",
   "execution_count": null,
   "id": "spoken-wrist",
   "metadata": {},
   "outputs": [],
   "source": []
  },
  {
   "cell_type": "markdown",
   "id": "oriented-theme",
   "metadata": {},
   "source": [
    "### vegas"
   ]
  },
  {
   "cell_type": "code",
   "execution_count": 202,
   "id": "bored-nutrition",
   "metadata": {},
   "outputs": [
    {
     "data": {
      "text/plain": [
       "0.134659170529511"
      ]
     },
     "execution_count": 202,
     "metadata": {},
     "output_type": "execute_result"
    }
   ],
   "source": [
    "w = 0.1\n",
    "n = np.array([1, 0])\n",
    "integ = vegas.Integrator([[-1, 1], [-1, 1]])\n",
    "\n",
    "\n",
    "def np_integrand(r):\n",
    "    \"\"\"\"\"\"    \n",
    "    x = r[0]\n",
    "    y = r[1]\n",
    "        \n",
    "    real = -x ** 2 - y ** 2\n",
    "    imag = w * np.dot(r, n)   \n",
    "    \n",
    "    #res = np.exp(np.complex(real, imag))\n",
    "    #res = np.real(res)\n",
    "    \n",
    "    res = np.exp(real) * np.cos(imag)\n",
    "    \n",
    "    return res\n",
    "\n",
    "\n",
    "# test\n",
    "np_integrand([1,1])"
   ]
  },
  {
   "cell_type": "code",
   "execution_count": 196,
   "id": "naval-gamma",
   "metadata": {},
   "outputs": [
    {
     "data": {
      "text/plain": [
       "2.22825(12)"
      ]
     },
     "execution_count": 196,
     "metadata": {},
     "output_type": "execute_result"
    }
   ],
   "source": [
    "integ(np_integrand, nitn=10, neval=10000)           # adapt the grid"
   ]
  },
  {
   "cell_type": "code",
   "execution_count": 197,
   "id": "fitted-malawi",
   "metadata": {},
   "outputs": [],
   "source": [
    "result = integ(np_integrand, nitn=20, neval=10000)  # estimate the integral"
   ]
  },
  {
   "cell_type": "code",
   "execution_count": 198,
   "id": "purple-penalty",
   "metadata": {},
   "outputs": [
    {
     "name": "stdout",
     "output_type": "stream",
     "text": [
      "itn   integral        wgt average     chi2/dof        Q\n",
      "-------------------------------------------------------\n",
      "  1   2.22822(25)     2.22822(25)         0.00     1.00\n",
      "  2   2.22826(21)     2.22824(16)         0.02     0.89\n",
      "  3   2.22802(19)     2.22815(12)         0.43     0.65\n",
      "  4   2.22811(16)     2.228135(97)        0.30     0.83\n",
      "  5   2.22801(14)     2.228095(81)        0.35     0.84\n",
      "  6   2.22801(13)     2.228070(68)        0.35     0.88\n",
      "  7   2.22823(11)     2.228111(58)        0.53     0.79\n",
      "  8   2.228231(99)    2.228142(50)        0.61     0.75\n",
      "  9   2.228221(88)    2.228161(44)        0.61     0.77\n",
      " 10   2.228045(86)    2.228137(39)        0.71     0.70\n",
      " 11   2.228121(80)    2.228134(35)        0.64     0.78\n",
      " 12   2.228164(73)    2.228140(32)        0.59     0.84\n",
      " 13   2.228202(63)    2.228153(28)        0.61     0.84\n",
      " 14   2.228215(54)    2.228166(25)        0.64     0.82\n",
      " 15   2.228124(50)    2.228157(22)        0.64     0.84\n",
      " 16   2.228183(45)    2.228162(20)        0.61     0.87\n",
      " 17   2.228103(69)    2.228158(19)        0.62     0.87\n",
      " 18   2.228166(61)    2.228158(18)        0.58     0.91\n",
      " 19   2.228168(53)    2.228159(17)        0.55     0.94\n",
      " 20   2.228185(43)    2.228163(16)        0.54     0.95\n",
      "\n",
      "result = 2.228163(16)    Q = 0.95\n"
     ]
    }
   ],
   "source": [
    "print(result.summary())\n",
    "print('result = %s    Q = %.2f' % (result, result.Q))"
   ]
  },
  {
   "cell_type": "code",
   "execution_count": 53,
   "id": "aggregate-commons",
   "metadata": {},
   "outputs": [],
   "source": [
    "epochs = 1000\n",
    "ptspepoch = 5000"
   ]
  },
  {
   "cell_type": "code",
   "execution_count": 59,
   "id": "amber-animal",
   "metadata": {
    "scrolled": true
   },
   "outputs": [
    {
     "name": "stdout",
     "output_type": "stream",
     "text": [
      "--> Starting Vegas..\n",
      "Epoch:   0 Integral = 3.128374e+00 +/- 3.372692e-03 Total uncertainty = 3.372692e-03\n",
      "Epoch:   0 Integral = 3.137065e+00 +/- 3.274734e-03 Total uncertainty = 2.349455e-03\n",
      "Epoch:   0 Integral = 3.127832e+00 +/- 3.969165e-03 Total uncertainty = 2.021806e-03\n",
      "Epoch:   0 Integral = 3.131362e+00 +/- 3.806915e-03 Total uncertainty = 1.785609e-03\n",
      "Epoch:   0 Integral = 3.135972e+00 +/- 3.566719e-03 Total uncertainty = 1.596694e-03\n",
      "Epoch:   0 Integral = 3.131094e+00 +/- 3.695343e-03 Total uncertainty = 1.465724e-03\n",
      "Epoch:   0 Integral = 3.131710e+00 +/- 3.497502e-03 Total uncertainty = 1.351816e-03\n",
      "Epoch:   0 Integral = 3.136343e+00 +/- 3.126418e-03 Total uncertainty = 1.240795e-03\n",
      "Epoch:   0 Integral = 3.137743e+00 +/- 3.882870e-03 Total uncertainty = 1.181915e-03\n",
      "Epoch:   0 Integral = 3.129821e+00 +/- 3.533460e-03 Total uncertainty = 1.120873e-03\n",
      "Epoch:   0 Integral = 3.138993e+00 +/- 4.098666e-03 Total uncertainty = 1.081173e-03\n",
      "Epoch:   0 Integral = 3.131843e+00 +/- 2.996599e-03 Total uncertainty = 1.017003e-03\n",
      "Epoch:   0 Integral = 3.131924e+00 +/- 3.706349e-03 Total uncertainty = 9.807509e-04\n",
      "Epoch:   0 Integral = 3.136010e+00 +/- 3.795270e-03 Total uncertainty = 9.495585e-04\n",
      "Epoch:   0 Integral = 3.132175e+00 +/- 3.530506e-03 Total uncertainty = 9.169714e-04\n",
      "Epoch:   0 Integral = 3.133671e+00 +/- 3.382771e-03 Total uncertainty = 8.850319e-04\n",
      "Epoch:   0 Integral = 3.133202e+00 +/- 3.645967e-03 Total uncertainty = 8.600556e-04\n",
      "Epoch:   0 Integral = 3.135061e+00 +/- 3.862594e-03 Total uncertainty = 8.394967e-04\n",
      "Epoch:   0 Integral = 3.132748e+00 +/- 4.044093e-03 Total uncertainty = 8.219733e-04\n",
      "Epoch:   0 Integral = 3.130004e+00 +/- 3.472298e-03 Total uncertainty = 7.998674e-04\n",
      "Epoch:   0 Integral = 3.131880e+00 +/- 3.408475e-03 Total uncertainty = 7.787128e-04\n",
      "Epoch:   0 Integral = 3.137729e+00 +/- 3.228091e-03 Total uncertainty = 7.569986e-04\n",
      "Epoch:   0 Integral = 3.129750e+00 +/- 3.510665e-03 Total uncertainty = 7.399909e-04\n",
      "Epoch:   0 Integral = 3.132211e+00 +/- 3.466415e-03 Total uncertainty = 7.236850e-04\n",
      "Epoch:   0 Integral = 3.137183e+00 +/- 3.708896e-03 Total uncertainty = 7.102901e-04\n",
      "Epoch:   0 Integral = 3.134027e+00 +/- 3.708375e-03 Total uncertainty = 6.976090e-04\n",
      "Epoch:   0 Integral = 3.133607e+00 +/- 3.386247e-03 Total uncertainty = 6.832605e-04\n",
      "Epoch:   0 Integral = 3.130190e+00 +/- 3.538448e-03 Total uncertainty = 6.708679e-04\n",
      "Epoch:   0 Integral = 3.133784e+00 +/- 3.204964e-03 Total uncertainty = 6.566367e-04\n",
      "Epoch:   0 Integral = 3.137555e+00 +/- 3.343782e-03 Total uncertainty = 6.443305e-04\n",
      "Epoch:   0 Integral = 3.133436e+00 +/- 3.724644e-03 Total uncertainty = 6.349005e-04\n",
      "Epoch:   0 Integral = 3.129908e+00 +/- 3.427695e-03 Total uncertainty = 6.242816e-04\n",
      "Epoch:   0 Integral = 3.132796e+00 +/- 3.556597e-03 Total uncertainty = 6.148812e-04\n",
      "Epoch:   0 Integral = 3.132989e+00 +/- 3.507659e-03 Total uncertainty = 6.056462e-04\n",
      "Epoch:   0 Integral = 3.138194e+00 +/- 3.501639e-03 Total uncertainty = 5.967854e-04\n",
      "Epoch:   0 Integral = 3.135947e+00 +/- 3.260081e-03 Total uncertainty = 5.870306e-04\n",
      "Epoch:   0 Integral = 3.131818e+00 +/- 3.498674e-03 Total uncertainty = 5.789380e-04\n",
      "Epoch:   0 Integral = 3.132155e+00 +/- 3.245025e-03 Total uncertainty = 5.699386e-04\n",
      "Epoch:   0 Integral = 3.130239e+00 +/- 3.326841e-03 Total uncertainty = 5.617548e-04\n",
      "Epoch:   0 Integral = 3.128063e+00 +/- 2.871506e-03 Total uncertainty = 5.513043e-04\n",
      "Epoch:   0 Integral = 3.131568e+00 +/- 3.019242e-03 Total uncertainty = 5.423372e-04\n",
      "Epoch:   0 Integral = 3.130738e+00 +/- 3.083544e-03 Total uncertainty = 5.341385e-04\n",
      "Epoch:   0 Integral = 3.130334e+00 +/- 2.884379e-03 Total uncertainty = 5.252090e-04\n",
      "Epoch:   0 Integral = 3.135589e+00 +/- 3.193437e-03 Total uncertainty = 5.182468e-04\n",
      "Epoch:   0 Integral = 3.130920e+00 +/- 3.497574e-03 Total uncertainty = 5.126497e-04\n",
      "Epoch:   0 Integral = 3.136646e+00 +/- 4.106791e-03 Total uncertainty = 5.087016e-04\n",
      "Epoch:   0 Integral = 3.141077e+00 +/- 4.643267e-03 Total uncertainty = 5.056759e-04\n"
     ]
    },
    {
     "ename": "KeyboardInterrupt",
     "evalue": "",
     "output_type": "error",
     "traceback": [
      "\u001b[1;31m---------------------------------------------------------------------------\u001b[0m",
      "\u001b[1;31mKeyboardInterrupt\u001b[0m                         Traceback (most recent call last)",
      "\u001b[1;32mC:\\TMP/ipykernel_10288/2868702234.py\u001b[0m in \u001b[0;36m<module>\u001b[1;34m\u001b[0m\n\u001b[0;32m     12\u001b[0m \u001b[0mcurrent_vegas_precision\u001b[0m \u001b[1;33m=\u001b[0m \u001b[1;36m1e99\u001b[0m\u001b[1;33m\u001b[0m\u001b[1;33m\u001b[0m\u001b[0m\n\u001b[0;32m     13\u001b[0m \u001b[1;32mwhile\u001b[0m \u001b[0mcurrent_vegas_precision\u001b[0m \u001b[1;33m>\u001b[0m \u001b[0mtarget_precision\u001b[0m\u001b[1;33m:\u001b[0m\u001b[1;33m\u001b[0m\u001b[1;33m\u001b[0m\u001b[0m\n\u001b[1;32m---> 14\u001b[1;33m     \u001b[0mcurrent_result\u001b[0m \u001b[1;33m=\u001b[0m \u001b[0minteg\u001b[0m\u001b[1;33m(\u001b[0m\u001b[0mnp_integrand\u001b[0m\u001b[1;33m,\u001b[0m \u001b[0mnitn\u001b[0m\u001b[1;33m=\u001b[0m\u001b[1;36m1\u001b[0m\u001b[1;33m,\u001b[0m \u001b[0mneval\u001b[0m\u001b[1;33m=\u001b[0m\u001b[0mptspepoch\u001b[0m\u001b[1;33m)\u001b[0m\u001b[1;33m\u001b[0m\u001b[1;33m\u001b[0m\u001b[0m\n\u001b[0m\u001b[0;32m     15\u001b[0m     \u001b[0mvegas_means\u001b[0m\u001b[1;33m.\u001b[0m\u001b[0mappend\u001b[0m\u001b[1;33m(\u001b[0m\u001b[0mcurrent_result\u001b[0m\u001b[1;33m.\u001b[0m\u001b[0mmean\u001b[0m\u001b[1;33m)\u001b[0m\u001b[1;33m\u001b[0m\u001b[1;33m\u001b[0m\u001b[0m\n\u001b[0;32m     16\u001b[0m     \u001b[0mvegas_stddevs\u001b[0m\u001b[1;33m.\u001b[0m\u001b[0mappend\u001b[0m\u001b[1;33m(\u001b[0m\u001b[0mcurrent_result\u001b[0m\u001b[1;33m.\u001b[0m\u001b[0msdev\u001b[0m\u001b[1;33m)\u001b[0m\u001b[1;33m\u001b[0m\u001b[1;33m\u001b[0m\u001b[0m\n",
      "\u001b[1;32m_vegas.pyx\u001b[0m in \u001b[0;36mrandom_batch\u001b[1;34m()\u001b[0m\n",
      "\u001b[1;32m_vegas.pyx\u001b[0m in \u001b[0;36mvegas._vegas.VegasIntegrand.firstpass_eval\u001b[1;34m()\u001b[0m\n",
      "\u001b[1;32m_vegas.pyx\u001b[0m in \u001b[0;36mvegas._vegas._BatchIntegrand_from_NonBatch.__call__\u001b[1;34m()\u001b[0m\n",
      "\u001b[1;32mC:\\TMP/ipykernel_10288/105202761.py\u001b[0m in \u001b[0;36mnp_integrand\u001b[1;34m(r)\u001b[0m\n\u001b[0;32m     10\u001b[0m \u001b[1;33m\u001b[0m\u001b[0m\n\u001b[0;32m     11\u001b[0m     \u001b[0mreal\u001b[0m \u001b[1;33m=\u001b[0m \u001b[1;33m-\u001b[0m\u001b[0mx\u001b[0m \u001b[1;33m**\u001b[0m \u001b[1;36m2\u001b[0m \u001b[1;33m-\u001b[0m \u001b[0my\u001b[0m \u001b[1;33m**\u001b[0m \u001b[1;36m2\u001b[0m\u001b[1;33m\u001b[0m\u001b[1;33m\u001b[0m\u001b[0m\n\u001b[1;32m---> 12\u001b[1;33m     \u001b[0mimag\u001b[0m \u001b[1;33m=\u001b[0m \u001b[0mw\u001b[0m \u001b[1;33m*\u001b[0m \u001b[0mnp\u001b[0m\u001b[1;33m.\u001b[0m\u001b[0mdot\u001b[0m\u001b[1;33m(\u001b[0m\u001b[0mr\u001b[0m\u001b[1;33m,\u001b[0m \u001b[0mn\u001b[0m\u001b[1;33m)\u001b[0m\u001b[1;33m\u001b[0m\u001b[1;33m\u001b[0m\u001b[0m\n\u001b[0m\u001b[0;32m     13\u001b[0m \u001b[1;33m\u001b[0m\u001b[0m\n\u001b[0;32m     14\u001b[0m     \u001b[0mres\u001b[0m \u001b[1;33m=\u001b[0m \u001b[0mnp\u001b[0m\u001b[1;33m.\u001b[0m\u001b[0mexp\u001b[0m\u001b[1;33m(\u001b[0m\u001b[0mnp\u001b[0m\u001b[1;33m.\u001b[0m\u001b[0mcomplex\u001b[0m\u001b[1;33m(\u001b[0m\u001b[0mreal\u001b[0m\u001b[1;33m,\u001b[0m \u001b[0mimag\u001b[0m\u001b[1;33m)\u001b[0m\u001b[1;33m)\u001b[0m\u001b[1;33m\u001b[0m\u001b[1;33m\u001b[0m\u001b[0m\n",
      "\u001b[1;32mE:\\_MAGISTER_ACE\\Наука\\mc_integration\\mcenv\\lib\\site-packages\\tensorflow_core\\python\\ops\\math_ops.py\u001b[0m in \u001b[0;36mbinary_op_wrapper\u001b[1;34m(x, y)\u001b[0m\n\u001b[0;32m    913\u001b[0m           \u001b[1;32melse\u001b[0m\u001b[1;33m:\u001b[0m\u001b[1;33m\u001b[0m\u001b[1;33m\u001b[0m\u001b[0m\n\u001b[0;32m    914\u001b[0m             \u001b[1;32mraise\u001b[0m\u001b[1;33m\u001b[0m\u001b[1;33m\u001b[0m\u001b[0m\n\u001b[1;32m--> 915\u001b[1;33m       \u001b[1;32mreturn\u001b[0m \u001b[0mfunc\u001b[0m\u001b[1;33m(\u001b[0m\u001b[0mx\u001b[0m\u001b[1;33m,\u001b[0m \u001b[0my\u001b[0m\u001b[1;33m,\u001b[0m \u001b[0mname\u001b[0m\u001b[1;33m=\u001b[0m\u001b[0mname\u001b[0m\u001b[1;33m)\u001b[0m\u001b[1;33m\u001b[0m\u001b[1;33m\u001b[0m\u001b[0m\n\u001b[0m\u001b[0;32m    916\u001b[0m \u001b[1;33m\u001b[0m\u001b[0m\n\u001b[0;32m    917\u001b[0m   \u001b[1;32mdef\u001b[0m \u001b[0mbinary_op_wrapper_sparse\u001b[0m\u001b[1;33m(\u001b[0m\u001b[0msp_x\u001b[0m\u001b[1;33m,\u001b[0m \u001b[0my\u001b[0m\u001b[1;33m)\u001b[0m\u001b[1;33m:\u001b[0m\u001b[1;33m\u001b[0m\u001b[1;33m\u001b[0m\u001b[0m\n",
      "\u001b[1;32mE:\\_MAGISTER_ACE\\Наука\\mc_integration\\mcenv\\lib\\site-packages\\tensorflow_core\\python\\ops\\math_ops.py\u001b[0m in \u001b[0;36m_mul_dispatch\u001b[1;34m(x, y, name)\u001b[0m\n\u001b[0;32m   1199\u001b[0m   \u001b[0mis_tensor_y\u001b[0m \u001b[1;33m=\u001b[0m \u001b[0misinstance\u001b[0m\u001b[1;33m(\u001b[0m\u001b[0my\u001b[0m\u001b[1;33m,\u001b[0m \u001b[0mops\u001b[0m\u001b[1;33m.\u001b[0m\u001b[0mTensor\u001b[0m\u001b[1;33m)\u001b[0m\u001b[1;33m\u001b[0m\u001b[1;33m\u001b[0m\u001b[0m\n\u001b[0;32m   1200\u001b[0m   \u001b[1;32mif\u001b[0m \u001b[0mis_tensor_y\u001b[0m\u001b[1;33m:\u001b[0m\u001b[1;33m\u001b[0m\u001b[1;33m\u001b[0m\u001b[0m\n\u001b[1;32m-> 1201\u001b[1;33m     \u001b[1;32mreturn\u001b[0m \u001b[0mgen_math_ops\u001b[0m\u001b[1;33m.\u001b[0m\u001b[0mmul\u001b[0m\u001b[1;33m(\u001b[0m\u001b[0mx\u001b[0m\u001b[1;33m,\u001b[0m \u001b[0my\u001b[0m\u001b[1;33m,\u001b[0m \u001b[0mname\u001b[0m\u001b[1;33m=\u001b[0m\u001b[0mname\u001b[0m\u001b[1;33m)\u001b[0m\u001b[1;33m\u001b[0m\u001b[1;33m\u001b[0m\u001b[0m\n\u001b[0m\u001b[0;32m   1202\u001b[0m   \u001b[1;32melse\u001b[0m\u001b[1;33m:\u001b[0m\u001b[1;33m\u001b[0m\u001b[1;33m\u001b[0m\u001b[0m\n\u001b[0;32m   1203\u001b[0m     \u001b[1;32massert\u001b[0m \u001b[0misinstance\u001b[0m\u001b[1;33m(\u001b[0m\u001b[0my\u001b[0m\u001b[1;33m,\u001b[0m \u001b[0msparse_tensor\u001b[0m\u001b[1;33m.\u001b[0m\u001b[0mSparseTensor\u001b[0m\u001b[1;33m)\u001b[0m  \u001b[1;31m# Case: Dense * Sparse.\u001b[0m\u001b[1;33m\u001b[0m\u001b[1;33m\u001b[0m\u001b[0m\n",
      "\u001b[1;32mE:\\_MAGISTER_ACE\\Наука\\mc_integration\\mcenv\\lib\\site-packages\\tensorflow_core\\python\\ops\\gen_math_ops.py\u001b[0m in \u001b[0;36mmul\u001b[1;34m(x, y, name)\u001b[0m\n\u001b[0;32m   6111\u001b[0m       _result = _pywrap_tensorflow.TFE_Py_FastPathExecute(\n\u001b[0;32m   6112\u001b[0m         \u001b[0m_ctx\u001b[0m\u001b[1;33m.\u001b[0m\u001b[0m_context_handle\u001b[0m\u001b[1;33m,\u001b[0m \u001b[0mtld\u001b[0m\u001b[1;33m.\u001b[0m\u001b[0mdevice_name\u001b[0m\u001b[1;33m,\u001b[0m \u001b[1;34m\"Mul\"\u001b[0m\u001b[1;33m,\u001b[0m \u001b[0mname\u001b[0m\u001b[1;33m,\u001b[0m \u001b[0mtld\u001b[0m\u001b[1;33m.\u001b[0m\u001b[0mop_callbacks\u001b[0m\u001b[1;33m,\u001b[0m\u001b[1;33m\u001b[0m\u001b[1;33m\u001b[0m\u001b[0m\n\u001b[1;32m-> 6113\u001b[1;33m         x, y)\n\u001b[0m\u001b[0;32m   6114\u001b[0m       \u001b[1;32mreturn\u001b[0m \u001b[0m_result\u001b[0m\u001b[1;33m\u001b[0m\u001b[1;33m\u001b[0m\u001b[0m\n\u001b[0;32m   6115\u001b[0m     \u001b[1;32mexcept\u001b[0m \u001b[0m_core\u001b[0m\u001b[1;33m.\u001b[0m\u001b[0m_FallbackException\u001b[0m\u001b[1;33m:\u001b[0m\u001b[1;33m\u001b[0m\u001b[1;33m\u001b[0m\u001b[0m\n",
      "\u001b[1;31mKeyboardInterrupt\u001b[0m: "
     ]
    }
   ],
   "source": [
    "vegas_calls = []\n",
    "vegas_results = []\n",
    "vegas_means = []\n",
    "vegas_stddevs = []\n",
    "\n",
    "first_run = True\n",
    "\n",
    "print(f\"--> Starting Vegas..\")\n",
    "start = time.time()\n",
    "\n",
    "epoch = 0\n",
    "current_vegas_precision = 1e99\n",
    "while current_vegas_precision > target_precision:\n",
    "    current_result = integ(np_integrand, nitn=1, neval=ptspepoch)\n",
    "    vegas_means.append(current_result.mean)\n",
    "    vegas_stddevs.append(current_result.sdev)\n",
    "    vegas_results.append(current_result)\n",
    "\n",
    "    _, current_vegas_precision = variance_weighted_result(np.array(vegas_means),\n",
    "                                                          np.array(vegas_stddevs))\n",
    "    if epoch % 10 == 0:\n",
    "        print('Epoch: {:3d} Integral = '\n",
    "              '{:8e} +/- {:8e} Total uncertainty = {:8e}'.format(epoch, current_result.mean,\n",
    "                                                                 current_result.sdev,\n",
    "                                                                 current_vegas_precision))"
   ]
  },
  {
   "cell_type": "code",
   "execution_count": null,
   "id": "accessory-champagne",
   "metadata": {},
   "outputs": [],
   "source": []
  },
  {
   "cell_type": "markdown",
   "id": "meaning-clinton",
   "metadata": {},
   "source": [
    "### vegasflow"
   ]
  },
  {
   "cell_type": "markdown",
   "id": "coral-criminal",
   "metadata": {},
   "source": [
    "Параметры интегранда"
   ]
  },
  {
   "cell_type": "code",
   "execution_count": 148,
   "id": "wrong-pastor",
   "metadata": {},
   "outputs": [],
   "source": [
    "w = tf.constant(0.1, dtype=tf.float64)\n",
    "n = tf.constant([1, 0], shape=(2,1), dtype=tf.float64)\n",
    "# params = { 'n': tf.constant([1, 0], shape=(2,1), dtype=tf.float64) }"
   ]
  },
  {
   "cell_type": "markdown",
   "id": "regulation-vocabulary",
   "metadata": {},
   "source": [
    "Аналитическое решение"
   ]
  },
  {
   "cell_type": "code",
   "execution_count": 149,
   "id": "spread-saturday",
   "metadata": {},
   "outputs": [
    {
     "data": {
      "text/plain": [
       "3.133748481256741"
      ]
     },
     "execution_count": 149,
     "metadata": {},
     "output_type": "execute_result"
    }
   ],
   "source": [
    "target = analytic_solution(w, params).numpy()\n",
    "target_precision = 1e-4 * target\n",
    "\n",
    "target"
   ]
  },
  {
   "cell_type": "markdown",
   "id": "electronic-taxation",
   "metadata": {},
   "source": [
    "Численное решение"
   ]
  },
  {
   "cell_type": "code",
   "execution_count": 150,
   "id": "separate-checkout",
   "metadata": {},
   "outputs": [],
   "source": [
    "# n_events = 10000"
   ]
  },
  {
   "cell_type": "code",
   "execution_count": 151,
   "id": "commercial-planning",
   "metadata": {},
   "outputs": [
    {
     "data": {
      "text/plain": [
       "TensorSpec(shape=(None, 2), dtype=tf.float64, name=None)"
      ]
     },
     "execution_count": 151,
     "metadata": {},
     "output_type": "execute_result"
    }
   ],
   "source": [
    "tf_spec = tf.TensorSpec(shape=[None,2], dtype=tf.float64)\n",
    "tf_spec"
   ]
  },
  {
   "cell_type": "code",
   "execution_count": 152,
   "id": "treated-closer",
   "metadata": {},
   "outputs": [
    {
     "data": {
      "text/plain": [
       "<tf.Tensor: shape=(5,), dtype=float64, numpy=\n",
       "array([4.26157143e-28, 4.11041073e-47, 5.51873622e-39, 1.90047881e-19,\n",
       "       6.94024898e-11])>"
      ]
     },
     "execution_count": 152,
     "metadata": {},
     "output_type": "execute_result"
    }
   ],
   "source": [
    "@tf.function  #(input_signature=[tf_spec])\n",
    "def tf_integrand(x):\n",
    "    \n",
    "#     x = tf.reshape(r[:, 0], shape=(-1,1))\n",
    "#     y = tf.reshape(r[:, 1], shape=(-1,1))\n",
    "        \n",
    "#     real = -x ** 2 - y ** 2\n",
    "#     imag = w * tf.tensordot(r, n, axes=1)   \n",
    "    \n",
    "#     res = tf.exp(tf.complex(real, imag))\n",
    "#     res = tf.math.real(res)\n",
    "#     return res\n",
    "    \n",
    "#     return tf.reshape(x[:, 0], shape=(-1,1))\n",
    "    \n",
    "    return j_integrand(x, w=w, n=n)\n",
    "\n",
    "\n",
    "# test\n",
    "tf_integrand(tf.random.uniform(shape=(5, 2), minval=-10, maxval=10, dtype=tf.float64))"
   ]
  },
  {
   "cell_type": "code",
   "execution_count": 153,
   "id": "democratic-finnish",
   "metadata": {},
   "outputs": [],
   "source": [
    "tf_integrand.input_signature"
   ]
  },
  {
   "cell_type": "code",
   "execution_count": 154,
   "id": "bound-riding",
   "metadata": {
    "scrolled": true
   },
   "outputs": [],
   "source": [
    "n_dim = 2\n",
    "n_events = int(1e6)\n",
    "events_limit = int(1e7)\n",
    "\n",
    "vegas_integ = vflow.VegasFlow(n_dim,\n",
    "                              n_events,\n",
    "                              events_limit=events_limit,\n",
    "                              verbose=False, signature=True)\n",
    "vegas_integ.compile(tf_integrand,\n",
    "                    compilable=True,\n",
    "#                     signature=[tf_spec],\n",
    "                    trace=False)"
   ]
  },
  {
   "cell_type": "code",
   "execution_count": 155,
   "id": "absolute-wedding",
   "metadata": {},
   "outputs": [],
   "source": [
    "def variance_weighted_result(means, stddevs):\n",
    "    \"\"\" Computes weighted mean and stddev of given means and\n",
    "        stddevs arrays, using Inverse-variance weighting\n",
    "    \"\"\"\n",
    "    assert np.size(means) == np.size(stddevs)\n",
    "    assert means.shape == stddevs.shape\n",
    "    variance = 1./np.sum(1./stddevs**2, axis=-1)\n",
    "    mean = np.sum(means/(stddevs**2), axis=-1)\n",
    "    mean *= variance\n",
    "    return mean, np.sqrt(variance)"
   ]
  },
  {
   "cell_type": "code",
   "execution_count": 156,
   "id": "protective-panic",
   "metadata": {},
   "outputs": [
    {
     "name": "stdout",
     "output_type": "stream",
     "text": [
      "[VegasFlow] Epoch:   0 Integral = 5.565950e-01 +/- 2.162073e-04 Total uncertainty = 2.162073e-04 (?>) 3.133748e-04\n"
     ]
    }
   ],
   "source": [
    "result_tuple = namedtuple('result_tuple', ['mean', 'sdev'])\n",
    "\n",
    "vegas_calls = []\n",
    "vegas_results = []\n",
    "vegas_means = []\n",
    "vegas_stddevs = []\n",
    "\n",
    "epoch = 0\n",
    "current_vegas_precision = 1e99\n",
    "while current_vegas_precision > target_precision:\n",
    "    current_result = vegas_integ.run_integration(n_iter=1)\n",
    "    current_result = result_tuple(*current_result)\n",
    "\n",
    "    vegas_means.append(current_result.mean)\n",
    "    vegas_stddevs.append(current_result.sdev)\n",
    "    vegas_results.append(current_result)\n",
    "\n",
    "    _, current_vegas_precision = variance_weighted_result(np.array(vegas_means),\n",
    "                                                          np.array(vegas_stddevs))\n",
    "    if True or epoch % 1 == 0:\n",
    "        print('[VegasFlow] Epoch: {:3d} Integral = '\n",
    "              '{:8e} +/- {:8e} Total uncertainty = {:8e} (?>) {:8e}'\n",
    "              .format(epoch, current_result.mean,\n",
    "                      current_result.sdev,\n",
    "                      current_vegas_precision,\n",
    "                      target_precision))\n",
    "    epoch += 1"
   ]
  },
  {
   "cell_type": "markdown",
   "id": "bored-pleasure",
   "metadata": {},
   "source": [
    "Значение интеграла"
   ]
  },
  {
   "cell_type": "code",
   "execution_count": 157,
   "id": "strange-marathon",
   "metadata": {},
   "outputs": [
    {
     "data": {
      "text/plain": [
       "0.5565949694157697"
      ]
     },
     "execution_count": 157,
     "metadata": {},
     "output_type": "execute_result"
    }
   ],
   "source": [
    "current_result.mean"
   ]
  },
  {
   "cell_type": "markdown",
   "id": "delayed-enzyme",
   "metadata": {},
   "source": [
    "### Crude MC"
   ]
  },
  {
   "cell_type": "code",
   "execution_count": 159,
   "id": "advance-public",
   "metadata": {},
   "outputs": [
    {
     "name": "stdout",
     "output_type": "stream",
     "text": [
      "Crude MC in 2 dimensions based on 25000000 points: 5.570e-01 +/- 4.326e-05\n",
      "Wall time: 595 ms\n"
     ]
    }
   ],
   "source": [
    "%%time\n",
    "\n",
    "npts = int('25,000,000'.replace(',', ''))\n",
    "pts = tf.random.uniform(\n",
    "    shape=(npts, n_dim),\n",
    "    minval=-1,\n",
    "    maxval=1,\n",
    "    dtype=tf.float64,\n",
    "    seed=77,\n",
    ")\n",
    "value = tf_integrand(pts)\n",
    "\n",
    "format_string = ('Crude MC in {:d} dimensions based on '\n",
    "                 '{:d} points: {:.3e} +/- {:.3e}')\n",
    "print(format_string.format(n_dim, npts,\n",
    "                           tf.math.reduce_mean(value).numpy(),\n",
    "                           tf.math.reduce_std(value).numpy() / np.sqrt(npts)))"
   ]
  },
  {
   "cell_type": "code",
   "execution_count": null,
   "id": "incorporated-hacker",
   "metadata": {},
   "outputs": [],
   "source": []
  },
  {
   "cell_type": "code",
   "execution_count": null,
   "id": "beautiful-pastor",
   "metadata": {},
   "outputs": [],
   "source": []
  },
  {
   "cell_type": "code",
   "execution_count": null,
   "id": "suitable-mixture",
   "metadata": {},
   "outputs": [],
   "source": []
  },
  {
   "cell_type": "code",
   "execution_count": null,
   "id": "legendary-thousand",
   "metadata": {},
   "outputs": [],
   "source": []
  },
  {
   "cell_type": "code",
   "execution_count": null,
   "id": "micro-passenger",
   "metadata": {},
   "outputs": [],
   "source": []
  },
  {
   "cell_type": "code",
   "execution_count": null,
   "id": "virtual-automation",
   "metadata": {},
   "outputs": [],
   "source": []
  },
  {
   "cell_type": "code",
   "execution_count": null,
   "id": "forward-beauty",
   "metadata": {},
   "outputs": [],
   "source": []
  },
  {
   "cell_type": "code",
   "execution_count": null,
   "id": "quality-representation",
   "metadata": {},
   "outputs": [],
   "source": []
  },
  {
   "cell_type": "code",
   "execution_count": null,
   "id": "permanent-concrete",
   "metadata": {},
   "outputs": [],
   "source": []
  },
  {
   "cell_type": "markdown",
   "id": "purple-president",
   "metadata": {},
   "source": [
    "### i-flow (не работает, появляются nans при семплинге)"
   ]
  },
  {
   "cell_type": "code",
   "execution_count": 160,
   "id": "threatened-iceland",
   "metadata": {},
   "outputs": [
    {
     "data": {
      "text/plain": [
       "0.00031337484812567413"
      ]
     },
     "execution_count": 160,
     "metadata": {},
     "output_type": "execute_result"
    }
   ],
   "source": [
    "epochs = 1000\n",
    "ptspepoch = 5000\n",
    "target_precision = 1e-4 * target\n",
    "\n",
    "target_precision"
   ]
  },
  {
   "cell_type": "code",
   "execution_count": 161,
   "id": "fluid-manhattan",
   "metadata": {},
   "outputs": [],
   "source": [
    "def build_iflow(func, ndims, low, high):\n",
    "    \"\"\" Build the iflow integrator\n",
    "\n",
    "    Args:\n",
    "        func: integrand\n",
    "        ndims (int): dimensionality of the integrand\n",
    "\n",
    "    Returns: Integrator: iflow Integrator object\n",
    "\n",
    "    \"\"\"\n",
    "    masks = binary_masks(ndims)\n",
    "    bijector = []\n",
    "    for mask in masks:\n",
    "        bijector.append(couplings.PiecewiseRationalQuadratic(mask, build,\n",
    "                                                             num_bins=16,\n",
    "                                                             blob=None,\n",
    "                                                             options=None))\n",
    "    bijector = tfb.Chain(list(reversed(bijector)))\n",
    "    # low = np.zeros(ndims, dtype=np.float64)\n",
    "    # high = np.ones(ndims, dtype=np.float64)\n",
    "    low = np.repeat(low, ndims).astype(np.float64)\n",
    "    high = np.repeat(high, ndims).astype(np.float64)\n",
    "    dist = tfd.Uniform(low=low, high=high, allow_nan_stats=False)\n",
    "    dist = tfd.Independent(distribution=dist,\n",
    "                           reinterpreted_batch_ndims=1)\n",
    "    dist = tfd.TransformedDistribution(\n",
    "        distribution=dist,\n",
    "        bijector=bijector)\n",
    "\n",
    "    optimizer = tf.keras.optimizers.Adam(1e-3, clipnorm=10.0)\n",
    "    integrate = integrator.Integrator(\n",
    "        func, dist, optimizer,\n",
    "#         loss_func='exponential',\n",
    "        loss_func='kl'\n",
    "    )\n",
    "\n",
    "    return integrate"
   ]
  },
  {
   "cell_type": "code",
   "execution_count": 162,
   "id": "tender-clerk",
   "metadata": {},
   "outputs": [
    {
     "data": {
      "text/plain": [
       "748"
      ]
     },
     "execution_count": 162,
     "metadata": {},
     "output_type": "execute_result"
    }
   ],
   "source": [
    "# integrate = None\n",
    "\n",
    "import gc\n",
    "gc.collect()"
   ]
  },
  {
   "cell_type": "code",
   "execution_count": 163,
   "id": "spanish-respondent",
   "metadata": {},
   "outputs": [],
   "source": [
    "# integrate.dist.sample(10)"
   ]
  },
  {
   "cell_type": "code",
   "execution_count": 164,
   "id": "palestinian-atlantic",
   "metadata": {},
   "outputs": [],
   "source": [
    "# integrate.dist.log_prob(tf.constant([1, 10, 100, 1000,10000], shape=(5,1), dtype=tf.float64))"
   ]
  },
  {
   "cell_type": "code",
   "execution_count": 165,
   "id": "charitable-lindsay",
   "metadata": {},
   "outputs": [],
   "source": [
    "def build(in_features, out_features, options):\n",
    "    \"\"\" Builds a dense NN.\n",
    "\n",
    "    The output layer is initialized to 0, so the first pass\n",
    "    before training gives the identity transformation.\n",
    "\n",
    "    Arguments:\n",
    "        in_features (int): dimensionality of the inputs space\n",
    "        out_features (int): dimensionality of the output space\n",
    "        options: additional arguments, not used at the moment\n",
    "\n",
    "    Returns:\n",
    "        A tf.keras.models.Model instance\n",
    "\n",
    "    \"\"\"\n",
    "    del options\n",
    "\n",
    "    invals = tf.keras.layers.Input(in_features, dtype=tf.float64)\n",
    "    hidden = tf.keras.layers.Dense(32, activation='relu')(invals)\n",
    "    hidden = tf.keras.layers.Dense(32, activation='relu')(hidden)\n",
    "    hidden = tf.keras.layers.Dense(32, activation='relu')(hidden)\n",
    "    hidden = tf.keras.layers.Dense(32, activation='relu')(hidden)\n",
    "    outputs = tf.keras.layers.Dense(out_features, bias_initializer='zeros',\n",
    "                                    kernel_initializer='zeros')(hidden)\n",
    "    model = tf.keras.models.Model(invals, outputs)\n",
    "    model.summary()\n",
    "    return model\n",
    "\n",
    "def mask_flip(mask):\n",
    "    \"\"\" Interchange 0 <-> 1 in the mask. \"\"\"\n",
    "    return 1-mask\n",
    "\n",
    "\n",
    "def binary_list(inval, length):\n",
    "    \"\"\" Convert x into a binary list of length l. \"\"\"\n",
    "    return np.array([int(i) for i in np.binary_repr(inval, length)])\n",
    "\n",
    "\n",
    "def binary_masks(ndims):\n",
    "    \"\"\" Create binary masks for to account for symmetries. \"\"\"\n",
    "    n_masks = int(np.ceil(np.log2(ndims)))\n",
    "    sub_masks = np.transpose(np.array(\n",
    "        [binary_list(i, n_masks)\n",
    "         for i in range(ndims)]))[::-1]\n",
    "    flip_masks = mask_flip(sub_masks)\n",
    "\n",
    "    # Combine masks\n",
    "    masks = np.empty((2*n_masks, ndims))\n",
    "    masks[0::2] = flip_masks\n",
    "    masks[1::2] = sub_masks\n",
    "\n",
    "    return masks"
   ]
  },
  {
   "cell_type": "code",
   "execution_count": 168,
   "id": "alone-producer",
   "metadata": {
    "scrolled": false
   },
   "outputs": [
    {
     "name": "stdout",
     "output_type": "stream",
     "text": [
      "Model: \"model_32\"\n",
      "_________________________________________________________________\n",
      "Layer (type)                 Output Shape              Param #   \n",
      "=================================================================\n",
      "input_33 (InputLayer)        [(None, 1)]               0         \n",
      "_________________________________________________________________\n",
      "dense_160 (Dense)            (None, 32)                64        \n",
      "_________________________________________________________________\n",
      "dense_161 (Dense)            (None, 32)                1056      \n",
      "_________________________________________________________________\n",
      "dense_162 (Dense)            (None, 32)                1056      \n",
      "_________________________________________________________________\n",
      "dense_163 (Dense)            (None, 32)                1056      \n",
      "_________________________________________________________________\n",
      "dense_164 (Dense)            (None, 49)                1617      \n",
      "=================================================================\n",
      "Total params: 4,849\n",
      "Trainable params: 4,849\n",
      "Non-trainable params: 0\n",
      "_________________________________________________________________\n",
      "Model: \"model_33\"\n",
      "_________________________________________________________________\n",
      "Layer (type)                 Output Shape              Param #   \n",
      "=================================================================\n",
      "input_34 (InputLayer)        [(None, 1)]               0         \n",
      "_________________________________________________________________\n",
      "dense_165 (Dense)            (None, 32)                64        \n",
      "_________________________________________________________________\n",
      "dense_166 (Dense)            (None, 32)                1056      \n",
      "_________________________________________________________________\n",
      "dense_167 (Dense)            (None, 32)                1056      \n",
      "_________________________________________________________________\n",
      "dense_168 (Dense)            (None, 32)                1056      \n",
      "_________________________________________________________________\n",
      "dense_169 (Dense)            (None, 49)                1617      \n",
      "=================================================================\n",
      "Total params: 4,849\n",
      "Trainable params: 4,849\n",
      "Non-trainable params: 0\n",
      "_________________________________________________________________\n",
      "[i-flow] Epoch:   0 Loss = 7.627793e-02 Integral = 2.235499e+00 +/- 1.221652e-02 Total uncertainty = 1.221652e-02\n",
      "[i-flow] Epoch:  10 Loss = 1.415052e-01 Integral = 2.182882e+00 +/- 1.511890e-02 Total uncertainty = 4.220743e-03\n",
      "[i-flow] Epoch:  20 Loss = 1.318272e-01 Integral = 2.887701e+00 +/- 1.971769e-02 Total uncertainty = 3.339663e-03\n",
      "[i-flow] Epoch:  30 Loss = 1.511215e-01 Integral = 3.667919e+00 +/- 2.791856e-02 Total uncertainty = 3.046128e-03\n",
      "[i-flow] Epoch:  40 Loss = 1.624272e-01 Integral = 4.189273e+00 +/- 3.346359e-02 Total uncertainty = 2.910873e-03\n",
      "[i-flow] Epoch:  50 Loss = 1.726077e-01 Integral = 4.298038e+00 +/- 3.568113e-02 Total uncertainty = 2.817875e-03\n",
      "[i-flow] Epoch:  60 Loss = 1.824564e-01 Integral = 4.748292e+00 +/- 4.078224e-02 Total uncertainty = 2.746334e-03\n",
      "[i-flow] Epoch:  70 Loss = 1.815950e-01 Integral = 4.674404e+00 +/- 3.994169e-02 Total uncertainty = 2.688351e-03\n",
      "[i-flow] Epoch:  80 Loss = 1.698252e-01 Integral = 4.356563e+00 +/- 3.581316e-02 Total uncertainty = 2.623165e-03\n",
      "[i-flow] Epoch:  90 Loss = 1.604300e-01 Integral = 4.131998e+00 +/- 3.274968e-02 Total uncertainty = 2.549967e-03\n",
      "[i-flow] Epoch: 100 Loss = 1.568747e-01 Integral = 3.940976e+00 +/- 3.080260e-02 Total uncertainty = 2.470957e-03\n",
      "[i-flow] Epoch: 110 Loss = 1.518613e-01 Integral = 3.848135e+00 +/- 2.937215e-02 Total uncertainty = 2.389999e-03\n",
      "[i-flow] Epoch: 120 Loss = 1.528666e-01 Integral = 3.983155e+00 +/- 3.072086e-02 Total uncertainty = 2.314190e-03\n",
      "[i-flow] Epoch: 130 Loss = 1.870189e-01 Integral = 4.881916e+00 +/- 4.189781e-02 Total uncertainty = 2.269101e-03\n",
      "[i-flow] Epoch: 140 Loss = 1.874550e-01 Integral = 5.011509e+00 +/- 4.293958e-02 Total uncertainty = 2.238723e-03\n",
      "[i-flow] Epoch: 150 Loss = 1.711063e-01 Integral = 4.845100e+00 +/- 3.912467e-02 Total uncertainty = 2.206174e-03\n",
      "[i-flow] Epoch: 160 Loss = 1.497505e-01 Integral = 4.460214e+00 +/- 3.339901e-02 Total uncertainty = 2.164522e-03\n",
      "[i-flow] Epoch: 170 Loss = 1.431590e-01 Integral = 4.225606e+00 +/- 3.075340e-02 Total uncertainty = 2.113652e-03\n",
      "[i-flow] Epoch: 180 Loss = 1.406162e-01 Integral = 4.274894e+00 +/- 3.089313e-02 Total uncertainty = 2.066093e-03\n",
      "[i-flow] Epoch: 190 Loss = 1.303351e-01 Integral = 4.228490e+00 +/- 2.924695e-02 Total uncertainty = 2.018828e-03\n",
      "[i-flow] Epoch: 200 Loss = 1.342726e-01 Integral = 3.993865e+00 +/- 2.821276e-02 Total uncertainty = 1.970345e-03\n",
      "[i-flow] Epoch: 210 Loss = 1.284843e-01 Integral = 4.017181e+00 +/- 2.760937e-02 Total uncertainty = 1.923423e-03\n",
      "[i-flow] Epoch: 220 Loss = 1.152777e-01 Integral = 3.744492e+00 +/- 2.433741e-02 Total uncertainty = 1.871952e-03\n",
      "[i-flow] Epoch: 230 Loss = 1.062968e-01 Integral = 3.280436e+00 +/- 2.024582e-02 Total uncertainty = 1.806767e-03\n",
      "[i-flow] Epoch: 240 Loss = 9.778183e-02 Integral = 3.160128e+00 +/- 1.862490e-02 Total uncertainty = 1.729626e-03\n",
      "[i-flow] Epoch: 250 Loss = 9.313251e-02 Integral = 3.026893e+00 +/- 1.722963e-02 Total uncertainty = 1.653747e-03\n",
      "[i-flow] Epoch: 260 Loss = 7.202627e-02 Integral = 2.820335e+00 +/- 1.393101e-02 Total uncertainty = 1.564626e-03\n",
      "[i-flow] Epoch: 270 Loss = 5.821463e-02 Integral = 2.564558e+00 +/- 1.118036e-02 Total uncertainty = 1.456848e-03\n",
      "[i-flow] Epoch: 280 Loss = 4.809715e-02 Integral = 2.189916e+00 +/- 8.537593e-03 Total uncertainty = 1.314499e-03\n",
      "[i-flow] Epoch: 290 Loss = 1.095053e-01 Integral = 1.707771e+00 +/- 1.028312e-02 Total uncertainty = 1.195923e-03\n",
      "[i-flow] Epoch: 300 Loss = 5.282629e-01 Integral = 9.897781e-01 +/- 1.553277e-02 Total uncertainty = 1.145479e-03\n",
      "[i-flow] Epoch: 310 Loss = 9.010805e-01 Integral = 7.575875e-01 +/- 1.676227e-02 Total uncertainty = 1.117480e-03\n",
      "[i-flow] Epoch: 320 Loss = 1.024148e+00 Integral = 6.607608e-01 +/- 1.549574e-02 Total uncertainty = 1.091111e-03\n",
      "[i-flow] Epoch: 330 Loss = 1.111988e+00 Integral = 6.075701e-01 +/- 1.472961e-02 Total uncertainty = 1.064428e-03\n",
      "[i-flow] Epoch: 340 Loss = 1.190153e+00 Integral = 5.883022e-01 +/- 1.471943e-02 Total uncertainty = 1.037950e-03\n",
      "[i-flow] Epoch: 350 Loss = 1.262434e+00 Integral = 5.858938e-01 +/- 1.483739e-02 Total uncertainty = 1.013403e-03\n",
      "[i-flow] Epoch: 360 Loss = 1.283854e+00 Integral = 5.941346e-01 +/- 1.478787e-02 Total uncertainty = 9.900365e-04\n",
      "[i-flow] Epoch: 370 Loss = 1.330874e+00 Integral = 5.667363e-01 +/- 1.427483e-02 Total uncertainty = 9.675131e-04\n",
      "[i-flow] Epoch: 380 Loss = 1.335092e+00 Integral = 5.786629e-01 +/- 1.433521e-02 Total uncertainty = 9.458873e-04\n",
      "[i-flow] Epoch: 390 Loss = 1.385300e+00 Integral = 5.532901e-01 +/- 1.400556e-02 Total uncertainty = 9.251328e-04\n",
      "[i-flow] Epoch: 400 Loss = 1.400852e+00 Integral = 5.488233e-01 +/- 1.396492e-02 Total uncertainty = 9.056474e-04\n",
      "[i-flow] Epoch: 410 Loss = 1.373788e+00 Integral = 5.659279e-01 +/- 1.404745e-02 Total uncertainty = 8.873075e-04\n",
      "[i-flow] Epoch: 420 Loss = 1.408904e+00 Integral = 5.484084e-01 +/- 1.393860e-02 Total uncertainty = 8.701125e-04\n",
      "[i-flow] Epoch: 430 Loss = 1.416859e+00 Integral = 5.484142e-01 +/- 1.402084e-02 Total uncertainty = 8.539122e-04\n",
      "[i-flow] Epoch: 440 Loss = 1.386558e+00 Integral = 5.587044e-01 +/- 1.395465e-02 Total uncertainty = 8.385059e-04\n",
      "[i-flow] Epoch: 450 Loss = 1.403226e+00 Integral = 5.630039e-01 +/- 1.422234e-02 Total uncertainty = 8.240217e-04\n",
      "[i-flow] Epoch: 460 Loss = 1.386834e+00 Integral = 5.608928e-01 +/- 1.397632e-02 Total uncertainty = 8.101385e-04\n",
      "[i-flow] Epoch: 470 Loss = 1.385551e+00 Integral = 5.650678e-01 +/- 1.405201e-02 Total uncertainty = 7.968514e-04\n",
      "[i-flow] Epoch: 480 Loss = 1.379905e+00 Integral = 5.616554e-01 +/- 1.389568e-02 Total uncertainty = 7.841692e-04\n",
      "[i-flow] Epoch: 490 Loss = 1.355518e+00 Integral = 5.777523e-01 +/- 1.408119e-02 Total uncertainty = 7.720601e-04\n",
      "[i-flow] Epoch: 500 Loss = 1.373527e+00 Integral = 5.660186e-01 +/- 1.392109e-02 Total uncertainty = 7.605377e-04\n",
      "[i-flow] Epoch: 510 Loss = 1.390035e+00 Integral = 5.591991e-01 +/- 1.391440e-02 Total uncertainty = 7.494446e-04\n"
     ]
    },
    {
     "name": "stdout",
     "output_type": "stream",
     "text": [
      "[i-flow] Epoch: 520 Loss = 1.406743e+00 Integral = 5.548850e-01 +/- 1.398276e-02 Total uncertainty = 7.388774e-04\n",
      "[i-flow] Epoch: 530 Loss = 1.345763e+00 Integral = 5.868122e-01 +/- 1.417392e-02 Total uncertainty = 7.288246e-04\n",
      "[i-flow] Epoch: 540 Loss = 1.397188e+00 Integral = 5.585788e-01 +/- 1.396682e-02 Total uncertainty = 7.190122e-04\n",
      "[i-flow] Epoch: 550 Loss = 1.409703e+00 Integral = 5.463035e-01 +/- 1.374323e-02 Total uncertainty = 7.096259e-04\n",
      "[i-flow] Epoch: 560 Loss = 1.374994e+00 Integral = 5.655622e-01 +/- 1.389161e-02 Total uncertainty = 7.006350e-04\n",
      "[i-flow] Epoch: 570 Loss = 1.382735e+00 Integral = 5.692478e-01 +/- 1.409196e-02 Total uncertainty = 6.918977e-04\n",
      "[i-flow] Epoch: 580 Loss = 1.372868e+00 Integral = 5.725138e-01 +/- 1.404714e-02 Total uncertainty = 6.835509e-04\n",
      "[i-flow] Epoch: 590 Loss = 1.411235e+00 Integral = 5.464961e-01 +/- 1.379208e-02 Total uncertainty = 6.753803e-04\n",
      "[i-flow] Epoch: 600 Loss = 1.393738e+00 Integral = 5.576038e-01 +/- 1.392595e-02 Total uncertainty = 6.675972e-04\n",
      "[i-flow] Epoch: 610 Loss = 1.364858e+00 Integral = 5.740822e-01 +/- 1.399571e-02 Total uncertainty = 6.600701e-04\n",
      "[i-flow] Epoch: 620 Loss = 1.324165e+00 Integral = 5.981842e-01 +/- 1.418592e-02 Total uncertainty = 6.528291e-04\n",
      "[i-flow] Epoch: 630 Loss = 1.402049e+00 Integral = 5.539048e-01 +/- 1.387495e-02 Total uncertainty = 6.457213e-04\n",
      "[i-flow] Epoch: 640 Loss = 1.341613e+00 Integral = 5.878219e-01 +/- 1.414752e-02 Total uncertainty = 6.389299e-04\n",
      "[i-flow] Epoch: 650 Loss = 1.393104e+00 Integral = 5.590879e-01 +/- 1.389706e-02 Total uncertainty = 6.322758e-04\n",
      "[i-flow] Epoch: 660 Loss = 1.352622e+00 Integral = 5.903445e-01 +/- 1.437180e-02 Total uncertainty = 6.258708e-04\n",
      "[i-flow] Epoch: 670 Loss = 1.409590e+00 Integral = 5.450084e-01 +/- 1.368146e-02 Total uncertainty = 6.196430e-04\n",
      "[i-flow] Epoch: 680 Loss = 1.393512e+00 Integral = 5.623183e-01 +/- 1.403699e-02 Total uncertainty = 6.135180e-04\n",
      "[i-flow] Epoch: 690 Loss = 1.395182e+00 Integral = 5.550957e-01 +/- 1.380996e-02 Total uncertainty = 6.076467e-04\n",
      "[i-flow] Epoch: 700 Loss = 1.400069e+00 Integral = 5.546185e-01 +/- 1.386887e-02 Total uncertainty = 6.019112e-04\n",
      "[i-flow] Epoch: 710 Loss = 1.399363e+00 Integral = 5.522193e-01 +/- 1.377142e-02 Total uncertainty = 5.962995e-04\n",
      "[i-flow] Epoch: 720 Loss = 1.393164e+00 Integral = 5.564502e-01 +/- 1.379384e-02 Total uncertainty = 5.908774e-04\n",
      "[i-flow] Epoch: 730 Loss = 1.386635e+00 Integral = 5.637357e-01 +/- 1.395117e-02 Total uncertainty = 5.855827e-04\n",
      "[i-flow] Epoch: 740 Loss = 1.434989e+00 Integral = 5.327220e-01 +/- 1.358828e-02 Total uncertainty = 5.803736e-04\n",
      "[i-flow] Epoch: 750 Loss = 1.375339e+00 Integral = 5.674086e-01 +/- 1.391916e-02 Total uncertainty = 5.753731e-04\n",
      "[i-flow] Epoch: 760 Loss = 1.391841e+00 Integral = 5.534712e-01 +/- 1.371324e-02 Total uncertainty = 5.705228e-04\n",
      "[i-flow] Epoch: 770 Loss = 1.380252e+00 Integral = 5.716342e-01 +/- 1.413200e-02 Total uncertainty = 5.658342e-04\n",
      "[i-flow] Epoch: 780 Loss = 1.437985e+00 Integral = 5.315801e-01 +/- 1.364421e-02 Total uncertainty = 5.611835e-04\n",
      "[i-flow] Epoch: 790 Loss = 1.429052e+00 Integral = 5.376127e-01 +/- 1.365365e-02 Total uncertainty = 5.566134e-04\n",
      "[i-flow] Epoch: 800 Loss = 1.391231e+00 Integral = 5.662524e-01 +/- 1.407392e-02 Total uncertainty = 5.521795e-04\n",
      "[i-flow] Epoch: 810 Loss = 1.399215e+00 Integral = 5.524822e-01 +/- 1.373981e-02 Total uncertainty = 5.478131e-04\n",
      "[i-flow] Epoch: 820 Loss = 1.370679e+00 Integral = 5.708316e-01 +/- 1.404196e-02 Total uncertainty = 5.436185e-04\n",
      "[i-flow] Epoch: 830 Loss = 1.384526e+00 Integral = 5.573173e-01 +/- 1.371342e-02 Total uncertainty = 5.394391e-04\n",
      "[i-flow] Epoch: 840 Loss = 1.376276e+00 Integral = 5.675009e-01 +/- 1.395277e-02 Total uncertainty = 5.353619e-04\n",
      "[i-flow] Epoch: 850 Loss = 1.365207e+00 Integral = 5.736710e-01 +/- 1.394790e-02 Total uncertainty = 5.313776e-04\n",
      "[i-flow] Epoch: 860 Loss = 1.410024e+00 Integral = 5.495895e-01 +/- 1.378802e-02 Total uncertainty = 5.274851e-04\n",
      "[i-flow] Epoch: 870 Loss = 1.387264e+00 Integral = 5.620480e-01 +/- 1.390299e-02 Total uncertainty = 5.236936e-04\n",
      "[i-flow] Epoch: 880 Loss = 1.410068e+00 Integral = 5.563967e-01 +/- 1.396808e-02 Total uncertainty = 5.200159e-04\n",
      "[i-flow] Epoch: 890 Loss = 1.328958e+00 Integral = 5.944695e-01 +/- 1.409893e-02 Total uncertainty = 5.163786e-04\n",
      "[i-flow] Epoch: 900 Loss = 1.393034e+00 Integral = 5.574138e-01 +/- 1.382136e-02 Total uncertainty = 5.128418e-04\n",
      "[i-flow] Epoch: 910 Loss = 1.395925e+00 Integral = 5.521165e-01 +/- 1.367804e-02 Total uncertainty = 5.093158e-04\n",
      "[i-flow] Epoch: 920 Loss = 1.386764e+00 Integral = 5.584612e-01 +/- 1.378027e-02 Total uncertainty = 5.058725e-04\n",
      "[i-flow] Epoch: 930 Loss = 1.375254e+00 Integral = 5.713896e-01 +/- 1.402403e-02 Total uncertainty = 5.025401e-04\n",
      "[i-flow] Epoch: 940 Loss = 1.364289e+00 Integral = 5.744009e-01 +/- 1.398669e-02 Total uncertainty = 4.992868e-04\n",
      "[i-flow] Epoch: 950 Loss = 1.366004e+00 Integral = 5.775330e-01 +/- 1.410841e-02 Total uncertainty = 4.960498e-04\n",
      "[i-flow] Epoch: 960 Loss = 1.412205e+00 Integral = 5.483626e-01 +/- 1.375137e-02 Total uncertainty = 4.928676e-04\n",
      "[i-flow] Epoch: 970 Loss = 1.375373e+00 Integral = 5.661961e-01 +/- 1.385398e-02 Total uncertainty = 4.897406e-04\n",
      "[i-flow] Epoch: 980 Loss = 1.397645e+00 Integral = 5.501493e-01 +/- 1.365608e-02 Total uncertainty = 4.866936e-04\n",
      "[i-flow] Epoch: 990 Loss = 1.403214e+00 Integral = 5.511745e-01 +/- 1.374091e-02 Total uncertainty = 4.836980e-04\n",
      "[i-flow] Epoch: 1000 Loss = 1.428953e+00 Integral = 5.366439e-01 +/- 1.360858e-02 Total uncertainty = 4.807549e-04\n",
      "[i-flow] Epoch: 1010 Loss = 1.387649e+00 Integral = 5.580565e-01 +/- 1.374179e-02 Total uncertainty = 4.778546e-04\n",
      "[i-flow] Epoch: 1020 Loss = 1.376703e+00 Integral = 5.669434e-01 +/- 1.387703e-02 Total uncertainty = 4.749991e-04\n",
      "[i-flow] Epoch: 1030 Loss = 1.363016e+00 Integral = 5.728906e-01 +/- 1.386509e-02 Total uncertainty = 4.722116e-04\n",
      "[i-flow] Epoch: 1040 Loss = 1.382314e+00 Integral = 5.624908e-01 +/- 1.380084e-02 Total uncertainty = 4.694535e-04\n",
      "[i-flow] Epoch: 1050 Loss = 1.393096e+00 Integral = 5.564052e-01 +/- 1.378676e-02 Total uncertainty = 4.667492e-04\n",
      "[i-flow] Epoch: 1060 Loss = 1.407824e+00 Integral = 5.482365e-01 +/- 1.369274e-02 Total uncertainty = 4.640776e-04\n",
      "[i-flow] Epoch: 1070 Loss = 1.441260e+00 Integral = 5.302398e-01 +/- 1.354198e-02 Total uncertainty = 4.614689e-04\n",
      "[i-flow] Epoch: 1080 Loss = 1.399858e+00 Integral = 5.513627e-01 +/- 1.369297e-02 Total uncertainty = 4.589045e-04\n",
      "[i-flow] Epoch: 1090 Loss = 1.401175e+00 Integral = 5.516660e-01 +/- 1.373066e-02 Total uncertainty = 4.563878e-04\n",
      "[i-flow] Epoch: 1100 Loss = 1.389588e+00 Integral = 5.581953e-01 +/- 1.377419e-02 Total uncertainty = 4.538979e-04\n",
      "[i-flow] Epoch: 1110 Loss = 1.441150e+00 Integral = 5.350778e-01 +/- 1.368281e-02 Total uncertainty = 4.514691e-04\n",
      "[i-flow] Epoch: 1120 Loss = 1.351947e+00 Integral = 5.809310e-01 +/- 1.400958e-02 Total uncertainty = 4.490633e-04\n",
      "[i-flow] Epoch: 1130 Loss = 1.360897e+00 Integral = 5.731123e-01 +/- 1.390475e-02 Total uncertainty = 4.467366e-04\n",
      "[i-flow] Epoch: 1140 Loss = 1.391504e+00 Integral = 5.603703e-01 +/- 1.388384e-02 Total uncertainty = 4.444208e-04\n",
      "[i-flow] Epoch: 1150 Loss = 1.398827e+00 Integral = 5.521458e-01 +/- 1.369242e-02 Total uncertainty = 4.421219e-04\n",
      "[i-flow] Epoch: 1160 Loss = 1.401570e+00 Integral = 5.535000e-01 +/- 1.376312e-02 Total uncertainty = 4.398413e-04\n",
      "[i-flow] Epoch: 1170 Loss = 1.355862e+00 Integral = 5.763898e-01 +/- 1.388458e-02 Total uncertainty = 4.376103e-04\n",
      "[i-flow] Epoch: 1180 Loss = 1.371427e+00 Integral = 5.686624e-01 +/- 1.386457e-02 Total uncertainty = 4.353891e-04\n",
      "[i-flow] Epoch: 1190 Loss = 1.428947e+00 Integral = 5.374886e-01 +/- 1.362248e-02 Total uncertainty = 4.332068e-04\n",
      "[i-flow] Epoch: 1200 Loss = 1.413416e+00 Integral = 5.455047e-01 +/- 1.364987e-02 Total uncertainty = 4.310701e-04\n",
      "[i-flow] Epoch: 1210 Loss = 1.381963e+00 Integral = 5.585375e-01 +/- 1.370592e-02 Total uncertainty = 4.289690e-04\n",
      "[i-flow] Epoch: 1220 Loss = 1.403010e+00 Integral = 5.502262e-01 +/- 1.369562e-02 Total uncertainty = 4.268849e-04\n",
      "[i-flow] Epoch: 1230 Loss = 1.382528e+00 Integral = 5.640311e-01 +/- 1.384971e-02 Total uncertainty = 4.248499e-04\n"
     ]
    },
    {
     "name": "stdout",
     "output_type": "stream",
     "text": [
      "[i-flow] Epoch: 1240 Loss = 1.418305e+00 Integral = 5.414272e-01 +/- 1.361688e-02 Total uncertainty = 4.228441e-04\n",
      "[i-flow] Epoch: 1250 Loss = 1.377157e+00 Integral = 5.652192e-01 +/- 1.384354e-02 Total uncertainty = 4.208830e-04\n",
      "[i-flow] Epoch: 1260 Loss = 1.407885e+00 Integral = 5.485501e-01 +/- 1.367693e-02 Total uncertainty = 4.189290e-04\n",
      "[i-flow] Epoch: 1270 Loss = 1.379093e+00 Integral = 5.626904e-01 +/- 1.377479e-02 Total uncertainty = 4.169800e-04\n",
      "[i-flow] Epoch: 1280 Loss = 1.400868e+00 Integral = 5.517816e-01 +/- 1.370511e-02 Total uncertainty = 4.151009e-04\n",
      "[i-flow] Epoch: 1290 Loss = 1.402725e+00 Integral = 5.522237e-01 +/- 1.373986e-02 Total uncertainty = 4.132244e-04\n",
      "[i-flow] Epoch: 1300 Loss = 1.390364e+00 Integral = 5.597506e-01 +/- 1.381615e-02 Total uncertainty = 4.113510e-04\n"
     ]
    },
    {
     "ename": "ValueError",
     "evalue": "setting an array element with a sequence.",
     "output_type": "error",
     "traceback": [
      "\u001b[1;31m---------------------------------------------------------------------------\u001b[0m",
      "\u001b[1;31mKeyboardInterrupt\u001b[0m                         Traceback (most recent call last)",
      "\u001b[1;32mE:\\_MAGISTER_ACE\\Наука\\mc_integration\\mcenv\\lib\\site-packages\\tensorflow_core\\python\\framework\\ops.py\u001b[0m in \u001b[0;36m__float__\u001b[1;34m(self)\u001b[0m\n\u001b[0;32m    858\u001b[0m   \u001b[1;32mdef\u001b[0m \u001b[0m__float__\u001b[0m\u001b[1;33m(\u001b[0m\u001b[0mself\u001b[0m\u001b[1;33m)\u001b[0m\u001b[1;33m:\u001b[0m\u001b[1;33m\u001b[0m\u001b[1;33m\u001b[0m\u001b[0m\n\u001b[1;32m--> 859\u001b[1;33m     \u001b[1;32mreturn\u001b[0m \u001b[0mfloat\u001b[0m\u001b[1;33m(\u001b[0m\u001b[0mself\u001b[0m\u001b[1;33m.\u001b[0m\u001b[0m_numpy\u001b[0m\u001b[1;33m(\u001b[0m\u001b[1;33m)\u001b[0m\u001b[1;33m)\u001b[0m\u001b[1;33m\u001b[0m\u001b[1;33m\u001b[0m\u001b[0m\n\u001b[0m\u001b[0;32m    860\u001b[0m \u001b[1;33m\u001b[0m\u001b[0m\n",
      "\u001b[1;32mE:\\_MAGISTER_ACE\\Наука\\mc_integration\\mcenv\\lib\\site-packages\\tensorflow_core\\python\\framework\\ops.py\u001b[0m in \u001b[0;36m_numpy\u001b[1;34m(self)\u001b[0m\n\u001b[0;32m    907\u001b[0m     \u001b[1;32mtry\u001b[0m\u001b[1;33m:\u001b[0m\u001b[1;33m\u001b[0m\u001b[1;33m\u001b[0m\u001b[0m\n\u001b[1;32m--> 908\u001b[1;33m       \u001b[1;32mreturn\u001b[0m \u001b[0mself\u001b[0m\u001b[1;33m.\u001b[0m\u001b[0m_numpy_internal\u001b[0m\u001b[1;33m(\u001b[0m\u001b[1;33m)\u001b[0m\u001b[1;33m\u001b[0m\u001b[1;33m\u001b[0m\u001b[0m\n\u001b[0m\u001b[0;32m    909\u001b[0m     \u001b[1;32mexcept\u001b[0m \u001b[0mcore\u001b[0m\u001b[1;33m.\u001b[0m\u001b[0m_NotOkStatusException\u001b[0m \u001b[1;32mas\u001b[0m \u001b[0me\u001b[0m\u001b[1;33m:\u001b[0m\u001b[1;33m\u001b[0m\u001b[1;33m\u001b[0m\u001b[0m\n",
      "\u001b[1;31mKeyboardInterrupt\u001b[0m: ",
      "\nThe above exception was the direct cause of the following exception:\n",
      "\u001b[1;31mValueError\u001b[0m                                Traceback (most recent call last)",
      "\u001b[1;32mC:\\TMP/ipykernel_10288/21026918.py\u001b[0m in \u001b[0;36m<module>\u001b[1;34m\u001b[0m\n\u001b[0;32m     40\u001b[0m \u001b[1;31m# test\u001b[0m\u001b[1;33m\u001b[0m\u001b[1;33m\u001b[0m\u001b[1;33m\u001b[0m\u001b[0m\n\u001b[0;32m     41\u001b[0m \u001b[0mintegrate\u001b[0m \u001b[1;33m=\u001b[0m \u001b[0mbuild_iflow\u001b[0m\u001b[1;33m(\u001b[0m\u001b[0mtf_integrand\u001b[0m\u001b[1;33m,\u001b[0m \u001b[0mn_dim\u001b[0m\u001b[1;33m,\u001b[0m \u001b[0mlow\u001b[0m\u001b[1;33m=\u001b[0m\u001b[1;33m-\u001b[0m\u001b[1;36m1\u001b[0m\u001b[1;33m,\u001b[0m \u001b[0mhigh\u001b[0m\u001b[1;33m=\u001b[0m\u001b[1;36m1\u001b[0m\u001b[1;33m)\u001b[0m\u001b[1;33m\u001b[0m\u001b[1;33m\u001b[0m\u001b[0m\n\u001b[1;32m---> 42\u001b[1;33m \u001b[0mtrain_iflow_target\u001b[0m\u001b[1;33m(\u001b[0m\u001b[0mintegrate\u001b[0m\u001b[1;33m,\u001b[0m \u001b[0mptspepoch\u001b[0m\u001b[1;33m,\u001b[0m \u001b[0mtarget_precision\u001b[0m\u001b[1;33m)\u001b[0m\u001b[1;33m\u001b[0m\u001b[1;33m\u001b[0m\u001b[0m\n\u001b[0m",
      "\u001b[1;32mC:\\TMP/ipykernel_10288/21026918.py\u001b[0m in \u001b[0;36mtrain_iflow_target\u001b[1;34m(integrate, ptspepoch, target)\u001b[0m\n\u001b[0;32m     20\u001b[0m         \u001b[0mstddevs\u001b[0m\u001b[1;33m.\u001b[0m\u001b[0mappend\u001b[0m\u001b[1;33m(\u001b[0m\u001b[0merror\u001b[0m\u001b[1;33m)\u001b[0m\u001b[1;33m\u001b[0m\u001b[1;33m\u001b[0m\u001b[0m\n\u001b[0;32m     21\u001b[0m \u001b[1;33m\u001b[0m\u001b[0m\n\u001b[1;32m---> 22\u001b[1;33m         \u001b[0m_\u001b[0m\u001b[1;33m,\u001b[0m \u001b[0mcurrent_precision\u001b[0m \u001b[1;33m=\u001b[0m \u001b[0mvariance_weighted_result\u001b[0m\u001b[1;33m(\u001b[0m\u001b[0mnp\u001b[0m\u001b[1;33m.\u001b[0m\u001b[0marray\u001b[0m\u001b[1;33m(\u001b[0m\u001b[0mmeans\u001b[0m\u001b[1;33m)\u001b[0m\u001b[1;33m,\u001b[0m \u001b[0mnp\u001b[0m\u001b[1;33m.\u001b[0m\u001b[0marray\u001b[0m\u001b[1;33m(\u001b[0m\u001b[0mstddevs\u001b[0m\u001b[1;33m)\u001b[0m\u001b[1;33m)\u001b[0m\u001b[1;33m\u001b[0m\u001b[1;33m\u001b[0m\u001b[0m\n\u001b[0m\u001b[0;32m     23\u001b[0m \u001b[1;33m\u001b[0m\u001b[0m\n\u001b[0;32m     24\u001b[0m         \u001b[1;31m###\u001b[0m\u001b[1;33m\u001b[0m\u001b[1;33m\u001b[0m\u001b[1;33m\u001b[0m\u001b[0m\n",
      "\u001b[1;31mValueError\u001b[0m: setting an array element with a sequence."
     ]
    }
   ],
   "source": [
    "def train_iflow_target(integrate, ptspepoch, target):\n",
    "    \"\"\" Run the iflow integrator\n",
    "\n",
    "    Args:\n",
    "        integrate (Integrator): iflow Integrator class object\n",
    "        ptspepoch (int): number of points per epoch in training\n",
    "        target (float): target precision of final integral\n",
    "\n",
    "    Returns:\n",
    "        numpy.ndarray(float): integral estimations and its uncertainty of each epoch\n",
    "\n",
    "    \"\"\"\n",
    "    means = []\n",
    "    stddevs = []\n",
    "    current_precision = 1e99\n",
    "    epoch = 0\n",
    "    while current_precision > target:\n",
    "        loss, integral, error = integrate.train_one_step(ptspepoch, integral=True)\n",
    "        means.append(integral)\n",
    "        stddevs.append(error)\n",
    "        \n",
    "        _, current_precision = variance_weighted_result(np.array(means), np.array(stddevs))\n",
    "\n",
    "        ###\n",
    "        loss = loss.numpy()\n",
    "        integral = integral.numpy()\n",
    "        error = error.numpy()\n",
    "        ###\n",
    "        \n",
    "#         print(epoch, loss, integral, error, current_precision)\n",
    "\n",
    "        if epoch % 10 == 0:\n",
    "            print('[i-flow] Epoch: {:3d} Loss = {:8e} Integral = '\n",
    "                  '{:8e} +/- {:8e} Total uncertainty = {:8e}'\n",
    "                  .format(epoch, loss, integral, error, current_precision))\n",
    "        epoch += 1\n",
    "    return np.array(means), np.array(stddevs)\n",
    "\n",
    "\n",
    "# test\n",
    "integrate = build_iflow(tf_integrand, n_dim, low=-1, high=1)\n",
    "train_iflow_target(integrate, ptspepoch, target_precision)"
   ]
  },
  {
   "cell_type": "code",
   "execution_count": null,
   "id": "chief-attitude",
   "metadata": {},
   "outputs": [],
   "source": [
    "# integrate.train_one_step(ptspepoch, integral=True)"
   ]
  },
  {
   "cell_type": "code",
   "execution_count": 25,
   "id": "finnish-nicaragua",
   "metadata": {},
   "outputs": [
    {
     "name": "stdout",
     "output_type": "stream",
     "text": [
      "\n",
      "\n",
      "[i-flow] BUILD\n",
      "\n",
      "Model: \"model_2\"\n",
      "_________________________________________________________________\n",
      "Layer (type)                 Output Shape              Param #   \n",
      "=================================================================\n",
      "input_3 (InputLayer)         [(None, 1)]               0         \n",
      "_________________________________________________________________\n",
      "dense_10 (Dense)             (None, 32)                64        \n",
      "_________________________________________________________________\n",
      "dense_11 (Dense)             (None, 32)                1056      \n",
      "_________________________________________________________________\n",
      "dense_12 (Dense)             (None, 32)                1056      \n",
      "_________________________________________________________________\n",
      "dense_13 (Dense)             (None, 32)                1056      \n",
      "_________________________________________________________________\n",
      "dense_14 (Dense)             (None, 49)                1617      \n",
      "=================================================================\n",
      "Total params: 4,849\n",
      "Trainable params: 4,849\n",
      "Non-trainable params: 0\n",
      "_________________________________________________________________\n",
      "Model: \"model_3\"\n",
      "_________________________________________________________________\n",
      "Layer (type)                 Output Shape              Param #   \n",
      "=================================================================\n",
      "input_4 (InputLayer)         [(None, 1)]               0         \n",
      "_________________________________________________________________\n",
      "dense_15 (Dense)             (None, 32)                64        \n",
      "_________________________________________________________________\n",
      "dense_16 (Dense)             (None, 32)                1056      \n",
      "_________________________________________________________________\n",
      "dense_17 (Dense)             (None, 32)                1056      \n",
      "_________________________________________________________________\n",
      "dense_18 (Dense)             (None, 32)                1056      \n",
      "_________________________________________________________________\n",
      "dense_19 (Dense)             (None, 49)                1617      \n",
      "=================================================================\n",
      "Total params: 4,849\n",
      "Trainable params: 4,849\n",
      "Non-trainable params: 0\n",
      "_________________________________________________________________\n",
      "[i-flow] BUILD time: 0.1187 s\n",
      "\n"
     ]
    }
   ],
   "source": [
    "params_dict = {}\n",
    "params_dict['i_flow'] = {}\n",
    "\n",
    "\n",
    "print('\\n')\n",
    "\n",
    "print('[i-flow] BUILD\\n')\n",
    "start = time.time()\n",
    "integrate = build_iflow(tf_integrand, ndims, low=-10, high=10)\n",
    "end = time.time()\n",
    "print(f\"[i-flow] BUILD time: {(end-start):.4f} s\\n\")\n",
    "\n",
    "params_dict['i_flow']['build_time'] = end - start"
   ]
  },
  {
   "cell_type": "code",
   "execution_count": 26,
   "id": "visible-burke",
   "metadata": {},
   "outputs": [
    {
     "name": "stdout",
     "output_type": "stream",
     "text": [
      "[i-flow] START\n",
      "\n",
      "(5000,) (5000,) (5000,) (5000,)\n",
      "(5000,) (5000,) (5000,) (5000,)\n",
      "[i-flow] Epoch:   0 Loss = 1.482576e-01 Integral = 2.274504e+02 +/- 1.579470e+00 Total uncertainty = 1.579470e+00\n",
      "[i-flow] Epoch:  10 Loss = 4.904286e-02 Integral = 4.207071e+02 +/- 1.669551e+00 Total uncertainty = 4.868081e-01\n",
      "[i-flow] Epoch:  20 Loss = 4.021437e-02 Integral = 4.194795e+02 +/- 1.486702e+00 Total uncertainty = 3.480318e-01\n",
      "[i-flow] Epoch:  30 Loss = 3.520691e-02 Integral = 3.926697e+02 +/- 1.270078e+00 Total uncertainty = 2.676398e-01\n",
      "[i-flow] Epoch:  40 Loss = 3.523485e-02 Integral = 3.913282e+02 +/- 1.277046e+00 Total uncertainty = 2.223108e-01\n",
      "[i-flow] Epoch:  50 Loss = 3.369508e-02 Integral = 3.922016e+02 +/- 1.255163e+00 Total uncertainty = 1.948304e-01\n",
      "[i-flow] Epoch:  60 Loss = 2.781082e-02 Integral = 3.904077e+02 +/- 1.140870e+00 Total uncertainty = 1.743145e-01\n",
      "[i-flow] Epoch:  70 Loss = 3.051479e-02 Integral = 3.835051e+02 +/- 1.172740e+00 Total uncertainty = 1.582839e-01\n",
      "[i-flow] Epoch:  80 Loss = 3.385407e-02 Integral = 3.747270e+02 +/- 1.201142e+00 Total uncertainty = 1.466003e-01\n",
      "[i-flow] Epoch:  90 Loss = 3.520323e-02 Integral = 3.110352e+02 +/- 1.058339e+00 Total uncertainty = 1.355839e-01\n",
      "[i-flow] Epoch: 100 Loss = 1.217673e-01 Integral = 2.723057e+02 +/- 1.896610e+00 Total uncertainty = 1.278266e-01\n",
      "[i-flow] Epoch: 110 Loss = 2.110637e-01 Integral = 1.455598e+02 +/- 1.460950e+00 Total uncertainty = 1.229440e-01\n",
      "[i-flow] Epoch: 120 Loss = 7.346201e-01 Integral = 7.995243e+01 +/- 1.812290e+00 Total uncertainty = 1.196347e-01\n",
      "[i-flow] Epoch: 130 Loss = 1.382466e+00 Integral = 4.580592e+01 +/- 1.704788e+00 Total uncertainty = 1.169664e-01\n",
      "[i-flow] Epoch: 140 Loss = 2.045606e+00 Integral = 2.694563e+01 +/- 1.430031e+00 Total uncertainty = 1.133198e-01\n",
      "[i-flow] Epoch: 150 Loss = 2.268289e+00 Integral = 1.658074e+01 +/- 9.301075e-01 Total uncertainty = 1.065082e-01\n",
      "[i-flow] Epoch: 160 Loss = 2.630341e+00 Integral = 7.906568e+00 +/- 5.221988e-01 Total uncertainty = 9.505820e-02\n",
      "[i-flow] Epoch: 170 Loss = 2.917784e+00 Integral = 4.404916e+00 +/- 4.056578e-01 Total uncertainty = 7.526398e-02\n",
      "[i-flow] END time: 5 s\n",
      "\n",
      "[i-flow] Results for 2 dimensions:\n",
      "\n",
      "[i-flow] Weighted iflow result is nan +/- nan.\n",
      "\n",
      "[i-flow] Relative Uncertainty iflow result is nan\n",
      "\n",
      "[i-flow] i-flow needed 179 epochs and 895000 function calls\n",
      "\n"
     ]
    }
   ],
   "source": [
    "print('[i-flow] START\\n')\n",
    "start = time.time()\n",
    "mean_t, err_t = train_iflow_target(integrate, ptspepoch, target_precision)\n",
    "end = time.time()\n",
    "print(f\"[i-flow] END time: {int(end-start)} s\\n\")\n",
    "\n",
    "params_dict['i_flow']['run_time'] = end - start\n",
    "\n",
    "num_epochs = len(mean_t)\n",
    "x_values = np.arange(ptspepoch, (num_epochs+1) * ptspepoch, ptspepoch)\n",
    "iflow_mean_wgt, iflow_err_wgt = variance_weighted_result(mean_t, err_t)\n",
    "\n",
    "print(\"[i-flow] Results for {:d} dimensions:\\n\".format(ndims))\n",
    "print(\"[i-flow] Weighted iflow result is {:.5e} +/- {:.5e}.\\n\".format(\n",
    "    iflow_mean_wgt, iflow_err_wgt))\n",
    "print(\"[i-flow] Relative Uncertainty iflow result is {:.3f}\\n\".format(\n",
    "    rel_unc(iflow_mean_wgt, iflow_err_wgt, target, 0.)))\n",
    "print(\"[i-flow] i-flow needed {:d} epochs and {:d} function calls\\n\".format(\n",
    "    num_epochs,\n",
    "    num_epochs*ptspepoch\n",
    "))\n",
    "\n",
    "params_dict['i_flow']['w_mean'] = float(iflow_mean_wgt)\n",
    "params_dict['i_flow']['w_err'] = float(iflow_err_wgt)\n",
    "params_dict['i_flow']['rel_unc'] = float(rel_unc(iflow_mean_wgt, iflow_err_wgt, target, 0.))\n",
    "params_dict['i_flow']['res_epochs'] = num_epochs\n",
    "params_dict['i_flow']['res_calls'] = num_epochs * ptspepoch"
   ]
  },
  {
   "cell_type": "code",
   "execution_count": 27,
   "id": "racial-count",
   "metadata": {},
   "outputs": [
    {
     "data": {
      "text/plain": [
       "{'i_flow': {'build_time': 0.11868119239807129,\n",
       "  'run_time': 5.336259126663208,\n",
       "  'w_mean': nan,\n",
       "  'w_err': nan,\n",
       "  'rel_unc': nan,\n",
       "  'res_epochs': 179,\n",
       "  'res_calls': 895000}}"
      ]
     },
     "execution_count": 27,
     "metadata": {},
     "output_type": "execute_result"
    }
   ],
   "source": [
    "params_dict"
   ]
  },
  {
   "cell_type": "code",
   "execution_count": 28,
   "id": "boring-gentleman",
   "metadata": {},
   "outputs": [],
   "source": [
    "data = integrate.sample(500).numpy()"
   ]
  },
  {
   "cell_type": "code",
   "execution_count": 29,
   "id": "composed-insert",
   "metadata": {},
   "outputs": [
    {
     "name": "stderr",
     "output_type": "stream",
     "text": [
      "E:\\_MAGISTER_ACE\\Наука\\test-env\\lib\\site-packages\\matplotlib\\axes\\_axes.py:6731: RuntimeWarning: All-NaN slice encountered\n",
      "  xmin = min(xmin, np.nanmin(xi))\n",
      "E:\\_MAGISTER_ACE\\Наука\\test-env\\lib\\site-packages\\matplotlib\\axes\\_axes.py:6732: RuntimeWarning: All-NaN slice encountered\n",
      "  xmax = max(xmax, np.nanmax(xi))\n"
     ]
    },
    {
     "ename": "ValueError",
     "evalue": "autodetected range of [nan, nan] is not finite",
     "output_type": "error",
     "traceback": [
      "\u001b[1;31m---------------------------------------------------------------------------\u001b[0m",
      "\u001b[1;31mValueError\u001b[0m                                Traceback (most recent call last)",
      "\u001b[1;32mC:\\TMP/ipykernel_2900/2177220901.py\u001b[0m in \u001b[0;36m<module>\u001b[1;34m\u001b[0m\n\u001b[1;32m----> 1\u001b[1;33m \u001b[0mplt\u001b[0m\u001b[1;33m.\u001b[0m\u001b[0mhist\u001b[0m\u001b[1;33m(\u001b[0m\u001b[0mdata\u001b[0m\u001b[1;33m)\u001b[0m\u001b[1;33m;\u001b[0m\u001b[1;33m\u001b[0m\u001b[1;33m\u001b[0m\u001b[0m\n\u001b[0m",
      "\u001b[1;32mE:\\_MAGISTER_ACE\\Наука\\test-env\\lib\\site-packages\\matplotlib\\pyplot.py\u001b[0m in \u001b[0;36mhist\u001b[1;34m(x, bins, range, density, weights, cumulative, bottom, histtype, align, orientation, rwidth, log, color, label, stacked, data, **kwargs)\u001b[0m\n\u001b[0;32m   2856\u001b[0m         \u001b[0malign\u001b[0m\u001b[1;33m=\u001b[0m\u001b[0malign\u001b[0m\u001b[1;33m,\u001b[0m \u001b[0morientation\u001b[0m\u001b[1;33m=\u001b[0m\u001b[0morientation\u001b[0m\u001b[1;33m,\u001b[0m \u001b[0mrwidth\u001b[0m\u001b[1;33m=\u001b[0m\u001b[0mrwidth\u001b[0m\u001b[1;33m,\u001b[0m \u001b[0mlog\u001b[0m\u001b[1;33m=\u001b[0m\u001b[0mlog\u001b[0m\u001b[1;33m,\u001b[0m\u001b[1;33m\u001b[0m\u001b[1;33m\u001b[0m\u001b[0m\n\u001b[0;32m   2857\u001b[0m         \u001b[0mcolor\u001b[0m\u001b[1;33m=\u001b[0m\u001b[0mcolor\u001b[0m\u001b[1;33m,\u001b[0m \u001b[0mlabel\u001b[0m\u001b[1;33m=\u001b[0m\u001b[0mlabel\u001b[0m\u001b[1;33m,\u001b[0m \u001b[0mstacked\u001b[0m\u001b[1;33m=\u001b[0m\u001b[0mstacked\u001b[0m\u001b[1;33m,\u001b[0m\u001b[1;33m\u001b[0m\u001b[1;33m\u001b[0m\u001b[0m\n\u001b[1;32m-> 2858\u001b[1;33m         **({\"data\": data} if data is not None else {}), **kwargs)\n\u001b[0m\u001b[0;32m   2859\u001b[0m \u001b[1;33m\u001b[0m\u001b[0m\n\u001b[0;32m   2860\u001b[0m \u001b[1;33m\u001b[0m\u001b[0m\n",
      "\u001b[1;32mE:\\_MAGISTER_ACE\\Наука\\test-env\\lib\\site-packages\\matplotlib\\__init__.py\u001b[0m in \u001b[0;36minner\u001b[1;34m(ax, data, *args, **kwargs)\u001b[0m\n\u001b[0;32m   1359\u001b[0m     \u001b[1;32mdef\u001b[0m \u001b[0minner\u001b[0m\u001b[1;33m(\u001b[0m\u001b[0max\u001b[0m\u001b[1;33m,\u001b[0m \u001b[1;33m*\u001b[0m\u001b[0margs\u001b[0m\u001b[1;33m,\u001b[0m \u001b[0mdata\u001b[0m\u001b[1;33m=\u001b[0m\u001b[1;32mNone\u001b[0m\u001b[1;33m,\u001b[0m \u001b[1;33m**\u001b[0m\u001b[0mkwargs\u001b[0m\u001b[1;33m)\u001b[0m\u001b[1;33m:\u001b[0m\u001b[1;33m\u001b[0m\u001b[1;33m\u001b[0m\u001b[0m\n\u001b[0;32m   1360\u001b[0m         \u001b[1;32mif\u001b[0m \u001b[0mdata\u001b[0m \u001b[1;32mis\u001b[0m \u001b[1;32mNone\u001b[0m\u001b[1;33m:\u001b[0m\u001b[1;33m\u001b[0m\u001b[1;33m\u001b[0m\u001b[0m\n\u001b[1;32m-> 1361\u001b[1;33m             \u001b[1;32mreturn\u001b[0m \u001b[0mfunc\u001b[0m\u001b[1;33m(\u001b[0m\u001b[0max\u001b[0m\u001b[1;33m,\u001b[0m \u001b[1;33m*\u001b[0m\u001b[0mmap\u001b[0m\u001b[1;33m(\u001b[0m\u001b[0msanitize_sequence\u001b[0m\u001b[1;33m,\u001b[0m \u001b[0margs\u001b[0m\u001b[1;33m)\u001b[0m\u001b[1;33m,\u001b[0m \u001b[1;33m**\u001b[0m\u001b[0mkwargs\u001b[0m\u001b[1;33m)\u001b[0m\u001b[1;33m\u001b[0m\u001b[1;33m\u001b[0m\u001b[0m\n\u001b[0m\u001b[0;32m   1362\u001b[0m \u001b[1;33m\u001b[0m\u001b[0m\n\u001b[0;32m   1363\u001b[0m         \u001b[0mbound\u001b[0m \u001b[1;33m=\u001b[0m \u001b[0mnew_sig\u001b[0m\u001b[1;33m.\u001b[0m\u001b[0mbind\u001b[0m\u001b[1;33m(\u001b[0m\u001b[0max\u001b[0m\u001b[1;33m,\u001b[0m \u001b[1;33m*\u001b[0m\u001b[0margs\u001b[0m\u001b[1;33m,\u001b[0m \u001b[1;33m**\u001b[0m\u001b[0mkwargs\u001b[0m\u001b[1;33m)\u001b[0m\u001b[1;33m\u001b[0m\u001b[1;33m\u001b[0m\u001b[0m\n",
      "\u001b[1;32mE:\\_MAGISTER_ACE\\Наука\\test-env\\lib\\site-packages\\matplotlib\\axes\\_axes.py\u001b[0m in \u001b[0;36mhist\u001b[1;34m(self, x, bins, range, density, weights, cumulative, bottom, histtype, align, orientation, rwidth, log, color, label, stacked, **kwargs)\u001b[0m\n\u001b[0;32m   6743\u001b[0m                 \u001b[0m_w\u001b[0m \u001b[1;33m=\u001b[0m \u001b[1;32mNone\u001b[0m\u001b[1;33m\u001b[0m\u001b[1;33m\u001b[0m\u001b[0m\n\u001b[0;32m   6744\u001b[0m             bins = np.histogram_bin_edges(\n\u001b[1;32m-> 6745\u001b[1;33m                 np.concatenate(x), bins, bin_range, _w)\n\u001b[0m\u001b[0;32m   6746\u001b[0m         \u001b[1;32melse\u001b[0m\u001b[1;33m:\u001b[0m\u001b[1;33m\u001b[0m\u001b[1;33m\u001b[0m\u001b[0m\n\u001b[0;32m   6747\u001b[0m             \u001b[0mhist_kwargs\u001b[0m\u001b[1;33m[\u001b[0m\u001b[1;34m'range'\u001b[0m\u001b[1;33m]\u001b[0m \u001b[1;33m=\u001b[0m \u001b[0mbin_range\u001b[0m\u001b[1;33m\u001b[0m\u001b[1;33m\u001b[0m\u001b[0m\n",
      "\u001b[1;32m<__array_function__ internals>\u001b[0m in \u001b[0;36mhistogram_bin_edges\u001b[1;34m(*args, **kwargs)\u001b[0m\n",
      "\u001b[1;32mE:\\_MAGISTER_ACE\\Наука\\test-env\\lib\\site-packages\\numpy\\lib\\histograms.py\u001b[0m in \u001b[0;36mhistogram_bin_edges\u001b[1;34m(a, bins, range, weights)\u001b[0m\n\u001b[0;32m    669\u001b[0m     \"\"\"\n\u001b[0;32m    670\u001b[0m     \u001b[0ma\u001b[0m\u001b[1;33m,\u001b[0m \u001b[0mweights\u001b[0m \u001b[1;33m=\u001b[0m \u001b[0m_ravel_and_check_weights\u001b[0m\u001b[1;33m(\u001b[0m\u001b[0ma\u001b[0m\u001b[1;33m,\u001b[0m \u001b[0mweights\u001b[0m\u001b[1;33m)\u001b[0m\u001b[1;33m\u001b[0m\u001b[1;33m\u001b[0m\u001b[0m\n\u001b[1;32m--> 671\u001b[1;33m     \u001b[0mbin_edges\u001b[0m\u001b[1;33m,\u001b[0m \u001b[0m_\u001b[0m \u001b[1;33m=\u001b[0m \u001b[0m_get_bin_edges\u001b[0m\u001b[1;33m(\u001b[0m\u001b[0ma\u001b[0m\u001b[1;33m,\u001b[0m \u001b[0mbins\u001b[0m\u001b[1;33m,\u001b[0m \u001b[0mrange\u001b[0m\u001b[1;33m,\u001b[0m \u001b[0mweights\u001b[0m\u001b[1;33m)\u001b[0m\u001b[1;33m\u001b[0m\u001b[1;33m\u001b[0m\u001b[0m\n\u001b[0m\u001b[0;32m    672\u001b[0m     \u001b[1;32mreturn\u001b[0m \u001b[0mbin_edges\u001b[0m\u001b[1;33m\u001b[0m\u001b[1;33m\u001b[0m\u001b[0m\n\u001b[0;32m    673\u001b[0m \u001b[1;33m\u001b[0m\u001b[0m\n",
      "\u001b[1;32mE:\\_MAGISTER_ACE\\Наука\\test-env\\lib\\site-packages\\numpy\\lib\\histograms.py\u001b[0m in \u001b[0;36m_get_bin_edges\u001b[1;34m(a, bins, range, weights)\u001b[0m\n\u001b[0;32m    427\u001b[0m             \u001b[1;32mraise\u001b[0m \u001b[0mValueError\u001b[0m\u001b[1;33m(\u001b[0m\u001b[1;34m'`bins` must be positive, when an integer'\u001b[0m\u001b[1;33m)\u001b[0m\u001b[1;33m\u001b[0m\u001b[1;33m\u001b[0m\u001b[0m\n\u001b[0;32m    428\u001b[0m \u001b[1;33m\u001b[0m\u001b[0m\n\u001b[1;32m--> 429\u001b[1;33m         \u001b[0mfirst_edge\u001b[0m\u001b[1;33m,\u001b[0m \u001b[0mlast_edge\u001b[0m \u001b[1;33m=\u001b[0m \u001b[0m_get_outer_edges\u001b[0m\u001b[1;33m(\u001b[0m\u001b[0ma\u001b[0m\u001b[1;33m,\u001b[0m \u001b[0mrange\u001b[0m\u001b[1;33m)\u001b[0m\u001b[1;33m\u001b[0m\u001b[1;33m\u001b[0m\u001b[0m\n\u001b[0m\u001b[0;32m    430\u001b[0m \u001b[1;33m\u001b[0m\u001b[0m\n\u001b[0;32m    431\u001b[0m     \u001b[1;32melif\u001b[0m \u001b[0mnp\u001b[0m\u001b[1;33m.\u001b[0m\u001b[0mndim\u001b[0m\u001b[1;33m(\u001b[0m\u001b[0mbins\u001b[0m\u001b[1;33m)\u001b[0m \u001b[1;33m==\u001b[0m \u001b[1;36m1\u001b[0m\u001b[1;33m:\u001b[0m\u001b[1;33m\u001b[0m\u001b[1;33m\u001b[0m\u001b[0m\n",
      "\u001b[1;32mE:\\_MAGISTER_ACE\\Наука\\test-env\\lib\\site-packages\\numpy\\lib\\histograms.py\u001b[0m in \u001b[0;36m_get_outer_edges\u001b[1;34m(a, range)\u001b[0m\n\u001b[0;32m    325\u001b[0m         \u001b[1;32mif\u001b[0m \u001b[1;32mnot\u001b[0m \u001b[1;33m(\u001b[0m\u001b[0mnp\u001b[0m\u001b[1;33m.\u001b[0m\u001b[0misfinite\u001b[0m\u001b[1;33m(\u001b[0m\u001b[0mfirst_edge\u001b[0m\u001b[1;33m)\u001b[0m \u001b[1;32mand\u001b[0m \u001b[0mnp\u001b[0m\u001b[1;33m.\u001b[0m\u001b[0misfinite\u001b[0m\u001b[1;33m(\u001b[0m\u001b[0mlast_edge\u001b[0m\u001b[1;33m)\u001b[0m\u001b[1;33m)\u001b[0m\u001b[1;33m:\u001b[0m\u001b[1;33m\u001b[0m\u001b[1;33m\u001b[0m\u001b[0m\n\u001b[0;32m    326\u001b[0m             raise ValueError(\n\u001b[1;32m--> 327\u001b[1;33m                 \"autodetected range of [{}, {}] is not finite\".format(first_edge, last_edge))\n\u001b[0m\u001b[0;32m    328\u001b[0m \u001b[1;33m\u001b[0m\u001b[0m\n\u001b[0;32m    329\u001b[0m     \u001b[1;31m# expand empty range to avoid divide by zero\u001b[0m\u001b[1;33m\u001b[0m\u001b[1;33m\u001b[0m\u001b[1;33m\u001b[0m\u001b[0m\n",
      "\u001b[1;31mValueError\u001b[0m: autodetected range of [nan, nan] is not finite"
     ]
    },
    {
     "data": {
      "image/png": "[encoded data removed]",
      "text/plain": [
       "<Figure size 432x288 with 1 Axes>"
      ]
     },
     "metadata": {
      "needs_background": "light"
     },
     "output_type": "display_data"
    }
   ],
   "source": [
    "plt.hist(data);"
   ]
  },
  {
   "cell_type": "code",
   "execution_count": null,
   "id": "handmade-newcastle",
   "metadata": {},
   "outputs": [],
   "source": []
  },
  {
   "cell_type": "code",
   "execution_count": null,
   "id": "continued-nowhere",
   "metadata": {},
   "outputs": [],
   "source": []
  },
  {
   "cell_type": "code",
   "execution_count": null,
   "id": "dangerous-scenario",
   "metadata": {},
   "outputs": [],
   "source": []
  }
 ],
 "metadata": {
  "kernelspec": {
   "display_name": "mcenv",
   "language": "python",
   "name": "mcenv"
  },
  "language_info": {
   "codemirror_mode": {
    "name": "ipython",
    "version": 3
   },
   "file_extension": ".py",
   "mimetype": "text/x-python",
   "name": "python",
   "nbconvert_exporter": "python",
   "pygments_lexer": "ipython3",
   "version": "3.7.9"
  }
 },
 "nbformat": 4,
 "nbformat_minor": 5
}
