{
 "cells": [
  {
   "cell_type": "code",
   "execution_count": 1,
   "id": "located-oklahoma",
   "metadata": {
    "ExecuteTime": {
     "end_time": "2022-06-19T19:22:05.651556Z",
     "start_time": "2022-06-19T19:22:04.763930Z"
    }
   },
   "outputs": [],
   "source": [
    "import os\n",
    "import time\n",
    "import math\n",
    "from datetime import datetime\n",
    "\n",
    "import numpy as np\n",
    "import pandas as pd\n",
    "import scipy as sp\n",
    "from tqdm import tqdm\n",
    "from functools import partial\n",
    "\n",
    "# import tensorflow as tf\n",
    "# import tensorflow_probability as tfp\n",
    "\n",
    "import matplotlib.pyplot as plt\n",
    "%matplotlib inline"
   ]
  },
  {
   "cell_type": "code",
   "execution_count": 2,
   "id": "mature-final",
   "metadata": {
    "ExecuteTime": {
     "end_time": "2022-06-19T18:36:39.305149Z",
     "start_time": "2022-06-19T18:36:39.301159Z"
    }
   },
   "outputs": [],
   "source": [
    "# os.environ[\"CUDA_VISIBLE_DEVICES\"] = \"-1\""
   ]
  },
  {
   "cell_type": "code",
   "execution_count": 3,
   "id": "impressive-instrument",
   "metadata": {
    "ExecuteTime": {
     "end_time": "2022-06-19T18:36:39.310136Z",
     "start_time": "2022-06-19T18:36:39.306190Z"
    }
   },
   "outputs": [],
   "source": [
    "# tf.test.is_gpu_available()"
   ]
  },
  {
   "cell_type": "code",
   "execution_count": 4,
   "id": "advised-engineer",
   "metadata": {
    "ExecuteTime": {
     "end_time": "2022-06-19T18:36:39.317117Z",
     "start_time": "2022-06-19T18:36:39.312131Z"
    }
   },
   "outputs": [],
   "source": [
    "def variance_weighted_result(means, stddevs):\n",
    "    \"\"\" Computes weighted mean and stddev of given means and\n",
    "        stddevs arrays, using Inverse-variance weighting\n",
    "    \"\"\"\n",
    "    assert np.size(means) == np.size(stddevs)\n",
    "    assert means.shape == stddevs.shape\n",
    "    variance = 1./np.sum(1./stddevs**2, axis=-1)\n",
    "    mean = np.sum(means/(stddevs**2), axis=-1)\n",
    "    mean *= variance\n",
    "    return mean, np.sqrt(variance)"
   ]
  },
  {
   "cell_type": "code",
   "execution_count": 5,
   "id": "received-matrix",
   "metadata": {
    "ExecuteTime": {
     "end_time": "2022-06-19T18:36:44.480312Z",
     "start_time": "2022-06-19T18:36:44.474328Z"
    }
   },
   "outputs": [],
   "source": [
    "def compute_stats(values):\n",
    "    mean = sum(values) / len(values)\n",
    "    var_unb = sum((v - mean) ** 2 for v in values) / (len(values) - 1)\n",
    "    return mean, math.sqrt(var_unb)\n",
    "\n",
    "\n",
    "def compute_stats_np(values):\n",
    "    mean = np.mean(values)\n",
    "    var_unb = np.sum((values - mean) ** 2) / (len(values) - 1)\n",
    "    return mean, math.sqrt(var_unb)"
   ]
  },
  {
   "cell_type": "code",
   "execution_count": 6,
   "id": "simple-restriction",
   "metadata": {
    "ExecuteTime": {
     "end_time": "2022-06-19T18:36:50.606932Z",
     "start_time": "2022-06-19T18:36:50.603941Z"
    }
   },
   "outputs": [],
   "source": [
    "NRUNS = 5"
   ]
  },
  {
   "cell_type": "markdown",
   "id": "guided-miami",
   "metadata": {},
   "source": [
    "### F1 - simple gauss"
   ]
  },
  {
   "cell_type": "code",
   "execution_count": 7,
   "id": "empirical-physiology",
   "metadata": {
    "ExecuteTime": {
     "end_time": "2022-06-19T18:36:57.899434Z",
     "start_time": "2022-06-19T18:36:55.866869Z"
    }
   },
   "outputs": [
    {
     "data": {
      "text/plain": [
       "{'f1_d2': 1.0, 'f1_d4': 1.0, 'f1_d6': 1.0, 'f1_d8': 1.0}"
      ]
     },
     "execution_count": 7,
     "metadata": {},
     "output_type": "execute_result"
    }
   ],
   "source": [
    "import scipy.stats as spt\n",
    "\n",
    "target = 1\n",
    "target_precision = 1e-3\n",
    "\n",
    "norm_dist = spt.norm(loc=0.5, scale=0.01)\n",
    "\n",
    "prefix = 'f1'\n",
    "\n",
    "target_dict = {\n",
    "    'f1_d2': (norm_dist.cdf(1) - norm_dist.cdf(0)) ** 2,\n",
    "    'f1_d4': (norm_dist.cdf(1) - norm_dist.cdf(0)) ** 4,\n",
    "    'f1_d6': (norm_dist.cdf(1) - norm_dist.cdf(0)) ** 6,\n",
    "    'f1_d8': (norm_dist.cdf(1) - norm_dist.cdf(0)) ** 8,\n",
    "}\n",
    "target_dict"
   ]
  },
  {
   "cell_type": "code",
   "execution_count": 8,
   "id": "spread-packet",
   "metadata": {
    "ExecuteTime": {
     "end_time": "2022-06-19T18:37:27.632939Z",
     "start_time": "2022-06-19T18:37:27.626955Z"
    }
   },
   "outputs": [],
   "source": [
    "sigma = 0.01\n",
    "alpha = sigma * math.sqrt(2)\n",
    "\n",
    "\n",
    "def f1_np(x, ndims):\n",
    "    pre = 1.0 / (alpha * math.sqrt(math.pi)) ** ndims\n",
    "    exponent = -1 * np.sum((x - .5) ** 2, axis=-1) / alpha ** 2\n",
    "    return pre * np.exp(exponent)\n",
    "\n",
    "def f1(x, ndims):\n",
    "    pre = 1.0 / (alpha * math.sqrt(math.pi)) ** ndims\n",
    "    exponent = -1 * sum((t - .5) ** 2 for t in x) / alpha ** 2\n",
    "    return pre * math.exp(exponent)"
   ]
  },
  {
   "cell_type": "code",
   "execution_count": 9,
   "id": "strong-toolbox",
   "metadata": {
    "ExecuteTime": {
     "end_time": "2022-06-19T18:37:31.048806Z",
     "start_time": "2022-06-19T18:37:31.042822Z"
    }
   },
   "outputs": [
    {
     "data": {
      "text/plain": [
       "{2: functools.partial(<function f1_np at 0x0000021A3ED128B8>, ndims=2),\n",
       " 4: functools.partial(<function f1_np at 0x0000021A3ED128B8>, ndims=4),\n",
       " 6: functools.partial(<function f1_np at 0x0000021A3ED128B8>, ndims=6),\n",
       " 8: functools.partial(<function f1_np at 0x0000021A3ED128B8>, ndims=8)}"
      ]
     },
     "execution_count": 9,
     "metadata": {},
     "output_type": "execute_result"
    }
   ],
   "source": [
    "dim2func_dict = {\n",
    "    2: partial(f1_np, ndims=2),\n",
    "    4: partial(f1_np, ndims=4),\n",
    "    6: partial(f1_np, ndims=6),\n",
    "    8: partial(f1_np, ndims=8),\n",
    "}\n",
    "dim2func_dict"
   ]
  },
  {
   "cell_type": "markdown",
   "id": "instrumental-camera",
   "metadata": {},
   "source": [
    "#### Uniform"
   ]
  },
  {
   "cell_type": "code",
   "execution_count": 11,
   "id": "combined-killer",
   "metadata": {
    "ExecuteTime": {
     "end_time": "2022-06-19T18:38:27.456991Z",
     "start_time": "2022-06-19T18:38:01.466480Z"
    },
    "scrolled": true
   },
   "outputs": [
    {
     "name": "stdout",
     "output_type": "stream",
     "text": [
      "run=1\n",
      "ndims=2  neval=10000\n",
      "ndims=2  neval=100000\n",
      "ndims=2  neval=1000000\n",
      "ndims=2  neval=10000000\n",
      "ndims=4  neval=10000\n",
      "ndims=4  neval=100000\n",
      "ndims=4  neval=1000000\n",
      "ndims=4  neval=10000000\n",
      "ndims=6  neval=10000\n",
      "ndims=6  neval=100000\n",
      "ndims=6  neval=1000000\n",
      "ndims=6  neval=10000000\n",
      "ndims=8  neval=10000\n",
      "ndims=8  neval=100000\n",
      "ndims=8  neval=1000000\n",
      "ndims=8  neval=10000000\n",
      "run=2\n",
      "ndims=2  neval=10000\n",
      "ndims=2  neval=100000\n",
      "ndims=2  neval=1000000\n",
      "ndims=2  neval=10000000\n",
      "ndims=4  neval=10000\n",
      "ndims=4  neval=100000\n",
      "ndims=4  neval=1000000\n",
      "ndims=4  neval=10000000\n",
      "ndims=6  neval=10000\n",
      "ndims=6  neval=100000\n",
      "ndims=6  neval=1000000\n",
      "ndims=6  neval=10000000\n",
      "ndims=8  neval=10000\n",
      "ndims=8  neval=100000\n",
      "ndims=8  neval=1000000\n",
      "ndims=8  neval=10000000\n",
      "run=3\n",
      "ndims=2  neval=10000\n",
      "ndims=2  neval=100000\n",
      "ndims=2  neval=1000000\n",
      "ndims=2  neval=10000000\n",
      "ndims=4  neval=10000\n",
      "ndims=4  neval=100000\n",
      "ndims=4  neval=1000000\n",
      "ndims=4  neval=10000000\n",
      "ndims=6  neval=10000\n",
      "ndims=6  neval=100000\n",
      "ndims=6  neval=1000000\n",
      "ndims=6  neval=10000000\n",
      "ndims=8  neval=10000\n",
      "ndims=8  neval=100000\n",
      "ndims=8  neval=1000000\n",
      "ndims=8  neval=10000000\n",
      "run=4\n",
      "ndims=2  neval=10000\n",
      "ndims=2  neval=100000\n",
      "ndims=2  neval=1000000\n",
      "ndims=2  neval=10000000\n",
      "ndims=4  neval=10000\n",
      "ndims=4  neval=100000\n",
      "ndims=4  neval=1000000\n",
      "ndims=4  neval=10000000\n",
      "ndims=6  neval=10000\n",
      "ndims=6  neval=100000\n",
      "ndims=6  neval=1000000\n",
      "ndims=6  neval=10000000\n",
      "ndims=8  neval=10000\n",
      "ndims=8  neval=100000\n",
      "ndims=8  neval=1000000\n",
      "ndims=8  neval=10000000\n",
      "run=5\n",
      "ndims=2  neval=10000\n",
      "ndims=2  neval=100000\n",
      "ndims=2  neval=1000000\n",
      "ndims=2  neval=10000000\n",
      "ndims=4  neval=10000\n",
      "ndims=4  neval=100000\n",
      "ndims=4  neval=1000000\n",
      "ndims=4  neval=10000000\n",
      "ndims=6  neval=10000\n",
      "ndims=6  neval=100000\n",
      "ndims=6  neval=1000000\n",
      "ndims=6  neval=10000000\n",
      "ndims=8  neval=10000\n",
      "ndims=8  neval=100000\n",
      "ndims=8  neval=1000000\n",
      "ndims=8  neval=10000000\n",
      "Wall time: 26 s\n"
     ]
    }
   ],
   "source": [
    "%%time\n",
    "np.random.seed(123)\n",
    "\n",
    "result_means = []\n",
    "result_sdevs = []\n",
    "result_gen_times = []\n",
    "result_eval_times = []\n",
    "result_run_nums = []\n",
    "\n",
    "ndims_lst = [2, 4, 6, 8]\n",
    "neval_lst = list(map(int, [1e4, 1e5, 1e6, 1e7]))\n",
    "run_lst = list(range(1, NRUNS+1))\n",
    "\n",
    "for run in run_lst:\n",
    "    \n",
    "    print(f'run={run}')\n",
    "    for ndims in ndims_lst:\n",
    "        \n",
    "        integrand_np = dim2func_dict[ndims]\n",
    "        for neval in neval_lst:\n",
    "\n",
    "            print(f'ndims={ndims}  neval={neval}')\n",
    "\n",
    "            time_a = time.time()\n",
    "            data = np.random.random(size=(neval, ndims))\n",
    "            gen_time = time.time() - time_a\n",
    "            \n",
    "            time_a = time.time()\n",
    "            values = integrand_np(data)\n",
    "            mean, std = compute_stats_np(values)\n",
    "            error = std / math.sqrt(neval)\n",
    "            eval_time = time.time() - time_a\n",
    "            \n",
    "            result_means.append(mean)\n",
    "            result_sdevs.append(error)\n",
    "            result_gen_times.append(gen_time)\n",
    "            result_eval_times.append(eval_time)\n",
    "            result_run_nums.append(run)"
   ]
  },
  {
   "cell_type": "code",
   "execution_count": 17,
   "id": "bored-workstation",
   "metadata": {
    "ExecuteTime": {
     "end_time": "2022-06-19T18:39:04.145899Z",
     "start_time": "2022-06-19T18:39:04.138917Z"
    }
   },
   "outputs": [],
   "source": [
    "temp_df = pd.DataFrame({\n",
    "    'ndims': sorted(ndims_lst * len(neval_lst)) * len(run_lst),\n",
    "    'neval': sorted(neval_lst) * len(ndims_lst) * len(run_lst),\n",
    "    'result_mean': result_means,\n",
    "    'result_sdev': result_sdevs,\n",
    "    'result_gen_time': result_gen_times,\n",
    "    'result_eval_time': result_eval_times,\n",
    "    'run_num': result_run_nums,\n",
    "})\n",
    "temp_df['eval_time_perc'] = (temp_df.result_eval_time / (temp_df.result_gen_time + temp_df.result_eval_time)).round(2)\n",
    "temp_df['total_time'] = temp_df.result_gen_time + temp_df.result_eval_time"
   ]
  },
  {
   "cell_type": "code",
   "execution_count": 18,
   "id": "grateful-diploma",
   "metadata": {
    "ExecuteTime": {
     "end_time": "2022-06-19T18:39:04.400218Z",
     "start_time": "2022-06-19T18:39:04.387253Z"
    },
    "scrolled": false
   },
   "outputs": [
    {
     "data": {
      "text/html": [
       "<div>\n",
       "<style scoped>\n",
       "    .dataframe tbody tr th:only-of-type {\n",
       "        vertical-align: middle;\n",
       "    }\n",
       "\n",
       "    .dataframe tbody tr th {\n",
       "        vertical-align: top;\n",
       "    }\n",
       "\n",
       "    .dataframe thead th {\n",
       "        text-align: right;\n",
       "    }\n",
       "</style>\n",
       "<table border=\"1\" class=\"dataframe\">\n",
       "  <thead>\n",
       "    <tr style=\"text-align: right;\">\n",
       "      <th></th>\n",
       "      <th>ndims</th>\n",
       "      <th>neval</th>\n",
       "      <th>result_mean</th>\n",
       "      <th>result_sdev</th>\n",
       "      <th>result_gen_time</th>\n",
       "      <th>result_eval_time</th>\n",
       "      <th>run_num</th>\n",
       "      <th>eval_time_perc</th>\n",
       "      <th>total_time</th>\n",
       "    </tr>\n",
       "  </thead>\n",
       "  <tbody>\n",
       "    <tr>\n",
       "      <th>0</th>\n",
       "      <td>2</td>\n",
       "      <td>10000</td>\n",
       "      <td>8.695566e-01</td>\n",
       "      <td>2.389052e-01</td>\n",
       "      <td>0.000000</td>\n",
       "      <td>0.000998</td>\n",
       "      <td>1</td>\n",
       "      <td>1.00</td>\n",
       "      <td>0.000998</td>\n",
       "    </tr>\n",
       "    <tr>\n",
       "      <th>1</th>\n",
       "      <td>2</td>\n",
       "      <td>100000</td>\n",
       "      <td>9.867377e-01</td>\n",
       "      <td>8.570580e-02</td>\n",
       "      <td>0.001993</td>\n",
       "      <td>0.004987</td>\n",
       "      <td>1</td>\n",
       "      <td>0.71</td>\n",
       "      <td>0.006981</td>\n",
       "    </tr>\n",
       "    <tr>\n",
       "      <th>2</th>\n",
       "      <td>2</td>\n",
       "      <td>1000000</td>\n",
       "      <td>9.695893e-01</td>\n",
       "      <td>2.725944e-02</td>\n",
       "      <td>0.012965</td>\n",
       "      <td>0.059840</td>\n",
       "      <td>1</td>\n",
       "      <td>0.82</td>\n",
       "      <td>0.072805</td>\n",
       "    </tr>\n",
       "    <tr>\n",
       "      <th>3</th>\n",
       "      <td>2</td>\n",
       "      <td>10000000</td>\n",
       "      <td>1.005652e+00</td>\n",
       "      <td>8.950975e-03</td>\n",
       "      <td>0.129653</td>\n",
       "      <td>0.603386</td>\n",
       "      <td>1</td>\n",
       "      <td>0.82</td>\n",
       "      <td>0.733040</td>\n",
       "    </tr>\n",
       "    <tr>\n",
       "      <th>4</th>\n",
       "      <td>4</td>\n",
       "      <td>10000</td>\n",
       "      <td>7.461582e-06</td>\n",
       "      <td>7.322690e-06</td>\n",
       "      <td>0.008976</td>\n",
       "      <td>0.004987</td>\n",
       "      <td>1</td>\n",
       "      <td>0.36</td>\n",
       "      <td>0.013963</td>\n",
       "    </tr>\n",
       "    <tr>\n",
       "      <th>...</th>\n",
       "      <td>...</td>\n",
       "      <td>...</td>\n",
       "      <td>...</td>\n",
       "      <td>...</td>\n",
       "      <td>...</td>\n",
       "      <td>...</td>\n",
       "      <td>...</td>\n",
       "      <td>...</td>\n",
       "      <td>...</td>\n",
       "    </tr>\n",
       "    <tr>\n",
       "      <th>75</th>\n",
       "      <td>6</td>\n",
       "      <td>10000000</td>\n",
       "      <td>8.914884e-04</td>\n",
       "      <td>8.006489e-04</td>\n",
       "      <td>0.397936</td>\n",
       "      <td>0.900592</td>\n",
       "      <td>5</td>\n",
       "      <td>0.69</td>\n",
       "      <td>1.298528</td>\n",
       "    </tr>\n",
       "    <tr>\n",
       "      <th>76</th>\n",
       "      <td>8</td>\n",
       "      <td>10000</td>\n",
       "      <td>4.047839e-95</td>\n",
       "      <td>4.047839e-95</td>\n",
       "      <td>0.030918</td>\n",
       "      <td>0.007978</td>\n",
       "      <td>5</td>\n",
       "      <td>0.21</td>\n",
       "      <td>0.038896</td>\n",
       "    </tr>\n",
       "    <tr>\n",
       "      <th>77</th>\n",
       "      <td>8</td>\n",
       "      <td>100000</td>\n",
       "      <td>2.671273e-40</td>\n",
       "      <td>2.670691e-40</td>\n",
       "      <td>0.005984</td>\n",
       "      <td>0.008976</td>\n",
       "      <td>5</td>\n",
       "      <td>0.60</td>\n",
       "      <td>0.014961</td>\n",
       "    </tr>\n",
       "    <tr>\n",
       "      <th>78</th>\n",
       "      <td>8</td>\n",
       "      <td>1000000</td>\n",
       "      <td>3.975166e-43</td>\n",
       "      <td>3.975166e-43</td>\n",
       "      <td>0.052858</td>\n",
       "      <td>0.098737</td>\n",
       "      <td>5</td>\n",
       "      <td>0.65</td>\n",
       "      <td>0.151595</td>\n",
       "    </tr>\n",
       "    <tr>\n",
       "      <th>79</th>\n",
       "      <td>8</td>\n",
       "      <td>10000000</td>\n",
       "      <td>4.665391e-16</td>\n",
       "      <td>4.665391e-16</td>\n",
       "      <td>0.527588</td>\n",
       "      <td>0.993345</td>\n",
       "      <td>5</td>\n",
       "      <td>0.65</td>\n",
       "      <td>1.520934</td>\n",
       "    </tr>\n",
       "  </tbody>\n",
       "</table>\n",
       "<p>80 rows × 9 columns</p>\n",
       "</div>"
      ],
      "text/plain": [
       "    ndims     neval   result_mean   result_sdev  result_gen_time  \\\n",
       "0       2     10000  8.695566e-01  2.389052e-01         0.000000   \n",
       "1       2    100000  9.867377e-01  8.570580e-02         0.001993   \n",
       "2       2   1000000  9.695893e-01  2.725944e-02         0.012965   \n",
       "3       2  10000000  1.005652e+00  8.950975e-03         0.129653   \n",
       "4       4     10000  7.461582e-06  7.322690e-06         0.008976   \n",
       "..    ...       ...           ...           ...              ...   \n",
       "75      6  10000000  8.914884e-04  8.006489e-04         0.397936   \n",
       "76      8     10000  4.047839e-95  4.047839e-95         0.030918   \n",
       "77      8    100000  2.671273e-40  2.670691e-40         0.005984   \n",
       "78      8   1000000  3.975166e-43  3.975166e-43         0.052858   \n",
       "79      8  10000000  4.665391e-16  4.665391e-16         0.527588   \n",
       "\n",
       "    result_eval_time  run_num  eval_time_perc  total_time  \n",
       "0           0.000998        1            1.00    0.000998  \n",
       "1           0.004987        1            0.71    0.006981  \n",
       "2           0.059840        1            0.82    0.072805  \n",
       "3           0.603386        1            0.82    0.733040  \n",
       "4           0.004987        1            0.36    0.013963  \n",
       "..               ...      ...             ...         ...  \n",
       "75          0.900592        5            0.69    1.298528  \n",
       "76          0.007978        5            0.21    0.038896  \n",
       "77          0.008976        5            0.60    0.014961  \n",
       "78          0.098737        5            0.65    0.151595  \n",
       "79          0.993345        5            0.65    1.520934  \n",
       "\n",
       "[80 rows x 9 columns]"
      ]
     },
     "execution_count": 18,
     "metadata": {},
     "output_type": "execute_result"
    }
   ],
   "source": [
    "temp_df"
   ]
  },
  {
   "cell_type": "code",
   "execution_count": 19,
   "id": "theoretical-literacy",
   "metadata": {
    "ExecuteTime": {
     "end_time": "2022-06-19T18:39:06.031855Z",
     "start_time": "2022-06-19T18:39:06.026869Z"
    },
    "scrolled": true
   },
   "outputs": [],
   "source": [
    "os.makedirs('result/02_NaiveNumpy', exist_ok=True)\n",
    "temp_df.to_csv('result/02_NaiveNumpy/f1_uniform_new.csv', index=False)"
   ]
  },
  {
   "cell_type": "code",
   "execution_count": 2,
   "id": "possible-fireplace",
   "metadata": {
    "ExecuteTime": {
     "end_time": "2022-06-19T19:22:08.993621Z",
     "start_time": "2022-06-19T19:22:08.987638Z"
    }
   },
   "outputs": [],
   "source": [
    "# temp_df = pd.read_csv('result/02_NaiveNumpy/f1_uniform_new.csv')"
   ]
  },
  {
   "cell_type": "code",
   "execution_count": 21,
   "id": "unexpected-guard",
   "metadata": {
    "ExecuteTime": {
     "end_time": "2022-06-19T18:39:06.791824Z",
     "start_time": "2022-06-19T18:39:06.786837Z"
    }
   },
   "outputs": [],
   "source": [
    "g_temp_df = temp_df.groupby(['ndims', 'neval'], as_index=False)\n",
    "g_temp_df = g_temp_df[['result_mean',\n",
    "                       'result_sdev',\n",
    "                       'result_gen_time',\n",
    "                       'result_eval_time',\n",
    "                       'total_time',\n",
    "                       'eval_time_perc']]"
   ]
  },
  {
   "cell_type": "code",
   "execution_count": 22,
   "id": "thermal-mainstream",
   "metadata": {
    "ExecuteTime": {
     "end_time": "2022-06-19T18:39:08.501259Z",
     "start_time": "2022-06-19T18:39:08.442410Z"
    }
   },
   "outputs": [
    {
     "data": {
      "text/html": [
       "<div>\n",
       "<style scoped>\n",
       "    .dataframe tbody tr th:only-of-type {\n",
       "        vertical-align: middle;\n",
       "    }\n",
       "\n",
       "    .dataframe tbody tr th {\n",
       "        vertical-align: top;\n",
       "    }\n",
       "\n",
       "    .dataframe thead th {\n",
       "        text-align: right;\n",
       "    }\n",
       "</style>\n",
       "<table border=\"1\" class=\"dataframe\">\n",
       "  <thead>\n",
       "    <tr style=\"text-align: right;\">\n",
       "      <th></th>\n",
       "      <th>ndims</th>\n",
       "      <th>neval</th>\n",
       "      <th>result_mean</th>\n",
       "      <th>result_sdev</th>\n",
       "      <th>result_gen_time</th>\n",
       "      <th>result_eval_time</th>\n",
       "      <th>total_time</th>\n",
       "      <th>eval_time_perc</th>\n",
       "    </tr>\n",
       "  </thead>\n",
       "  <tbody>\n",
       "    <tr>\n",
       "      <th>0</th>\n",
       "      <td>2</td>\n",
       "      <td>10000</td>\n",
       "      <td>1.040895e+00</td>\n",
       "      <td>2.928311e-01</td>\n",
       "      <td>0.035306</td>\n",
       "      <td>0.007181</td>\n",
       "      <td>0.042487</td>\n",
       "      <td>0.334</td>\n",
       "    </tr>\n",
       "    <tr>\n",
       "      <th>1</th>\n",
       "      <td>2</td>\n",
       "      <td>100000</td>\n",
       "      <td>1.003141e+00</td>\n",
       "      <td>8.898626e-02</td>\n",
       "      <td>0.001396</td>\n",
       "      <td>0.005186</td>\n",
       "      <td>0.006582</td>\n",
       "      <td>0.788</td>\n",
       "    </tr>\n",
       "    <tr>\n",
       "      <th>2</th>\n",
       "      <td>2</td>\n",
       "      <td>1000000</td>\n",
       "      <td>9.861288e-01</td>\n",
       "      <td>2.782691e-02</td>\n",
       "      <td>0.013364</td>\n",
       "      <td>0.060439</td>\n",
       "      <td>0.073803</td>\n",
       "      <td>0.816</td>\n",
       "    </tr>\n",
       "    <tr>\n",
       "      <th>3</th>\n",
       "      <td>2</td>\n",
       "      <td>10000000</td>\n",
       "      <td>1.005230e+00</td>\n",
       "      <td>8.957117e-03</td>\n",
       "      <td>0.131449</td>\n",
       "      <td>0.605182</td>\n",
       "      <td>0.736630</td>\n",
       "      <td>0.820</td>\n",
       "    </tr>\n",
       "    <tr>\n",
       "      <th>4</th>\n",
       "      <td>4</td>\n",
       "      <td>10000</td>\n",
       "      <td>4.526741e-06</td>\n",
       "      <td>4.498963e-06</td>\n",
       "      <td>0.009575</td>\n",
       "      <td>0.005585</td>\n",
       "      <td>0.015160</td>\n",
       "      <td>0.366</td>\n",
       "    </tr>\n",
       "    <tr>\n",
       "      <th>5</th>\n",
       "      <td>4</td>\n",
       "      <td>100000</td>\n",
       "      <td>1.711524e-01</td>\n",
       "      <td>1.688144e-01</td>\n",
       "      <td>0.002992</td>\n",
       "      <td>0.006383</td>\n",
       "      <td>0.009375</td>\n",
       "      <td>0.682</td>\n",
       "    </tr>\n",
       "    <tr>\n",
       "      <th>6</th>\n",
       "      <td>4</td>\n",
       "      <td>1000000</td>\n",
       "      <td>9.199027e-01</td>\n",
       "      <td>4.572134e-01</td>\n",
       "      <td>0.026330</td>\n",
       "      <td>0.075797</td>\n",
       "      <td>0.102127</td>\n",
       "      <td>0.742</td>\n",
       "    </tr>\n",
       "    <tr>\n",
       "      <th>7</th>\n",
       "      <td>4</td>\n",
       "      <td>10000000</td>\n",
       "      <td>1.190456e+00</td>\n",
       "      <td>2.900121e-01</td>\n",
       "      <td>0.263495</td>\n",
       "      <td>0.767548</td>\n",
       "      <td>1.031043</td>\n",
       "      <td>0.744</td>\n",
       "    </tr>\n",
       "    <tr>\n",
       "      <th>8</th>\n",
       "      <td>6</td>\n",
       "      <td>10000</td>\n",
       "      <td>6.736172e-32</td>\n",
       "      <td>5.259553e-32</td>\n",
       "      <td>0.019747</td>\n",
       "      <td>0.007779</td>\n",
       "      <td>0.027526</td>\n",
       "      <td>0.286</td>\n",
       "    </tr>\n",
       "    <tr>\n",
       "      <th>9</th>\n",
       "      <td>6</td>\n",
       "      <td>100000</td>\n",
       "      <td>5.357065e-17</td>\n",
       "      <td>5.357065e-17</td>\n",
       "      <td>0.003989</td>\n",
       "      <td>0.007979</td>\n",
       "      <td>0.011968</td>\n",
       "      <td>0.668</td>\n",
       "    </tr>\n",
       "    <tr>\n",
       "      <th>10</th>\n",
       "      <td>6</td>\n",
       "      <td>1000000</td>\n",
       "      <td>3.880213e-02</td>\n",
       "      <td>3.880213e-02</td>\n",
       "      <td>0.039694</td>\n",
       "      <td>0.088962</td>\n",
       "      <td>0.128656</td>\n",
       "      <td>0.690</td>\n",
       "    </tr>\n",
       "    <tr>\n",
       "      <th>11</th>\n",
       "      <td>6</td>\n",
       "      <td>10000000</td>\n",
       "      <td>9.635598e-02</td>\n",
       "      <td>9.533614e-02</td>\n",
       "      <td>0.397138</td>\n",
       "      <td>0.893212</td>\n",
       "      <td>1.290350</td>\n",
       "      <td>0.690</td>\n",
       "    </tr>\n",
       "    <tr>\n",
       "      <th>12</th>\n",
       "      <td>8</td>\n",
       "      <td>10000</td>\n",
       "      <td>1.027777e-95</td>\n",
       "      <td>1.027777e-95</td>\n",
       "      <td>0.031316</td>\n",
       "      <td>0.007380</td>\n",
       "      <td>0.038696</td>\n",
       "      <td>0.194</td>\n",
       "    </tr>\n",
       "    <tr>\n",
       "      <th>13</th>\n",
       "      <td>8</td>\n",
       "      <td>100000</td>\n",
       "      <td>5.342546e-41</td>\n",
       "      <td>5.341381e-41</td>\n",
       "      <td>0.005785</td>\n",
       "      <td>0.008976</td>\n",
       "      <td>0.014761</td>\n",
       "      <td>0.608</td>\n",
       "    </tr>\n",
       "    <tr>\n",
       "      <th>14</th>\n",
       "      <td>8</td>\n",
       "      <td>1000000</td>\n",
       "      <td>2.302180e-18</td>\n",
       "      <td>2.302180e-18</td>\n",
       "      <td>0.052859</td>\n",
       "      <td>0.098936</td>\n",
       "      <td>0.151794</td>\n",
       "      <td>0.652</td>\n",
       "    </tr>\n",
       "    <tr>\n",
       "      <th>15</th>\n",
       "      <td>8</td>\n",
       "      <td>10000000</td>\n",
       "      <td>4.012332e-12</td>\n",
       "      <td>4.012331e-12</td>\n",
       "      <td>0.525794</td>\n",
       "      <td>0.989754</td>\n",
       "      <td>1.515548</td>\n",
       "      <td>0.650</td>\n",
       "    </tr>\n",
       "  </tbody>\n",
       "</table>\n",
       "</div>"
      ],
      "text/plain": [
       "    ndims     neval   result_mean   result_sdev  result_gen_time  \\\n",
       "0       2     10000  1.040895e+00  2.928311e-01         0.035306   \n",
       "1       2    100000  1.003141e+00  8.898626e-02         0.001396   \n",
       "2       2   1000000  9.861288e-01  2.782691e-02         0.013364   \n",
       "3       2  10000000  1.005230e+00  8.957117e-03         0.131449   \n",
       "4       4     10000  4.526741e-06  4.498963e-06         0.009575   \n",
       "5       4    100000  1.711524e-01  1.688144e-01         0.002992   \n",
       "6       4   1000000  9.199027e-01  4.572134e-01         0.026330   \n",
       "7       4  10000000  1.190456e+00  2.900121e-01         0.263495   \n",
       "8       6     10000  6.736172e-32  5.259553e-32         0.019747   \n",
       "9       6    100000  5.357065e-17  5.357065e-17         0.003989   \n",
       "10      6   1000000  3.880213e-02  3.880213e-02         0.039694   \n",
       "11      6  10000000  9.635598e-02  9.533614e-02         0.397138   \n",
       "12      8     10000  1.027777e-95  1.027777e-95         0.031316   \n",
       "13      8    100000  5.342546e-41  5.341381e-41         0.005785   \n",
       "14      8   1000000  2.302180e-18  2.302180e-18         0.052859   \n",
       "15      8  10000000  4.012332e-12  4.012331e-12         0.525794   \n",
       "\n",
       "    result_eval_time  total_time  eval_time_perc  \n",
       "0           0.007181    0.042487           0.334  \n",
       "1           0.005186    0.006582           0.788  \n",
       "2           0.060439    0.073803           0.816  \n",
       "3           0.605182    0.736630           0.820  \n",
       "4           0.005585    0.015160           0.366  \n",
       "5           0.006383    0.009375           0.682  \n",
       "6           0.075797    0.102127           0.742  \n",
       "7           0.767548    1.031043           0.744  \n",
       "8           0.007779    0.027526           0.286  \n",
       "9           0.007979    0.011968           0.668  \n",
       "10          0.088962    0.128656           0.690  \n",
       "11          0.893212    1.290350           0.690  \n",
       "12          0.007380    0.038696           0.194  \n",
       "13          0.008976    0.014761           0.608  \n",
       "14          0.098936    0.151794           0.652  \n",
       "15          0.989754    1.515548           0.650  "
      ]
     },
     "execution_count": 22,
     "metadata": {},
     "output_type": "execute_result"
    }
   ],
   "source": [
    "g_temp_df = g_temp_df.agg(np.mean)\n",
    "g_temp_df"
   ]
  },
  {
   "cell_type": "code",
   "execution_count": 23,
   "id": "efficient-field",
   "metadata": {
    "ExecuteTime": {
     "end_time": "2022-06-19T18:39:25.128797Z",
     "start_time": "2022-06-19T18:39:24.603203Z"
    }
   },
   "outputs": [
    {
     "data": {
      "image/png": "[encoded data removed]",
      "text/plain": [
       "<Figure size 720x720 with 4 Axes>"
      ]
     },
     "metadata": {
      "needs_background": "light"
     },
     "output_type": "display_data"
    }
   ],
   "source": [
    "# result_mean vs samples for each dim\n",
    "\n",
    "fig = plt.figure(figsize=(10,10))\n",
    "\n",
    "for i, ndims in enumerate(ndims_lst):\n",
    "    plot_data = temp_df[temp_df.ndims == ndims].groupby('neval')['result_mean'].apply(lambda x: x.tolist())\n",
    "    ax = fig.add_subplot(2,2,i+1)\n",
    "    ax.axhline(y=target_dict[f'{prefix}_d{ndims}'], linestyle=':')\n",
    "    ax.set_title(f'D = {ndims}')\n",
    "    if i > 1:\n",
    "        ax.set_xlabel('N')\n",
    "    if i % 2 == 0:\n",
    "        ax.set_ylabel('Mean')\n",
    "    ax.boxplot(plot_data, labels=['1e4', '1e5', '1e6', '1e7'], showfliers=False)"
   ]
  },
  {
   "cell_type": "code",
   "execution_count": 24,
   "id": "oriental-protein",
   "metadata": {
    "ExecuteTime": {
     "end_time": "2022-06-19T18:39:37.501717Z",
     "start_time": "2022-06-19T18:39:37.498725Z"
    }
   },
   "outputs": [],
   "source": [
    "# fig.savefig('result/02_NaivePython/f1_uniform_mean_new.png')"
   ]
  },
  {
   "cell_type": "code",
   "execution_count": 25,
   "id": "distant-portrait",
   "metadata": {
    "ExecuteTime": {
     "end_time": "2022-06-19T18:39:39.983082Z",
     "start_time": "2022-06-19T18:39:39.658950Z"
    }
   },
   "outputs": [
    {
     "data": {
      "image/png": "[encoded data removed]",
      "text/plain": [
       "<Figure size 720x720 with 4 Axes>"
      ]
     },
     "metadata": {
      "needs_background": "light"
     },
     "output_type": "display_data"
    }
   ],
   "source": [
    "# sdev vs samples for each dim\n",
    "\n",
    "fig = plt.figure(figsize=(10,10))\n",
    "\n",
    "for i, ndims in enumerate(ndims_lst):\n",
    "    plot_data = temp_df[temp_df.ndims == ndims].groupby('neval')['result_sdev'].apply(lambda x: x.tolist())\n",
    "    ax = fig.add_subplot(2,2,i+1)\n",
    "    ax.axhline(y=0, linestyle=':')\n",
    "    ax.set_title(f'D = {ndims}')\n",
    "    if i > 1:\n",
    "        ax.set_xlabel('N')\n",
    "    if i % 2 == 0:\n",
    "        ax.set_ylabel('Std. Error')\n",
    "    ax.boxplot(plot_data, labels=['1e4', '1e5', '1e6', '1e7'], showfliers=False)"
   ]
  },
  {
   "cell_type": "code",
   "execution_count": 26,
   "id": "maritime-victoria",
   "metadata": {
    "ExecuteTime": {
     "end_time": "2022-06-19T18:39:44.054198Z",
     "start_time": "2022-06-19T18:39:44.051206Z"
    }
   },
   "outputs": [],
   "source": [
    "# fig.savefig('result/02_NaivePython/f1_uniform_error_new.png')"
   ]
  },
  {
   "cell_type": "code",
   "execution_count": 27,
   "id": "floating-sympathy",
   "metadata": {
    "ExecuteTime": {
     "end_time": "2022-06-19T18:39:45.093419Z",
     "start_time": "2022-06-19T18:39:44.779259Z"
    }
   },
   "outputs": [
    {
     "data": {
      "image/png": "[encoded data removed]",
      "text/plain": [
       "<Figure size 1440x288 with 4 Axes>"
      ]
     },
     "metadata": {
      "needs_background": "light"
     },
     "output_type": "display_data"
    }
   ],
   "source": [
    "# eval_time_perc vs samples for each dim\n",
    "\n",
    "fig = plt.figure(figsize=(20,4))\n",
    "\n",
    "for i, ndims in enumerate(ndims_lst):\n",
    "    plot_data = temp_df[temp_df.ndims == ndims].groupby('neval')['eval_time_perc'].apply(lambda x: x.tolist())\n",
    "    ax = fig.add_subplot(1,len(ndims_lst),i+1)\n",
    "    ax.set_title(f'D = {ndims}')\n",
    "    ax.set_xlabel('N')\n",
    "    if i == 0:\n",
    "        ax.set_ylabel('Eval. time (perc.)')\n",
    "    ax.boxplot(plot_data, labels=['1e4', '1e5', '1e6', '1e7'], showfliers=None)"
   ]
  },
  {
   "cell_type": "code",
   "execution_count": 28,
   "id": "assigned-porcelain",
   "metadata": {
    "ExecuteTime": {
     "end_time": "2022-06-19T18:39:47.807164Z",
     "start_time": "2022-06-19T18:39:47.418204Z"
    }
   },
   "outputs": [
    {
     "data": {
      "image/png": "[encoded data removed]",
      "text/plain": [
       "<Figure size 1440x288 with 4 Axes>"
      ]
     },
     "metadata": {
      "needs_background": "light"
     },
     "output_type": "display_data"
    }
   ],
   "source": [
    "# result_gen_time vs samples for each dim\n",
    "\n",
    "fig = plt.figure(figsize=(20,4))\n",
    "\n",
    "for i, ndims in enumerate(ndims_lst):\n",
    "    plot_data = temp_df[temp_df.ndims == ndims].groupby('neval')['result_gen_time'].apply(lambda x: x.tolist())\n",
    "    ax = fig.add_subplot(1,len(ndims_lst),i+1)\n",
    "    ax.set_title(f'D = {ndims}')\n",
    "    ax.set_xlabel('N')\n",
    "    if i == 0:\n",
    "        ax.set_ylabel('Gen. time')\n",
    "    ax.boxplot(plot_data, labels=['1e4', '1e5', '1e6', '1e7'], showfliers=None)"
   ]
  },
  {
   "cell_type": "code",
   "execution_count": 29,
   "id": "associate-analyst",
   "metadata": {
    "ExecuteTime": {
     "end_time": "2022-06-19T18:39:48.854364Z",
     "start_time": "2022-06-19T18:39:48.522252Z"
    }
   },
   "outputs": [
    {
     "data": {
      "image/png": "[encoded data removed]",
      "text/plain": [
       "<Figure size 1440x288 with 4 Axes>"
      ]
     },
     "metadata": {
      "needs_background": "light"
     },
     "output_type": "display_data"
    }
   ],
   "source": [
    "# result_eval_time vs samples for each dim\n",
    "\n",
    "fig = plt.figure(figsize=(20,4))\n",
    "\n",
    "for i, ndims in enumerate(ndims_lst):\n",
    "    plot_data = temp_df[temp_df.ndims == ndims].groupby('neval')['result_eval_time'].apply(lambda x: x.tolist())\n",
    "    ax = fig.add_subplot(1,len(ndims_lst),i+1)\n",
    "    ax.set_title(f'D = {ndims}')\n",
    "    ax.set_xlabel('N')\n",
    "    if i == 0:\n",
    "        ax.set_ylabel('Eval. time')\n",
    "    ax.boxplot(plot_data, labels=['1e4', '1e5', '1e6', '1e7'], showfliers=None)"
   ]
  },
  {
   "cell_type": "code",
   "execution_count": 31,
   "id": "selective-citizenship",
   "metadata": {
    "ExecuteTime": {
     "end_time": "2022-06-09T06:53:44.681896Z",
     "start_time": "2022-06-09T06:53:44.353774Z"
    }
   },
   "outputs": [
    {
     "data": {
      "image/png": "[encoded data removed]",
      "text/plain": [
       "<Figure size 1440x288 with 4 Axes>"
      ]
     },
     "metadata": {
      "needs_background": "light"
     },
     "output_type": "display_data"
    }
   ],
   "source": [
    "# total_time vs samples for each dim\n",
    "\n",
    "fig = plt.figure(figsize=(20,4))\n",
    "\n",
    "for i, ndims in enumerate(ndims_lst):\n",
    "    plot_data = temp_df[temp_df.ndims == ndims].copy()\n",
    "    plot_data['total_time'] = plot_data.result_eval_time + plot_data.result_gen_time\n",
    "    plot_data = plot_data.groupby('neval')['total_time'].apply(lambda x: x.tolist())\n",
    "    ax = fig.add_subplot(1,len(ndims_lst),i+1)\n",
    "    ax.set_title(f'D = {ndims}')\n",
    "    ax.set_xlabel('N')\n",
    "    if i == 0:\n",
    "        ax.set_ylabel('Total time')\n",
    "    ax.boxplot(plot_data, labels=['1e4', '1e5', '1e6', '1e7'], showfliers=None)"
   ]
  },
  {
   "cell_type": "code",
   "execution_count": 30,
   "id": "tired-extra",
   "metadata": {
    "ExecuteTime": {
     "end_time": "2022-06-19T18:40:34.944137Z",
     "start_time": "2022-06-19T18:40:34.826451Z"
    }
   },
   "outputs": [
    {
     "data": {
      "image/png": "[encoded data removed]",
      "text/plain": [
       "<Figure size 288x288 with 1 Axes>"
      ]
     },
     "metadata": {
      "needs_background": "light"
     },
     "output_type": "display_data"
    }
   ],
   "source": [
    "# total_time (D8) vs samples\n",
    "\n",
    "fig = plt.figure(figsize=(4,4))\n",
    "ax = fig.add_axes([0,0,1,1])\n",
    "\n",
    "plot_data = temp_df[temp_df.ndims == 8].copy()\n",
    "plot_data['total_time'] = plot_data.result_eval_time + plot_data.result_gen_time\n",
    "plot_data = plot_data.groupby('neval')['total_time'].apply(lambda x: x.tolist())\n",
    "ax.set_title(f'D = {ndims}')\n",
    "ax.set_xlabel('N')\n",
    "ax.set_ylabel('Time (s)')\n",
    "# ax.boxplot(plot_data, labels=['1e4', '1e5', '1e6', '1e7'], showfliers=None);\n",
    "locs = ax.get_xticks()\n",
    "ax.set_xticks(ax.get_xticks(), labels=['', '1e4', '1e5', '1e6', '1e7', ''])\n",
    "ax.plot(ax.get_xticks()[1:-1], plot_data.apply(np.mean), linestyle='-', alpha=.9, label='total time')\n",
    "\n",
    "plot_data = temp_df[temp_df.ndims == 8].copy()\n",
    "plot_data['total_time'] = plot_data.result_eval_time + plot_data.result_gen_time\n",
    "plot_data = plot_data.groupby('neval')['result_gen_time'].apply(lambda x: x.tolist())\n",
    "ax.plot(ax.get_xticks()[1:-1], plot_data.apply(np.mean), linestyle='dashed', alpha=.9, label='gen time')\n",
    "\n",
    "plot_data = temp_df[temp_df.ndims == 8].copy()\n",
    "plot_data['total_time'] = plot_data.result_eval_time + plot_data.result_gen_time\n",
    "plot_data = plot_data.groupby('neval')['result_eval_time'].apply(lambda x: x.tolist())\n",
    "ax.plot(ax.get_xticks()[1:-1], plot_data.apply(np.mean), linestyle='dashdot', alpha=.9, label='eval time')\n",
    "\n",
    "ax.legend()\n",
    "ax.grid(axis='y')"
   ]
  },
  {
   "cell_type": "code",
   "execution_count": 31,
   "id": "drawn-following",
   "metadata": {
    "ExecuteTime": {
     "end_time": "2022-06-19T18:40:41.294159Z",
     "start_time": "2022-06-19T18:40:41.290170Z"
    }
   },
   "outputs": [],
   "source": [
    "# fig.savefig('result/02_NaivePython/f1_uniform_time_new.png', bbox_inches='tight')"
   ]
  },
  {
   "cell_type": "markdown",
   "id": "distinct-water",
   "metadata": {},
   "source": [
    "#### Time"
   ]
  },
  {
   "cell_type": "code",
   "execution_count": 4,
   "id": "shaped-atmosphere",
   "metadata": {
    "ExecuteTime": {
     "end_time": "2022-06-19T19:22:19.991218Z",
     "start_time": "2022-06-19T19:22:19.979250Z"
    }
   },
   "outputs": [],
   "source": [
    "time_df = temp_df[temp_df.neval == int(1e7)].groupby('ndims').agg([np.mean, np.std])"
   ]
  },
  {
   "cell_type": "code",
   "execution_count": 5,
   "id": "plastic-symbol",
   "metadata": {
    "ExecuteTime": {
     "end_time": "2022-06-19T19:22:20.222599Z",
     "start_time": "2022-06-19T19:22:20.203650Z"
    }
   },
   "outputs": [
    {
     "data": {
      "text/html": [
       "<div>\n",
       "<style scoped>\n",
       "    .dataframe tbody tr th:only-of-type {\n",
       "        vertical-align: middle;\n",
       "    }\n",
       "\n",
       "    .dataframe tbody tr th {\n",
       "        vertical-align: top;\n",
       "    }\n",
       "\n",
       "    .dataframe thead tr th {\n",
       "        text-align: left;\n",
       "    }\n",
       "\n",
       "    .dataframe thead tr:last-of-type th {\n",
       "        text-align: right;\n",
       "    }\n",
       "</style>\n",
       "<table border=\"1\" class=\"dataframe\">\n",
       "  <thead>\n",
       "    <tr>\n",
       "      <th></th>\n",
       "      <th colspan=\"2\" halign=\"left\">neval</th>\n",
       "      <th colspan=\"2\" halign=\"left\">result_mean</th>\n",
       "      <th colspan=\"2\" halign=\"left\">result_sdev</th>\n",
       "      <th colspan=\"2\" halign=\"left\">result_gen_time</th>\n",
       "      <th colspan=\"2\" halign=\"left\">result_eval_time</th>\n",
       "      <th colspan=\"2\" halign=\"left\">run_num</th>\n",
       "      <th colspan=\"2\" halign=\"left\">eval_time_perc</th>\n",
       "      <th colspan=\"2\" halign=\"left\">total_time</th>\n",
       "    </tr>\n",
       "    <tr>\n",
       "      <th></th>\n",
       "      <th>mean</th>\n",
       "      <th>std</th>\n",
       "      <th>mean</th>\n",
       "      <th>std</th>\n",
       "      <th>mean</th>\n",
       "      <th>std</th>\n",
       "      <th>mean</th>\n",
       "      <th>std</th>\n",
       "      <th>mean</th>\n",
       "      <th>std</th>\n",
       "      <th>mean</th>\n",
       "      <th>std</th>\n",
       "      <th>mean</th>\n",
       "      <th>std</th>\n",
       "      <th>mean</th>\n",
       "      <th>std</th>\n",
       "    </tr>\n",
       "    <tr>\n",
       "      <th>ndims</th>\n",
       "      <th></th>\n",
       "      <th></th>\n",
       "      <th></th>\n",
       "      <th></th>\n",
       "      <th></th>\n",
       "      <th></th>\n",
       "      <th></th>\n",
       "      <th></th>\n",
       "      <th></th>\n",
       "      <th></th>\n",
       "      <th></th>\n",
       "      <th></th>\n",
       "      <th></th>\n",
       "      <th></th>\n",
       "      <th></th>\n",
       "      <th></th>\n",
       "    </tr>\n",
       "  </thead>\n",
       "  <tbody>\n",
       "    <tr>\n",
       "      <th>2</th>\n",
       "      <td>10000000.0</td>\n",
       "      <td>0.0</td>\n",
       "      <td>1.005230e+00</td>\n",
       "      <td>9.443815e-03</td>\n",
       "      <td>8.957117e-03</td>\n",
       "      <td>5.197555e-05</td>\n",
       "      <td>0.131449</td>\n",
       "      <td>0.001300</td>\n",
       "      <td>0.605182</td>\n",
       "      <td>0.003412</td>\n",
       "      <td>3.0</td>\n",
       "      <td>1.581139</td>\n",
       "      <td>0.820</td>\n",
       "      <td>0.000000</td>\n",
       "      <td>0.736630</td>\n",
       "      <td>0.004494</td>\n",
       "    </tr>\n",
       "    <tr>\n",
       "      <th>4</th>\n",
       "      <td>10000000.0</td>\n",
       "      <td>0.0</td>\n",
       "      <td>1.190456e+00</td>\n",
       "      <td>2.531023e-01</td>\n",
       "      <td>2.900121e-01</td>\n",
       "      <td>4.093869e-02</td>\n",
       "      <td>0.263495</td>\n",
       "      <td>0.000835</td>\n",
       "      <td>0.767548</td>\n",
       "      <td>0.007073</td>\n",
       "      <td>3.0</td>\n",
       "      <td>1.581139</td>\n",
       "      <td>0.744</td>\n",
       "      <td>0.005477</td>\n",
       "      <td>1.031043</td>\n",
       "      <td>0.007770</td>\n",
       "    </tr>\n",
       "    <tr>\n",
       "      <th>6</th>\n",
       "      <td>10000000.0</td>\n",
       "      <td>0.0</td>\n",
       "      <td>9.635598e-02</td>\n",
       "      <td>1.808853e-01</td>\n",
       "      <td>9.533614e-02</td>\n",
       "      <td>1.793694e-01</td>\n",
       "      <td>0.397138</td>\n",
       "      <td>0.001300</td>\n",
       "      <td>0.893212</td>\n",
       "      <td>0.006409</td>\n",
       "      <td>3.0</td>\n",
       "      <td>1.581139</td>\n",
       "      <td>0.690</td>\n",
       "      <td>0.000000</td>\n",
       "      <td>1.290350</td>\n",
       "      <td>0.007101</td>\n",
       "    </tr>\n",
       "    <tr>\n",
       "      <th>8</th>\n",
       "      <td>10000000.0</td>\n",
       "      <td>0.0</td>\n",
       "      <td>4.012332e-12</td>\n",
       "      <td>8.970795e-12</td>\n",
       "      <td>4.012331e-12</td>\n",
       "      <td>8.970795e-12</td>\n",
       "      <td>0.525794</td>\n",
       "      <td>0.002581</td>\n",
       "      <td>0.989754</td>\n",
       "      <td>0.005926</td>\n",
       "      <td>3.0</td>\n",
       "      <td>1.581139</td>\n",
       "      <td>0.650</td>\n",
       "      <td>0.000000</td>\n",
       "      <td>1.515548</td>\n",
       "      <td>0.007038</td>\n",
       "    </tr>\n",
       "  </tbody>\n",
       "</table>\n",
       "</div>"
      ],
      "text/plain": [
       "            neval        result_mean                 result_sdev  \\\n",
       "             mean  std          mean           std          mean   \n",
       "ndims                                                              \n",
       "2      10000000.0  0.0  1.005230e+00  9.443815e-03  8.957117e-03   \n",
       "4      10000000.0  0.0  1.190456e+00  2.531023e-01  2.900121e-01   \n",
       "6      10000000.0  0.0  9.635598e-02  1.808853e-01  9.533614e-02   \n",
       "8      10000000.0  0.0  4.012332e-12  8.970795e-12  4.012331e-12   \n",
       "\n",
       "                    result_gen_time           result_eval_time            \\\n",
       "                std            mean       std             mean       std   \n",
       "ndims                                                                      \n",
       "2      5.197555e-05        0.131449  0.001300         0.605182  0.003412   \n",
       "4      4.093869e-02        0.263495  0.000835         0.767548  0.007073   \n",
       "6      1.793694e-01        0.397138  0.001300         0.893212  0.006409   \n",
       "8      8.970795e-12        0.525794  0.002581         0.989754  0.005926   \n",
       "\n",
       "      run_num           eval_time_perc           total_time            \n",
       "         mean       std           mean       std       mean       std  \n",
       "ndims                                                                  \n",
       "2         3.0  1.581139          0.820  0.000000   0.736630  0.004494  \n",
       "4         3.0  1.581139          0.744  0.005477   1.031043  0.007770  \n",
       "6         3.0  1.581139          0.690  0.000000   1.290350  0.007101  \n",
       "8         3.0  1.581139          0.650  0.000000   1.515548  0.007038  "
      ]
     },
     "execution_count": 5,
     "metadata": {},
     "output_type": "execute_result"
    }
   ],
   "source": [
    "time_df"
   ]
  },
  {
   "cell_type": "code",
   "execution_count": 7,
   "id": "protective-center",
   "metadata": {
    "ExecuteTime": {
     "end_time": "2022-06-19T19:23:02.478130Z",
     "start_time": "2022-06-19T19:23:02.467159Z"
    }
   },
   "outputs": [
    {
     "data": {
      "text/html": [
       "<div>\n",
       "<style scoped>\n",
       "    .dataframe tbody tr th:only-of-type {\n",
       "        vertical-align: middle;\n",
       "    }\n",
       "\n",
       "    .dataframe tbody tr th {\n",
       "        vertical-align: top;\n",
       "    }\n",
       "\n",
       "    .dataframe thead tr th {\n",
       "        text-align: left;\n",
       "    }\n",
       "\n",
       "    .dataframe thead tr:last-of-type th {\n",
       "        text-align: right;\n",
       "    }\n",
       "</style>\n",
       "<table border=\"1\" class=\"dataframe\">\n",
       "  <thead>\n",
       "    <tr>\n",
       "      <th></th>\n",
       "      <th colspan=\"2\" halign=\"left\">result_gen_time</th>\n",
       "      <th colspan=\"2\" halign=\"left\">result_eval_time</th>\n",
       "      <th colspan=\"2\" halign=\"left\">total_time</th>\n",
       "    </tr>\n",
       "    <tr>\n",
       "      <th></th>\n",
       "      <th>mean</th>\n",
       "      <th>std</th>\n",
       "      <th>mean</th>\n",
       "      <th>std</th>\n",
       "      <th>mean</th>\n",
       "      <th>std</th>\n",
       "    </tr>\n",
       "    <tr>\n",
       "      <th>ndims</th>\n",
       "      <th></th>\n",
       "      <th></th>\n",
       "      <th></th>\n",
       "      <th></th>\n",
       "      <th></th>\n",
       "      <th></th>\n",
       "    </tr>\n",
       "  </thead>\n",
       "  <tbody>\n",
       "    <tr>\n",
       "      <th>2</th>\n",
       "      <td>0.131449</td>\n",
       "      <td>0.001300</td>\n",
       "      <td>0.605182</td>\n",
       "      <td>0.003412</td>\n",
       "      <td>0.736630</td>\n",
       "      <td>0.004494</td>\n",
       "    </tr>\n",
       "    <tr>\n",
       "      <th>4</th>\n",
       "      <td>0.263495</td>\n",
       "      <td>0.000835</td>\n",
       "      <td>0.767548</td>\n",
       "      <td>0.007073</td>\n",
       "      <td>1.031043</td>\n",
       "      <td>0.007770</td>\n",
       "    </tr>\n",
       "    <tr>\n",
       "      <th>6</th>\n",
       "      <td>0.397138</td>\n",
       "      <td>0.001300</td>\n",
       "      <td>0.893212</td>\n",
       "      <td>0.006409</td>\n",
       "      <td>1.290350</td>\n",
       "      <td>0.007101</td>\n",
       "    </tr>\n",
       "    <tr>\n",
       "      <th>8</th>\n",
       "      <td>0.525794</td>\n",
       "      <td>0.002581</td>\n",
       "      <td>0.989754</td>\n",
       "      <td>0.005926</td>\n",
       "      <td>1.515548</td>\n",
       "      <td>0.007038</td>\n",
       "    </tr>\n",
       "  </tbody>\n",
       "</table>\n",
       "</div>"
      ],
      "text/plain": [
       "      result_gen_time           result_eval_time           total_time  \\\n",
       "                 mean       std             mean       std       mean   \n",
       "ndims                                                                   \n",
       "2            0.131449  0.001300         0.605182  0.003412   0.736630   \n",
       "4            0.263495  0.000835         0.767548  0.007073   1.031043   \n",
       "6            0.397138  0.001300         0.893212  0.006409   1.290350   \n",
       "8            0.525794  0.002581         0.989754  0.005926   1.515548   \n",
       "\n",
       "                 \n",
       "            std  \n",
       "ndims            \n",
       "2      0.004494  \n",
       "4      0.007770  \n",
       "6      0.007101  \n",
       "8      0.007038  "
      ]
     },
     "execution_count": 7,
     "metadata": {},
     "output_type": "execute_result"
    }
   ],
   "source": [
    "time_df[['result_gen_time', 'result_eval_time', 'total_time']]"
   ]
  },
  {
   "cell_type": "code",
   "execution_count": 9,
   "id": "coated-beginning",
   "metadata": {
    "ExecuteTime": {
     "end_time": "2022-06-09T10:10:38.009219Z",
     "start_time": "2022-06-09T10:10:37.992264Z"
    }
   },
   "outputs": [
    {
     "name": "stderr",
     "output_type": "stream",
     "text": [
      "E:\\_MAGISTER_ACE\\Наука\\mc_integration\\mcenv\\lib\\site-packages\\ipykernel_launcher.py:2: SettingWithCopyWarning: \n",
      "A value is trying to be set on a copy of a slice from a DataFrame.\n",
      "Try using .loc[row_indexer,col_indexer] = value instead\n",
      "\n",
      "See the caveats in the documentation: https://pandas.pydata.org/pandas-docs/stable/user_guide/indexing.html#returning-a-view-versus-a-copy\n",
      "  \n",
      "E:\\_MAGISTER_ACE\\Наука\\mc_integration\\mcenv\\lib\\site-packages\\ipykernel_launcher.py:3: SettingWithCopyWarning: \n",
      "A value is trying to be set on a copy of a slice from a DataFrame.\n",
      "Try using .loc[row_indexer,col_indexer] = value instead\n",
      "\n",
      "See the caveats in the documentation: https://pandas.pydata.org/pandas-docs/stable/user_guide/indexing.html#returning-a-view-versus-a-copy\n",
      "  This is separate from the ipykernel package so we can avoid doing imports until\n"
     ]
    },
    {
     "data": {
      "text/html": [
       "<div>\n",
       "<style scoped>\n",
       "    .dataframe tbody tr th:only-of-type {\n",
       "        vertical-align: middle;\n",
       "    }\n",
       "\n",
       "    .dataframe tbody tr th {\n",
       "        vertical-align: top;\n",
       "    }\n",
       "\n",
       "    .dataframe thead tr th {\n",
       "        text-align: left;\n",
       "    }\n",
       "\n",
       "    .dataframe thead tr:last-of-type th {\n",
       "        text-align: right;\n",
       "    }\n",
       "</style>\n",
       "<table border=\"1\" class=\"dataframe\">\n",
       "  <thead>\n",
       "    <tr>\n",
       "      <th></th>\n",
       "      <th colspan=\"2\" halign=\"left\">result_gen_time</th>\n",
       "      <th colspan=\"2\" halign=\"left\">result_eval_time</th>\n",
       "      <th>total_mean</th>\n",
       "      <th>total_std</th>\n",
       "    </tr>\n",
       "    <tr>\n",
       "      <th></th>\n",
       "      <th>mean</th>\n",
       "      <th>std</th>\n",
       "      <th>mean</th>\n",
       "      <th>std</th>\n",
       "      <th></th>\n",
       "      <th></th>\n",
       "    </tr>\n",
       "    <tr>\n",
       "      <th>ndims</th>\n",
       "      <th></th>\n",
       "      <th></th>\n",
       "      <th></th>\n",
       "      <th></th>\n",
       "      <th></th>\n",
       "      <th></th>\n",
       "    </tr>\n",
       "  </thead>\n",
       "  <tbody>\n",
       "    <tr>\n",
       "      <th>2</th>\n",
       "      <td>0.131648</td>\n",
       "      <td>0.000997</td>\n",
       "      <td>0.408574</td>\n",
       "      <td>0.001152</td>\n",
       "      <td>0.540221</td>\n",
       "      <td>0.001523</td>\n",
       "    </tr>\n",
       "    <tr>\n",
       "      <th>4</th>\n",
       "      <td>0.263966</td>\n",
       "      <td>0.000567</td>\n",
       "      <td>0.519272</td>\n",
       "      <td>0.004704</td>\n",
       "      <td>0.783238</td>\n",
       "      <td>0.004738</td>\n",
       "    </tr>\n",
       "    <tr>\n",
       "      <th>6</th>\n",
       "      <td>0.396606</td>\n",
       "      <td>0.001152</td>\n",
       "      <td>0.629982</td>\n",
       "      <td>0.004498</td>\n",
       "      <td>1.026587</td>\n",
       "      <td>0.004643</td>\n",
       "    </tr>\n",
       "    <tr>\n",
       "      <th>8</th>\n",
       "      <td>0.529251</td>\n",
       "      <td>0.000576</td>\n",
       "      <td>0.725725</td>\n",
       "      <td>0.002303</td>\n",
       "      <td>1.254976</td>\n",
       "      <td>0.002374</td>\n",
       "    </tr>\n",
       "  </tbody>\n",
       "</table>\n",
       "</div>"
      ],
      "text/plain": [
       "      result_gen_time           result_eval_time           total_mean  \\\n",
       "                 mean       std             mean       std              \n",
       "ndims                                                                   \n",
       "2            0.131648  0.000997         0.408574  0.001152   0.540221   \n",
       "4            0.263966  0.000567         0.519272  0.004704   0.783238   \n",
       "6            0.396606  0.001152         0.629982  0.004498   1.026587   \n",
       "8            0.529251  0.000576         0.725725  0.002303   1.254976   \n",
       "\n",
       "      total_std  \n",
       "                 \n",
       "ndims            \n",
       "2      0.001523  \n",
       "4      0.004738  \n",
       "6      0.004643  \n",
       "8      0.002374  "
      ]
     },
     "execution_count": 9,
     "metadata": {},
     "output_type": "execute_result"
    }
   ],
   "source": [
    "t = time_df[['result_gen_time', 'result_eval_time']]\n",
    "t['total_mean'] = time_df['result_gen_time']['mean'] + time_df['result_eval_time']['mean']\n",
    "t['total_std'] = (time_df['result_gen_time']['std']**2 + time_df['result_eval_time']['std']**2)**.5\n",
    "\n",
    "t"
   ]
  },
  {
   "cell_type": "code",
   "execution_count": 10,
   "id": "centered-injection",
   "metadata": {
    "ExecuteTime": {
     "end_time": "2022-06-09T10:10:39.918112Z",
     "start_time": "2022-06-09T10:10:39.912128Z"
    }
   },
   "outputs": [
    {
     "name": "stdout",
     "output_type": "stream",
     "text": [
      "0.54 ± 0.002\n",
      "0.783 ± 0.005\n",
      "1.027 ± 0.005\n",
      "1.255 ± 0.002\n",
      "\n"
     ]
    }
   ],
   "source": [
    "def temp_print(xx):\n",
    "    temp_foo = lambda x4: x4[0] + ' ± ' + x4[1] + '\\n'\n",
    "    print(''.join([temp_foo(x.round(3).astype(str))\n",
    "           for x in xx.values]))\n",
    "    \n",
    "temp_print(t[['total_mean', 'total_std']])"
   ]
  },
  {
   "cell_type": "code",
   "execution_count": 188,
   "id": "civic-supply",
   "metadata": {
    "ExecuteTime": {
     "end_time": "2022-06-07T09:20:58.858706Z",
     "start_time": "2022-06-07T09:20:58.843747Z"
    }
   },
   "outputs": [
    {
     "data": {
      "text/html": [
       "<div>\n",
       "<style scoped>\n",
       "    .dataframe tbody tr th:only-of-type {\n",
       "        vertical-align: middle;\n",
       "    }\n",
       "\n",
       "    .dataframe tbody tr th {\n",
       "        vertical-align: top;\n",
       "    }\n",
       "\n",
       "    .dataframe thead tr th {\n",
       "        text-align: left;\n",
       "    }\n",
       "\n",
       "    .dataframe thead tr:last-of-type th {\n",
       "        text-align: right;\n",
       "    }\n",
       "</style>\n",
       "<table border=\"1\" class=\"dataframe\">\n",
       "  <thead>\n",
       "    <tr>\n",
       "      <th></th>\n",
       "      <th colspan=\"2\" halign=\"left\">neval</th>\n",
       "      <th colspan=\"2\" halign=\"left\">result_mean</th>\n",
       "      <th colspan=\"2\" halign=\"left\">result_sdev</th>\n",
       "      <th colspan=\"2\" halign=\"left\">result_gen_time</th>\n",
       "      <th colspan=\"2\" halign=\"left\">result_eval_time</th>\n",
       "      <th colspan=\"2\" halign=\"left\">run_num</th>\n",
       "      <th colspan=\"2\" halign=\"left\">eval_time_perc</th>\n",
       "    </tr>\n",
       "    <tr>\n",
       "      <th></th>\n",
       "      <th>mean</th>\n",
       "      <th>std</th>\n",
       "      <th>mean</th>\n",
       "      <th>std</th>\n",
       "      <th>mean</th>\n",
       "      <th>std</th>\n",
       "      <th>mean</th>\n",
       "      <th>std</th>\n",
       "      <th>mean</th>\n",
       "      <th>std</th>\n",
       "      <th>mean</th>\n",
       "      <th>std</th>\n",
       "      <th>mean</th>\n",
       "      <th>std</th>\n",
       "    </tr>\n",
       "    <tr>\n",
       "      <th>ndims</th>\n",
       "      <th></th>\n",
       "      <th></th>\n",
       "      <th></th>\n",
       "      <th></th>\n",
       "      <th></th>\n",
       "      <th></th>\n",
       "      <th></th>\n",
       "      <th></th>\n",
       "      <th></th>\n",
       "      <th></th>\n",
       "      <th></th>\n",
       "      <th></th>\n",
       "      <th></th>\n",
       "      <th></th>\n",
       "    </tr>\n",
       "  </thead>\n",
       "  <tbody>\n",
       "    <tr>\n",
       "      <th>2</th>\n",
       "      <td>10000000.0</td>\n",
       "      <td>0.0</td>\n",
       "      <td>1.001198</td>\n",
       "      <td>0.001652</td>\n",
       "      <td>0.001757</td>\n",
       "      <td>0.000002</td>\n",
       "      <td>8.856975</td>\n",
       "      <td>0.294607</td>\n",
       "      <td>28.168985</td>\n",
       "      <td>0.115902</td>\n",
       "      <td>2.0</td>\n",
       "      <td>1.0</td>\n",
       "      <td>0.756667</td>\n",
       "      <td>0.005774</td>\n",
       "    </tr>\n",
       "    <tr>\n",
       "      <th>4</th>\n",
       "      <td>10000000.0</td>\n",
       "      <td>0.0</td>\n",
       "      <td>0.991086</td>\n",
       "      <td>0.005009</td>\n",
       "      <td>0.009955</td>\n",
       "      <td>0.000051</td>\n",
       "      <td>11.174443</td>\n",
       "      <td>0.163424</td>\n",
       "      <td>31.525340</td>\n",
       "      <td>0.047521</td>\n",
       "      <td>2.0</td>\n",
       "      <td>1.0</td>\n",
       "      <td>0.740000</td>\n",
       "      <td>0.000000</td>\n",
       "    </tr>\n",
       "    <tr>\n",
       "      <th>6</th>\n",
       "      <td>10000000.0</td>\n",
       "      <td>0.0</td>\n",
       "      <td>0.964469</td>\n",
       "      <td>0.010881</td>\n",
       "      <td>0.054550</td>\n",
       "      <td>0.000439</td>\n",
       "      <td>14.951008</td>\n",
       "      <td>0.395227</td>\n",
       "      <td>34.955499</td>\n",
       "      <td>0.124870</td>\n",
       "      <td>2.0</td>\n",
       "      <td>1.0</td>\n",
       "      <td>0.696667</td>\n",
       "      <td>0.005774</td>\n",
       "    </tr>\n",
       "    <tr>\n",
       "      <th>8</th>\n",
       "      <td>10000000.0</td>\n",
       "      <td>0.0</td>\n",
       "      <td>0.994901</td>\n",
       "      <td>0.164678</td>\n",
       "      <td>0.348377</td>\n",
       "      <td>0.041304</td>\n",
       "      <td>17.394804</td>\n",
       "      <td>0.524048</td>\n",
       "      <td>38.047893</td>\n",
       "      <td>0.084381</td>\n",
       "      <td>2.0</td>\n",
       "      <td>1.0</td>\n",
       "      <td>0.686667</td>\n",
       "      <td>0.005774</td>\n",
       "    </tr>\n",
       "  </tbody>\n",
       "</table>\n",
       "</div>"
      ],
      "text/plain": [
       "            neval      result_mean           result_sdev            \\\n",
       "             mean  std        mean       std        mean       std   \n",
       "ndims                                                                \n",
       "2      10000000.0  0.0    1.001198  0.001652    0.001757  0.000002   \n",
       "4      10000000.0  0.0    0.991086  0.005009    0.009955  0.000051   \n",
       "6      10000000.0  0.0    0.964469  0.010881    0.054550  0.000439   \n",
       "8      10000000.0  0.0    0.994901  0.164678    0.348377  0.041304   \n",
       "\n",
       "      result_gen_time           result_eval_time           run_num       \\\n",
       "                 mean       std             mean       std    mean  std   \n",
       "ndims                                                                     \n",
       "2            8.856975  0.294607        28.168985  0.115902     2.0  1.0   \n",
       "4           11.174443  0.163424        31.525340  0.047521     2.0  1.0   \n",
       "6           14.951008  0.395227        34.955499  0.124870     2.0  1.0   \n",
       "8           17.394804  0.524048        38.047893  0.084381     2.0  1.0   \n",
       "\n",
       "      eval_time_perc            \n",
       "                mean       std  \n",
       "ndims                           \n",
       "2           0.756667  0.005774  \n",
       "4           0.740000  0.000000  \n",
       "6           0.696667  0.005774  \n",
       "8           0.686667  0.005774  "
      ]
     },
     "execution_count": 188,
     "metadata": {},
     "output_type": "execute_result"
    }
   ],
   "source": [
    "# results from pure python\n",
    "\n",
    "time_df\n",
    "\n",
    "# result_sdev reaches {0.001757, 0.009955, 0.054550, 0.348377} on N = 1e7 samples"
   ]
  },
  {
   "cell_type": "code",
   "execution_count": null,
   "id": "engaging-intent",
   "metadata": {},
   "outputs": [],
   "source": []
  }
 ],
 "metadata": {
  "kernelspec": {
   "display_name": "mcenv",
   "language": "python",
   "name": "mcenv"
  },
  "language_info": {
   "codemirror_mode": {
    "name": "ipython",
    "version": 3
   },
   "file_extension": ".py",
   "mimetype": "text/x-python",
   "name": "python",
   "nbconvert_exporter": "python",
   "pygments_lexer": "ipython3",
   "version": "3.7.9"
  },
  "toc": {
   "base_numbering": 1,
   "nav_menu": {},
   "number_sections": true,
   "sideBar": true,
   "skip_h1_title": false,
   "title_cell": "Table of Contents",
   "title_sidebar": "Contents",
   "toc_cell": false,
   "toc_position": {
    "height": "calc(100% - 180px)",
    "left": "10px",
    "top": "150px",
    "width": "374.389px"
   },
   "toc_section_display": true,
   "toc_window_display": true
  }
 },
 "nbformat": 4,
 "nbformat_minor": 5
}
