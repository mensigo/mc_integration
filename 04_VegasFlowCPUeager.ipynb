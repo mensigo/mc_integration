{
 "cells": [
  {
   "cell_type": "code",
   "execution_count": 13,
   "id": "regional-moderator",
   "metadata": {
    "ExecuteTime": {
     "end_time": "2022-06-05T22:41:28.893183Z",
     "start_time": "2022-06-05T22:41:28.887199Z"
    }
   },
   "outputs": [],
   "source": [
    "import os\n",
    "import time\n",
    "from datetime import datetime\n",
    "\n",
    "import numpy as np\n",
    "import pandas as pd\n",
    "import scipy as sp\n",
    "from tqdm import tqdm\n",
    "\n",
    "import tensorflow as tf\n",
    "import tensorflow_probability as tfp\n",
    "\n",
    "import vegasflow\n",
    "from vegasflow import VegasFlow\n",
    "\n",
    "import matplotlib.pyplot as plt\n",
    "%matplotlib inline"
   ]
  },
  {
   "cell_type": "code",
   "execution_count": 2,
   "id": "prompt-tennis",
   "metadata": {
    "ExecuteTime": {
     "end_time": "2022-06-05T22:40:16.846889Z",
     "start_time": "2022-06-05T22:40:16.842900Z"
    }
   },
   "outputs": [],
   "source": [
    "os.environ[\"CUDA_VISIBLE_DEVICES\"] = \"-1\""
   ]
  },
  {
   "cell_type": "code",
   "execution_count": 3,
   "id": "silver-escape",
   "metadata": {
    "ExecuteTime": {
     "end_time": "2022-06-05T22:40:17.009454Z",
     "start_time": "2022-06-05T22:40:16.847886Z"
    }
   },
   "outputs": [
    {
     "name": "stdout",
     "output_type": "stream",
     "text": [
      "WARNING:tensorflow:From C:\\TMP\\ipykernel_6804\\337460670.py:1: is_gpu_available (from tensorflow.python.framework.test_util) is deprecated and will be removed in a future version.\n",
      "Instructions for updating:\n",
      "Use `tf.config.list_physical_devices('GPU')` instead.\n"
     ]
    },
    {
     "data": {
      "text/plain": [
       "False"
      ]
     },
     "execution_count": 3,
     "metadata": {},
     "output_type": "execute_result"
    }
   ],
   "source": [
    "tf.test.is_gpu_available()"
   ]
  },
  {
   "cell_type": "code",
   "execution_count": 4,
   "id": "intensive-strategy",
   "metadata": {
    "ExecuteTime": {
     "end_time": "2022-06-05T22:40:59.316293Z",
     "start_time": "2022-06-05T22:40:59.311306Z"
    }
   },
   "outputs": [
    {
     "name": "stdout",
     "output_type": "stream",
     "text": [
      "0\n",
      "0\n"
     ]
    }
   ],
   "source": [
    "tf.compat.v1.enable_eager_execution()\n",
    "print(tf.config.threading.get_inter_op_parallelism_threads())\n",
    "print(tf.config.threading.get_intra_op_parallelism_threads())\n",
    "\n",
    "\n",
    "# tf.compat.v1.disable_eager_execution()\n",
    "# tf.config.threading.set_inter_op_parallelism_threads(64)\n",
    "# tf.config.threading.set_intra_op_parallelism_threads(64)"
   ]
  },
  {
   "cell_type": "code",
   "execution_count": 5,
   "id": "irish-privilege",
   "metadata": {
    "ExecuteTime": {
     "end_time": "2022-06-05T22:41:00.721534Z",
     "start_time": "2022-06-05T22:41:00.718543Z"
    }
   },
   "outputs": [],
   "source": [
    "# print(tf.config.threading.get_inter_op_parallelism_threads())\n",
    "# print(tf.config.threading.get_intra_op_parallelism_threads())"
   ]
  },
  {
   "cell_type": "code",
   "execution_count": 6,
   "id": "necessary-surfing",
   "metadata": {
    "ExecuteTime": {
     "end_time": "2022-06-05T22:41:01.275054Z",
     "start_time": "2022-06-05T22:41:01.270068Z"
    }
   },
   "outputs": [],
   "source": [
    "def variance_weighted_result(means, stddevs):\n",
    "    \"\"\" Computes weighted mean and stddev of given means and\n",
    "        stddevs arrays, using Inverse-variance weighting\n",
    "    \"\"\"\n",
    "    assert np.size(means) == np.size(stddevs)\n",
    "    assert means.shape == stddevs.shape\n",
    "    variance = 1./np.sum(1./stddevs**2, axis=-1)\n",
    "    mean = np.sum(means/(stddevs**2), axis=-1)\n",
    "    mean *= variance\n",
    "    return mean, np.sqrt(variance)"
   ]
  },
  {
   "cell_type": "code",
   "execution_count": 7,
   "id": "wired-marshall",
   "metadata": {
    "ExecuteTime": {
     "end_time": "2022-06-05T22:41:01.498457Z",
     "start_time": "2022-06-05T22:41:01.494467Z"
    }
   },
   "outputs": [],
   "source": [
    "NRUNS = 2"
   ]
  },
  {
   "cell_type": "markdown",
   "id": "broke-female",
   "metadata": {},
   "source": [
    "### F1 - simple gauss"
   ]
  },
  {
   "cell_type": "code",
   "execution_count": 8,
   "id": "according-independence",
   "metadata": {
    "ExecuteTime": {
     "end_time": "2022-06-05T22:41:05.879738Z",
     "start_time": "2022-06-05T22:41:04.654016Z"
    }
   },
   "outputs": [
    {
     "data": {
      "text/plain": [
       "{'f1_d2': 1.0, 'f1_d4': 1.0, 'f1_d6': 1.0, 'f1_d8': 1.0}"
      ]
     },
     "execution_count": 8,
     "metadata": {},
     "output_type": "execute_result"
    }
   ],
   "source": [
    "import scipy.stats as spt\n",
    "\n",
    "target_precision = 1e-3\n",
    "\n",
    "norm_dist = spt.norm(loc=0.5, scale=0.05)\n",
    "\n",
    "func_tag = 'f1'\n",
    "\n",
    "target_dict = {\n",
    "    'f1_d2': (norm_dist.cdf(1) - norm_dist.cdf(0)) ** 2,\n",
    "    'f1_d4': (norm_dist.cdf(1) - norm_dist.cdf(0)) ** 4,\n",
    "    'f1_d6': (norm_dist.cdf(1) - norm_dist.cdf(0)) ** 6,\n",
    "    'f1_d8': (norm_dist.cdf(1) - norm_dist.cdf(0)) ** 8,\n",
    "}\n",
    "target_dict"
   ]
  },
  {
   "cell_type": "code",
   "execution_count": 37,
   "id": "favorite-modeling",
   "metadata": {
    "ExecuteTime": {
     "end_time": "2022-06-05T22:53:32.782459Z",
     "start_time": "2022-06-05T22:53:32.773483Z"
    }
   },
   "outputs": [],
   "source": [
    "sigma = 0.05\n",
    "alpha = sigma * np.sqrt(2)\n",
    "alpha_tf = tf.constant(alpha, dtype=tf.float64)\n",
    "pi = np.pi\n",
    "# pi_tf = tf.constant(np.pi, dtype=tf.float64)\n",
    "\n",
    "\n",
    "# @tf.function(input_signature=[tf.TensorSpec(shape=(None,2), dtype=tf.float64)])\n",
    "def f1_d2(x):\n",
    "    pre = tf.cast(1.0 / (alpha * tf.sqrt(pi_tf)) ** 2, dtype=tf.float64)\n",
    "    exponent = -1 * tf.reduce_sum((x - .5) ** 2, axis=-1) / alpha ** 2\n",
    "    return pre * tf.exp(exponent)\n",
    "\n",
    "def f1_d2_np(x):\n",
    "    pre = 1.0 / (alpha * np.sqrt(pi)) ** 2\n",
    "    exponent = -1 * np.sum((x - .5) ** 2, axis=-1) / alpha ** 2\n",
    "    return pre * np.exp(exponent)\n",
    "\n",
    "\n",
    "# @tf.function(input_signature=[tf.TensorSpec(shape=(None,4), dtype=tf.float64)])\n",
    "def f1_d4(x):\n",
    "    pre = tf.cast(1.0 / (alpha * tf.sqrt(pi_tf)) ** 4, dtype=tf.float64)\n",
    "    exponent = -1 * tf.reduce_sum((x - .5) ** 2, axis=-1) / alpha ** 2\n",
    "    return pre * tf.exp(exponent)\n",
    "\n",
    "\n",
    "# @tf.function(input_signature=[tf.TensorSpec(shape=(None,6), dtype=tf.float64)])\n",
    "def f1_d6(x):\n",
    "    pre = tf.cast(1.0 / (alpha * tf.sqrt(pi_tf)) ** 6, dtype=tf.float64)\n",
    "    exponent = -1 * tf.reduce_sum((x - .5) ** 2, axis=-1) / alpha ** 2\n",
    "    return pre * tf.exp(exponent)\n",
    "\n",
    "\n",
    "# @tf.function(input_signature=[tf.TensorSpec(shape=(None,8), dtype=tf.float64)])\n",
    "def f1_d8(x):\n",
    "    pre = tf.cast(1.0 / (alpha * tf.sqrt(pi_tf)) ** 8, dtype=tf.float64)\n",
    "    exponent = -1 * tf.reduce_sum((x - .5) ** 2, axis=-1) / alpha ** 2\n",
    "    return pre * tf.exp(exponent)"
   ]
  },
  {
   "cell_type": "code",
   "execution_count": 38,
   "id": "directed-kruger",
   "metadata": {
    "ExecuteTime": {
     "end_time": "2022-06-05T22:53:33.906453Z",
     "start_time": "2022-06-05T22:53:33.901466Z"
    }
   },
   "outputs": [
    {
     "data": {
      "text/plain": [
       "{2: <function __main__.f1_d2(x)>,\n",
       " 4: <function __main__.f1_d4(x)>,\n",
       " 6: <function __main__.f1_d6(x)>,\n",
       " 8: <function __main__.f1_d8(x)>}"
      ]
     },
     "execution_count": 38,
     "metadata": {},
     "output_type": "execute_result"
    }
   ],
   "source": [
    "dim2func_dict = {\n",
    "    2: f1_d2,\n",
    "    4: f1_d4,\n",
    "    6: f1_d6,\n",
    "    8: f1_d8,\n",
    "}\n",
    "dim2func_dict"
   ]
  },
  {
   "cell_type": "code",
   "execution_count": 39,
   "id": "aquatic-israeli",
   "metadata": {
    "ExecuteTime": {
     "end_time": "2022-06-05T22:53:34.120878Z",
     "start_time": "2022-06-05T22:53:34.117887Z"
    }
   },
   "outputs": [],
   "source": [
    "# f1_d2(tf.random.uniform(shape=(10,2), dtype=tf.float64))"
   ]
  },
  {
   "cell_type": "code",
   "execution_count": 40,
   "id": "suspected-frank",
   "metadata": {
    "ExecuteTime": {
     "end_time": "2022-06-05T22:53:34.338298Z",
     "start_time": "2022-06-05T22:53:34.333311Z"
    }
   },
   "outputs": [],
   "source": [
    "dims = 8\n",
    "n_calls = int(1e8)\n",
    "vegas_instance = VegasFlow(dims, n_calls, verbose=1,  list_devices=['CPU'])\n",
    "\n",
    "vegas_instance.compile(f1_d8, compilable=False)"
   ]
  },
  {
   "cell_type": "code",
   "execution_count": 41,
   "id": "joined-trunk",
   "metadata": {
    "ExecuteTime": {
     "end_time": "2022-06-05T22:55:54.337832Z",
     "start_time": "2022-06-05T22:53:35.661757Z"
    }
   },
   "outputs": [
    {
     "name": "stdout",
     "output_type": "stream",
     "text": [
      "Events sent to the computing device: 100.0 %\r"
     ]
    },
    {
     "name": "stderr",
     "output_type": "stream",
     "text": [
      "[INFO] (vegasflow.monte_carlo) Result for iteration 0: 1.0374 +/- 0.1213(took 138.67109 s)\n",
      "[INFO] (vegasflow.monte_carlo)  > Final results: 1.03735 +/- 0.121342\n"
     ]
    },
    {
     "name": "stdout",
     "output_type": "stream",
     "text": [
      "tf.Tensor(67.91632962524795, shape=(), dtype=float64)\n"
     ]
    }
   ],
   "source": [
    "n_iter = 1\n",
    "result = vegas_instance.run_integration(n_iter)"
   ]
  },
  {
   "cell_type": "code",
   "execution_count": 42,
   "id": "naughty-discretion",
   "metadata": {
    "ExecuteTime": {
     "end_time": "2022-06-05T22:55:54.345810Z",
     "start_time": "2022-06-05T22:55:54.339827Z"
    }
   },
   "outputs": [
    {
     "data": {
      "text/plain": [
       "(1.0373525587473986, 0.1213424882277051)"
      ]
     },
     "execution_count": 42,
     "metadata": {},
     "output_type": "execute_result"
    }
   ],
   "source": [
    "result"
   ]
  },
  {
   "cell_type": "code",
   "execution_count": null,
   "id": "educational-printer",
   "metadata": {},
   "outputs": [],
   "source": []
  },
  {
   "cell_type": "code",
   "execution_count": null,
   "id": "bacterial-narrow",
   "metadata": {},
   "outputs": [],
   "source": []
  },
  {
   "cell_type": "code",
   "execution_count": null,
   "id": "metropolitan-consensus",
   "metadata": {},
   "outputs": [],
   "source": []
  },
  {
   "cell_type": "code",
   "execution_count": null,
   "id": "logical-tuition",
   "metadata": {},
   "outputs": [],
   "source": []
  },
  {
   "cell_type": "code",
   "execution_count": null,
   "id": "continental-windows",
   "metadata": {},
   "outputs": [],
   "source": []
  },
  {
   "cell_type": "code",
   "execution_count": null,
   "id": "freelance-hygiene",
   "metadata": {},
   "outputs": [],
   "source": [
    "%%time\n",
    "np.random.seed(123)\n",
    "\n",
    "result_means = []\n",
    "result_sdevs = []\n",
    "result_times = []\n",
    "result_sum_nevals = []\n",
    "result_run_nums = []\n",
    "\n",
    "ndims_lst = [2,4,6,8]\n",
    "neval_lst = list(map(int, [1e5, 1e6]))  # 1e8\n",
    "nitn_lst = list(map(int, [2,4]))\n",
    "run_lst = list(range(1,NRUNS+1))\n",
    "\n",
    "for run in run_lst:\n",
    "    print(f'run={run}')\n",
    "    for ndims in ndims_lst:\n",
    "        integrand = dim2func_dict[ndims]\n",
    "        \n",
    "        for nitn in nitn_lst:\n",
    "            for neval in neval_lst:\n",
    "\n",
    "                print(f'ndims={ndims}  nitn={nitn}  neval={neval}')\n",
    "\n",
    "                integ = vegas.Integrator([[0, 1]] * ndims)\n",
    "\n",
    "                time_a = time.time()\n",
    "                current_result = integ(integrand, nitn=nitn, neval=neval)\n",
    "                current_result_mean = current_result.mean\n",
    "                current_result_sdev = current_result.sdev\n",
    "                total_time = time.time() - time_a\n",
    "\n",
    "                result_means.append(current_result_mean)\n",
    "                result_sdevs.append(current_result_sdev)\n",
    "                result_times.append(total_time)\n",
    "                result_sum_nevals.append(current_result.sum_neval)\n",
    "                result_run_nums.append(run)\n",
    "\n",
    "                # print(current_result_mean, current_result_stddev)"
   ]
  },
  {
   "cell_type": "code",
   "execution_count": null,
   "id": "convertible-activity",
   "metadata": {},
   "outputs": [],
   "source": []
  },
  {
   "cell_type": "code",
   "execution_count": null,
   "id": "orange-affiliation",
   "metadata": {},
   "outputs": [],
   "source": []
  }
 ],
 "metadata": {
  "kernelspec": {
   "display_name": "mcenv",
   "language": "python",
   "name": "mcenv"
  },
  "language_info": {
   "codemirror_mode": {
    "name": "ipython",
    "version": 3
   },
   "file_extension": ".py",
   "mimetype": "text/x-python",
   "name": "python",
   "nbconvert_exporter": "python",
   "pygments_lexer": "ipython3",
   "version": "3.7.9"
  },
  "toc": {
   "base_numbering": 1,
   "nav_menu": {},
   "number_sections": true,
   "sideBar": true,
   "skip_h1_title": false,
   "title_cell": "Table of Contents",
   "title_sidebar": "Contents",
   "toc_cell": false,
   "toc_position": {
    "height": "calc(100% - 180px)",
    "left": "10px",
    "top": "150px",
    "width": "253px"
   },
   "toc_section_display": true,
   "toc_window_display": true
  }
 },
 "nbformat": 4,
 "nbformat_minor": 5
}
