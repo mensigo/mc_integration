{
 "cells": [
  {
   "cell_type": "code",
   "execution_count": null,
   "id": "present-illness",
   "metadata": {
    "ExecuteTime": {
     "start_time": "2022-06-10T23:06:02.182Z"
    }
   },
   "outputs": [],
   "source": [
    "import os\n",
    "import time\n",
    "from datetime import datetime\n",
    "\n",
    "import numpy as np\n",
    "import pandas as pd\n",
    "import scipy as sp\n",
    "from tqdm import tqdm\n",
    "\n",
    "import tensorflow as tf\n",
    "import tensorflow_probability as tfp\n",
    "\n",
    "import matplotlib.pyplot as plt\n",
    "%matplotlib inline"
   ]
  },
  {
   "cell_type": "code",
   "execution_count": null,
   "id": "general-yeast",
   "metadata": {
    "ExecuteTime": {
     "start_time": "2022-06-10T23:06:02.475Z"
    }
   },
   "outputs": [],
   "source": [
    "os.environ[\"CUDA_VISIBLE_DEVICES\"] = \"-1\""
   ]
  },
  {
   "cell_type": "code",
   "execution_count": null,
   "id": "satisfied-purse",
   "metadata": {
    "ExecuteTime": {
     "start_time": "2022-06-10T23:06:02.939Z"
    }
   },
   "outputs": [],
   "source": [
    "tf.test.is_gpu_available()"
   ]
  },
  {
   "cell_type": "code",
   "execution_count": 4,
   "id": "advisory-designation",
   "metadata": {},
   "outputs": [
    {
     "name": "stdout",
     "output_type": "stream",
     "text": [
      "0\n",
      "0\n"
     ]
    }
   ],
   "source": [
    "# tf.compat.v1.enable_eager_execution()\n",
    "print(tf.config.threading.get_inter_op_parallelism_threads())\n",
    "print(tf.config.threading.get_intra_op_parallelism_threads())\n",
    "\n",
    "\n",
    "# tf.compat.v1.disable_eager_execution()\n",
    "# tf.config.threading.set_inter_op_parallelism_threads(64)\n",
    "# tf.config.threading.set_intra_op_parallelism_threads(64)"
   ]
  },
  {
   "cell_type": "code",
   "execution_count": 5,
   "id": "complex-shannon",
   "metadata": {},
   "outputs": [
    {
     "name": "stdout",
     "output_type": "stream",
     "text": [
      "0\n",
      "0\n"
     ]
    }
   ],
   "source": [
    "print(tf.config.threading.get_inter_op_parallelism_threads())\n",
    "print(tf.config.threading.get_intra_op_parallelism_threads())"
   ]
  },
  {
   "cell_type": "code",
   "execution_count": 6,
   "id": "outdoor-adobe",
   "metadata": {},
   "outputs": [],
   "source": [
    "def start_profiling():\n",
    "    stamp = datetime.now().strftime(\"%Y%m%d-%H%M%S\")\n",
    "    logdir = 'logs/func/%s' % stamp\n",
    "\n",
    "    # Start tracing.                                                                                                                                                                              \n",
    "    options = tf.profiler.experimental.ProfilerOptions(\n",
    "        host_tracer_level=3, python_tracer_level=1, device_tracer_level=1, delay_ms=None\n",
    "    )\n",
    "\n",
    "    tf.profiler.experimental.start(logdir, options = options)\n",
    "    return logdir\n",
    "    \n",
    "    \n",
    "def end_profiling():\n",
    "    tf.profiler.experimental.stop()"
   ]
  },
  {
   "cell_type": "code",
   "execution_count": 7,
   "id": "retired-scholar",
   "metadata": {},
   "outputs": [],
   "source": [
    "@tf.function(input_signature=[tf.TensorSpec(shape=(None,6), dtype=tf.float64)])\n",
    "def f1(x):\n",
    "    \"\"\"\n",
    "        https://stackoverflow.com/questions/52774351/how-to-run-parallel-map-fn-when-eager-execution-enabled\n",
    "    \"\"\"\n",
    "    return tf.sin(tf.reduce_sum(x, axis=-1))"
   ]
  },
  {
   "cell_type": "code",
   "execution_count": 8,
   "id": "compressed-drain",
   "metadata": {},
   "outputs": [],
   "source": [
    "ndim = 9\n",
    "sigma = 0.01\n",
    "alpha = sigma * np.sqrt(2)\n",
    "\n",
    "@tf.function(input_signature=[tf.TensorSpec(shape=(None,9), dtype=tf.float64)])\n",
    "def f2(x):\n",
    "    pre = tf.cast(1.0 / (alpha * tf.sqrt(np.pi)) ** ndim, dtype=tf.float64)\n",
    "    exponent = -1 * tf.reduce_sum(x ** 2, axis=-1) / alpha ** 2\n",
    "    return pre * tf.exp(exponent)"
   ]
  },
  {
   "cell_type": "code",
   "execution_count": 11,
   "id": "terminal-coupon",
   "metadata": {},
   "outputs": [],
   "source": [
    "c1 = tf.random.uniform(shape=(10,6), minval=0, maxval=10, dtype=tf.float64)\n",
    "c2 = tf.random.uniform(shape=(2,9), minval=0, maxval=.04, dtype=tf.float64)"
   ]
  },
  {
   "cell_type": "code",
   "execution_count": 12,
   "id": "negative-caribbean",
   "metadata": {
    "collapsed": true
   },
   "outputs": [
    {
     "ename": "RuntimeError",
     "evalue": "tf.placeholder() is not compatible with eager execution.",
     "output_type": "error",
     "traceback": [
      "\u001b[1;31m---------------------------------------------------------------------------\u001b[0m",
      "\u001b[1;31mRuntimeError\u001b[0m                              Traceback (most recent call last)",
      "\u001b[1;32mC:\\TMP\\ipykernel_5880\\3991158947.py\u001b[0m in \u001b[0;36m<module>\u001b[1;34m\u001b[0m\n\u001b[1;32m----> 1\u001b[1;33m \u001b[0mx\u001b[0m \u001b[1;33m=\u001b[0m \u001b[0mtf\u001b[0m\u001b[1;33m.\u001b[0m\u001b[0mcompat\u001b[0m\u001b[1;33m.\u001b[0m\u001b[0mv1\u001b[0m\u001b[1;33m.\u001b[0m\u001b[0mplaceholder\u001b[0m\u001b[1;33m(\u001b[0m\u001b[0mtf\u001b[0m\u001b[1;33m.\u001b[0m\u001b[0mfloat64\u001b[0m\u001b[1;33m,\u001b[0m \u001b[0mshape\u001b[0m\u001b[1;33m=\u001b[0m\u001b[1;33m[\u001b[0m\u001b[1;32mNone\u001b[0m\u001b[1;33m]\u001b[0m\u001b[1;33m)\u001b[0m\u001b[1;33m\u001b[0m\u001b[1;33m\u001b[0m\u001b[0m\n\u001b[0m\u001b[0;32m      2\u001b[0m \u001b[1;33m\u001b[0m\u001b[0m\n\u001b[0;32m      3\u001b[0m \u001b[1;32mwith\u001b[0m \u001b[0mtf\u001b[0m\u001b[1;33m.\u001b[0m\u001b[0mcompat\u001b[0m\u001b[1;33m.\u001b[0m\u001b[0mv1\u001b[0m\u001b[1;33m.\u001b[0m\u001b[0mSession\u001b[0m\u001b[1;33m(\u001b[0m\u001b[1;33m)\u001b[0m \u001b[1;32mas\u001b[0m \u001b[0msess\u001b[0m\u001b[1;33m:\u001b[0m\u001b[1;33m\u001b[0m\u001b[1;33m\u001b[0m\u001b[0m\n\u001b[0;32m      4\u001b[0m \u001b[1;33m\u001b[0m\u001b[0m\n\u001b[0;32m      5\u001b[0m     \u001b[1;31m#writer = tf.summary.create_file_writer(logdir)\u001b[0m\u001b[1;33m\u001b[0m\u001b[1;33m\u001b[0m\u001b[1;33m\u001b[0m\u001b[0m\n",
      "\u001b[1;32mE:\\_MAGISTER_ACE\\Наука\\mc_integration\\mcenv\\lib\\site-packages\\tensorflow\\python\\ops\\array_ops.py\u001b[0m in \u001b[0;36mplaceholder\u001b[1;34m(dtype, shape, name)\u001b[0m\n\u001b[0;32m   3280\u001b[0m   \"\"\"\n\u001b[0;32m   3281\u001b[0m   \u001b[1;32mif\u001b[0m \u001b[0mcontext\u001b[0m\u001b[1;33m.\u001b[0m\u001b[0mexecuting_eagerly\u001b[0m\u001b[1;33m(\u001b[0m\u001b[1;33m)\u001b[0m\u001b[1;33m:\u001b[0m\u001b[1;33m\u001b[0m\u001b[1;33m\u001b[0m\u001b[0m\n\u001b[1;32m-> 3282\u001b[1;33m     raise RuntimeError(\"tf.placeholder() is not compatible with \"\n\u001b[0m\u001b[0;32m   3283\u001b[0m                        \"eager execution.\")\n\u001b[0;32m   3284\u001b[0m \u001b[1;33m\u001b[0m\u001b[0m\n",
      "\u001b[1;31mRuntimeError\u001b[0m: tf.placeholder() is not compatible with eager execution."
     ]
    }
   ],
   "source": [
    "x = tf.compat.v1.placeholder(tf.float64, shape=[None])\n",
    "\n",
    "with tf.compat.v1.Session() as sess:\n",
    "\n",
    "    #writer = tf.summary.create_file_writer(logdir)\n",
    "\n",
    "    #tf.profiler.experimental.start(logdir, options = options)                                                                                                                                \n",
    "    #tf.summary.trace_on(graph=True, profiler=True)\n",
    "\n",
    "    print(\n",
    "        sess.run(\n",
    "            f1(c1),\n",
    "#             feed_dict={\n",
    "#                 x: np.ones(4, dtype=np.int)\n",
    "#             }\n",
    "        )\n",
    "    )\n",
    "\n",
    "#f1(c1)"
   ]
  },
  {
   "cell_type": "code",
   "execution_count": 13,
   "id": "fitted-basin",
   "metadata": {},
   "outputs": [],
   "source": [
    "def variance_weighted_result(means, stddevs):\n",
    "    \"\"\" Computes weighted mean and stddev of given means and\n",
    "        stddevs arrays, using Inverse-variance weighting\n",
    "    \"\"\"\n",
    "    assert np.size(means) == np.size(stddevs)\n",
    "    assert means.shape == stddevs.shape\n",
    "    variance = 1./np.sum(1./stddevs**2, axis=-1)\n",
    "    mean = np.sum(means/(stddevs**2), axis=-1)\n",
    "    mean *= variance\n",
    "    return mean, np.sqrt(variance)"
   ]
  },
  {
   "cell_type": "markdown",
   "id": "outside-spotlight",
   "metadata": {},
   "source": [
    "### F1"
   ]
  },
  {
   "cell_type": "code",
   "execution_count": 14,
   "id": "catholic-hearts",
   "metadata": {},
   "outputs": [
    {
     "data": {
      "text/plain": [
       "(-49.165073816419444, 0.001)"
      ]
     },
     "execution_count": 14,
     "metadata": {},
     "output_type": "execute_result"
    }
   ],
   "source": [
    "target = 128 * (np.cos(5) + np.cos(15) + np.cos(25)) * np.sin(5) **7\n",
    "\n",
    "precision = 1e-3\n",
    "target_precision = min(abs(precision * target), precision)\n",
    "\n",
    "target, target_precision"
   ]
  },
  {
   "cell_type": "markdown",
   "id": "graphic-makeup",
   "metadata": {},
   "source": [
    "#### Uniform"
   ]
  },
  {
   "cell_type": "code",
   "execution_count": 21,
   "id": "adjacent-halifax",
   "metadata": {
    "ExecuteTime": {
     "end_time": "2022-05-22T11:55:36.054290Z",
     "start_time": "2022-05-22T11:55:28.904406Z"
    },
    "scrolled": true
   },
   "outputs": [
    {
     "name": "stdout",
     "output_type": "stream",
     "text": [
      "run=1 nitn=100000\n",
      "run=1 nitn=1000000\n",
      "run=1 nitn=10000000\n",
      "run=2 nitn=100000\n",
      "run=2 nitn=1000000\n",
      "run=2 nitn=10000000\n",
      "run=3 nitn=100000\n",
      "run=3 nitn=1000000\n",
      "run=3 nitn=10000000\n",
      "run=4 nitn=100000\n",
      "run=4 nitn=1000000\n",
      "run=4 nitn=10000000\n",
      "run=5 nitn=100000\n",
      "run=5 nitn=1000000\n",
      "run=5 nitn=10000000\n",
      "run=6 nitn=100000\n",
      "run=6 nitn=1000000\n",
      "run=6 nitn=10000000\n",
      "run=7 nitn=100000\n",
      "run=7 nitn=1000000\n",
      "run=7 nitn=10000000\n",
      "run=8 nitn=100000\n",
      "run=8 nitn=1000000\n",
      "run=8 nitn=10000000\n",
      "run=9 nitn=100000\n",
      "run=9 nitn=1000000\n",
      "run=9 nitn=10000000\n",
      "run=10 nitn=100000\n",
      "run=10 nitn=1000000\n",
      "run=10 nitn=10000000\n",
      "Wall time: 7.14 s\n"
     ]
    }
   ],
   "source": [
    "%%time\n",
    "tf.random.set_seed(123)\n",
    "\n",
    "ndims = 6\n",
    "# max_samples = 10**9\n",
    "\n",
    "results = []\n",
    "results_means = []\n",
    "results_stddevs = []\n",
    "result_times = []\n",
    "result_runs = []\n",
    "\n",
    "# epoch = 0\n",
    "# current_precision = 1e99\n",
    "\n",
    "nitn_lst = list(map(int, [1e5, 1e6, 1e7]))\n",
    "run_lst = list(range(1,11))\n",
    "\n",
    "for run in run_lst:\n",
    "    for nitn in nitn_lst:\n",
    "        \n",
    "        print(f'run={run} nitn={nitn}')\n",
    "\n",
    "        time_a = time.time()\n",
    "        samples = tf.random.uniform(shape=(nitn, ndims), minval=0, maxval=10, dtype=tf.float64)\n",
    "        current_result = f1(samples) * 10 ** ndims\n",
    "        time_b = time.time() - time_a\n",
    "        result_times.append(time_b)\n",
    "        result_runs.append(run)\n",
    "\n",
    "        current_result_mean = tf.reduce_mean(current_result).numpy()\n",
    "        current_result_stddev = tf.math.reduce_std(current_result).numpy()\n",
    "\n",
    "        results_means.append(current_result_mean)\n",
    "        results_stddevs.append(current_result_stddev)\n",
    "        results.append(current_result)\n",
    "\n",
    "        # print(current_result_mean, current_result_stddev)"
   ]
  },
  {
   "cell_type": "code",
   "execution_count": 22,
   "id": "cardiovascular-cattle",
   "metadata": {
    "ExecuteTime": {
     "end_time": "2022-05-22T11:55:41.987427Z",
     "start_time": "2022-05-22T11:55:41.747070Z"
    }
   },
   "outputs": [],
   "source": [
    "temp_df = pd.DataFrame({'nitn': nitn_lst * len(run_lst),\n",
    "                        'result_means': results_means,\n",
    "                        'results_stddevs':results_stddevs,\n",
    "                        'result_times': result_times,\n",
    "                        'run': result_runs\n",
    "                       })\n",
    "temp_df['s_per_sample'] = temp_df.result_times / temp_df.nitn"
   ]
  },
  {
   "cell_type": "code",
   "execution_count": 23,
   "id": "black-corporation",
   "metadata": {
    "ExecuteTime": {
     "end_time": "2022-05-22T11:55:43.998051Z",
     "start_time": "2022-05-22T11:55:43.963145Z"
    }
   },
   "outputs": [],
   "source": [
    "g = temp_df.groupby('nitn')['result_means'].apply(lambda x: x.tolist())"
   ]
  },
  {
   "cell_type": "code",
   "execution_count": 24,
   "id": "private-donor",
   "metadata": {
    "ExecuteTime": {
     "end_time": "2022-05-22T11:55:44.720121Z",
     "start_time": "2022-05-22T11:55:44.243395Z"
    }
   },
   "outputs": [
    {
     "data": {
      "image/png": "[encoded data removed]",
      "text/plain": [
       "<Figure size 432x288 with 1 Axes>"
      ]
     },
     "metadata": {
      "needs_background": "light"
     },
     "output_type": "display_data"
    }
   ],
   "source": [
    "# plt.yscale('log')\n",
    "plt.axhline(y=target, linestyle=':')\n",
    "plt.title('Uniform')\n",
    "plt.xlabel('samples')\n",
    "plt.ylabel('result')\n",
    "plt.boxplot(g.values, labels=['1e5', '1e6', '1e7']);"
   ]
  },
  {
   "cell_type": "code",
   "execution_count": 29,
   "id": "informal-shower",
   "metadata": {
    "ExecuteTime": {
     "end_time": "2022-05-22T11:56:13.097251Z",
     "start_time": "2022-05-22T11:56:13.089272Z"
    }
   },
   "outputs": [
    {
     "data": {
      "text/html": [
       "<div>\n",
       "<style scoped>\n",
       "    .dataframe tbody tr th:only-of-type {\n",
       "        vertical-align: middle;\n",
       "    }\n",
       "\n",
       "    .dataframe tbody tr th {\n",
       "        vertical-align: top;\n",
       "    }\n",
       "\n",
       "    .dataframe thead th {\n",
       "        text-align: right;\n",
       "    }\n",
       "</style>\n",
       "<table border=\"1\" class=\"dataframe\">\n",
       "  <thead>\n",
       "    <tr style=\"text-align: right;\">\n",
       "      <th></th>\n",
       "      <th>mean</th>\n",
       "      <th>std</th>\n",
       "    </tr>\n",
       "    <tr>\n",
       "      <th>nitn</th>\n",
       "      <th></th>\n",
       "      <th></th>\n",
       "    </tr>\n",
       "  </thead>\n",
       "  <tbody>\n",
       "    <tr>\n",
       "      <th>100000</th>\n",
       "      <td>723.782799</td>\n",
       "      <td>1556.280870</td>\n",
       "    </tr>\n",
       "    <tr>\n",
       "      <th>1000000</th>\n",
       "      <td>-213.129661</td>\n",
       "      <td>649.105808</td>\n",
       "    </tr>\n",
       "    <tr>\n",
       "      <th>10000000</th>\n",
       "      <td>24.924594</td>\n",
       "      <td>235.269052</td>\n",
       "    </tr>\n",
       "  </tbody>\n",
       "</table>\n",
       "</div>"
      ],
      "text/plain": [
       "                mean          std\n",
       "nitn                             \n",
       "100000    723.782799  1556.280870\n",
       "1000000  -213.129661   649.105808\n",
       "10000000   24.924594   235.269052"
      ]
     },
     "execution_count": 29,
     "metadata": {},
     "output_type": "execute_result"
    }
   ],
   "source": [
    "temp_df.groupby('nitn')['result_means'].agg([np.mean, np.std])"
   ]
  },
  {
   "cell_type": "code",
   "execution_count": 31,
   "id": "coupled-paintball",
   "metadata": {
    "ExecuteTime": {
     "end_time": "2022-05-22T12:00:43.471869Z",
     "start_time": "2022-05-22T12:00:43.466882Z"
    }
   },
   "outputs": [
    {
     "data": {
      "text/plain": [
       "74.08966781641945"
      ]
     },
     "execution_count": 31,
     "metadata": {},
     "output_type": "execute_result"
    }
   ],
   "source": [
    "24.924594 - target"
   ]
  },
  {
   "cell_type": "code",
   "execution_count": 30,
   "id": "white-benchmark",
   "metadata": {
    "ExecuteTime": {
     "end_time": "2022-05-22T11:59:30.978691Z",
     "start_time": "2022-05-22T11:59:30.971709Z"
    }
   },
   "outputs": [
    {
     "data": {
      "text/plain": [
       "nitn\n",
       "100000      0.043384\n",
       "1000000     0.061535\n",
       "10000000    0.560402\n",
       "Name: result_times, dtype: float64"
      ]
     },
     "execution_count": 30,
     "metadata": {},
     "output_type": "execute_result"
    }
   ],
   "source": [
    "g = temp_df.groupby('nitn')['result_times'].apply(lambda x: x.tolist())\n",
    "g.apply(np.mean)"
   ]
  },
  {
   "cell_type": "code",
   "execution_count": 27,
   "id": "international-romantic",
   "metadata": {
    "ExecuteTime": {
     "end_time": "2022-05-22T11:55:47.965444Z",
     "start_time": "2022-05-22T11:55:47.482735Z"
    }
   },
   "outputs": [
    {
     "data": {
      "image/png": "[encoded data removed]",
      "text/plain": [
       "<Figure size 432x288 with 1 Axes>"
      ]
     },
     "metadata": {
      "needs_background": "light"
     },
     "output_type": "display_data"
    }
   ],
   "source": [
    "plt.title('Uniform')\n",
    "plt.xlabel('samples')\n",
    "plt.ylabel('time (s)')\n",
    "plt.scatter(g.index, g.apply(np.mean))\n",
    "plt.plot(g.index, g.apply(np.mean), linestyle='--')\n",
    "plt.xscale('log')\n",
    "\n",
    "# locs, labels = plt.xticks()\n",
    "# print(locs)\n",
    "# plt.xticks(locs, ['', '1e5', '', '', '', '1e6', '', '', '', '1e7', '']);\n",
    "\n",
    "# plt.boxplot(g.values, labels=['1e5', '1e6', '1e7']);"
   ]
  },
  {
   "cell_type": "code",
   "execution_count": 24,
   "id": "introductory-mapping",
   "metadata": {
    "code_folding": [
     0
    ],
    "scrolled": true
   },
   "outputs": [],
   "source": [
    "# %%time\n",
    "# tf.random.set_seed(123)\n",
    "\n",
    "# ndims = 6\n",
    "# batch_size = 1_000_000\n",
    "# max_samples = 10**9\n",
    "\n",
    "# acc = 0\n",
    "\n",
    "# results = []\n",
    "# results_means = []\n",
    "# results_stddevs = []\n",
    "\n",
    "# epoch = 0\n",
    "# current_precision = 1e99\n",
    "\n",
    "# # while current_precision > target_precision:\n",
    "# for i in range(1000):\n",
    "    \n",
    "#     samples = tf.random.uniform(shape=(batch_size, ndims), minval=0, maxval=10, dtype=tf.float64)\n",
    "# #     acc += batch_size\n",
    "    \n",
    "#     current_result = f1(samples) * 10 ** ndims\n",
    "#     current_result_mean = tf.reduce_mean(current_result).numpy()#[0]\n",
    "#     current_result_stddev = tf.math.reduce_std(current_result).numpy()#[0]\n",
    "    \n",
    "#     results_means.append(current_result_mean)\n",
    "#     results_stddevs.append(current_result_stddev)\n",
    "#     results.append(current_result)\n",
    "        \n",
    "# #     _, current_precision = variance_weighted_result(np.array(results_means), np.array(results_stddevs))\n",
    "# #     if epoch % 10 == 0:\n",
    "# #         print('Epoch: {:3d} Integral = '\n",
    "# #               '{:8e} +/- {:8e} Total uncertainty = {:8e}'.format(epoch, \n",
    "# #                                                                  current_result_mean,\n",
    "# #                                                                  current_result_stddev,\n",
    "# #                                                                  current_precision))\n",
    "    \n",
    "#     epoch += 1\n",
    "    \n",
    "#     if epoch * batch_size >= max_samples:\n",
    "#         print('BREAK')\n",
    "#         break\n",
    "    "
   ]
  },
  {
   "cell_type": "code",
   "execution_count": 28,
   "id": "iraqi-institution",
   "metadata": {
    "ExecuteTime": {
     "end_time": "2022-05-22T11:55:59.662171Z",
     "start_time": "2022-05-22T11:55:59.658182Z"
    },
    "code_folding": [],
    "scrolled": true
   },
   "outputs": [],
   "source": [
    "variance_weighted_result(np.array(results_means), np.array(results_stddevs))"
   ]
  },
  {
   "cell_type": "markdown",
   "id": "induced-twelve",
   "metadata": {},
   "source": [
    "#### Halton"
   ]
  },
  {
   "cell_type": "markdown",
   "id": "consistent-journal",
   "metadata": {},
   "source": [
    "##### random"
   ]
  },
  {
   "cell_type": "code",
   "execution_count": 84,
   "id": "separated-legislature",
   "metadata": {
    "ExecuteTime": {
     "end_time": "2022-05-22T12:22:32.651587Z",
     "start_time": "2022-05-22T12:22:05.212948Z"
    }
   },
   "outputs": [
    {
     "name": "stdout",
     "output_type": "stream",
     "text": [
      "run=1 nitn=100000\n",
      "-2684.727165293024 707755.160680954\n",
      "run=1 nitn=1000000\n",
      "-316.21792481851304 706903.625525006\n",
      "run=2 nitn=100000\n",
      "233.43311105750084 707005.1509722935\n",
      "run=2 nitn=1000000\n",
      "96.2530568268733 706856.2781893861\n",
      "run=3 nitn=100000\n",
      "623.7947058569523 706765.3181909428\n",
      "run=3 nitn=1000000\n",
      "-256.92888413327216 707438.5135474082\n",
      "run=4 nitn=100000\n",
      "-3228.759583475074 707428.579431426\n",
      "run=4 nitn=1000000\n",
      "83.76914840144384 707065.0763718383\n",
      "run=5 nitn=100000\n",
      "-1891.9681585841965 708202.3491739075\n",
      "run=5 nitn=1000000\n",
      "451.96912662761844 707022.9808683621\n",
      "run=6 nitn=100000\n",
      "1379.2809924961282 708240.7207025306\n",
      "run=6 nitn=1000000\n",
      "-462.577617774083 706683.7443619407\n",
      "run=7 nitn=100000\n",
      "-231.9877845655799 708168.6524728925\n",
      "run=7 nitn=1000000\n",
      "-216.91497404506933 707188.1130146991\n",
      "run=8 nitn=100000\n",
      "-1268.505048761599 707231.7068650887\n",
      "run=8 nitn=1000000\n",
      "-383.2498313035232 707089.0993392256\n",
      "run=9 nitn=100000\n",
      "-695.0241578257518 707159.3986327484\n",
      "run=9 nitn=1000000\n",
      "-777.9280362660645 707197.2242230295\n",
      "run=10 nitn=100000\n",
      "-1591.5448692014622 706593.2150600465\n",
      "run=10 nitn=1000000\n",
      "-304.8819620065855 706996.3886503407\n",
      "Wall time: 27.4 s\n"
     ]
    }
   ],
   "source": [
    "%%time\n",
    "tf.random.set_seed(123)\n",
    "\n",
    "ndims = 6\n",
    "max_samples = 10**9\n",
    "\n",
    "results = []\n",
    "results_means = []\n",
    "results_stddevs = []\n",
    "result_times = []\n",
    "result_runs = []\n",
    "\n",
    "nitn_lst = list(map(int, [1e5, 1e6]))\n",
    "run_lst = range(1,11)\n",
    "\n",
    "for run in run_lst:\n",
    "    for nitn in nitn_lst:\n",
    "        \n",
    "        print(f'run={run} nitn={nitn}')\n",
    "\n",
    "        time_a = time.time()\n",
    "        # sequence_indices = tf.range(start=0, limit=(epoch+1)*batch_size, dtype=tf.int32)\n",
    "        # sequence_indices = tf.range(start=0*batch_size, limit=(0+1)*batch_size, dtype=tf.int32)\n",
    "        samples = tfp.mcmc.sample_halton_sequence(\n",
    "            dim=ndims,\n",
    "            #sequence_indices=sequence_indices,\n",
    "            num_results=nitn,\n",
    "            dtype=tf.float64,\n",
    "            randomized=True,\n",
    "            seed=run\n",
    "        ) * 10\n",
    "        current_result = f1(samples) * 10 ** ndims\n",
    "        time_b = time.time() - time_a\n",
    "        result_times.append(time_b)\n",
    "        result_runs.append(run)\n",
    "\n",
    "        current_result_mean = tf.reduce_mean(current_result).numpy()\n",
    "        current_result_stddev = tf.math.reduce_std(current_result).numpy()\n",
    "\n",
    "        results_means.append(current_result_mean)\n",
    "        results_stddevs.append(current_result_stddev)\n",
    "        results.append(current_result)\n",
    "\n",
    "        print(current_result_mean, current_result_stddev)"
   ]
  },
  {
   "cell_type": "code",
   "execution_count": 85,
   "id": "wrapped-mobile",
   "metadata": {
    "ExecuteTime": {
     "end_time": "2022-05-22T12:22:35.372312Z",
     "start_time": "2022-05-22T12:22:35.364334Z"
    },
    "code_folding": [
     0
    ]
   },
   "outputs": [],
   "source": [
    "# %%time\n",
    "# tf.random.set_seed(123)\n",
    "\n",
    "# ndims = 6\n",
    "# max_samples = 10**9\n",
    "\n",
    "# results = []\n",
    "# results_means = []\n",
    "# results_stddevs = []\n",
    "# result_times = []\n",
    "# result_runs = []\n",
    "\n",
    "# epoch = 0\n",
    "# current_precision = 1e99\n",
    "\n",
    "# nitn_lst = list(map(int, [1e6]))\n",
    "# run_lst = list(range(1,11))\n",
    "\n",
    "# with tf.compat.v1.Session() as sess:\n",
    "\n",
    "#     writer = tf.summary.create_file_writer(logdir)\n",
    "#     tf.summary.trace_on(graph=True, profiler=True)\n",
    "\n",
    "#     for run in run_lst:\n",
    "#         for nitn in nitn_lst:\n",
    "\n",
    "#             print(f'run={run} nitn={nitn}')\n",
    "            \n",
    "#             if run == run_lst[0] and nitn == nitn_lst[0]:\n",
    "#                 print('building graph..')\n",
    "#                 _ = sess.run(f1(tfp.mcmc.sample_halton_sequence(\n",
    "#                     dim=ndims,\n",
    "#                     #sequence_indices=sequence_indices,\n",
    "#                     num_results=nitn,\n",
    "#                     dtype=tf.float64,\n",
    "#                     randomized=True,\n",
    "#                     seed=123\n",
    "#                 )) * 10 ** ndims)\n",
    "#                 print('           - done')\n",
    "\n",
    "#             time_a = time.time()\n",
    "#             # sequence_indices = tf.range(start=0, limit=(epoch+1)*batch_size, dtype=tf.int32)\n",
    "#             # sequence_indices = tf.range(start=0*batch_size, limit=(0+1)*batch_size, dtype=tf.int32)\n",
    "#             samples = tfp.mcmc.sample_halton_sequence(\n",
    "#                 dim=ndims,\n",
    "#                 #sequence_indices=sequence_indices,\n",
    "#                 num_results=nitn,\n",
    "#                 dtype=tf.float64,\n",
    "#                 randomized=True,\n",
    "#                 seed=run\n",
    "#             )\n",
    "#             # current_result = f1(samples) * 10 ** ndims\n",
    "#             current_result = sess.run(f1(samples) * 10 ** ndims)\n",
    "            \n",
    "#             time_b = time.time() - time_a\n",
    "#             result_times.append(time_b)\n",
    "#             result_runs.append(run)\n",
    "\n",
    "#             #current_result_mean = tf.reduce_mean(current_result).numpy()\n",
    "#             #current_result_stddev = tf.math.reduce_std(current_result).numpy()\n",
    "            \n",
    "#             current_result_mean = np.mean(current_result)\n",
    "#             current_result_stddev = np.std(current_result)\n",
    "\n",
    "#             results_means.append(current_result_mean)\n",
    "#             results_stddevs.append(current_result_stddev)\n",
    "#             results.append(current_result)\n",
    "\n",
    "#             print(current_result_mean, current_result_stddev)"
   ]
  },
  {
   "cell_type": "code",
   "execution_count": 86,
   "id": "swedish-magic",
   "metadata": {
    "ExecuteTime": {
     "end_time": "2022-05-22T12:22:36.492318Z",
     "start_time": "2022-05-22T12:22:36.354686Z"
    }
   },
   "outputs": [],
   "source": [
    "temp_df = pd.DataFrame({'nitn': nitn_lst * len(run_lst),\n",
    "                        'result_means': results_means,\n",
    "                        'results_stddevs':results_stddevs,\n",
    "                        'result_times': result_times,\n",
    "                        'run': result_runs\n",
    "                       })\n",
    "temp_df['s_per_sample'] = temp_df.result_times / temp_df.nitn"
   ]
  },
  {
   "cell_type": "code",
   "execution_count": 87,
   "id": "bulgarian-european",
   "metadata": {
    "ExecuteTime": {
     "end_time": "2022-05-22T12:22:36.670840Z",
     "start_time": "2022-05-22T12:22:36.643912Z"
    }
   },
   "outputs": [],
   "source": [
    "g = temp_df.groupby('nitn')['result_means'].apply(lambda x: x.tolist())"
   ]
  },
  {
   "cell_type": "code",
   "execution_count": 88,
   "id": "dress-shark",
   "metadata": {
    "ExecuteTime": {
     "end_time": "2022-05-22T12:22:37.316115Z",
     "start_time": "2022-05-22T12:22:37.027886Z"
    }
   },
   "outputs": [
    {
     "data": {
      "image/png": "[encoded data removed]",
      "text/plain": [
       "<Figure size 432x288 with 1 Axes>"
      ]
     },
     "metadata": {
      "needs_background": "light"
     },
     "output_type": "display_data"
    }
   ],
   "source": [
    "# plt.yscale('log')\n",
    "plt.axhline(y=target, linestyle=':')\n",
    "plt.title('Uniform')\n",
    "plt.xlabel('samples')\n",
    "plt.ylabel('result')\n",
    "plt.boxplot(g.values, labels=list(map(str,nitn_lst)));"
   ]
  },
  {
   "cell_type": "code",
   "execution_count": 89,
   "id": "voluntary-single",
   "metadata": {
    "ExecuteTime": {
     "end_time": "2022-05-22T12:22:55.397799Z",
     "start_time": "2022-05-22T12:22:55.361867Z"
    }
   },
   "outputs": [
    {
     "data": {
      "text/html": [
       "<div>\n",
       "<style scoped>\n",
       "    .dataframe tbody tr th:only-of-type {\n",
       "        vertical-align: middle;\n",
       "    }\n",
       "\n",
       "    .dataframe tbody tr th {\n",
       "        vertical-align: top;\n",
       "    }\n",
       "\n",
       "    .dataframe thead th {\n",
       "        text-align: right;\n",
       "    }\n",
       "</style>\n",
       "<table border=\"1\" class=\"dataframe\">\n",
       "  <thead>\n",
       "    <tr style=\"text-align: right;\">\n",
       "      <th></th>\n",
       "      <th>mean</th>\n",
       "      <th>std</th>\n",
       "    </tr>\n",
       "    <tr>\n",
       "      <th>nitn</th>\n",
       "      <th></th>\n",
       "      <th></th>\n",
       "    </tr>\n",
       "  </thead>\n",
       "  <tbody>\n",
       "    <tr>\n",
       "      <th>100000</th>\n",
       "      <td>-935.600796</td>\n",
       "      <td>1471.345845</td>\n",
       "    </tr>\n",
       "    <tr>\n",
       "      <th>1000000</th>\n",
       "      <td>-208.670790</td>\n",
       "      <td>342.728413</td>\n",
       "    </tr>\n",
       "  </tbody>\n",
       "</table>\n",
       "</div>"
      ],
      "text/plain": [
       "               mean          std\n",
       "nitn                            \n",
       "100000  -935.600796  1471.345845\n",
       "1000000 -208.670790   342.728413"
      ]
     },
     "execution_count": 89,
     "metadata": {},
     "output_type": "execute_result"
    }
   ],
   "source": [
    "temp_df.groupby('nitn')['result_means'].agg([np.mean, np.std])"
   ]
  },
  {
   "cell_type": "code",
   "execution_count": 91,
   "id": "manufactured-tiffany",
   "metadata": {
    "ExecuteTime": {
     "end_time": "2022-05-22T12:23:03.470189Z",
     "start_time": "2022-05-22T12:23:03.465202Z"
    }
   },
   "outputs": [
    {
     "data": {
      "text/plain": [
       "-159.50571618358057"
      ]
     },
     "execution_count": 91,
     "metadata": {},
     "output_type": "execute_result"
    }
   ],
   "source": [
    "-208.670790 - target"
   ]
  },
  {
   "cell_type": "code",
   "execution_count": 92,
   "id": "golden-things",
   "metadata": {
    "ExecuteTime": {
     "end_time": "2022-05-22T12:23:04.868450Z",
     "start_time": "2022-05-22T12:23:04.859474Z"
    }
   },
   "outputs": [
    {
     "data": {
      "text/plain": [
       "nitn\n",
       "100000     0.402125\n",
       "1000000    2.280303\n",
       "Name: result_times, dtype: float64"
      ]
     },
     "execution_count": 92,
     "metadata": {},
     "output_type": "execute_result"
    }
   ],
   "source": [
    "g = temp_df.groupby('nitn')['result_times'].apply(lambda x: x.tolist())\n",
    "g.apply(np.mean)"
   ]
  },
  {
   "cell_type": "code",
   "execution_count": 93,
   "id": "acquired-transcription",
   "metadata": {
    "ExecuteTime": {
     "end_time": "2022-05-22T12:23:10.676920Z",
     "start_time": "2022-05-22T12:23:09.323539Z"
    }
   },
   "outputs": [
    {
     "data": {
      "image/png": "[encoded data removed]",
      "text/plain": [
       "<Figure size 432x288 with 1 Axes>"
      ]
     },
     "metadata": {
      "needs_background": "light"
     },
     "output_type": "display_data"
    }
   ],
   "source": [
    "plt.title('Uniform')\n",
    "plt.xlabel('samples')\n",
    "plt.ylabel('time (s)')\n",
    "plt.scatter(g.index, g.apply(np.mean))\n",
    "plt.plot(g.index, g.apply(np.mean), linestyle='--')\n",
    "plt.xscale('log')\n",
    "\n",
    "# locs, labels = plt.xticks()\n",
    "# print(locs)\n",
    "# plt.xticks(locs, ['', '1e5', '', '', '', '1e6', '', '', '', '1e7', '']);\n",
    "\n",
    "# plt.boxplot(g.values, labels=['1e5', '1e6', '1e7']);"
   ]
  },
  {
   "cell_type": "markdown",
   "id": "finnish-milton",
   "metadata": {},
   "source": [
    "##### batch"
   ]
  },
  {
   "cell_type": "code",
   "execution_count": 115,
   "id": "retained-sensitivity",
   "metadata": {
    "ExecuteTime": {
     "end_time": "2022-05-22T12:34:17.727476Z",
     "start_time": "2022-05-22T12:33:51.427792Z"
    }
   },
   "outputs": [
    {
     "name": "stdout",
     "output_type": "stream",
     "text": [
      "run=1 nitn=100000  b[0, 100000]\n",
      "-2684.727165293024 707755.160680954\n",
      "run=1 nitn=1000000  b[1000000, 2000000]\n",
      "211.96633015904212 707153.3759075743\n",
      "run=2 nitn=100000  b[0, 100000]\n",
      "233.43311105750084 707005.1509722935\n",
      "run=2 nitn=1000000  b[1000000, 2000000]\n",
      "27.68062540282452 707342.1371908488\n",
      "run=3 nitn=100000  b[0, 100000]\n",
      "623.7947058569523 706765.3181909428\n",
      "run=3 nitn=1000000  b[1000000, 2000000]\n",
      "363.48880889692305 707427.3631076892\n",
      "run=4 nitn=100000  b[0, 100000]\n",
      "-3228.759583475074 707428.579431426\n",
      "run=4 nitn=1000000  b[1000000, 2000000]\n",
      "817.1565466848645 707152.250548726\n",
      "run=5 nitn=100000  b[0, 100000]\n",
      "-1891.9681585841965 708202.3491739075\n",
      "run=5 nitn=1000000  b[1000000, 2000000]\n",
      "385.81905045069954 706883.333557791\n",
      "run=6 nitn=100000  b[0, 100000]\n",
      "1379.2809924961282 708240.7207025306\n",
      "run=6 nitn=1000000  b[1000000, 2000000]\n",
      "69.41305103339536 707120.3026513939\n",
      "run=7 nitn=100000  b[0, 100000]\n",
      "-231.9877845655799 708168.6524728925\n",
      "run=7 nitn=1000000  b[1000000, 2000000]\n",
      "147.74165690145423 707086.0700359297\n",
      "run=8 nitn=100000  b[0, 100000]\n",
      "-1268.505048761599 707231.7068650887\n",
      "run=8 nitn=1000000  b[1000000, 2000000]\n",
      "52.9395588929694 706748.1052897645\n",
      "run=9 nitn=100000  b[0, 100000]\n",
      "-695.0241578257518 707159.3986327484\n",
      "run=9 nitn=1000000  b[1000000, 2000000]\n",
      "-555.5913631483572 707006.9131384465\n",
      "run=10 nitn=100000  b[0, 100000]\n",
      "-1591.5448692014622 706593.2150600465\n",
      "run=10 nitn=1000000  b[1000000, 2000000]\n",
      "51.3670983307887 707151.8842786433\n",
      "Wall time: 26.3 s\n"
     ]
    }
   ],
   "source": [
    "%%time\n",
    "tf.random.set_seed(123)\n",
    "\n",
    "ndims = 6\n",
    "max_samples = 10**9\n",
    "\n",
    "results = []\n",
    "results_means = []\n",
    "results_stddevs = []\n",
    "result_times = []\n",
    "result_runs = []\n",
    "\n",
    "nitn_lst = list(map(int, [1e5, 1e6]))\n",
    "run_lst = range(1,11)\n",
    "\n",
    "for run in run_lst:\n",
    "    for j, nitn in enumerate(nitn_lst):\n",
    "        \n",
    "        print(f'run={run} nitn={nitn}  b[{j*nitn}, {(j+1)*nitn}]')\n",
    "\n",
    "        time_a = time.time()\n",
    "        samples = tfp.mcmc.sample_halton_sequence(\n",
    "            dim=ndims,\n",
    "            sequence_indices=tf.range(start=j*nitn, limit=(j+1)*nitn, dtype=tf.int32),\n",
    "            # num_results=nitn,\n",
    "            dtype=tf.float64,\n",
    "            randomized=True,\n",
    "            seed=run\n",
    "        ) * 10\n",
    "        current_result = f1(samples) * 10 ** ndims\n",
    "        time_b = time.time() - time_a\n",
    "        result_times.append(time_b)\n",
    "        result_runs.append(run)\n",
    "\n",
    "        current_result_mean = tf.reduce_mean(current_result).numpy()\n",
    "        current_result_stddev = tf.math.reduce_std(current_result).numpy()\n",
    "\n",
    "        results_means.append(current_result_mean)\n",
    "        results_stddevs.append(current_result_stddev)\n",
    "        results.append(current_result)\n",
    "\n",
    "        print(current_result_mean, current_result_stddev)"
   ]
  },
  {
   "cell_type": "code",
   "execution_count": 118,
   "id": "beautiful-shepherd",
   "metadata": {
    "ExecuteTime": {
     "end_time": "2022-05-22T12:34:22.895658Z",
     "start_time": "2022-05-22T12:34:22.891669Z"
    },
    "code_folding": [
     0
    ]
   },
   "outputs": [],
   "source": [
    "# %%time\n",
    "# tf.random.set_seed(123)\n",
    "\n",
    "# ndims = 6\n",
    "# max_samples = 10**9\n",
    "\n",
    "# results = []\n",
    "# results_means = []\n",
    "# results_stddevs = []\n",
    "# result_times = []\n",
    "# result_runs = []\n",
    "\n",
    "# epoch = 0\n",
    "# current_precision = 1e99\n",
    "\n",
    "# nitn_lst = list(map(int, [1e6]))\n",
    "# run_lst = list(range(1,11))\n",
    "\n",
    "# with tf.compat.v1.Session() as sess:\n",
    "\n",
    "#     writer = tf.summary.create_file_writer(logdir)\n",
    "#     tf.summary.trace_on(graph=True, profiler=True)\n",
    "\n",
    "#     for run in run_lst:\n",
    "#         for nitn in nitn_lst:\n",
    "\n",
    "#             print(f'run={run} nitn={nitn}')\n",
    "            \n",
    "#             if run == run_lst[0] and nitn == nitn_lst[0]:\n",
    "#                 print('building graph..')\n",
    "#                 _ = sess.run(f1(tfp.mcmc.sample_halton_sequence(\n",
    "#                     dim=ndims,\n",
    "#                     #sequence_indices=sequence_indices,\n",
    "#                     num_results=nitn,\n",
    "#                     dtype=tf.float64,\n",
    "#                     randomized=True,\n",
    "#                     seed=123\n",
    "#                 )) * 10 ** ndims)\n",
    "#                 print('           - done')\n",
    "\n",
    "#             time_a = time.time()\n",
    "#             # sequence_indices = tf.range(start=0, limit=(epoch+1)*batch_size, dtype=tf.int32)\n",
    "#             # sequence_indices = tf.range(start=0*batch_size, limit=(0+1)*batch_size, dtype=tf.int32)\n",
    "#             samples = tfp.mcmc.sample_halton_sequence(\n",
    "#                 dim=ndims,\n",
    "#                 #sequence_indices=sequence_indices,\n",
    "#                 num_results=nitn,\n",
    "#                 dtype=tf.float64,\n",
    "#                 randomized=True,\n",
    "#                 seed=run\n",
    "#             )\n",
    "#             # current_result = f1(samples) * 10 ** ndims\n",
    "#             current_result = sess.run(f1(samples) * 10 ** ndims)\n",
    "            \n",
    "#             time_b = time.time() - time_a\n",
    "#             result_times.append(time_b)\n",
    "#             result_runs.append(run)\n",
    "\n",
    "#             #current_result_mean = tf.reduce_mean(current_result).numpy()\n",
    "#             #current_result_stddev = tf.math.reduce_std(current_result).numpy()\n",
    "            \n",
    "#             current_result_mean = np.mean(current_result)\n",
    "#             current_result_stddev = np.std(current_result)\n",
    "\n",
    "#             results_means.append(current_result_mean)\n",
    "#             results_stddevs.append(current_result_stddev)\n",
    "#             results.append(current_result)\n",
    "\n",
    "#             print(current_result_mean, current_result_stddev)"
   ]
  },
  {
   "cell_type": "code",
   "execution_count": 119,
   "id": "statutory-flood",
   "metadata": {
    "ExecuteTime": {
     "end_time": "2022-05-22T12:34:23.177903Z",
     "start_time": "2022-05-22T12:34:23.171919Z"
    }
   },
   "outputs": [],
   "source": [
    "temp_df = pd.DataFrame({'nitn': nitn_lst * len(run_lst),\n",
    "                        'result_means': results_means,\n",
    "                        'results_stddevs':results_stddevs,\n",
    "                        'result_times': result_times,\n",
    "                        'run': result_runs\n",
    "                       })\n",
    "temp_df['s_per_sample'] = temp_df.result_times / temp_df.nitn"
   ]
  },
  {
   "cell_type": "code",
   "execution_count": 130,
   "id": "gothic-timer",
   "metadata": {
    "ExecuteTime": {
     "end_time": "2022-05-22T12:38:53.066319Z",
     "start_time": "2022-05-22T12:38:53.059336Z"
    }
   },
   "outputs": [
    {
     "data": {
      "text/plain": [
       "nitn\n",
       "100000      (-935.6306416216983, 223716.6986708482)\n",
       "1000000    (157.16421563140418, 223606.89811102004)\n",
       "dtype: object"
      ]
     },
     "execution_count": 130,
     "metadata": {},
     "output_type": "execute_result"
    }
   ],
   "source": [
    "temp_df.groupby('nitn').apply(lambda x: variance_weighted_result(x['result_means'].values,\n",
    "                                                                 x['results_stddevs'].values))"
   ]
  },
  {
   "cell_type": "code",
   "execution_count": 131,
   "id": "charming-playing",
   "metadata": {
    "ExecuteTime": {
     "end_time": "2022-05-22T12:38:54.015779Z",
     "start_time": "2022-05-22T12:38:54.011789Z"
    }
   },
   "outputs": [],
   "source": [
    "g = temp_df.groupby('nitn')['result_means'].apply(lambda x: x.tolist())"
   ]
  },
  {
   "cell_type": "code",
   "execution_count": 132,
   "id": "coated-hawaiian",
   "metadata": {
    "ExecuteTime": {
     "end_time": "2022-05-22T12:38:54.330936Z",
     "start_time": "2022-05-22T12:38:54.254141Z"
    }
   },
   "outputs": [
    {
     "data": {
      "image/png": "[encoded data removed]",
      "text/plain": [
       "<Figure size 432x288 with 1 Axes>"
      ]
     },
     "metadata": {
      "needs_background": "light"
     },
     "output_type": "display_data"
    }
   ],
   "source": [
    "# plt.yscale('log')\n",
    "plt.axhline(y=target, linestyle=':')\n",
    "plt.title('Halton-b')\n",
    "plt.xlabel('samples')\n",
    "plt.ylabel('result')\n",
    "plt.boxplot(g.values, labels=list(map(str,nitn_lst)));"
   ]
  },
  {
   "cell_type": "code",
   "execution_count": 133,
   "id": "enclosed-panic",
   "metadata": {
    "ExecuteTime": {
     "end_time": "2022-05-22T12:38:54.603208Z",
     "start_time": "2022-05-22T12:38:54.595230Z"
    }
   },
   "outputs": [
    {
     "data": {
      "text/html": [
       "<div>\n",
       "<style scoped>\n",
       "    .dataframe tbody tr th:only-of-type {\n",
       "        vertical-align: middle;\n",
       "    }\n",
       "\n",
       "    .dataframe tbody tr th {\n",
       "        vertical-align: top;\n",
       "    }\n",
       "\n",
       "    .dataframe thead th {\n",
       "        text-align: right;\n",
       "    }\n",
       "</style>\n",
       "<table border=\"1\" class=\"dataframe\">\n",
       "  <thead>\n",
       "    <tr style=\"text-align: right;\">\n",
       "      <th></th>\n",
       "      <th>mean</th>\n",
       "      <th>std</th>\n",
       "    </tr>\n",
       "    <tr>\n",
       "      <th>nitn</th>\n",
       "      <th></th>\n",
       "      <th></th>\n",
       "    </tr>\n",
       "  </thead>\n",
       "  <tbody>\n",
       "    <tr>\n",
       "      <th>100000</th>\n",
       "      <td>-935.600796</td>\n",
       "      <td>1471.345845</td>\n",
       "    </tr>\n",
       "    <tr>\n",
       "      <th>1000000</th>\n",
       "      <td>157.198136</td>\n",
       "      <td>347.703160</td>\n",
       "    </tr>\n",
       "  </tbody>\n",
       "</table>\n",
       "</div>"
      ],
      "text/plain": [
       "               mean          std\n",
       "nitn                            \n",
       "100000  -935.600796  1471.345845\n",
       "1000000  157.198136   347.703160"
      ]
     },
     "execution_count": 133,
     "metadata": {},
     "output_type": "execute_result"
    }
   ],
   "source": [
    "temp_df.groupby('nitn')['result_means'].agg([np.mean, np.std])"
   ]
  },
  {
   "cell_type": "code",
   "execution_count": 134,
   "id": "productive-illinois",
   "metadata": {
    "ExecuteTime": {
     "end_time": "2022-05-22T12:38:54.992169Z",
     "start_time": "2022-05-22T12:38:54.987182Z"
    }
   },
   "outputs": [
    {
     "data": {
      "text/plain": [
       "206.36320981641944"
      ]
     },
     "execution_count": 134,
     "metadata": {},
     "output_type": "execute_result"
    }
   ],
   "source": [
    "157.198136 - target"
   ]
  },
  {
   "cell_type": "code",
   "execution_count": 135,
   "id": "alien-camping",
   "metadata": {
    "ExecuteTime": {
     "end_time": "2022-05-22T12:39:35.514826Z",
     "start_time": "2022-05-22T12:39:35.507844Z"
    }
   },
   "outputs": [
    {
     "data": {
      "text/plain": [
       "nitn\n",
       "100000     0.215424\n",
       "1000000    2.408261\n",
       "Name: result_times, dtype: float64"
      ]
     },
     "execution_count": 135,
     "metadata": {},
     "output_type": "execute_result"
    }
   ],
   "source": [
    "g = temp_df.groupby('nitn')['result_times'].apply(lambda x: x.tolist())\n",
    "g.apply(np.mean)"
   ]
  },
  {
   "cell_type": "code",
   "execution_count": 136,
   "id": "broad-nicaragua",
   "metadata": {
    "ExecuteTime": {
     "end_time": "2022-05-22T12:39:35.919742Z",
     "start_time": "2022-05-22T12:39:35.732244Z"
    }
   },
   "outputs": [
    {
     "data": {
      "image/png": "[encoded data removed]",
      "text/plain": [
       "<Figure size 432x288 with 1 Axes>"
      ]
     },
     "metadata": {
      "needs_background": "light"
     },
     "output_type": "display_data"
    }
   ],
   "source": [
    "plt.title('Uniform')\n",
    "plt.xlabel('samples')\n",
    "plt.ylabel('time (s)')\n",
    "plt.scatter(g.index, g.apply(np.mean))\n",
    "plt.plot(g.index, g.apply(np.mean), linestyle='--')\n",
    "plt.xscale('log')\n",
    "\n",
    "# locs, labels = plt.xticks()\n",
    "# print(locs)\n",
    "# plt.xticks(locs, ['', '1e5', '', '', '', '1e6', '', '', '', '1e7', '']);\n",
    "\n",
    "# plt.boxplot(g.values, labels=['1e5', '1e6', '1e7']);"
   ]
  },
  {
   "cell_type": "markdown",
   "id": "heavy-playlist",
   "metadata": {},
   "source": [
    "#### Sobol"
   ]
  },
  {
   "cell_type": "markdown",
   "id": "clinical-coverage",
   "metadata": {},
   "source": [
    "##### simple"
   ]
  },
  {
   "cell_type": "code",
   "execution_count": 138,
   "id": "excess-interval",
   "metadata": {
    "ExecuteTime": {
     "end_time": "2022-05-22T12:43:54.518341Z",
     "start_time": "2022-05-22T12:41:37.929532Z"
    },
    "scrolled": true
   },
   "outputs": [
    {
     "name": "stdout",
     "output_type": "stream",
     "text": [
      "run=1 nitn=1000000\n",
      "38.77633280121176 707247.9477825554\n",
      "run=2 nitn=1000000\n",
      "-113.73756184946373 707209.0265695094\n",
      "run=3 nitn=1000000\n",
      "-117.65472847696448 706944.819663731\n",
      "run=4 nitn=1000000\n",
      "197.8241421573584 707320.0507158055\n",
      "run=5 nitn=1000000\n",
      "-432.4212721420016 707202.3577269749\n",
      "run=6 nitn=1000000\n",
      "-119.24899966447312 707042.7511647667\n",
      "run=7 nitn=1000000\n",
      "-207.7835806905998 707065.9096705066\n",
      "run=8 nitn=1000000\n",
      "-697.4342015351656 706929.7824186041\n",
      "run=9 nitn=1000000\n",
      "364.06689762218616 706865.310563808\n",
      "run=10 nitn=1000000\n",
      "498.77143952196735 706895.162753065\n",
      "run=1 nitn=10000000\n",
      "-58.88415322559457 707072.4097994526\n",
      "run=2 nitn=10000000\n",
      "-102.84653294896049 707115.4833885349\n",
      "run=3 nitn=10000000\n",
      "-8.648207932638206 707143.8723734085\n",
      "run=4 nitn=10000000\n",
      "-61.250917433002904 707081.9124270427\n",
      "run=5 nitn=10000000\n",
      "-49.311014321588274 707120.095844203\n",
      "run=6 nitn=10000000\n",
      "37.64419487797825 707144.9078918536\n",
      "run=7 nitn=10000000\n",
      "-212.19794797893235 707097.520549408\n",
      "run=8 nitn=10000000\n",
      "50.58762695244656 707107.0827952153\n",
      "run=9 nitn=10000000\n",
      "-15.599829891699004 707124.7337104499\n",
      "run=10 nitn=10000000\n",
      "-141.41454537774732 707122.4253177175\n",
      "run=1 nitn=100000000\n",
      "-56.192132727973934 707113.0488726422\n",
      "run=2 nitn=100000000\n",
      "-43.010849884084884 707107.4366724972\n",
      "run=3 nitn=100000000\n",
      "-46.90627338298321 707107.6292120883\n",
      "run=4 nitn=100000000\n",
      "-45.05764053333719 707105.9247409754\n",
      "run=5 nitn=100000000\n",
      "-51.592259445965325 707100.0590767505\n",
      "run=6 nitn=100000000\n",
      "-52.025052150501786 707111.918604474\n",
      "run=7 nitn=100000000\n",
      "-56.421721975026244 707113.7706454272\n",
      "run=8 nitn=100000000\n",
      "-50.58890405723006 707106.3835644935\n",
      "run=9 nitn=100000000\n",
      "-43.515227902433374 707105.5732347552\n",
      "run=10 nitn=100000000\n",
      "-48.53074744361647 707111.252690687\n",
      "Wall time: 2min 16s\n"
     ]
    }
   ],
   "source": [
    "%%time\n",
    "tf.random.set_seed(123)\n",
    "\n",
    "ndims = 6\n",
    "# max_samples = 10**9\n",
    "\n",
    "results = []\n",
    "results_means = []\n",
    "results_stddevs = []\n",
    "result_times = []\n",
    "result_runs = []\n",
    "\n",
    "nitn_lst = list(map(int, [1e6, 1e7, 1e8]))\n",
    "run_lst = range(1,11)\n",
    "\n",
    "for nitn in nitn_lst:\n",
    "    for j, run in enumerate(run_lst):\n",
    "        \n",
    "        print(f'run={run} nitn={nitn}')\n",
    "\n",
    "        time_a = time.time()\n",
    "        # sequence_indices = tf.range(start=0, limit=(epoch+1)*batch_size, dtype=tf.int32)\n",
    "        # sequence_indices = tf.range(start=0*batch_size, limit=(0+1)*batch_size, dtype=tf.int32)\n",
    "        samples = tf.math.sobol_sample(\n",
    "            dim=ndims,\n",
    "            num_results=nitn,\n",
    "            skip=j*nitn,\n",
    "            dtype=tf.dtypes.float64,\n",
    "            #name=None\n",
    "        ) * 10\n",
    "        current_result = f1(samples) * 10 ** ndims\n",
    "        time_b = time.time() - time_a\n",
    "        result_times.append(time_b)\n",
    "        result_runs.append(run)\n",
    "\n",
    "        current_result_mean = tf.reduce_mean(current_result).numpy()\n",
    "        current_result_stddev = tf.math.reduce_std(current_result).numpy()\n",
    "\n",
    "        results_means.append(current_result_mean)\n",
    "        results_stddevs.append(current_result_stddev)\n",
    "        results.append(current_result)\n",
    "\n",
    "        print(current_result_mean, current_result_stddev)"
   ]
  },
  {
   "cell_type": "code",
   "execution_count": 140,
   "id": "social-surgery",
   "metadata": {
    "ExecuteTime": {
     "end_time": "2022-05-22T12:44:02.012305Z",
     "start_time": "2022-05-22T12:44:01.957452Z"
    },
    "code_folding": [
     0
    ]
   },
   "outputs": [],
   "source": [
    "# %%time\n",
    "# tf.random.set_seed(123)\n",
    "\n",
    "# ndims = 6\n",
    "# max_samples = 10**9\n",
    "\n",
    "# results = []\n",
    "# results_means = []\n",
    "# results_stddevs = []\n",
    "# result_times = []\n",
    "# result_runs = []\n",
    "\n",
    "# epoch = 0\n",
    "# current_precision = 1e99\n",
    "\n",
    "# nitn_lst = list(map(int, [1e6]))\n",
    "# run_lst = list(range(1,11))\n",
    "\n",
    "# with tf.compat.v1.Session() as sess:\n",
    "\n",
    "#     writer = tf.summary.create_file_writer(logdir)\n",
    "#     tf.summary.trace_on(graph=True, profiler=True)\n",
    "\n",
    "#     for run in run_lst:\n",
    "#         for nitn in nitn_lst:\n",
    "\n",
    "#             print(f'run={run} nitn={nitn}')\n",
    "            \n",
    "#             if run == run_lst[0] and nitn == nitn_lst[0]:\n",
    "#                 print('building graph..')\n",
    "#                 _ = sess.run(f1(tfp.mcmc.sample_halton_sequence(\n",
    "#                     dim=ndims,\n",
    "#                     #sequence_indices=sequence_indices,\n",
    "#                     num_results=nitn,\n",
    "#                     dtype=tf.float64,\n",
    "#                     randomized=True,\n",
    "#                     seed=123\n",
    "#                 )) * 10 ** ndims)\n",
    "#                 print('           - done')\n",
    "\n",
    "#             time_a = time.time()\n",
    "#             # sequence_indices = tf.range(start=0, limit=(epoch+1)*batch_size, dtype=tf.int32)\n",
    "#             # sequence_indices = tf.range(start=0*batch_size, limit=(0+1)*batch_size, dtype=tf.int32)\n",
    "#             samples = tfp.mcmc.sample_halton_sequence(\n",
    "#                 dim=ndims,\n",
    "#                 #sequence_indices=sequence_indices,\n",
    "#                 num_results=nitn,\n",
    "#                 dtype=tf.float64,\n",
    "#                 randomized=True,\n",
    "#                 seed=run\n",
    "#             )\n",
    "#             # current_result = f1(samples) * 10 ** ndims\n",
    "#             current_result = sess.run(f1(samples) * 10 ** ndims)\n",
    "            \n",
    "#             time_b = time.time() - time_a\n",
    "#             result_times.append(time_b)\n",
    "#             result_runs.append(run)\n",
    "\n",
    "#             #current_result_mean = tf.reduce_mean(current_result).numpy()\n",
    "#             #current_result_stddev = tf.math.reduce_std(current_result).numpy()\n",
    "            \n",
    "#             current_result_mean = np.mean(current_result)\n",
    "#             current_result_stddev = np.std(current_result)\n",
    "\n",
    "#             results_means.append(current_result_mean)\n",
    "#             results_stddevs.append(current_result_stddev)\n",
    "#             results.append(current_result)\n",
    "\n",
    "#             print(current_result_mean, current_result_stddev)"
   ]
  },
  {
   "cell_type": "code",
   "execution_count": 141,
   "id": "spare-density",
   "metadata": {
    "ExecuteTime": {
     "end_time": "2022-05-22T12:44:03.298865Z",
     "start_time": "2022-05-22T12:44:02.957777Z"
    }
   },
   "outputs": [],
   "source": [
    "temp_df = pd.DataFrame({'nitn': nitn_lst * len(run_lst),\n",
    "                        'result_means': results_means,\n",
    "                        'results_stddevs':results_stddevs,\n",
    "                        'result_times': result_times,\n",
    "                        'run': result_runs\n",
    "                       })\n",
    "temp_df['s_per_sample'] = temp_df.result_times / temp_df.nitn"
   ]
  },
  {
   "cell_type": "code",
   "execution_count": 144,
   "id": "norwegian-makeup",
   "metadata": {
    "ExecuteTime": {
     "end_time": "2022-05-22T12:44:26.496842Z",
     "start_time": "2022-05-22T12:44:26.441989Z"
    }
   },
   "outputs": [
    {
     "data": {
      "text/plain": [
       "nitn\n",
       "1000000        (39.59501547769465, 223612.75598088614)\n",
       "10000000     (-185.99808976347754, 223605.93228349145)\n",
       "100000000     (-18.04069057781748, 223593.24987476098)\n",
       "dtype: object"
      ]
     },
     "execution_count": 144,
     "metadata": {},
     "output_type": "execute_result"
    }
   ],
   "source": [
    "temp_df.groupby('nitn').apply(lambda x: variance_weighted_result(x['result_means'].values,\n",
    "                                                                 x['results_stddevs'].values))"
   ]
  },
  {
   "cell_type": "code",
   "execution_count": 145,
   "id": "alert-evolution",
   "metadata": {
    "ExecuteTime": {
     "end_time": "2022-05-22T12:44:32.768075Z",
     "start_time": "2022-05-22T12:44:32.764086Z"
    }
   },
   "outputs": [],
   "source": [
    "g = temp_df.groupby('nitn')['result_means'].apply(lambda x: x.tolist())"
   ]
  },
  {
   "cell_type": "code",
   "execution_count": 146,
   "id": "comparative-vegetarian",
   "metadata": {
    "ExecuteTime": {
     "end_time": "2022-05-22T12:44:33.525051Z",
     "start_time": "2022-05-22T12:44:33.292672Z"
    }
   },
   "outputs": [
    {
     "data": {
      "image/png": "[encoded data removed]",
      "text/plain": [
       "<Figure size 432x288 with 1 Axes>"
      ]
     },
     "metadata": {
      "needs_background": "light"
     },
     "output_type": "display_data"
    }
   ],
   "source": [
    "# plt.yscale('log')\n",
    "plt.axhline(y=target, linestyle=':')\n",
    "plt.title('Uniform')\n",
    "plt.xlabel('samples')\n",
    "plt.ylabel('result')\n",
    "plt.boxplot(g.values, labels=list(map(str,nitn_lst)));"
   ]
  },
  {
   "cell_type": "code",
   "execution_count": 147,
   "id": "detailed-hawaiian",
   "metadata": {
    "ExecuteTime": {
     "end_time": "2022-05-22T12:44:45.924898Z",
     "start_time": "2022-05-22T12:44:45.889992Z"
    }
   },
   "outputs": [
    {
     "data": {
      "text/html": [
       "<div>\n",
       "<style scoped>\n",
       "    .dataframe tbody tr th:only-of-type {\n",
       "        vertical-align: middle;\n",
       "    }\n",
       "\n",
       "    .dataframe tbody tr th {\n",
       "        vertical-align: top;\n",
       "    }\n",
       "\n",
       "    .dataframe thead th {\n",
       "        text-align: right;\n",
       "    }\n",
       "</style>\n",
       "<table border=\"1\" class=\"dataframe\">\n",
       "  <thead>\n",
       "    <tr style=\"text-align: right;\">\n",
       "      <th></th>\n",
       "      <th>mean</th>\n",
       "      <th>std</th>\n",
       "    </tr>\n",
       "    <tr>\n",
       "      <th>nitn</th>\n",
       "      <th></th>\n",
       "      <th></th>\n",
       "    </tr>\n",
       "  </thead>\n",
       "  <tbody>\n",
       "    <tr>\n",
       "      <th>1000000</th>\n",
       "      <td>39.579248</td>\n",
       "      <td>190.241354</td>\n",
       "    </tr>\n",
       "    <tr>\n",
       "      <th>10000000</th>\n",
       "      <td>-185.978715</td>\n",
       "      <td>215.896959</td>\n",
       "    </tr>\n",
       "    <tr>\n",
       "      <th>100000000</th>\n",
       "      <td>-18.060899</td>\n",
       "      <td>142.844200</td>\n",
       "    </tr>\n",
       "  </tbody>\n",
       "</table>\n",
       "</div>"
      ],
      "text/plain": [
       "                 mean         std\n",
       "nitn                             \n",
       "1000000     39.579248  190.241354\n",
       "10000000  -185.978715  215.896959\n",
       "100000000  -18.060899  142.844200"
      ]
     },
     "execution_count": 147,
     "metadata": {},
     "output_type": "execute_result"
    }
   ],
   "source": [
    "temp_df.groupby('nitn')['result_means'].agg([np.mean, np.std])"
   ]
  },
  {
   "cell_type": "code",
   "execution_count": 150,
   "id": "hungry-angel",
   "metadata": {
    "ExecuteTime": {
     "end_time": "2022-05-22T12:47:09.848605Z",
     "start_time": "2022-05-22T12:47:09.843619Z"
    }
   },
   "outputs": [
    {
     "data": {
      "text/plain": [
       "31.104174816419444"
      ]
     },
     "execution_count": 150,
     "metadata": {},
     "output_type": "execute_result"
    }
   ],
   "source": [
    "-18.060899 - target"
   ]
  },
  {
   "cell_type": "code",
   "execution_count": 156,
   "id": "egyptian-analyst",
   "metadata": {
    "ExecuteTime": {
     "end_time": "2022-05-22T12:47:57.522143Z",
     "start_time": "2022-05-22T12:47:57.515162Z"
    }
   },
   "outputs": [
    {
     "data": {
      "text/plain": [
       "nitn\n",
       "1000000      3.369591\n",
       "10000000     5.682208\n",
       "100000000    3.619423\n",
       "Name: result_times, dtype: float64"
      ]
     },
     "execution_count": 156,
     "metadata": {},
     "output_type": "execute_result"
    }
   ],
   "source": [
    "g = temp_df.groupby('nitn')['result_times'].apply(lambda x: x.tolist())\n",
    "g.apply(np.mean)"
   ]
  },
  {
   "cell_type": "code",
   "execution_count": 157,
   "id": "blond-coordinator",
   "metadata": {
    "ExecuteTime": {
     "end_time": "2022-05-22T12:48:06.925003Z",
     "start_time": "2022-05-22T12:48:06.475206Z"
    }
   },
   "outputs": [
    {
     "data": {
      "image/png": "[encoded data removed]",
      "text/plain": [
       "<Figure size 432x288 with 1 Axes>"
      ]
     },
     "metadata": {
      "needs_background": "light"
     },
     "output_type": "display_data"
    }
   ],
   "source": [
    "plt.title('Sobol')\n",
    "plt.xlabel('samples')\n",
    "plt.ylabel('time (s)')\n",
    "plt.scatter(g.index, g.apply(np.mean))\n",
    "plt.plot(g.index, g.apply(np.mean), linestyle='--')\n",
    "plt.xscale('log')\n",
    "\n",
    "# locs, labels = plt.xticks()\n",
    "# print(locs)\n",
    "# plt.xticks(locs, ['', '1e5', '', '', '', '1e6', '', '', '', '1e7', '']);\n",
    "\n",
    "# plt.boxplot(g.values, labels=['1e5', '1e6', '1e7']);"
   ]
  },
  {
   "cell_type": "code",
   "execution_count": null,
   "id": "turned-sleep",
   "metadata": {},
   "outputs": [],
   "source": []
  },
  {
   "cell_type": "markdown",
   "id": "solid-apparel",
   "metadata": {},
   "source": [
    "### F2"
   ]
  },
  {
   "cell_type": "code",
   "execution_count": 158,
   "id": "lesbian-disease",
   "metadata": {
    "ExecuteTime": {
     "end_time": "2022-05-22T12:49:00.772035Z",
     "start_time": "2022-05-22T12:49:00.765054Z"
    }
   },
   "outputs": [
    {
     "data": {
      "text/plain": [
       "(1, 0.001)"
      ]
     },
     "execution_count": 158,
     "metadata": {},
     "output_type": "execute_result"
    }
   ],
   "source": [
    "target = 1\n",
    "\n",
    "precision = 1e-3\n",
    "target_precision = min(abs(precision * target), precision)\n",
    "\n",
    "target, target_precision"
   ]
  },
  {
   "cell_type": "markdown",
   "id": "placed-faculty",
   "metadata": {},
   "source": [
    "#### Uniform"
   ]
  },
  {
   "cell_type": "code",
   "execution_count": 160,
   "id": "novel-coordination",
   "metadata": {
    "ExecuteTime": {
     "end_time": "2022-05-22T12:50:25.958278Z",
     "start_time": "2022-05-22T12:50:10.716030Z"
    },
    "scrolled": true
   },
   "outputs": [
    {
     "name": "stdout",
     "output_type": "stream",
     "text": [
      "run=1 nitn=100000\n",
      "run=1 nitn=1000000\n",
      "run=1 nitn=10000000\n",
      "run=2 nitn=100000\n",
      "run=2 nitn=1000000\n",
      "run=2 nitn=10000000\n",
      "run=3 nitn=100000\n",
      "run=3 nitn=1000000\n",
      "run=3 nitn=10000000\n",
      "run=4 nitn=100000\n",
      "run=4 nitn=1000000\n",
      "run=4 nitn=10000000\n",
      "run=5 nitn=100000\n",
      "run=5 nitn=1000000\n",
      "run=5 nitn=10000000\n",
      "run=6 nitn=100000\n",
      "run=6 nitn=1000000\n",
      "run=6 nitn=10000000\n",
      "run=7 nitn=100000\n",
      "run=7 nitn=1000000\n",
      "run=7 nitn=10000000\n",
      "run=8 nitn=100000\n",
      "run=8 nitn=1000000\n",
      "run=8 nitn=10000000\n",
      "run=9 nitn=100000\n",
      "run=9 nitn=1000000\n",
      "run=9 nitn=10000000\n",
      "run=10 nitn=100000\n",
      "run=10 nitn=1000000\n",
      "run=10 nitn=10000000\n",
      "Wall time: 15.2 s\n"
     ]
    }
   ],
   "source": [
    "%%time\n",
    "tf.random.set_seed(123)\n",
    "\n",
    "ndims = 9\n",
    "# max_samples = 10**9\n",
    "\n",
    "results = []\n",
    "results_means = []\n",
    "results_stddevs = []\n",
    "result_times = []\n",
    "result_runs = []\n",
    "\n",
    "# epoch = 0\n",
    "# current_precision = 1e99\n",
    "\n",
    "nitn_lst = list(map(int, [1e5, 1e6, 1e7]))\n",
    "run_lst = list(range(1,11))\n",
    "\n",
    "for run in run_lst:\n",
    "    for nitn in nitn_lst:\n",
    "        \n",
    "        print(f'run={run} nitn={nitn}')\n",
    "\n",
    "        time_a = time.time()\n",
    "        samples = tf.random.uniform(shape=(nitn, ndims), minval=-1, maxval=1, dtype=tf.float64)\n",
    "        current_result = f2(samples) * 2 ** ndims\n",
    "        time_b = time.time() - time_a\n",
    "        result_times.append(time_b)\n",
    "        result_runs.append(run)\n",
    "\n",
    "        current_result_mean = tf.reduce_mean(current_result).numpy()\n",
    "        current_result_stddev = tf.math.reduce_std(current_result).numpy()\n",
    "\n",
    "        results_means.append(current_result_mean)\n",
    "        results_stddevs.append(current_result_stddev)\n",
    "        results.append(current_result)\n",
    "\n",
    "        # print(current_result_mean, current_result_stddev)"
   ]
  },
  {
   "cell_type": "code",
   "execution_count": 161,
   "id": "happy-enemy",
   "metadata": {
    "ExecuteTime": {
     "end_time": "2022-05-22T12:50:29.370156Z",
     "start_time": "2022-05-22T12:50:29.364172Z"
    }
   },
   "outputs": [],
   "source": [
    "temp_df = pd.DataFrame({'nitn': nitn_lst * len(run_lst),\n",
    "                        'result_means': results_means,\n",
    "                        'results_stddevs':results_stddevs,\n",
    "                        'result_times': result_times,\n",
    "                        'run': result_runs\n",
    "                       })\n",
    "temp_df['s_per_sample'] = temp_df.result_times / temp_df.nitn"
   ]
  },
  {
   "cell_type": "code",
   "execution_count": 173,
   "id": "developing-december",
   "metadata": {
    "ExecuteTime": {
     "end_time": "2022-05-22T12:53:12.052723Z",
     "start_time": "2022-05-22T12:53:12.044745Z"
    },
    "collapsed": true
   },
   "outputs": [
    {
     "name": "stderr",
     "output_type": "stream",
     "text": [
      "E:\\_MAGISTER_ACE\\Наука\\mc_integration\\mcenv\\lib\\site-packages\\ipykernel_launcher.py:7: RuntimeWarning: divide by zero encountered in true_divide\n",
      "  import sys\n",
      "E:\\_MAGISTER_ACE\\Наука\\mc_integration\\mcenv\\lib\\site-packages\\ipykernel_launcher.py:8: RuntimeWarning: divide by zero encountered in true_divide\n",
      "  \n",
      "E:\\_MAGISTER_ACE\\Наука\\mc_integration\\mcenv\\lib\\site-packages\\ipykernel_launcher.py:8: RuntimeWarning: invalid value encountered in true_divide\n",
      "  \n",
      "E:\\_MAGISTER_ACE\\Наука\\mc_integration\\mcenv\\lib\\site-packages\\ipykernel_launcher.py:9: RuntimeWarning: invalid value encountered in double_scalars\n",
      "  if __name__ == \"__main__\":\n"
     ]
    },
    {
     "data": {
      "text/plain": [
       "nitn\n",
       "100000      (nan, 0.0)\n",
       "1000000     (nan, 0.0)\n",
       "10000000    (nan, 0.0)\n",
       "dtype: object"
      ]
     },
     "execution_count": 173,
     "metadata": {},
     "output_type": "execute_result"
    }
   ],
   "source": [
    "temp_df.groupby('nitn').apply(lambda x: variance_weighted_result(x['result_means'].values,\n",
    "                                                                 x['results_stddevs'].values))"
   ]
  },
  {
   "cell_type": "code",
   "execution_count": 162,
   "id": "domestic-pickup",
   "metadata": {
    "ExecuteTime": {
     "end_time": "2022-05-22T12:50:30.409378Z",
     "start_time": "2022-05-22T12:50:30.404391Z"
    }
   },
   "outputs": [],
   "source": [
    "g = temp_df.groupby('nitn')['result_means'].apply(lambda x: x.tolist())"
   ]
  },
  {
   "cell_type": "code",
   "execution_count": 166,
   "id": "national-pavilion",
   "metadata": {
    "ExecuteTime": {
     "end_time": "2022-05-22T12:52:45.564543Z",
     "start_time": "2022-05-22T12:52:45.475780Z"
    }
   },
   "outputs": [
    {
     "data": {
      "image/png": "[encoded data removed]",
      "text/plain": [
       "<Figure size 432x288 with 1 Axes>"
      ]
     },
     "metadata": {
      "needs_background": "light"
     },
     "output_type": "display_data"
    }
   ],
   "source": [
    "# plt.yscale('log')\n",
    "plt.axhline(y=target, linestyle=':')\n",
    "plt.title('Uniform')\n",
    "plt.xlabel('samples')\n",
    "plt.ylabel('result')\n",
    "plt.boxplot(g.values, labels=['1e5', '1e6', '1e7']);"
   ]
  },
  {
   "cell_type": "code",
   "execution_count": 167,
   "id": "competent-balloon",
   "metadata": {
    "ExecuteTime": {
     "end_time": "2022-05-22T12:52:45.735087Z",
     "start_time": "2022-05-22T12:52:45.726111Z"
    }
   },
   "outputs": [
    {
     "data": {
      "text/html": [
       "<div>\n",
       "<style scoped>\n",
       "    .dataframe tbody tr th:only-of-type {\n",
       "        vertical-align: middle;\n",
       "    }\n",
       "\n",
       "    .dataframe tbody tr th {\n",
       "        vertical-align: top;\n",
       "    }\n",
       "\n",
       "    .dataframe thead th {\n",
       "        text-align: right;\n",
       "    }\n",
       "</style>\n",
       "<table border=\"1\" class=\"dataframe\">\n",
       "  <thead>\n",
       "    <tr style=\"text-align: right;\">\n",
       "      <th></th>\n",
       "      <th>mean</th>\n",
       "      <th>std</th>\n",
       "    </tr>\n",
       "    <tr>\n",
       "      <th>nitn</th>\n",
       "      <th></th>\n",
       "      <th></th>\n",
       "    </tr>\n",
       "  </thead>\n",
       "  <tbody>\n",
       "    <tr>\n",
       "      <th>100000</th>\n",
       "      <td>5.060883e-192</td>\n",
       "      <td>0.000000e+00</td>\n",
       "    </tr>\n",
       "    <tr>\n",
       "      <th>1000000</th>\n",
       "      <td>6.036667e-229</td>\n",
       "      <td>0.000000e+00</td>\n",
       "    </tr>\n",
       "    <tr>\n",
       "      <th>10000000</th>\n",
       "      <td>1.854790e-116</td>\n",
       "      <td>5.865363e-116</td>\n",
       "    </tr>\n",
       "  </tbody>\n",
       "</table>\n",
       "</div>"
      ],
      "text/plain": [
       "                   mean            std\n",
       "nitn                                  \n",
       "100000    5.060883e-192   0.000000e+00\n",
       "1000000   6.036667e-229   0.000000e+00\n",
       "10000000  1.854790e-116  5.865363e-116"
      ]
     },
     "execution_count": 167,
     "metadata": {},
     "output_type": "execute_result"
    }
   ],
   "source": [
    "temp_df.groupby('nitn')['result_means'].agg([np.mean, np.std])"
   ]
  },
  {
   "cell_type": "code",
   "execution_count": 168,
   "id": "alien-samoa",
   "metadata": {
    "ExecuteTime": {
     "end_time": "2022-05-22T12:52:45.977439Z",
     "start_time": "2022-05-22T12:52:45.973450Z"
    }
   },
   "outputs": [
    {
     "data": {
      "text/plain": [
       "-1"
      ]
     },
     "execution_count": 168,
     "metadata": {},
     "output_type": "execute_result"
    }
   ],
   "source": [
    "0 - target"
   ]
  },
  {
   "cell_type": "code",
   "execution_count": 169,
   "id": "incorporated-dimension",
   "metadata": {
    "ExecuteTime": {
     "end_time": "2022-05-22T12:52:46.371386Z",
     "start_time": "2022-05-22T12:52:46.364405Z"
    }
   },
   "outputs": [
    {
     "data": {
      "text/plain": [
       "nitn\n",
       "100000      0.187900\n",
       "1000000     0.126161\n",
       "10000000    1.159699\n",
       "Name: result_times, dtype: float64"
      ]
     },
     "execution_count": 169,
     "metadata": {},
     "output_type": "execute_result"
    }
   ],
   "source": [
    "g = temp_df.groupby('nitn')['result_times'].apply(lambda x: x.tolist())\n",
    "g.apply(np.mean)"
   ]
  },
  {
   "cell_type": "code",
   "execution_count": 170,
   "id": "dependent-domestic",
   "metadata": {
    "ExecuteTime": {
     "end_time": "2022-05-22T12:52:47.872372Z",
     "start_time": "2022-05-22T12:52:47.180223Z"
    }
   },
   "outputs": [
    {
     "data": {
      "image/png": "[encoded data removed]",
      "text/plain": [
       "<Figure size 432x288 with 1 Axes>"
      ]
     },
     "metadata": {
      "needs_background": "light"
     },
     "output_type": "display_data"
    }
   ],
   "source": [
    "plt.title('Uniform')\n",
    "plt.xlabel('samples')\n",
    "plt.ylabel('time (s)')\n",
    "plt.scatter(g.index, g.apply(np.mean))\n",
    "plt.plot(g.index, g.apply(np.mean), linestyle='--')\n",
    "plt.xscale('log')\n",
    "\n",
    "# locs, labels = plt.xticks()\n",
    "# print(locs)\n",
    "# plt.xticks(locs, ['', '1e5', '', '', '', '1e6', '', '', '', '1e7', '']);\n",
    "\n",
    "# plt.boxplot(g.values, labels=['1e5', '1e6', '1e7']);"
   ]
  },
  {
   "cell_type": "code",
   "execution_count": 171,
   "id": "lightweight-entity",
   "metadata": {
    "ExecuteTime": {
     "end_time": "2022-05-22T12:52:48.689189Z",
     "start_time": "2022-05-22T12:52:48.684202Z"
    },
    "code_folding": [
     0
    ],
    "scrolled": true
   },
   "outputs": [],
   "source": [
    "# %%time\n",
    "# tf.random.set_seed(123)\n",
    "\n",
    "# ndims = 6\n",
    "# batch_size = 1_000_000\n",
    "# max_samples = 10**9\n",
    "\n",
    "# acc = 0\n",
    "\n",
    "# results = []\n",
    "# results_means = []\n",
    "# results_stddevs = []\n",
    "\n",
    "# epoch = 0\n",
    "# current_precision = 1e99\n",
    "\n",
    "# # while current_precision > target_precision:\n",
    "# for i in range(1000):\n",
    "    \n",
    "#     samples = tf.random.uniform(shape=(batch_size, ndims), minval=0, maxval=10, dtype=tf.float64)\n",
    "# #     acc += batch_size\n",
    "    \n",
    "#     current_result = f1(samples) * 10 ** ndims\n",
    "#     current_result_mean = tf.reduce_mean(current_result).numpy()#[0]\n",
    "#     current_result_stddev = tf.math.reduce_std(current_result).numpy()#[0]\n",
    "    \n",
    "#     results_means.append(current_result_mean)\n",
    "#     results_stddevs.append(current_result_stddev)\n",
    "#     results.append(current_result)\n",
    "        \n",
    "# #     _, current_precision = variance_weighted_result(np.array(results_means), np.array(results_stddevs))\n",
    "# #     if epoch % 10 == 0:\n",
    "# #         print('Epoch: {:3d} Integral = '\n",
    "# #               '{:8e} +/- {:8e} Total uncertainty = {:8e}'.format(epoch, \n",
    "# #                                                                  current_result_mean,\n",
    "# #                                                                  current_result_stddev,\n",
    "# #                                                                  current_precision))\n",
    "    \n",
    "#     epoch += 1\n",
    "    \n",
    "#     if epoch * batch_size >= max_samples:\n",
    "#         print('BREAK')\n",
    "#         break\n",
    "    "
   ]
  },
  {
   "cell_type": "markdown",
   "id": "boxed-sister",
   "metadata": {},
   "source": [
    "#### Halton"
   ]
  },
  {
   "cell_type": "markdown",
   "id": "attended-tomorrow",
   "metadata": {},
   "source": [
    "##### random"
   ]
  },
  {
   "cell_type": "code",
   "execution_count": 175,
   "id": "intimate-glasgow",
   "metadata": {
    "ExecuteTime": {
     "end_time": "2022-05-22T12:56:04.657240Z",
     "start_time": "2022-05-22T12:55:26.117282Z"
    }
   },
   "outputs": [
    {
     "name": "stdout",
     "output_type": "stream",
     "text": [
      "run=1 nitn=100000\n",
      "0.0 0.0\n",
      "run=1 nitn=1000000\n",
      "1.0594281111040677e-268 0.0\n",
      "run=2 nitn=100000\n",
      "0.0 0.0\n",
      "run=2 nitn=1000000\n",
      "1.6426567738978444e-182 0.0\n",
      "run=3 nitn=100000\n",
      "0.0 0.0\n",
      "run=3 nitn=1000000\n",
      "5.9157551680450865e-182 0.0\n",
      "run=4 nitn=100000\n",
      "0.0 0.0\n",
      "run=4 nitn=1000000\n",
      "0.0 0.0\n",
      "run=5 nitn=100000\n",
      "0.0 0.0\n",
      "run=5 nitn=1000000\n",
      "0.0 0.0\n",
      "run=6 nitn=100000\n",
      "0.0 0.0\n",
      "run=6 nitn=1000000\n",
      "2.7168147459099836e-258 0.0\n",
      "run=7 nitn=100000\n",
      "0.0 0.0\n",
      "run=7 nitn=1000000\n",
      "1.3533298683756675e-284 0.0\n",
      "run=8 nitn=100000\n",
      "1.1884269089070179e-237 0.0\n",
      "run=8 nitn=1000000\n",
      "7.781990145327105e-78 7.781986254331106e-75\n",
      "run=9 nitn=100000\n",
      "0.0 0.0\n",
      "run=9 nitn=1000000\n",
      "0.0 0.0\n",
      "run=10 nitn=100000\n",
      "0.0 0.0\n",
      "run=10 nitn=1000000\n",
      "1.5754535981359882e-93 1.575452810408983e-90\n",
      "Wall time: 38.5 s\n"
     ]
    }
   ],
   "source": [
    "%%time\n",
    "tf.random.set_seed(123)\n",
    "\n",
    "ndims = 9\n",
    "# max_samples = 10**9\n",
    "\n",
    "results = []\n",
    "results_means = []\n",
    "results_stddevs = []\n",
    "result_times = []\n",
    "result_runs = []\n",
    "\n",
    "nitn_lst = list(map(int, [1e5, 1e6]))\n",
    "run_lst = range(1,11)\n",
    "\n",
    "for run in run_lst:\n",
    "    for nitn in nitn_lst:\n",
    "        \n",
    "        print(f'run={run} nitn={nitn}')\n",
    "\n",
    "        time_a = time.time()\n",
    "        # sequence_indices = tf.range(start=0, limit=(epoch+1)*batch_size, dtype=tf.int32)\n",
    "        # sequence_indices = tf.range(start=0*batch_size, limit=(0+1)*batch_size, dtype=tf.int32)\n",
    "        samples = tfp.mcmc.sample_halton_sequence(\n",
    "            dim=ndims,\n",
    "            #sequence_indices=sequence_indices,\n",
    "            num_results=nitn,\n",
    "            dtype=tf.float64,\n",
    "            randomized=True,\n",
    "            seed=run\n",
    "        ) * 2 - 1\n",
    "        current_result = f2(samples) * 2 ** ndims\n",
    "        time_b = time.time() - time_a\n",
    "        result_times.append(time_b)\n",
    "        result_runs.append(run)\n",
    "\n",
    "        current_result_mean = tf.reduce_mean(current_result).numpy()\n",
    "        current_result_stddev = tf.math.reduce_std(current_result).numpy()\n",
    "\n",
    "        results_means.append(current_result_mean)\n",
    "        results_stddevs.append(current_result_stddev)\n",
    "        results.append(current_result)\n",
    "\n",
    "        print(current_result_mean, current_result_stddev)"
   ]
  },
  {
   "cell_type": "code",
   "execution_count": 176,
   "id": "acceptable-notebook",
   "metadata": {
    "ExecuteTime": {
     "end_time": "2022-05-22T12:56:07.275240Z",
     "start_time": "2022-05-22T12:56:07.270253Z"
    },
    "code_folding": [
     0
    ]
   },
   "outputs": [],
   "source": [
    "# %%time\n",
    "# tf.random.set_seed(123)\n",
    "\n",
    "# ndims = 6\n",
    "# max_samples = 10**9\n",
    "\n",
    "# results = []\n",
    "# results_means = []\n",
    "# results_stddevs = []\n",
    "# result_times = []\n",
    "# result_runs = []\n",
    "\n",
    "# epoch = 0\n",
    "# current_precision = 1e99\n",
    "\n",
    "# nitn_lst = list(map(int, [1e6]))\n",
    "# run_lst = list(range(1,11))\n",
    "\n",
    "# with tf.compat.v1.Session() as sess:\n",
    "\n",
    "#     writer = tf.summary.create_file_writer(logdir)\n",
    "#     tf.summary.trace_on(graph=True, profiler=True)\n",
    "\n",
    "#     for run in run_lst:\n",
    "#         for nitn in nitn_lst:\n",
    "\n",
    "#             print(f'run={run} nitn={nitn}')\n",
    "            \n",
    "#             if run == run_lst[0] and nitn == nitn_lst[0]:\n",
    "#                 print('building graph..')\n",
    "#                 _ = sess.run(f1(tfp.mcmc.sample_halton_sequence(\n",
    "#                     dim=ndims,\n",
    "#                     #sequence_indices=sequence_indices,\n",
    "#                     num_results=nitn,\n",
    "#                     dtype=tf.float64,\n",
    "#                     randomized=True,\n",
    "#                     seed=123\n",
    "#                 )) * 10 ** ndims)\n",
    "#                 print('           - done')\n",
    "\n",
    "#             time_a = time.time()\n",
    "#             # sequence_indices = tf.range(start=0, limit=(epoch+1)*batch_size, dtype=tf.int32)\n",
    "#             # sequence_indices = tf.range(start=0*batch_size, limit=(0+1)*batch_size, dtype=tf.int32)\n",
    "#             samples = tfp.mcmc.sample_halton_sequence(\n",
    "#                 dim=ndims,\n",
    "#                 #sequence_indices=sequence_indices,\n",
    "#                 num_results=nitn,\n",
    "#                 dtype=tf.float64,\n",
    "#                 randomized=True,\n",
    "#                 seed=run\n",
    "#             )\n",
    "#             # current_result = f1(samples) * 10 ** ndims\n",
    "#             current_result = sess.run(f1(samples) * 10 ** ndims)\n",
    "            \n",
    "#             time_b = time.time() - time_a\n",
    "#             result_times.append(time_b)\n",
    "#             result_runs.append(run)\n",
    "\n",
    "#             #current_result_mean = tf.reduce_mean(current_result).numpy()\n",
    "#             #current_result_stddev = tf.math.reduce_std(current_result).numpy()\n",
    "            \n",
    "#             current_result_mean = np.mean(current_result)\n",
    "#             current_result_stddev = np.std(current_result)\n",
    "\n",
    "#             results_means.append(current_result_mean)\n",
    "#             results_stddevs.append(current_result_stddev)\n",
    "#             results.append(current_result)\n",
    "\n",
    "#             print(current_result_mean, current_result_stddev)"
   ]
  },
  {
   "cell_type": "code",
   "execution_count": 177,
   "id": "underlying-filter",
   "metadata": {
    "ExecuteTime": {
     "end_time": "2022-05-22T12:56:08.362334Z",
     "start_time": "2022-05-22T12:56:08.356350Z"
    }
   },
   "outputs": [],
   "source": [
    "temp_df = pd.DataFrame({'nitn': nitn_lst * len(run_lst),\n",
    "                        'result_means': results_means,\n",
    "                        'results_stddevs':results_stddevs,\n",
    "                        'result_times': result_times,\n",
    "                        'run': result_runs\n",
    "                       })\n",
    "temp_df['s_per_sample'] = temp_df.result_times / temp_df.nitn"
   ]
  },
  {
   "cell_type": "code",
   "execution_count": 181,
   "id": "dedicated-toyota",
   "metadata": {
    "ExecuteTime": {
     "end_time": "2022-05-22T12:56:27.876161Z",
     "start_time": "2022-05-22T12:56:27.869179Z"
    },
    "collapsed": true
   },
   "outputs": [
    {
     "name": "stderr",
     "output_type": "stream",
     "text": [
      "E:\\_MAGISTER_ACE\\Наука\\mc_integration\\mcenv\\lib\\site-packages\\ipykernel_launcher.py:7: RuntimeWarning: divide by zero encountered in true_divide\n",
      "  import sys\n",
      "E:\\_MAGISTER_ACE\\Наука\\mc_integration\\mcenv\\lib\\site-packages\\ipykernel_launcher.py:8: RuntimeWarning: divide by zero encountered in true_divide\n",
      "  \n",
      "E:\\_MAGISTER_ACE\\Наука\\mc_integration\\mcenv\\lib\\site-packages\\ipykernel_launcher.py:8: RuntimeWarning: invalid value encountered in true_divide\n",
      "  \n"
     ]
    },
    {
     "data": {
      "text/plain": [
       "nitn\n",
       "100000     (nan, 0.0)\n",
       "1000000    (nan, 0.0)\n",
       "dtype: object"
      ]
     },
     "execution_count": 181,
     "metadata": {},
     "output_type": "execute_result"
    }
   ],
   "source": [
    "temp_df.groupby('nitn').apply(lambda x: variance_weighted_result(x['result_means'].values,\n",
    "                                                                 x['results_stddevs'].values))"
   ]
  },
  {
   "cell_type": "code",
   "execution_count": 182,
   "id": "portable-cream",
   "metadata": {
    "ExecuteTime": {
     "end_time": "2022-05-22T12:56:32.224534Z",
     "start_time": "2022-05-22T12:56:32.220545Z"
    }
   },
   "outputs": [],
   "source": [
    "g = temp_df.groupby('nitn')['result_means'].apply(lambda x: x.tolist())"
   ]
  },
  {
   "cell_type": "code",
   "execution_count": 183,
   "id": "frank-paint",
   "metadata": {
    "ExecuteTime": {
     "end_time": "2022-05-22T12:56:32.607511Z",
     "start_time": "2022-05-22T12:56:32.526727Z"
    }
   },
   "outputs": [
    {
     "data": {
      "image/png": "[encoded data removed]",
      "text/plain": [
       "<Figure size 432x288 with 1 Axes>"
      ]
     },
     "metadata": {
      "needs_background": "light"
     },
     "output_type": "display_data"
    }
   ],
   "source": [
    "# plt.yscale('log')\n",
    "plt.axhline(y=target, linestyle=':')\n",
    "plt.title('Uniform')\n",
    "plt.xlabel('samples')\n",
    "plt.ylabel('result')\n",
    "plt.boxplot(g.values, labels=list(map(str,nitn_lst)));"
   ]
  },
  {
   "cell_type": "code",
   "execution_count": 184,
   "id": "included-utility",
   "metadata": {
    "ExecuteTime": {
     "end_time": "2022-05-22T12:56:33.901052Z",
     "start_time": "2022-05-22T12:56:33.893073Z"
    }
   },
   "outputs": [
    {
     "data": {
      "text/html": [
       "<div>\n",
       "<style scoped>\n",
       "    .dataframe tbody tr th:only-of-type {\n",
       "        vertical-align: middle;\n",
       "    }\n",
       "\n",
       "    .dataframe tbody tr th {\n",
       "        vertical-align: top;\n",
       "    }\n",
       "\n",
       "    .dataframe thead th {\n",
       "        text-align: right;\n",
       "    }\n",
       "</style>\n",
       "<table border=\"1\" class=\"dataframe\">\n",
       "  <thead>\n",
       "    <tr style=\"text-align: right;\">\n",
       "      <th></th>\n",
       "      <th>mean</th>\n",
       "      <th>std</th>\n",
       "    </tr>\n",
       "    <tr>\n",
       "      <th>nitn</th>\n",
       "      <th></th>\n",
       "      <th></th>\n",
       "    </tr>\n",
       "  </thead>\n",
       "  <tbody>\n",
       "    <tr>\n",
       "      <th>100000</th>\n",
       "      <td>1.188427e-238</td>\n",
       "      <td>0.000000e+00</td>\n",
       "    </tr>\n",
       "    <tr>\n",
       "      <th>1000000</th>\n",
       "      <td>7.781990e-79</td>\n",
       "      <td>2.460881e-78</td>\n",
       "    </tr>\n",
       "  </tbody>\n",
       "</table>\n",
       "</div>"
      ],
      "text/plain": [
       "                  mean           std\n",
       "nitn                                \n",
       "100000   1.188427e-238  0.000000e+00\n",
       "1000000   7.781990e-79  2.460881e-78"
      ]
     },
     "execution_count": 184,
     "metadata": {},
     "output_type": "execute_result"
    }
   ],
   "source": [
    "temp_df.groupby('nitn')['result_means'].agg([np.mean, np.std])"
   ]
  },
  {
   "cell_type": "code",
   "execution_count": 186,
   "id": "formal-jenny",
   "metadata": {
    "ExecuteTime": {
     "end_time": "2022-05-22T12:56:38.657336Z",
     "start_time": "2022-05-22T12:56:38.652349Z"
    }
   },
   "outputs": [
    {
     "data": {
      "text/plain": [
       "-1"
      ]
     },
     "execution_count": 186,
     "metadata": {},
     "output_type": "execute_result"
    }
   ],
   "source": [
    "0 - target"
   ]
  },
  {
   "cell_type": "code",
   "execution_count": 187,
   "id": "small-distribution",
   "metadata": {
    "ExecuteTime": {
     "end_time": "2022-05-22T12:56:40.282989Z",
     "start_time": "2022-05-22T12:56:40.277005Z"
    }
   },
   "outputs": [
    {
     "data": {
      "text/plain": [
       "nitn\n",
       "100000     0.328821\n",
       "1000000    3.515894\n",
       "Name: result_times, dtype: float64"
      ]
     },
     "execution_count": 187,
     "metadata": {},
     "output_type": "execute_result"
    }
   ],
   "source": [
    "g = temp_df.groupby('nitn')['result_times'].apply(lambda x: x.tolist())\n",
    "g.apply(np.mean)"
   ]
  },
  {
   "cell_type": "code",
   "execution_count": 188,
   "id": "herbal-mozambique",
   "metadata": {
    "ExecuteTime": {
     "end_time": "2022-05-22T12:56:41.891688Z",
     "start_time": "2022-05-22T12:56:41.700200Z"
    }
   },
   "outputs": [
    {
     "data": {
      "image/png": "[encoded data removed]",
      "text/plain": [
       "<Figure size 432x288 with 1 Axes>"
      ]
     },
     "metadata": {
      "needs_background": "light"
     },
     "output_type": "display_data"
    }
   ],
   "source": [
    "plt.title('Uniform')\n",
    "plt.xlabel('samples')\n",
    "plt.ylabel('time (s)')\n",
    "plt.scatter(g.index, g.apply(np.mean))\n",
    "plt.plot(g.index, g.apply(np.mean), linestyle='--')\n",
    "plt.xscale('log')\n",
    "\n",
    "# locs, labels = plt.xticks()\n",
    "# print(locs)\n",
    "# plt.xticks(locs, ['', '1e5', '', '', '', '1e6', '', '', '', '1e7', '']);\n",
    "\n",
    "# plt.boxplot(g.values, labels=['1e5', '1e6', '1e7']);"
   ]
  },
  {
   "cell_type": "markdown",
   "id": "severe-ebony",
   "metadata": {},
   "source": [
    "##### batch"
   ]
  },
  {
   "cell_type": "code",
   "execution_count": 192,
   "id": "liked-failing",
   "metadata": {
    "ExecuteTime": {
     "end_time": "2022-05-22T13:00:42.075531Z",
     "start_time": "2022-05-22T12:59:59.387665Z"
    }
   },
   "outputs": [
    {
     "name": "stdout",
     "output_type": "stream",
     "text": [
      "run=1 nitn=100000  b[0, 100000]\n",
      "0.0 0.0\n",
      "run=2 nitn=100000  b[100000, 200000]\n",
      "0.0 0.0\n",
      "run=3 nitn=100000  b[200000, 300000]\n",
      "0.0 0.0\n",
      "run=4 nitn=100000  b[300000, 400000]\n",
      "0.0 0.0\n",
      "run=5 nitn=100000  b[400000, 500000]\n",
      "0.0 0.0\n",
      "run=6 nitn=100000  b[500000, 600000]\n",
      "0.0 0.0\n",
      "run=7 nitn=100000  b[600000, 700000]\n",
      "0.0 0.0\n",
      "run=8 nitn=100000  b[700000, 800000]\n",
      "8.235048009153651e-227 0.0\n",
      "run=9 nitn=100000  b[800000, 900000]\n",
      "0.0 0.0\n",
      "run=10 nitn=100000  b[900000, 1000000]\n",
      "0.0 0.0\n",
      "run=1 nitn=1000000  b[0, 1000000]\n",
      "1.0594281111040677e-268 0.0\n",
      "run=2 nitn=1000000  b[1000000, 2000000]\n",
      "0.0 0.0\n",
      "run=3 nitn=1000000  b[2000000, 3000000]\n",
      "2.0179213129598427e-213 0.0\n",
      "run=4 nitn=1000000  b[3000000, 4000000]\n",
      "1.422094773162755e-271 0.0\n",
      "run=5 nitn=1000000  b[4000000, 5000000]\n",
      "2.303717451610283e-224 0.0\n",
      "run=6 nitn=1000000  b[5000000, 6000000]\n",
      "4.22720133593713e-145 4.2271992223359445e-142\n",
      "run=7 nitn=1000000  b[6000000, 7000000]\n",
      "1.0690979803027402e-203 0.0\n",
      "run=8 nitn=1000000  b[7000000, 8000000]\n",
      "1.2956861599519872e-285 0.0\n",
      "run=9 nitn=1000000  b[8000000, 9000000]\n",
      "1.261768667468502e-209 0.0\n",
      "run=10 nitn=1000000  b[9000000, 10000000]\n",
      "4.222427221248114e-244 0.0\n",
      "Wall time: 42.7 s\n"
     ]
    }
   ],
   "source": [
    "%%time\n",
    "tf.random.set_seed(123)\n",
    "\n",
    "ndims = 9\n",
    "max_samples = 10**9\n",
    "\n",
    "results = []\n",
    "results_means = []\n",
    "results_stddevs = []\n",
    "result_times = []\n",
    "result_runs = []\n",
    "\n",
    "nitn_lst = list(map(int, [1e5, 1e6]))\n",
    "run_lst = range(1,11)\n",
    "\n",
    "for nitn in nitn_lst:\n",
    "    for j, run in enumerate(run_lst):\n",
    "        \n",
    "        print(f'run={run} nitn={nitn}  b[{j*nitn}, {(j+1)*nitn}]')\n",
    "\n",
    "        time_a = time.time()\n",
    "        samples = tfp.mcmc.sample_halton_sequence(\n",
    "            dim=ndims,\n",
    "            sequence_indices=tf.range(start=j*nitn, limit=(j+1)*nitn, dtype=tf.int32),\n",
    "            # num_results=nitn,\n",
    "            dtype=tf.float64,\n",
    "            randomized=True,\n",
    "            seed=run\n",
    "        ) * 2 - 1\n",
    "        current_result = f2(samples) * 2 ** ndims\n",
    "        time_b = time.time() - time_a\n",
    "        result_times.append(time_b)\n",
    "        result_runs.append(run)\n",
    "\n",
    "        current_result_mean = tf.reduce_mean(current_result).numpy()\n",
    "        current_result_stddev = tf.math.reduce_std(current_result).numpy()\n",
    "\n",
    "        results_means.append(current_result_mean)\n",
    "        results_stddevs.append(current_result_stddev)\n",
    "        results.append(current_result)\n",
    "\n",
    "        print(current_result_mean, current_result_stddev)"
   ]
  },
  {
   "cell_type": "code",
   "execution_count": 193,
   "id": "manufactured-language",
   "metadata": {
    "ExecuteTime": {
     "end_time": "2022-05-22T13:00:42.082513Z",
     "start_time": "2022-05-22T13:00:42.077527Z"
    },
    "code_folding": [
     0
    ]
   },
   "outputs": [],
   "source": [
    "# %%time\n",
    "# tf.random.set_seed(123)\n",
    "\n",
    "# ndims = 6\n",
    "# max_samples = 10**9\n",
    "\n",
    "# results = []\n",
    "# results_means = []\n",
    "# results_stddevs = []\n",
    "# result_times = []\n",
    "# result_runs = []\n",
    "\n",
    "# epoch = 0\n",
    "# current_precision = 1e99\n",
    "\n",
    "# nitn_lst = list(map(int, [1e6]))\n",
    "# run_lst = list(range(1,11))\n",
    "\n",
    "# with tf.compat.v1.Session() as sess:\n",
    "\n",
    "#     writer = tf.summary.create_file_writer(logdir)\n",
    "#     tf.summary.trace_on(graph=True, profiler=True)\n",
    "\n",
    "#     for run in run_lst:\n",
    "#         for nitn in nitn_lst:\n",
    "\n",
    "#             print(f'run={run} nitn={nitn}')\n",
    "            \n",
    "#             if run == run_lst[0] and nitn == nitn_lst[0]:\n",
    "#                 print('building graph..')\n",
    "#                 _ = sess.run(f1(tfp.mcmc.sample_halton_sequence(\n",
    "#                     dim=ndims,\n",
    "#                     #sequence_indices=sequence_indices,\n",
    "#                     num_results=nitn,\n",
    "#                     dtype=tf.float64,\n",
    "#                     randomized=True,\n",
    "#                     seed=123\n",
    "#                 )) * 10 ** ndims)\n",
    "#                 print('           - done')\n",
    "\n",
    "#             time_a = time.time()\n",
    "#             # sequence_indices = tf.range(start=0, limit=(epoch+1)*batch_size, dtype=tf.int32)\n",
    "#             # sequence_indices = tf.range(start=0*batch_size, limit=(0+1)*batch_size, dtype=tf.int32)\n",
    "#             samples = tfp.mcmc.sample_halton_sequence(\n",
    "#                 dim=ndims,\n",
    "#                 #sequence_indices=sequence_indices,\n",
    "#                 num_results=nitn,\n",
    "#                 dtype=tf.float64,\n",
    "#                 randomized=True,\n",
    "#                 seed=run\n",
    "#             )\n",
    "#             # current_result = f1(samples) * 10 ** ndims\n",
    "#             current_result = sess.run(f1(samples) * 10 ** ndims)\n",
    "            \n",
    "#             time_b = time.time() - time_a\n",
    "#             result_times.append(time_b)\n",
    "#             result_runs.append(run)\n",
    "\n",
    "#             #current_result_mean = tf.reduce_mean(current_result).numpy()\n",
    "#             #current_result_stddev = tf.math.reduce_std(current_result).numpy()\n",
    "            \n",
    "#             current_result_mean = np.mean(current_result)\n",
    "#             current_result_stddev = np.std(current_result)\n",
    "\n",
    "#             results_means.append(current_result_mean)\n",
    "#             results_stddevs.append(current_result_stddev)\n",
    "#             results.append(current_result)\n",
    "\n",
    "#             print(current_result_mean, current_result_stddev)"
   ]
  },
  {
   "cell_type": "code",
   "execution_count": 194,
   "id": "bridal-count",
   "metadata": {
    "ExecuteTime": {
     "end_time": "2022-05-22T13:00:42.091490Z",
     "start_time": "2022-05-22T13:00:42.083511Z"
    }
   },
   "outputs": [],
   "source": [
    "temp_df = pd.DataFrame({'nitn': nitn_lst * len(run_lst),\n",
    "                        'result_means': results_means,\n",
    "                        'results_stddevs':results_stddevs,\n",
    "                        'result_times': result_times,\n",
    "                        'run': result_runs\n",
    "                       })\n",
    "temp_df['s_per_sample'] = temp_df.result_times / temp_df.nitn"
   ]
  },
  {
   "cell_type": "code",
   "execution_count": 195,
   "id": "hindu-engineer",
   "metadata": {
    "ExecuteTime": {
     "end_time": "2022-05-22T13:00:49.652275Z",
     "start_time": "2022-05-22T13:00:49.644296Z"
    },
    "collapsed": true
   },
   "outputs": [
    {
     "name": "stderr",
     "output_type": "stream",
     "text": [
      "E:\\_MAGISTER_ACE\\Наука\\mc_integration\\mcenv\\lib\\site-packages\\ipykernel_launcher.py:7: RuntimeWarning: divide by zero encountered in true_divide\n",
      "  import sys\n",
      "E:\\_MAGISTER_ACE\\Наука\\mc_integration\\mcenv\\lib\\site-packages\\ipykernel_launcher.py:8: RuntimeWarning: divide by zero encountered in true_divide\n",
      "  \n",
      "E:\\_MAGISTER_ACE\\Наука\\mc_integration\\mcenv\\lib\\site-packages\\ipykernel_launcher.py:8: RuntimeWarning: invalid value encountered in true_divide\n",
      "  \n"
     ]
    },
    {
     "data": {
      "text/plain": [
       "nitn\n",
       "100000     (nan, 0.0)\n",
       "1000000    (nan, 0.0)\n",
       "dtype: object"
      ]
     },
     "execution_count": 195,
     "metadata": {},
     "output_type": "execute_result"
    }
   ],
   "source": [
    "temp_df.groupby('nitn').apply(lambda x: variance_weighted_result(x['result_means'].values,\n",
    "                                                                 x['results_stddevs'].values))"
   ]
  },
  {
   "cell_type": "code",
   "execution_count": 196,
   "id": "dietary-advertising",
   "metadata": {
    "ExecuteTime": {
     "end_time": "2022-05-22T13:00:52.768942Z",
     "start_time": "2022-05-22T13:00:52.764952Z"
    }
   },
   "outputs": [],
   "source": [
    "g = temp_df.groupby('nitn')['result_means'].apply(lambda x: x.tolist())"
   ]
  },
  {
   "cell_type": "code",
   "execution_count": 197,
   "id": "plastic-latter",
   "metadata": {
    "ExecuteTime": {
     "end_time": "2022-05-22T13:00:53.238686Z",
     "start_time": "2022-05-22T13:00:53.157902Z"
    }
   },
   "outputs": [
    {
     "data": {
      "image/png": "[encoded data removed]",
      "text/plain": [
       "<Figure size 432x288 with 1 Axes>"
      ]
     },
     "metadata": {
      "needs_background": "light"
     },
     "output_type": "display_data"
    }
   ],
   "source": [
    "# plt.yscale('log')\n",
    "plt.axhline(y=target, linestyle=':')\n",
    "plt.title('Halton-b')\n",
    "plt.xlabel('samples')\n",
    "plt.ylabel('result')\n",
    "plt.boxplot(g.values, labels=list(map(str,nitn_lst)));"
   ]
  },
  {
   "cell_type": "code",
   "execution_count": 198,
   "id": "pressed-passage",
   "metadata": {
    "ExecuteTime": {
     "end_time": "2022-05-22T13:00:54.316803Z",
     "start_time": "2022-05-22T13:00:54.308825Z"
    }
   },
   "outputs": [
    {
     "data": {
      "text/html": [
       "<div>\n",
       "<style scoped>\n",
       "    .dataframe tbody tr th:only-of-type {\n",
       "        vertical-align: middle;\n",
       "    }\n",
       "\n",
       "    .dataframe tbody tr th {\n",
       "        vertical-align: top;\n",
       "    }\n",
       "\n",
       "    .dataframe thead th {\n",
       "        text-align: right;\n",
       "    }\n",
       "</style>\n",
       "<table border=\"1\" class=\"dataframe\">\n",
       "  <thead>\n",
       "    <tr style=\"text-align: right;\">\n",
       "      <th></th>\n",
       "      <th>mean</th>\n",
       "      <th>std</th>\n",
       "    </tr>\n",
       "    <tr>\n",
       "      <th>nitn</th>\n",
       "      <th></th>\n",
       "      <th></th>\n",
       "    </tr>\n",
       "  </thead>\n",
       "  <tbody>\n",
       "    <tr>\n",
       "      <th>100000</th>\n",
       "      <td>1.069099e-204</td>\n",
       "      <td>0.000000e+00</td>\n",
       "    </tr>\n",
       "    <tr>\n",
       "      <th>1000000</th>\n",
       "      <td>4.227201e-146</td>\n",
       "      <td>1.336758e-145</td>\n",
       "    </tr>\n",
       "  </tbody>\n",
       "</table>\n",
       "</div>"
      ],
      "text/plain": [
       "                  mean            std\n",
       "nitn                                 \n",
       "100000   1.069099e-204   0.000000e+00\n",
       "1000000  4.227201e-146  1.336758e-145"
      ]
     },
     "execution_count": 198,
     "metadata": {},
     "output_type": "execute_result"
    }
   ],
   "source": [
    "temp_df.groupby('nitn')['result_means'].agg([np.mean, np.std])"
   ]
  },
  {
   "cell_type": "code",
   "execution_count": 202,
   "id": "vanilla-steel",
   "metadata": {
    "ExecuteTime": {
     "end_time": "2022-05-22T13:01:12.528113Z",
     "start_time": "2022-05-22T13:01:12.524123Z"
    }
   },
   "outputs": [
    {
     "data": {
      "text/plain": [
       "-1"
      ]
     },
     "execution_count": 202,
     "metadata": {},
     "output_type": "execute_result"
    }
   ],
   "source": [
    "0 - target"
   ]
  },
  {
   "cell_type": "code",
   "execution_count": 200,
   "id": "delayed-minimum",
   "metadata": {
    "ExecuteTime": {
     "end_time": "2022-05-22T13:00:55.570451Z",
     "start_time": "2022-05-22T13:00:55.564467Z"
    }
   },
   "outputs": [
    {
     "data": {
      "text/plain": [
       "nitn\n",
       "100000     2.114746\n",
       "1000000    2.147857\n",
       "Name: result_times, dtype: float64"
      ]
     },
     "execution_count": 200,
     "metadata": {},
     "output_type": "execute_result"
    }
   ],
   "source": [
    "g = temp_df.groupby('nitn')['result_times'].apply(lambda x: x.tolist())\n",
    "g.apply(np.mean)"
   ]
  },
  {
   "cell_type": "code",
   "execution_count": 201,
   "id": "banner-religion",
   "metadata": {
    "ExecuteTime": {
     "end_time": "2022-05-22T13:00:55.994318Z",
     "start_time": "2022-05-22T13:00:55.796846Z"
    }
   },
   "outputs": [
    {
     "data": {
      "image/png": "[encoded data removed]",
      "text/plain": [
       "<Figure size 432x288 with 1 Axes>"
      ]
     },
     "metadata": {
      "needs_background": "light"
     },
     "output_type": "display_data"
    }
   ],
   "source": [
    "plt.title('Uniform')\n",
    "plt.xlabel('samples')\n",
    "plt.ylabel('time (s)')\n",
    "plt.scatter(g.index, g.apply(np.mean))\n",
    "plt.plot(g.index, g.apply(np.mean), linestyle='--')\n",
    "plt.xscale('log')\n",
    "\n",
    "# locs, labels = plt.xticks()\n",
    "# print(locs)\n",
    "# plt.xticks(locs, ['', '1e5', '', '', '', '1e6', '', '', '', '1e7', '']);\n",
    "\n",
    "# plt.boxplot(g.values, labels=['1e5', '1e6', '1e7']);"
   ]
  },
  {
   "cell_type": "markdown",
   "id": "rental-bouquet",
   "metadata": {},
   "source": [
    "#### Sobol"
   ]
  },
  {
   "cell_type": "markdown",
   "id": "dutch-genre",
   "metadata": {},
   "source": [
    "##### simple"
   ]
  },
  {
   "cell_type": "code",
   "execution_count": 219,
   "id": "prescription-syracuse",
   "metadata": {
    "ExecuteTime": {
     "end_time": "2022-05-22T13:34:43.845553Z",
     "start_time": "2022-05-22T13:18:58.092163Z"
    },
    "scrolled": true
   },
   "outputs": [
    {
     "name": "stdout",
     "output_type": "stream",
     "text": [
      "run=1 nitn=1000000  b[0, 1000000]\n",
      "131057113106.48116 131057047577908.56\n",
      "run=2 nitn=1000000  b[1000000, 2000000]\n",
      "4.061882451069097e-103 4.061880420127349e-100\n",
      "run=3 nitn=1000000  b[2000000, 3000000]\n",
      "3.249145595214993e-278 0.0\n",
      "run=4 nitn=1000000  b[3000000, 4000000]\n",
      "1.3089069699673725e-267 0.0\n",
      "run=5 nitn=1000000  b[4000000, 5000000]\n",
      "9.997214777789986e-285 0.0\n",
      "run=6 nitn=1000000  b[5000000, 6000000]\n",
      "2.694087130421285e-250 0.0\n",
      "run=7 nitn=1000000  b[6000000, 7000000]\n",
      "3.953949221720235e-256 0.0\n",
      "run=8 nitn=1000000  b[7000000, 8000000]\n",
      "0.0 0.0\n",
      "run=9 nitn=1000000  b[8000000, 9000000]\n",
      "4.2955794152221955e-160 0.0\n",
      "run=10 nitn=1000000  b[9000000, 10000000]\n",
      "6.71592710414678e-269 0.0\n",
      "run=1 nitn=10000000  b[0, 10000000]\n",
      "13105711310.648115 41443896026083.08\n",
      "run=2 nitn=10000000  b[10000000, 20000000]\n",
      "5.102835412447911e-162 0.0\n",
      "run=3 nitn=10000000  b[20000000, 30000000]\n",
      "7.6632691094878e-190 0.0\n",
      "run=4 nitn=10000000  b[30000000, 40000000]\n",
      "9.682376847553397e-204 0.0\n",
      "run=5 nitn=10000000  b[40000000, 50000000]\n",
      "6.704530846245726e-209 0.0\n",
      "run=6 nitn=10000000  b[50000000, 60000000]\n",
      "7.433726146412634e-140 2.3507383952523722e-136\n",
      "run=7 nitn=10000000  b[60000000, 70000000]\n",
      "1.3994903597282107e-189 0.0\n",
      "run=8 nitn=10000000  b[70000000, 80000000]\n",
      "5.645856099613686e-163 0.0\n",
      "run=9 nitn=10000000  b[80000000, 90000000]\n",
      "6.360145744194945e-172 0.0\n",
      "run=10 nitn=10000000  b[90000000, 100000000]\n",
      "9.76920166147869e-233 0.0\n",
      "run=1 nitn=100000000  b[0, 100000000]\n",
      "1310571131.0648115 13105711245119.672\n",
      "run=2 nitn=100000000  b[100000000, 200000000]\n",
      "4.1208426223961336e-73 4.1208426017919445e-69\n",
      "run=3 nitn=100000000  b[200000000, 300000000]\n",
      "2.169333549670682e-91 2.1693140968121142e-87\n",
      "run=4 nitn=100000000  b[300000000, 400000000]\n",
      "1.8536669621440435e-118 1.853666952875714e-114\n",
      "run=5 nitn=100000000  b[400000000, 500000000]\n",
      "4.078490282858222e-57 4.0784902624658224e-53\n",
      "run=6 nitn=100000000  b[500000000, 600000000]\n",
      "1.864514415171099e-80 1.86451440584853e-76\n",
      "run=7 nitn=100000000  b[600000000, 700000000]\n",
      "1.4480622147350052e-88 1.4480622074947092e-84\n",
      "run=8 nitn=100000000  b[700000000, 800000000]\n",
      "4.4346921447601717e-131 3.348579771649256e-127\n",
      "run=9 nitn=100000000  b[800000000, 900000000]\n",
      "8.213312674074814e-24 8.213312633008257e-20\n",
      "run=10 nitn=100000000  b[900000000, 1000000000]\n",
      "2.285088020541674e-104 2.284180243189581e-100\n",
      "Wall time: 15min 45s\n"
     ]
    }
   ],
   "source": [
    "%%time\n",
    "tf.random.set_seed(123)\n",
    "\n",
    "ndims = 9\n",
    "# max_samples = 10**9\n",
    "\n",
    "results = []\n",
    "results_means = []\n",
    "results_stddevs = []\n",
    "result_times = []\n",
    "result_runs = []\n",
    "\n",
    "nitn_lst = list(map(int, [1e6, 1e7, 1e8]))\n",
    "run_lst = range(1,11)\n",
    "\n",
    "for nitn in nitn_lst:\n",
    "    for j, run in enumerate(run_lst):\n",
    "        \n",
    "        print(f'run={run} nitn={nitn}  b[{j*nitn}, {(j+1)*nitn}]')\n",
    "\n",
    "        time_a = time.time()\n",
    "        # sequence_indices = tf.range(start=0, limit=(epoch+1)*batch_size, dtype=tf.int32)\n",
    "        # sequence_indices = tf.range(start=0*batch_size, limit=(0+1)*batch_size, dtype=tf.int32)\n",
    "        samples = tf.math.sobol_sample(\n",
    "            dim=ndims,\n",
    "            num_results=nitn,\n",
    "            skip=j*nitn,\n",
    "            dtype=tf.dtypes.float64,\n",
    "            #name=None\n",
    "        ) * 2 - 1\n",
    "        current_result = f2(samples) * 2 ** ndims\n",
    "        time_b = time.time() - time_a\n",
    "        result_times.append(time_b)\n",
    "        result_runs.append(run)\n",
    "\n",
    "        current_result_mean = tf.reduce_mean(current_result).numpy()\n",
    "        current_result_stddev = tf.math.reduce_std(current_result).numpy()\n",
    "\n",
    "        results_means.append(current_result_mean)\n",
    "        results_stddevs.append(current_result_stddev)\n",
    "        results.append(current_result)\n",
    "\n",
    "        print(current_result_mean, current_result_stddev)"
   ]
  },
  {
   "cell_type": "code",
   "execution_count": 229,
   "id": "proprietary-qualification",
   "metadata": {
    "ExecuteTime": {
     "end_time": "2022-05-22T13:47:25.598913Z",
     "start_time": "2022-05-22T13:47:25.593927Z"
    },
    "code_folding": [
     0
    ]
   },
   "outputs": [],
   "source": [
    "# %%time\n",
    "# tf.random.set_seed(123)\n",
    "\n",
    "# ndims = 6\n",
    "# max_samples = 10**9\n",
    "\n",
    "# results = []\n",
    "# results_means = []\n",
    "# results_stddevs = []\n",
    "# result_times = []\n",
    "# result_runs = []\n",
    "\n",
    "# epoch = 0\n",
    "# current_precision = 1e99\n",
    "\n",
    "# nitn_lst = list(map(int, [1e6]))\n",
    "# run_lst = list(range(1,11))\n",
    "\n",
    "# with tf.compat.v1.Session() as sess:\n",
    "\n",
    "#     writer = tf.summary.create_file_writer(logdir)\n",
    "#     tf.summary.trace_on(graph=True, profiler=True)\n",
    "\n",
    "#     for run in run_lst:\n",
    "#         for nitn in nitn_lst:\n",
    "\n",
    "#             print(f'run={run} nitn={nitn}')\n",
    "            \n",
    "#             if run == run_lst[0] and nitn == nitn_lst[0]:\n",
    "#                 print('building graph..')\n",
    "#                 _ = sess.run(f1(tfp.mcmc.sample_halton_sequence(\n",
    "#                     dim=ndims,\n",
    "#                     #sequence_indices=sequence_indices,\n",
    "#                     num_results=nitn,\n",
    "#                     dtype=tf.float64,\n",
    "#                     randomized=True,\n",
    "#                     seed=123\n",
    "#                 )) * 10 ** ndims)\n",
    "#                 print('           - done')\n",
    "\n",
    "#             time_a = time.time()\n",
    "#             # sequence_indices = tf.range(start=0, limit=(epoch+1)*batch_size, dtype=tf.int32)\n",
    "#             # sequence_indices = tf.range(start=0*batch_size, limit=(0+1)*batch_size, dtype=tf.int32)\n",
    "#             samples = tfp.mcmc.sample_halton_sequence(\n",
    "#                 dim=ndims,\n",
    "#                 #sequence_indices=sequence_indices,\n",
    "#                 num_results=nitn,\n",
    "#                 dtype=tf.float64,\n",
    "#                 randomized=True,\n",
    "#                 seed=run\n",
    "#             )\n",
    "#             # current_result = f1(samples) * 10 ** ndims\n",
    "#             current_result = sess.run(f1(samples) * 10 ** ndims)\n",
    "            \n",
    "#             time_b = time.time() - time_a\n",
    "#             result_times.append(time_b)\n",
    "#             result_runs.append(run)\n",
    "\n",
    "#             #current_result_mean = tf.reduce_mean(current_result).numpy()\n",
    "#             #current_result_stddev = tf.math.reduce_std(current_result).numpy()\n",
    "            \n",
    "#             current_result_mean = np.mean(current_result)\n",
    "#             current_result_stddev = np.std(current_result)\n",
    "\n",
    "#             results_means.append(current_result_mean)\n",
    "#             results_stddevs.append(current_result_stddev)\n",
    "#             results.append(current_result)\n",
    "\n",
    "#             print(current_result_mean, current_result_stddev)"
   ]
  },
  {
   "cell_type": "code",
   "execution_count": 230,
   "id": "accepting-drama",
   "metadata": {
    "ExecuteTime": {
     "end_time": "2022-05-22T13:47:25.827303Z",
     "start_time": "2022-05-22T13:47:25.821319Z"
    }
   },
   "outputs": [],
   "source": [
    "temp_df = pd.DataFrame({'nitn': nitn_lst * len(run_lst),\n",
    "                        'result_means': results_means,\n",
    "                        'results_stddevs':results_stddevs,\n",
    "                        'result_times': result_times,\n",
    "                        'run': result_runs\n",
    "                       })\n",
    "temp_df['s_per_sample'] = temp_df.result_times / temp_df.nitn"
   ]
  },
  {
   "cell_type": "code",
   "execution_count": 231,
   "id": "regulation-postage",
   "metadata": {
    "ExecuteTime": {
     "end_time": "2022-05-22T13:47:26.277101Z",
     "start_time": "2022-05-22T13:47:26.269122Z"
    }
   },
   "outputs": [
    {
     "name": "stderr",
     "output_type": "stream",
     "text": [
      "E:\\_MAGISTER_ACE\\Наука\\mc_integration\\mcenv\\lib\\site-packages\\ipykernel_launcher.py:7: RuntimeWarning: divide by zero encountered in true_divide\n",
      "  import sys\n",
      "E:\\_MAGISTER_ACE\\Наука\\mc_integration\\mcenv\\lib\\site-packages\\ipykernel_launcher.py:8: RuntimeWarning: divide by zero encountered in true_divide\n",
      "  \n",
      "E:\\_MAGISTER_ACE\\Наука\\mc_integration\\mcenv\\lib\\site-packages\\ipykernel_launcher.py:9: RuntimeWarning: invalid value encountered in double_scalars\n",
      "  if __name__ == \"__main__\":\n",
      "E:\\_MAGISTER_ACE\\Наука\\mc_integration\\mcenv\\lib\\site-packages\\ipykernel_launcher.py:8: RuntimeWarning: invalid value encountered in true_divide\n",
      "  \n"
     ]
    },
    {
     "data": {
      "text/plain": [
       "nitn\n",
       "1000000      (nan, 0.0)\n",
       "10000000     (nan, 0.0)\n",
       "100000000    (nan, 0.0)\n",
       "dtype: object"
      ]
     },
     "execution_count": 231,
     "metadata": {},
     "output_type": "execute_result"
    }
   ],
   "source": [
    "temp_df.groupby('nitn').apply(lambda x: variance_weighted_result(x['result_means'].values,\n",
    "                                                                 x['results_stddevs'].values))"
   ]
  },
  {
   "cell_type": "code",
   "execution_count": 232,
   "id": "accepted-franchise",
   "metadata": {
    "ExecuteTime": {
     "end_time": "2022-05-22T13:47:28.305676Z",
     "start_time": "2022-05-22T13:47:28.301687Z"
    }
   },
   "outputs": [],
   "source": [
    "g = temp_df.groupby('nitn')['result_means'].apply(lambda x: x.tolist())"
   ]
  },
  {
   "cell_type": "code",
   "execution_count": 233,
   "id": "rental-costume",
   "metadata": {
    "ExecuteTime": {
     "end_time": "2022-05-22T13:47:28.743505Z",
     "start_time": "2022-05-22T13:47:28.644770Z"
    }
   },
   "outputs": [
    {
     "data": {
      "image/png": "[encoded data removed]",
      "text/plain": [
       "<Figure size 432x288 with 1 Axes>"
      ]
     },
     "metadata": {
      "needs_background": "light"
     },
     "output_type": "display_data"
    }
   ],
   "source": [
    "# plt.yscale('log')\n",
    "plt.axhline(y=target, linestyle=':')\n",
    "plt.title('Uniform')\n",
    "plt.xlabel('samples')\n",
    "plt.ylabel('result')\n",
    "plt.boxplot(g.values, labels=list(map(str,nitn_lst)));"
   ]
  },
  {
   "cell_type": "code",
   "execution_count": 234,
   "id": "technological-plate",
   "metadata": {
    "ExecuteTime": {
     "end_time": "2022-05-22T13:47:30.061980Z",
     "start_time": "2022-05-22T13:47:30.054002Z"
    }
   },
   "outputs": [
    {
     "data": {
      "text/html": [
       "<div>\n",
       "<style scoped>\n",
       "    .dataframe tbody tr th:only-of-type {\n",
       "        vertical-align: middle;\n",
       "    }\n",
       "\n",
       "    .dataframe tbody tr th {\n",
       "        vertical-align: top;\n",
       "    }\n",
       "\n",
       "    .dataframe thead th {\n",
       "        text-align: right;\n",
       "    }\n",
       "</style>\n",
       "<table border=\"1\" class=\"dataframe\">\n",
       "  <thead>\n",
       "    <tr style=\"text-align: right;\">\n",
       "      <th></th>\n",
       "      <th>mean</th>\n",
       "      <th>std</th>\n",
       "    </tr>\n",
       "    <tr>\n",
       "      <th>nitn</th>\n",
       "      <th></th>\n",
       "      <th></th>\n",
       "    </tr>\n",
       "  </thead>\n",
       "  <tbody>\n",
       "    <tr>\n",
       "      <th>1000000</th>\n",
       "      <td>1.310571e+10</td>\n",
       "      <td>4.144390e+10</td>\n",
       "    </tr>\n",
       "    <tr>\n",
       "      <th>10000000</th>\n",
       "      <td>1.310571e+09</td>\n",
       "      <td>4.144390e+09</td>\n",
       "    </tr>\n",
       "    <tr>\n",
       "      <th>100000000</th>\n",
       "      <td>1.310571e+08</td>\n",
       "      <td>4.144390e+08</td>\n",
       "    </tr>\n",
       "  </tbody>\n",
       "</table>\n",
       "</div>"
      ],
      "text/plain": [
       "                   mean           std\n",
       "nitn                                 \n",
       "1000000    1.310571e+10  4.144390e+10\n",
       "10000000   1.310571e+09  4.144390e+09\n",
       "100000000  1.310571e+08  4.144390e+08"
      ]
     },
     "execution_count": 234,
     "metadata": {},
     "output_type": "execute_result"
    }
   ],
   "source": [
    "temp_df.groupby('nitn')['result_means'].agg([np.mean, np.std])"
   ]
  },
  {
   "cell_type": "code",
   "execution_count": 237,
   "id": "primary-soccer",
   "metadata": {
    "ExecuteTime": {
     "end_time": "2022-05-22T13:47:49.282592Z",
     "start_time": "2022-05-22T13:47:49.277605Z"
    }
   },
   "outputs": [
    {
     "data": {
      "text/plain": [
       "131057099.0"
      ]
     },
     "execution_count": 237,
     "metadata": {},
     "output_type": "execute_result"
    }
   ],
   "source": [
    "1.310571e+08 - target"
   ]
  },
  {
   "cell_type": "code",
   "execution_count": 238,
   "id": "utility-tournament",
   "metadata": {
    "ExecuteTime": {
     "end_time": "2022-05-22T13:47:50.699802Z",
     "start_time": "2022-05-22T13:47:50.692821Z"
    }
   },
   "outputs": [
    {
     "data": {
      "text/plain": [
       "nitn\n",
       "1000000      28.333945\n",
       "10000000     32.080129\n",
       "100000000    32.379429\n",
       "Name: result_times, dtype: float64"
      ]
     },
     "execution_count": 238,
     "metadata": {},
     "output_type": "execute_result"
    }
   ],
   "source": [
    "g = temp_df.groupby('nitn')['result_times'].apply(lambda x: x.tolist())\n",
    "g.apply(np.mean)"
   ]
  },
  {
   "cell_type": "code",
   "execution_count": 239,
   "id": "delayed-island",
   "metadata": {
    "ExecuteTime": {
     "end_time": "2022-05-22T13:47:52.283568Z",
     "start_time": "2022-05-22T13:47:52.045205Z"
    }
   },
   "outputs": [
    {
     "data": {
      "image/png": "[encoded data removed]",
      "text/plain": [
       "<Figure size 432x288 with 1 Axes>"
      ]
     },
     "metadata": {
      "needs_background": "light"
     },
     "output_type": "display_data"
    }
   ],
   "source": [
    "plt.title('Sobol')\n",
    "plt.xlabel('samples')\n",
    "plt.ylabel('time (s)')\n",
    "plt.scatter(g.index, g.apply(np.mean))\n",
    "plt.plot(g.index, g.apply(np.mean), linestyle='--')\n",
    "plt.xscale('log')\n",
    "\n",
    "# locs, labels = plt.xticks()\n",
    "# print(locs)\n",
    "# plt.xticks(locs, ['', '1e5', '', '', '', '1e6', '', '', '', '1e7', '']);\n",
    "\n",
    "# plt.boxplot(g.values, labels=['1e5', '1e6', '1e7']);"
   ]
  },
  {
   "cell_type": "code",
   "execution_count": null,
   "id": "educational-botswana",
   "metadata": {},
   "outputs": [],
   "source": []
  },
  {
   "cell_type": "code",
   "execution_count": null,
   "id": "neural-differential",
   "metadata": {},
   "outputs": [],
   "source": []
  },
  {
   "cell_type": "code",
   "execution_count": null,
   "id": "offshore-blocking",
   "metadata": {},
   "outputs": [],
   "source": []
  },
  {
   "cell_type": "code",
   "execution_count": null,
   "id": "oriental-hands",
   "metadata": {},
   "outputs": [],
   "source": []
  }
 ],
 "metadata": {
  "kernelspec": {
   "display_name": "mcenv",
   "language": "python",
   "name": "mcenv"
  },
  "language_info": {
   "codemirror_mode": {
    "name": "ipython",
    "version": 3
   },
   "file_extension": ".py",
   "mimetype": "text/x-python",
   "name": "python",
   "nbconvert_exporter": "python",
   "pygments_lexer": "ipython3",
   "version": "3.7.9"
  },
  "toc": {
   "base_numbering": 1,
   "nav_menu": {},
   "number_sections": true,
   "sideBar": true,
   "skip_h1_title": false,
   "title_cell": "Table of Contents",
   "title_sidebar": "Contents",
   "toc_cell": false,
   "toc_position": {
    "height": "calc(100% - 180px)",
    "left": "10px",
    "top": "150px",
    "width": "374.391px"
   },
   "toc_section_display": true,
   "toc_window_display": true
  }
 },
 "nbformat": 4,
 "nbformat_minor": 5
}
