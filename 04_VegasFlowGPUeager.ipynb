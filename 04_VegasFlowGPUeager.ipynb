{
 "cells": [
  {
   "cell_type": "code",
   "execution_count": 5,
   "id": "continuing-washer",
   "metadata": {
    "ExecuteTime": {
     "end_time": "2022-06-05T23:02:43.554275Z",
     "start_time": "2022-06-05T23:02:40.765734Z"
    }
   },
   "outputs": [],
   "source": [
    "import os\n",
    "import time\n",
    "from datetime import datetime\n",
    "\n",
    "import numpy as np\n",
    "import pandas as pd\n",
    "import scipy as sp\n",
    "from tqdm import tqdm\n",
    "\n",
    "import tensorflow as tf\n",
    "import tensorflow_probability as tfp\n",
    "\n",
    "import vegas\n",
    "\n",
    "import matplotlib.pyplot as plt\n",
    "%matplotlib inline"
   ]
  },
  {
   "cell_type": "code",
   "execution_count": 6,
   "id": "passing-business",
   "metadata": {
    "ExecuteTime": {
     "end_time": "2022-06-05T23:02:43.559262Z",
     "start_time": "2022-06-05T23:02:43.555272Z"
    }
   },
   "outputs": [],
   "source": [
    "# os.environ[\"CUDA_VISIBLE_DEVICES\"] = \"-1\""
   ]
  },
  {
   "cell_type": "code",
   "execution_count": 7,
   "id": "shared-exhibit",
   "metadata": {
    "ExecuteTime": {
     "end_time": "2022-06-05T23:02:44.669293Z",
     "start_time": "2022-06-05T23:02:44.229469Z"
    }
   },
   "outputs": [
    {
     "name": "stdout",
     "output_type": "stream",
     "text": [
      "WARNING:tensorflow:From C:\\TMP\\ipykernel_11692\\337460670.py:1: is_gpu_available (from tensorflow.python.framework.test_util) is deprecated and will be removed in a future version.\n",
      "Instructions for updating:\n",
      "Use `tf.config.list_physical_devices('GPU')` instead.\n"
     ]
    },
    {
     "data": {
      "text/plain": [
       "True"
      ]
     },
     "execution_count": 7,
     "metadata": {},
     "output_type": "execute_result"
    }
   ],
   "source": [
    "tf.test.is_gpu_available()"
   ]
  },
  {
   "cell_type": "code",
   "execution_count": 8,
   "id": "destroyed-election",
   "metadata": {
    "ExecuteTime": {
     "end_time": "2022-06-05T23:02:51.641643Z",
     "start_time": "2022-06-05T23:02:51.637654Z"
    }
   },
   "outputs": [
    {
     "name": "stdout",
     "output_type": "stream",
     "text": [
      "0\n",
      "0\n"
     ]
    }
   ],
   "source": [
    "# tf.compat.v1.enable_eager_execution()\n",
    "print(tf.config.threading.get_inter_op_parallelism_threads())\n",
    "print(tf.config.threading.get_intra_op_parallelism_threads())\n",
    "\n",
    "\n",
    "# tf.compat.v1.disable_eager_execution()\n",
    "# tf.config.threading.set_inter_op_parallelism_threads(64)\n",
    "# tf.config.threading.set_intra_op_parallelism_threads(64)"
   ]
  },
  {
   "cell_type": "code",
   "execution_count": 9,
   "id": "alternate-helena",
   "metadata": {
    "ExecuteTime": {
     "end_time": "2022-06-05T23:02:52.400613Z",
     "start_time": "2022-06-05T23:02:52.397621Z"
    }
   },
   "outputs": [],
   "source": [
    "# print(tf.config.threading.get_inter_op_parallelism_threads())\n",
    "# print(tf.config.threading.get_intra_op_parallelism_threads())"
   ]
  },
  {
   "cell_type": "code",
   "execution_count": 10,
   "id": "revised-presence",
   "metadata": {
    "ExecuteTime": {
     "end_time": "2022-06-05T23:02:52.689840Z",
     "start_time": "2022-06-05T23:02:52.684853Z"
    }
   },
   "outputs": [],
   "source": [
    "def variance_weighted_result(means, stddevs):\n",
    "    \"\"\" Computes weighted mean and stddev of given means and\n",
    "        stddevs arrays, using Inverse-variance weighting\n",
    "    \"\"\"\n",
    "    assert np.size(means) == np.size(stddevs)\n",
    "    assert means.shape == stddevs.shape\n",
    "    variance = 1./np.sum(1./stddevs**2, axis=-1)\n",
    "    mean = np.sum(means/(stddevs**2), axis=-1)\n",
    "    mean *= variance\n",
    "    return mean, np.sqrt(variance)"
   ]
  },
  {
   "cell_type": "code",
   "execution_count": 11,
   "id": "narrative-statistics",
   "metadata": {
    "ExecuteTime": {
     "end_time": "2022-06-05T23:02:52.904266Z",
     "start_time": "2022-06-05T23:02:52.901274Z"
    }
   },
   "outputs": [],
   "source": [
    "NRUNS = 2"
   ]
  },
  {
   "cell_type": "markdown",
   "id": "second-lexington",
   "metadata": {},
   "source": [
    "### F1 - simple gauss"
   ]
  },
  {
   "cell_type": "code",
   "execution_count": 12,
   "id": "miniature-transcription",
   "metadata": {
    "ExecuteTime": {
     "end_time": "2022-06-05T23:02:53.365033Z",
     "start_time": "2022-06-05T23:02:53.357055Z"
    }
   },
   "outputs": [
    {
     "data": {
      "text/plain": [
       "{'f1_d2': 1.0, 'f1_d4': 1.0, 'f1_d6': 1.0, 'f1_d8': 1.0}"
      ]
     },
     "execution_count": 12,
     "metadata": {},
     "output_type": "execute_result"
    }
   ],
   "source": [
    "import scipy.stats as spt\n",
    "\n",
    "target_precision = 1e-3\n",
    "\n",
    "norm_dist = spt.norm(loc=0.5, scale=0.05)\n",
    "\n",
    "func_tag = 'f1'\n",
    "\n",
    "target_dict = {\n",
    "    'f1_d2': (norm_dist.cdf(1) - norm_dist.cdf(0)) ** 2,\n",
    "    'f1_d4': (norm_dist.cdf(1) - norm_dist.cdf(0)) ** 4,\n",
    "    'f1_d6': (norm_dist.cdf(1) - norm_dist.cdf(0)) ** 6,\n",
    "    'f1_d8': (norm_dist.cdf(1) - norm_dist.cdf(0)) ** 8,\n",
    "}\n",
    "target_dict"
   ]
  },
  {
   "cell_type": "code",
   "execution_count": 13,
   "id": "brief-addition",
   "metadata": {
    "ExecuteTime": {
     "end_time": "2022-06-05T23:02:54.265625Z",
     "start_time": "2022-06-05T23:02:53.613369Z"
    }
   },
   "outputs": [],
   "source": [
    "sigma = 0.05\n",
    "alpha = sigma * np.sqrt(2)\n",
    "alpha_tf = tf.constant(alpha, dtype=tf.float64)\n",
    "pi = np.pi\n",
    "pi_tf = tf.constant(np.pi, dtype=tf.float64)\n",
    "\n",
    "\n",
    "# @tf.function(input_signature=[tf.TensorSpec(shape=(None,2), dtype=tf.float64)])\n",
    "def f1_d2(x):\n",
    "    pre = tf.cast(1.0 / (alpha * tf.sqrt(pi_tf)) ** 2, dtype=tf.float64)\n",
    "    exponent = -1 * tf.reduce_sum((x - .5) ** 2, axis=-1) / alpha ** 2\n",
    "    return pre * tf.exp(exponent)\n",
    "\n",
    "def f1_d2_np(x):\n",
    "    pre = 1.0 / (alpha * np.sqrt(pi)) ** 2\n",
    "    exponent = -1 * np.sum((x - .5) ** 2, axis=-1) / alpha ** 2\n",
    "    return pre * np.exp(exponent)\n",
    "\n",
    "\n",
    "# @tf.function(input_signature=[tf.TensorSpec(shape=(None,4), dtype=tf.float64)])\n",
    "def f1_d4(x):\n",
    "    pre = tf.cast(1.0 / (alpha * tf.sqrt(pi_tf)) ** 4, dtype=tf.float64)\n",
    "    exponent = -1 * tf.reduce_sum((x - .5) ** 2, axis=-1) / alpha ** 2\n",
    "    return pre * tf.exp(exponent)\n",
    "\n",
    "\n",
    "# @tf.function(input_signature=[tf.TensorSpec(shape=(None,6), dtype=tf.float64)])\n",
    "def f1_d6(x):\n",
    "    pre = tf.cast(1.0 / (alpha * tf.sqrt(pi_tf)) ** 6, dtype=tf.float64)\n",
    "    exponent = -1 * tf.reduce_sum((x - .5) ** 2, axis=-1) / alpha ** 2\n",
    "    return pre * tf.exp(exponent)\n",
    "\n",
    "\n",
    "# @tf.function(input_signature=[tf.TensorSpec(shape=(None,8), dtype=tf.float64)])\n",
    "def f1_d8(x):\n",
    "    pre = tf.cast(1.0 / (alpha * tf.sqrt(pi_tf)) ** 8, dtype=tf.float64)\n",
    "    exponent = -1 * tf.reduce_sum((x - .5) ** 2, axis=-1) / alpha ** 2\n",
    "    return pre * tf.exp(exponent)"
   ]
  },
  {
   "cell_type": "code",
   "execution_count": 14,
   "id": "surface-bench",
   "metadata": {
    "ExecuteTime": {
     "end_time": "2022-06-05T23:02:55.506306Z",
     "start_time": "2022-06-05T23:02:55.501320Z"
    }
   },
   "outputs": [
    {
     "data": {
      "text/plain": [
       "{2: <function __main__.f1_d2(x)>,\n",
       " 4: <function __main__.f1_d4(x)>,\n",
       " 6: <function __main__.f1_d6(x)>,\n",
       " 8: <function __main__.f1_d8(x)>}"
      ]
     },
     "execution_count": 14,
     "metadata": {},
     "output_type": "execute_result"
    }
   ],
   "source": [
    "dim2func_dict = {\n",
    "    2: f1_d2,\n",
    "    4: f1_d4,\n",
    "    6: f1_d6,\n",
    "    8: f1_d8,\n",
    "}\n",
    "dim2func_dict"
   ]
  },
  {
   "cell_type": "code",
   "execution_count": 15,
   "id": "abandoned-hebrew",
   "metadata": {
    "ExecuteTime": {
     "end_time": "2022-06-05T23:02:56.480700Z",
     "start_time": "2022-06-05T23:02:56.476711Z"
    }
   },
   "outputs": [],
   "source": [
    "# f1_d2(tf.random.uniform(shape=(10,2), dtype=tf.float64))"
   ]
  },
  {
   "cell_type": "code",
   "execution_count": 16,
   "id": "subjective-professional",
   "metadata": {
    "ExecuteTime": {
     "end_time": "2022-06-05T23:02:56.821787Z",
     "start_time": "2022-06-05T23:02:56.788876Z"
    }
   },
   "outputs": [],
   "source": [
    "import vegasflow\n",
    "from vegasflow import VegasFlow"
   ]
  },
  {
   "cell_type": "code",
   "execution_count": 18,
   "id": "provincial-constitution",
   "metadata": {
    "ExecuteTime": {
     "end_time": "2022-06-05T23:03:33.643299Z",
     "start_time": "2022-06-05T23:03:33.637315Z"
    }
   },
   "outputs": [],
   "source": [
    "dims = 8\n",
    "n_calls = int(1e8)\n",
    "vegas_instance = VegasFlow(dims, n_calls, verbose=1, list_devices=['GPU'])\n",
    "\n",
    "vegas_instance.compile(f1_d8, compilable=False)"
   ]
  },
  {
   "cell_type": "code",
   "execution_count": 19,
   "id": "material-girlfriend",
   "metadata": {
    "ExecuteTime": {
     "end_time": "2022-06-05T23:03:59.693621Z",
     "start_time": "2022-06-05T23:03:34.596749Z"
    }
   },
   "outputs": [
    {
     "name": "stdout",
     "output_type": "stream",
     "text": [
      "Events sent to the computing device: 100.0 %\r"
     ]
    },
    {
     "name": "stderr",
     "output_type": "stream",
     "text": [
      "[INFO] (vegasflow.monte_carlo) Result for iteration 0: 0.8230 +/- 0.0779(took 25.08889 s)\n",
      "[INFO] (vegasflow.monte_carlo)  > Final results: 0.823034 +/- 0.0778786\n"
     ]
    },
    {
     "name": "stdout",
     "output_type": "stream",
     "text": [
      "tf.Tensor(164.87830071687122, shape=(), dtype=float64)\n"
     ]
    }
   ],
   "source": [
    "n_iter = 1\n",
    "result = vegas_instance.run_integration(n_iter)"
   ]
  },
  {
   "cell_type": "code",
   "execution_count": 20,
   "id": "settled-student",
   "metadata": {
    "ExecuteTime": {
     "end_time": "2022-06-05T23:03:59.700602Z",
     "start_time": "2022-06-05T23:03:59.695617Z"
    }
   },
   "outputs": [
    {
     "data": {
      "text/plain": [
       "(0.8230340789776772, 0.07787862023594636)"
      ]
     },
     "execution_count": 20,
     "metadata": {},
     "output_type": "execute_result"
    }
   ],
   "source": [
    "result"
   ]
  },
  {
   "cell_type": "code",
   "execution_count": null,
   "id": "extra-apple",
   "metadata": {},
   "outputs": [],
   "source": []
  },
  {
   "cell_type": "code",
   "execution_count": null,
   "id": "developing-conference",
   "metadata": {},
   "outputs": [],
   "source": []
  },
  {
   "cell_type": "code",
   "execution_count": null,
   "id": "located-serbia",
   "metadata": {},
   "outputs": [],
   "source": [
    "%%time\n",
    "np.random.seed(123)\n",
    "\n",
    "result_means = []\n",
    "result_sdevs = []\n",
    "result_times = []\n",
    "result_sum_nevals = []\n",
    "result_run_nums = []\n",
    "\n",
    "ndims_lst = [2,4,6,8]\n",
    "neval_lst = list(map(int, [1e5, 1e6]))  # 1e8\n",
    "nitn_lst = list(map(int, [2,4]))\n",
    "run_lst = list(range(1,NRUNS+1))\n",
    "\n",
    "for run in run_lst:\n",
    "    print(f'run={run}')\n",
    "    for ndims in ndims_lst:\n",
    "        integrand = dim2func_dict[ndims]\n",
    "        \n",
    "        for nitn in nitn_lst:\n",
    "            for neval in neval_lst:\n",
    "\n",
    "                print(f'ndims={ndims}  nitn={nitn}  neval={neval}')\n",
    "\n",
    "                integ = vegas.Integrator([[0, 1]] * ndims)\n",
    "\n",
    "                time_a = time.time()\n",
    "                current_result = integ(integrand, nitn=nitn, neval=neval)\n",
    "                current_result_mean = current_result.mean\n",
    "                current_result_sdev = current_result.sdev\n",
    "                total_time = time.time() - time_a\n",
    "\n",
    "                result_means.append(current_result_mean)\n",
    "                result_sdevs.append(current_result_sdev)\n",
    "                result_times.append(total_time)\n",
    "                result_sum_nevals.append(current_result.sum_neval)\n",
    "                result_run_nums.append(run)\n",
    "\n",
    "                # print(current_result_mean, current_result_stddev)"
   ]
  },
  {
   "cell_type": "code",
   "execution_count": null,
   "id": "southeast-allergy",
   "metadata": {},
   "outputs": [],
   "source": []
  },
  {
   "cell_type": "code",
   "execution_count": null,
   "id": "destroyed-genesis",
   "metadata": {},
   "outputs": [],
   "source": []
  }
 ],
 "metadata": {
  "kernelspec": {
   "display_name": "mcenv",
   "language": "python",
   "name": "mcenv"
  },
  "language_info": {
   "codemirror_mode": {
    "name": "ipython",
    "version": 3
   },
   "file_extension": ".py",
   "mimetype": "text/x-python",
   "name": "python",
   "nbconvert_exporter": "python",
   "pygments_lexer": "ipython3",
   "version": "3.7.9"
  },
  "toc": {
   "base_numbering": 1,
   "nav_menu": {},
   "number_sections": true,
   "sideBar": true,
   "skip_h1_title": false,
   "title_cell": "Table of Contents",
   "title_sidebar": "Contents",
   "toc_cell": false,
   "toc_position": {
    "height": "calc(100% - 180px)",
    "left": "10px",
    "top": "150px",
    "width": "253px"
   },
   "toc_section_display": true,
   "toc_window_display": true
  }
 },
 "nbformat": 4,
 "nbformat_minor": 5
}
