{
 "cells": [
  {
   "cell_type": "code",
   "execution_count": 1,
   "id": "typical-detector",
   "metadata": {
    "ExecuteTime": {
     "end_time": "2022-06-05T22:43:48.282349Z",
     "start_time": "2022-06-05T22:43:41.641114Z"
    }
   },
   "outputs": [],
   "source": [
    "import os\n",
    "import time\n",
    "from datetime import datetime\n",
    "\n",
    "import numpy as np\n",
    "import pandas as pd\n",
    "import scipy as sp\n",
    "from tqdm import tqdm\n",
    "\n",
    "import tensorflow as tf\n",
    "import tensorflow_probability as tfp\n",
    "\n",
    "import vegasflow\n",
    "from vegasflow import VegasFlow\n",
    "\n",
    "import matplotlib.pyplot as plt\n",
    "%matplotlib inline"
   ]
  },
  {
   "cell_type": "code",
   "execution_count": 2,
   "id": "hindu-charity",
   "metadata": {
    "ExecuteTime": {
     "end_time": "2022-06-05T22:43:48.288334Z",
     "start_time": "2022-06-05T22:43:48.283347Z"
    }
   },
   "outputs": [],
   "source": [
    "os.environ[\"CUDA_VISIBLE_DEVICES\"] = \"-1\""
   ]
  },
  {
   "cell_type": "code",
   "execution_count": 3,
   "id": "academic-printing",
   "metadata": {
    "ExecuteTime": {
     "end_time": "2022-06-05T22:43:48.298307Z",
     "start_time": "2022-06-05T22:43:48.290329Z"
    }
   },
   "outputs": [
    {
     "data": {
      "text/plain": [
       "True"
      ]
     },
     "execution_count": 3,
     "metadata": {},
     "output_type": "execute_result"
    }
   ],
   "source": [
    "tf.test.is_gpu_available()"
   ]
  },
  {
   "cell_type": "code",
   "execution_count": 4,
   "id": "musical-heating",
   "metadata": {
    "ExecuteTime": {
     "end_time": "2022-06-05T22:43:58.259662Z",
     "start_time": "2022-06-05T22:43:58.254676Z"
    }
   },
   "outputs": [
    {
     "name": "stdout",
     "output_type": "stream",
     "text": [
      "0\n",
      "0\n"
     ]
    }
   ],
   "source": [
    "# tf.compat.v1.enable_eager_execution()\n",
    "print(tf.config.threading.get_inter_op_parallelism_threads())\n",
    "print(tf.config.threading.get_intra_op_parallelism_threads())\n",
    "\n",
    "\n",
    "# tf.compat.v1.disable_eager_execution()\n",
    "\n",
    "# tf.disable_v2_behavior()\n",
    "# tf.config.threading.set_inter_op_parallelism_threads(64)\n",
    "# tf.config.threading.set_intra_op_parallelism_threads(64)"
   ]
  },
  {
   "cell_type": "code",
   "execution_count": 5,
   "id": "looking-source",
   "metadata": {
    "ExecuteTime": {
     "end_time": "2022-06-05T22:44:01.155916Z",
     "start_time": "2022-06-05T22:44:01.150930Z"
    }
   },
   "outputs": [],
   "source": [
    "def variance_weighted_result(means, stddevs):\n",
    "    \"\"\" Computes weighted mean and stddev of given means and\n",
    "        stddevs arrays, using Inverse-variance weighting\n",
    "    \"\"\"\n",
    "    assert np.size(means) == np.size(stddevs)\n",
    "    assert means.shape == stddevs.shape\n",
    "    variance = 1./np.sum(1./stddevs**2, axis=-1)\n",
    "    mean = np.sum(means/(stddevs**2), axis=-1)\n",
    "    mean *= variance\n",
    "    return mean, np.sqrt(variance)"
   ]
  },
  {
   "cell_type": "code",
   "execution_count": 6,
   "id": "another-matthew",
   "metadata": {
    "ExecuteTime": {
     "end_time": "2022-06-05T22:44:01.369345Z",
     "start_time": "2022-06-05T22:44:01.366353Z"
    }
   },
   "outputs": [],
   "source": [
    "NRUNS = 2"
   ]
  },
  {
   "cell_type": "markdown",
   "id": "seeing-superior",
   "metadata": {},
   "source": [
    "### F1 - simple gauss"
   ]
  },
  {
   "cell_type": "code",
   "execution_count": 7,
   "id": "adapted-miami",
   "metadata": {
    "ExecuteTime": {
     "end_time": "2022-06-05T22:44:03.370991Z",
     "start_time": "2022-06-05T22:44:03.110687Z"
    }
   },
   "outputs": [
    {
     "data": {
      "text/plain": [
       "{'f1_d2': 1.0, 'f1_d4': 1.0, 'f1_d6': 1.0, 'f1_d8': 1.0}"
      ]
     },
     "execution_count": 7,
     "metadata": {},
     "output_type": "execute_result"
    }
   ],
   "source": [
    "import scipy.stats as spt\n",
    "\n",
    "target_precision = 1e-3\n",
    "\n",
    "norm_dist = spt.norm(loc=0.5, scale=0.05)\n",
    "\n",
    "func_tag = 'f1'\n",
    "\n",
    "target_dict = {\n",
    "    'f1_d2': (norm_dist.cdf(1) - norm_dist.cdf(0)) ** 2,\n",
    "    'f1_d4': (norm_dist.cdf(1) - norm_dist.cdf(0)) ** 4,\n",
    "    'f1_d6': (norm_dist.cdf(1) - norm_dist.cdf(0)) ** 6,\n",
    "    'f1_d8': (norm_dist.cdf(1) - norm_dist.cdf(0)) ** 8,\n",
    "}\n",
    "target_dict"
   ]
  },
  {
   "cell_type": "code",
   "execution_count": 20,
   "id": "dirty-reward",
   "metadata": {
    "ExecuteTime": {
     "end_time": "2022-06-05T22:51:55.711133Z",
     "start_time": "2022-06-05T22:51:55.702127Z"
    }
   },
   "outputs": [],
   "source": [
    "sigma = 0.05\n",
    "alpha = sigma * np.sqrt(2)\n",
    "alpha_tf = tf.constant(alpha, dtype=tf.float64)\n",
    "pi = np.pi\n",
    "pi_tf = tf.constant(np.pi, dtype=tf.float64)\n",
    "\n",
    "\n",
    "# @tf.function(input_signature=[tf.TensorSpec(shape=(None,2), dtype=tf.float64)])\n",
    "def f1_d2(x):\n",
    "    print('Tracing..')\n",
    "    pre = tf.cast(1.0 / (alpha * tf.sqrt(pi_tf)) ** 2, dtype=tf.float64)\n",
    "    exponent = -1 * tf.reduce_sum((x - .5) ** 2, axis=-1) / alpha ** 2\n",
    "    return pre * tf.exp(exponent)\n",
    "\n",
    "def f1_d2_np(x):\n",
    "    print('Tracing..')\n",
    "    pre = 1.0 / (alpha * np.sqrt(pi)) ** 2\n",
    "    exponent = -1 * np.sum((x - .5) ** 2, axis=-1) / alpha ** 2\n",
    "    return pre * np.exp(exponent)\n",
    "\n",
    "\n",
    "# @tf.function(input_signature=[tf.TensorSpec(shape=(None,4), dtype=tf.float64)])\n",
    "def f1_d4(x):\n",
    "    print('Tracing..')\n",
    "    pre = tf.cast(1.0 / (alpha * tf.sqrt(pi_tf)) ** 4, dtype=tf.float64)\n",
    "    exponent = -1 * tf.reduce_sum((x - .5) ** 2, axis=-1) / alpha ** 2\n",
    "    return pre * tf.exp(exponent)\n",
    "\n",
    "\n",
    "# @tf.function(input_signature=[tf.TensorSpec(shape=(None,6), dtype=tf.float64)])\n",
    "def f1_d6(x):\n",
    "    print('Tracing..')\n",
    "    pre = tf.cast(1.0 / (alpha * tf.sqrt(pi_tf)) ** 6, dtype=tf.float64)\n",
    "    exponent = -1 * tf.reduce_sum((x - .5) ** 2, axis=-1) / alpha ** 2\n",
    "    return pre * tf.exp(exponent)\n",
    "\n",
    "\n",
    "# @tf.function(input_signature=[tf.TensorSpec(shape=(None,8), dtype=tf.float64)])\n",
    "def f1_d8(x):\n",
    "    print('Tracing..')\n",
    "    pre = tf.cast(1.0 / (alpha * tf.sqrt(pi_tf)) ** 8, dtype=tf.float64)\n",
    "    exponent = -1 * tf.reduce_sum((x - .5) ** 2, axis=-1) / alpha ** 2\n",
    "    return pre * tf.exp(exponent)"
   ]
  },
  {
   "cell_type": "code",
   "execution_count": 9,
   "id": "psychological-quick",
   "metadata": {
    "ExecuteTime": {
     "end_time": "2022-06-05T22:44:20.476239Z",
     "start_time": "2022-06-05T22:44:20.470254Z"
    }
   },
   "outputs": [
    {
     "data": {
      "text/plain": [
       "{2: <function __main__.f1_d2(x)>,\n",
       " 4: <function __main__.f1_d4(x)>,\n",
       " 6: <function __main__.f1_d6(x)>,\n",
       " 8: <function __main__.f1_d8(x)>}"
      ]
     },
     "execution_count": 9,
     "metadata": {},
     "output_type": "execute_result"
    }
   ],
   "source": [
    "dim2func_dict = {\n",
    "    2: f1_d2,\n",
    "    4: f1_d4,\n",
    "    6: f1_d6,\n",
    "    8: f1_d8,\n",
    "}\n",
    "dim2func_dict"
   ]
  },
  {
   "cell_type": "code",
   "execution_count": 10,
   "id": "positive-consortium",
   "metadata": {
    "ExecuteTime": {
     "end_time": "2022-06-05T22:44:24.602203Z",
     "start_time": "2022-06-05T22:44:24.598213Z"
    },
    "scrolled": true
   },
   "outputs": [],
   "source": [
    "# with tf.compat.v1.Session() as sess:\n",
    "    \n",
    "#     # print(f1_d8(tf.random.uniform(shape=(10,8), dtype=tf.float64)))\n",
    "#     print(sess.run(f1_d8(tf.random.uniform(shape=(10,8), dtype=tf.float64))))"
   ]
  },
  {
   "cell_type": "code",
   "execution_count": 11,
   "id": "intellectual-captain",
   "metadata": {
    "ExecuteTime": {
     "end_time": "2022-06-05T22:44:27.777709Z",
     "start_time": "2022-06-05T22:44:27.774718Z"
    }
   },
   "outputs": [],
   "source": [
    "# from vegasflow import run_eager\n",
    "\n",
    "# run_eager(False)"
   ]
  },
  {
   "cell_type": "code",
   "execution_count": 23,
   "id": "eastern-luther",
   "metadata": {
    "ExecuteTime": {
     "end_time": "2022-06-05T23:00:19.717005Z",
     "start_time": "2022-06-05T23:00:19.710024Z"
    }
   },
   "outputs": [],
   "source": [
    "dims = 8\n",
    "n_calls = int(1e8)\n",
    "vegas_instance = VegasFlow(dims, n_calls, verbose=1,  list_devices=['CPU'])\n",
    "\n",
    "vegas_instance.compile(f1_d8, compilable=True)"
   ]
  },
  {
   "cell_type": "code",
   "execution_count": 24,
   "id": "public-productivity",
   "metadata": {
    "ExecuteTime": {
     "end_time": "2022-06-05T23:02:10.852744Z",
     "start_time": "2022-06-05T23:00:20.141869Z"
    }
   },
   "outputs": [
    {
     "name": "stdout",
     "output_type": "stream",
     "text": [
      "Tracing..nt to the computing device: 1.0 %\n",
      "Events sent to the computing device: 100.0 %\r"
     ]
    },
    {
     "name": "stderr",
     "output_type": "stream",
     "text": [
      "[INFO] (vegasflow.monte_carlo) Result for iteration 0: 0.8338 +/- 0.0697(took 110.70489 s)\n",
      "[INFO] (vegasflow.monte_carlo)  > Final results: 0.8338 +/- 0.0697128\n"
     ]
    },
    {
     "name": "stdout",
     "output_type": "stream",
     "text": [
      "tf.Tensor(205.76677645409094, shape=(), dtype=float64)\n"
     ]
    }
   ],
   "source": [
    "n_iter = 1\n",
    "result = vegas_instance.run_integration(n_iter)"
   ]
  },
  {
   "cell_type": "code",
   "execution_count": 25,
   "id": "fifty-sleeping",
   "metadata": {
    "ExecuteTime": {
     "end_time": "2022-06-05T23:02:10.859726Z",
     "start_time": "2022-06-05T23:02:10.854739Z"
    }
   },
   "outputs": [
    {
     "data": {
      "text/plain": [
       "(0.8337999424519433, 0.06971277537357445)"
      ]
     },
     "execution_count": 25,
     "metadata": {},
     "output_type": "execute_result"
    }
   ],
   "source": [
    "result"
   ]
  },
  {
   "cell_type": "code",
   "execution_count": null,
   "id": "floating-access",
   "metadata": {},
   "outputs": [],
   "source": []
  },
  {
   "cell_type": "code",
   "execution_count": null,
   "id": "mounted-diary",
   "metadata": {
    "ExecuteTime": {
     "end_time": "2022-06-04T17:25:47.559825Z",
     "start_time": "2022-06-04T17:25:47.559825Z"
    }
   },
   "outputs": [],
   "source": [
    "# %%time\n",
    "# np.random.seed(123)\n",
    "\n",
    "# result_means = []\n",
    "# result_sdevs = []\n",
    "# result_times = []\n",
    "# result_sum_nevals = []\n",
    "# result_run_nums = []\n",
    "\n",
    "# ndims_lst = [2,4,6,8]\n",
    "# neval_lst = list(map(int, [1e5, 1e6]))  # 1e8\n",
    "# nitn_lst = list(map(int, [2,4]))\n",
    "# run_lst = list(range(1,NRUNS+1))\n",
    "\n",
    "# for run in run_lst:\n",
    "#     print(f'run={run}')\n",
    "#     for ndims in ndims_lst:\n",
    "#         integrand = dim2func_dict[ndims]\n",
    "        \n",
    "#         for nitn in nitn_lst:\n",
    "#             for neval in neval_lst:\n",
    "\n",
    "#                 print(f'ndims={ndims}  nitn={nitn}  neval={neval}')\n",
    "\n",
    "#                 integ = vegas.Integrator([[0, 1]] * ndims)\n",
    "\n",
    "#                 time_a = time.time()\n",
    "#                 current_result = integ(integrand, nitn=nitn, neval=neval)\n",
    "#                 current_result_mean = current_result.mean\n",
    "#                 current_result_sdev = current_result.sdev\n",
    "#                 total_time = time.time() - time_a\n",
    "\n",
    "#                 result_means.append(current_result_mean)\n",
    "#                 result_sdevs.append(current_result_sdev)\n",
    "#                 result_times.append(total_time)\n",
    "#                 result_sum_nevals.append(current_result.sum_neval)\n",
    "#                 result_run_nums.append(run)\n",
    "\n",
    "#                 # print(current_result_mean, current_result_stddev)"
   ]
  },
  {
   "cell_type": "code",
   "execution_count": null,
   "id": "consecutive-juice",
   "metadata": {},
   "outputs": [],
   "source": []
  },
  {
   "cell_type": "code",
   "execution_count": null,
   "id": "relative-rates",
   "metadata": {},
   "outputs": [],
   "source": []
  }
 ],
 "metadata": {
  "kernelspec": {
   "display_name": "mcenv",
   "language": "python",
   "name": "mcenv"
  },
  "language_info": {
   "codemirror_mode": {
    "name": "ipython",
    "version": 3
   },
   "file_extension": ".py",
   "mimetype": "text/x-python",
   "name": "python",
   "nbconvert_exporter": "python",
   "pygments_lexer": "ipython3",
   "version": "3.7.9"
  },
  "toc": {
   "base_numbering": 1,
   "nav_menu": {},
   "number_sections": true,
   "sideBar": true,
   "skip_h1_title": false,
   "title_cell": "Table of Contents",
   "title_sidebar": "Contents",
   "toc_cell": false,
   "toc_position": {
    "height": "calc(100% - 180px)",
    "left": "10px",
    "top": "150px",
    "width": "253px"
   },
   "toc_section_display": true,
   "toc_window_display": true
  }
 },
 "nbformat": 4,
 "nbformat_minor": 5
}
