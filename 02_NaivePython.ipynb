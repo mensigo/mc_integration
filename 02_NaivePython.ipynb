{
 "cells": [
  {
   "cell_type": "code",
   "execution_count": 1,
   "id": "unsigned-adelaide",
   "metadata": {
    "ExecuteTime": {
     "end_time": "2022-06-19T19:24:29.469560Z",
     "start_time": "2022-06-19T19:24:28.587917Z"
    }
   },
   "outputs": [],
   "source": [
    "import os\n",
    "import time\n",
    "import math\n",
    "import random\n",
    "from datetime import datetime\n",
    "\n",
    "import numpy as np\n",
    "import pandas as pd\n",
    "import scipy as sp\n",
    "from tqdm import tqdm\n",
    "from functools import partial\n",
    "\n",
    "# import tensorflow as tf\n",
    "# import tensorflow_probability as tfp\n",
    "\n",
    "import matplotlib.pyplot as plt\n",
    "%matplotlib inline"
   ]
  },
  {
   "cell_type": "code",
   "execution_count": 2,
   "id": "uniform-edmonton",
   "metadata": {
    "ExecuteTime": {
     "end_time": "2022-06-19T19:24:29.474547Z",
     "start_time": "2022-06-19T19:24:29.470557Z"
    }
   },
   "outputs": [],
   "source": [
    "# os.environ[\"CUDA_VISIBLE_DEVICES\"] = \"-1\""
   ]
  },
  {
   "cell_type": "code",
   "execution_count": 3,
   "id": "meaning-facing",
   "metadata": {
    "ExecuteTime": {
     "end_time": "2022-06-19T19:24:29.478536Z",
     "start_time": "2022-06-19T19:24:29.475545Z"
    }
   },
   "outputs": [],
   "source": [
    "# tf.test.is_gpu_available()"
   ]
  },
  {
   "cell_type": "code",
   "execution_count": 4,
   "id": "retained-retailer",
   "metadata": {
    "ExecuteTime": {
     "end_time": "2022-06-19T19:24:29.485517Z",
     "start_time": "2022-06-19T19:24:29.480531Z"
    }
   },
   "outputs": [],
   "source": [
    "def variance_weighted_result(means, stddevs):\n",
    "    \"\"\" Computes weighted mean and stddev of given means and\n",
    "        stddevs arrays, using Inverse-variance weighting\n",
    "    \"\"\"\n",
    "    assert np.size(means) == np.size(stddevs)\n",
    "    assert means.shape == stddevs.shape\n",
    "    variance = 1./np.sum(1./stddevs**2, axis=-1)\n",
    "    mean = np.sum(means/(stddevs**2), axis=-1)\n",
    "    mean *= variance\n",
    "    return mean, np.sqrt(variance)"
   ]
  },
  {
   "cell_type": "code",
   "execution_count": 5,
   "id": "controlled-tunnel",
   "metadata": {
    "ExecuteTime": {
     "end_time": "2022-06-19T19:24:29.491502Z",
     "start_time": "2022-06-19T19:24:29.486515Z"
    }
   },
   "outputs": [],
   "source": [
    "def compute_stats(values):\n",
    "    mean = sum(values) / len(values)\n",
    "    var_unb = sum((v - mean) ** 2 for v in values) / (len(values) -1)\n",
    "    return mean, math.sqrt(var_unb)"
   ]
  },
  {
   "cell_type": "code",
   "execution_count": 27,
   "id": "agricultural-wednesday",
   "metadata": {
    "ExecuteTime": {
     "end_time": "2022-06-19T16:40:15.007159Z",
     "start_time": "2022-06-19T16:40:15.003170Z"
    }
   },
   "outputs": [],
   "source": [
    "NRUNS = 5"
   ]
  },
  {
   "cell_type": "markdown",
   "id": "coupled-recording",
   "metadata": {},
   "source": [
    "### F1 - simple gauss"
   ]
  },
  {
   "cell_type": "code",
   "execution_count": 28,
   "id": "monthly-header",
   "metadata": {
    "ExecuteTime": {
     "end_time": "2022-06-19T16:40:16.363533Z",
     "start_time": "2022-06-19T16:40:16.355554Z"
    }
   },
   "outputs": [
    {
     "data": {
      "text/plain": [
       "{'f1_d2': 1.0, 'f1_d4': 1.0, 'f1_d6': 1.0, 'f1_d8': 1.0}"
      ]
     },
     "execution_count": 28,
     "metadata": {},
     "output_type": "execute_result"
    }
   ],
   "source": [
    "import scipy.stats as spt\n",
    "\n",
    "target = 1\n",
    "target_precision = 1e-3\n",
    "\n",
    "norm_dist = spt.norm(loc=0.5, scale=0.01)\n",
    "\n",
    "prefix = 'f1'\n",
    "\n",
    "target_dict = {\n",
    "    'f1_d2': (norm_dist.cdf(1) - norm_dist.cdf(0)) ** 2,\n",
    "    'f1_d4': (norm_dist.cdf(1) - norm_dist.cdf(0)) ** 4,\n",
    "    'f1_d6': (norm_dist.cdf(1) - norm_dist.cdf(0)) ** 6,\n",
    "    'f1_d8': (norm_dist.cdf(1) - norm_dist.cdf(0)) ** 8,\n",
    "}\n",
    "target_dict"
   ]
  },
  {
   "cell_type": "code",
   "execution_count": 29,
   "id": "awful-spotlight",
   "metadata": {
    "ExecuteTime": {
     "end_time": "2022-06-19T16:40:16.808343Z",
     "start_time": "2022-06-19T16:40:16.803357Z"
    }
   },
   "outputs": [],
   "source": [
    "sigma = 0.01\n",
    "alpha = sigma * np.sqrt(2)\n",
    "pi = np.pi\n",
    "\n",
    "\n",
    "def f1_np(x, ndims):\n",
    "    pre = 1.0 / (alpha * np.sqrt(pi)) ** ndims\n",
    "    exponent = -1 * np.sum((x - .5) ** 2, axis=-1) / alpha ** 2\n",
    "    return pre * np.exp(exponent)\n",
    "\n",
    "def f1(x, ndims):\n",
    "    pre = 1.0 / (alpha * math.sqrt(pi)) ** ndims\n",
    "    exponent = -1 * sum((t - .5) ** 2 for t in x) / alpha ** 2\n",
    "    return pre * math.exp(exponent)"
   ]
  },
  {
   "cell_type": "code",
   "execution_count": 30,
   "id": "solid-carroll",
   "metadata": {
    "ExecuteTime": {
     "end_time": "2022-06-19T16:40:17.680013Z",
     "start_time": "2022-06-19T16:40:17.675026Z"
    }
   },
   "outputs": [
    {
     "data": {
      "text/plain": [
       "{2: functools.partial(<function f1 at 0x000001EEB1DF8798>, ndims=2),\n",
       " 4: functools.partial(<function f1 at 0x000001EEB1DF8798>, ndims=4),\n",
       " 6: functools.partial(<function f1 at 0x000001EEB1DF8798>, ndims=6),\n",
       " 8: functools.partial(<function f1 at 0x000001EEB1DF8798>, ndims=8)}"
      ]
     },
     "execution_count": 30,
     "metadata": {},
     "output_type": "execute_result"
    }
   ],
   "source": [
    "dim2func_dict = {\n",
    "    2: partial(f1, ndims=2),\n",
    "    4: partial(f1, ndims=4),\n",
    "    6: partial(f1, ndims=6),\n",
    "    8: partial(f1, ndims=8),\n",
    "}\n",
    "dim2func_dict"
   ]
  },
  {
   "cell_type": "markdown",
   "id": "ranking-mountain",
   "metadata": {},
   "source": [
    "#### Uniform"
   ]
  },
  {
   "cell_type": "code",
   "execution_count": 31,
   "id": "instant-deviation",
   "metadata": {
    "ExecuteTime": {
     "end_time": "2022-06-19T16:57:48.038855Z",
     "start_time": "2022-06-19T16:40:20.458584Z"
    },
    "scrolled": true
   },
   "outputs": [
    {
     "name": "stdout",
     "output_type": "stream",
     "text": [
      "run=1\n",
      "ndims=2  neval=10000\n",
      "ndims=2  neval=100000\n",
      "ndims=2  neval=1000000\n",
      "ndims=2  neval=10000000\n",
      "ndims=4  neval=10000\n",
      "ndims=4  neval=100000\n",
      "ndims=4  neval=1000000\n",
      "ndims=4  neval=10000000\n",
      "ndims=6  neval=10000\n",
      "ndims=6  neval=100000\n",
      "ndims=6  neval=1000000\n",
      "ndims=6  neval=10000000\n",
      "ndims=8  neval=10000\n",
      "ndims=8  neval=100000\n",
      "ndims=8  neval=1000000\n",
      "ndims=8  neval=10000000\n",
      "run=2\n",
      "ndims=2  neval=10000\n",
      "ndims=2  neval=100000\n",
      "ndims=2  neval=1000000\n",
      "ndims=2  neval=10000000\n",
      "ndims=4  neval=10000\n",
      "ndims=4  neval=100000\n",
      "ndims=4  neval=1000000\n",
      "ndims=4  neval=10000000\n",
      "ndims=6  neval=10000\n",
      "ndims=6  neval=100000\n",
      "ndims=6  neval=1000000\n",
      "ndims=6  neval=10000000\n",
      "ndims=8  neval=10000\n",
      "ndims=8  neval=100000\n",
      "ndims=8  neval=1000000\n",
      "ndims=8  neval=10000000\n",
      "run=3\n",
      "ndims=2  neval=10000\n",
      "ndims=2  neval=100000\n",
      "ndims=2  neval=1000000\n",
      "ndims=2  neval=10000000\n",
      "ndims=4  neval=10000\n",
      "ndims=4  neval=100000\n",
      "ndims=4  neval=1000000\n",
      "ndims=4  neval=10000000\n",
      "ndims=6  neval=10000\n",
      "ndims=6  neval=100000\n",
      "ndims=6  neval=1000000\n",
      "ndims=6  neval=10000000\n",
      "ndims=8  neval=10000\n",
      "ndims=8  neval=100000\n",
      "ndims=8  neval=1000000\n",
      "ndims=8  neval=10000000\n",
      "run=4\n",
      "ndims=2  neval=10000\n",
      "ndims=2  neval=100000\n",
      "ndims=2  neval=1000000\n",
      "ndims=2  neval=10000000\n",
      "ndims=4  neval=10000\n",
      "ndims=4  neval=100000\n",
      "ndims=4  neval=1000000\n",
      "ndims=4  neval=10000000\n",
      "ndims=6  neval=10000\n",
      "ndims=6  neval=100000\n",
      "ndims=6  neval=1000000\n",
      "ndims=6  neval=10000000\n",
      "ndims=8  neval=10000\n",
      "ndims=8  neval=100000\n",
      "ndims=8  neval=1000000\n",
      "ndims=8  neval=10000000\n",
      "run=5\n",
      "ndims=2  neval=10000\n",
      "ndims=2  neval=100000\n",
      "ndims=2  neval=1000000\n",
      "ndims=2  neval=10000000\n",
      "ndims=4  neval=10000\n",
      "ndims=4  neval=100000\n",
      "ndims=4  neval=1000000\n",
      "ndims=4  neval=10000000\n",
      "ndims=6  neval=10000\n",
      "ndims=6  neval=100000\n",
      "ndims=6  neval=1000000\n",
      "ndims=6  neval=10000000\n",
      "ndims=8  neval=10000\n",
      "ndims=8  neval=100000\n",
      "ndims=8  neval=1000000\n",
      "ndims=8  neval=10000000\n"
     ]
    }
   ],
   "source": [
    "# %%time\n",
    "# np.random.set_seed(123)\n",
    "random.seed(123)\n",
    "\n",
    "result_means = []\n",
    "result_sdevs = []\n",
    "result_gen_times = []\n",
    "result_eval_times = []\n",
    "result_run_nums = []\n",
    "\n",
    "ndims_lst = [2, 4, 6, 8]\n",
    "neval_lst = list(map(int, [1e4, 1e5, 1e6, 1e7]))\n",
    "run_lst = list(range(1,NRUNS+1))\n",
    "\n",
    "for run in run_lst:\n",
    "    \n",
    "    print(f'run={run}')\n",
    "    for ndims in ndims_lst:\n",
    "        \n",
    "        integrand = dim2func_dict[ndims]\n",
    "        for neval in neval_lst:\n",
    "\n",
    "            print(f'ndims={ndims}  neval={neval}')\n",
    "\n",
    "            time_a = time.time()\n",
    "            data = [[random.random() for _ in range(ndims)] for _ in range(neval)]\n",
    "            gen_time = time.time() - time_a\n",
    "            \n",
    "            time_a = time.time()\n",
    "            values = [integrand(p) for p in data]\n",
    "            mean, std = compute_stats(values)\n",
    "            error = std / math.sqrt(neval)\n",
    "            eval_time = time.time() - time_a\n",
    "            \n",
    "            result_means.append(mean)\n",
    "            result_sdevs.append(error)\n",
    "            result_gen_times.append(gen_time)\n",
    "            result_eval_times.append(eval_time)\n",
    "            result_run_nums.append(run)\n",
    "            \n",
    "            # print(current_result_mean, current_result_stddev)"
   ]
  },
  {
   "cell_type": "code",
   "execution_count": 32,
   "id": "emerging-sodium",
   "metadata": {
    "ExecuteTime": {
     "end_time": "2022-06-19T16:58:26.137997Z",
     "start_time": "2022-06-19T16:58:26.131016Z"
    }
   },
   "outputs": [],
   "source": [
    "temp_df = pd.DataFrame({\n",
    "    'ndims': sorted(ndims_lst * len(neval_lst)) * len(run_lst),\n",
    "    'neval': sorted(neval_lst) * len(ndims_lst) * len(run_lst),\n",
    "    'result_mean': result_means,\n",
    "    'result_sdev': result_sdevs,\n",
    "    'result_gen_time': result_gen_times,\n",
    "    'result_eval_time': result_eval_times,\n",
    "    'run_num': result_run_nums,\n",
    "})\n",
    "temp_df['eval_time_perc'] = (temp_df.result_eval_time / (temp_df.result_gen_time + temp_df.result_eval_time)).round(2)\n",
    "temp_df['total_time'] = temp_df.result_gen_time + temp_df.result_eval_time"
   ]
  },
  {
   "cell_type": "code",
   "execution_count": 33,
   "id": "available-cattle",
   "metadata": {
    "ExecuteTime": {
     "end_time": "2022-06-19T16:58:27.042579Z",
     "start_time": "2022-06-19T16:58:26.952819Z"
    },
    "scrolled": true
   },
   "outputs": [
    {
     "data": {
      "text/html": [
       "<div>\n",
       "<style scoped>\n",
       "    .dataframe tbody tr th:only-of-type {\n",
       "        vertical-align: middle;\n",
       "    }\n",
       "\n",
       "    .dataframe tbody tr th {\n",
       "        vertical-align: top;\n",
       "    }\n",
       "\n",
       "    .dataframe thead th {\n",
       "        text-align: right;\n",
       "    }\n",
       "</style>\n",
       "<table border=\"1\" class=\"dataframe\">\n",
       "  <thead>\n",
       "    <tr style=\"text-align: right;\">\n",
       "      <th></th>\n",
       "      <th>ndims</th>\n",
       "      <th>neval</th>\n",
       "      <th>result_mean</th>\n",
       "      <th>result_sdev</th>\n",
       "      <th>result_gen_time</th>\n",
       "      <th>result_eval_time</th>\n",
       "      <th>run_num</th>\n",
       "      <th>eval_time_perc</th>\n",
       "      <th>total_time</th>\n",
       "    </tr>\n",
       "  </thead>\n",
       "  <tbody>\n",
       "    <tr>\n",
       "      <th>0</th>\n",
       "      <td>2</td>\n",
       "      <td>10000</td>\n",
       "      <td>5.964543e-01</td>\n",
       "      <td>1.737369e-01</td>\n",
       "      <td>1.355376</td>\n",
       "      <td>0.524597</td>\n",
       "      <td>1</td>\n",
       "      <td>0.28</td>\n",
       "      <td>1.879974</td>\n",
       "    </tr>\n",
       "    <tr>\n",
       "      <th>1</th>\n",
       "      <td>2</td>\n",
       "      <td>100000</td>\n",
       "      <td>9.190619e-01</td>\n",
       "      <td>8.587087e-02</td>\n",
       "      <td>0.059840</td>\n",
       "      <td>0.287232</td>\n",
       "      <td>1</td>\n",
       "      <td>0.83</td>\n",
       "      <td>0.347072</td>\n",
       "    </tr>\n",
       "    <tr>\n",
       "      <th>2</th>\n",
       "      <td>2</td>\n",
       "      <td>1000000</td>\n",
       "      <td>1.030651e+00</td>\n",
       "      <td>2.878654e-02</td>\n",
       "      <td>0.613360</td>\n",
       "      <td>2.860353</td>\n",
       "      <td>1</td>\n",
       "      <td>0.82</td>\n",
       "      <td>3.473713</td>\n",
       "    </tr>\n",
       "    <tr>\n",
       "      <th>3</th>\n",
       "      <td>2</td>\n",
       "      <td>10000000</td>\n",
       "      <td>9.979290e-01</td>\n",
       "      <td>8.900950e-03</td>\n",
       "      <td>8.615965</td>\n",
       "      <td>28.371149</td>\n",
       "      <td>1</td>\n",
       "      <td>0.77</td>\n",
       "      <td>36.987114</td>\n",
       "    </tr>\n",
       "    <tr>\n",
       "      <th>4</th>\n",
       "      <td>4</td>\n",
       "      <td>10000</td>\n",
       "      <td>7.010504e-06</td>\n",
       "      <td>7.010504e-06</td>\n",
       "      <td>0.665222</td>\n",
       "      <td>0.518614</td>\n",
       "      <td>1</td>\n",
       "      <td>0.44</td>\n",
       "      <td>1.183836</td>\n",
       "    </tr>\n",
       "    <tr>\n",
       "      <th>...</th>\n",
       "      <td>...</td>\n",
       "      <td>...</td>\n",
       "      <td>...</td>\n",
       "      <td>...</td>\n",
       "      <td>...</td>\n",
       "      <td>...</td>\n",
       "      <td>...</td>\n",
       "      <td>...</td>\n",
       "      <td>...</td>\n",
       "    </tr>\n",
       "    <tr>\n",
       "      <th>75</th>\n",
       "      <td>6</td>\n",
       "      <td>10000000</td>\n",
       "      <td>6.307629e-05</td>\n",
       "      <td>5.927791e-05</td>\n",
       "      <td>13.880889</td>\n",
       "      <td>35.015386</td>\n",
       "      <td>5</td>\n",
       "      <td>0.72</td>\n",
       "      <td>48.896275</td>\n",
       "    </tr>\n",
       "    <tr>\n",
       "      <th>76</th>\n",
       "      <td>8</td>\n",
       "      <td>10000</td>\n",
       "      <td>1.209372e-128</td>\n",
       "      <td>1.209372e-128</td>\n",
       "      <td>1.124993</td>\n",
       "      <td>0.527589</td>\n",
       "      <td>5</td>\n",
       "      <td>0.32</td>\n",
       "      <td>1.652582</td>\n",
       "    </tr>\n",
       "    <tr>\n",
       "      <th>77</th>\n",
       "      <td>8</td>\n",
       "      <td>100000</td>\n",
       "      <td>7.964959e-44</td>\n",
       "      <td>7.964959e-44</td>\n",
       "      <td>0.111701</td>\n",
       "      <td>0.381979</td>\n",
       "      <td>5</td>\n",
       "      <td>0.77</td>\n",
       "      <td>0.493680</td>\n",
       "    </tr>\n",
       "    <tr>\n",
       "      <th>78</th>\n",
       "      <td>8</td>\n",
       "      <td>1000000</td>\n",
       "      <td>3.245218e-52</td>\n",
       "      <td>3.245218e-52</td>\n",
       "      <td>1.300523</td>\n",
       "      <td>3.839734</td>\n",
       "      <td>5</td>\n",
       "      <td>0.75</td>\n",
       "      <td>5.140257</td>\n",
       "    </tr>\n",
       "    <tr>\n",
       "      <th>79</th>\n",
       "      <td>8</td>\n",
       "      <td>10000000</td>\n",
       "      <td>1.710377e-17</td>\n",
       "      <td>1.648957e-17</td>\n",
       "      <td>16.487919</td>\n",
       "      <td>38.605787</td>\n",
       "      <td>5</td>\n",
       "      <td>0.70</td>\n",
       "      <td>55.093706</td>\n",
       "    </tr>\n",
       "  </tbody>\n",
       "</table>\n",
       "<p>80 rows × 9 columns</p>\n",
       "</div>"
      ],
      "text/plain": [
       "    ndims     neval    result_mean    result_sdev  result_gen_time  \\\n",
       "0       2     10000   5.964543e-01   1.737369e-01         1.355376   \n",
       "1       2    100000   9.190619e-01   8.587087e-02         0.059840   \n",
       "2       2   1000000   1.030651e+00   2.878654e-02         0.613360   \n",
       "3       2  10000000   9.979290e-01   8.900950e-03         8.615965   \n",
       "4       4     10000   7.010504e-06   7.010504e-06         0.665222   \n",
       "..    ...       ...            ...            ...              ...   \n",
       "75      6  10000000   6.307629e-05   5.927791e-05        13.880889   \n",
       "76      8     10000  1.209372e-128  1.209372e-128         1.124993   \n",
       "77      8    100000   7.964959e-44   7.964959e-44         0.111701   \n",
       "78      8   1000000   3.245218e-52   3.245218e-52         1.300523   \n",
       "79      8  10000000   1.710377e-17   1.648957e-17        16.487919   \n",
       "\n",
       "    result_eval_time  run_num  eval_time_perc  total_time  \n",
       "0           0.524597        1            0.28    1.879974  \n",
       "1           0.287232        1            0.83    0.347072  \n",
       "2           2.860353        1            0.82    3.473713  \n",
       "3          28.371149        1            0.77   36.987114  \n",
       "4           0.518614        1            0.44    1.183836  \n",
       "..               ...      ...             ...         ...  \n",
       "75         35.015386        5            0.72   48.896275  \n",
       "76          0.527589        5            0.32    1.652582  \n",
       "77          0.381979        5            0.77    0.493680  \n",
       "78          3.839734        5            0.75    5.140257  \n",
       "79         38.605787        5            0.70   55.093706  \n",
       "\n",
       "[80 rows x 9 columns]"
      ]
     },
     "execution_count": 33,
     "metadata": {},
     "output_type": "execute_result"
    }
   ],
   "source": [
    "temp_df"
   ]
  },
  {
   "cell_type": "code",
   "execution_count": 34,
   "id": "artificial-december",
   "metadata": {
    "ExecuteTime": {
     "end_time": "2022-06-19T16:58:29.272617Z",
     "start_time": "2022-06-19T16:58:29.267630Z"
    },
    "scrolled": true
   },
   "outputs": [],
   "source": [
    "os.makedirs('result/02_NaivePython', exist_ok=True)\n",
    "temp_df.to_csv('result/02_NaivePython/f1_uniform_new.csv', index=False)"
   ]
  },
  {
   "cell_type": "code",
   "execution_count": 6,
   "id": "adapted-emission",
   "metadata": {
    "ExecuteTime": {
     "end_time": "2022-06-19T19:24:34.347518Z",
     "start_time": "2022-06-19T19:24:34.323582Z"
    }
   },
   "outputs": [],
   "source": [
    "# temp_df = pd.read_csv('result/02_NaivePython/f1_uniform_new.csv')"
   ]
  },
  {
   "cell_type": "code",
   "execution_count": 36,
   "id": "endless-retail",
   "metadata": {
    "ExecuteTime": {
     "end_time": "2022-06-19T16:58:30.007652Z",
     "start_time": "2022-06-19T16:58:30.003662Z"
    }
   },
   "outputs": [],
   "source": [
    "g_temp_df = temp_df.groupby(['ndims', 'neval'], as_index=False)\n",
    "g_temp_df = g_temp_df[['result_mean',\n",
    "                       'result_sdev',\n",
    "                       'result_gen_time',\n",
    "                       'result_eval_time',\n",
    "                       'total_time',\n",
    "                       'eval_time_perc']]"
   ]
  },
  {
   "cell_type": "code",
   "execution_count": 37,
   "id": "circular-physiology",
   "metadata": {
    "ExecuteTime": {
     "end_time": "2022-06-19T16:58:30.322809Z",
     "start_time": "2022-06-19T16:58:30.307849Z"
    }
   },
   "outputs": [
    {
     "data": {
      "text/html": [
       "<div>\n",
       "<style scoped>\n",
       "    .dataframe tbody tr th:only-of-type {\n",
       "        vertical-align: middle;\n",
       "    }\n",
       "\n",
       "    .dataframe tbody tr th {\n",
       "        vertical-align: top;\n",
       "    }\n",
       "\n",
       "    .dataframe thead th {\n",
       "        text-align: right;\n",
       "    }\n",
       "</style>\n",
       "<table border=\"1\" class=\"dataframe\">\n",
       "  <thead>\n",
       "    <tr style=\"text-align: right;\">\n",
       "      <th></th>\n",
       "      <th>ndims</th>\n",
       "      <th>neval</th>\n",
       "      <th>result_mean</th>\n",
       "      <th>result_sdev</th>\n",
       "      <th>result_gen_time</th>\n",
       "      <th>result_eval_time</th>\n",
       "      <th>total_time</th>\n",
       "      <th>eval_time_perc</th>\n",
       "    </tr>\n",
       "  </thead>\n",
       "  <tbody>\n",
       "    <tr>\n",
       "      <th>0</th>\n",
       "      <td>2</td>\n",
       "      <td>10000</td>\n",
       "      <td>9.568347e-01</td>\n",
       "      <td>2.675169e-01</td>\n",
       "      <td>1.303316</td>\n",
       "      <td>0.519810</td>\n",
       "      <td>1.823126</td>\n",
       "      <td>0.286</td>\n",
       "    </tr>\n",
       "    <tr>\n",
       "      <th>1</th>\n",
       "      <td>2</td>\n",
       "      <td>100000</td>\n",
       "      <td>9.531328e-01</td>\n",
       "      <td>8.679847e-02</td>\n",
       "      <td>0.059242</td>\n",
       "      <td>0.284838</td>\n",
       "      <td>0.344080</td>\n",
       "      <td>0.830</td>\n",
       "    </tr>\n",
       "    <tr>\n",
       "      <th>2</th>\n",
       "      <td>2</td>\n",
       "      <td>1000000</td>\n",
       "      <td>1.012006e+00</td>\n",
       "      <td>2.851523e-02</td>\n",
       "      <td>0.609570</td>\n",
       "      <td>2.846390</td>\n",
       "      <td>3.455960</td>\n",
       "      <td>0.820</td>\n",
       "    </tr>\n",
       "    <tr>\n",
       "      <th>3</th>\n",
       "      <td>2</td>\n",
       "      <td>10000000</td>\n",
       "      <td>1.001732e+00</td>\n",
       "      <td>8.927502e-03</td>\n",
       "      <td>8.415701</td>\n",
       "      <td>28.507983</td>\n",
       "      <td>36.923684</td>\n",
       "      <td>0.772</td>\n",
       "    </tr>\n",
       "    <tr>\n",
       "      <th>4</th>\n",
       "      <td>4</td>\n",
       "      <td>10000</td>\n",
       "      <td>5.249717e+00</td>\n",
       "      <td>5.248839e+00</td>\n",
       "      <td>0.642682</td>\n",
       "      <td>0.517017</td>\n",
       "      <td>1.159700</td>\n",
       "      <td>0.448</td>\n",
       "    </tr>\n",
       "    <tr>\n",
       "      <th>5</th>\n",
       "      <td>4</td>\n",
       "      <td>100000</td>\n",
       "      <td>3.175400e-01</td>\n",
       "      <td>3.149439e-01</td>\n",
       "      <td>0.076595</td>\n",
       "      <td>0.318349</td>\n",
       "      <td>0.394944</td>\n",
       "      <td>0.806</td>\n",
       "    </tr>\n",
       "    <tr>\n",
       "      <th>6</th>\n",
       "      <td>4</td>\n",
       "      <td>1000000</td>\n",
       "      <td>1.800478e+00</td>\n",
       "      <td>1.188313e+00</td>\n",
       "      <td>0.792481</td>\n",
       "      <td>3.202837</td>\n",
       "      <td>3.995318</td>\n",
       "      <td>0.800</td>\n",
       "    </tr>\n",
       "    <tr>\n",
       "      <th>7</th>\n",
       "      <td>4</td>\n",
       "      <td>10000000</td>\n",
       "      <td>1.145520e+00</td>\n",
       "      <td>3.033529e-01</td>\n",
       "      <td>10.557774</td>\n",
       "      <td>32.032760</td>\n",
       "      <td>42.590533</td>\n",
       "      <td>0.752</td>\n",
       "    </tr>\n",
       "    <tr>\n",
       "      <th>8</th>\n",
       "      <td>6</td>\n",
       "      <td>10000</td>\n",
       "      <td>1.729458e-19</td>\n",
       "      <td>1.729458e-19</td>\n",
       "      <td>0.800660</td>\n",
       "      <td>0.520608</td>\n",
       "      <td>1.321268</td>\n",
       "      <td>0.396</td>\n",
       "    </tr>\n",
       "    <tr>\n",
       "      <th>9</th>\n",
       "      <td>6</td>\n",
       "      <td>100000</td>\n",
       "      <td>7.149440e-21</td>\n",
       "      <td>7.142861e-21</td>\n",
       "      <td>0.096342</td>\n",
       "      <td>0.352657</td>\n",
       "      <td>0.448999</td>\n",
       "      <td>0.786</td>\n",
       "    </tr>\n",
       "    <tr>\n",
       "      <th>10</th>\n",
       "      <td>6</td>\n",
       "      <td>1000000</td>\n",
       "      <td>4.872420e-04</td>\n",
       "      <td>4.872389e-04</td>\n",
       "      <td>1.142546</td>\n",
       "      <td>3.514205</td>\n",
       "      <td>4.656750</td>\n",
       "      <td>0.756</td>\n",
       "    </tr>\n",
       "    <tr>\n",
       "      <th>11</th>\n",
       "      <td>6</td>\n",
       "      <td>10000000</td>\n",
       "      <td>8.943712e-01</td>\n",
       "      <td>8.941895e-01</td>\n",
       "      <td>14.373771</td>\n",
       "      <td>35.223429</td>\n",
       "      <td>49.597201</td>\n",
       "      <td>0.710</td>\n",
       "    </tr>\n",
       "    <tr>\n",
       "      <th>12</th>\n",
       "      <td>8</td>\n",
       "      <td>10000</td>\n",
       "      <td>6.511545e-113</td>\n",
       "      <td>6.511545e-113</td>\n",
       "      <td>1.242678</td>\n",
       "      <td>0.526193</td>\n",
       "      <td>1.768871</td>\n",
       "      <td>0.298</td>\n",
       "    </tr>\n",
       "    <tr>\n",
       "      <th>13</th>\n",
       "      <td>8</td>\n",
       "      <td>100000</td>\n",
       "      <td>1.592992e-44</td>\n",
       "      <td>1.592992e-44</td>\n",
       "      <td>0.112499</td>\n",
       "      <td>0.383375</td>\n",
       "      <td>0.495874</td>\n",
       "      <td>0.774</td>\n",
       "    </tr>\n",
       "    <tr>\n",
       "      <th>14</th>\n",
       "      <td>8</td>\n",
       "      <td>1000000</td>\n",
       "      <td>1.838433e-17</td>\n",
       "      <td>1.838433e-17</td>\n",
       "      <td>1.354579</td>\n",
       "      <td>3.838936</td>\n",
       "      <td>5.193515</td>\n",
       "      <td>0.740</td>\n",
       "    </tr>\n",
       "    <tr>\n",
       "      <th>15</th>\n",
       "      <td>8</td>\n",
       "      <td>10000000</td>\n",
       "      <td>3.711593e-13</td>\n",
       "      <td>3.711513e-13</td>\n",
       "      <td>16.908395</td>\n",
       "      <td>38.434644</td>\n",
       "      <td>55.343039</td>\n",
       "      <td>0.696</td>\n",
       "    </tr>\n",
       "  </tbody>\n",
       "</table>\n",
       "</div>"
      ],
      "text/plain": [
       "    ndims     neval    result_mean    result_sdev  result_gen_time  \\\n",
       "0       2     10000   9.568347e-01   2.675169e-01         1.303316   \n",
       "1       2    100000   9.531328e-01   8.679847e-02         0.059242   \n",
       "2       2   1000000   1.012006e+00   2.851523e-02         0.609570   \n",
       "3       2  10000000   1.001732e+00   8.927502e-03         8.415701   \n",
       "4       4     10000   5.249717e+00   5.248839e+00         0.642682   \n",
       "5       4    100000   3.175400e-01   3.149439e-01         0.076595   \n",
       "6       4   1000000   1.800478e+00   1.188313e+00         0.792481   \n",
       "7       4  10000000   1.145520e+00   3.033529e-01        10.557774   \n",
       "8       6     10000   1.729458e-19   1.729458e-19         0.800660   \n",
       "9       6    100000   7.149440e-21   7.142861e-21         0.096342   \n",
       "10      6   1000000   4.872420e-04   4.872389e-04         1.142546   \n",
       "11      6  10000000   8.943712e-01   8.941895e-01        14.373771   \n",
       "12      8     10000  6.511545e-113  6.511545e-113         1.242678   \n",
       "13      8    100000   1.592992e-44   1.592992e-44         0.112499   \n",
       "14      8   1000000   1.838433e-17   1.838433e-17         1.354579   \n",
       "15      8  10000000   3.711593e-13   3.711513e-13        16.908395   \n",
       "\n",
       "    result_eval_time  total_time  eval_time_perc  \n",
       "0           0.519810    1.823126           0.286  \n",
       "1           0.284838    0.344080           0.830  \n",
       "2           2.846390    3.455960           0.820  \n",
       "3          28.507983   36.923684           0.772  \n",
       "4           0.517017    1.159700           0.448  \n",
       "5           0.318349    0.394944           0.806  \n",
       "6           3.202837    3.995318           0.800  \n",
       "7          32.032760   42.590533           0.752  \n",
       "8           0.520608    1.321268           0.396  \n",
       "9           0.352657    0.448999           0.786  \n",
       "10          3.514205    4.656750           0.756  \n",
       "11         35.223429   49.597201           0.710  \n",
       "12          0.526193    1.768871           0.298  \n",
       "13          0.383375    0.495874           0.774  \n",
       "14          3.838936    5.193515           0.740  \n",
       "15         38.434644   55.343039           0.696  "
      ]
     },
     "execution_count": 37,
     "metadata": {},
     "output_type": "execute_result"
    }
   ],
   "source": [
    "g_temp_df = g_temp_df.agg(np.mean)\n",
    "g_temp_df"
   ]
  },
  {
   "cell_type": "code",
   "execution_count": 38,
   "id": "intended-benchmark",
   "metadata": {
    "ExecuteTime": {
     "end_time": "2022-06-19T16:59:04.836535Z",
     "start_time": "2022-06-19T16:59:04.355821Z"
    }
   },
   "outputs": [
    {
     "data": {
      "image/png": "[encoded data removed]",
      "text/plain": [
       "<Figure size 720x720 with 4 Axes>"
      ]
     },
     "metadata": {
      "needs_background": "light"
     },
     "output_type": "display_data"
    }
   ],
   "source": [
    "# result_mean vs samples for each dim\n",
    "\n",
    "fig = plt.figure(figsize=(10,10))\n",
    "\n",
    "for i, ndims in enumerate(ndims_lst):\n",
    "    plot_data = temp_df[temp_df.ndims == ndims].groupby('neval')['result_mean'].apply(lambda x: x.tolist())\n",
    "    ax = fig.add_subplot(2,2,i+1)\n",
    "    ax.axhline(y=target_dict[f'{prefix}_d{ndims}'], linestyle=':', label='true value')\n",
    "    ax.set_title(f'D = {ndims}')\n",
    "    if i > 1:\n",
    "        ax.set_xlabel('N')\n",
    "    if i % 2 == 0:\n",
    "        ax.set_ylabel('Mean')\n",
    "    ax.boxplot(plot_data, labels=['1e4', '1e5', '1e6', '1e7'], showfliers=False)\n",
    "    ax.legend()"
   ]
  },
  {
   "cell_type": "code",
   "execution_count": 39,
   "id": "divided-literacy",
   "metadata": {
    "ExecuteTime": {
     "end_time": "2022-06-19T16:59:50.703908Z",
     "start_time": "2022-06-19T16:59:50.595199Z"
    }
   },
   "outputs": [],
   "source": [
    "fig.savefig('result/02_NaivePython/f1_uniform_mean_new.png')"
   ]
  },
  {
   "cell_type": "code",
   "execution_count": 59,
   "id": "developing-polls",
   "metadata": {
    "ExecuteTime": {
     "end_time": "2022-06-19T17:16:18.333459Z",
     "start_time": "2022-06-19T17:16:17.995363Z"
    }
   },
   "outputs": [
    {
     "data": {
      "image/png": "[encoded data removed]",
      "text/plain": [
       "<Figure size 720x720 with 4 Axes>"
      ]
     },
     "metadata": {
      "needs_background": "light"
     },
     "output_type": "display_data"
    }
   ],
   "source": [
    "# sdev vs samples for each dim\n",
    "\n",
    "fig = plt.figure(figsize=(10,10))\n",
    "\n",
    "for i, ndims in enumerate(ndims_lst):\n",
    "    plot_data = temp_df[temp_df.ndims == ndims].groupby('neval')['result_sdev'].apply(lambda x: x.tolist())\n",
    "    ax = fig.add_subplot(2,2,i+1)\n",
    "    ax.axhline(y=0, linestyle=':')\n",
    "    ax.set_title(f'D = {ndims}')\n",
    "    if i > 1:\n",
    "        ax.set_xlabel('N')\n",
    "    if i % 2 == 0:\n",
    "        ax.set_ylabel('Error')\n",
    "    ax.boxplot(plot_data, labels=['1e4', '1e5', '1e6', '1e7'], showfliers=False)"
   ]
  },
  {
   "cell_type": "code",
   "execution_count": 60,
   "id": "decreased-alberta",
   "metadata": {
    "ExecuteTime": {
     "end_time": "2022-06-19T17:16:24.762272Z",
     "start_time": "2022-06-19T17:16:24.676502Z"
    }
   },
   "outputs": [],
   "source": [
    "fig.savefig('result/02_NaivePython/f1_uniform_error_new.png')"
   ]
  },
  {
   "cell_type": "code",
   "execution_count": 43,
   "id": "modern-congress",
   "metadata": {
    "ExecuteTime": {
     "end_time": "2022-06-19T17:01:13.455670Z",
     "start_time": "2022-06-19T17:01:13.115579Z"
    }
   },
   "outputs": [
    {
     "data": {
      "image/png": "[encoded data removed]",
      "text/plain": [
       "<Figure size 1440x288 with 4 Axes>"
      ]
     },
     "metadata": {
      "needs_background": "light"
     },
     "output_type": "display_data"
    }
   ],
   "source": [
    "# eval_time_perc vs samples for each dim\n",
    "\n",
    "fig = plt.figure(figsize=(20,4))\n",
    "\n",
    "for i, ndims in enumerate(ndims_lst):\n",
    "    plot_data = temp_df[temp_df.ndims == ndims].groupby('neval')['eval_time_perc'].apply(lambda x: x.tolist())\n",
    "    ax = fig.add_subplot(1,len(ndims_lst),i+1)\n",
    "    ax.set_title(f'D = {ndims}')\n",
    "    ax.set_xlabel('N')\n",
    "    if i == 0:\n",
    "        ax.set_ylabel('Eval. time (perc.)')\n",
    "    ax.boxplot(plot_data, labels=['1e4', '1e5', '1e6', '1e7'], showfliers=None)"
   ]
  },
  {
   "cell_type": "code",
   "execution_count": 44,
   "id": "accepted-sodium",
   "metadata": {
    "ExecuteTime": {
     "end_time": "2022-06-19T17:01:14.077008Z",
     "start_time": "2022-06-19T17:01:13.747889Z"
    }
   },
   "outputs": [
    {
     "data": {
      "image/png": "[encoded data removed]",
      "text/plain": [
       "<Figure size 1440x288 with 4 Axes>"
      ]
     },
     "metadata": {
      "needs_background": "light"
     },
     "output_type": "display_data"
    }
   ],
   "source": [
    "# result_gen_time vs samples for each dim\n",
    "\n",
    "fig = plt.figure(figsize=(20,4))\n",
    "\n",
    "for i, ndims in enumerate(ndims_lst):\n",
    "    plot_data = temp_df[temp_df.ndims == ndims].groupby('neval')['result_gen_time'].apply(lambda x: x.tolist())\n",
    "    ax = fig.add_subplot(1,len(ndims_lst),i+1)\n",
    "    ax.set_title(f'D = {ndims}')\n",
    "    ax.set_xlabel('N')\n",
    "    if i == 0:\n",
    "        ax.set_ylabel('Gen. time')\n",
    "    ax.boxplot(plot_data, labels=['1e4', '1e5', '1e6', '1e7'], showfliers=None)"
   ]
  },
  {
   "cell_type": "code",
   "execution_count": 45,
   "id": "caring-portuguese",
   "metadata": {
    "ExecuteTime": {
     "end_time": "2022-06-19T17:01:15.441361Z",
     "start_time": "2022-06-19T17:01:15.107254Z"
    }
   },
   "outputs": [
    {
     "data": {
      "image/png": "[encoded data removed]",
      "text/plain": [
       "<Figure size 1440x288 with 4 Axes>"
      ]
     },
     "metadata": {
      "needs_background": "light"
     },
     "output_type": "display_data"
    }
   ],
   "source": [
    "# result_eval_time vs samples for each dim\n",
    "\n",
    "fig = plt.figure(figsize=(20,4))\n",
    "\n",
    "for i, ndims in enumerate(ndims_lst):\n",
    "    plot_data = temp_df[temp_df.ndims == ndims].groupby('neval')['result_eval_time'].apply(lambda x: x.tolist())\n",
    "    ax = fig.add_subplot(1,len(ndims_lst),i+1)\n",
    "    ax.set_title(f'D = {ndims}')\n",
    "    ax.set_xlabel('N')\n",
    "    if i == 0:\n",
    "        ax.set_ylabel('Eval. time')\n",
    "    ax.boxplot(plot_data, labels=['1e4', '1e5', '1e6', '1e7'], showfliers=None)"
   ]
  },
  {
   "cell_type": "code",
   "execution_count": 46,
   "id": "operating-fraction",
   "metadata": {
    "ExecuteTime": {
     "end_time": "2022-06-19T17:01:16.933372Z",
     "start_time": "2022-06-19T17:01:16.611233Z"
    }
   },
   "outputs": [
    {
     "data": {
      "image/png": "[encoded data removed]",
      "text/plain": [
       "<Figure size 1440x288 with 4 Axes>"
      ]
     },
     "metadata": {
      "needs_background": "light"
     },
     "output_type": "display_data"
    }
   ],
   "source": [
    "# total_time vs samples for each dim\n",
    "\n",
    "fig = plt.figure(figsize=(20,4))\n",
    "\n",
    "for i, ndims in enumerate(ndims_lst):\n",
    "    plot_data = temp_df[temp_df.ndims == ndims].copy()\n",
    "    plot_data['total_time'] = plot_data.result_eval_time + plot_data.result_gen_time\n",
    "    plot_data = plot_data.groupby('neval')['total_time'].apply(lambda x: x.tolist())\n",
    "    ax = fig.add_subplot(1,len(ndims_lst),i+1)\n",
    "    ax.set_title(f'D = {ndims}')\n",
    "    ax.set_xlabel('N')\n",
    "    if i == 0:\n",
    "        ax.set_ylabel('Total time')\n",
    "    ax.boxplot(plot_data, labels=['1e4', '1e5', '1e6', '1e7'], showfliers=None)"
   ]
  },
  {
   "cell_type": "code",
   "execution_count": 52,
   "id": "excess-major",
   "metadata": {
    "ExecuteTime": {
     "end_time": "2022-06-19T17:04:14.962407Z",
     "start_time": "2022-06-19T17:04:14.859682Z"
    }
   },
   "outputs": [
    {
     "data": {
      "image/png": "[encoded data removed]",
      "text/plain": [
       "<Figure size 288x288 with 1 Axes>"
      ]
     },
     "metadata": {
      "needs_background": "light"
     },
     "output_type": "display_data"
    }
   ],
   "source": [
    "# total_time (D8) vs samples\n",
    "\n",
    "fig = plt.figure(figsize=(4,4))\n",
    "ax = fig.add_axes([0,0,1,1])\n",
    "\n",
    "plot_data = g_temp_df[g_temp_df.ndims == 8].copy()\n",
    "plot_data['total_time'] = plot_data.result_eval_time + plot_data.result_gen_time\n",
    "plot_data = plot_data.groupby('neval')['total_time'].apply(lambda x: x.tolist())\n",
    "ax.set_title(f'D = {ndims}')\n",
    "ax.set_xlabel('N')\n",
    "ax.set_ylabel('Time (s)')\n",
    "# ax.boxplot(plot_data, labels=['1e4', '1e5', '1e6', '1e7'], showfliers=None);\n",
    "locs = ax.get_xticks()\n",
    "ax.set_xticks(ax.get_xticks(), labels=['', '1e4', '1e5', '1e6', '1e7', ''])\n",
    "ax.plot(ax.get_xticks()[1:-1], plot_data.apply(np.mean), linestyle='-', alpha=.9, label='total time')\n",
    "\n",
    "plot_data = g_temp_df[g_temp_df.ndims == 8].copy()\n",
    "plot_data['total_time'] = plot_data.result_eval_time + plot_data.result_gen_time\n",
    "plot_data = plot_data.groupby('neval')['result_gen_time'].apply(lambda x: x.tolist())\n",
    "ax.plot(ax.get_xticks()[1:-1], plot_data.apply(np.mean), linestyle='dashed', alpha=.9, label='gen time')\n",
    "\n",
    "plot_data = g_temp_df[g_temp_df.ndims == 8].copy()\n",
    "plot_data['total_time'] = plot_data.result_eval_time + plot_data.result_gen_time\n",
    "plot_data = plot_data.groupby('neval')['result_eval_time'].apply(lambda x: x.tolist())\n",
    "ax.plot(ax.get_xticks()[1:-1], plot_data.apply(np.mean), linestyle='dashdot', alpha=.9, label='eval time')\n",
    "\n",
    "ax.legend()\n",
    "ax.grid(axis='y')"
   ]
  },
  {
   "cell_type": "code",
   "execution_count": 53,
   "id": "amateur-outdoors",
   "metadata": {
    "ExecuteTime": {
     "end_time": "2022-06-19T17:04:40.852190Z",
     "start_time": "2022-06-19T17:04:40.784372Z"
    }
   },
   "outputs": [],
   "source": [
    "fig.savefig('result/02_NaivePython/f1_uniform_time_new.png', bbox_inches='tight')"
   ]
  },
  {
   "cell_type": "markdown",
   "id": "tired-johnson",
   "metadata": {},
   "source": [
    "#### Time"
   ]
  },
  {
   "cell_type": "code",
   "execution_count": 7,
   "id": "limiting-highlight",
   "metadata": {
    "ExecuteTime": {
     "end_time": "2022-06-19T19:24:38.999082Z",
     "start_time": "2022-06-19T19:24:38.987114Z"
    }
   },
   "outputs": [],
   "source": [
    "time_df = temp_df[temp_df.neval == int(1e7)].groupby('ndims').agg([np.mean, np.std])"
   ]
  },
  {
   "cell_type": "code",
   "execution_count": 8,
   "id": "optical-inclusion",
   "metadata": {
    "ExecuteTime": {
     "end_time": "2022-06-19T19:24:39.283322Z",
     "start_time": "2022-06-19T19:24:39.264372Z"
    }
   },
   "outputs": [
    {
     "data": {
      "text/html": [
       "<div>\n",
       "<style scoped>\n",
       "    .dataframe tbody tr th:only-of-type {\n",
       "        vertical-align: middle;\n",
       "    }\n",
       "\n",
       "    .dataframe tbody tr th {\n",
       "        vertical-align: top;\n",
       "    }\n",
       "\n",
       "    .dataframe thead tr th {\n",
       "        text-align: left;\n",
       "    }\n",
       "\n",
       "    .dataframe thead tr:last-of-type th {\n",
       "        text-align: right;\n",
       "    }\n",
       "</style>\n",
       "<table border=\"1\" class=\"dataframe\">\n",
       "  <thead>\n",
       "    <tr>\n",
       "      <th></th>\n",
       "      <th colspan=\"2\" halign=\"left\">neval</th>\n",
       "      <th colspan=\"2\" halign=\"left\">result_mean</th>\n",
       "      <th colspan=\"2\" halign=\"left\">result_sdev</th>\n",
       "      <th colspan=\"2\" halign=\"left\">result_gen_time</th>\n",
       "      <th colspan=\"2\" halign=\"left\">result_eval_time</th>\n",
       "      <th colspan=\"2\" halign=\"left\">run_num</th>\n",
       "      <th colspan=\"2\" halign=\"left\">eval_time_perc</th>\n",
       "      <th colspan=\"2\" halign=\"left\">total_time</th>\n",
       "    </tr>\n",
       "    <tr>\n",
       "      <th></th>\n",
       "      <th>mean</th>\n",
       "      <th>std</th>\n",
       "      <th>mean</th>\n",
       "      <th>std</th>\n",
       "      <th>mean</th>\n",
       "      <th>std</th>\n",
       "      <th>mean</th>\n",
       "      <th>std</th>\n",
       "      <th>mean</th>\n",
       "      <th>std</th>\n",
       "      <th>mean</th>\n",
       "      <th>std</th>\n",
       "      <th>mean</th>\n",
       "      <th>std</th>\n",
       "      <th>mean</th>\n",
       "      <th>std</th>\n",
       "    </tr>\n",
       "    <tr>\n",
       "      <th>ndims</th>\n",
       "      <th></th>\n",
       "      <th></th>\n",
       "      <th></th>\n",
       "      <th></th>\n",
       "      <th></th>\n",
       "      <th></th>\n",
       "      <th></th>\n",
       "      <th></th>\n",
       "      <th></th>\n",
       "      <th></th>\n",
       "      <th></th>\n",
       "      <th></th>\n",
       "      <th></th>\n",
       "      <th></th>\n",
       "      <th></th>\n",
       "      <th></th>\n",
       "    </tr>\n",
       "  </thead>\n",
       "  <tbody>\n",
       "    <tr>\n",
       "      <th>2</th>\n",
       "      <td>10000000.0</td>\n",
       "      <td>0.0</td>\n",
       "      <td>1.001732e+00</td>\n",
       "      <td>5.507613e-03</td>\n",
       "      <td>8.927502e-03</td>\n",
       "      <td>2.026251e-05</td>\n",
       "      <td>8.415701</td>\n",
       "      <td>0.172457</td>\n",
       "      <td>28.507983</td>\n",
       "      <td>0.196947</td>\n",
       "      <td>3.0</td>\n",
       "      <td>1.581139</td>\n",
       "      <td>0.772</td>\n",
       "      <td>0.004472</td>\n",
       "      <td>36.923684</td>\n",
       "      <td>0.289341</td>\n",
       "    </tr>\n",
       "    <tr>\n",
       "      <th>4</th>\n",
       "      <td>10000000.0</td>\n",
       "      <td>0.0</td>\n",
       "      <td>1.145520e+00</td>\n",
       "      <td>2.767846e-01</td>\n",
       "      <td>3.033529e-01</td>\n",
       "      <td>7.861155e-02</td>\n",
       "      <td>10.557774</td>\n",
       "      <td>0.205173</td>\n",
       "      <td>32.032760</td>\n",
       "      <td>0.125223</td>\n",
       "      <td>3.0</td>\n",
       "      <td>1.581139</td>\n",
       "      <td>0.752</td>\n",
       "      <td>0.004472</td>\n",
       "      <td>42.590533</td>\n",
       "      <td>0.097944</td>\n",
       "    </tr>\n",
       "    <tr>\n",
       "      <th>6</th>\n",
       "      <td>10000000.0</td>\n",
       "      <td>0.0</td>\n",
       "      <td>8.943712e-01</td>\n",
       "      <td>1.977858e+00</td>\n",
       "      <td>8.941895e-01</td>\n",
       "      <td>1.977951e+00</td>\n",
       "      <td>14.373771</td>\n",
       "      <td>0.346665</td>\n",
       "      <td>35.223429</td>\n",
       "      <td>0.225723</td>\n",
       "      <td>3.0</td>\n",
       "      <td>1.581139</td>\n",
       "      <td>0.710</td>\n",
       "      <td>0.007071</td>\n",
       "      <td>49.597201</td>\n",
       "      <td>0.490693</td>\n",
       "    </tr>\n",
       "    <tr>\n",
       "      <th>8</th>\n",
       "      <td>10000000.0</td>\n",
       "      <td>0.0</td>\n",
       "      <td>3.711593e-13</td>\n",
       "      <td>5.315901e-13</td>\n",
       "      <td>3.711513e-13</td>\n",
       "      <td>5.315970e-13</td>\n",
       "      <td>16.908395</td>\n",
       "      <td>0.428311</td>\n",
       "      <td>38.434644</td>\n",
       "      <td>0.110912</td>\n",
       "      <td>3.0</td>\n",
       "      <td>1.581139</td>\n",
       "      <td>0.696</td>\n",
       "      <td>0.005477</td>\n",
       "      <td>55.343039</td>\n",
       "      <td>0.386313</td>\n",
       "    </tr>\n",
       "  </tbody>\n",
       "</table>\n",
       "</div>"
      ],
      "text/plain": [
       "            neval        result_mean                 result_sdev  \\\n",
       "             mean  std          mean           std          mean   \n",
       "ndims                                                              \n",
       "2      10000000.0  0.0  1.001732e+00  5.507613e-03  8.927502e-03   \n",
       "4      10000000.0  0.0  1.145520e+00  2.767846e-01  3.033529e-01   \n",
       "6      10000000.0  0.0  8.943712e-01  1.977858e+00  8.941895e-01   \n",
       "8      10000000.0  0.0  3.711593e-13  5.315901e-13  3.711513e-13   \n",
       "\n",
       "                    result_gen_time           result_eval_time            \\\n",
       "                std            mean       std             mean       std   \n",
       "ndims                                                                      \n",
       "2      2.026251e-05        8.415701  0.172457        28.507983  0.196947   \n",
       "4      7.861155e-02       10.557774  0.205173        32.032760  0.125223   \n",
       "6      1.977951e+00       14.373771  0.346665        35.223429  0.225723   \n",
       "8      5.315970e-13       16.908395  0.428311        38.434644  0.110912   \n",
       "\n",
       "      run_num           eval_time_perc           total_time            \n",
       "         mean       std           mean       std       mean       std  \n",
       "ndims                                                                  \n",
       "2         3.0  1.581139          0.772  0.004472  36.923684  0.289341  \n",
       "4         3.0  1.581139          0.752  0.004472  42.590533  0.097944  \n",
       "6         3.0  1.581139          0.710  0.007071  49.597201  0.490693  \n",
       "8         3.0  1.581139          0.696  0.005477  55.343039  0.386313  "
      ]
     },
     "execution_count": 8,
     "metadata": {},
     "output_type": "execute_result"
    }
   ],
   "source": [
    "time_df\n",
    "\n",
    "# result_sdev reaches {0.001757, 0.009955, 0.054550, 0.348377} on N = 1e7 samples"
   ]
  },
  {
   "cell_type": "code",
   "execution_count": 9,
   "id": "induced-clinton",
   "metadata": {
    "ExecuteTime": {
     "end_time": "2022-06-19T19:25:02.526179Z",
     "start_time": "2022-06-19T19:25:02.515208Z"
    }
   },
   "outputs": [
    {
     "data": {
      "text/html": [
       "<div>\n",
       "<style scoped>\n",
       "    .dataframe tbody tr th:only-of-type {\n",
       "        vertical-align: middle;\n",
       "    }\n",
       "\n",
       "    .dataframe tbody tr th {\n",
       "        vertical-align: top;\n",
       "    }\n",
       "\n",
       "    .dataframe thead tr th {\n",
       "        text-align: left;\n",
       "    }\n",
       "\n",
       "    .dataframe thead tr:last-of-type th {\n",
       "        text-align: right;\n",
       "    }\n",
       "</style>\n",
       "<table border=\"1\" class=\"dataframe\">\n",
       "  <thead>\n",
       "    <tr>\n",
       "      <th></th>\n",
       "      <th colspan=\"2\" halign=\"left\">result_gen_time</th>\n",
       "      <th colspan=\"2\" halign=\"left\">result_eval_time</th>\n",
       "      <th colspan=\"2\" halign=\"left\">total_time</th>\n",
       "    </tr>\n",
       "    <tr>\n",
       "      <th></th>\n",
       "      <th>mean</th>\n",
       "      <th>std</th>\n",
       "      <th>mean</th>\n",
       "      <th>std</th>\n",
       "      <th>mean</th>\n",
       "      <th>std</th>\n",
       "    </tr>\n",
       "    <tr>\n",
       "      <th>ndims</th>\n",
       "      <th></th>\n",
       "      <th></th>\n",
       "      <th></th>\n",
       "      <th></th>\n",
       "      <th></th>\n",
       "      <th></th>\n",
       "    </tr>\n",
       "  </thead>\n",
       "  <tbody>\n",
       "    <tr>\n",
       "      <th>2</th>\n",
       "      <td>8.415701</td>\n",
       "      <td>0.172457</td>\n",
       "      <td>28.507983</td>\n",
       "      <td>0.196947</td>\n",
       "      <td>36.923684</td>\n",
       "      <td>0.289341</td>\n",
       "    </tr>\n",
       "    <tr>\n",
       "      <th>4</th>\n",
       "      <td>10.557774</td>\n",
       "      <td>0.205173</td>\n",
       "      <td>32.032760</td>\n",
       "      <td>0.125223</td>\n",
       "      <td>42.590533</td>\n",
       "      <td>0.097944</td>\n",
       "    </tr>\n",
       "    <tr>\n",
       "      <th>6</th>\n",
       "      <td>14.373771</td>\n",
       "      <td>0.346665</td>\n",
       "      <td>35.223429</td>\n",
       "      <td>0.225723</td>\n",
       "      <td>49.597201</td>\n",
       "      <td>0.490693</td>\n",
       "    </tr>\n",
       "    <tr>\n",
       "      <th>8</th>\n",
       "      <td>16.908395</td>\n",
       "      <td>0.428311</td>\n",
       "      <td>38.434644</td>\n",
       "      <td>0.110912</td>\n",
       "      <td>55.343039</td>\n",
       "      <td>0.386313</td>\n",
       "    </tr>\n",
       "  </tbody>\n",
       "</table>\n",
       "</div>"
      ],
      "text/plain": [
       "      result_gen_time           result_eval_time           total_time  \\\n",
       "                 mean       std             mean       std       mean   \n",
       "ndims                                                                   \n",
       "2            8.415701  0.172457        28.507983  0.196947  36.923684   \n",
       "4           10.557774  0.205173        32.032760  0.125223  42.590533   \n",
       "6           14.373771  0.346665        35.223429  0.225723  49.597201   \n",
       "8           16.908395  0.428311        38.434644  0.110912  55.343039   \n",
       "\n",
       "                 \n",
       "            std  \n",
       "ndims            \n",
       "2      0.289341  \n",
       "4      0.097944  \n",
       "6      0.490693  \n",
       "8      0.386313  "
      ]
     },
     "execution_count": 9,
     "metadata": {},
     "output_type": "execute_result"
    }
   ],
   "source": [
    "time_df[['result_gen_time', 'result_eval_time', 'total_time']]"
   ]
  },
  {
   "cell_type": "code",
   "execution_count": 57,
   "id": "loose-dating",
   "metadata": {
    "ExecuteTime": {
     "end_time": "2022-06-19T17:06:18.833236Z",
     "start_time": "2022-06-19T17:06:18.827253Z"
    }
   },
   "outputs": [
    {
     "name": "stdout",
     "output_type": "stream",
     "text": [
      "8.4157 ± 0.17246\t& 28.50798 ± 0.19695\n",
      "10.55777 ± 0.20517\t& 32.03276 ± 0.12522\n",
      "14.37377 ± 0.34666\t& 35.22343 ± 0.22572\n",
      "16.9084 ± 0.42831\t& 38.43464 ± 0.11091\n",
      "\n"
     ]
    }
   ],
   "source": [
    "def temp_print(xx):\n",
    "    temp_foo = lambda x4: x4[0] + ' ± ' + x4[1] + '\\t& ' + x4[2] + ' ± ' + x4[3] + '\\n'\n",
    "    print(''.join([temp_foo(x.round(5).astype(str))\n",
    "           for x in xx.values]))\n",
    "    \n",
    "temp_print(time_df[['result_gen_time', 'result_eval_time']])"
   ]
  },
  {
   "cell_type": "code",
   "execution_count": 20,
   "id": "annoying-amateur",
   "metadata": {
    "ExecuteTime": {
     "end_time": "2022-06-09T10:06:45.919125Z",
     "start_time": "2022-06-09T10:06:45.913141Z"
    }
   },
   "outputs": [
    {
     "name": "stdout",
     "output_type": "stream",
     "text": [
      "8.857 ± 0.295\t& 28.169 ± 0.116\n",
      "11.174 ± 0.163\t& 31.525 ± 0.048\n",
      "14.951 ± 0.395\t& 34.955 ± 0.125\n",
      "17.395 ± 0.524\t& 38.048 ± 0.084\n",
      "\n"
     ]
    }
   ],
   "source": [
    "# old sigma\n",
    "\n",
    "# def temp_print(xx):\n",
    "#     temp_foo = lambda x4: x4[0] + ' ± ' + x4[1] + '\\t& ' + x4[2] + ' ± ' + x4[3] + '\\n'\n",
    "#     print(''.join([temp_foo(x.round(3).astype(str))\n",
    "#            for x in xx.values]))\n",
    "    \n",
    "# temp_print(time_df[['result_gen_time', 'result_eval_time']])"
   ]
  },
  {
   "cell_type": "code",
   "execution_count": 17,
   "id": "neither-weekend",
   "metadata": {
    "ExecuteTime": {
     "end_time": "2022-06-09T10:04:24.232178Z",
     "start_time": "2022-06-09T10:04:24.217218Z"
    }
   },
   "outputs": [
    {
     "name": "stderr",
     "output_type": "stream",
     "text": [
      "E:\\_MAGISTER_ACE\\Наука\\mc_integration\\mcenv\\lib\\site-packages\\ipykernel_launcher.py:2: SettingWithCopyWarning: \n",
      "A value is trying to be set on a copy of a slice from a DataFrame.\n",
      "Try using .loc[row_indexer,col_indexer] = value instead\n",
      "\n",
      "See the caveats in the documentation: https://pandas.pydata.org/pandas-docs/stable/user_guide/indexing.html#returning-a-view-versus-a-copy\n",
      "  \n",
      "E:\\_MAGISTER_ACE\\Наука\\mc_integration\\mcenv\\lib\\site-packages\\ipykernel_launcher.py:3: SettingWithCopyWarning: \n",
      "A value is trying to be set on a copy of a slice from a DataFrame.\n",
      "Try using .loc[row_indexer,col_indexer] = value instead\n",
      "\n",
      "See the caveats in the documentation: https://pandas.pydata.org/pandas-docs/stable/user_guide/indexing.html#returning-a-view-versus-a-copy\n",
      "  This is separate from the ipykernel package so we can avoid doing imports until\n"
     ]
    },
    {
     "data": {
      "text/html": [
       "<div>\n",
       "<style scoped>\n",
       "    .dataframe tbody tr th:only-of-type {\n",
       "        vertical-align: middle;\n",
       "    }\n",
       "\n",
       "    .dataframe tbody tr th {\n",
       "        vertical-align: top;\n",
       "    }\n",
       "\n",
       "    .dataframe thead tr th {\n",
       "        text-align: left;\n",
       "    }\n",
       "\n",
       "    .dataframe thead tr:last-of-type th {\n",
       "        text-align: right;\n",
       "    }\n",
       "</style>\n",
       "<table border=\"1\" class=\"dataframe\">\n",
       "  <thead>\n",
       "    <tr>\n",
       "      <th></th>\n",
       "      <th colspan=\"2\" halign=\"left\">result_gen_time</th>\n",
       "      <th colspan=\"2\" halign=\"left\">result_eval_time</th>\n",
       "      <th>total_mean</th>\n",
       "      <th>total_std</th>\n",
       "    </tr>\n",
       "    <tr>\n",
       "      <th></th>\n",
       "      <th>mean</th>\n",
       "      <th>std</th>\n",
       "      <th>mean</th>\n",
       "      <th>std</th>\n",
       "      <th></th>\n",
       "      <th></th>\n",
       "    </tr>\n",
       "    <tr>\n",
       "      <th>ndims</th>\n",
       "      <th></th>\n",
       "      <th></th>\n",
       "      <th></th>\n",
       "      <th></th>\n",
       "      <th></th>\n",
       "      <th></th>\n",
       "    </tr>\n",
       "  </thead>\n",
       "  <tbody>\n",
       "    <tr>\n",
       "      <th>2</th>\n",
       "      <td>8.856975</td>\n",
       "      <td>0.294607</td>\n",
       "      <td>28.168985</td>\n",
       "      <td>0.115902</td>\n",
       "      <td>37.025960</td>\n",
       "      <td>0.316586</td>\n",
       "    </tr>\n",
       "    <tr>\n",
       "      <th>4</th>\n",
       "      <td>11.174443</td>\n",
       "      <td>0.163424</td>\n",
       "      <td>31.525340</td>\n",
       "      <td>0.047521</td>\n",
       "      <td>42.699784</td>\n",
       "      <td>0.170193</td>\n",
       "    </tr>\n",
       "    <tr>\n",
       "      <th>6</th>\n",
       "      <td>14.951008</td>\n",
       "      <td>0.395227</td>\n",
       "      <td>34.955499</td>\n",
       "      <td>0.124870</td>\n",
       "      <td>49.906506</td>\n",
       "      <td>0.414484</td>\n",
       "    </tr>\n",
       "    <tr>\n",
       "      <th>8</th>\n",
       "      <td>17.394804</td>\n",
       "      <td>0.524048</td>\n",
       "      <td>38.047893</td>\n",
       "      <td>0.084381</td>\n",
       "      <td>55.442698</td>\n",
       "      <td>0.530798</td>\n",
       "    </tr>\n",
       "  </tbody>\n",
       "</table>\n",
       "</div>"
      ],
      "text/plain": [
       "      result_gen_time           result_eval_time           total_mean  \\\n",
       "                 mean       std             mean       std              \n",
       "ndims                                                                   \n",
       "2            8.856975  0.294607        28.168985  0.115902  37.025960   \n",
       "4           11.174443  0.163424        31.525340  0.047521  42.699784   \n",
       "6           14.951008  0.395227        34.955499  0.124870  49.906506   \n",
       "8           17.394804  0.524048        38.047893  0.084381  55.442698   \n",
       "\n",
       "      total_std  \n",
       "                 \n",
       "ndims            \n",
       "2      0.316586  \n",
       "4      0.170193  \n",
       "6      0.414484  \n",
       "8      0.530798  "
      ]
     },
     "execution_count": 17,
     "metadata": {},
     "output_type": "execute_result"
    }
   ],
   "source": [
    "t = time_df[['result_gen_time', 'result_eval_time']]\n",
    "t['total_mean'] = time_df['result_gen_time']['mean'] + time_df['result_eval_time']['mean']\n",
    "t['total_std'] = (time_df['result_gen_time']['std']**2 + time_df['result_eval_time']['std']**2)**.5\n",
    "\n",
    "t"
   ]
  },
  {
   "cell_type": "code",
   "execution_count": 22,
   "id": "soviet-protein",
   "metadata": {
    "ExecuteTime": {
     "end_time": "2022-06-09T10:07:57.397971Z",
     "start_time": "2022-06-09T10:07:57.392912Z"
    }
   },
   "outputs": [
    {
     "name": "stdout",
     "output_type": "stream",
     "text": [
      "37.026 ± 0.317\n",
      "42.7 ± 0.17\n",
      "49.907 ± 0.414\n",
      "55.443 ± 0.531\n",
      "\n"
     ]
    }
   ],
   "source": [
    "def temp_print(xx):\n",
    "    temp_foo = lambda x4: x4[0] + ' ± ' + x4[1] + '\\n'\n",
    "    print(''.join([temp_foo(x.round(3).astype(str))\n",
    "           for x in xx.values]))\n",
    "    \n",
    "temp_print(t[['total_mean', 'total_std']])"
   ]
  },
  {
   "cell_type": "code",
   "execution_count": null,
   "id": "homeless-depression",
   "metadata": {},
   "outputs": [],
   "source": []
  }
 ],
 "metadata": {
  "kernelspec": {
   "display_name": "mcenv",
   "language": "python",
   "name": "mcenv"
  },
  "language_info": {
   "codemirror_mode": {
    "name": "ipython",
    "version": 3
   },
   "file_extension": ".py",
   "mimetype": "text/x-python",
   "name": "python",
   "nbconvert_exporter": "python",
   "pygments_lexer": "ipython3",
   "version": "3.7.9"
  },
  "toc": {
   "base_numbering": 1,
   "nav_menu": {},
   "number_sections": true,
   "sideBar": true,
   "skip_h1_title": false,
   "title_cell": "Table of Contents",
   "title_sidebar": "Contents",
   "toc_cell": false,
   "toc_position": {
    "height": "calc(100% - 180px)",
    "left": "10px",
    "top": "150px",
    "width": "374.389px"
   },
   "toc_section_display": true,
   "toc_window_display": true
  }
 },
 "nbformat": 4,
 "nbformat_minor": 5
}
