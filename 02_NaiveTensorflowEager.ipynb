{
 "cells": [
  {
   "cell_type": "code",
   "execution_count": 2,
   "id": "growing-climb",
   "metadata": {
    "ExecuteTime": {
     "end_time": "2022-06-19T19:19:23.985767Z",
     "start_time": "2022-06-19T19:19:21.219165Z"
    }
   },
   "outputs": [],
   "source": [
    "import os\n",
    "import time\n",
    "import math\n",
    "from datetime import datetime\n",
    "\n",
    "import numpy as np\n",
    "import pandas as pd\n",
    "import scipy as sp\n",
    "from tqdm import tqdm\n",
    "from functools import partial\n",
    "\n",
    "import tensorflow as tf\n",
    "import tensorflow_probability as tfp\n",
    "\n",
    "import matplotlib.pyplot as plt\n",
    "%matplotlib inline"
   ]
  },
  {
   "cell_type": "code",
   "execution_count": 2,
   "id": "adopted-documentation",
   "metadata": {
    "ExecuteTime": {
     "end_time": "2022-06-19T18:57:13.940260Z",
     "start_time": "2022-06-19T18:57:13.936270Z"
    }
   },
   "outputs": [],
   "source": [
    "os.environ[\"CUDA_VISIBLE_DEVICES\"] = \"-1\""
   ]
  },
  {
   "cell_type": "code",
   "execution_count": 3,
   "id": "twelve-diameter",
   "metadata": {
    "ExecuteTime": {
     "end_time": "2022-06-19T18:57:14.108809Z",
     "start_time": "2022-06-19T18:57:13.941258Z"
    }
   },
   "outputs": [
    {
     "name": "stdout",
     "output_type": "stream",
     "text": [
      "WARNING:tensorflow:From C:\\TMP\\ipykernel_9860\\337460670.py:1: is_gpu_available (from tensorflow.python.framework.test_util) is deprecated and will be removed in a future version.\n",
      "Instructions for updating:\n",
      "Use `tf.config.list_physical_devices('GPU')` instead.\n"
     ]
    },
    {
     "data": {
      "text/plain": [
       "False"
      ]
     },
     "execution_count": 3,
     "metadata": {},
     "output_type": "execute_result"
    }
   ],
   "source": [
    "tf.test.is_gpu_available()"
   ]
  },
  {
   "cell_type": "code",
   "execution_count": 4,
   "id": "charged-there",
   "metadata": {
    "ExecuteTime": {
     "end_time": "2022-06-19T18:57:14.114793Z",
     "start_time": "2022-06-19T18:57:14.109807Z"
    }
   },
   "outputs": [],
   "source": [
    "def variance_weighted_result(means, stddevs):\n",
    "    \"\"\" Computes weighted mean and stddev of given means and\n",
    "        stddevs arrays, using Inverse-variance weighting\n",
    "    \"\"\"\n",
    "    assert np.size(means) == np.size(stddevs)\n",
    "    assert means.shape == stddevs.shape\n",
    "    variance = 1./np.sum(1./stddevs**2, axis=-1)\n",
    "    mean = np.sum(means/(stddevs**2), axis=-1)\n",
    "    mean *= variance\n",
    "    return mean, np.sqrt(variance)"
   ]
  },
  {
   "cell_type": "code",
   "execution_count": 5,
   "id": "dramatic-string",
   "metadata": {
    "ExecuteTime": {
     "end_time": "2022-06-19T18:57:14.121774Z",
     "start_time": "2022-06-19T18:57:14.115791Z"
    }
   },
   "outputs": [],
   "source": [
    "def compute_stats(values):\n",
    "    mean = sum(values) / len(values)\n",
    "    var_unb = sum((v - mean) ** 2 for v in values) / (len(values) - 1)\n",
    "    return mean, math.sqrt(var_unb)\n",
    "\n",
    "\n",
    "def compute_stats_np(values):\n",
    "    mean = np.mean(values)\n",
    "    var_unb = np.sum((values - mean) ** 2) / (len(values) - 1)\n",
    "    return mean, math.sqrt(var_unb)\n",
    "\n",
    "\n",
    "def compute_stats_tf(values):\n",
    "    mean = tf.reduce_mean(values, axis=-1)\n",
    "    var_unb = tf.reduce_sum((values - mean) ** 2) / (len(values) - 1)\n",
    "    return mean.numpy(), math.sqrt(var_unb)"
   ]
  },
  {
   "cell_type": "code",
   "execution_count": 6,
   "id": "associate-jerusalem",
   "metadata": {
    "ExecuteTime": {
     "end_time": "2022-06-19T18:57:15.334532Z",
     "start_time": "2022-06-19T18:57:15.331540Z"
    }
   },
   "outputs": [],
   "source": [
    "NRUNS = 10"
   ]
  },
  {
   "cell_type": "markdown",
   "id": "soviet-election",
   "metadata": {},
   "source": [
    "### F1 - simple gauss"
   ]
  },
  {
   "cell_type": "code",
   "execution_count": 7,
   "id": "bronze-texas",
   "metadata": {
    "ExecuteTime": {
     "end_time": "2022-06-19T18:57:20.910624Z",
     "start_time": "2022-06-19T18:57:20.660293Z"
    }
   },
   "outputs": [
    {
     "data": {
      "text/plain": [
       "{'f1_d2': 1.0, 'f1_d4': 1.0, 'f1_d6': 1.0, 'f1_d8': 1.0}"
      ]
     },
     "execution_count": 7,
     "metadata": {},
     "output_type": "execute_result"
    }
   ],
   "source": [
    "import scipy.stats as spt\n",
    "\n",
    "target = 1\n",
    "target_precision = 1e-3\n",
    "\n",
    "norm_dist = spt.norm(loc=0.5, scale=0.01)\n",
    "\n",
    "prefix = 'f1'\n",
    "\n",
    "target_dict = {\n",
    "    'f1_d2': (norm_dist.cdf(1) - norm_dist.cdf(0)) ** 2,\n",
    "    'f1_d4': (norm_dist.cdf(1) - norm_dist.cdf(0)) ** 4,\n",
    "    'f1_d6': (norm_dist.cdf(1) - norm_dist.cdf(0)) ** 6,\n",
    "    'f1_d8': (norm_dist.cdf(1) - norm_dist.cdf(0)) ** 8,\n",
    "}\n",
    "target_dict"
   ]
  },
  {
   "cell_type": "code",
   "execution_count": 8,
   "id": "lyric-trinity",
   "metadata": {
    "ExecuteTime": {
     "end_time": "2022-06-19T18:57:26.547553Z",
     "start_time": "2022-06-19T18:57:26.323153Z"
    }
   },
   "outputs": [],
   "source": [
    "sigma = 0.01\n",
    "alpha = sigma * math.sqrt(2)\n",
    "\n",
    "alpha_tf = tf.constant(alpha, dtype=tf.float64)\n",
    "pi_tf = tf.constant(math.pi, dtype=tf.float64)\n",
    "\n",
    "\n",
    "def f1_tf(x, ndims):\n",
    "    pre = 1.0 / (alpha * tf.sqrt(pi_tf)) ** ndims\n",
    "    exponent = -1 * tf.reduce_sum((x - .5) ** 2, axis=-1) / alpha ** 2\n",
    "    return pre * tf.exp(exponent)\n",
    "\n",
    "def f1_np(x, ndims):\n",
    "    pre = 1.0 / (alpha * math.sqrt(math.pi)) ** ndims\n",
    "    exponent = -1 * np.sum((x - .5) ** 2, axis=-1) / alpha ** 2\n",
    "    return pre * np.exp(exponent)\n",
    "\n",
    "def f1(x, ndims):\n",
    "    pre = 1.0 / (alpha * math.sqrt(math.pi)) ** ndims\n",
    "    exponent = -1 * sum((t - .5) ** 2 for t in x) / alpha ** 2\n",
    "    return pre * math.exp(exponent)"
   ]
  },
  {
   "cell_type": "code",
   "execution_count": 9,
   "id": "afraid-arena",
   "metadata": {
    "ExecuteTime": {
     "end_time": "2022-06-19T18:57:29.847729Z",
     "start_time": "2022-06-19T18:57:29.842743Z"
    }
   },
   "outputs": [
    {
     "data": {
      "text/plain": [
       "{2: functools.partial(<function f1_tf at 0x00000266A1F36CA8>, ndims=2),\n",
       " 4: functools.partial(<function f1_tf at 0x00000266A1F36CA8>, ndims=4),\n",
       " 6: functools.partial(<function f1_tf at 0x00000266A1F36CA8>, ndims=6),\n",
       " 8: functools.partial(<function f1_tf at 0x00000266A1F36CA8>, ndims=8)}"
      ]
     },
     "execution_count": 9,
     "metadata": {},
     "output_type": "execute_result"
    }
   ],
   "source": [
    "dim2func_dict = {\n",
    "    2: partial(f1_tf, ndims=2),\n",
    "    4: partial(f1_tf, ndims=4),\n",
    "    6: partial(f1_tf, ndims=6),\n",
    "    8: partial(f1_tf, ndims=8),\n",
    "}\n",
    "dim2func_dict"
   ]
  },
  {
   "cell_type": "markdown",
   "id": "round-links",
   "metadata": {},
   "source": [
    "#### Uniform"
   ]
  },
  {
   "cell_type": "code",
   "execution_count": 10,
   "id": "egyptian-inquiry",
   "metadata": {
    "ExecuteTime": {
     "end_time": "2022-06-19T18:58:30.755883Z",
     "start_time": "2022-06-19T18:57:50.555365Z"
    },
    "scrolled": true
   },
   "outputs": [
    {
     "name": "stdout",
     "output_type": "stream",
     "text": [
      "run=1\n",
      "ndims=2  neval=10000\n",
      "ndims=2  neval=100000\n",
      "ndims=2  neval=1000000\n",
      "ndims=2  neval=10000000\n",
      "ndims=4  neval=10000\n",
      "ndims=4  neval=100000\n",
      "ndims=4  neval=1000000\n",
      "ndims=4  neval=10000000\n",
      "ndims=6  neval=10000\n",
      "ndims=6  neval=100000\n",
      "ndims=6  neval=1000000\n",
      "ndims=6  neval=10000000\n",
      "ndims=8  neval=10000\n",
      "ndims=8  neval=100000\n",
      "ndims=8  neval=1000000\n",
      "ndims=8  neval=10000000\n",
      "run=2\n",
      "ndims=2  neval=10000\n",
      "ndims=2  neval=100000\n",
      "ndims=2  neval=1000000\n",
      "ndims=2  neval=10000000\n",
      "ndims=4  neval=10000\n",
      "ndims=4  neval=100000\n",
      "ndims=4  neval=1000000\n",
      "ndims=4  neval=10000000\n",
      "ndims=6  neval=10000\n",
      "ndims=6  neval=100000\n",
      "ndims=6  neval=1000000\n",
      "ndims=6  neval=10000000\n",
      "ndims=8  neval=10000\n",
      "ndims=8  neval=100000\n",
      "ndims=8  neval=1000000\n",
      "ndims=8  neval=10000000\n",
      "run=3\n",
      "ndims=2  neval=10000\n",
      "ndims=2  neval=100000\n",
      "ndims=2  neval=1000000\n",
      "ndims=2  neval=10000000\n",
      "ndims=4  neval=10000\n",
      "ndims=4  neval=100000\n",
      "ndims=4  neval=1000000\n",
      "ndims=4  neval=10000000\n",
      "ndims=6  neval=10000\n",
      "ndims=6  neval=100000\n",
      "ndims=6  neval=1000000\n",
      "ndims=6  neval=10000000\n",
      "ndims=8  neval=10000\n",
      "ndims=8  neval=100000\n",
      "ndims=8  neval=1000000\n",
      "ndims=8  neval=10000000\n",
      "run=4\n",
      "ndims=2  neval=10000\n",
      "ndims=2  neval=100000\n",
      "ndims=2  neval=1000000\n",
      "ndims=2  neval=10000000\n",
      "ndims=4  neval=10000\n",
      "ndims=4  neval=100000\n",
      "ndims=4  neval=1000000\n",
      "ndims=4  neval=10000000\n",
      "ndims=6  neval=10000\n",
      "ndims=6  neval=100000\n",
      "ndims=6  neval=1000000\n",
      "ndims=6  neval=10000000\n",
      "ndims=8  neval=10000\n",
      "ndims=8  neval=100000\n",
      "ndims=8  neval=1000000\n",
      "ndims=8  neval=10000000\n",
      "run=5\n",
      "ndims=2  neval=10000\n",
      "ndims=2  neval=100000\n",
      "ndims=2  neval=1000000\n",
      "ndims=2  neval=10000000\n",
      "ndims=4  neval=10000\n",
      "ndims=4  neval=100000\n",
      "ndims=4  neval=1000000\n",
      "ndims=4  neval=10000000\n",
      "ndims=6  neval=10000\n",
      "ndims=6  neval=100000\n",
      "ndims=6  neval=1000000\n",
      "ndims=6  neval=10000000\n",
      "ndims=8  neval=10000\n",
      "ndims=8  neval=100000\n",
      "ndims=8  neval=1000000\n",
      "ndims=8  neval=10000000\n",
      "run=6\n",
      "ndims=2  neval=10000\n",
      "ndims=2  neval=100000\n",
      "ndims=2  neval=1000000\n",
      "ndims=2  neval=10000000\n",
      "ndims=4  neval=10000\n",
      "ndims=4  neval=100000\n",
      "ndims=4  neval=1000000\n",
      "ndims=4  neval=10000000\n",
      "ndims=6  neval=10000\n",
      "ndims=6  neval=100000\n",
      "ndims=6  neval=1000000\n",
      "ndims=6  neval=10000000\n",
      "ndims=8  neval=10000\n",
      "ndims=8  neval=100000\n",
      "ndims=8  neval=1000000\n",
      "ndims=8  neval=10000000\n",
      "run=7\n",
      "ndims=2  neval=10000\n",
      "ndims=2  neval=100000\n",
      "ndims=2  neval=1000000\n",
      "ndims=2  neval=10000000\n",
      "ndims=4  neval=10000\n",
      "ndims=4  neval=100000\n",
      "ndims=4  neval=1000000\n",
      "ndims=4  neval=10000000\n",
      "ndims=6  neval=10000\n",
      "ndims=6  neval=100000\n",
      "ndims=6  neval=1000000\n",
      "ndims=6  neval=10000000\n",
      "ndims=8  neval=10000\n",
      "ndims=8  neval=100000\n",
      "ndims=8  neval=1000000\n",
      "ndims=8  neval=10000000\n",
      "run=8\n",
      "ndims=2  neval=10000\n",
      "ndims=2  neval=100000\n",
      "ndims=2  neval=1000000\n",
      "ndims=2  neval=10000000\n",
      "ndims=4  neval=10000\n",
      "ndims=4  neval=100000\n",
      "ndims=4  neval=1000000\n",
      "ndims=4  neval=10000000\n",
      "ndims=6  neval=10000\n",
      "ndims=6  neval=100000\n",
      "ndims=6  neval=1000000\n",
      "ndims=6  neval=10000000\n",
      "ndims=8  neval=10000\n",
      "ndims=8  neval=100000\n",
      "ndims=8  neval=1000000\n",
      "ndims=8  neval=10000000\n",
      "run=9\n",
      "ndims=2  neval=10000\n",
      "ndims=2  neval=100000\n",
      "ndims=2  neval=1000000\n",
      "ndims=2  neval=10000000\n",
      "ndims=4  neval=10000\n",
      "ndims=4  neval=100000\n",
      "ndims=4  neval=1000000\n",
      "ndims=4  neval=10000000\n",
      "ndims=6  neval=10000\n",
      "ndims=6  neval=100000\n",
      "ndims=6  neval=1000000\n",
      "ndims=6  neval=10000000\n",
      "ndims=8  neval=10000\n",
      "ndims=8  neval=100000\n",
      "ndims=8  neval=1000000\n",
      "ndims=8  neval=10000000\n",
      "run=10\n",
      "ndims=2  neval=10000\n",
      "ndims=2  neval=100000\n",
      "ndims=2  neval=1000000\n",
      "ndims=2  neval=10000000\n",
      "ndims=4  neval=10000\n",
      "ndims=4  neval=100000\n",
      "ndims=4  neval=1000000\n",
      "ndims=4  neval=10000000\n",
      "ndims=6  neval=10000\n",
      "ndims=6  neval=100000\n",
      "ndims=6  neval=1000000\n",
      "ndims=6  neval=10000000\n",
      "ndims=8  neval=10000\n",
      "ndims=8  neval=100000\n",
      "ndims=8  neval=1000000\n",
      "ndims=8  neval=10000000\n",
      "Wall time: 40.2 s\n"
     ]
    }
   ],
   "source": [
    "%%time\n",
    "np.random.seed(123)\n",
    "tf.random.set_seed(123)\n",
    "\n",
    "result_means = []\n",
    "result_sdevs = []\n",
    "result_gen_times = []\n",
    "result_eval_times = []\n",
    "result_run_nums = []\n",
    "\n",
    "ndims_lst = [2, 4, 6, 8]\n",
    "neval_lst = list(map(int, [1e4, 1e5, 1e6, 1e7]))\n",
    "run_lst = list(range(1, NRUNS+1))\n",
    "\n",
    "for run in run_lst:\n",
    "    \n",
    "    print(f'run={run}')\n",
    "    for ndims in ndims_lst:\n",
    "        \n",
    "        integrand_tf = dim2func_dict[ndims]\n",
    "        for neval in neval_lst:\n",
    "\n",
    "            print(f'ndims={ndims}  neval={neval}')\n",
    "\n",
    "            time_a = time.time()\n",
    "            data = tf.random.uniform(shape=(neval, ndims), minval=0, maxval=1, dtype=tf.float64)\n",
    "            gen_time = time.time() - time_a\n",
    "            \n",
    "            time_a = time.time()\n",
    "            values = integrand_tf(data)\n",
    "            mean, std = compute_stats_tf(values)\n",
    "            error = std / math.sqrt(neval)\n",
    "            eval_time = time.time() - time_a\n",
    "                        \n",
    "            result_means.append(mean)\n",
    "            result_sdevs.append(error)\n",
    "            result_gen_times.append(gen_time)\n",
    "            result_eval_times.append(eval_time)\n",
    "            result_run_nums.append(run)\n",
    "            \n",
    "            # print(current_result_mean, current_result_stddev)"
   ]
  },
  {
   "cell_type": "code",
   "execution_count": 11,
   "id": "healthy-surge",
   "metadata": {
    "ExecuteTime": {
     "end_time": "2022-06-19T18:58:49.635406Z",
     "start_time": "2022-06-19T18:58:49.627428Z"
    }
   },
   "outputs": [],
   "source": [
    "temp_df = pd.DataFrame({\n",
    "    'ndims': sorted(ndims_lst * len(neval_lst)) * len(run_lst),\n",
    "    'neval': sorted(neval_lst) * len(ndims_lst) * len(run_lst),\n",
    "    'result_mean': result_means,\n",
    "    'result_sdev': result_sdevs,\n",
    "    'result_gen_time': result_gen_times,\n",
    "    'result_eval_time': result_eval_times,\n",
    "    'run_num': result_run_nums,\n",
    "})\n",
    "temp_df['eval_time_perc'] = (temp_df.result_eval_time / (temp_df.result_gen_time + temp_df.result_eval_time)).round(2)\n",
    "temp_df['total_time'] = temp_df.result_gen_time + temp_df.result_eval_time"
   ]
  },
  {
   "cell_type": "code",
   "execution_count": 12,
   "id": "bound-irrigation",
   "metadata": {
    "ExecuteTime": {
     "end_time": "2022-06-19T18:58:50.626755Z",
     "start_time": "2022-06-19T18:58:50.610799Z"
    },
    "scrolled": true
   },
   "outputs": [
    {
     "data": {
      "text/html": [
       "<div>\n",
       "<style scoped>\n",
       "    .dataframe tbody tr th:only-of-type {\n",
       "        vertical-align: middle;\n",
       "    }\n",
       "\n",
       "    .dataframe tbody tr th {\n",
       "        vertical-align: top;\n",
       "    }\n",
       "\n",
       "    .dataframe thead th {\n",
       "        text-align: right;\n",
       "    }\n",
       "</style>\n",
       "<table border=\"1\" class=\"dataframe\">\n",
       "  <thead>\n",
       "    <tr style=\"text-align: right;\">\n",
       "      <th></th>\n",
       "      <th>ndims</th>\n",
       "      <th>neval</th>\n",
       "      <th>result_mean</th>\n",
       "      <th>result_sdev</th>\n",
       "      <th>result_gen_time</th>\n",
       "      <th>result_eval_time</th>\n",
       "      <th>run_num</th>\n",
       "      <th>eval_time_perc</th>\n",
       "      <th>total_time</th>\n",
       "    </tr>\n",
       "  </thead>\n",
       "  <tbody>\n",
       "    <tr>\n",
       "      <th>0</th>\n",
       "      <td>2</td>\n",
       "      <td>10000</td>\n",
       "      <td>9.641165e-01</td>\n",
       "      <td>2.577424e-01</td>\n",
       "      <td>0.071807</td>\n",
       "      <td>0.127659</td>\n",
       "      <td>1</td>\n",
       "      <td>0.64</td>\n",
       "      <td>0.199466</td>\n",
       "    </tr>\n",
       "    <tr>\n",
       "      <th>1</th>\n",
       "      <td>2</td>\n",
       "      <td>100000</td>\n",
       "      <td>1.042906e+00</td>\n",
       "      <td>9.251066e-02</td>\n",
       "      <td>0.000998</td>\n",
       "      <td>0.002992</td>\n",
       "      <td>1</td>\n",
       "      <td>0.75</td>\n",
       "      <td>0.003989</td>\n",
       "    </tr>\n",
       "    <tr>\n",
       "      <th>2</th>\n",
       "      <td>2</td>\n",
       "      <td>1000000</td>\n",
       "      <td>1.060182e+00</td>\n",
       "      <td>2.917550e-02</td>\n",
       "      <td>0.013963</td>\n",
       "      <td>0.033910</td>\n",
       "      <td>1</td>\n",
       "      <td>0.71</td>\n",
       "      <td>0.047872</td>\n",
       "    </tr>\n",
       "    <tr>\n",
       "      <th>3</th>\n",
       "      <td>2</td>\n",
       "      <td>10000000</td>\n",
       "      <td>9.957187e-01</td>\n",
       "      <td>8.896322e-03</td>\n",
       "      <td>0.134640</td>\n",
       "      <td>0.317152</td>\n",
       "      <td>1</td>\n",
       "      <td>0.70</td>\n",
       "      <td>0.451792</td>\n",
       "    </tr>\n",
       "    <tr>\n",
       "      <th>4</th>\n",
       "      <td>4</td>\n",
       "      <td>10000</td>\n",
       "      <td>1.249101e-15</td>\n",
       "      <td>1.093367e-15</td>\n",
       "      <td>0.010971</td>\n",
       "      <td>0.006981</td>\n",
       "      <td>1</td>\n",
       "      <td>0.39</td>\n",
       "      <td>0.017952</td>\n",
       "    </tr>\n",
       "    <tr>\n",
       "      <th>...</th>\n",
       "      <td>...</td>\n",
       "      <td>...</td>\n",
       "      <td>...</td>\n",
       "      <td>...</td>\n",
       "      <td>...</td>\n",
       "      <td>...</td>\n",
       "      <td>...</td>\n",
       "      <td>...</td>\n",
       "      <td>...</td>\n",
       "    </tr>\n",
       "    <tr>\n",
       "      <th>155</th>\n",
       "      <td>6</td>\n",
       "      <td>10000000</td>\n",
       "      <td>9.140837e-03</td>\n",
       "      <td>7.872963e-03</td>\n",
       "      <td>0.404917</td>\n",
       "      <td>0.584437</td>\n",
       "      <td>10</td>\n",
       "      <td>0.59</td>\n",
       "      <td>0.989354</td>\n",
       "    </tr>\n",
       "    <tr>\n",
       "      <th>156</th>\n",
       "      <td>8</td>\n",
       "      <td>10000</td>\n",
       "      <td>1.016652e-28</td>\n",
       "      <td>1.016652e-28</td>\n",
       "      <td>0.030917</td>\n",
       "      <td>0.008976</td>\n",
       "      <td>10</td>\n",
       "      <td>0.23</td>\n",
       "      <td>0.039894</td>\n",
       "    </tr>\n",
       "    <tr>\n",
       "      <th>157</th>\n",
       "      <td>8</td>\n",
       "      <td>100000</td>\n",
       "      <td>1.533388e-52</td>\n",
       "      <td>1.533388e-52</td>\n",
       "      <td>0.005984</td>\n",
       "      <td>0.006981</td>\n",
       "      <td>10</td>\n",
       "      <td>0.54</td>\n",
       "      <td>0.012965</td>\n",
       "    </tr>\n",
       "    <tr>\n",
       "      <th>158</th>\n",
       "      <td>8</td>\n",
       "      <td>1000000</td>\n",
       "      <td>2.203992e-37</td>\n",
       "      <td>2.203992e-37</td>\n",
       "      <td>0.066821</td>\n",
       "      <td>0.073804</td>\n",
       "      <td>10</td>\n",
       "      <td>0.52</td>\n",
       "      <td>0.140625</td>\n",
       "    </tr>\n",
       "    <tr>\n",
       "      <th>159</th>\n",
       "      <td>8</td>\n",
       "      <td>10000000</td>\n",
       "      <td>3.514007e-18</td>\n",
       "      <td>3.514007e-18</td>\n",
       "      <td>0.551525</td>\n",
       "      <td>0.739024</td>\n",
       "      <td>10</td>\n",
       "      <td>0.57</td>\n",
       "      <td>1.290549</td>\n",
       "    </tr>\n",
       "  </tbody>\n",
       "</table>\n",
       "<p>160 rows × 9 columns</p>\n",
       "</div>"
      ],
      "text/plain": [
       "     ndims     neval   result_mean   result_sdev  result_gen_time  \\\n",
       "0        2     10000  9.641165e-01  2.577424e-01         0.071807   \n",
       "1        2    100000  1.042906e+00  9.251066e-02         0.000998   \n",
       "2        2   1000000  1.060182e+00  2.917550e-02         0.013963   \n",
       "3        2  10000000  9.957187e-01  8.896322e-03         0.134640   \n",
       "4        4     10000  1.249101e-15  1.093367e-15         0.010971   \n",
       "..     ...       ...           ...           ...              ...   \n",
       "155      6  10000000  9.140837e-03  7.872963e-03         0.404917   \n",
       "156      8     10000  1.016652e-28  1.016652e-28         0.030917   \n",
       "157      8    100000  1.533388e-52  1.533388e-52         0.005984   \n",
       "158      8   1000000  2.203992e-37  2.203992e-37         0.066821   \n",
       "159      8  10000000  3.514007e-18  3.514007e-18         0.551525   \n",
       "\n",
       "     result_eval_time  run_num  eval_time_perc  total_time  \n",
       "0            0.127659        1            0.64    0.199466  \n",
       "1            0.002992        1            0.75    0.003989  \n",
       "2            0.033910        1            0.71    0.047872  \n",
       "3            0.317152        1            0.70    0.451792  \n",
       "4            0.006981        1            0.39    0.017952  \n",
       "..                ...      ...             ...         ...  \n",
       "155          0.584437       10            0.59    0.989354  \n",
       "156          0.008976       10            0.23    0.039894  \n",
       "157          0.006981       10            0.54    0.012965  \n",
       "158          0.073804       10            0.52    0.140625  \n",
       "159          0.739024       10            0.57    1.290549  \n",
       "\n",
       "[160 rows x 9 columns]"
      ]
     },
     "execution_count": 12,
     "metadata": {},
     "output_type": "execute_result"
    }
   ],
   "source": [
    "temp_df"
   ]
  },
  {
   "cell_type": "code",
   "execution_count": 13,
   "id": "reliable-japanese",
   "metadata": {
    "ExecuteTime": {
     "end_time": "2022-06-19T18:58:56.954837Z",
     "start_time": "2022-06-19T18:58:56.946858Z"
    },
    "scrolled": true
   },
   "outputs": [],
   "source": [
    "os.makedirs('result/02_NaiveTensorflowEager', exist_ok=True)\n",
    "temp_df.to_csv('result/02_NaiveTensorflowEager/f1_uniform_new.csv', index=False)"
   ]
  },
  {
   "cell_type": "code",
   "execution_count": 3,
   "id": "cross-fence",
   "metadata": {
    "ExecuteTime": {
     "end_time": "2022-06-19T19:19:24.696866Z",
     "start_time": "2022-06-19T19:19:24.659965Z"
    }
   },
   "outputs": [],
   "source": [
    "# temp_df = pd.read_csv('result/02_NaiveTensorflowEager/f1_uniform_new.csv')"
   ]
  },
  {
   "cell_type": "code",
   "execution_count": 15,
   "id": "behavioral-house",
   "metadata": {
    "ExecuteTime": {
     "end_time": "2022-06-19T18:59:04.975393Z",
     "start_time": "2022-06-19T18:59:04.971403Z"
    }
   },
   "outputs": [],
   "source": [
    "g_temp_df = temp_df.groupby(['ndims', 'neval'], as_index=False)\n",
    "g_temp_df = g_temp_df[['result_mean',\n",
    "                       'result_sdev',\n",
    "                       'result_gen_time',\n",
    "                       'result_eval_time',\n",
    "                       'total_time',\n",
    "                       'eval_time_perc']]"
   ]
  },
  {
   "cell_type": "code",
   "execution_count": 16,
   "id": "sharing-threshold",
   "metadata": {
    "ExecuteTime": {
     "end_time": "2022-06-19T18:59:05.474059Z",
     "start_time": "2022-06-19T18:59:05.459100Z"
    }
   },
   "outputs": [
    {
     "data": {
      "text/html": [
       "<div>\n",
       "<style scoped>\n",
       "    .dataframe tbody tr th:only-of-type {\n",
       "        vertical-align: middle;\n",
       "    }\n",
       "\n",
       "    .dataframe tbody tr th {\n",
       "        vertical-align: top;\n",
       "    }\n",
       "\n",
       "    .dataframe thead th {\n",
       "        text-align: right;\n",
       "    }\n",
       "</style>\n",
       "<table border=\"1\" class=\"dataframe\">\n",
       "  <thead>\n",
       "    <tr style=\"text-align: right;\">\n",
       "      <th></th>\n",
       "      <th>ndims</th>\n",
       "      <th>neval</th>\n",
       "      <th>result_mean</th>\n",
       "      <th>result_sdev</th>\n",
       "      <th>result_gen_time</th>\n",
       "      <th>result_eval_time</th>\n",
       "      <th>total_time</th>\n",
       "      <th>eval_time_perc</th>\n",
       "    </tr>\n",
       "  </thead>\n",
       "  <tbody>\n",
       "    <tr>\n",
       "      <th>0</th>\n",
       "      <td>2</td>\n",
       "      <td>10000</td>\n",
       "      <td>9.958646e-01</td>\n",
       "      <td>2.679465e-01</td>\n",
       "      <td>0.047274</td>\n",
       "      <td>0.020645</td>\n",
       "      <td>0.067918</td>\n",
       "      <td>0.213</td>\n",
       "    </tr>\n",
       "    <tr>\n",
       "      <th>1</th>\n",
       "      <td>2</td>\n",
       "      <td>100000</td>\n",
       "      <td>1.000333e+00</td>\n",
       "      <td>8.790200e-02</td>\n",
       "      <td>0.001795</td>\n",
       "      <td>0.002992</td>\n",
       "      <td>0.004787</td>\n",
       "      <td>0.627</td>\n",
       "    </tr>\n",
       "    <tr>\n",
       "      <th>2</th>\n",
       "      <td>2</td>\n",
       "      <td>1000000</td>\n",
       "      <td>1.003325e+00</td>\n",
       "      <td>2.830437e-02</td>\n",
       "      <td>0.015459</td>\n",
       "      <td>0.033611</td>\n",
       "      <td>0.049069</td>\n",
       "      <td>0.686</td>\n",
       "    </tr>\n",
       "    <tr>\n",
       "      <th>3</th>\n",
       "      <td>2</td>\n",
       "      <td>10000000</td>\n",
       "      <td>9.993910e-01</td>\n",
       "      <td>8.917043e-03</td>\n",
       "      <td>0.141421</td>\n",
       "      <td>0.300696</td>\n",
       "      <td>0.442118</td>\n",
       "      <td>0.680</td>\n",
       "    </tr>\n",
       "    <tr>\n",
       "      <th>4</th>\n",
       "      <td>4</td>\n",
       "      <td>10000</td>\n",
       "      <td>6.701057e-03</td>\n",
       "      <td>6.697427e-03</td>\n",
       "      <td>0.011170</td>\n",
       "      <td>0.006782</td>\n",
       "      <td>0.017952</td>\n",
       "      <td>0.379</td>\n",
       "    </tr>\n",
       "    <tr>\n",
       "      <th>5</th>\n",
       "      <td>4</td>\n",
       "      <td>100000</td>\n",
       "      <td>1.170619e+00</td>\n",
       "      <td>1.142382e+00</td>\n",
       "      <td>0.003291</td>\n",
       "      <td>0.004588</td>\n",
       "      <td>0.007879</td>\n",
       "      <td>0.583</td>\n",
       "    </tr>\n",
       "    <tr>\n",
       "      <th>6</th>\n",
       "      <td>4</td>\n",
       "      <td>1000000</td>\n",
       "      <td>1.025283e+00</td>\n",
       "      <td>5.419196e-01</td>\n",
       "      <td>0.031815</td>\n",
       "      <td>0.046476</td>\n",
       "      <td>0.078291</td>\n",
       "      <td>0.597</td>\n",
       "    </tr>\n",
       "    <tr>\n",
       "      <th>7</th>\n",
       "      <td>4</td>\n",
       "      <td>10000000</td>\n",
       "      <td>1.013788e+00</td>\n",
       "      <td>2.447881e-01</td>\n",
       "      <td>0.276161</td>\n",
       "      <td>0.448202</td>\n",
       "      <td>0.724363</td>\n",
       "      <td>0.619</td>\n",
       "    </tr>\n",
       "    <tr>\n",
       "      <th>8</th>\n",
       "      <td>6</td>\n",
       "      <td>10000</td>\n",
       "      <td>1.033881e-19</td>\n",
       "      <td>9.947286e-20</td>\n",
       "      <td>0.020944</td>\n",
       "      <td>0.007580</td>\n",
       "      <td>0.028524</td>\n",
       "      <td>0.267</td>\n",
       "    </tr>\n",
       "    <tr>\n",
       "      <th>9</th>\n",
       "      <td>6</td>\n",
       "      <td>100000</td>\n",
       "      <td>4.920513e-05</td>\n",
       "      <td>4.464948e-05</td>\n",
       "      <td>0.004687</td>\n",
       "      <td>0.006283</td>\n",
       "      <td>0.010971</td>\n",
       "      <td>0.576</td>\n",
       "    </tr>\n",
       "    <tr>\n",
       "      <th>10</th>\n",
       "      <td>6</td>\n",
       "      <td>1000000</td>\n",
       "      <td>1.614249e-02</td>\n",
       "      <td>1.614241e-02</td>\n",
       "      <td>0.043284</td>\n",
       "      <td>0.062932</td>\n",
       "      <td>0.106216</td>\n",
       "      <td>0.592</td>\n",
       "    </tr>\n",
       "    <tr>\n",
       "      <th>11</th>\n",
       "      <td>6</td>\n",
       "      <td>10000000</td>\n",
       "      <td>5.138880e-01</td>\n",
       "      <td>5.096549e-01</td>\n",
       "      <td>0.412397</td>\n",
       "      <td>0.588128</td>\n",
       "      <td>1.000525</td>\n",
       "      <td>0.588</td>\n",
       "    </tr>\n",
       "    <tr>\n",
       "      <th>12</th>\n",
       "      <td>8</td>\n",
       "      <td>10000</td>\n",
       "      <td>1.016652e-29</td>\n",
       "      <td>1.016652e-29</td>\n",
       "      <td>0.031416</td>\n",
       "      <td>0.009375</td>\n",
       "      <td>0.040791</td>\n",
       "      <td>0.230</td>\n",
       "    </tr>\n",
       "    <tr>\n",
       "      <th>13</th>\n",
       "      <td>8</td>\n",
       "      <td>100000</td>\n",
       "      <td>1.148174e-36</td>\n",
       "      <td>1.148174e-36</td>\n",
       "      <td>0.006183</td>\n",
       "      <td>0.007879</td>\n",
       "      <td>0.014062</td>\n",
       "      <td>0.561</td>\n",
       "    </tr>\n",
       "    <tr>\n",
       "      <th>14</th>\n",
       "      <td>8</td>\n",
       "      <td>1000000</td>\n",
       "      <td>1.157994e-25</td>\n",
       "      <td>1.157993e-25</td>\n",
       "      <td>0.060438</td>\n",
       "      <td>0.074800</td>\n",
       "      <td>0.135239</td>\n",
       "      <td>0.553</td>\n",
       "    </tr>\n",
       "    <tr>\n",
       "      <th>15</th>\n",
       "      <td>8</td>\n",
       "      <td>10000000</td>\n",
       "      <td>1.492313e-09</td>\n",
       "      <td>1.492313e-09</td>\n",
       "      <td>0.547636</td>\n",
       "      <td>0.742415</td>\n",
       "      <td>1.290051</td>\n",
       "      <td>0.577</td>\n",
       "    </tr>\n",
       "  </tbody>\n",
       "</table>\n",
       "</div>"
      ],
      "text/plain": [
       "    ndims     neval   result_mean   result_sdev  result_gen_time  \\\n",
       "0       2     10000  9.958646e-01  2.679465e-01         0.047274   \n",
       "1       2    100000  1.000333e+00  8.790200e-02         0.001795   \n",
       "2       2   1000000  1.003325e+00  2.830437e-02         0.015459   \n",
       "3       2  10000000  9.993910e-01  8.917043e-03         0.141421   \n",
       "4       4     10000  6.701057e-03  6.697427e-03         0.011170   \n",
       "5       4    100000  1.170619e+00  1.142382e+00         0.003291   \n",
       "6       4   1000000  1.025283e+00  5.419196e-01         0.031815   \n",
       "7       4  10000000  1.013788e+00  2.447881e-01         0.276161   \n",
       "8       6     10000  1.033881e-19  9.947286e-20         0.020944   \n",
       "9       6    100000  4.920513e-05  4.464948e-05         0.004687   \n",
       "10      6   1000000  1.614249e-02  1.614241e-02         0.043284   \n",
       "11      6  10000000  5.138880e-01  5.096549e-01         0.412397   \n",
       "12      8     10000  1.016652e-29  1.016652e-29         0.031416   \n",
       "13      8    100000  1.148174e-36  1.148174e-36         0.006183   \n",
       "14      8   1000000  1.157994e-25  1.157993e-25         0.060438   \n",
       "15      8  10000000  1.492313e-09  1.492313e-09         0.547636   \n",
       "\n",
       "    result_eval_time  total_time  eval_time_perc  \n",
       "0           0.020645    0.067918           0.213  \n",
       "1           0.002992    0.004787           0.627  \n",
       "2           0.033611    0.049069           0.686  \n",
       "3           0.300696    0.442118           0.680  \n",
       "4           0.006782    0.017952           0.379  \n",
       "5           0.004588    0.007879           0.583  \n",
       "6           0.046476    0.078291           0.597  \n",
       "7           0.448202    0.724363           0.619  \n",
       "8           0.007580    0.028524           0.267  \n",
       "9           0.006283    0.010971           0.576  \n",
       "10          0.062932    0.106216           0.592  \n",
       "11          0.588128    1.000525           0.588  \n",
       "12          0.009375    0.040791           0.230  \n",
       "13          0.007879    0.014062           0.561  \n",
       "14          0.074800    0.135239           0.553  \n",
       "15          0.742415    1.290051           0.577  "
      ]
     },
     "execution_count": 16,
     "metadata": {},
     "output_type": "execute_result"
    }
   ],
   "source": [
    "g_temp_df = g_temp_df.agg(np.mean)\n",
    "g_temp_df"
   ]
  },
  {
   "cell_type": "code",
   "execution_count": 17,
   "id": "robust-hunter",
   "metadata": {
    "ExecuteTime": {
     "end_time": "2022-06-19T18:59:07.896582Z",
     "start_time": "2022-06-19T18:59:07.554497Z"
    }
   },
   "outputs": [
    {
     "data": {
      "image/png": "[encoded data removed]",
      "text/plain": [
       "<Figure size 720x720 with 4 Axes>"
      ]
     },
     "metadata": {
      "needs_background": "light"
     },
     "output_type": "display_data"
    }
   ],
   "source": [
    "# result_mean vs samples for each dim\n",
    "\n",
    "fig = plt.figure(figsize=(10,10))\n",
    "\n",
    "for i, ndims in enumerate(ndims_lst):\n",
    "    plot_data = temp_df[temp_df.ndims == ndims].groupby('neval')['result_mean'].apply(lambda x: x.tolist())\n",
    "    ax = fig.add_subplot(2,2,i+1)\n",
    "    ax.axhline(y=target_dict[f'{prefix}_d{ndims}'], linestyle=':')\n",
    "    ax.set_title(f'D = {ndims}')\n",
    "    if i > 1:\n",
    "        ax.set_xlabel('N')\n",
    "    if i % 2 == 0:\n",
    "        ax.set_ylabel('Mean')\n",
    "    ax.boxplot(plot_data, labels=['1e4', '1e5', '1e6', '1e7'], showfliers=False)"
   ]
  },
  {
   "cell_type": "code",
   "execution_count": 18,
   "id": "widespread-timer",
   "metadata": {
    "ExecuteTime": {
     "end_time": "2022-06-19T18:59:13.086706Z",
     "start_time": "2022-06-19T18:59:13.082717Z"
    }
   },
   "outputs": [],
   "source": [
    "# fig.savefig('result/02_NaiveTensorflowEager/f1_uniform_mean_new.png')"
   ]
  },
  {
   "cell_type": "code",
   "execution_count": 38,
   "id": "pressed-exemption",
   "metadata": {
    "ExecuteTime": {
     "end_time": "2022-06-09T09:30:28.467915Z",
     "start_time": "2022-06-09T09:30:28.131814Z"
    }
   },
   "outputs": [
    {
     "data": {
      "image/png": "[encoded data removed]",
      "text/plain": [
       "<Figure size 720x720 with 4 Axes>"
      ]
     },
     "metadata": {
      "needs_background": "light"
     },
     "output_type": "display_data"
    }
   ],
   "source": [
    "# sdev vs samples for each dim\n",
    "\n",
    "fig = plt.figure(figsize=(10,10))\n",
    "\n",
    "for i, ndims in enumerate(ndims_lst):\n",
    "    plot_data = temp_df[temp_df.ndims == ndims].groupby('neval')['result_sdev'].apply(lambda x: x.tolist())\n",
    "    ax = fig.add_subplot(2,2,i+1)\n",
    "    ax.axhline(y=0, linestyle=':')\n",
    "    ax.set_title(f'D = {ndims}')\n",
    "    if i > 1:\n",
    "        ax.set_xlabel('N')\n",
    "    if i % 2 == 0:\n",
    "        ax.set_ylabel('Std. Error')\n",
    "    ax.boxplot(plot_data, labels=['1e4', '1e5', '1e6', '1e7'], showfliers=False)"
   ]
  },
  {
   "cell_type": "code",
   "execution_count": 19,
   "id": "focal-buddy",
   "metadata": {
    "ExecuteTime": {
     "end_time": "2022-06-19T18:59:16.614275Z",
     "start_time": "2022-06-19T18:59:16.611284Z"
    }
   },
   "outputs": [],
   "source": [
    "# fig.savefig('result/02_NaiveTensorflowEager/f1_uniform_error_new.png')"
   ]
  },
  {
   "cell_type": "code",
   "execution_count": 20,
   "id": "introductory-brooks",
   "metadata": {
    "ExecuteTime": {
     "end_time": "2022-06-19T18:59:18.071379Z",
     "start_time": "2022-06-19T18:59:17.730291Z"
    }
   },
   "outputs": [
    {
     "data": {
      "image/png": "[encoded data removed]",
      "text/plain": [
       "<Figure size 1440x288 with 4 Axes>"
      ]
     },
     "metadata": {
      "needs_background": "light"
     },
     "output_type": "display_data"
    }
   ],
   "source": [
    "# eval_time_perc vs samples for each dim\n",
    "\n",
    "fig = plt.figure(figsize=(20,4))\n",
    "\n",
    "for i, ndims in enumerate(ndims_lst):\n",
    "    plot_data = temp_df[temp_df.ndims == ndims].groupby('neval')['eval_time_perc'].apply(lambda x: x.tolist())\n",
    "    ax = fig.add_subplot(1,len(ndims_lst),i+1)\n",
    "    ax.set_title(f'D = {ndims}')\n",
    "    ax.set_xlabel('N')\n",
    "    if i == 0:\n",
    "        ax.set_ylabel('Eval. time (perc.)')\n",
    "    ax.boxplot(plot_data, labels=['1e4', '1e5', '1e6', '1e7'], showfliers=None)"
   ]
  },
  {
   "cell_type": "code",
   "execution_count": 21,
   "id": "dynamic-chinese",
   "metadata": {
    "ExecuteTime": {
     "end_time": "2022-06-19T18:59:18.419448Z",
     "start_time": "2022-06-19T18:59:18.072376Z"
    }
   },
   "outputs": [
    {
     "data": {
      "image/png": "[encoded data removed]",
      "text/plain": [
       "<Figure size 1440x288 with 4 Axes>"
      ]
     },
     "metadata": {
      "needs_background": "light"
     },
     "output_type": "display_data"
    }
   ],
   "source": [
    "# result_gen_time vs samples for each dim\n",
    "\n",
    "fig = plt.figure(figsize=(20,4))\n",
    "\n",
    "for i, ndims in enumerate(ndims_lst):\n",
    "    plot_data = temp_df[temp_df.ndims == ndims].groupby('neval')['result_gen_time'].apply(lambda x: x.tolist())\n",
    "    ax = fig.add_subplot(1,len(ndims_lst),i+1)\n",
    "    ax.set_title(f'D = {ndims}')\n",
    "    ax.set_xlabel('N')\n",
    "    if i == 0:\n",
    "        ax.set_ylabel('Gen. time')\n",
    "    ax.boxplot(plot_data, labels=['1e4', '1e5', '1e6', '1e7'], showfliers=None)"
   ]
  },
  {
   "cell_type": "code",
   "execution_count": 22,
   "id": "ancient-highway",
   "metadata": {
    "ExecuteTime": {
     "end_time": "2022-06-19T18:59:18.995907Z",
     "start_time": "2022-06-19T18:59:18.658808Z"
    }
   },
   "outputs": [
    {
     "data": {
      "image/png": "[encoded data removed]",
      "text/plain": [
       "<Figure size 1440x288 with 4 Axes>"
      ]
     },
     "metadata": {
      "needs_background": "light"
     },
     "output_type": "display_data"
    }
   ],
   "source": [
    "# result_eval_time vs samples for each dim\n",
    "\n",
    "fig = plt.figure(figsize=(20,4))\n",
    "\n",
    "for i, ndims in enumerate(ndims_lst):\n",
    "    plot_data = temp_df[temp_df.ndims == ndims].groupby('neval')['result_eval_time'].apply(lambda x: x.tolist())\n",
    "    ax = fig.add_subplot(1,len(ndims_lst),i+1)\n",
    "    ax.set_title(f'D = {ndims}')\n",
    "    ax.set_xlabel('N')\n",
    "    if i == 0:\n",
    "        ax.set_ylabel('Eval. time')\n",
    "    ax.boxplot(plot_data, labels=['1e4', '1e5', '1e6', '1e7'], showfliers=None)"
   ]
  },
  {
   "cell_type": "code",
   "execution_count": 23,
   "id": "intermediate-diamond",
   "metadata": {
    "ExecuteTime": {
     "end_time": "2022-06-19T18:59:20.041112Z",
     "start_time": "2022-06-19T18:59:19.627219Z"
    }
   },
   "outputs": [
    {
     "data": {
      "image/png": "[encoded data removed]",
      "text/plain": [
       "<Figure size 1440x288 with 4 Axes>"
      ]
     },
     "metadata": {
      "needs_background": "light"
     },
     "output_type": "display_data"
    }
   ],
   "source": [
    "# total_time vs samples for each dim\n",
    "\n",
    "fig = plt.figure(figsize=(20,4))\n",
    "\n",
    "for i, ndims in enumerate(ndims_lst):\n",
    "    plot_data = temp_df[temp_df.ndims == ndims].copy()\n",
    "    plot_data['total_time'] = plot_data.result_eval_time + plot_data.result_gen_time\n",
    "    plot_data = plot_data.groupby('neval')['total_time'].apply(lambda x: x.tolist())\n",
    "    ax = fig.add_subplot(1,len(ndims_lst),i+1)\n",
    "    ax.set_title(f'D = {ndims}')\n",
    "    ax.set_xlabel('N')\n",
    "    if i == 0:\n",
    "        ax.set_ylabel('Total time')\n",
    "    ax.boxplot(plot_data, labels=['1e4', '1e5', '1e6', '1e7'], showfliers=None)"
   ]
  },
  {
   "cell_type": "code",
   "execution_count": 24,
   "id": "advisory-handy",
   "metadata": {
    "ExecuteTime": {
     "end_time": "2022-06-19T18:59:20.634526Z",
     "start_time": "2022-06-19T18:59:20.530803Z"
    }
   },
   "outputs": [
    {
     "data": {
      "image/png": "[encoded data removed]",
      "text/plain": [
       "<Figure size 288x288 with 1 Axes>"
      ]
     },
     "metadata": {
      "needs_background": "light"
     },
     "output_type": "display_data"
    }
   ],
   "source": [
    "# total_time (D8) vs samples\n",
    "\n",
    "fig = plt.figure(figsize=(4,4))\n",
    "ax = fig.add_axes([0,0,1,1])\n",
    "\n",
    "plot_data = temp_df[temp_df.ndims == 8].copy()\n",
    "plot_data['total_time'] = plot_data.result_eval_time + plot_data.result_gen_time\n",
    "plot_data = plot_data.groupby('neval')['total_time'].apply(lambda x: x.tolist())\n",
    "ax.set_title(f'D = {ndims}')\n",
    "ax.set_xlabel('N')\n",
    "ax.set_ylabel('Time (s)')\n",
    "# ax.boxplot(plot_data, labels=['1e4', '1e5', '1e6', '1e7'], showfliers=None);\n",
    "locs = ax.get_xticks()\n",
    "ax.set_xticks(ax.get_xticks(), labels=['', '1e4', '1e5', '1e6', '1e7', ''])\n",
    "ax.plot(ax.get_xticks()[1:-1], plot_data.apply(np.mean), linestyle='-', alpha=.9, label='total time')\n",
    "\n",
    "plot_data = temp_df[temp_df.ndims == 8].copy()\n",
    "plot_data['total_time'] = plot_data.result_eval_time + plot_data.result_gen_time\n",
    "plot_data = plot_data.groupby('neval')['result_gen_time'].apply(lambda x: x.tolist())\n",
    "ax.plot(ax.get_xticks()[1:-1], plot_data.apply(np.mean), linestyle='dashed', alpha=.9, label='gen time')\n",
    "\n",
    "plot_data = temp_df[temp_df.ndims == 8].copy()\n",
    "plot_data['total_time'] = plot_data.result_eval_time + plot_data.result_gen_time\n",
    "plot_data = plot_data.groupby('neval')['result_eval_time'].apply(lambda x: x.tolist())\n",
    "ax.plot(ax.get_xticks()[1:-1], plot_data.apply(np.mean), linestyle='dashdot', alpha=.9, label='eval time')\n",
    "\n",
    "ax.legend()\n",
    "ax.grid(axis='y')"
   ]
  },
  {
   "cell_type": "code",
   "execution_count": 45,
   "id": "stunning-steps",
   "metadata": {
    "ExecuteTime": {
     "end_time": "2022-06-09T09:30:30.127475Z",
     "start_time": "2022-06-09T09:30:30.123486Z"
    }
   },
   "outputs": [],
   "source": [
    "# fig.savefig('result/02_NaiveTensorflowEager/f1_uniform_time_new.png', bbox_inches='tight')"
   ]
  },
  {
   "cell_type": "markdown",
   "id": "liable-chair",
   "metadata": {},
   "source": [
    "#### Time"
   ]
  },
  {
   "cell_type": "code",
   "execution_count": 4,
   "id": "coastal-edmonton",
   "metadata": {
    "ExecuteTime": {
     "end_time": "2022-06-19T19:19:30.095433Z",
     "start_time": "2022-06-19T19:19:30.083465Z"
    }
   },
   "outputs": [],
   "source": [
    "time_df = temp_df[temp_df.neval == int(1e7)].groupby('ndims').agg([np.mean, np.std])"
   ]
  },
  {
   "cell_type": "code",
   "execution_count": 5,
   "id": "accepting-honduras",
   "metadata": {
    "ExecuteTime": {
     "end_time": "2022-06-19T19:19:30.427545Z",
     "start_time": "2022-06-19T19:19:30.407598Z"
    }
   },
   "outputs": [
    {
     "data": {
      "text/html": [
       "<div>\n",
       "<style scoped>\n",
       "    .dataframe tbody tr th:only-of-type {\n",
       "        vertical-align: middle;\n",
       "    }\n",
       "\n",
       "    .dataframe tbody tr th {\n",
       "        vertical-align: top;\n",
       "    }\n",
       "\n",
       "    .dataframe thead tr th {\n",
       "        text-align: left;\n",
       "    }\n",
       "\n",
       "    .dataframe thead tr:last-of-type th {\n",
       "        text-align: right;\n",
       "    }\n",
       "</style>\n",
       "<table border=\"1\" class=\"dataframe\">\n",
       "  <thead>\n",
       "    <tr>\n",
       "      <th></th>\n",
       "      <th colspan=\"2\" halign=\"left\">neval</th>\n",
       "      <th colspan=\"2\" halign=\"left\">result_mean</th>\n",
       "      <th colspan=\"2\" halign=\"left\">result_sdev</th>\n",
       "      <th colspan=\"2\" halign=\"left\">result_gen_time</th>\n",
       "      <th colspan=\"2\" halign=\"left\">result_eval_time</th>\n",
       "      <th colspan=\"2\" halign=\"left\">run_num</th>\n",
       "      <th colspan=\"2\" halign=\"left\">eval_time_perc</th>\n",
       "      <th colspan=\"2\" halign=\"left\">total_time</th>\n",
       "    </tr>\n",
       "    <tr>\n",
       "      <th></th>\n",
       "      <th>mean</th>\n",
       "      <th>std</th>\n",
       "      <th>mean</th>\n",
       "      <th>std</th>\n",
       "      <th>mean</th>\n",
       "      <th>std</th>\n",
       "      <th>mean</th>\n",
       "      <th>std</th>\n",
       "      <th>mean</th>\n",
       "      <th>std</th>\n",
       "      <th>mean</th>\n",
       "      <th>std</th>\n",
       "      <th>mean</th>\n",
       "      <th>std</th>\n",
       "      <th>mean</th>\n",
       "      <th>std</th>\n",
       "    </tr>\n",
       "    <tr>\n",
       "      <th>ndims</th>\n",
       "      <th></th>\n",
       "      <th></th>\n",
       "      <th></th>\n",
       "      <th></th>\n",
       "      <th></th>\n",
       "      <th></th>\n",
       "      <th></th>\n",
       "      <th></th>\n",
       "      <th></th>\n",
       "      <th></th>\n",
       "      <th></th>\n",
       "      <th></th>\n",
       "      <th></th>\n",
       "      <th></th>\n",
       "      <th></th>\n",
       "      <th></th>\n",
       "    </tr>\n",
       "  </thead>\n",
       "  <tbody>\n",
       "    <tr>\n",
       "      <th>2</th>\n",
       "      <td>10000000.0</td>\n",
       "      <td>0.0</td>\n",
       "      <td>9.993910e-01</td>\n",
       "      <td>1.106713e-02</td>\n",
       "      <td>8.917043e-03</td>\n",
       "      <td>6.870129e-05</td>\n",
       "      <td>0.141421</td>\n",
       "      <td>0.007158</td>\n",
       "      <td>0.300696</td>\n",
       "      <td>0.007526</td>\n",
       "      <td>5.5</td>\n",
       "      <td>3.02765</td>\n",
       "      <td>0.680</td>\n",
       "      <td>0.014907</td>\n",
       "      <td>0.442118</td>\n",
       "      <td>0.006863</td>\n",
       "    </tr>\n",
       "    <tr>\n",
       "      <th>4</th>\n",
       "      <td>10000000.0</td>\n",
       "      <td>0.0</td>\n",
       "      <td>1.013788e+00</td>\n",
       "      <td>3.060478e-01</td>\n",
       "      <td>2.447881e-01</td>\n",
       "      <td>6.335585e-02</td>\n",
       "      <td>0.276161</td>\n",
       "      <td>0.007075</td>\n",
       "      <td>0.448202</td>\n",
       "      <td>0.008254</td>\n",
       "      <td>5.5</td>\n",
       "      <td>3.02765</td>\n",
       "      <td>0.619</td>\n",
       "      <td>0.008756</td>\n",
       "      <td>0.724363</td>\n",
       "      <td>0.009427</td>\n",
       "    </tr>\n",
       "    <tr>\n",
       "      <th>6</th>\n",
       "      <td>10000000.0</td>\n",
       "      <td>0.0</td>\n",
       "      <td>5.138880e-01</td>\n",
       "      <td>1.264563e+00</td>\n",
       "      <td>5.096549e-01</td>\n",
       "      <td>1.264122e+00</td>\n",
       "      <td>0.412397</td>\n",
       "      <td>0.008761</td>\n",
       "      <td>0.588128</td>\n",
       "      <td>0.004887</td>\n",
       "      <td>5.5</td>\n",
       "      <td>3.02765</td>\n",
       "      <td>0.588</td>\n",
       "      <td>0.004216</td>\n",
       "      <td>1.000525</td>\n",
       "      <td>0.009971</td>\n",
       "    </tr>\n",
       "    <tr>\n",
       "      <th>8</th>\n",
       "      <td>10000000.0</td>\n",
       "      <td>0.0</td>\n",
       "      <td>1.492313e-09</td>\n",
       "      <td>4.718897e-09</td>\n",
       "      <td>1.492313e-09</td>\n",
       "      <td>4.718897e-09</td>\n",
       "      <td>0.547636</td>\n",
       "      <td>0.006739</td>\n",
       "      <td>0.742415</td>\n",
       "      <td>0.010557</td>\n",
       "      <td>5.5</td>\n",
       "      <td>3.02765</td>\n",
       "      <td>0.577</td>\n",
       "      <td>0.006749</td>\n",
       "      <td>1.290051</td>\n",
       "      <td>0.011383</td>\n",
       "    </tr>\n",
       "  </tbody>\n",
       "</table>\n",
       "</div>"
      ],
      "text/plain": [
       "            neval        result_mean                 result_sdev  \\\n",
       "             mean  std          mean           std          mean   \n",
       "ndims                                                              \n",
       "2      10000000.0  0.0  9.993910e-01  1.106713e-02  8.917043e-03   \n",
       "4      10000000.0  0.0  1.013788e+00  3.060478e-01  2.447881e-01   \n",
       "6      10000000.0  0.0  5.138880e-01  1.264563e+00  5.096549e-01   \n",
       "8      10000000.0  0.0  1.492313e-09  4.718897e-09  1.492313e-09   \n",
       "\n",
       "                    result_gen_time           result_eval_time            \\\n",
       "                std            mean       std             mean       std   \n",
       "ndims                                                                      \n",
       "2      6.870129e-05        0.141421  0.007158         0.300696  0.007526   \n",
       "4      6.335585e-02        0.276161  0.007075         0.448202  0.008254   \n",
       "6      1.264122e+00        0.412397  0.008761         0.588128  0.004887   \n",
       "8      4.718897e-09        0.547636  0.006739         0.742415  0.010557   \n",
       "\n",
       "      run_num          eval_time_perc           total_time            \n",
       "         mean      std           mean       std       mean       std  \n",
       "ndims                                                                 \n",
       "2         5.5  3.02765          0.680  0.014907   0.442118  0.006863  \n",
       "4         5.5  3.02765          0.619  0.008756   0.724363  0.009427  \n",
       "6         5.5  3.02765          0.588  0.004216   1.000525  0.009971  \n",
       "8         5.5  3.02765          0.577  0.006749   1.290051  0.011383  "
      ]
     },
     "execution_count": 5,
     "metadata": {},
     "output_type": "execute_result"
    }
   ],
   "source": [
    "time_df"
   ]
  },
  {
   "cell_type": "code",
   "execution_count": 6,
   "id": "indoor-warner",
   "metadata": {
    "ExecuteTime": {
     "end_time": "2022-06-19T19:19:36.606026Z",
     "start_time": "2022-06-19T19:19:36.595056Z"
    }
   },
   "outputs": [
    {
     "data": {
      "text/html": [
       "<div>\n",
       "<style scoped>\n",
       "    .dataframe tbody tr th:only-of-type {\n",
       "        vertical-align: middle;\n",
       "    }\n",
       "\n",
       "    .dataframe tbody tr th {\n",
       "        vertical-align: top;\n",
       "    }\n",
       "\n",
       "    .dataframe thead tr th {\n",
       "        text-align: left;\n",
       "    }\n",
       "\n",
       "    .dataframe thead tr:last-of-type th {\n",
       "        text-align: right;\n",
       "    }\n",
       "</style>\n",
       "<table border=\"1\" class=\"dataframe\">\n",
       "  <thead>\n",
       "    <tr>\n",
       "      <th></th>\n",
       "      <th colspan=\"2\" halign=\"left\">result_gen_time</th>\n",
       "      <th colspan=\"2\" halign=\"left\">result_eval_time</th>\n",
       "      <th colspan=\"2\" halign=\"left\">total_time</th>\n",
       "    </tr>\n",
       "    <tr>\n",
       "      <th></th>\n",
       "      <th>mean</th>\n",
       "      <th>std</th>\n",
       "      <th>mean</th>\n",
       "      <th>std</th>\n",
       "      <th>mean</th>\n",
       "      <th>std</th>\n",
       "    </tr>\n",
       "    <tr>\n",
       "      <th>ndims</th>\n",
       "      <th></th>\n",
       "      <th></th>\n",
       "      <th></th>\n",
       "      <th></th>\n",
       "      <th></th>\n",
       "      <th></th>\n",
       "    </tr>\n",
       "  </thead>\n",
       "  <tbody>\n",
       "    <tr>\n",
       "      <th>2</th>\n",
       "      <td>0.141421</td>\n",
       "      <td>0.007158</td>\n",
       "      <td>0.300696</td>\n",
       "      <td>0.007526</td>\n",
       "      <td>0.442118</td>\n",
       "      <td>0.006863</td>\n",
       "    </tr>\n",
       "    <tr>\n",
       "      <th>4</th>\n",
       "      <td>0.276161</td>\n",
       "      <td>0.007075</td>\n",
       "      <td>0.448202</td>\n",
       "      <td>0.008254</td>\n",
       "      <td>0.724363</td>\n",
       "      <td>0.009427</td>\n",
       "    </tr>\n",
       "    <tr>\n",
       "      <th>6</th>\n",
       "      <td>0.412397</td>\n",
       "      <td>0.008761</td>\n",
       "      <td>0.588128</td>\n",
       "      <td>0.004887</td>\n",
       "      <td>1.000525</td>\n",
       "      <td>0.009971</td>\n",
       "    </tr>\n",
       "    <tr>\n",
       "      <th>8</th>\n",
       "      <td>0.547636</td>\n",
       "      <td>0.006739</td>\n",
       "      <td>0.742415</td>\n",
       "      <td>0.010557</td>\n",
       "      <td>1.290051</td>\n",
       "      <td>0.011383</td>\n",
       "    </tr>\n",
       "  </tbody>\n",
       "</table>\n",
       "</div>"
      ],
      "text/plain": [
       "      result_gen_time           result_eval_time           total_time  \\\n",
       "                 mean       std             mean       std       mean   \n",
       "ndims                                                                   \n",
       "2            0.141421  0.007158         0.300696  0.007526   0.442118   \n",
       "4            0.276161  0.007075         0.448202  0.008254   0.724363   \n",
       "6            0.412397  0.008761         0.588128  0.004887   1.000525   \n",
       "8            0.547636  0.006739         0.742415  0.010557   1.290051   \n",
       "\n",
       "                 \n",
       "            std  \n",
       "ndims            \n",
       "2      0.006863  \n",
       "4      0.009427  \n",
       "6      0.009971  \n",
       "8      0.011383  "
      ]
     },
     "execution_count": 6,
     "metadata": {},
     "output_type": "execute_result"
    }
   ],
   "source": [
    "time_df[['result_gen_time', 'result_eval_time', 'total_time']]"
   ]
  },
  {
   "cell_type": "code",
   "execution_count": 28,
   "id": "under-helena",
   "metadata": {
    "ExecuteTime": {
     "end_time": "2022-06-19T18:59:43.808568Z",
     "start_time": "2022-06-19T18:59:43.802583Z"
    }
   },
   "outputs": [
    {
     "name": "stdout",
     "output_type": "stream",
     "text": [
      "0.141 ± 0.007\t& 0.301 ± 0.008\n",
      "0.276 ± 0.007\t& 0.448 ± 0.008\n",
      "0.412 ± 0.009\t& 0.588 ± 0.005\n",
      "0.548 ± 0.007\t& 0.742 ± 0.011\n",
      "\n"
     ]
    }
   ],
   "source": [
    "def temp_foo(x4):\n",
    "    return x4[0] + ' ± ' + x4[1] + '\\t& ' + x4[2] + ' ± ' + x4[3] + '\\n'\n",
    "\n",
    "print(''.join([temp_foo(x.round(3).astype(str))\n",
    "       for x in time_df[['result_gen_time', 'result_eval_time']].values]))"
   ]
  },
  {
   "cell_type": "code",
   "execution_count": 50,
   "id": "desperate-essay",
   "metadata": {
    "ExecuteTime": {
     "end_time": "2022-06-09T10:11:45.114694Z",
     "start_time": "2022-06-09T10:11:45.108709Z"
    }
   },
   "outputs": [
    {
     "name": "stdout",
     "output_type": "stream",
     "text": [
      "0.142 ± 0.011\t& 0.306 ± 0.006\n",
      "0.273 ± 0.006\t& 0.449 ± 0.011\n",
      "0.405 ± 0.002\t& 0.598 ± 0.006\n",
      "0.538 ± 0.001\t& 0.741 ± 0.005\n",
      "\n"
     ]
    }
   ],
   "source": [
    "# old sigma\n",
    "\n",
    "# def temp_foo(x4):\n",
    "#     return x4[0] + ' ± ' + x4[1] + '\\t& ' + x4[2] + ' ± ' + x4[3] + '\\n'\n",
    "\n",
    "# print(''.join([temp_foo(x.round(3).astype(str))\n",
    "#        for x in time_df[['result_gen_time', 'result_eval_time']].values]))"
   ]
  },
  {
   "cell_type": "code",
   "execution_count": 51,
   "id": "anticipated-panel",
   "metadata": {
    "ExecuteTime": {
     "end_time": "2022-06-09T10:12:01.215618Z",
     "start_time": "2022-06-09T10:12:01.199661Z"
    }
   },
   "outputs": [
    {
     "name": "stderr",
     "output_type": "stream",
     "text": [
      "E:\\_MAGISTER_ACE\\Наука\\mc_integration\\mcenv\\lib\\site-packages\\ipykernel_launcher.py:2: SettingWithCopyWarning: \n",
      "A value is trying to be set on a copy of a slice from a DataFrame.\n",
      "Try using .loc[row_indexer,col_indexer] = value instead\n",
      "\n",
      "See the caveats in the documentation: https://pandas.pydata.org/pandas-docs/stable/user_guide/indexing.html#returning-a-view-versus-a-copy\n",
      "  \n",
      "E:\\_MAGISTER_ACE\\Наука\\mc_integration\\mcenv\\lib\\site-packages\\ipykernel_launcher.py:3: SettingWithCopyWarning: \n",
      "A value is trying to be set on a copy of a slice from a DataFrame.\n",
      "Try using .loc[row_indexer,col_indexer] = value instead\n",
      "\n",
      "See the caveats in the documentation: https://pandas.pydata.org/pandas-docs/stable/user_guide/indexing.html#returning-a-view-versus-a-copy\n",
      "  This is separate from the ipykernel package so we can avoid doing imports until\n"
     ]
    },
    {
     "data": {
      "text/html": [
       "<div>\n",
       "<style scoped>\n",
       "    .dataframe tbody tr th:only-of-type {\n",
       "        vertical-align: middle;\n",
       "    }\n",
       "\n",
       "    .dataframe tbody tr th {\n",
       "        vertical-align: top;\n",
       "    }\n",
       "\n",
       "    .dataframe thead tr th {\n",
       "        text-align: left;\n",
       "    }\n",
       "\n",
       "    .dataframe thead tr:last-of-type th {\n",
       "        text-align: right;\n",
       "    }\n",
       "</style>\n",
       "<table border=\"1\" class=\"dataframe\">\n",
       "  <thead>\n",
       "    <tr>\n",
       "      <th></th>\n",
       "      <th colspan=\"2\" halign=\"left\">result_gen_time</th>\n",
       "      <th colspan=\"2\" halign=\"left\">result_eval_time</th>\n",
       "      <th>total_mean</th>\n",
       "      <th>total_std</th>\n",
       "    </tr>\n",
       "    <tr>\n",
       "      <th></th>\n",
       "      <th>mean</th>\n",
       "      <th>std</th>\n",
       "      <th>mean</th>\n",
       "      <th>std</th>\n",
       "      <th></th>\n",
       "      <th></th>\n",
       "    </tr>\n",
       "    <tr>\n",
       "      <th>ndims</th>\n",
       "      <th></th>\n",
       "      <th></th>\n",
       "      <th></th>\n",
       "      <th></th>\n",
       "      <th></th>\n",
       "      <th></th>\n",
       "    </tr>\n",
       "  </thead>\n",
       "  <tbody>\n",
       "    <tr>\n",
       "      <th>2</th>\n",
       "      <td>0.141920</td>\n",
       "      <td>0.010566</td>\n",
       "      <td>0.306081</td>\n",
       "      <td>0.006488</td>\n",
       "      <td>0.448001</td>\n",
       "      <td>0.012399</td>\n",
       "    </tr>\n",
       "    <tr>\n",
       "      <th>4</th>\n",
       "      <td>0.273069</td>\n",
       "      <td>0.006477</td>\n",
       "      <td>0.448800</td>\n",
       "      <td>0.010617</td>\n",
       "      <td>0.721869</td>\n",
       "      <td>0.012437</td>\n",
       "    </tr>\n",
       "    <tr>\n",
       "      <th>6</th>\n",
       "      <td>0.405315</td>\n",
       "      <td>0.002497</td>\n",
       "      <td>0.598299</td>\n",
       "      <td>0.005512</td>\n",
       "      <td>1.003615</td>\n",
       "      <td>0.006051</td>\n",
       "    </tr>\n",
       "    <tr>\n",
       "      <th>8</th>\n",
       "      <td>0.538459</td>\n",
       "      <td>0.001194</td>\n",
       "      <td>0.741417</td>\n",
       "      <td>0.005176</td>\n",
       "      <td>1.279876</td>\n",
       "      <td>0.005312</td>\n",
       "    </tr>\n",
       "  </tbody>\n",
       "</table>\n",
       "</div>"
      ],
      "text/plain": [
       "      result_gen_time           result_eval_time           total_mean  \\\n",
       "                 mean       std             mean       std              \n",
       "ndims                                                                   \n",
       "2            0.141920  0.010566         0.306081  0.006488   0.448001   \n",
       "4            0.273069  0.006477         0.448800  0.010617   0.721869   \n",
       "6            0.405315  0.002497         0.598299  0.005512   1.003615   \n",
       "8            0.538459  0.001194         0.741417  0.005176   1.279876   \n",
       "\n",
       "      total_std  \n",
       "                 \n",
       "ndims            \n",
       "2      0.012399  \n",
       "4      0.012437  \n",
       "6      0.006051  \n",
       "8      0.005312  "
      ]
     },
     "execution_count": 51,
     "metadata": {},
     "output_type": "execute_result"
    }
   ],
   "source": [
    "t = time_df[['result_gen_time', 'result_eval_time']]\n",
    "t['total_mean'] = time_df['result_gen_time']['mean'] + time_df['result_eval_time']['mean']\n",
    "t['total_std'] = (time_df['result_gen_time']['std']**2 + time_df['result_eval_time']['std']**2)**.5\n",
    "\n",
    "t"
   ]
  },
  {
   "cell_type": "code",
   "execution_count": 52,
   "id": "assured-airplane",
   "metadata": {
    "ExecuteTime": {
     "end_time": "2022-06-09T10:12:02.118204Z",
     "start_time": "2022-06-09T10:12:02.112220Z"
    }
   },
   "outputs": [
    {
     "name": "stdout",
     "output_type": "stream",
     "text": [
      "0.448 ± 0.012\n",
      "0.722 ± 0.012\n",
      "1.004 ± 0.006\n",
      "1.28 ± 0.005\n",
      "\n"
     ]
    }
   ],
   "source": [
    "def temp_print(xx):\n",
    "    temp_foo = lambda x4: x4[0] + ' ± ' + x4[1] + '\\n'\n",
    "    print(''.join([temp_foo(x.round(3).astype(str))\n",
    "           for x in xx.values]))\n",
    "    \n",
    "temp_print(t[['total_mean', 'total_std']])"
   ]
  },
  {
   "cell_type": "code",
   "execution_count": 38,
   "id": "organizational-affiliation",
   "metadata": {
    "ExecuteTime": {
     "end_time": "2022-06-09T07:02:08.077172Z",
     "start_time": "2022-06-09T07:02:08.062212Z"
    }
   },
   "outputs": [
    {
     "data": {
      "text/html": [
       "<div>\n",
       "<style scoped>\n",
       "    .dataframe tbody tr th:only-of-type {\n",
       "        vertical-align: middle;\n",
       "    }\n",
       "\n",
       "    .dataframe tbody tr th {\n",
       "        vertical-align: top;\n",
       "    }\n",
       "\n",
       "    .dataframe thead tr th {\n",
       "        text-align: left;\n",
       "    }\n",
       "\n",
       "    .dataframe thead tr:last-of-type th {\n",
       "        text-align: right;\n",
       "    }\n",
       "</style>\n",
       "<table border=\"1\" class=\"dataframe\">\n",
       "  <thead>\n",
       "    <tr>\n",
       "      <th></th>\n",
       "      <th colspan=\"2\" halign=\"left\">neval</th>\n",
       "      <th colspan=\"2\" halign=\"left\">result_mean</th>\n",
       "      <th colspan=\"2\" halign=\"left\">result_sdev</th>\n",
       "      <th colspan=\"2\" halign=\"left\">result_gen_time</th>\n",
       "      <th colspan=\"2\" halign=\"left\">result_eval_time</th>\n",
       "      <th colspan=\"2\" halign=\"left\">run_num</th>\n",
       "      <th colspan=\"2\" halign=\"left\">eval_time_perc</th>\n",
       "    </tr>\n",
       "    <tr>\n",
       "      <th></th>\n",
       "      <th>mean</th>\n",
       "      <th>std</th>\n",
       "      <th>mean</th>\n",
       "      <th>std</th>\n",
       "      <th>mean</th>\n",
       "      <th>std</th>\n",
       "      <th>mean</th>\n",
       "      <th>std</th>\n",
       "      <th>mean</th>\n",
       "      <th>std</th>\n",
       "      <th>mean</th>\n",
       "      <th>std</th>\n",
       "      <th>mean</th>\n",
       "      <th>std</th>\n",
       "    </tr>\n",
       "    <tr>\n",
       "      <th>ndims</th>\n",
       "      <th></th>\n",
       "      <th></th>\n",
       "      <th></th>\n",
       "      <th></th>\n",
       "      <th></th>\n",
       "      <th></th>\n",
       "      <th></th>\n",
       "      <th></th>\n",
       "      <th></th>\n",
       "      <th></th>\n",
       "      <th></th>\n",
       "      <th></th>\n",
       "      <th></th>\n",
       "      <th></th>\n",
       "    </tr>\n",
       "  </thead>\n",
       "  <tbody>\n",
       "    <tr>\n",
       "      <th>2</th>\n",
       "      <td>10000000.0</td>\n",
       "      <td>0.0</td>\n",
       "      <td>0.999689</td>\n",
       "      <td>0.001274</td>\n",
       "      <td>0.001755</td>\n",
       "      <td>0.000001</td>\n",
       "      <td>0.131648</td>\n",
       "      <td>0.000997</td>\n",
       "      <td>0.408574</td>\n",
       "      <td>0.001152</td>\n",
       "      <td>2.0</td>\n",
       "      <td>1.0</td>\n",
       "      <td>0.760000</td>\n",
       "      <td>0.000000</td>\n",
       "    </tr>\n",
       "    <tr>\n",
       "      <th>4</th>\n",
       "      <td>10000000.0</td>\n",
       "      <td>0.0</td>\n",
       "      <td>1.002901</td>\n",
       "      <td>0.002062</td>\n",
       "      <td>0.010090</td>\n",
       "      <td>0.000050</td>\n",
       "      <td>0.263966</td>\n",
       "      <td>0.000567</td>\n",
       "      <td>0.519272</td>\n",
       "      <td>0.004704</td>\n",
       "      <td>2.0</td>\n",
       "      <td>1.0</td>\n",
       "      <td>0.663333</td>\n",
       "      <td>0.005774</td>\n",
       "    </tr>\n",
       "    <tr>\n",
       "      <th>6</th>\n",
       "      <td>10000000.0</td>\n",
       "      <td>0.0</td>\n",
       "      <td>1.032724</td>\n",
       "      <td>0.094742</td>\n",
       "      <td>0.061146</td>\n",
       "      <td>0.006931</td>\n",
       "      <td>0.396606</td>\n",
       "      <td>0.001152</td>\n",
       "      <td>0.629982</td>\n",
       "      <td>0.004498</td>\n",
       "      <td>2.0</td>\n",
       "      <td>1.0</td>\n",
       "      <td>0.613333</td>\n",
       "      <td>0.005774</td>\n",
       "    </tr>\n",
       "    <tr>\n",
       "      <th>8</th>\n",
       "      <td>10000000.0</td>\n",
       "      <td>0.0</td>\n",
       "      <td>1.037306</td>\n",
       "      <td>0.239534</td>\n",
       "      <td>0.291311</td>\n",
       "      <td>0.127133</td>\n",
       "      <td>0.529251</td>\n",
       "      <td>0.000576</td>\n",
       "      <td>0.725725</td>\n",
       "      <td>0.002303</td>\n",
       "      <td>2.0</td>\n",
       "      <td>1.0</td>\n",
       "      <td>0.580000</td>\n",
       "      <td>0.000000</td>\n",
       "    </tr>\n",
       "  </tbody>\n",
       "</table>\n",
       "</div>"
      ],
      "text/plain": [
       "            neval      result_mean           result_sdev            \\\n",
       "             mean  std        mean       std        mean       std   \n",
       "ndims                                                                \n",
       "2      10000000.0  0.0    0.999689  0.001274    0.001755  0.000001   \n",
       "4      10000000.0  0.0    1.002901  0.002062    0.010090  0.000050   \n",
       "6      10000000.0  0.0    1.032724  0.094742    0.061146  0.006931   \n",
       "8      10000000.0  0.0    1.037306  0.239534    0.291311  0.127133   \n",
       "\n",
       "      result_gen_time           result_eval_time           run_num       \\\n",
       "                 mean       std             mean       std    mean  std   \n",
       "ndims                                                                     \n",
       "2            0.131648  0.000997         0.408574  0.001152     2.0  1.0   \n",
       "4            0.263966  0.000567         0.519272  0.004704     2.0  1.0   \n",
       "6            0.396606  0.001152         0.629982  0.004498     2.0  1.0   \n",
       "8            0.529251  0.000576         0.725725  0.002303     2.0  1.0   \n",
       "\n",
       "      eval_time_perc            \n",
       "                mean       std  \n",
       "ndims                           \n",
       "2           0.760000  0.000000  \n",
       "4           0.663333  0.005774  \n",
       "6           0.613333  0.005774  \n",
       "8           0.580000  0.000000  "
      ]
     },
     "execution_count": 38,
     "metadata": {},
     "output_type": "execute_result"
    }
   ],
   "source": [
    "# results from numpy\n",
    "\n",
    "time_df"
   ]
  },
  {
   "cell_type": "code",
   "execution_count": 188,
   "id": "becoming-citation",
   "metadata": {
    "ExecuteTime": {
     "end_time": "2022-06-07T09:20:58.858706Z",
     "start_time": "2022-06-07T09:20:58.843747Z"
    }
   },
   "outputs": [
    {
     "data": {
      "text/html": [
       "<div>\n",
       "<style scoped>\n",
       "    .dataframe tbody tr th:only-of-type {\n",
       "        vertical-align: middle;\n",
       "    }\n",
       "\n",
       "    .dataframe tbody tr th {\n",
       "        vertical-align: top;\n",
       "    }\n",
       "\n",
       "    .dataframe thead tr th {\n",
       "        text-align: left;\n",
       "    }\n",
       "\n",
       "    .dataframe thead tr:last-of-type th {\n",
       "        text-align: right;\n",
       "    }\n",
       "</style>\n",
       "<table border=\"1\" class=\"dataframe\">\n",
       "  <thead>\n",
       "    <tr>\n",
       "      <th></th>\n",
       "      <th colspan=\"2\" halign=\"left\">neval</th>\n",
       "      <th colspan=\"2\" halign=\"left\">result_mean</th>\n",
       "      <th colspan=\"2\" halign=\"left\">result_sdev</th>\n",
       "      <th colspan=\"2\" halign=\"left\">result_gen_time</th>\n",
       "      <th colspan=\"2\" halign=\"left\">result_eval_time</th>\n",
       "      <th colspan=\"2\" halign=\"left\">run_num</th>\n",
       "      <th colspan=\"2\" halign=\"left\">eval_time_perc</th>\n",
       "    </tr>\n",
       "    <tr>\n",
       "      <th></th>\n",
       "      <th>mean</th>\n",
       "      <th>std</th>\n",
       "      <th>mean</th>\n",
       "      <th>std</th>\n",
       "      <th>mean</th>\n",
       "      <th>std</th>\n",
       "      <th>mean</th>\n",
       "      <th>std</th>\n",
       "      <th>mean</th>\n",
       "      <th>std</th>\n",
       "      <th>mean</th>\n",
       "      <th>std</th>\n",
       "      <th>mean</th>\n",
       "      <th>std</th>\n",
       "    </tr>\n",
       "    <tr>\n",
       "      <th>ndims</th>\n",
       "      <th></th>\n",
       "      <th></th>\n",
       "      <th></th>\n",
       "      <th></th>\n",
       "      <th></th>\n",
       "      <th></th>\n",
       "      <th></th>\n",
       "      <th></th>\n",
       "      <th></th>\n",
       "      <th></th>\n",
       "      <th></th>\n",
       "      <th></th>\n",
       "      <th></th>\n",
       "      <th></th>\n",
       "    </tr>\n",
       "  </thead>\n",
       "  <tbody>\n",
       "    <tr>\n",
       "      <th>2</th>\n",
       "      <td>10000000.0</td>\n",
       "      <td>0.0</td>\n",
       "      <td>1.001198</td>\n",
       "      <td>0.001652</td>\n",
       "      <td>0.001757</td>\n",
       "      <td>0.000002</td>\n",
       "      <td>8.856975</td>\n",
       "      <td>0.294607</td>\n",
       "      <td>28.168985</td>\n",
       "      <td>0.115902</td>\n",
       "      <td>2.0</td>\n",
       "      <td>1.0</td>\n",
       "      <td>0.756667</td>\n",
       "      <td>0.005774</td>\n",
       "    </tr>\n",
       "    <tr>\n",
       "      <th>4</th>\n",
       "      <td>10000000.0</td>\n",
       "      <td>0.0</td>\n",
       "      <td>0.991086</td>\n",
       "      <td>0.005009</td>\n",
       "      <td>0.009955</td>\n",
       "      <td>0.000051</td>\n",
       "      <td>11.174443</td>\n",
       "      <td>0.163424</td>\n",
       "      <td>31.525340</td>\n",
       "      <td>0.047521</td>\n",
       "      <td>2.0</td>\n",
       "      <td>1.0</td>\n",
       "      <td>0.740000</td>\n",
       "      <td>0.000000</td>\n",
       "    </tr>\n",
       "    <tr>\n",
       "      <th>6</th>\n",
       "      <td>10000000.0</td>\n",
       "      <td>0.0</td>\n",
       "      <td>0.964469</td>\n",
       "      <td>0.010881</td>\n",
       "      <td>0.054550</td>\n",
       "      <td>0.000439</td>\n",
       "      <td>14.951008</td>\n",
       "      <td>0.395227</td>\n",
       "      <td>34.955499</td>\n",
       "      <td>0.124870</td>\n",
       "      <td>2.0</td>\n",
       "      <td>1.0</td>\n",
       "      <td>0.696667</td>\n",
       "      <td>0.005774</td>\n",
       "    </tr>\n",
       "    <tr>\n",
       "      <th>8</th>\n",
       "      <td>10000000.0</td>\n",
       "      <td>0.0</td>\n",
       "      <td>0.994901</td>\n",
       "      <td>0.164678</td>\n",
       "      <td>0.348377</td>\n",
       "      <td>0.041304</td>\n",
       "      <td>17.394804</td>\n",
       "      <td>0.524048</td>\n",
       "      <td>38.047893</td>\n",
       "      <td>0.084381</td>\n",
       "      <td>2.0</td>\n",
       "      <td>1.0</td>\n",
       "      <td>0.686667</td>\n",
       "      <td>0.005774</td>\n",
       "    </tr>\n",
       "  </tbody>\n",
       "</table>\n",
       "</div>"
      ],
      "text/plain": [
       "            neval      result_mean           result_sdev            \\\n",
       "             mean  std        mean       std        mean       std   \n",
       "ndims                                                                \n",
       "2      10000000.0  0.0    1.001198  0.001652    0.001757  0.000002   \n",
       "4      10000000.0  0.0    0.991086  0.005009    0.009955  0.000051   \n",
       "6      10000000.0  0.0    0.964469  0.010881    0.054550  0.000439   \n",
       "8      10000000.0  0.0    0.994901  0.164678    0.348377  0.041304   \n",
       "\n",
       "      result_gen_time           result_eval_time           run_num       \\\n",
       "                 mean       std             mean       std    mean  std   \n",
       "ndims                                                                     \n",
       "2            8.856975  0.294607        28.168985  0.115902     2.0  1.0   \n",
       "4           11.174443  0.163424        31.525340  0.047521     2.0  1.0   \n",
       "6           14.951008  0.395227        34.955499  0.124870     2.0  1.0   \n",
       "8           17.394804  0.524048        38.047893  0.084381     2.0  1.0   \n",
       "\n",
       "      eval_time_perc            \n",
       "                mean       std  \n",
       "ndims                           \n",
       "2           0.756667  0.005774  \n",
       "4           0.740000  0.000000  \n",
       "6           0.696667  0.005774  \n",
       "8           0.686667  0.005774  "
      ]
     },
     "execution_count": 188,
     "metadata": {},
     "output_type": "execute_result"
    }
   ],
   "source": [
    "# results from pure python\n",
    "\n",
    "time_df\n",
    "\n",
    "# result_sdev reaches {0.001757, 0.009955, 0.054550, 0.348377} on N = 1e7 samples"
   ]
  },
  {
   "cell_type": "code",
   "execution_count": null,
   "id": "coated-electric",
   "metadata": {},
   "outputs": [],
   "source": []
  }
 ],
 "metadata": {
  "kernelspec": {
   "display_name": "mcenv",
   "language": "python",
   "name": "mcenv"
  },
  "language_info": {
   "codemirror_mode": {
    "name": "ipython",
    "version": 3
   },
   "file_extension": ".py",
   "mimetype": "text/x-python",
   "name": "python",
   "nbconvert_exporter": "python",
   "pygments_lexer": "ipython3",
   "version": "3.7.9"
  },
  "toc": {
   "base_numbering": 1,
   "nav_menu": {},
   "number_sections": true,
   "sideBar": true,
   "skip_h1_title": false,
   "title_cell": "Table of Contents",
   "title_sidebar": "Contents",
   "toc_cell": false,
   "toc_position": {
    "height": "calc(100% - 180px)",
    "left": "10px",
    "top": "150px",
    "width": "374.389px"
   },
   "toc_section_display": true,
   "toc_window_display": true
  }
 },
 "nbformat": 4,
 "nbformat_minor": 5
}
